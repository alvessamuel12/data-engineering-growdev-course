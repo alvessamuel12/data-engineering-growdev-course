{
  "cells": [
    {
      "cell_type": "markdown",
      "metadata": {
        "id": "0v2DiJAgFzZ-"
      },
      "source": [
        "# Projeto 1\n",
        "\n",
        "Fonte dedados: https://rapidapi.com/mrngstar/api/instagram-scraper-api3\n",
        "\n",
        "Instagram: marcitocastro (482001976) - https://www.instagram.com/marcitocastro/\n",
        "\n",
        "- [x] fotografia do perfil dia a dia (1 request por dia)\n",
        "- [x] informações gerais sobre as ultimas 24 postagens (2 requests por dia)\n",
        "- [x] informações da ultima postagem (comentarios, Gerais do post) (17 requests por dia)"
      ]
    },
    {
      "cell_type": "markdown",
      "metadata": {
        "id": "XfPzPZYKGBA4"
      },
      "source": [
        "## Instalando dependencias"
      ]
    },
    {
      "cell_type": "code",
      "execution_count": 5,
      "metadata": {
        "colab": {
          "base_uri": "https://localhost:8080/"
        },
        "id": "3GLxaP1VIfb2",
        "outputId": "8c826b12-3103-4c64-811f-d000ab43effc"
      },
      "outputs": [
        {
          "output_type": "stream",
          "name": "stdout",
          "text": [
            "Requirement already satisfied: requests in /usr/local/lib/python3.10/dist-packages (2.32.3)\n",
            "Requirement already satisfied: charset-normalizer<4,>=2 in /usr/local/lib/python3.10/dist-packages (from requests) (3.3.2)\n",
            "Requirement already satisfied: idna<4,>=2.5 in /usr/local/lib/python3.10/dist-packages (from requests) (3.8)\n",
            "Requirement already satisfied: urllib3<3,>=1.21.1 in /usr/local/lib/python3.10/dist-packages (from requests) (2.0.7)\n",
            "Requirement already satisfied: certifi>=2017.4.17 in /usr/local/lib/python3.10/dist-packages (from requests) (2024.8.30)\n"
          ]
        }
      ],
      "source": [
        "!pip install requests"
      ]
    },
    {
      "cell_type": "code",
      "execution_count": 6,
      "metadata": {
        "colab": {
          "base_uri": "https://localhost:8080/"
        },
        "id": "OnBhWIN5TOHv",
        "outputId": "8165f72d-5aa4-4b07-8a78-93efe5ae18ec"
      },
      "outputs": [
        {
          "output_type": "stream",
          "name": "stdout",
          "text": [
            "Get:1 http://security.ubuntu.com/ubuntu jammy-security InRelease [129 kB]\n",
            "Get:2 https://cloud.r-project.org/bin/linux/ubuntu jammy-cran40/ InRelease [3,626 B]\n",
            "Hit:3 https://developer.download.nvidia.com/compute/cuda/repos/ubuntu2204/x86_64  InRelease\n",
            "Ign:4 https://r2u.stat.illinois.edu/ubuntu jammy InRelease\n",
            "Hit:5 http://archive.ubuntu.com/ubuntu jammy InRelease\n",
            "Get:6 https://r2u.stat.illinois.edu/ubuntu jammy Release [5,713 B]\n",
            "Get:7 https://r2u.stat.illinois.edu/ubuntu jammy Release.gpg [793 B]\n",
            "Get:8 http://archive.ubuntu.com/ubuntu jammy-updates InRelease [128 kB]\n",
            "Hit:9 https://ppa.launchpadcontent.net/deadsnakes/ppa/ubuntu jammy InRelease\n",
            "Get:10 http://security.ubuntu.com/ubuntu jammy-security/main amd64 Packages [2,267 kB]\n",
            "Hit:11 https://ppa.launchpadcontent.net/graphics-drivers/ppa/ubuntu jammy InRelease\n",
            "Hit:12 https://ppa.launchpadcontent.net/ubuntugis/ppa/ubuntu jammy InRelease\n",
            "Get:13 http://security.ubuntu.com/ubuntu jammy-security/universe amd64 Packages [1,150 kB]\n",
            "Get:14 http://archive.ubuntu.com/ubuntu jammy-backports InRelease [127 kB]\n",
            "Get:15 http://security.ubuntu.com/ubuntu jammy-security/restricted amd64 Packages [3,030 kB]\n",
            "Get:16 https://r2u.stat.illinois.edu/ubuntu jammy/main amd64 Packages [2,575 kB]\n",
            "Get:17 https://r2u.stat.illinois.edu/ubuntu jammy/main all Packages [8,310 kB]\n",
            "Get:18 http://archive.ubuntu.com/ubuntu jammy-updates/main amd64 Packages [2,541 kB]\n",
            "Get:19 http://archive.ubuntu.com/ubuntu jammy-updates/restricted amd64 Packages [3,108 kB]\n",
            "Get:20 http://archive.ubuntu.com/ubuntu jammy-updates/universe amd64 Packages [1,439 kB]\n",
            "Get:21 http://archive.ubuntu.com/ubuntu jammy-backports/universe amd64 Packages [33.7 kB]\n",
            "Fetched 24.8 MB in 6s (4,326 kB/s)\n",
            "Reading package lists... Done\n",
            "W: Skipping acquire of configured file 'main/source/Sources' as repository 'https://r2u.stat.illinois.edu/ubuntu jammy InRelease' does not seem to provide it (sources.list entry misspelt?)\n",
            "sample_data  spark-3.1.1-bin-hadoop3.2\tspark-3.1.1-bin-hadoop3.2.tgz\n"
          ]
        }
      ],
      "source": [
        "!apt-get update # Update apt-get repository.\n",
        "!apt-get install openjdk-8-jdk-headless -qq > /dev/null # Install Java.\n",
        "!wget -q http://archive.apache.org/dist/spark/spark-3.1.1/spark-3.1.1-bin-hadoop3.2.tgz # Download Apache Sparks.\n",
        "!tar xf spark-3.1.1-bin-hadoop3.2.tgz # Unzip the tgz file.\n",
        "!pip install -q findspark # Install findspark. Adds PySpark to the System path during runtime.\n",
        "!ls"
      ]
    },
    {
      "cell_type": "code",
      "source": [
        "!pip install pyspark==3.1.1"
      ],
      "metadata": {
        "id": "QT0a0Kdb6rBm",
        "colab": {
          "base_uri": "https://localhost:8080/"
        },
        "outputId": "d00d7496-8bb6-4a27-b258-fb3575a140cb"
      },
      "execution_count": 7,
      "outputs": [
        {
          "output_type": "stream",
          "name": "stdout",
          "text": [
            "Collecting pyspark==3.1.1\n",
            "  Downloading pyspark-3.1.1.tar.gz (212.3 MB)\n",
            "\u001b[2K     \u001b[90m━━━━━━━━━━━━━━━━━━━━━━━━━━━━━━━━━━━━━━━━\u001b[0m \u001b[32m212.3/212.3 MB\u001b[0m \u001b[31m3.8 MB/s\u001b[0m eta \u001b[36m0:00:00\u001b[0m\n",
            "\u001b[?25h  Preparing metadata (setup.py) ... \u001b[?25l\u001b[?25hdone\n",
            "Collecting py4j==0.10.9 (from pyspark==3.1.1)\n",
            "  Downloading py4j-0.10.9-py2.py3-none-any.whl.metadata (1.3 kB)\n",
            "Downloading py4j-0.10.9-py2.py3-none-any.whl (198 kB)\n",
            "\u001b[2K   \u001b[90m━━━━━━━━━━━━━━━━━━━━━━━━━━━━━━━━━━━━━━━━\u001b[0m \u001b[32m198.6/198.6 kB\u001b[0m \u001b[31m14.3 MB/s\u001b[0m eta \u001b[36m0:00:00\u001b[0m\n",
            "\u001b[?25hBuilding wheels for collected packages: pyspark\n",
            "  Building wheel for pyspark (setup.py) ... \u001b[?25l\u001b[?25hdone\n",
            "  Created wheel for pyspark: filename=pyspark-3.1.1-py2.py3-none-any.whl size=212767580 sha256=23f2f83c225ac0bb1ecb48f3eed8d23148f0f61bb7acee94e95c69766471c137\n",
            "  Stored in directory: /root/.cache/pip/wheels/a0/3f/72/8efd988f9ae041f051c75e6834cd92dd6d13a726e206e8b6f3\n",
            "Successfully built pyspark\n",
            "Installing collected packages: py4j, pyspark\n",
            "  Attempting uninstall: py4j\n",
            "    Found existing installation: py4j 0.10.9.7\n",
            "    Uninstalling py4j-0.10.9.7:\n",
            "      Successfully uninstalled py4j-0.10.9.7\n",
            "Successfully installed py4j-0.10.9 pyspark-3.1.1\n"
          ]
        }
      ]
    },
    {
      "cell_type": "code",
      "source": [
        "!pip install groq"
      ],
      "metadata": {
        "colab": {
          "base_uri": "https://localhost:8080/"
        },
        "id": "K5DYUYAIX8wB",
        "outputId": "1765c7cc-395d-4feb-8b25-b7ae82ebffcc"
      },
      "execution_count": 627,
      "outputs": [
        {
          "output_type": "stream",
          "name": "stdout",
          "text": [
            "Requirement already satisfied: groq in /usr/local/lib/python3.10/dist-packages (0.11.0)\n",
            "Requirement already satisfied: anyio<5,>=3.5.0 in /usr/local/lib/python3.10/dist-packages (from groq) (3.7.1)\n",
            "Requirement already satisfied: distro<2,>=1.7.0 in /usr/lib/python3/dist-packages (from groq) (1.7.0)\n",
            "Requirement already satisfied: httpx<1,>=0.23.0 in /usr/local/lib/python3.10/dist-packages (from groq) (0.27.2)\n",
            "Requirement already satisfied: pydantic<3,>=1.9.0 in /usr/local/lib/python3.10/dist-packages (from groq) (2.9.1)\n",
            "Requirement already satisfied: sniffio in /usr/local/lib/python3.10/dist-packages (from groq) (1.3.1)\n",
            "Requirement already satisfied: typing-extensions<5,>=4.7 in /usr/local/lib/python3.10/dist-packages (from groq) (4.12.2)\n",
            "Requirement already satisfied: idna>=2.8 in /usr/local/lib/python3.10/dist-packages (from anyio<5,>=3.5.0->groq) (3.8)\n",
            "Requirement already satisfied: exceptiongroup in /usr/local/lib/python3.10/dist-packages (from anyio<5,>=3.5.0->groq) (1.2.2)\n",
            "Requirement already satisfied: certifi in /usr/local/lib/python3.10/dist-packages (from httpx<1,>=0.23.0->groq) (2024.8.30)\n",
            "Requirement already satisfied: httpcore==1.* in /usr/local/lib/python3.10/dist-packages (from httpx<1,>=0.23.0->groq) (1.0.5)\n",
            "Requirement already satisfied: h11<0.15,>=0.13 in /usr/local/lib/python3.10/dist-packages (from httpcore==1.*->httpx<1,>=0.23.0->groq) (0.14.0)\n",
            "Requirement already satisfied: annotated-types>=0.6.0 in /usr/local/lib/python3.10/dist-packages (from pydantic<3,>=1.9.0->groq) (0.7.0)\n",
            "Requirement already satisfied: pydantic-core==2.23.3 in /usr/local/lib/python3.10/dist-packages (from pydantic<3,>=1.9.0->groq) (2.23.3)\n"
          ]
        }
      ]
    },
    {
      "cell_type": "markdown",
      "metadata": {
        "id": "P64fNJusIGvu"
      },
      "source": [
        "## Importando dependencias"
      ]
    },
    {
      "cell_type": "code",
      "execution_count": 629,
      "metadata": {
        "id": "E_MFleihILDI"
      },
      "outputs": [],
      "source": [
        "import requests\n",
        "import json\n",
        "import os\n",
        "from google.colab import userdata\n",
        "import sys\n",
        "from typing import List\n",
        "from array import ArrayType\n",
        "from datetime import datetime\n",
        "import time\n",
        "\n",
        "import pandas as pd\n",
        "\n",
        "import matplotlib.pyplot as plt\n",
        "import matplotlib.dates as mdates\n",
        "\n",
        "import findspark\n",
        "import pyspark\n",
        "from pyspark.sql import DataFrame, SparkSession\n",
        "import pyspark.sql.types as T\n",
        "import pyspark.sql.functions as F\n",
        "from pyspark.sql.types import StructType,StructField, StringType\n",
        "from pyspark.sql.functions import from_unixtime, col, date_format\n",
        "\n",
        "from groq import Groq\n"
      ]
    },
    {
      "cell_type": "markdown",
      "metadata": {
        "id": "zco9wjvCHGjv"
      },
      "source": [
        "## Configurando parâmetros de API e inicializando o Spark"
      ]
    },
    {
      "cell_type": "markdown",
      "source": [
        "### Configurando Parâmetros da API"
      ],
      "metadata": {
        "id": "pLb2pgbkMs1i"
      }
    },
    {
      "cell_type": "code",
      "execution_count": 630,
      "metadata": {
        "id": "Ud4GbDLca6Lk"
      },
      "outputs": [],
      "source": [
        "url = userdata.get('api_url')\n",
        "\n",
        "data_lake_path = '/content/Datalake/Instagram/'\n",
        "profile_path = 'Perfil_v2/'\n",
        "posts_path = 'Postagens_v2/'\n",
        "comments_path = 'comentarios/'\n",
        "classified_comments_path = 'comentarios_classificacao/'\n",
        "\n",
        "influencer = \"marcitocastro\"\n",
        "\n",
        "headers = {\n",
        "\t\"x-rapidapi-key\": userdata.get('x-rapidapi-key'),\n",
        "\t\"x-rapidapi-host\": \"instagram-scraper-api3.p.rapidapi.com\"\n",
        "}\n",
        "\n",
        "codigo_ultima_postagem = ''\n",
        "\n",
        "os.environ[\"JAVA_HOME\"] = \"/usr/lib/jvm/java-8-openjdk-amd64\"\n",
        "os.environ[\"SPARK_HOME\"] = \"/content/spark-3.1.1-bin-hadoop3.2\"\n",
        "\n"
      ]
    },
    {
      "cell_type": "markdown",
      "source": [
        "### Inicializando o Spark"
      ],
      "metadata": {
        "id": "gsDK6VWMMvrr"
      }
    },
    {
      "cell_type": "code",
      "execution_count": 631,
      "metadata": {
        "colab": {
          "base_uri": "https://localhost:8080/",
          "height": 219
        },
        "id": "zj1UglAOTbMK",
        "outputId": "4384fb03-6d30-47d3-c6b4-157a8ad8efa0"
      },
      "outputs": [
        {
          "output_type": "execute_result",
          "data": {
            "text/plain": [
              "<pyspark.sql.session.SparkSession at 0x7da24a66e860>"
            ],
            "text/html": [
              "\n",
              "            <div>\n",
              "                <p><b>SparkSession - in-memory</b></p>\n",
              "                \n",
              "        <div>\n",
              "            <p><b>SparkContext</b></p>\n",
              "\n",
              "            <p><a href=\"http://6ec542b5b21a:4040\">Spark UI</a></p>\n",
              "\n",
              "            <dl>\n",
              "              <dt>Version</dt>\n",
              "                <dd><code>v3.1.1</code></dd>\n",
              "              <dt>Master</dt>\n",
              "                <dd><code>local[*]</code></dd>\n",
              "              <dt>AppName</dt>\n",
              "                <dd><code>Our First Spark Example</code></dd>\n",
              "            </dl>\n",
              "        </div>\n",
              "        \n",
              "            </div>\n",
              "        "
            ]
          },
          "metadata": {},
          "execution_count": 631
        }
      ],
      "source": [
        "findspark.init()\n",
        "findspark.find()\n",
        "\n",
        "# Create a PySpark session\n",
        "spark = SparkSession \\\n",
        "       .builder \\\n",
        "       .appName(\"Our First Spark Example\") \\\n",
        "       .getOrCreate()\n",
        "       #  .appName(\"Monitoramento de Perfil Instagram\")\\\n",
        "spark"
      ]
    },
    {
      "cell_type": "markdown",
      "metadata": {
        "id": "C22EO0U8Ik2O"
      },
      "source": [
        "## Coletando informações do Instagram"
      ]
    },
    {
      "cell_type": "markdown",
      "metadata": {
        "id": "lt1AOk_eU80d"
      },
      "source": [
        "### Coletando PERFIL\n",
        "\n",
        "\n",
        "Após inicializarmos as ferramentas e parâmetros de API vamos coletar as informações do perfil.\n",
        "\\\n",
        "Primeiro vamos enviar a requisição para nossa API na rota *`user_info`* que devolverá as principais informações do nosso influenciador através da função `get_profile`.\n",
        "\n",
        "Após isso extraímos as informações dos campos com o método `extract_profile_data`.\n",
        "\\\n",
        "Por fim salvamos as informações extraídas em um DataFrame Spark com o método `save_profile_data`."
      ]
    },
    {
      "cell_type": "code",
      "source": [
        "def get_profile(influencer):\n",
        "    \"\"\"\n",
        "    Obtém o perfil de um influenciador a partir de uma API.\n",
        "\n",
        "    Esta função faz uma requisição GET para obter as informações de perfil\n",
        "    de um influenciador com base em seu nome de usuário ou ID. O resultado\n",
        "    da requisição é retornado em formato JSON.\n",
        "\n",
        "    Args:\n",
        "        influencer (str): Nome de usuário ou ID do influenciador cuja informação de perfil\n",
        "                          será recuperada.\n",
        "\n",
        "    Returns:\n",
        "        dict: Um dicionário contendo os dados do perfil do influenciador retornados pela API,\n",
        "              no formato JSON.\n",
        "\n",
        "    Raises:\n",
        "        requests.exceptions.RequestException: Se a requisição HTTP falhar por algum motivo,\n",
        "                                              como problemas de rede ou erro de autenticação.\n",
        "    \"\"\"\n",
        "    querystring = {\"username_or_id\": influencer}\n",
        "\n",
        "    method = 'user_info'\n",
        "    response = requests.get(f'{url}{method}',\n",
        "                              headers=headers,\n",
        "                              params=querystring)\n",
        "\n",
        "    response_instagram = response.json()\n",
        "    return response_instagram\n",
        "\n",
        "def extract_profile_data(response_instagram_profile_data):\n",
        "    \"\"\"\n",
        "    Salva os dados de perfil do influenciador em um DataFrame Spark.\n",
        "\n",
        "    Args:\n",
        "        response_instagram_profile_data (dict): Dados das postagens em formato JSON.\n",
        "\n",
        "    Returns:\n",
        "        extracted_profile_data: Dados extraídos em formato de dicionário.\n",
        "\n",
        "    Campos extraídos:\n",
        "        - full_name, id, biography, category, bio_links, follower_count,\n",
        "          following_count, hd_profile_pic_versions_url, media_count, is_verified,\n",
        "          threads_profile_glyph_url\n",
        "    \"\"\"\n",
        "    perfil = response_instagram_profile_data.get(\"data\")\n",
        "\n",
        "    full_name = perfil.get('full_name')\n",
        "    id = perfil.get('id')\n",
        "    biography = perfil.get('biography')\n",
        "    category = perfil.get('category')\n",
        "    bio_links = perfil.get('bio_links')\n",
        "    follower_count = perfil.get('follower_count')\n",
        "    following_count = perfil.get('following_count')\n",
        "    hd_profile_pic_versions_url = perfil.get('hd_profile_pic_versions')[0].get('url')\n",
        "\n",
        "    media_count = perfil.get('media_count')\n",
        "    is_verified = perfil.get('is_verified')\n",
        "    threads_profile_glyph_url = perfil.get('threads_profile_glyph_url')\n",
        "\n",
        "    data = [(full_name,id,biography,category,bio_links,follower_count,following_count,hd_profile_pic_versions_url,media_count,is_verified,threads_profile_glyph_url)]\n",
        "\n",
        "    return data\n",
        "\n",
        "def save_profile_data(extracted_profile_data):\n",
        "    \"\"\"\n",
        "    Salva os dados de perfil do influenciador em um DataFrame Spark.\n",
        "\n",
        "    Args:\n",
        "        extracted_profile_data (dict): Dados extraídos do perfil.\n",
        "\n",
        "    Returns:\n",
        "        pyspark.sql.DataFrame: DataFrame Spark com os dados do perfil e um timestamp de execução.\n",
        "\n",
        "    Salva o DataFrame em formato Parquet, particionado por 'full_name' e 'ts_exec'.\n",
        "    \"\"\"\n",
        "\n",
        "\n",
        "    schema = StructType([\n",
        "        StructField(\"full_name\", StringType(), nullable=False),\n",
        "        StructField(\"id\", StringType(), nullable=True),\n",
        "        StructField(\"biography\", StringType(), nullable=True),\n",
        "        StructField(\"category\", StringType(), nullable=True),\n",
        "        StructField(\"bio_links\", StringType(), nullable=True),\n",
        "        StructField(\"follower_count\", StringType(), nullable=True),\n",
        "        StructField(\"following_count\", StringType(), nullable=True),\n",
        "        StructField(\"hd_profile_pic_versions_url\", StringType(), nullable=True),\n",
        "        StructField(\"media_count\", StringType(), nullable=True),\n",
        "        StructField(\"is_verified\", StringType(), nullable=True),\n",
        "        StructField(\"threads_profile_glyph_url\", StringType(), nullable=True)\n",
        "    ])\n",
        "\n",
        "    df = spark.createDataFrame(extracted_profile_data, schema=schema)\n",
        "\n",
        "    df = df.withColumn('ts_exec', F.current_timestamp())\n",
        "\n",
        "    df.write.partitionBy(\"full_name\",\"ts_exec\").mode(\"append\").format('parquet').save(f'{data_lake_path}{profile_path}')\n",
        "    return df\n"
      ],
      "metadata": {
        "id": "amtgYIxIth7Q"
      },
      "execution_count": 632,
      "outputs": []
    },
    {
      "cell_type": "code",
      "execution_count": 633,
      "metadata": {
        "colab": {
          "base_uri": "https://localhost:8080/"
        },
        "id": "b4t-WQ8II4Kg",
        "outputId": "1956bcd9-6a3d-4f25-91f4-b16d633900c9"
      },
      "outputs": [
        {
          "output_type": "stream",
          "name": "stdout",
          "text": [
            "+--------------+---------+----------------------------------------------------------------+--------+--------------------------------------------------------------------------------------------------------------------------------------------------------------------------------------------------------------------------------------------------------------------------------------------------------------------------------------------------------------------------------------------------------------------------------------------------------------------------------------------------------------------------+--------------+---------------+---------------------------------------------------------------------------------------------------------------------------------------------------------------------------------------------------------------------------------------------------------------------------------------------------------------------------+-----------+-----------+-----------------------------------------------------------------------------------------------------+-----------------------+\n",
            "|full_name     |id       |biography                                                       |category|bio_links                                                                                                                                                                                                                                                                                                                                                                                                                                                                                                                 |follower_count|following_count|hd_profile_pic_versions_url                                                                                                                                                                                                                                                                                                |media_count|is_verified|threads_profile_glyph_url                                                                            |ts_exec                |\n",
            "+--------------+---------+----------------------------------------------------------------+--------+--------------------------------------------------------------------------------------------------------------------------------------------------------------------------------------------------------------------------------------------------------------------------------------------------------------------------------------------------------------------------------------------------------------------------------------------------------------------------------------------------------------------------+--------------+---------------+---------------------------------------------------------------------------------------------------------------------------------------------------------------------------------------------------------------------------------------------------------------------------------------------------------------------------+-----------+-----------+-----------------------------------------------------------------------------------------------------+-----------------------+\n",
            "|Marcito Castro|482001976|🎤 Comediante estandart\n",
            "✊🏻 Compre no Sarandi ✊🏻\n",
            "📥 @artistaria|Comedian|[{icon_url=, link_type=external, open_external_url_with_in_app_browser=true, image_url=, lynx_url=https://l.instagram.com/?u=https%3A%2F%2Fonne.link%2Frespeitavila%3Ffbclid%3DPAZXh0bgNhZW0CMTEAAabTbweiJbCsUg4hAEqLxSRunY3Ac5TQbDDtqo0PjhwBTGMIUNcRtMJlJtI_aem_UjEbXXpYTu9aIl8Fm2GMpQ&e=AT3TtEteORZypwZok7XQBsHJ5vCmg_0yg1ddXeqxkCl9Gb3ak25feig8ZDOS37EKcxvTf5Gpycmrdeg05O8SHplh-kTniU2hHB8AKxM, title=🎭 INGRESSOS, is_verified=false, url=https://onne.link/respeitavila, link_id=18011225563703977, is_pinned=false}]|819257        |3687           |https://scontent-iad3-1.cdninstagram.com/v/t51.2885-19/455822620_1019247976559485_5672978017921992113_n.jpg?stp=dst-jpg_s320x320&_nc_ht=scontent-iad3-1.cdninstagram.com&_nc_cat=1&_nc_ohc=N_yyuRP2Ba0Q7kNvgFPMw3x&edm=AEF8tYYBAAAA&ccb=7-5&oh=00_AYAmujzIFGbmJGxuZwZFo3GKWQ55LuZJbWh4r8p9abEidQ&oe=66ED7067&_nc_sid=1e20d2|4057       |true       |https://www.threads.net/@marcitocastro?modal=true&xmt=AQGz1hbCkFvfIb6x3ZmFLZvNAhfE4au1vBZrKWd-NI38_Zg|2024-09-16 01:35:08.066|\n",
            "+--------------+---------+----------------------------------------------------------------+--------+--------------------------------------------------------------------------------------------------------------------------------------------------------------------------------------------------------------------------------------------------------------------------------------------------------------------------------------------------------------------------------------------------------------------------------------------------------------------------------------------------------------------------+--------------+---------------+---------------------------------------------------------------------------------------------------------------------------------------------------------------------------------------------------------------------------------------------------------------------------------------------------------------------------+-----------+-----------+-----------------------------------------------------------------------------------------------------+-----------------------+\n",
            "\n"
          ]
        }
      ],
      "source": [
        "response_instagram_profile_data = get_profile(influencer)\n",
        "extracted_profile_data = extract_profile_data(response_instagram_profile_data)\n",
        "df = save_profile_data(extracted_profile_data)\n",
        "df.show(truncate=False)\n"
      ]
    },
    {
      "cell_type": "markdown",
      "metadata": {
        "id": "qoM6f9bUVAd1"
      },
      "source": [
        "### Coletando POSTAGENS\n",
        "\n",
        "Tendo obtido as informações do perfil vamos enviar a requisição para nossa API na rota *`user_posts`* para obtermos as 12 postagens mais recentes do nosso influenciador através da função `get_posts`.\n",
        "\\\n",
        "Por fim salvamos as informações extraídas em um DataFrame Spark com o método `save_profile_data`."
      ]
    },
    {
      "cell_type": "code",
      "source": [
        "def get_posts(influencer):\n",
        "    \"\"\"\n",
        "    Obtém as últimas postagens de um influenciador a partir de uma API.\n",
        "\n",
        "    Args:\n",
        "        influencer (str): Nome de usuário ou ID do influenciador.\n",
        "\n",
        "    Returns:\n",
        "        dict: Dados das postagens do influenciador no formato JSON, limitados a 12 posts.\n",
        "    \"\"\"\n",
        "    querystring = {\"username_or_id\": influencer,\"count\":\"12\"}\n",
        "\n",
        "    method = 'user_posts'\n",
        "    response = requests.get(f'{url}{method}',\n",
        "                              headers=headers,\n",
        "                              params=querystring)\n",
        "\n",
        "    response_instagram = response.json()\n",
        "\n",
        "    return response_instagram\n",
        "\n",
        "\n",
        "def save_posts_data(response_instagram_posts_data):\n",
        "    \"\"\"\n",
        "    Extrai dados das postagens de um influenciador e salva em um DataFrame Spark.\n",
        "\n",
        "    Args:\n",
        "        response_instagram_posts_data (dict): Dados das postagens em formato JSON.\n",
        "\n",
        "    Returns:\n",
        "        tuple:\n",
        "            - pyspark.sql.DataFrame: DataFrame Spark com os dados das postagens.\n",
        "            - str: Código da última postagem não fixada.\n",
        "\n",
        "    Campos extraídos:\n",
        "        - id, code, device_timestamp, like_and_view_counts_disabled, caption, image_versions2,\n",
        "          product_type, coauthor_producers, like_count, comment_count, reshare_count,\n",
        "          timeline_pinned_user_ids\n",
        "\n",
        "    Salva o DataFrame em formato Parquet e adiciona um timestamp de execução.\n",
        "    \"\"\"\n",
        "\n",
        "    next_max_id = response_instagram_posts_data.get('data').get('next_max_id')\n",
        "\n",
        "    items = response_instagram_posts_data.get('data').get('items')\n",
        "\n",
        "    codigo_ultima_postagem = ''\n",
        "\n",
        "    data_posts = []\n",
        "\n",
        "    data = response_instagram_posts_data.get('data')\n",
        "\n",
        "    for post in items:\n",
        "        id = post.get('id')\n",
        "        code = post.get('code')\n",
        "\n",
        "        if post.get('timeline_pinned_user_ids') == None:\n",
        "            if codigo_ultima_postagem == '':\n",
        "                codigo_ultima_postagem = code\n",
        "\n",
        "        device_timestamp = post.get('device_timestamp')\n",
        "        like_and_view_counts_disabled = post.get('like_and_view_counts_disabled') #?\n",
        "\n",
        "        usertags = post.get('usertags',{})\n",
        "\n",
        "        list_marcados = []\n",
        "\n",
        "        for marcados in usertags.get('in',[]):\n",
        "            list_marcados.append({f\"username\" :marcados.get('user').get('username'),\"full_name\" :marcados.get('user').get('full_name')})\n",
        "\n",
        "        caption = post.get('caption')\n",
        "        image_versions2 = post.get('image_versions2')\n",
        "        product_type = post.get('product_type')\n",
        "        coauthor_producers = post.get('coauthor_producers')\n",
        "        like_count = post.get('like_count')\n",
        "        comment_count = post.get('comment_count')\n",
        "        reshare_count = post.get('reshare_count')\n",
        "        timeline_pinned_user_ids = post.get('timeline_pinned_user_ids')\n",
        "\n",
        "        data_posts.append((id,code,device_timestamp,like_and_view_counts_disabled,caption,image_versions2,product_type,coauthor_producers,like_count,comment_count,reshare_count,timeline_pinned_user_ids))\n",
        "\n",
        "    schema = StructType([\n",
        "            StructField(\"id\", StringType(), nullable=True),\n",
        "            StructField(\"code\", StringType(), nullable=True),\n",
        "            StructField(\"device_timestamp\", StringType(), nullable=True),\n",
        "            StructField(\"like_and_view_counts_disabled\", StringType(), nullable=True),\n",
        "            StructField(\"caption\", StringType(), nullable=True),\n",
        "            StructField(\"image_versions2\", StringType(), nullable=True),\n",
        "            StructField(\"product_type\", StringType(), nullable=True),\n",
        "            StructField(\"coauthor_producers\", StringType(), nullable=True),\n",
        "            StructField(\"like_count\", StringType(), nullable=True),\n",
        "            StructField(\"comment_count\", StringType(), nullable=True),\n",
        "            StructField(\"reshare_count\", StringType(), nullable=True),\n",
        "            StructField(\"timeline_pinned_user_ids\", StringType(), nullable=True)\n",
        "        ])\n",
        "\n",
        "    print(data_posts)\n",
        "\n",
        "    df = spark.createDataFrame(data_posts, schema=schema)\n",
        "\n",
        "    df = df.withColumn('ts_exec', F.current_timestamp())\n",
        "\n",
        "    df.write.mode(\"append\").format('parquet').save(f'{data_lake_path}{posts_path}')\n",
        "\n",
        "    return df, codigo_ultima_postagem\n"
      ],
      "metadata": {
        "id": "LpNkt_F41NP0"
      },
      "execution_count": 634,
      "outputs": []
    },
    {
      "cell_type": "code",
      "execution_count": 635,
      "metadata": {
        "id": "lkbIMaWffna3",
        "colab": {
          "base_uri": "https://localhost:8080/"
        },
        "outputId": "1037c1cb-890d-4521-bc73-be4d6ffe3634"
      },
      "outputs": [
        {
          "output_type": "stream",
          "name": "stdout",
          "text": [
            "[('3448401954307684253_482001976', 'C_bL06ZRbed', 172530125116770, False, {'bit_flags': 0, 'created_at': 1725301569, 'created_at_utc': 1725301569, 'did_report_as_spam': False, 'is_ranked_comment': False, 'pk': '18433122463066480', 'share_enabled': False, 'content_type': 'comment', 'media_id': '3448401954307684253', 'status': 'Active', 'type': 1, 'user_id': '482001976', 'strong_id__': '18433122463066480', 'has_translation': True, 'text': 'TESTANDO PIADAS - 4ª edição 💃🏻\\n.\\nAs três primeiras edições do “Testando Piadas” na Amrigs foram um sucesso. E vamo de novo.\\nPra quem não tá ligado, sempre no último domingo de cada mês eu tô lá testando piadas novos e trazendo comigo uns cpx pra também testar as deles.\\nDessa vez, 29 DE SETEMBRO (19h), vou estar com a @ursamalgarizi e o @sortiagao no elenco.\\nE de quebra tem uma canja do Diego Capela, o @guridafarmacia \\n.\\nVAI DÁ BOM DE NOVO, então garante teu ingresso e vamo colar junto lá com a gente \\U0001faf6🏻🥳\\n.\\nINGRESSOS nos STORIES e na BIO 🚀', 'user': {'pk': '482001976', 'pk_id': '482001976', 'id': '482001976', 'full_name': 'Marcito Castro', 'is_private': False, 'is_unpublished': False, 'strong_id__': '482001976', 'fbid_v2': '17841400539287531', 'username': 'marcitocastro', 'is_verified': True, 'profile_pic_id': '3436382941194761236_482001976', 'profile_pic_url': 'https://instagram.fphl1-1.fna.fbcdn.net/v/t51.2885-19/455822620_1019247976559485_5672978017921992113_n.jpg?stp=dst-jpg_e0_s150x150&_nc_ht=instagram.fphl1-1.fna.fbcdn.net&_nc_cat=1&_nc_ohc=N_yyuRP2Ba0Q7kNvgEdbgZO&_nc_gid=39f11293b78b45c59426ac839f0255de&edm=ABmJApABAAAA&ccb=7-5&oh=00_AYC7lfNvF0YiI3Yt4-fzMntb8A4TtJAJFnL_pUJuwVgJ7g&oe=66ED7067&_nc_sid=b41fef'}, 'is_covered': False, 'private_reply_status': 0}, {'candidates': [{'width': 1080, 'height': 1346, 'url': 'https://scontent-iad3-2.cdninstagram.com/v/t51.29350-15/457666545_1031201388485124_4865510190400477601_n.jpg?stp=dst-jpg_e35_p1080x1080&efg=eyJ2ZW5jb2RlX3RhZyI6ImltYWdlX3VybGdlbi4xMzQ3eDE2Nzkuc2RyLmYyOTM1MC5kZWZhdWx0X2ltYWdlIn0&_nc_ht=scontent-iad3-2.cdninstagram.com&_nc_cat=100&_nc_ohc=wgG2XC9jI-4Q7kNvgF5PQ00&_nc_gid=39f11293b78b45c59426ac839f0255de&edm=ABmJApABAAAA&ccb=7-5&ig_cache_key=MzQ0ODQwMTk1NDMwNzY4NDI1Mw%3D%3D.3-ccb7-5&oh=00_AYC1Zfk-7aiB9-fOJWV03fMLwp43411zBHv8tBbTJ7VhvQ&oe=66ED439F&_nc_sid=b41fef', 'scans_profile': 'e35'}, {'width': 360, 'height': 449, 'url': 'https://scontent-iad3-2.cdninstagram.com/v/t51.29350-15/457666545_1031201388485124_4865510190400477601_n.jpg?stp=dst-jpg_e35_p360x360&efg=eyJ2ZW5jb2RlX3RhZyI6ImltYWdlX3VybGdlbi4xMzQ3eDE2Nzkuc2RyLmYyOTM1MC5kZWZhdWx0X2ltYWdlIn0&_nc_ht=scontent-iad3-2.cdninstagram.com&_nc_cat=100&_nc_ohc=wgG2XC9jI-4Q7kNvgF5PQ00&_nc_gid=39f11293b78b45c59426ac839f0255de&edm=ABmJApABAAAA&ccb=7-5&ig_cache_key=MzQ0ODQwMTk1NDMwNzY4NDI1Mw%3D%3D.3-ccb7-5&oh=00_AYDJFJ5N1POmDJspzkGMIZFaBhnxF6p45YzjK_ByUH6TjA&oe=66ED439F&_nc_sid=b41fef', 'scans_profile': 'e35'}]}, 'feed', [], 579, 22, None, [482001976]), ('3444865860697304235_482001976', 'C_Onz-lu6yr', 1724879928670751, False, {'bit_flags': 0, 'created_at': 1724880034, 'created_at_utc': 1724880034, 'did_report_as_spam': False, 'is_ranked_comment': False, 'pk': '18036550175482371', 'share_enabled': False, 'content_type': 'comment', 'media_id': '3444865860697304235', 'status': 'Active', 'type': 1, 'user_id': '482001976', 'strong_id__': '18036550175482371', 'has_translation': True, 'text': 'AGENDINHA REGIONAL RAIZ DE SETEMBRO ❤️❤️🌹\\n.\\nIngresso nos stories e na bio 🚀', 'user': {'pk': '482001976', 'pk_id': '482001976', 'id': '482001976', 'full_name': 'Marcito Castro', 'is_private': False, 'is_unpublished': False, 'strong_id__': '482001976', 'fbid_v2': '17841400539287531', 'username': 'marcitocastro', 'is_verified': True, 'profile_pic_id': '3436382941194761236_482001976', 'profile_pic_url': 'https://instagram.fphl1-1.fna.fbcdn.net/v/t51.2885-19/455822620_1019247976559485_5672978017921992113_n.jpg?stp=dst-jpg_e0_s150x150&_nc_ht=instagram.fphl1-1.fna.fbcdn.net&_nc_cat=1&_nc_ohc=N_yyuRP2Ba0Q7kNvgEdbgZO&_nc_gid=39f11293b78b45c59426ac839f0255de&edm=ABmJApABAAAA&ccb=7-5&oh=00_AYC7lfNvF0YiI3Yt4-fzMntb8A4TtJAJFnL_pUJuwVgJ7g&oe=66ED7067&_nc_sid=b41fef'}, 'is_covered': False, 'private_reply_status': 0}, {'candidates': [{'width': 1080, 'height': 1346, 'url': 'https://scontent-iad3-2.cdninstagram.com/v/t51.29350-15/457253650_430553743338917_8513078340794645965_n.jpg?stp=dst-jpg_e35_p1080x1080&efg=eyJ2ZW5jb2RlX3RhZyI6ImltYWdlX3VybGdlbi4xMzQ3eDE2Nzkuc2RyLmYyOTM1MC5kZWZhdWx0X2ltYWdlIn0&_nc_ht=scontent-iad3-2.cdninstagram.com&_nc_cat=105&_nc_ohc=1PFgR2ZETzcQ7kNvgFUSSH6&edm=ABmJApABAAAA&ccb=7-5&ig_cache_key=MzQ0NDg2NTg2MDY5NzMwNDIzNQ%3D%3D.3-ccb7-5&oh=00_AYD0zlwkz_EhE6YwwkC97dfS2zxGif0ym4a9wg7qP1n0Ng&oe=66ED5E40&_nc_sid=b41fef', 'scans_profile': 'e35'}, {'width': 360, 'height': 449, 'url': 'https://scontent-iad3-2.cdninstagram.com/v/t51.29350-15/457253650_430553743338917_8513078340794645965_n.jpg?stp=dst-jpg_e35_p360x360&efg=eyJ2ZW5jb2RlX3RhZyI6ImltYWdlX3VybGdlbi4xMzQ3eDE2Nzkuc2RyLmYyOTM1MC5kZWZhdWx0X2ltYWdlIn0&_nc_ht=scontent-iad3-2.cdninstagram.com&_nc_cat=105&_nc_ohc=1PFgR2ZETzcQ7kNvgFUSSH6&_nc_gid=39f11293b78b45c59426ac839f0255de&edm=ABmJApABAAAA&ccb=7-5&ig_cache_key=MzQ0NDg2NTg2MDY5NzMwNDIzNQ%3D%3D.3-ccb7-5&oh=00_AYACitddb4Xv7GhdIrZYDVXlROd183i66NQvcqO1OcHmrA&oe=66ED5E40&_nc_sid=b41fef', 'scans_profile': 'e35'}]}, 'feed', [{'pk': '283038768', 'pk_id': '283038768', 'id': '283038768', 'full_name': 'Artistaria Produtora de Humor', 'is_private': False, 'strong_id__': '283038768', 'username': 'artistaria', 'is_verified': False, 'profile_pic_id': '3237585762920388942_283038768', 'profile_pic_url': 'https://instagram.fphl1-1.fna.fbcdn.net/v/t51.2885-19/402461497_693925159360802_1610538001837494238_n.jpg?stp=dst-jpg_e0_s150x150&_nc_ht=instagram.fphl1-1.fna.fbcdn.net&_nc_cat=1&_nc_ohc=5XLA6oCs_E8Q7kNvgGQBrCi&_nc_gid=39f11293b78b45c59426ac839f0255de&edm=ABmJApABAAAA&ccb=7-5&oh=00_AYDN6MO057CrAekvMbOZmoHDE7PyfyX9MB_4oFUHS9L52g&oe=66ED499F&_nc_sid=b41fef'}], 2743, 127, None, [482001976]), ('3453660828630795370_482001976', 'C_t3jmxOERq', 1725927989501229, False, {'bit_flags': 0, 'created_at': 1725928476, 'created_at_utc': 1725928476, 'did_report_as_spam': False, 'is_ranked_comment': False, 'pk': '18025254284111940', 'share_enabled': False, 'content_type': 'comment', 'media_id': '3453660828630795370', 'status': 'Active', 'type': 1, 'user_id': '482001976', 'strong_id__': '18025254284111940', 'has_translation': True, 'text': 'COMPRE NO SARANDI 🙌🏻\\n.\\nMeus cpx, entre tantas e tantas regiões atingidas em maio pelas chuvas, o Bairro Sarandi, na Zona Norte de Porto Alegre, foi um dos mais castigados. \\nEntre tantas frentes necessárias de lá pra cá, uma delas está, sem dúvida, no fato de reconstruir aos poucos o ecossistema econômico do pequeno empreendedor nas mais diversas esferas de ofertas de serviços. Para isso, estamos promovendo publicidades e propagandas das lojas e o comércio em geral de forma gratuita para ajudar na visibilidade dos trabalhadores do bairro. \\nE ESSE TRABALHO VAI LONGE… E TAMO JUNTO SEMPRE.\\n.\\nSE TU TEM COMÉRCIO NO SARANDI, ENTRA EM CONTATO COM A GENTE E VAMO AGENDAR UMA PUBLI AÍ NO TEU TRAMPO ✊🏻✊🏻\\nChama aqui: (51) 99576-1087 (Matheus Castro)\\nE se puder, COMPRE NO SARANDI ❤️\\n.\\n(Obs: aqui na minha bio existe um destaque de todas as lojas e serviços que a gente já divulgou até agora. Dá uma olhadinha ali 🤓)', 'user': {'pk': '482001976', 'pk_id': '482001976', 'id': '482001976', 'full_name': 'Marcito Castro', 'is_private': False, 'is_unpublished': False, 'strong_id__': '482001976', 'fbid_v2': '17841400539287531', 'username': 'marcitocastro', 'is_verified': True, 'profile_pic_id': '3436382941194761236_482001976', 'profile_pic_url': 'https://instagram.fphl1-1.fna.fbcdn.net/v/t51.2885-19/455822620_1019247976559485_5672978017921992113_n.jpg?stp=dst-jpg_e0_s150x150&_nc_ht=instagram.fphl1-1.fna.fbcdn.net&_nc_cat=1&_nc_ohc=N_yyuRP2Ba0Q7kNvgEdbgZO&_nc_gid=39f11293b78b45c59426ac839f0255de&edm=ABmJApABAAAA&ccb=7-5&oh=00_AYC7lfNvF0YiI3Yt4-fzMntb8A4TtJAJFnL_pUJuwVgJ7g&oe=66ED7067&_nc_sid=b41fef'}, 'is_covered': False, 'private_reply_status': 0}, {'candidates': [{'width': 1080, 'height': 1080, 'url': 'https://scontent-iad3-1.cdninstagram.com/v/t51.29350-15/459083354_473311215704110_9173933237595551627_n.jpg?stp=dst-jpg_e35_s1080x1080&efg=eyJ2ZW5jb2RlX3RhZyI6ImltYWdlX3VybGdlbi4xNDQweDE0NDAuc2RyLmYyOTM1MC5kZWZhdWx0X2ltYWdlIn0&_nc_ht=scontent-iad3-1.cdninstagram.com&_nc_cat=110&_nc_ohc=iQBiCqralZsQ7kNvgEPbmqy&_nc_gid=39f11293b78b45c59426ac839f0255de&edm=ABmJApABAAAA&ccb=7-5&ig_cache_key=MzQ1MzY2MDgyODYzMDc5NTM3MA%3D%3D.3-ccb7-5&oh=00_AYCf5vatlHkXtKwSbDz_d2YbfcgSAPudY3I5QwT2oJqq0A&oe=66ED5741&_nc_sid=b41fef', 'scans_profile': 'e35'}, {'width': 360, 'height': 360, 'url': 'https://scontent-iad3-1.cdninstagram.com/v/t51.29350-15/459083354_473311215704110_9173933237595551627_n.jpg?stp=dst-jpg_e35_s360x360&efg=eyJ2ZW5jb2RlX3RhZyI6ImltYWdlX3VybGdlbi4xNDQweDE0NDAuc2RyLmYyOTM1MC5kZWZhdWx0X2ltYWdlIn0&_nc_ht=scontent-iad3-1.cdninstagram.com&_nc_cat=110&_nc_ohc=iQBiCqralZsQ7kNvgEPbmqy&_nc_gid=39f11293b78b45c59426ac839f0255de&edm=ABmJApABAAAA&ccb=7-5&ig_cache_key=MzQ1MzY2MDgyODYzMDc5NTM3MA%3D%3D.3-ccb7-5&oh=00_AYB-dpru1PZOvCRcBlADzQxo1JIqoDeEp8-x6LEA04vcxg&oe=66ED5741&_nc_sid=b41fef', 'scans_profile': 'e35'}]}, 'feed', [{'pk': '3969072663', 'pk_id': '3969072663', 'id': '3969072663', 'full_name': 'Matheus Castro', 'is_private': False, 'strong_id__': '3969072663', 'username': 'matheus_mcastro', 'is_verified': False, 'profile_pic_id': '3451902283942016810_3969072663', 'profile_pic_url': 'https://scontent-iad3-1.cdninstagram.com/v/t51.2885-19/458488527_1180672566570940_7570863953468056262_n.jpg?stp=dst-jpg_e0_s150x150&_nc_ht=scontent-iad3-1.cdninstagram.com&_nc_cat=104&_nc_ohc=luXUof_uAs4Q7kNvgGaeKKD&edm=ABmJApABAAAA&ccb=7-5&oh=00_AYDJ4_L5G6Gx32_jWLdUzClK8CgQGDBM2bnjojclokf5bw&oe=66ED79D6&_nc_sid=b41fef'}], 1180, 25, None, [482001976]), ('3457916558075269191_482001976', 'C_8_MnrBJBH', 1726435787591621, False, {'bit_flags': 0, 'created_at': 1726435885, 'created_at_utc': 1726435885, 'did_report_as_spam': False, 'is_ranked_comment': False, 'pk': '18017016047287597', 'share_enabled': False, 'content_type': 'comment', 'media_id': '3457916558075269191', 'status': 'Active', 'type': 1, 'user_id': '482001976', 'strong_id__': '18017016047287597', 'has_translation': True, 'text': 'Era open bar de laço \\n.\\n.\\n.\\n#humor #piada #comedia #nostalgia #anos90 #mae #filhos #standupcomedy #marcito #fy', 'user': {'pk': '482001976', 'pk_id': '482001976', 'id': '482001976', 'full_name': 'Marcito Castro', 'is_private': False, 'is_unpublished': False, 'strong_id__': '482001976', 'fbid_v2': '17841400539287531', 'username': 'marcitocastro', 'is_verified': True, 'profile_pic_id': '3436382941194761236_482001976', 'profile_pic_url': 'https://instagram.fphl1-1.fna.fbcdn.net/v/t51.2885-19/455822620_1019247976559485_5672978017921992113_n.jpg?stp=dst-jpg_e0_s150x150&_nc_ht=instagram.fphl1-1.fna.fbcdn.net&_nc_cat=1&_nc_ohc=N_yyuRP2Ba0Q7kNvgEdbgZO&_nc_gid=39f11293b78b45c59426ac839f0255de&edm=ABmJApABAAAA&ccb=7-5&oh=00_AYC7lfNvF0YiI3Yt4-fzMntb8A4TtJAJFnL_pUJuwVgJ7g&oe=66ED7067&_nc_sid=b41fef'}, 'is_covered': False, 'private_reply_status': 0}, {'candidates': [{'width': 360, 'height': 640, 'url': 'https://instagram.fphl1-1.fna.fbcdn.net/v/t51.29350-15/460274919_884658540218759_3352703437823257292_n.jpg?stp=dst-jpg_e15_p360x360&efg=eyJ2ZW5jb2RlX3RhZyI6ImltYWdlX3VybGdlbi43MjB4MTI4MC5zZHIuZjI5MzUwLmRlZmF1bHRfY292ZXJfZnJhbWUifQ&_nc_ht=instagram.fphl1-1.fna.fbcdn.net&_nc_cat=1&_nc_ohc=sqelxVtFTlgQ7kNvgH98wds&_nc_gid=39f11293b78b45c59426ac839f0255de&edm=ABmJApABAAAA&ccb=7-5&ig_cache_key=MzQ1NzkxNjU1ODA3NTI2OTE5MQ%3D%3D.3-ccb7-5&oh=00_AYDkAQdeVgi5Wip7TyE4FAHR0Hhgmaw_XpgloJ62H6WjlQ&oe=66ED45E4&_nc_sid=b41fef', 'scans_profile': 'e15'}], 'additional_candidates': {'igtv_first_frame': {'width': 360, 'height': 639, 'url': 'https://instagram.fphl1-1.fna.fbcdn.net/v/t51.2885-15/460245549_496953253106874_1357214898293357663_n.jpg?stp=dst-jpg_e15_p360x360&efg=eyJ2ZW5jb2RlX3RhZyI6ImltYWdlX3VybGdlbi42NDB4MTEzNi5zZHIuZjcxODc4LmFkZGl0aW9uYWxfY292ZXJfZnJhbWUifQ&_nc_ht=instagram.fphl1-1.fna.fbcdn.net&_nc_cat=1&_nc_ohc=vOXZudrhpLMQ7kNvgHiloby&edm=ABmJApABAAAA&ccb=7-5&oh=00_AYB-3O_D2cOqzOUO6QrqurFJDa5sCMLmTK9qj2SButqcQQ&oe=66ED53A3&_nc_sid=b41fef', 'scans_profile': 'e15'}, 'first_frame': {'width': 360, 'height': 639, 'url': 'https://instagram.fphl1-1.fna.fbcdn.net/v/t51.2885-15/460245549_496953253106874_1357214898293357663_n.jpg?stp=dst-jpg_e15_p360x360&efg=eyJ2ZW5jb2RlX3RhZyI6ImltYWdlX3VybGdlbi42NDB4MTEzNi5zZHIuZjcxODc4LmFkZGl0aW9uYWxfY292ZXJfZnJhbWUifQ&_nc_ht=instagram.fphl1-1.fna.fbcdn.net&_nc_cat=1&_nc_ohc=vOXZudrhpLMQ7kNvgHiloby&edm=ABmJApABAAAA&ccb=7-5&oh=00_AYB-3O_D2cOqzOUO6QrqurFJDa5sCMLmTK9qj2SButqcQQ&oe=66ED53A3&_nc_sid=b41fef', 'scans_profile': 'e15'}, 'smart_frame': None}, 'scrubber_spritesheet_info_candidates': {'default': {'video_length': 51.4, 'thumbnail_width': 100, 'thumbnail_height': 178, 'thumbnail_duration': 0.4895238095238095, 'sprite_urls': ['https://scontent-iad3-1.cdninstagram.com/v/t51.2885-15/460257941_549707997582142_155768339618041822_n.jpg?_nc_ht=scontent-iad3-1.cdninstagram.com&_nc_cat=110&_nc_ohc=Zp0YT1z2sb8Q7kNvgFPG0_J&edm=ABmJApABAAAA&ccb=7-5&oh=00_AYCr6zPPyDL2wC-x3R0ADKcqBPvbVdzRNlzFz8SbpkBWQQ&oe=66ED6E2A&_nc_sid=b41fef'], 'thumbnails_per_row': 15, 'total_thumbnail_num_per_sprite': 105, 'max_thumbnails_per_sprite': 105, 'sprite_width': 1500, 'sprite_height': 1246, 'rendered_width': 96, 'file_size_kb': 352}}}, 'clips', [], 10515, 190, 4253, None), ('3457729463011993678_482001976', 'C_8UqB0O2hO', 1726413454591611, False, {'bit_flags': 0, 'created_at': 1726414407, 'created_at_utc': 1726414407, 'did_report_as_spam': False, 'is_ranked_comment': False, 'pk': '17919945842972780', 'share_enabled': False, 'content_type': 'comment', 'media_id': '3457729463011993678', 'status': 'Active', 'type': 1, 'user_id': '482001976', 'strong_id__': '17919945842972780', 'has_translation': True, 'text': 'Mais uma pérola que achei aqui… Vídeo de 2020 no auge da p@ndemia #repost', 'user': {'pk': '482001976', 'pk_id': '482001976', 'id': '482001976', 'full_name': 'Marcito Castro', 'is_private': False, 'is_unpublished': False, 'strong_id__': '482001976', 'fbid_v2': '17841400539287531', 'username': 'marcitocastro', 'is_verified': True, 'profile_pic_id': '3436382941194761236_482001976', 'profile_pic_url': 'https://instagram.fphl1-1.fna.fbcdn.net/v/t51.2885-19/455822620_1019247976559485_5672978017921992113_n.jpg?stp=dst-jpg_e0_s150x150&_nc_ht=instagram.fphl1-1.fna.fbcdn.net&_nc_cat=1&_nc_ohc=N_yyuRP2Ba0Q7kNvgEdbgZO&_nc_gid=39f11293b78b45c59426ac839f0255de&edm=ABmJApABAAAA&ccb=7-5&oh=00_AYC7lfNvF0YiI3Yt4-fzMntb8A4TtJAJFnL_pUJuwVgJ7g&oe=66ED7067&_nc_sid=b41fef'}, 'is_covered': False, 'private_reply_status': 0}, {'candidates': [{'width': 360, 'height': 640, 'url': 'https://scontent-iad3-1.cdninstagram.com/v/t51.29350-15/459904917_1075916924537467_4560698523383836751_n.jpg?stp=dst-jpg_e15_p360x360&efg=eyJ2ZW5jb2RlX3RhZyI6ImltYWdlX3VybGdlbi43MjB4MTI4MC5zZHIuZjI5MzUwLmRlZmF1bHRfY292ZXJfZnJhbWUifQ&_nc_ht=scontent-iad3-1.cdninstagram.com&_nc_cat=107&_nc_ohc=x98e2yoohroQ7kNvgFyz7_4&edm=ABmJApABAAAA&ccb=7-5&ig_cache_key=MzQ1NzcyOTQ2MzAxMTk5MzY3OA%3D%3D.3-ccb7-5&oh=00_AYBcTkYXxrW8ag0xeipbD0RN43Zst4KHtpzT14sXk--zIA&oe=66ED569A&_nc_sid=b41fef', 'scans_profile': 'e15'}], 'additional_candidates': {'igtv_first_frame': {'width': 360, 'height': 639, 'url': 'https://scontent-iad3-2.cdninstagram.com/v/t51.2885-15/459849167_436555925518707_6730217656291051485_n.jpg?stp=dst-jpg_e15_p360x360&efg=eyJ2ZW5jb2RlX3RhZyI6ImltYWdlX3VybGdlbi42NDB4MTEzNi5zZHIuZjcxODc4LmFkZGl0aW9uYWxfY292ZXJfZnJhbWUifQ&_nc_ht=scontent-iad3-2.cdninstagram.com&_nc_cat=103&_nc_ohc=L9BUyi4W27MQ7kNvgE4uOA0&_nc_gid=39f11293b78b45c59426ac839f0255de&edm=ABmJApABAAAA&ccb=7-5&oh=00_AYCQPDmf7leExnsNzgHdQZrPSqJfmkFyjaQy9y7qDFxjSQ&oe=66ED6442&_nc_sid=b41fef', 'scans_profile': 'e15'}, 'first_frame': {'width': 360, 'height': 639, 'url': 'https://scontent-iad3-2.cdninstagram.com/v/t51.2885-15/459849167_436555925518707_6730217656291051485_n.jpg?stp=dst-jpg_e15_p360x360&efg=eyJ2ZW5jb2RlX3RhZyI6ImltYWdlX3VybGdlbi42NDB4MTEzNi5zZHIuZjcxODc4LmFkZGl0aW9uYWxfY292ZXJfZnJhbWUifQ&_nc_ht=scontent-iad3-2.cdninstagram.com&_nc_cat=103&_nc_ohc=L9BUyi4W27MQ7kNvgE4uOA0&_nc_gid=39f11293b78b45c59426ac839f0255de&edm=ABmJApABAAAA&ccb=7-5&oh=00_AYCQPDmf7leExnsNzgHdQZrPSqJfmkFyjaQy9y7qDFxjSQ&oe=66ED6442&_nc_sid=b41fef', 'scans_profile': 'e15'}, 'smart_frame': None}, 'scrubber_spritesheet_info_candidates': {'default': {'video_length': 201, 'thumbnail_width': 100, 'thumbnail_height': 178, 'thumbnail_duration': 1.9142857142857144, 'sprite_urls': ['https://scontent-iad3-1.cdninstagram.com/v/t51.2885-15/460141140_437722265386490_4366416513125996866_n.jpg?_nc_ht=scontent-iad3-1.cdninstagram.com&_nc_cat=102&_nc_ohc=NSxjh8eqJdwQ7kNvgHVizjj&_nc_gid=39f11293b78b45c59426ac839f0255de&edm=ABmJApABAAAA&ccb=7-5&oh=00_AYArn02onQlFYKbyqw3v4LsVw4uENexSDJRrxDUMD9HhZg&oe=66ED77FE&_nc_sid=b41fef'], 'thumbnails_per_row': 15, 'total_thumbnail_num_per_sprite': 105, 'max_thumbnails_per_sprite': 105, 'sprite_width': 1500, 'sprite_height': 1246, 'rendered_width': 96, 'file_size_kb': 456}}}, 'clips', [], 1640, 148, 495, None), ('3457292631703023235_482001976', 'C_6xVS9O-6D', 1726361394745797, False, {'bit_flags': 0, 'created_at': 1726361676, 'created_at_utc': 1726361676, 'did_report_as_spam': False, 'is_ranked_comment': False, 'pk': '18022264472185893', 'share_enabled': False, 'content_type': 'comment', 'media_id': '3457292631703023235', 'status': 'Active', 'type': 1, 'user_id': '482001976', 'strong_id__': '18022264472185893', 'has_translation': True, 'text': 'ASSISTA ENQUANTO ESTÁ NO AR 😐\\n.\\nFiz essa paródia em 2019, mas acredito que hoje eu seria canc3lado por isso. \\n(Assista a tempo de eu não sumir 😎)', 'user': {'pk': '482001976', 'pk_id': '482001976', 'id': '482001976', 'full_name': 'Marcito Castro', 'is_private': False, 'is_unpublished': False, 'strong_id__': '482001976', 'fbid_v2': '17841400539287531', 'username': 'marcitocastro', 'is_verified': True, 'profile_pic_id': '3436382941194761236_482001976', 'profile_pic_url': 'https://instagram.fphl1-1.fna.fbcdn.net/v/t51.2885-19/455822620_1019247976559485_5672978017921992113_n.jpg?stp=dst-jpg_e0_s150x150&_nc_ht=instagram.fphl1-1.fna.fbcdn.net&_nc_cat=1&_nc_ohc=N_yyuRP2Ba0Q7kNvgEdbgZO&_nc_gid=39f11293b78b45c59426ac839f0255de&edm=ABmJApABAAAA&ccb=7-5&oh=00_AYC7lfNvF0YiI3Yt4-fzMntb8A4TtJAJFnL_pUJuwVgJ7g&oe=66ED7067&_nc_sid=b41fef'}, 'is_covered': False, 'private_reply_status': 0}, {'candidates': [{'width': 360, 'height': 202, 'url': 'https://scontent-iad3-1.cdninstagram.com/v/t51.29350-15/459734366_1029726591965138_7142166257418254811_n.jpg?stp=dst-jpg_e15_s360x360&efg=eyJ2ZW5jb2RlX3RhZyI6ImltYWdlX3VybGdlbi43MjB4NDA1LnNkci5mMjkzNTAuZGVmYXVsdF9jb3Zlcl9mcmFtZSJ9&_nc_ht=scontent-iad3-1.cdninstagram.com&_nc_cat=102&_nc_ohc=maMtK2_yRKEQ7kNvgEqvQg5&_nc_gid=39f11293b78b45c59426ac839f0255de&edm=ABmJApABAAAA&ccb=7-5&ig_cache_key=MzQ1NzI5MjYzMTcwMzAyMzIzNQ%3D%3D.3-ccb7-5&oh=00_AYDUCJ_TFe9CX7LwZdbMz-hJEmoDh9895uuFfwOKR3nKhQ&oe=66ED770B&_nc_sid=b41fef', 'scans_profile': 'e15'}], 'additional_candidates': {'igtv_first_frame': {'width': 360, 'height': 202, 'url': 'https://scontent-iad3-1.cdninstagram.com/v/t51.2885-15/459656120_1221492785831353_8042712426121819285_n.jpg?stp=dst-jpg_e15_s360x360&efg=eyJ2ZW5jb2RlX3RhZyI6ImltYWdlX3VybGdlbi42NDB4MzYwLnNkci5mNzE4NzguYWRkaXRpb25hbF9jb3Zlcl9mcmFtZSJ9&_nc_ht=scontent-iad3-1.cdninstagram.com&_nc_cat=101&_nc_ohc=s_wVq8FES8kQ7kNvgEaeGYX&_nc_gid=39f11293b78b45c59426ac839f0255de&edm=ABmJApABAAAA&ccb=7-5&oh=00_AYBC77R1Fv7ueEOa3Dc4g6rJmbQjimJWNfx0fTJkju9wIQ&oe=66ED5DA2&_nc_sid=b41fef', 'scans_profile': 'e15'}, 'first_frame': {'width': 360, 'height': 202, 'url': 'https://scontent-iad3-1.cdninstagram.com/v/t51.2885-15/459656120_1221492785831353_8042712426121819285_n.jpg?stp=dst-jpg_e15_s360x360&efg=eyJ2ZW5jb2RlX3RhZyI6ImltYWdlX3VybGdlbi42NDB4MzYwLnNkci5mNzE4NzguYWRkaXRpb25hbF9jb3Zlcl9mcmFtZSJ9&_nc_ht=scontent-iad3-1.cdninstagram.com&_nc_cat=101&_nc_ohc=s_wVq8FES8kQ7kNvgEaeGYX&_nc_gid=39f11293b78b45c59426ac839f0255de&edm=ABmJApABAAAA&ccb=7-5&oh=00_AYBC77R1Fv7ueEOa3Dc4g6rJmbQjimJWNfx0fTJkju9wIQ&oe=66ED5DA2&_nc_sid=b41fef', 'scans_profile': 'e15'}, 'smart_frame': None}}, 'clips', [], 1865, 123, 1404, None), ('3457283931407857987_482001976', 'C_6vWsLOzlD', 1726360380745795, False, {'bit_flags': 0, 'created_at': 1726360479, 'created_at_utc': 1726360479, 'did_report_as_spam': False, 'is_ranked_comment': False, 'pk': '18035787995148878', 'share_enabled': False, 'content_type': 'comment', 'media_id': '3457283931407857987', 'status': 'Active', 'type': 1, 'user_id': '482001976', 'strong_id__': '18035787995148878', 'has_translation': True, 'text': 'NÃO PERCA!!!\\n.\\n#repost @obrasilquedeucerto', 'user': {'pk': '482001976', 'pk_id': '482001976', 'id': '482001976', 'full_name': 'Marcito Castro', 'is_private': False, 'is_unpublished': False, 'strong_id__': '482001976', 'fbid_v2': '17841400539287531', 'username': 'marcitocastro', 'is_verified': True, 'profile_pic_id': '3436382941194761236_482001976', 'profile_pic_url': 'https://instagram.fphl1-1.fna.fbcdn.net/v/t51.2885-19/455822620_1019247976559485_5672978017921992113_n.jpg?stp=dst-jpg_e0_s150x150&_nc_ht=instagram.fphl1-1.fna.fbcdn.net&_nc_cat=1&_nc_ohc=N_yyuRP2Ba0Q7kNvgEdbgZO&_nc_gid=39f11293b78b45c59426ac839f0255de&edm=ABmJApABAAAA&ccb=7-5&oh=00_AYC7lfNvF0YiI3Yt4-fzMntb8A4TtJAJFnL_pUJuwVgJ7g&oe=66ED7067&_nc_sid=b41fef'}, 'is_covered': False, 'private_reply_status': 0}, {'candidates': [{'width': 360, 'height': 640, 'url': 'https://scontent-iad3-1.cdninstagram.com/v/t51.29350-15/459639402_909356451246946_75131291521114709_n.jpg?stp=dst-jpg_e15_p360x360&efg=eyJ2ZW5jb2RlX3RhZyI6ImltYWdlX3VybGdlbi43MjB4MTI4MC5zZHIuZjI5MzUwLmRlZmF1bHRfY292ZXJfZnJhbWUifQ&_nc_ht=scontent-iad3-1.cdninstagram.com&_nc_cat=110&_nc_ohc=6rXSkiItcnEQ7kNvgHfwRnD&_nc_gid=39f11293b78b45c59426ac839f0255de&edm=ABmJApABAAAA&ccb=7-5&ig_cache_key=MzQ1NzI4MzkzMTQwNzg1Nzk4Nw%3D%3D.3-ccb7-5&oh=00_AYBMi3LVGywQI1Gp3rUOGP1MohP1nhKfknizoKy7610Mpg&oe=66ED55E8&_nc_sid=b41fef', 'scans_profile': 'e15'}], 'additional_candidates': {'igtv_first_frame': {'width': 360, 'height': 639, 'url': 'https://scontent-iad3-1.cdninstagram.com/v/t51.2885-15/459736822_1240146826997144_7246790606582963292_n.jpg?stp=dst-jpg_e15_p360x360&efg=eyJ2ZW5jb2RlX3RhZyI6ImltYWdlX3VybGdlbi42NDB4MTEzNi5zZHIuZjcxODc4LmFkZGl0aW9uYWxfY292ZXJfZnJhbWUifQ&_nc_ht=scontent-iad3-1.cdninstagram.com&_nc_cat=108&_nc_ohc=DoEcUJloyXMQ7kNvgFgCVyH&_nc_gid=39f11293b78b45c59426ac839f0255de&edm=ABmJApABAAAA&ccb=7-5&oh=00_AYB35ajchxL0vpuDV2ZE0H5xg3NiKpA6pO9hQoNDYLed_A&oe=66ED5730&_nc_sid=b41fef', 'scans_profile': 'e15'}, 'first_frame': {'width': 360, 'height': 639, 'url': 'https://scontent-iad3-1.cdninstagram.com/v/t51.2885-15/459736822_1240146826997144_7246790606582963292_n.jpg?stp=dst-jpg_e15_p360x360&efg=eyJ2ZW5jb2RlX3RhZyI6ImltYWdlX3VybGdlbi42NDB4MTEzNi5zZHIuZjcxODc4LmFkZGl0aW9uYWxfY292ZXJfZnJhbWUifQ&_nc_ht=scontent-iad3-1.cdninstagram.com&_nc_cat=108&_nc_ohc=DoEcUJloyXMQ7kNvgFgCVyH&_nc_gid=39f11293b78b45c59426ac839f0255de&edm=ABmJApABAAAA&ccb=7-5&oh=00_AYB35ajchxL0vpuDV2ZE0H5xg3NiKpA6pO9hQoNDYLed_A&oe=66ED5730&_nc_sid=b41fef', 'scans_profile': 'e15'}, 'smart_frame': None}, 'scrubber_spritesheet_info_candidates': {'default': {'video_length': 21.065, 'thumbnail_width': 100, 'thumbnail_height': 178, 'thumbnail_duration': 0.20061904761904764, 'sprite_urls': ['https://scontent-iad3-2.cdninstagram.com/v/t51.2885-15/459919615_1042718103886977_1310985766267601462_n.jpg?_nc_ht=scontent-iad3-2.cdninstagram.com&_nc_cat=109&_nc_ohc=7ZJXXdtf23AQ7kNvgH5WCYp&edm=ABmJApABAAAA&ccb=7-5&oh=00_AYArdGs52w2H0krL7nw0VAPloOQZgxs6xG-MQBHWvtp5TQ&oe=66ED42BF&_nc_sid=b41fef'], 'thumbnails_per_row': 15, 'total_thumbnail_num_per_sprite': 105, 'max_thumbnails_per_sprite': 105, 'sprite_width': 1500, 'sprite_height': 1246, 'rendered_width': 96, 'file_size_kb': 167}}}, 'clips', [], 1370, 57, 854, None), ('3456562400289500326_482001976', 'C_4LTB9Oiym', 1726274102785419, False, {'bit_flags': 0, 'created_at': 1726274370, 'created_at_utc': 1726274370, 'did_report_as_spam': False, 'is_ranked_comment': False, 'pk': '18043829857970353', 'share_enabled': False, 'content_type': 'comment', 'media_id': '3456562400289500326', 'status': 'Active', 'type': 1, 'user_id': '482001976', 'strong_id__': '18043829857970353', 'text': 'QUE LINDEZA MEUS CPX DE GUAÍBA 😍\\U0001faf6🏻\\U0001f979👏🏻', 'user': {'pk': '482001976', 'pk_id': '482001976', 'id': '482001976', 'full_name': 'Marcito Castro', 'is_private': False, 'is_unpublished': False, 'strong_id__': '482001976', 'fbid_v2': '17841400539287531', 'username': 'marcitocastro', 'is_verified': True, 'profile_pic_id': '3436382941194761236_482001976', 'profile_pic_url': 'https://instagram.fphl1-1.fna.fbcdn.net/v/t51.2885-19/455822620_1019247976559485_5672978017921992113_n.jpg?stp=dst-jpg_e0_s150x150&_nc_ht=instagram.fphl1-1.fna.fbcdn.net&_nc_cat=1&_nc_ohc=N_yyuRP2Ba0Q7kNvgEdbgZO&_nc_gid=39f11293b78b45c59426ac839f0255de&edm=ABmJApABAAAA&ccb=7-5&oh=00_AYC7lfNvF0YiI3Yt4-fzMntb8A4TtJAJFnL_pUJuwVgJ7g&oe=66ED7067&_nc_sid=b41fef'}, 'is_covered': False, 'private_reply_status': 0}, {'candidates': [{'width': 1080, 'height': 810, 'url': 'https://scontent-iad3-1.cdninstagram.com/v/t51.29350-15/459446908_1046335706871922_3389436097105978618_n.jpg?se=-1&stp=dst-jpegr_e35_s1080x1080&efg=eyJ2ZW5jb2RlX3RhZyI6ImltYWdlX3VybGdlbi4xNDQweDEwODAuaGRyLmYyOTM1MC5kZWZhdWx0X2ltYWdlIn0&_nc_ht=scontent-iad3-1.cdninstagram.com&_nc_cat=110&_nc_ohc=nr49u4tZ3NoQ7kNvgH8hRvd&_nc_gid=39f11293b78b45c59426ac839f0255de&edm=ABmJApABAAAA&ccb=7-5&ig_cache_key=MzQ1NjU2MjQwMDI4OTUwMDMyNg%3D%3D.3-ccb7-5&oh=00_AYDJlL8tE8Bh8dJTmpZmyoGrtdwuHYLrhzlgAdjvv06akA&oe=66ED46CE&_nc_sid=b41fef', 'scans_profile': 'e35'}, {'width': 360, 'height': 270, 'url': 'https://scontent-iad3-1.cdninstagram.com/v/t51.29350-15/459446908_1046335706871922_3389436097105978618_n.jpg?se=-1&stp=dst-jpegr_e35_s360x360&efg=eyJ2ZW5jb2RlX3RhZyI6ImltYWdlX3VybGdlbi4xNDQweDEwODAuaGRyLmYyOTM1MC5kZWZhdWx0X2ltYWdlIn0&_nc_ht=scontent-iad3-1.cdninstagram.com&_nc_cat=110&_nc_ohc=nr49u4tZ3NoQ7kNvgH8hRvd&_nc_gid=39f11293b78b45c59426ac839f0255de&edm=ABmJApABAAAA&ccb=7-5&ig_cache_key=MzQ1NjU2MjQwMDI4OTUwMDMyNg%3D%3D.3-ccb7-5&oh=00_AYBQC8UjrWFyK78iQzvqWrSOjH9TvsTP7Yo1Lhw61q7lHA&oe=66ED46CE&_nc_sid=b41fef', 'scans_profile': 'e35'}]}, 'feed', [], 1568, 48, None, None), ('3456489139740503024_482001976', 'C_36o8wOmvw', 1726265629756274, False, {'bit_flags': 0, 'created_at': 1726265713, 'created_at_utc': 1726265713, 'did_report_as_spam': False, 'is_ranked_comment': False, 'pk': '18037028501146248', 'share_enabled': False, 'content_type': 'comment', 'media_id': '3456489139740503024', 'status': 'Active', 'type': 1, 'user_id': '482001976', 'strong_id__': '18037028501146248', 'has_translation': True, 'text': 'VEM NOVIDADE AÍ \\U0001fae2🔥\\n❗️❗️❗️🔞🔞❗️❗️❗️\\n.\\n.\\n.\\n#privacy #onlyfans #marcito #piada #comedian #humor #standupcomedy #fy #fyp', 'user': {'pk': '482001976', 'pk_id': '482001976', 'id': '482001976', 'full_name': 'Marcito Castro', 'is_private': False, 'is_unpublished': False, 'strong_id__': '482001976', 'fbid_v2': '17841400539287531', 'username': 'marcitocastro', 'is_verified': True, 'profile_pic_id': '3436382941194761236_482001976', 'profile_pic_url': 'https://instagram.fphl1-1.fna.fbcdn.net/v/t51.2885-19/455822620_1019247976559485_5672978017921992113_n.jpg?stp=dst-jpg_e0_s150x150&_nc_ht=instagram.fphl1-1.fna.fbcdn.net&_nc_cat=1&_nc_ohc=N_yyuRP2Ba0Q7kNvgEdbgZO&_nc_gid=39f11293b78b45c59426ac839f0255de&edm=ABmJApABAAAA&ccb=7-5&oh=00_AYC7lfNvF0YiI3Yt4-fzMntb8A4TtJAJFnL_pUJuwVgJ7g&oe=66ED7067&_nc_sid=b41fef'}, 'is_covered': False, 'private_reply_status': 0}, {'candidates': [{'width': 360, 'height': 640, 'url': 'https://scontent-iad3-1.cdninstagram.com/v/t51.29350-15/459690162_1059064682354590_5818479922975993679_n.jpg?stp=dst-jpg_e15_p360x360&efg=eyJ2ZW5jb2RlX3RhZyI6ImltYWdlX3VybGdlbi40ODB4ODU0LnNkci5mMjkzNTAuZGVmYXVsdF9jb3Zlcl9mcmFtZSJ9&_nc_ht=scontent-iad3-1.cdninstagram.com&_nc_cat=110&_nc_ohc=yulpWy-VNyAQ7kNvgG92DJi&_nc_gid=39f11293b78b45c59426ac839f0255de&edm=ABmJApABAAAA&ccb=7-5&ig_cache_key=MzQ1NjQ4OTEzOTc0MDUwMzAyNA%3D%3D.3-ccb7-5&oh=00_AYC9--Tib0xykb6pmr7_ulUU1JCGTW--IRZWWmhuu6nKQw&oe=66ED7007&_nc_sid=b41fef', 'scans_profile': 'e15'}], 'additional_candidates': {'igtv_first_frame': {'width': 360, 'height': 640, 'url': 'https://scontent-iad3-1.cdninstagram.com/v/t51.2885-15/459602465_1234119697771448_1932534955249200635_n.jpg?stp=dst-jpg_e15_p360x360&efg=eyJ2ZW5jb2RlX3RhZyI6ImltYWdlX3VybGdlbi42NDB4MTEzOC5zZHIuZjcxODc4LmFkZGl0aW9uYWxfY292ZXJfZnJhbWUifQ&_nc_ht=scontent-iad3-1.cdninstagram.com&_nc_cat=108&_nc_ohc=i3B87MRdaA4Q7kNvgFOWTQU&_nc_gid=39f11293b78b45c59426ac839f0255de&edm=ABmJApABAAAA&ccb=7-5&oh=00_AYCZnqwchkhF_c9JMY-lZBduji7dKyep98fm42SjhHWKyQ&oe=66ED794B&_nc_sid=b41fef', 'scans_profile': 'e15'}, 'first_frame': {'width': 360, 'height': 640, 'url': 'https://scontent-iad3-1.cdninstagram.com/v/t51.2885-15/459602465_1234119697771448_1932534955249200635_n.jpg?stp=dst-jpg_e15_p360x360&efg=eyJ2ZW5jb2RlX3RhZyI6ImltYWdlX3VybGdlbi42NDB4MTEzOC5zZHIuZjcxODc4LmFkZGl0aW9uYWxfY292ZXJfZnJhbWUifQ&_nc_ht=scontent-iad3-1.cdninstagram.com&_nc_cat=108&_nc_ohc=i3B87MRdaA4Q7kNvgFOWTQU&_nc_gid=39f11293b78b45c59426ac839f0255de&edm=ABmJApABAAAA&ccb=7-5&oh=00_AYCZnqwchkhF_c9JMY-lZBduji7dKyep98fm42SjhHWKyQ&oe=66ED794B&_nc_sid=b41fef', 'scans_profile': 'e15'}, 'smart_frame': None}, 'scrubber_spritesheet_info_candidates': {'default': {'video_length': 90.033, 'thumbnail_width': 100, 'thumbnail_height': 178, 'thumbnail_duration': 0.8574571428571429, 'sprite_urls': ['https://scontent-iad3-1.cdninstagram.com/v/t51.2885-15/459536169_1544826649451140_4098354900672637602_n.jpg?_nc_ht=scontent-iad3-1.cdninstagram.com&_nc_cat=104&_nc_ohc=v8YfWLrv_-AQ7kNvgFdDXht&_nc_gid=39f11293b78b45c59426ac839f0255de&edm=ABmJApABAAAA&ccb=7-5&oh=00_AYAM8a_TvG4sFpdxAytVDvhFmCBJai0ibi_L1mEn9l9dPQ&oe=66ED423E&_nc_sid=b41fef'], 'thumbnails_per_row': 15, 'total_thumbnail_num_per_sprite': 105, 'max_thumbnails_per_sprite': 105, 'sprite_width': 1500, 'sprite_height': 1246, 'rendered_width': 96, 'file_size_kb': 365}}}, 'clips', [], 12226, 200, 3034, None), ('3456360192750933699_482001976', 'C_3dUhguFbD', 1726250178117300, False, {'bit_flags': 0, 'created_at': 1726250265, 'created_at_utc': 1726250265, 'did_report_as_spam': False, 'is_ranked_comment': False, 'pk': '18121686001353732', 'share_enabled': False, 'content_type': 'comment', 'media_id': '3456360192750933699', 'status': 'Active', 'type': 1, 'user_id': '482001976', 'strong_id__': '18121686001353732', 'has_translation': True, 'text': 'ONTEM FOI NOITE DE STAND UP NO CINEMA NO PROJETO QUINTA COMEDY COM A REALIZAÇÃO DA @artistaria NO @arcoplexcinemas NO @shoppingdovalers EM CACHOEIRINHA \\nLotamos a casa e outubro e novembro tamo lá de novo 😍\\U0001faf6🏻', 'user': {'pk': '482001976', 'pk_id': '482001976', 'id': '482001976', 'full_name': 'Marcito Castro', 'is_private': False, 'is_unpublished': False, 'strong_id__': '482001976', 'fbid_v2': '17841400539287531', 'username': 'marcitocastro', 'is_verified': True, 'profile_pic_id': '3436382941194761236_482001976', 'profile_pic_url': 'https://instagram.fphl1-1.fna.fbcdn.net/v/t51.2885-19/455822620_1019247976559485_5672978017921992113_n.jpg?stp=dst-jpg_e0_s150x150&_nc_ht=instagram.fphl1-1.fna.fbcdn.net&_nc_cat=1&_nc_ohc=N_yyuRP2Ba0Q7kNvgEdbgZO&_nc_gid=39f11293b78b45c59426ac839f0255de&edm=ABmJApABAAAA&ccb=7-5&oh=00_AYC7lfNvF0YiI3Yt4-fzMntb8A4TtJAJFnL_pUJuwVgJ7g&oe=66ED7067&_nc_sid=b41fef'}, 'is_covered': False, 'private_reply_status': 0}, {'candidates': [{'width': 1080, 'height': 608, 'url': 'https://scontent-iad3-2.cdninstagram.com/v/t51.29350-15/459417551_1252813119416811_6643778299222783274_n.jpg?stp=dst-jpg_e35_s1080x1080&efg=eyJ2ZW5jb2RlX3RhZyI6ImltYWdlX3VybGdlbi4xNDQweDgxMC5zZHIuZjI5MzUwLmRlZmF1bHRfaW1hZ2UifQ&_nc_ht=scontent-iad3-2.cdninstagram.com&_nc_cat=103&_nc_ohc=-MAhn8EIRn0Q7kNvgFdDjvk&_nc_gid=39f11293b78b45c59426ac839f0255de&edm=ABmJApABAAAA&ccb=7-5&ig_cache_key=MzQ1NjM2MDE5Mjc1MDkzMzY5OQ%3D%3D.3-ccb7-5&oh=00_AYB5DQWnBwGih0_Agw_4EBfLXUy69k1vkjQ_1m_Tn_4BJg&oe=66ED540A&_nc_sid=b41fef', 'scans_profile': 'e35'}, {'width': 360, 'height': 202, 'url': 'https://scontent-iad3-2.cdninstagram.com/v/t51.29350-15/459417551_1252813119416811_6643778299222783274_n.jpg?stp=dst-jpg_e35_s360x360&efg=eyJ2ZW5jb2RlX3RhZyI6ImltYWdlX3VybGdlbi4xNDQweDgxMC5zZHIuZjI5MzUwLmRlZmF1bHRfaW1hZ2UifQ&_nc_ht=scontent-iad3-2.cdninstagram.com&_nc_cat=103&_nc_ohc=-MAhn8EIRn0Q7kNvgFdDjvk&edm=ABmJApABAAAA&ccb=7-5&ig_cache_key=MzQ1NjM2MDE5Mjc1MDkzMzY5OQ%3D%3D.3-ccb7-5&oh=00_AYARpV6CkaQJEDaQ6tKeP-ymLMOJF_xt4Z6Eeo-uP5XBIw&oe=66ED540A&_nc_sid=b41fef', 'scans_profile': 'e35'}]}, 'feed', [], 425, 14, None, None), ('3455920342591633777_482001976', 'C_15T3IOHlx', 1726197816743295, False, {'bit_flags': 0, 'created_at': 1726197929, 'created_at_utc': 1726197929, 'did_report_as_spam': False, 'is_ranked_comment': False, 'pk': '18103130803431375', 'share_enabled': False, 'content_type': 'comment', 'media_id': '3455920342591633777', 'status': 'Active', 'type': 1, 'user_id': '482001976', 'strong_id__': '18103130803431375', 'has_translation': True, 'text': 'Valeu pelo carinho @seumauricio sou um grande fã do teu trabalho também ❤️✊🏻✊🏻', 'user': {'pk': '482001976', 'pk_id': '482001976', 'id': '482001976', 'full_name': 'Marcito Castro', 'is_private': False, 'is_unpublished': False, 'strong_id__': '482001976', 'fbid_v2': '17841400539287531', 'username': 'marcitocastro', 'is_verified': True, 'profile_pic_id': '3436382941194761236_482001976', 'profile_pic_url': 'https://instagram.fphl1-1.fna.fbcdn.net/v/t51.2885-19/455822620_1019247976559485_5672978017921992113_n.jpg?stp=dst-jpg_e0_s150x150&_nc_ht=instagram.fphl1-1.fna.fbcdn.net&_nc_cat=1&_nc_ohc=N_yyuRP2Ba0Q7kNvgEdbgZO&_nc_gid=39f11293b78b45c59426ac839f0255de&edm=ABmJApABAAAA&ccb=7-5&oh=00_AYC7lfNvF0YiI3Yt4-fzMntb8A4TtJAJFnL_pUJuwVgJ7g&oe=66ED7067&_nc_sid=b41fef'}, 'is_covered': False, 'private_reply_status': 0}, {'candidates': [{'width': 360, 'height': 640, 'url': 'https://scontent-iad3-1.cdninstagram.com/v/t51.29350-15/459705489_1500572347492724_6468401980519804718_n.jpg?stp=dst-jpg_e15_p360x360&efg=eyJ2ZW5jb2RlX3RhZyI6ImltYWdlX3VybGdlbi43MjB4MTI4MC5zZHIuZjI5MzUwLmRlZmF1bHRfY292ZXJfZnJhbWUifQ&_nc_ht=scontent-iad3-1.cdninstagram.com&_nc_cat=108&_nc_ohc=Lp8kXZJ7TOgQ7kNvgFthMI5&_nc_gid=39f11293b78b45c59426ac839f0255de&edm=ABmJApABAAAA&ccb=7-5&ig_cache_key=MzQ1NTkyMDM0MjU5MTYzMzc3Nw%3D%3D.3-ccb7-5&oh=00_AYBjxKbbcvaE1xEon0Cxt1L5m_RvZA39KuUAWit0xHyTDQ&oe=66ED6A87&_nc_sid=b41fef', 'scans_profile': 'e15'}], 'additional_candidates': {'igtv_first_frame': {'width': 360, 'height': 639, 'url': 'https://scontent-iad3-1.cdninstagram.com/v/t51.2885-15/459519397_531841642579906_8350713214061583988_n.jpg?stp=dst-jpg_e15_p360x360&efg=eyJ2ZW5jb2RlX3RhZyI6ImltYWdlX3VybGdlbi42NDB4MTEzNi5zZHIuZjcxODc4LmFkZGl0aW9uYWxfY292ZXJfZnJhbWUifQ&_nc_ht=scontent-iad3-1.cdninstagram.com&_nc_cat=110&_nc_ohc=11oN49JLLPAQ7kNvgHFTHM0&_nc_gid=39f11293b78b45c59426ac839f0255de&edm=ABmJApABAAAA&ccb=7-5&oh=00_AYBBkIwMGzWJ3JALE2vABhyjfd-gyLCKxojt6j18Tzf8CA&oe=66ED5B57&_nc_sid=b41fef', 'scans_profile': 'e15'}, 'first_frame': {'width': 360, 'height': 639, 'url': 'https://scontent-iad3-1.cdninstagram.com/v/t51.2885-15/459519397_531841642579906_8350713214061583988_n.jpg?stp=dst-jpg_e15_p360x360&efg=eyJ2ZW5jb2RlX3RhZyI6ImltYWdlX3VybGdlbi42NDB4MTEzNi5zZHIuZjcxODc4LmFkZGl0aW9uYWxfY292ZXJfZnJhbWUifQ&_nc_ht=scontent-iad3-1.cdninstagram.com&_nc_cat=110&_nc_ohc=11oN49JLLPAQ7kNvgHFTHM0&_nc_gid=39f11293b78b45c59426ac839f0255de&edm=ABmJApABAAAA&ccb=7-5&oh=00_AYBBkIwMGzWJ3JALE2vABhyjfd-gyLCKxojt6j18Tzf8CA&oe=66ED5B57&_nc_sid=b41fef', 'scans_profile': 'e15'}, 'smart_frame': None}, 'scrubber_spritesheet_info_candidates': {'default': {'video_length': 68.266, 'thumbnail_width': 100, 'thumbnail_height': 178, 'thumbnail_duration': 0.650152380952381, 'sprite_urls': ['https://scontent-iad3-2.cdninstagram.com/v/t51.2885-15/459235974_1032820631677800_717801701559154172_n.jpg?_nc_ht=scontent-iad3-2.cdninstagram.com&_nc_cat=100&_nc_ohc=_zNle8mCoFYQ7kNvgHZvdIf&_nc_gid=39f11293b78b45c59426ac839f0255de&edm=ABmJApABAAAA&ccb=7-5&oh=00_AYD3gv7SJgnq6-BqseUcR__1NgD3MPycjAeyqCH_s_HzQA&oe=66ED4ED8&_nc_sid=b41fef'], 'thumbnails_per_row': 15, 'total_thumbnail_num_per_sprite': 105, 'max_thumbnails_per_sprite': 105, 'sprite_width': 1500, 'sprite_height': 1246, 'rendered_width': 96, 'file_size_kb': 318}}}, 'clips', [], 15640, 409, 183, None), ('3455734369313129565_482001976', 'C_1PBmBBIRd', 1726175651911798, False, {'bit_flags': 0, 'created_at': 1726175796, 'created_at_utc': 1726175796, 'did_report_as_spam': False, 'is_ranked_comment': False, 'pk': '17939973362864228', 'share_enabled': False, 'content_type': 'comment', 'media_id': '3455734369313129565', 'status': 'Active', 'type': 1, 'user_id': '482001976', 'strong_id__': '17939973362864228', 'text': '#tbt & #tdah', 'user': {'pk': '482001976', 'pk_id': '482001976', 'id': '482001976', 'full_name': 'Marcito Castro', 'is_private': False, 'is_unpublished': False, 'strong_id__': '482001976', 'fbid_v2': '17841400539287531', 'username': 'marcitocastro', 'is_verified': True, 'profile_pic_id': '3436382941194761236_482001976', 'profile_pic_url': 'https://instagram.fphl1-1.fna.fbcdn.net/v/t51.2885-19/455822620_1019247976559485_5672978017921992113_n.jpg?stp=dst-jpg_e0_s150x150&_nc_ht=instagram.fphl1-1.fna.fbcdn.net&_nc_cat=1&_nc_ohc=N_yyuRP2Ba0Q7kNvgEdbgZO&_nc_gid=39f11293b78b45c59426ac839f0255de&edm=ABmJApABAAAA&ccb=7-5&oh=00_AYC7lfNvF0YiI3Yt4-fzMntb8A4TtJAJFnL_pUJuwVgJ7g&oe=66ED7067&_nc_sid=b41fef'}, 'is_covered': False, 'private_reply_status': 0}, {'candidates': [{'width': 360, 'height': 640, 'url': 'https://scontent-iad3-1.cdninstagram.com/v/t51.29350-15/459273238_456315570202105_5733503151862936627_n.jpg?stp=dst-jpg_e15_p360x360&efg=eyJ2ZW5jb2RlX3RhZyI6ImltYWdlX3VybGdlbi43MjB4MTI4MC5zZHIuZjI5MzUwLmRlZmF1bHRfY292ZXJfZnJhbWUifQ&_nc_ht=scontent-iad3-1.cdninstagram.com&_nc_cat=101&_nc_ohc=nfLMvl9DgsAQ7kNvgFy67M6&_nc_gid=39f11293b78b45c59426ac839f0255de&edm=ABmJApABAAAA&ccb=7-5&ig_cache_key=MzQ1NTczNDM2OTMxMzEyOTU2NQ%3D%3D.3-ccb7-5&oh=00_AYATC6LYIm9dq_AQMYpoaFS8EXnwGhiytcZ7Sr_MUWmlDQ&oe=66ED460D&_nc_sid=b41fef', 'scans_profile': 'e15'}], 'additional_candidates': {'igtv_first_frame': {'width': 360, 'height': 639, 'url': 'https://scontent-iad3-2.cdninstagram.com/v/t51.2885-15/459513532_1130008898531043_5944700765079396625_n.jpg?stp=dst-jpg_e15_p360x360&efg=eyJ2ZW5jb2RlX3RhZyI6ImltYWdlX3VybGdlbi42NDB4MTEzNi5zZHIuZjcxODc4LmFkZGl0aW9uYWxfY292ZXJfZnJhbWUifQ&_nc_ht=scontent-iad3-2.cdninstagram.com&_nc_cat=103&_nc_ohc=XH8_pmU9qjkQ7kNvgE0-hDK&edm=ABmJApABAAAA&ccb=7-5&oh=00_AYDaSIa6iz4ZK4Kv6XvJg8l8PmJsyeCobg3SmxwevfNYoA&oe=66ED5462&_nc_sid=b41fef', 'scans_profile': 'e15'}, 'first_frame': {'width': 360, 'height': 639, 'url': 'https://scontent-iad3-2.cdninstagram.com/v/t51.2885-15/459513532_1130008898531043_5944700765079396625_n.jpg?stp=dst-jpg_e15_p360x360&efg=eyJ2ZW5jb2RlX3RhZyI6ImltYWdlX3VybGdlbi42NDB4MTEzNi5zZHIuZjcxODc4LmFkZGl0aW9uYWxfY292ZXJfZnJhbWUifQ&_nc_ht=scontent-iad3-2.cdninstagram.com&_nc_cat=103&_nc_ohc=XH8_pmU9qjkQ7kNvgE0-hDK&edm=ABmJApABAAAA&ccb=7-5&oh=00_AYDaSIa6iz4ZK4Kv6XvJg8l8PmJsyeCobg3SmxwevfNYoA&oe=66ED5462&_nc_sid=b41fef', 'scans_profile': 'e15'}, 'smart_frame': None}, 'scrubber_spritesheet_info_candidates': {'default': {'video_length': 69.433, 'thumbnail_width': 100, 'thumbnail_height': 178, 'thumbnail_duration': 0.6612666666666668, 'sprite_urls': ['https://scontent-iad3-2.cdninstagram.com/v/t51.2885-15/459434089_1276270963360014_1700027789868511342_n.jpg?_nc_ht=scontent-iad3-2.cdninstagram.com&_nc_cat=106&_nc_ohc=F2XjhukZjBEQ7kNvgEMbmyI&_nc_gid=39f11293b78b45c59426ac839f0255de&edm=ABmJApABAAAA&ccb=7-5&oh=00_AYDfELyZG4lSYvSnuW5mifmPVJaSZDWMeWGdtcl_LyplXg&oe=66ED53C7&_nc_sid=b41fef'], 'thumbnails_per_row': 15, 'total_thumbnail_num_per_sprite': 105, 'max_thumbnails_per_sprite': 105, 'sprite_width': 1500, 'sprite_height': 1246, 'rendered_width': 96, 'file_size_kb': 392}}}, 'clips', [], 16092, 168, 2465, None)]\n",
            "+-----------------------------+-----------+----------------+-----------------------------+-----------------------------------------------------------------------------------------------------------------------------------------------------------------------------------------------------------------------------------------------------------------------------------------------------------------------------------------------------------------------------------------------------------------------------------------------------------------------------------------------------------------------------------------------------------------------------------------------------------------------------------------------------------------------------------------------------------------------------------------------------------------------------------------------------------------------------------------------------------------------------------------------------------------------------------------------------------------------------------------------------------------------------------------------------------------------------------------------------------------------------------------------------------------------------------------------------------------------------------------------------------------------------------------------------------------------------------------------------------------------------------------------------------------------------------------------------------------------------------------------------------------------------------------------------------------------------------------------------------------------------------------------------------------------------------------------------------------------------------------------------------------------------------------------------------------------------------------------------------------------------------------------------------------------------------------------------------------------------+----------------------------------------------------------------------------------------------------------------------------------------------------------------------------------------------------------------------------------------------------------------------------------------------------------------------------------------------------------------------------------------------------------------------------------------------------------------------------------------------------------------------------------------------------------------------------------------------------------------------------------------------------------------------------------------------------------------------------------------------------------------------------------------------------------------------------------------------------------------------------------------------------------------------------------------------------------------------------------------------------------------------------------------------------------------------------------------------------------------------------------------------------------------------------------------------------------------------------------------------------------------------------------------------------------------------------------------------------------------------------------------------------------------------------------------------------------------------------------------------------------------------------------------------------------------------------------------------------------------------------------------------------------------------------------------------------------------------------------------------------------------------------------------------------------------------------------------------------------------------------------------------------------------------------------------------------------------------------------------------------------------------------------------------------------------------------------------------------------------------------------------------------------------------------------------------------------------------------------------------------------------------------------------------------------------------------------------------------------------------------------------------------------------------------------------------+------------+-------------------------------------------------------------------------------------------------------------------------------------------------------------------------------------------------------------------------------------------------------------------------------------------------------------------------------------------------------------------------------------------------------------------------------------------------------------------------------------------------------------------------------------------------------------------------------------------------------------+----------+-------------+-------------+------------------------+-----------------------+\n",
            "|id                           |code       |device_timestamp|like_and_view_counts_disabled|caption                                                                                                                                                                                                                                                                                                                                                                                                                                                                                                                                                                                                                                                                                                                                                                                                                                                                                                                                                                                                                                                                                                                                                                                                                                                                                                                                                                                                                                                                                                                                                                                                                                                                                                                                                                                                                                                                                                                                                                      |image_versions2                                                                                                                                                                                                                                                                                                                                                                                                                                                                                                                                                                                                                                                                                                                                                                                                                                                                                                                                                                                                                                                                                                                                                                                                                                                                                                                                                                                                                                                                                                                                                                                                                                                                                                                                                                                                                                                                                                                                                                                                                                                                                                                                                                                                                                                                                                                                                                                                                               |product_type|coauthor_producers                                                                                                                                                                                                                                                                                                                                                                                                                                                                                                                                                                                           |like_count|comment_count|reshare_count|timeline_pinned_user_ids|ts_exec                |\n",
            "+-----------------------------+-----------+----------------+-----------------------------+-----------------------------------------------------------------------------------------------------------------------------------------------------------------------------------------------------------------------------------------------------------------------------------------------------------------------------------------------------------------------------------------------------------------------------------------------------------------------------------------------------------------------------------------------------------------------------------------------------------------------------------------------------------------------------------------------------------------------------------------------------------------------------------------------------------------------------------------------------------------------------------------------------------------------------------------------------------------------------------------------------------------------------------------------------------------------------------------------------------------------------------------------------------------------------------------------------------------------------------------------------------------------------------------------------------------------------------------------------------------------------------------------------------------------------------------------------------------------------------------------------------------------------------------------------------------------------------------------------------------------------------------------------------------------------------------------------------------------------------------------------------------------------------------------------------------------------------------------------------------------------------------------------------------------------------------------------------------------------+----------------------------------------------------------------------------------------------------------------------------------------------------------------------------------------------------------------------------------------------------------------------------------------------------------------------------------------------------------------------------------------------------------------------------------------------------------------------------------------------------------------------------------------------------------------------------------------------------------------------------------------------------------------------------------------------------------------------------------------------------------------------------------------------------------------------------------------------------------------------------------------------------------------------------------------------------------------------------------------------------------------------------------------------------------------------------------------------------------------------------------------------------------------------------------------------------------------------------------------------------------------------------------------------------------------------------------------------------------------------------------------------------------------------------------------------------------------------------------------------------------------------------------------------------------------------------------------------------------------------------------------------------------------------------------------------------------------------------------------------------------------------------------------------------------------------------------------------------------------------------------------------------------------------------------------------------------------------------------------------------------------------------------------------------------------------------------------------------------------------------------------------------------------------------------------------------------------------------------------------------------------------------------------------------------------------------------------------------------------------------------------------------------------------------------------------+------------+-------------------------------------------------------------------------------------------------------------------------------------------------------------------------------------------------------------------------------------------------------------------------------------------------------------------------------------------------------------------------------------------------------------------------------------------------------------------------------------------------------------------------------------------------------------------------------------------------------------+----------+-------------+-------------+------------------------+-----------------------+\n",
            "|3448401954307684253_482001976|C_bL06ZRbed|172530125116770 |false                        |{private_reply_status=0, share_enabled=false, created_at=1725301569, type=1, is_covered=false, created_at_utc=1725301569, has_translation=true, content_type=comment, user_id=482001976, bit_flags=0, media_id=3448401954307684253, text=TESTANDO PIADAS - 4ª edição 💃🏻\n",
            ".\n",
            "As três primeiras edições do “Testando Piadas” na Amrigs foram um sucesso. E vamo de novo.\n",
            "Pra quem não tá ligado, sempre no último domingo de cada mês eu tô lá testando piadas novos e trazendo comigo uns cpx pra também testar as deles.\n",
            "Dessa vez, 29 DE SETEMBRO (19h), vou estar com a @ursamalgarizi e o @sortiagao no elenco.\n",
            "E de quebra tem uma canja do Diego Capela, o @guridafarmacia \n",
            ".\n",
            "VAI DÁ BOM DE NOVO, então garante teu ingresso e vamo colar junto lá com a gente 🫶🏻🥳\n",
            ".\n",
            "INGRESSOS nos STORIES e na BIO 🚀, pk=18433122463066480, did_report_as_spam=false, user={is_private=false, pk_id=482001976, profile_pic_id=3436382941194761236_482001976, fbid_v2=17841400539287531, is_verified=true, full_name=Marcito Castro, is_unpublished=false, id=482001976, pk=482001976, profile_pic_url=https://instagram.fphl1-1.fna.fbcdn.net/v/t51.2885-19/455822620_1019247976559485_5672978017921992113_n.jpg?stp=dst-jpg_e0_s150x150&_nc_ht=instagram.fphl1-1.fna.fbcdn.net&_nc_cat=1&_nc_ohc=N_yyuRP2Ba0Q7kNvgEdbgZO&_nc_gid=39f11293b78b45c59426ac839f0255de&edm=ABmJApABAAAA&ccb=7-5&oh=00_AYC7lfNvF0YiI3Yt4-fzMntb8A4TtJAJFnL_pUJuwVgJ7g&oe=66ED7067&_nc_sid=b41fef, username=marcitocastro, strong_id__=482001976}, is_ranked_comment=false, strong_id__=18433122463066480, status=Active}                                                                                                                                                                                                                                                                                                                                                                                |{candidates=[{width=1080, scans_profile=e35, url=https://scontent-iad3-2.cdninstagram.com/v/t51.29350-15/457666545_1031201388485124_4865510190400477601_n.jpg?stp=dst-jpg_e35_p1080x1080&efg=eyJ2ZW5jb2RlX3RhZyI6ImltYWdlX3VybGdlbi4xMzQ3eDE2Nzkuc2RyLmYyOTM1MC5kZWZhdWx0X2ltYWdlIn0&_nc_ht=scontent-iad3-2.cdninstagram.com&_nc_cat=100&_nc_ohc=wgG2XC9jI-4Q7kNvgF5PQ00&_nc_gid=39f11293b78b45c59426ac839f0255de&edm=ABmJApABAAAA&ccb=7-5&ig_cache_key=MzQ0ODQwMTk1NDMwNzY4NDI1Mw%3D%3D.3-ccb7-5&oh=00_AYC1Zfk-7aiB9-fOJWV03fMLwp43411zBHv8tBbTJ7VhvQ&oe=66ED439F&_nc_sid=b41fef, height=1346}, {width=360, scans_profile=e35, url=https://scontent-iad3-2.cdninstagram.com/v/t51.29350-15/457666545_1031201388485124_4865510190400477601_n.jpg?stp=dst-jpg_e35_p360x360&efg=eyJ2ZW5jb2RlX3RhZyI6ImltYWdlX3VybGdlbi4xMzQ3eDE2Nzkuc2RyLmYyOTM1MC5kZWZhdWx0X2ltYWdlIn0&_nc_ht=scontent-iad3-2.cdninstagram.com&_nc_cat=100&_nc_ohc=wgG2XC9jI-4Q7kNvgF5PQ00&_nc_gid=39f11293b78b45c59426ac839f0255de&edm=ABmJApABAAAA&ccb=7-5&ig_cache_key=MzQ0ODQwMTk1NDMwNzY4NDI1Mw%3D%3D.3-ccb7-5&oh=00_AYDJFJ5N1POmDJspzkGMIZFaBhnxF6p45YzjK_ByUH6TjA&oe=66ED439F&_nc_sid=b41fef, height=449}]}                                                                                                                                                                                                                                                                                                                                                                                                                                                                                                                                                                                                                                                                                                                                                                                                                                                                                                                                                                                                                                                                                                                                                                                                                                                             |feed        |[]                                                                                                                                                                                                                                                                                                                                                                                                                                                                                                                                                                                                           |579       |22           |null         |[482001976]             |2024-09-16 01:35:11.652|\n",
            "|3444865860697304235_482001976|C_Onz-lu6yr|1724879928670751|false                        |{private_reply_status=0, share_enabled=false, created_at=1724880034, type=1, is_covered=false, created_at_utc=1724880034, has_translation=true, content_type=comment, user_id=482001976, bit_flags=0, media_id=3444865860697304235, text=AGENDINHA REGIONAL RAIZ DE SETEMBRO ❤️❤️🌹\n",
            ".\n",
            "Ingresso nos stories e na bio 🚀, pk=18036550175482371, did_report_as_spam=false, user={is_private=false, pk_id=482001976, profile_pic_id=3436382941194761236_482001976, fbid_v2=17841400539287531, is_verified=true, full_name=Marcito Castro, is_unpublished=false, id=482001976, pk=482001976, profile_pic_url=https://instagram.fphl1-1.fna.fbcdn.net/v/t51.2885-19/455822620_1019247976559485_5672978017921992113_n.jpg?stp=dst-jpg_e0_s150x150&_nc_ht=instagram.fphl1-1.fna.fbcdn.net&_nc_cat=1&_nc_ohc=N_yyuRP2Ba0Q7kNvgEdbgZO&_nc_gid=39f11293b78b45c59426ac839f0255de&edm=ABmJApABAAAA&ccb=7-5&oh=00_AYC7lfNvF0YiI3Yt4-fzMntb8A4TtJAJFnL_pUJuwVgJ7g&oe=66ED7067&_nc_sid=b41fef, username=marcitocastro, strong_id__=482001976}, is_ranked_comment=false, strong_id__=18036550175482371, status=Active}                                                                                                                                                                                                                                                                                                                                                                                                                                                                                                                                                                                                                                                                                                                                                                                                                                                                        |{candidates=[{width=1080, scans_profile=e35, url=https://scontent-iad3-2.cdninstagram.com/v/t51.29350-15/457253650_430553743338917_8513078340794645965_n.jpg?stp=dst-jpg_e35_p1080x1080&efg=eyJ2ZW5jb2RlX3RhZyI6ImltYWdlX3VybGdlbi4xMzQ3eDE2Nzkuc2RyLmYyOTM1MC5kZWZhdWx0X2ltYWdlIn0&_nc_ht=scontent-iad3-2.cdninstagram.com&_nc_cat=105&_nc_ohc=1PFgR2ZETzcQ7kNvgFUSSH6&edm=ABmJApABAAAA&ccb=7-5&ig_cache_key=MzQ0NDg2NTg2MDY5NzMwNDIzNQ%3D%3D.3-ccb7-5&oh=00_AYD0zlwkz_EhE6YwwkC97dfS2zxGif0ym4a9wg7qP1n0Ng&oe=66ED5E40&_nc_sid=b41fef, height=1346}, {width=360, scans_profile=e35, url=https://scontent-iad3-2.cdninstagram.com/v/t51.29350-15/457253650_430553743338917_8513078340794645965_n.jpg?stp=dst-jpg_e35_p360x360&efg=eyJ2ZW5jb2RlX3RhZyI6ImltYWdlX3VybGdlbi4xMzQ3eDE2Nzkuc2RyLmYyOTM1MC5kZWZhdWx0X2ltYWdlIn0&_nc_ht=scontent-iad3-2.cdninstagram.com&_nc_cat=105&_nc_ohc=1PFgR2ZETzcQ7kNvgFUSSH6&_nc_gid=39f11293b78b45c59426ac839f0255de&edm=ABmJApABAAAA&ccb=7-5&ig_cache_key=MzQ0NDg2NTg2MDY5NzMwNDIzNQ%3D%3D.3-ccb7-5&oh=00_AYACitddb4Xv7GhdIrZYDVXlROd183i66NQvcqO1OcHmrA&oe=66ED5E40&_nc_sid=b41fef, height=449}]}                                                                                                                                                                                                                                                                                                                                                                                                                                                                                                                                                                                                                                                                                                                                                                                                                                                                                                                                                                                                                                                                                                                                                                                                                                                                                                        |feed        |[{is_private=false, full_name=Artistaria Produtora de Humor, pk_id=283038768, profile_pic_id=3237585762920388942_283038768, id=283038768, pk=283038768, profile_pic_url=https://instagram.fphl1-1.fna.fbcdn.net/v/t51.2885-19/402461497_693925159360802_1610538001837494238_n.jpg?stp=dst-jpg_e0_s150x150&_nc_ht=instagram.fphl1-1.fna.fbcdn.net&_nc_cat=1&_nc_ohc=5XLA6oCs_E8Q7kNvgGQBrCi&_nc_gid=39f11293b78b45c59426ac839f0255de&edm=ABmJApABAAAA&ccb=7-5&oh=00_AYDN6MO057CrAekvMbOZmoHDE7PyfyX9MB_4oFUHS9L52g&oe=66ED499F&_nc_sid=b41fef, is_verified=false, username=artistaria, strong_id__=283038768}]|2743      |127          |null         |[482001976]             |2024-09-16 01:35:11.652|\n",
            "|3453660828630795370_482001976|C_t3jmxOERq|1725927989501229|false                        |{private_reply_status=0, share_enabled=false, created_at=1725928476, type=1, is_covered=false, created_at_utc=1725928476, has_translation=true, content_type=comment, user_id=482001976, bit_flags=0, media_id=3453660828630795370, text=COMPRE NO SARANDI 🙌🏻\n",
            ".\n",
            "Meus cpx, entre tantas e tantas regiões atingidas em maio pelas chuvas, o Bairro Sarandi, na Zona Norte de Porto Alegre, foi um dos mais castigados. \n",
            "Entre tantas frentes necessárias de lá pra cá, uma delas está, sem dúvida, no fato de reconstruir aos poucos o ecossistema econômico do pequeno empreendedor nas mais diversas esferas de ofertas de serviços. Para isso, estamos promovendo publicidades e propagandas das lojas e o comércio em geral de forma gratuita para ajudar na visibilidade dos trabalhadores do bairro. \n",
            "E ESSE TRABALHO VAI LONGE… E TAMO JUNTO SEMPRE.\n",
            ".\n",
            "SE TU TEM COMÉRCIO NO SARANDI, ENTRA EM CONTATO COM A GENTE E VAMO AGENDAR UMA PUBLI AÍ NO TEU TRAMPO ✊🏻✊🏻\n",
            "Chama aqui: (51) 99576-1087 (Matheus Castro)\n",
            "E se puder, COMPRE NO SARANDI ❤️\n",
            ".\n",
            "(Obs: aqui na minha bio existe um destaque de todas as lojas e serviços que a gente já divulgou até agora. Dá uma olhadinha ali 🤓), pk=18025254284111940, did_report_as_spam=false, user={is_private=false, pk_id=482001976, profile_pic_id=3436382941194761236_482001976, fbid_v2=17841400539287531, is_verified=true, full_name=Marcito Castro, is_unpublished=false, id=482001976, pk=482001976, profile_pic_url=https://instagram.fphl1-1.fna.fbcdn.net/v/t51.2885-19/455822620_1019247976559485_5672978017921992113_n.jpg?stp=dst-jpg_e0_s150x150&_nc_ht=instagram.fphl1-1.fna.fbcdn.net&_nc_cat=1&_nc_ohc=N_yyuRP2Ba0Q7kNvgEdbgZO&_nc_gid=39f11293b78b45c59426ac839f0255de&edm=ABmJApABAAAA&ccb=7-5&oh=00_AYC7lfNvF0YiI3Yt4-fzMntb8A4TtJAJFnL_pUJuwVgJ7g&oe=66ED7067&_nc_sid=b41fef, username=marcitocastro, strong_id__=482001976}, is_ranked_comment=false, strong_id__=18025254284111940, status=Active}|{candidates=[{width=1080, scans_profile=e35, url=https://scontent-iad3-1.cdninstagram.com/v/t51.29350-15/459083354_473311215704110_9173933237595551627_n.jpg?stp=dst-jpg_e35_s1080x1080&efg=eyJ2ZW5jb2RlX3RhZyI6ImltYWdlX3VybGdlbi4xNDQweDE0NDAuc2RyLmYyOTM1MC5kZWZhdWx0X2ltYWdlIn0&_nc_ht=scontent-iad3-1.cdninstagram.com&_nc_cat=110&_nc_ohc=iQBiCqralZsQ7kNvgEPbmqy&_nc_gid=39f11293b78b45c59426ac839f0255de&edm=ABmJApABAAAA&ccb=7-5&ig_cache_key=MzQ1MzY2MDgyODYzMDc5NTM3MA%3D%3D.3-ccb7-5&oh=00_AYCf5vatlHkXtKwSbDz_d2YbfcgSAPudY3I5QwT2oJqq0A&oe=66ED5741&_nc_sid=b41fef, height=1080}, {width=360, scans_profile=e35, url=https://scontent-iad3-1.cdninstagram.com/v/t51.29350-15/459083354_473311215704110_9173933237595551627_n.jpg?stp=dst-jpg_e35_s360x360&efg=eyJ2ZW5jb2RlX3RhZyI6ImltYWdlX3VybGdlbi4xNDQweDE0NDAuc2RyLmYyOTM1MC5kZWZhdWx0X2ltYWdlIn0&_nc_ht=scontent-iad3-1.cdninstagram.com&_nc_cat=110&_nc_ohc=iQBiCqralZsQ7kNvgEPbmqy&_nc_gid=39f11293b78b45c59426ac839f0255de&edm=ABmJApABAAAA&ccb=7-5&ig_cache_key=MzQ1MzY2MDgyODYzMDc5NTM3MA%3D%3D.3-ccb7-5&oh=00_AYB-dpru1PZOvCRcBlADzQxo1JIqoDeEp8-x6LEA04vcxg&oe=66ED5741&_nc_sid=b41fef, height=360}]}                                                                                                                                                                                                                                                                                                                                                                                                                                                                                                                                                                                                                                                                                                                                                                                                                                                                                                                                                                                                                                                                                                                                                                                                                                                               |feed        |[{is_private=false, full_name=Matheus Castro, pk_id=3969072663, profile_pic_id=3451902283942016810_3969072663, id=3969072663, pk=3969072663, profile_pic_url=https://scontent-iad3-1.cdninstagram.com/v/t51.2885-19/458488527_1180672566570940_7570863953468056262_n.jpg?stp=dst-jpg_e0_s150x150&_nc_ht=scontent-iad3-1.cdninstagram.com&_nc_cat=104&_nc_ohc=luXUof_uAs4Q7kNvgGaeKKD&edm=ABmJApABAAAA&ccb=7-5&oh=00_AYDJ4_L5G6Gx32_jWLdUzClK8CgQGDBM2bnjojclokf5bw&oe=66ED79D6&_nc_sid=b41fef, is_verified=false, username=matheus_mcastro, strong_id__=3969072663}]                                         |1180      |25           |null         |[482001976]             |2024-09-16 01:35:11.652|\n",
            "|3457916558075269191_482001976|C_8_MnrBJBH|1726435787591621|false                        |{private_reply_status=0, share_enabled=false, created_at=1726435885, type=1, is_covered=false, created_at_utc=1726435885, has_translation=true, content_type=comment, user_id=482001976, bit_flags=0, media_id=3457916558075269191, text=Era open bar de laço \n",
            ".\n",
            ".\n",
            ".\n",
            "#humor #piada #comedia #nostalgia #anos90 #mae #filhos #standupcomedy #marcito #fy, pk=18017016047287597, did_report_as_spam=false, user={is_private=false, pk_id=482001976, profile_pic_id=3436382941194761236_482001976, fbid_v2=17841400539287531, is_verified=true, full_name=Marcito Castro, is_unpublished=false, id=482001976, pk=482001976, profile_pic_url=https://instagram.fphl1-1.fna.fbcdn.net/v/t51.2885-19/455822620_1019247976559485_5672978017921992113_n.jpg?stp=dst-jpg_e0_s150x150&_nc_ht=instagram.fphl1-1.fna.fbcdn.net&_nc_cat=1&_nc_ohc=N_yyuRP2Ba0Q7kNvgEdbgZO&_nc_gid=39f11293b78b45c59426ac839f0255de&edm=ABmJApABAAAA&ccb=7-5&oh=00_AYC7lfNvF0YiI3Yt4-fzMntb8A4TtJAJFnL_pUJuwVgJ7g&oe=66ED7067&_nc_sid=b41fef, username=marcitocastro, strong_id__=482001976}, is_ranked_comment=false, strong_id__=18017016047287597, status=Active}                                                                                                                                                                                                                                                                                                                                                                                                                                                                                                                                                                                                                                                                                                                                                                                                                                       |{scrubber_spritesheet_info_candidates={default={video_length=51.4, max_thumbnails_per_sprite=105, sprite_height=1246, sprite_urls=[https://scontent-iad3-1.cdninstagram.com/v/t51.2885-15/460257941_549707997582142_155768339618041822_n.jpg?_nc_ht=scontent-iad3-1.cdninstagram.com&_nc_cat=110&_nc_ohc=Zp0YT1z2sb8Q7kNvgFPG0_J&edm=ABmJApABAAAA&ccb=7-5&oh=00_AYCr6zPPyDL2wC-x3R0ADKcqBPvbVdzRNlzFz8SbpkBWQQ&oe=66ED6E2A&_nc_sid=b41fef], thumbnail_duration=0.4895238095238095, rendered_width=96, thumbnail_height=178, file_size_kb=352, total_thumbnail_num_per_sprite=105, thumbnails_per_row=15, sprite_width=1500, thumbnail_width=100}}, candidates=[{width=360, scans_profile=e15, url=https://instagram.fphl1-1.fna.fbcdn.net/v/t51.29350-15/460274919_884658540218759_3352703437823257292_n.jpg?stp=dst-jpg_e15_p360x360&efg=eyJ2ZW5jb2RlX3RhZyI6ImltYWdlX3VybGdlbi43MjB4MTI4MC5zZHIuZjI5MzUwLmRlZmF1bHRfY292ZXJfZnJhbWUifQ&_nc_ht=instagram.fphl1-1.fna.fbcdn.net&_nc_cat=1&_nc_ohc=sqelxVtFTlgQ7kNvgH98wds&_nc_gid=39f11293b78b45c59426ac839f0255de&edm=ABmJApABAAAA&ccb=7-5&ig_cache_key=MzQ1NzkxNjU1ODA3NTI2OTE5MQ%3D%3D.3-ccb7-5&oh=00_AYDkAQdeVgi5Wip7TyE4FAHR0Hhgmaw_XpgloJ62H6WjlQ&oe=66ED45E4&_nc_sid=b41fef, height=640}], additional_candidates={smart_frame=null, igtv_first_frame={width=360, scans_profile=e15, url=https://instagram.fphl1-1.fna.fbcdn.net/v/t51.2885-15/460245549_496953253106874_1357214898293357663_n.jpg?stp=dst-jpg_e15_p360x360&efg=eyJ2ZW5jb2RlX3RhZyI6ImltYWdlX3VybGdlbi42NDB4MTEzNi5zZHIuZjcxODc4LmFkZGl0aW9uYWxfY292ZXJfZnJhbWUifQ&_nc_ht=instagram.fphl1-1.fna.fbcdn.net&_nc_cat=1&_nc_ohc=vOXZudrhpLMQ7kNvgHiloby&edm=ABmJApABAAAA&ccb=7-5&oh=00_AYB-3O_D2cOqzOUO6QrqurFJDa5sCMLmTK9qj2SButqcQQ&oe=66ED53A3&_nc_sid=b41fef, height=639}, first_frame={width=360, scans_profile=e15, url=https://instagram.fphl1-1.fna.fbcdn.net/v/t51.2885-15/460245549_496953253106874_1357214898293357663_n.jpg?stp=dst-jpg_e15_p360x360&efg=eyJ2ZW5jb2RlX3RhZyI6ImltYWdlX3VybGdlbi42NDB4MTEzNi5zZHIuZjcxODc4LmFkZGl0aW9uYWxfY292ZXJfZnJhbWUifQ&_nc_ht=instagram.fphl1-1.fna.fbcdn.net&_nc_cat=1&_nc_ohc=vOXZudrhpLMQ7kNvgHiloby&edm=ABmJApABAAAA&ccb=7-5&oh=00_AYB-3O_D2cOqzOUO6QrqurFJDa5sCMLmTK9qj2SButqcQQ&oe=66ED53A3&_nc_sid=b41fef, height=639}}}                                                                                                                                            |clips       |[]                                                                                                                                                                                                                                                                                                                                                                                                                                                                                                                                                                                                           |10515     |190          |4253         |null                    |2024-09-16 01:35:11.652|\n",
            "|3457729463011993678_482001976|C_8UqB0O2hO|1726413454591611|false                        |{private_reply_status=0, share_enabled=false, created_at=1726414407, type=1, is_covered=false, created_at_utc=1726414407, has_translation=true, content_type=comment, user_id=482001976, bit_flags=0, media_id=3457729463011993678, text=Mais uma pérola que achei aqui… Vídeo de 2020 no auge da p@ndemia #repost, pk=17919945842972780, did_report_as_spam=false, user={is_private=false, pk_id=482001976, profile_pic_id=3436382941194761236_482001976, fbid_v2=17841400539287531, is_verified=true, full_name=Marcito Castro, is_unpublished=false, id=482001976, pk=482001976, profile_pic_url=https://instagram.fphl1-1.fna.fbcdn.net/v/t51.2885-19/455822620_1019247976559485_5672978017921992113_n.jpg?stp=dst-jpg_e0_s150x150&_nc_ht=instagram.fphl1-1.fna.fbcdn.net&_nc_cat=1&_nc_ohc=N_yyuRP2Ba0Q7kNvgEdbgZO&_nc_gid=39f11293b78b45c59426ac839f0255de&edm=ABmJApABAAAA&ccb=7-5&oh=00_AYC7lfNvF0YiI3Yt4-fzMntb8A4TtJAJFnL_pUJuwVgJ7g&oe=66ED7067&_nc_sid=b41fef, username=marcitocastro, strong_id__=482001976}, is_ranked_comment=false, strong_id__=17919945842972780, status=Active}                                                                                                                                                                                                                                                                                                                                                                                                                                                                                                                                                                                                                                                                                                                                                                                                                                                                            |{scrubber_spritesheet_info_candidates={default={video_length=201, max_thumbnails_per_sprite=105, sprite_height=1246, sprite_urls=[https://scontent-iad3-1.cdninstagram.com/v/t51.2885-15/460141140_437722265386490_4366416513125996866_n.jpg?_nc_ht=scontent-iad3-1.cdninstagram.com&_nc_cat=102&_nc_ohc=NSxjh8eqJdwQ7kNvgHVizjj&_nc_gid=39f11293b78b45c59426ac839f0255de&edm=ABmJApABAAAA&ccb=7-5&oh=00_AYArn02onQlFYKbyqw3v4LsVw4uENexSDJRrxDUMD9HhZg&oe=66ED77FE&_nc_sid=b41fef], thumbnail_duration=1.9142857142857144, rendered_width=96, thumbnail_height=178, file_size_kb=456, total_thumbnail_num_per_sprite=105, thumbnails_per_row=15, sprite_width=1500, thumbnail_width=100}}, candidates=[{width=360, scans_profile=e15, url=https://scontent-iad3-1.cdninstagram.com/v/t51.29350-15/459904917_1075916924537467_4560698523383836751_n.jpg?stp=dst-jpg_e15_p360x360&efg=eyJ2ZW5jb2RlX3RhZyI6ImltYWdlX3VybGdlbi43MjB4MTI4MC5zZHIuZjI5MzUwLmRlZmF1bHRfY292ZXJfZnJhbWUifQ&_nc_ht=scontent-iad3-1.cdninstagram.com&_nc_cat=107&_nc_ohc=x98e2yoohroQ7kNvgFyz7_4&edm=ABmJApABAAAA&ccb=7-5&ig_cache_key=MzQ1NzcyOTQ2MzAxMTk5MzY3OA%3D%3D.3-ccb7-5&oh=00_AYBcTkYXxrW8ag0xeipbD0RN43Zst4KHtpzT14sXk--zIA&oe=66ED569A&_nc_sid=b41fef, height=640}], additional_candidates={smart_frame=null, igtv_first_frame={width=360, scans_profile=e15, url=https://scontent-iad3-2.cdninstagram.com/v/t51.2885-15/459849167_436555925518707_6730217656291051485_n.jpg?stp=dst-jpg_e15_p360x360&efg=eyJ2ZW5jb2RlX3RhZyI6ImltYWdlX3VybGdlbi42NDB4MTEzNi5zZHIuZjcxODc4LmFkZGl0aW9uYWxfY292ZXJfZnJhbWUifQ&_nc_ht=scontent-iad3-2.cdninstagram.com&_nc_cat=103&_nc_ohc=L9BUyi4W27MQ7kNvgE4uOA0&_nc_gid=39f11293b78b45c59426ac839f0255de&edm=ABmJApABAAAA&ccb=7-5&oh=00_AYCQPDmf7leExnsNzgHdQZrPSqJfmkFyjaQy9y7qDFxjSQ&oe=66ED6442&_nc_sid=b41fef, height=639}, first_frame={width=360, scans_profile=e15, url=https://scontent-iad3-2.cdninstagram.com/v/t51.2885-15/459849167_436555925518707_6730217656291051485_n.jpg?stp=dst-jpg_e15_p360x360&efg=eyJ2ZW5jb2RlX3RhZyI6ImltYWdlX3VybGdlbi42NDB4MTEzNi5zZHIuZjcxODc4LmFkZGl0aW9uYWxfY292ZXJfZnJhbWUifQ&_nc_ht=scontent-iad3-2.cdninstagram.com&_nc_cat=103&_nc_ohc=L9BUyi4W27MQ7kNvgE4uOA0&_nc_gid=39f11293b78b45c59426ac839f0255de&edm=ABmJApABAAAA&ccb=7-5&oh=00_AYCQPDmf7leExnsNzgHdQZrPSqJfmkFyjaQy9y7qDFxjSQ&oe=66ED6442&_nc_sid=b41fef, height=639}}}                                             |clips       |[]                                                                                                                                                                                                                                                                                                                                                                                                                                                                                                                                                                                                           |1640      |148          |495          |null                    |2024-09-16 01:35:11.652|\n",
            "|3457292631703023235_482001976|C_6xVS9O-6D|1726361394745797|false                        |{private_reply_status=0, share_enabled=false, created_at=1726361676, type=1, is_covered=false, created_at_utc=1726361676, has_translation=true, content_type=comment, user_id=482001976, bit_flags=0, media_id=3457292631703023235, text=ASSISTA ENQUANTO ESTÁ NO AR 😐\n",
            ".\n",
            "Fiz essa paródia em 2019, mas acredito que hoje eu seria canc3lado por isso. \n",
            "(Assista a tempo de eu não sumir 😎), pk=18022264472185893, did_report_as_spam=false, user={is_private=false, pk_id=482001976, profile_pic_id=3436382941194761236_482001976, fbid_v2=17841400539287531, is_verified=true, full_name=Marcito Castro, is_unpublished=false, id=482001976, pk=482001976, profile_pic_url=https://instagram.fphl1-1.fna.fbcdn.net/v/t51.2885-19/455822620_1019247976559485_5672978017921992113_n.jpg?stp=dst-jpg_e0_s150x150&_nc_ht=instagram.fphl1-1.fna.fbcdn.net&_nc_cat=1&_nc_ohc=N_yyuRP2Ba0Q7kNvgEdbgZO&_nc_gid=39f11293b78b45c59426ac839f0255de&edm=ABmJApABAAAA&ccb=7-5&oh=00_AYC7lfNvF0YiI3Yt4-fzMntb8A4TtJAJFnL_pUJuwVgJ7g&oe=66ED7067&_nc_sid=b41fef, username=marcitocastro, strong_id__=482001976}, is_ranked_comment=false, strong_id__=18022264472185893, status=Active}                                                                                                                                                                                                                                                                                                                                                                                                                                                                                                                                                                                                                                                                                                                                                                                                  |{candidates=[{width=360, scans_profile=e15, url=https://scontent-iad3-1.cdninstagram.com/v/t51.29350-15/459734366_1029726591965138_7142166257418254811_n.jpg?stp=dst-jpg_e15_s360x360&efg=eyJ2ZW5jb2RlX3RhZyI6ImltYWdlX3VybGdlbi43MjB4NDA1LnNkci5mMjkzNTAuZGVmYXVsdF9jb3Zlcl9mcmFtZSJ9&_nc_ht=scontent-iad3-1.cdninstagram.com&_nc_cat=102&_nc_ohc=maMtK2_yRKEQ7kNvgEqvQg5&_nc_gid=39f11293b78b45c59426ac839f0255de&edm=ABmJApABAAAA&ccb=7-5&ig_cache_key=MzQ1NzI5MjYzMTcwMzAyMzIzNQ%3D%3D.3-ccb7-5&oh=00_AYDUCJ_TFe9CX7LwZdbMz-hJEmoDh9895uuFfwOKR3nKhQ&oe=66ED770B&_nc_sid=b41fef, height=202}], additional_candidates={smart_frame=null, igtv_first_frame={width=360, scans_profile=e15, url=https://scontent-iad3-1.cdninstagram.com/v/t51.2885-15/459656120_1221492785831353_8042712426121819285_n.jpg?stp=dst-jpg_e15_s360x360&efg=eyJ2ZW5jb2RlX3RhZyI6ImltYWdlX3VybGdlbi42NDB4MzYwLnNkci5mNzE4NzguYWRkaXRpb25hbF9jb3Zlcl9mcmFtZSJ9&_nc_ht=scontent-iad3-1.cdninstagram.com&_nc_cat=101&_nc_ohc=s_wVq8FES8kQ7kNvgEaeGYX&_nc_gid=39f11293b78b45c59426ac839f0255de&edm=ABmJApABAAAA&ccb=7-5&oh=00_AYBC77R1Fv7ueEOa3Dc4g6rJmbQjimJWNfx0fTJkju9wIQ&oe=66ED5DA2&_nc_sid=b41fef, height=202}, first_frame={width=360, scans_profile=e15, url=https://scontent-iad3-1.cdninstagram.com/v/t51.2885-15/459656120_1221492785831353_8042712426121819285_n.jpg?stp=dst-jpg_e15_s360x360&efg=eyJ2ZW5jb2RlX3RhZyI6ImltYWdlX3VybGdlbi42NDB4MzYwLnNkci5mNzE4NzguYWRkaXRpb25hbF9jb3Zlcl9mcmFtZSJ9&_nc_ht=scontent-iad3-1.cdninstagram.com&_nc_cat=101&_nc_ohc=s_wVq8FES8kQ7kNvgEaeGYX&_nc_gid=39f11293b78b45c59426ac839f0255de&edm=ABmJApABAAAA&ccb=7-5&oh=00_AYBC77R1Fv7ueEOa3Dc4g6rJmbQjimJWNfx0fTJkju9wIQ&oe=66ED5DA2&_nc_sid=b41fef, height=202}}}                                                                                                                                                                                                                                                                                                                                                                                                                                                                                                                                                                                                                                                                                                   |clips       |[]                                                                                                                                                                                                                                                                                                                                                                                                                                                                                                                                                                                                           |1865      |123          |1404         |null                    |2024-09-16 01:35:11.652|\n",
            "|3457283931407857987_482001976|C_6vWsLOzlD|1726360380745795|false                        |{private_reply_status=0, share_enabled=false, created_at=1726360479, type=1, is_covered=false, created_at_utc=1726360479, has_translation=true, content_type=comment, user_id=482001976, bit_flags=0, media_id=3457283931407857987, text=NÃO PERCA!!!\n",
            ".\n",
            "#repost @obrasilquedeucerto, pk=18035787995148878, did_report_as_spam=false, user={is_private=false, pk_id=482001976, profile_pic_id=3436382941194761236_482001976, fbid_v2=17841400539287531, is_verified=true, full_name=Marcito Castro, is_unpublished=false, id=482001976, pk=482001976, profile_pic_url=https://instagram.fphl1-1.fna.fbcdn.net/v/t51.2885-19/455822620_1019247976559485_5672978017921992113_n.jpg?stp=dst-jpg_e0_s150x150&_nc_ht=instagram.fphl1-1.fna.fbcdn.net&_nc_cat=1&_nc_ohc=N_yyuRP2Ba0Q7kNvgEdbgZO&_nc_gid=39f11293b78b45c59426ac839f0255de&edm=ABmJApABAAAA&ccb=7-5&oh=00_AYC7lfNvF0YiI3Yt4-fzMntb8A4TtJAJFnL_pUJuwVgJ7g&oe=66ED7067&_nc_sid=b41fef, username=marcitocastro, strong_id__=482001976}, is_ranked_comment=false, strong_id__=18035787995148878, status=Active}                                                                                                                                                                                                                                                                                                                                                                                                                                                                                                                                                                                                                                                                                                                                                                                                                                                                                                           |{scrubber_spritesheet_info_candidates={default={video_length=21.065, max_thumbnails_per_sprite=105, sprite_height=1246, sprite_urls=[https://scontent-iad3-2.cdninstagram.com/v/t51.2885-15/459919615_1042718103886977_1310985766267601462_n.jpg?_nc_ht=scontent-iad3-2.cdninstagram.com&_nc_cat=109&_nc_ohc=7ZJXXdtf23AQ7kNvgH5WCYp&edm=ABmJApABAAAA&ccb=7-5&oh=00_AYArdGs52w2H0krL7nw0VAPloOQZgxs6xG-MQBHWvtp5TQ&oe=66ED42BF&_nc_sid=b41fef], thumbnail_duration=0.20061904761904764, rendered_width=96, thumbnail_height=178, file_size_kb=167, total_thumbnail_num_per_sprite=105, thumbnails_per_row=15, sprite_width=1500, thumbnail_width=100}}, candidates=[{width=360, scans_profile=e15, url=https://scontent-iad3-1.cdninstagram.com/v/t51.29350-15/459639402_909356451246946_75131291521114709_n.jpg?stp=dst-jpg_e15_p360x360&efg=eyJ2ZW5jb2RlX3RhZyI6ImltYWdlX3VybGdlbi43MjB4MTI4MC5zZHIuZjI5MzUwLmRlZmF1bHRfY292ZXJfZnJhbWUifQ&_nc_ht=scontent-iad3-1.cdninstagram.com&_nc_cat=110&_nc_ohc=6rXSkiItcnEQ7kNvgHfwRnD&_nc_gid=39f11293b78b45c59426ac839f0255de&edm=ABmJApABAAAA&ccb=7-5&ig_cache_key=MzQ1NzI4MzkzMTQwNzg1Nzk4Nw%3D%3D.3-ccb7-5&oh=00_AYBMi3LVGywQI1Gp3rUOGP1MohP1nhKfknizoKy7610Mpg&oe=66ED55E8&_nc_sid=b41fef, height=640}], additional_candidates={smart_frame=null, igtv_first_frame={width=360, scans_profile=e15, url=https://scontent-iad3-1.cdninstagram.com/v/t51.2885-15/459736822_1240146826997144_7246790606582963292_n.jpg?stp=dst-jpg_e15_p360x360&efg=eyJ2ZW5jb2RlX3RhZyI6ImltYWdlX3VybGdlbi42NDB4MTEzNi5zZHIuZjcxODc4LmFkZGl0aW9uYWxfY292ZXJfZnJhbWUifQ&_nc_ht=scontent-iad3-1.cdninstagram.com&_nc_cat=108&_nc_ohc=DoEcUJloyXMQ7kNvgFgCVyH&_nc_gid=39f11293b78b45c59426ac839f0255de&edm=ABmJApABAAAA&ccb=7-5&oh=00_AYB35ajchxL0vpuDV2ZE0H5xg3NiKpA6pO9hQoNDYLed_A&oe=66ED5730&_nc_sid=b41fef, height=639}, first_frame={width=360, scans_profile=e15, url=https://scontent-iad3-1.cdninstagram.com/v/t51.2885-15/459736822_1240146826997144_7246790606582963292_n.jpg?stp=dst-jpg_e15_p360x360&efg=eyJ2ZW5jb2RlX3RhZyI6ImltYWdlX3VybGdlbi42NDB4MTEzNi5zZHIuZjcxODc4LmFkZGl0aW9uYWxfY292ZXJfZnJhbWUifQ&_nc_ht=scontent-iad3-1.cdninstagram.com&_nc_cat=108&_nc_ohc=DoEcUJloyXMQ7kNvgFgCVyH&_nc_gid=39f11293b78b45c59426ac839f0255de&edm=ABmJApABAAAA&ccb=7-5&oh=00_AYB35ajchxL0vpuDV2ZE0H5xg3NiKpA6pO9hQoNDYLed_A&oe=66ED5730&_nc_sid=b41fef, height=639}}}                                         |clips       |[]                                                                                                                                                                                                                                                                                                                                                                                                                                                                                                                                                                                                           |1370      |57           |854          |null                    |2024-09-16 01:35:11.652|\n",
            "|3456562400289500326_482001976|C_4LTB9Oiym|1726274102785419|false                        |{private_reply_status=0, share_enabled=false, created_at=1726274370, type=1, is_covered=false, created_at_utc=1726274370, content_type=comment, user_id=482001976, bit_flags=0, media_id=3456562400289500326, text=QUE LINDEZA MEUS CPX DE GUAÍBA 😍🫶🏻🥹👏🏻, pk=18043829857970353, did_report_as_spam=false, user={is_private=false, pk_id=482001976, profile_pic_id=3436382941194761236_482001976, fbid_v2=17841400539287531, is_verified=true, full_name=Marcito Castro, is_unpublished=false, id=482001976, pk=482001976, profile_pic_url=https://instagram.fphl1-1.fna.fbcdn.net/v/t51.2885-19/455822620_1019247976559485_5672978017921992113_n.jpg?stp=dst-jpg_e0_s150x150&_nc_ht=instagram.fphl1-1.fna.fbcdn.net&_nc_cat=1&_nc_ohc=N_yyuRP2Ba0Q7kNvgEdbgZO&_nc_gid=39f11293b78b45c59426ac839f0255de&edm=ABmJApABAAAA&ccb=7-5&oh=00_AYC7lfNvF0YiI3Yt4-fzMntb8A4TtJAJFnL_pUJuwVgJ7g&oe=66ED7067&_nc_sid=b41fef, username=marcitocastro, strong_id__=482001976}, is_ranked_comment=false, strong_id__=18043829857970353, status=Active}                                                                                                                                                                                                                                                                                                                                                                                                                                                                                                                                                                                                                                                                                                                                                                                                                                                                                                                                |{candidates=[{width=1080, scans_profile=e35, url=https://scontent-iad3-1.cdninstagram.com/v/t51.29350-15/459446908_1046335706871922_3389436097105978618_n.jpg?se=-1&stp=dst-jpegr_e35_s1080x1080&efg=eyJ2ZW5jb2RlX3RhZyI6ImltYWdlX3VybGdlbi4xNDQweDEwODAuaGRyLmYyOTM1MC5kZWZhdWx0X2ltYWdlIn0&_nc_ht=scontent-iad3-1.cdninstagram.com&_nc_cat=110&_nc_ohc=nr49u4tZ3NoQ7kNvgH8hRvd&_nc_gid=39f11293b78b45c59426ac839f0255de&edm=ABmJApABAAAA&ccb=7-5&ig_cache_key=MzQ1NjU2MjQwMDI4OTUwMDMyNg%3D%3D.3-ccb7-5&oh=00_AYDJlL8tE8Bh8dJTmpZmyoGrtdwuHYLrhzlgAdjvv06akA&oe=66ED46CE&_nc_sid=b41fef, height=810}, {width=360, scans_profile=e35, url=https://scontent-iad3-1.cdninstagram.com/v/t51.29350-15/459446908_1046335706871922_3389436097105978618_n.jpg?se=-1&stp=dst-jpegr_e35_s360x360&efg=eyJ2ZW5jb2RlX3RhZyI6ImltYWdlX3VybGdlbi4xNDQweDEwODAuaGRyLmYyOTM1MC5kZWZhdWx0X2ltYWdlIn0&_nc_ht=scontent-iad3-1.cdninstagram.com&_nc_cat=110&_nc_ohc=nr49u4tZ3NoQ7kNvgH8hRvd&_nc_gid=39f11293b78b45c59426ac839f0255de&edm=ABmJApABAAAA&ccb=7-5&ig_cache_key=MzQ1NjU2MjQwMDI4OTUwMDMyNg%3D%3D.3-ccb7-5&oh=00_AYBQC8UjrWFyK78iQzvqWrSOjH9TvsTP7Yo1Lhw61q7lHA&oe=66ED46CE&_nc_sid=b41fef, height=270}]}                                                                                                                                                                                                                                                                                                                                                                                                                                                                                                                                                                                                                                                                                                                                                                                                                                                                                                                                                                                                                                                                                                                                                                                                                                              |feed        |[]                                                                                                                                                                                                                                                                                                                                                                                                                                                                                                                                                                                                           |1568      |48           |null         |null                    |2024-09-16 01:35:11.652|\n",
            "|3456489139740503024_482001976|C_36o8wOmvw|1726265629756274|false                        |{private_reply_status=0, share_enabled=false, created_at=1726265713, type=1, is_covered=false, created_at_utc=1726265713, has_translation=true, content_type=comment, user_id=482001976, bit_flags=0, media_id=3456489139740503024, text=VEM NOVIDADE AÍ 🫢🔥\n",
            "❗️❗️❗️🔞🔞❗️❗️❗️\n",
            ".\n",
            ".\n",
            ".\n",
            "#privacy #onlyfans #marcito #piada #comedian #humor #standupcomedy #fy #fyp, pk=18037028501146248, did_report_as_spam=false, user={is_private=false, pk_id=482001976, profile_pic_id=3436382941194761236_482001976, fbid_v2=17841400539287531, is_verified=true, full_name=Marcito Castro, is_unpublished=false, id=482001976, pk=482001976, profile_pic_url=https://instagram.fphl1-1.fna.fbcdn.net/v/t51.2885-19/455822620_1019247976559485_5672978017921992113_n.jpg?stp=dst-jpg_e0_s150x150&_nc_ht=instagram.fphl1-1.fna.fbcdn.net&_nc_cat=1&_nc_ohc=N_yyuRP2Ba0Q7kNvgEdbgZO&_nc_gid=39f11293b78b45c59426ac839f0255de&edm=ABmJApABAAAA&ccb=7-5&oh=00_AYC7lfNvF0YiI3Yt4-fzMntb8A4TtJAJFnL_pUJuwVgJ7g&oe=66ED7067&_nc_sid=b41fef, username=marcitocastro, strong_id__=482001976}, is_ranked_comment=false, strong_id__=18037028501146248, status=Active}                                                                                                                                                                                                                                                                                                                                                                                                                                                                                                                                                                                                                                                                                                                                                                                                                              |{scrubber_spritesheet_info_candidates={default={video_length=90.033, max_thumbnails_per_sprite=105, sprite_height=1246, sprite_urls=[https://scontent-iad3-1.cdninstagram.com/v/t51.2885-15/459536169_1544826649451140_4098354900672637602_n.jpg?_nc_ht=scontent-iad3-1.cdninstagram.com&_nc_cat=104&_nc_ohc=v8YfWLrv_-AQ7kNvgFdDXht&_nc_gid=39f11293b78b45c59426ac839f0255de&edm=ABmJApABAAAA&ccb=7-5&oh=00_AYAM8a_TvG4sFpdxAytVDvhFmCBJai0ibi_L1mEn9l9dPQ&oe=66ED423E&_nc_sid=b41fef], thumbnail_duration=0.8574571428571429, rendered_width=96, thumbnail_height=178, file_size_kb=365, total_thumbnail_num_per_sprite=105, thumbnails_per_row=15, sprite_width=1500, thumbnail_width=100}}, candidates=[{width=360, scans_profile=e15, url=https://scontent-iad3-1.cdninstagram.com/v/t51.29350-15/459690162_1059064682354590_5818479922975993679_n.jpg?stp=dst-jpg_e15_p360x360&efg=eyJ2ZW5jb2RlX3RhZyI6ImltYWdlX3VybGdlbi40ODB4ODU0LnNkci5mMjkzNTAuZGVmYXVsdF9jb3Zlcl9mcmFtZSJ9&_nc_ht=scontent-iad3-1.cdninstagram.com&_nc_cat=110&_nc_ohc=yulpWy-VNyAQ7kNvgG92DJi&_nc_gid=39f11293b78b45c59426ac839f0255de&edm=ABmJApABAAAA&ccb=7-5&ig_cache_key=MzQ1NjQ4OTEzOTc0MDUwMzAyNA%3D%3D.3-ccb7-5&oh=00_AYC9--Tib0xykb6pmr7_ulUU1JCGTW--IRZWWmhuu6nKQw&oe=66ED7007&_nc_sid=b41fef, height=640}], additional_candidates={smart_frame=null, igtv_first_frame={width=360, scans_profile=e15, url=https://scontent-iad3-1.cdninstagram.com/v/t51.2885-15/459602465_1234119697771448_1932534955249200635_n.jpg?stp=dst-jpg_e15_p360x360&efg=eyJ2ZW5jb2RlX3RhZyI6ImltYWdlX3VybGdlbi42NDB4MTEzOC5zZHIuZjcxODc4LmFkZGl0aW9uYWxfY292ZXJfZnJhbWUifQ&_nc_ht=scontent-iad3-1.cdninstagram.com&_nc_cat=108&_nc_ohc=i3B87MRdaA4Q7kNvgFOWTQU&_nc_gid=39f11293b78b45c59426ac839f0255de&edm=ABmJApABAAAA&ccb=7-5&oh=00_AYCZnqwchkhF_c9JMY-lZBduji7dKyep98fm42SjhHWKyQ&oe=66ED794B&_nc_sid=b41fef, height=640}, first_frame={width=360, scans_profile=e15, url=https://scontent-iad3-1.cdninstagram.com/v/t51.2885-15/459602465_1234119697771448_1932534955249200635_n.jpg?stp=dst-jpg_e15_p360x360&efg=eyJ2ZW5jb2RlX3RhZyI6ImltYWdlX3VybGdlbi42NDB4MTEzOC5zZHIuZjcxODc4LmFkZGl0aW9uYWxfY292ZXJfZnJhbWUifQ&_nc_ht=scontent-iad3-1.cdninstagram.com&_nc_cat=108&_nc_ohc=i3B87MRdaA4Q7kNvgFOWTQU&_nc_gid=39f11293b78b45c59426ac839f0255de&edm=ABmJApABAAAA&ccb=7-5&oh=00_AYCZnqwchkhF_c9JMY-lZBduji7dKyep98fm42SjhHWKyQ&oe=66ED794B&_nc_sid=b41fef, height=640}}}|clips       |[]                                                                                                                                                                                                                                                                                                                                                                                                                                                                                                                                                                                                           |12226     |200          |3034         |null                    |2024-09-16 01:35:11.652|\n",
            "|3456360192750933699_482001976|C_3dUhguFbD|1726250178117300|false                        |{private_reply_status=0, share_enabled=false, created_at=1726250265, type=1, is_covered=false, created_at_utc=1726250265, has_translation=true, content_type=comment, user_id=482001976, bit_flags=0, media_id=3456360192750933699, text=ONTEM FOI NOITE DE STAND UP NO CINEMA NO PROJETO QUINTA COMEDY COM A REALIZAÇÃO DA @artistaria NO @arcoplexcinemas NO @shoppingdovalers EM CACHOEIRINHA \n",
            "Lotamos a casa e outubro e novembro tamo lá de novo 😍🫶🏻, pk=18121686001353732, did_report_as_spam=false, user={is_private=false, pk_id=482001976, profile_pic_id=3436382941194761236_482001976, fbid_v2=17841400539287531, is_verified=true, full_name=Marcito Castro, is_unpublished=false, id=482001976, pk=482001976, profile_pic_url=https://instagram.fphl1-1.fna.fbcdn.net/v/t51.2885-19/455822620_1019247976559485_5672978017921992113_n.jpg?stp=dst-jpg_e0_s150x150&_nc_ht=instagram.fphl1-1.fna.fbcdn.net&_nc_cat=1&_nc_ohc=N_yyuRP2Ba0Q7kNvgEdbgZO&_nc_gid=39f11293b78b45c59426ac839f0255de&edm=ABmJApABAAAA&ccb=7-5&oh=00_AYC7lfNvF0YiI3Yt4-fzMntb8A4TtJAJFnL_pUJuwVgJ7g&oe=66ED7067&_nc_sid=b41fef, username=marcitocastro, strong_id__=482001976}, is_ranked_comment=false, strong_id__=18121686001353732, status=Active}                                                                                                                                                                                                                                                                                                                                                                                                                                                                                                                                                                                                                                                                                                                                  |{candidates=[{width=1080, scans_profile=e35, url=https://scontent-iad3-2.cdninstagram.com/v/t51.29350-15/459417551_1252813119416811_6643778299222783274_n.jpg?stp=dst-jpg_e35_s1080x1080&efg=eyJ2ZW5jb2RlX3RhZyI6ImltYWdlX3VybGdlbi4xNDQweDgxMC5zZHIuZjI5MzUwLmRlZmF1bHRfaW1hZ2UifQ&_nc_ht=scontent-iad3-2.cdninstagram.com&_nc_cat=103&_nc_ohc=-MAhn8EIRn0Q7kNvgFdDjvk&_nc_gid=39f11293b78b45c59426ac839f0255de&edm=ABmJApABAAAA&ccb=7-5&ig_cache_key=MzQ1NjM2MDE5Mjc1MDkzMzY5OQ%3D%3D.3-ccb7-5&oh=00_AYB5DQWnBwGih0_Agw_4EBfLXUy69k1vkjQ_1m_Tn_4BJg&oe=66ED540A&_nc_sid=b41fef, height=608}, {width=360, scans_profile=e35, url=https://scontent-iad3-2.cdninstagram.com/v/t51.29350-15/459417551_1252813119416811_6643778299222783274_n.jpg?stp=dst-jpg_e35_s360x360&efg=eyJ2ZW5jb2RlX3RhZyI6ImltYWdlX3VybGdlbi4xNDQweDgxMC5zZHIuZjI5MzUwLmRlZmF1bHRfaW1hZ2UifQ&_nc_ht=scontent-iad3-2.cdninstagram.com&_nc_cat=103&_nc_ohc=-MAhn8EIRn0Q7kNvgFdDjvk&edm=ABmJApABAAAA&ccb=7-5&ig_cache_key=MzQ1NjM2MDE5Mjc1MDkzMzY5OQ%3D%3D.3-ccb7-5&oh=00_AYARpV6CkaQJEDaQ6tKeP-ymLMOJF_xt4Z6Eeo-uP5XBIw&oe=66ED540A&_nc_sid=b41fef, height=202}]}                                                                                                                                                                                                                                                                                                                                                                                                                                                                                                                                                                                                                                                                                                                                                                                                                                                                                                                                                                                                                                                                                                                                                                                                                                                                                                         |feed        |[]                                                                                                                                                                                                                                                                                                                                                                                                                                                                                                                                                                                                           |425       |14           |null         |null                    |2024-09-16 01:35:11.652|\n",
            "|3455920342591633777_482001976|C_15T3IOHlx|1726197816743295|false                        |{private_reply_status=0, share_enabled=false, created_at=1726197929, type=1, is_covered=false, created_at_utc=1726197929, has_translation=true, content_type=comment, user_id=482001976, bit_flags=0, media_id=3455920342591633777, text=Valeu pelo carinho @seumauricio sou um grande fã do teu trabalho também ❤️✊🏻✊🏻, pk=18103130803431375, did_report_as_spam=false, user={is_private=false, pk_id=482001976, profile_pic_id=3436382941194761236_482001976, fbid_v2=17841400539287531, is_verified=true, full_name=Marcito Castro, is_unpublished=false, id=482001976, pk=482001976, profile_pic_url=https://instagram.fphl1-1.fna.fbcdn.net/v/t51.2885-19/455822620_1019247976559485_5672978017921992113_n.jpg?stp=dst-jpg_e0_s150x150&_nc_ht=instagram.fphl1-1.fna.fbcdn.net&_nc_cat=1&_nc_ohc=N_yyuRP2Ba0Q7kNvgEdbgZO&_nc_gid=39f11293b78b45c59426ac839f0255de&edm=ABmJApABAAAA&ccb=7-5&oh=00_AYC7lfNvF0YiI3Yt4-fzMntb8A4TtJAJFnL_pUJuwVgJ7g&oe=66ED7067&_nc_sid=b41fef, username=marcitocastro, strong_id__=482001976}, is_ranked_comment=false, strong_id__=18103130803431375, status=Active}                                                                                                                                                                                                                                                                                                                                                                                                                                                                                                                                                                                                                                                                                                                                                                                                                                                                     |{scrubber_spritesheet_info_candidates={default={video_length=68.266, max_thumbnails_per_sprite=105, sprite_height=1246, sprite_urls=[https://scontent-iad3-2.cdninstagram.com/v/t51.2885-15/459235974_1032820631677800_717801701559154172_n.jpg?_nc_ht=scontent-iad3-2.cdninstagram.com&_nc_cat=100&_nc_ohc=_zNle8mCoFYQ7kNvgHZvdIf&_nc_gid=39f11293b78b45c59426ac839f0255de&edm=ABmJApABAAAA&ccb=7-5&oh=00_AYD3gv7SJgnq6-BqseUcR__1NgD3MPycjAeyqCH_s_HzQA&oe=66ED4ED8&_nc_sid=b41fef], thumbnail_duration=0.650152380952381, rendered_width=96, thumbnail_height=178, file_size_kb=318, total_thumbnail_num_per_sprite=105, thumbnails_per_row=15, sprite_width=1500, thumbnail_width=100}}, candidates=[{width=360, scans_profile=e15, url=https://scontent-iad3-1.cdninstagram.com/v/t51.29350-15/459705489_1500572347492724_6468401980519804718_n.jpg?stp=dst-jpg_e15_p360x360&efg=eyJ2ZW5jb2RlX3RhZyI6ImltYWdlX3VybGdlbi43MjB4MTI4MC5zZHIuZjI5MzUwLmRlZmF1bHRfY292ZXJfZnJhbWUifQ&_nc_ht=scontent-iad3-1.cdninstagram.com&_nc_cat=108&_nc_ohc=Lp8kXZJ7TOgQ7kNvgFthMI5&_nc_gid=39f11293b78b45c59426ac839f0255de&edm=ABmJApABAAAA&ccb=7-5&ig_cache_key=MzQ1NTkyMDM0MjU5MTYzMzc3Nw%3D%3D.3-ccb7-5&oh=00_AYBjxKbbcvaE1xEon0Cxt1L5m_RvZA39KuUAWit0xHyTDQ&oe=66ED6A87&_nc_sid=b41fef, height=640}], additional_candidates={smart_frame=null, igtv_first_frame={width=360, scans_profile=e15, url=https://scontent-iad3-1.cdninstagram.com/v/t51.2885-15/459519397_531841642579906_8350713214061583988_n.jpg?stp=dst-jpg_e15_p360x360&efg=eyJ2ZW5jb2RlX3RhZyI6ImltYWdlX3VybGdlbi42NDB4MTEzNi5zZHIuZjcxODc4LmFkZGl0aW9uYWxfY292ZXJfZnJhbWUifQ&_nc_ht=scontent-iad3-1.cdninstagram.com&_nc_cat=110&_nc_ohc=11oN49JLLPAQ7kNvgHFTHM0&_nc_gid=39f11293b78b45c59426ac839f0255de&edm=ABmJApABAAAA&ccb=7-5&oh=00_AYBBkIwMGzWJ3JALE2vABhyjfd-gyLCKxojt6j18Tzf8CA&oe=66ED5B57&_nc_sid=b41fef, height=639}, first_frame={width=360, scans_profile=e15, url=https://scontent-iad3-1.cdninstagram.com/v/t51.2885-15/459519397_531841642579906_8350713214061583988_n.jpg?stp=dst-jpg_e15_p360x360&efg=eyJ2ZW5jb2RlX3RhZyI6ImltYWdlX3VybGdlbi42NDB4MTEzNi5zZHIuZjcxODc4LmFkZGl0aW9uYWxfY292ZXJfZnJhbWUifQ&_nc_ht=scontent-iad3-1.cdninstagram.com&_nc_cat=110&_nc_ohc=11oN49JLLPAQ7kNvgHFTHM0&_nc_gid=39f11293b78b45c59426ac839f0255de&edm=ABmJApABAAAA&ccb=7-5&oh=00_AYBBkIwMGzWJ3JALE2vABhyjfd-gyLCKxojt6j18Tzf8CA&oe=66ED5B57&_nc_sid=b41fef, height=639}}}  |clips       |[]                                                                                                                                                                                                                                                                                                                                                                                                                                                                                                                                                                                                           |15640     |409          |183          |null                    |2024-09-16 01:35:11.652|\n",
            "|3455734369313129565_482001976|C_1PBmBBIRd|1726175651911798|false                        |{private_reply_status=0, share_enabled=false, created_at=1726175796, type=1, is_covered=false, created_at_utc=1726175796, content_type=comment, user_id=482001976, bit_flags=0, media_id=3455734369313129565, text=#tbt & #tdah, pk=17939973362864228, did_report_as_spam=false, user={is_private=false, pk_id=482001976, profile_pic_id=3436382941194761236_482001976, fbid_v2=17841400539287531, is_verified=true, full_name=Marcito Castro, is_unpublished=false, id=482001976, pk=482001976, profile_pic_url=https://instagram.fphl1-1.fna.fbcdn.net/v/t51.2885-19/455822620_1019247976559485_5672978017921992113_n.jpg?stp=dst-jpg_e0_s150x150&_nc_ht=instagram.fphl1-1.fna.fbcdn.net&_nc_cat=1&_nc_ohc=N_yyuRP2Ba0Q7kNvgEdbgZO&_nc_gid=39f11293b78b45c59426ac839f0255de&edm=ABmJApABAAAA&ccb=7-5&oh=00_AYC7lfNvF0YiI3Yt4-fzMntb8A4TtJAJFnL_pUJuwVgJ7g&oe=66ED7067&_nc_sid=b41fef, username=marcitocastro, strong_id__=482001976}, is_ranked_comment=false, strong_id__=17939973362864228, status=Active}                                                                                                                                                                                                                                                                                                                                                                                                                                                                                                                                                                                                                                                                                                                                                                                                                                                                                                                                                               |{scrubber_spritesheet_info_candidates={default={video_length=69.433, max_thumbnails_per_sprite=105, sprite_height=1246, sprite_urls=[https://scontent-iad3-2.cdninstagram.com/v/t51.2885-15/459434089_1276270963360014_1700027789868511342_n.jpg?_nc_ht=scontent-iad3-2.cdninstagram.com&_nc_cat=106&_nc_ohc=F2XjhukZjBEQ7kNvgEMbmyI&_nc_gid=39f11293b78b45c59426ac839f0255de&edm=ABmJApABAAAA&ccb=7-5&oh=00_AYDfELyZG4lSYvSnuW5mifmPVJaSZDWMeWGdtcl_LyplXg&oe=66ED53C7&_nc_sid=b41fef], thumbnail_duration=0.6612666666666668, rendered_width=96, thumbnail_height=178, file_size_kb=392, total_thumbnail_num_per_sprite=105, thumbnails_per_row=15, sprite_width=1500, thumbnail_width=100}}, candidates=[{width=360, scans_profile=e15, url=https://scontent-iad3-1.cdninstagram.com/v/t51.29350-15/459273238_456315570202105_5733503151862936627_n.jpg?stp=dst-jpg_e15_p360x360&efg=eyJ2ZW5jb2RlX3RhZyI6ImltYWdlX3VybGdlbi43MjB4MTI4MC5zZHIuZjI5MzUwLmRlZmF1bHRfY292ZXJfZnJhbWUifQ&_nc_ht=scontent-iad3-1.cdninstagram.com&_nc_cat=101&_nc_ohc=nfLMvl9DgsAQ7kNvgFy67M6&_nc_gid=39f11293b78b45c59426ac839f0255de&edm=ABmJApABAAAA&ccb=7-5&ig_cache_key=MzQ1NTczNDM2OTMxMzEyOTU2NQ%3D%3D.3-ccb7-5&oh=00_AYATC6LYIm9dq_AQMYpoaFS8EXnwGhiytcZ7Sr_MUWmlDQ&oe=66ED460D&_nc_sid=b41fef, height=640}], additional_candidates={smart_frame=null, igtv_first_frame={width=360, scans_profile=e15, url=https://scontent-iad3-2.cdninstagram.com/v/t51.2885-15/459513532_1130008898531043_5944700765079396625_n.jpg?stp=dst-jpg_e15_p360x360&efg=eyJ2ZW5jb2RlX3RhZyI6ImltYWdlX3VybGdlbi42NDB4MTEzNi5zZHIuZjcxODc4LmFkZGl0aW9uYWxfY292ZXJfZnJhbWUifQ&_nc_ht=scontent-iad3-2.cdninstagram.com&_nc_cat=103&_nc_ohc=XH8_pmU9qjkQ7kNvgE0-hDK&edm=ABmJApABAAAA&ccb=7-5&oh=00_AYDaSIa6iz4ZK4Kv6XvJg8l8PmJsyeCobg3SmxwevfNYoA&oe=66ED5462&_nc_sid=b41fef, height=639}, first_frame={width=360, scans_profile=e15, url=https://scontent-iad3-2.cdninstagram.com/v/t51.2885-15/459513532_1130008898531043_5944700765079396625_n.jpg?stp=dst-jpg_e15_p360x360&efg=eyJ2ZW5jb2RlX3RhZyI6ImltYWdlX3VybGdlbi42NDB4MTEzNi5zZHIuZjcxODc4LmFkZGl0aW9uYWxfY292ZXJfZnJhbWUifQ&_nc_ht=scontent-iad3-2.cdninstagram.com&_nc_cat=103&_nc_ohc=XH8_pmU9qjkQ7kNvgE0-hDK&edm=ABmJApABAAAA&ccb=7-5&oh=00_AYDaSIa6iz4ZK4Kv6XvJg8l8PmJsyeCobg3SmxwevfNYoA&oe=66ED5462&_nc_sid=b41fef, height=639}}}                                                                                 |clips       |[]                                                                                                                                                                                                                                                                                                                                                                                                                                                                                                                                                                                                           |16092     |168          |2465         |null                    |2024-09-16 01:35:11.652|\n",
            "+-----------------------------+-----------+----------------+-----------------------------+-----------------------------------------------------------------------------------------------------------------------------------------------------------------------------------------------------------------------------------------------------------------------------------------------------------------------------------------------------------------------------------------------------------------------------------------------------------------------------------------------------------------------------------------------------------------------------------------------------------------------------------------------------------------------------------------------------------------------------------------------------------------------------------------------------------------------------------------------------------------------------------------------------------------------------------------------------------------------------------------------------------------------------------------------------------------------------------------------------------------------------------------------------------------------------------------------------------------------------------------------------------------------------------------------------------------------------------------------------------------------------------------------------------------------------------------------------------------------------------------------------------------------------------------------------------------------------------------------------------------------------------------------------------------------------------------------------------------------------------------------------------------------------------------------------------------------------------------------------------------------------------------------------------------------------------------------------------------------------+----------------------------------------------------------------------------------------------------------------------------------------------------------------------------------------------------------------------------------------------------------------------------------------------------------------------------------------------------------------------------------------------------------------------------------------------------------------------------------------------------------------------------------------------------------------------------------------------------------------------------------------------------------------------------------------------------------------------------------------------------------------------------------------------------------------------------------------------------------------------------------------------------------------------------------------------------------------------------------------------------------------------------------------------------------------------------------------------------------------------------------------------------------------------------------------------------------------------------------------------------------------------------------------------------------------------------------------------------------------------------------------------------------------------------------------------------------------------------------------------------------------------------------------------------------------------------------------------------------------------------------------------------------------------------------------------------------------------------------------------------------------------------------------------------------------------------------------------------------------------------------------------------------------------------------------------------------------------------------------------------------------------------------------------------------------------------------------------------------------------------------------------------------------------------------------------------------------------------------------------------------------------------------------------------------------------------------------------------------------------------------------------------------------------------------------------+------------+-------------------------------------------------------------------------------------------------------------------------------------------------------------------------------------------------------------------------------------------------------------------------------------------------------------------------------------------------------------------------------------------------------------------------------------------------------------------------------------------------------------------------------------------------------------------------------------------------------------+----------+-------------+-------------+------------------------+-----------------------+\n",
            "\n"
          ]
        }
      ],
      "source": [
        "\n",
        "response_instagram_posts_data = get_posts(influencer)\n",
        "df, codigo_ultima_postagem = save_posts_data(response_instagram_posts_data)\n",
        "df.show(truncate=False)\n",
        "\n"
      ]
    },
    {
      "cell_type": "markdown",
      "metadata": {
        "id": "soLRik4E0Ih-"
      },
      "source": [
        "### Coletando COMENTÁRIOS\n",
        "\n",
        "Por fim enviaremos a requisição para nossa API na rota *`media_comments`* que devolverá os comentários da última postagem do influenciador através da função `get_comments`.\n",
        "\n",
        "\\\n",
        "Por fim salvamos as informações extraídas em um DataFrame Spark com o método `save_comments_data`."
      ]
    },
    {
      "cell_type": "code",
      "execution_count": 637,
      "metadata": {
        "colab": {
          "base_uri": "https://localhost:8080/",
          "height": 35
        },
        "id": "TSg0YoZcKsAP",
        "outputId": "7ae8b23f-3707-487a-c70a-8fc34eda4301"
      },
      "outputs": [
        {
          "output_type": "execute_result",
          "data": {
            "text/plain": [
              "'C_8_MnrBJBH'"
            ],
            "application/vnd.google.colaboratory.intrinsic+json": {
              "type": "string"
            }
          },
          "metadata": {},
          "execution_count": 637
        }
      ],
      "source": [
        "codigo_ultima_postagem"
      ]
    },
    {
      "cell_type": "code",
      "source": [
        "def get_comments(codigo_ultima_postagem):\n",
        "    \"\"\"\n",
        "    Recupera os comentários de uma postagem no Instagram.\n",
        "\n",
        "    Args:\n",
        "    codigo_ultima_postagem (str): Código ou ID da postagem para a qual os comentários devem ser recuperados.\n",
        "\n",
        "    Returns:\n",
        "    list: Uma lista de tuplas, onde cada tupla representa um comentário e contém as seguintes informações:\n",
        "        - pk (str): ID do comentário.\n",
        "        - user_id (str): ID do usuário que fez o comentário.\n",
        "        - text (str): Texto do comentário.\n",
        "        - comment_like_count (int): Número de curtidas no comentário.\n",
        "        - child_comment_count (int): Número de respostas ao comentário.\n",
        "        - user_username (str): Nome de usuário do autor do comentário.\n",
        "        - user_full_name (str): Nome completo do autor do comentário.\n",
        "        - user_is_verified (bool): Indica se o autor do comentário é um usuário verificado.\n",
        "\n",
        "    Nota:\n",
        "    A função faz chamadas contínuas à API do Instagram para recuperar todos os comentários,\n",
        "    lidando com a paginação automaticamente até que todos os comentários sejam recuperados.\n",
        "    \"\"\"\n",
        "    querystring = {\"code_or_id_or_url\":codigo_ultima_postagem,\"sort_order\":\"popular\",\"min_id\":None}\n",
        "\n",
        "    method = 'media_comments'\n",
        "    min_id = None\n",
        "\n",
        "    aux = 1\n",
        "\n",
        "\n",
        "    data_comments = []\n",
        "\n",
        "    while True:\n",
        "        print('Executando')\n",
        "        print(aux)\n",
        "        aux = aux+1\n",
        "        querystring = {\"code_or_id_or_url\":codigo_ultima_postagem,\"sort_order\":\"recent\",\"min_id\":min_id}\n",
        "        print(f'parameters: {querystring}')\n",
        "\n",
        "        response = requests.get(f'{url}{method}',\n",
        "                              headers=headers,\n",
        "                              params=querystring)\n",
        "\n",
        "\n",
        "        response_instagram = response.json()\n",
        "\n",
        "        array_comments = response_instagram.get('data').get('comments')\n",
        "\n",
        "        for comment in array_comments:\n",
        "            pk = comment.get('pk')\n",
        "            user_id = comment.get('user_id')\n",
        "            text = comment.get('text')\n",
        "            comment_like_count = comment.get('comment_like_count',0)\n",
        "            child_comment_count = comment.get('child_comment_count',0)\n",
        "            user_username = comment.get('user').get('username')\n",
        "            user_full_name = comment.get('user').get('full_name')\n",
        "            user_is_verified = comment.get('user').get('is_verified')\n",
        "            data_comments.append((pk,user_id,text,comment_like_count,child_comment_count,user_username,user_full_name,user_is_verified))\n",
        "\n",
        "        print(f'min_id_antes: {min_id}')\n",
        "        min_id = response_instagram.get('data').get('next_min_id')\n",
        "        print(f'min_id_depois: {min_id}')\n",
        "\n",
        "\n",
        "        # Se não houver mais itens a serem buscados, encerra o loop\n",
        "        if not min_id:\n",
        "            break\n",
        "\n",
        "    return data_comments\n",
        "\n",
        "def save_comments_data(response_instagram_comments_data):\n",
        "    \"\"\"\n",
        "    Salva os dados dos comentários no Data Lake.\n",
        "\n",
        "    Parâmetros:\n",
        "    response_instagram_comments_data (list): Lista de tuplas contendo dados dos comentários, onde cada tupla inclui:\n",
        "        - pk (str): ID do comentário.\n",
        "        - user_id (str): ID do usuário que fez o comentário.\n",
        "        - text (str): Texto do comentário.\n",
        "        - comment_like_count (int): Número de curtidas no comentário.\n",
        "        - child_comment_count (int): Número de respostas ao comentário.\n",
        "        - user_username (str): Nome de usuário do autor do comentário.\n",
        "        - user_full_name (str): Nome completo do autor do comentário.\n",
        "        - user_is_verified (bool): Indica se o autor do comentário é um usuário verificado.\n",
        "\n",
        "    Retorna:\n",
        "    DataFrame: DataFrame do Spark contendo os dados dos comentários, com uma coluna adicional 'ts_exec' que registra o timestamp da execução.\n",
        "\n",
        "    Nota:\n",
        "    A função cria um DataFrame a partir dos dados fornecidos, adiciona uma coluna com o timestamp da execução,\n",
        "    e salva o DataFrame em formato Parquet no Data Lake, utilizando o modo \"append\" para adicionar novos dados.\n",
        "    \"\"\"\n",
        "\n",
        "    schema = StructType([\n",
        "        StructField(\"pk\", StringType(), nullable=True),\n",
        "        StructField(\"user_id\", StringType(), nullable=True),\n",
        "        StructField(\"text\", StringType(), nullable=True),\n",
        "        StructField(\"comment_like_count\", StringType(), nullable=True),\n",
        "        StructField(\"child_comment_count\", StringType(), nullable=True),\n",
        "        StructField(\"user_username\", StringType(), nullable=True),\n",
        "        StructField(\"user_full_name\", StringType(), nullable=True),\n",
        "        StructField(\"user_is_verified\", StringType(), nullable=True)\n",
        "    ])\n",
        "\n",
        "    print(response_instagram_comments_data)\n",
        "\n",
        "    df = spark.createDataFrame(response_instagram_comments_data, schema=schema)\n",
        "\n",
        "    df = df.withColumn('ts_exec', F.current_timestamp())\n",
        "\n",
        "    df.write.mode(\"append\").format('parquet').save(f'{data_lake_path}{comments_path}')\n",
        "    return df"
      ],
      "metadata": {
        "id": "Ov9GsYYh5qQL"
      },
      "execution_count": 638,
      "outputs": []
    },
    {
      "cell_type": "code",
      "execution_count": 639,
      "metadata": {
        "colab": {
          "base_uri": "https://localhost:8080/"
        },
        "id": "SNn7Ov8q0T6F",
        "outputId": "a2166330-2f5d-4bfd-8887-a77ab3cdfda6"
      },
      "outputs": [
        {
          "output_type": "stream",
          "name": "stdout",
          "text": [
            "Executando\n",
            "1\n",
            "parameters: {'code_or_id_or_url': 'C_8_MnrBJBH', 'sort_order': 'recent', 'min_id': None}\n",
            "min_id_antes: None\n",
            "min_id_depois: {\"server_cursor\": \"QVFCNkxvUkpIaEYwMlU4cDEzakI2eFRKZVR1MmVhRWhvWldVSkNjWHJQbHN3aWNLOUIyT3JtdkRZTWcyVVNablFhSjJPSS1KZmgwdHcyaHlJa1RNU0I0ZEhaeWtaR095NmlHTldGQkpMeDZxTEE=\", \"is_server_cursor_inverse\": true}\n",
            "Executando\n",
            "2\n",
            "parameters: {'code_or_id_or_url': 'C_8_MnrBJBH', 'sort_order': 'recent', 'min_id': '{\"server_cursor\": \"QVFCNkxvUkpIaEYwMlU4cDEzakI2eFRKZVR1MmVhRWhvWldVSkNjWHJQbHN3aWNLOUIyT3JtdkRZTWcyVVNablFhSjJPSS1KZmgwdHcyaHlJa1RNU0I0ZEhaeWtaR095NmlHTldGQkpMeDZxTEE=\", \"is_server_cursor_inverse\": true}'}\n",
            "min_id_antes: {\"server_cursor\": \"QVFCNkxvUkpIaEYwMlU4cDEzakI2eFRKZVR1MmVhRWhvWldVSkNjWHJQbHN3aWNLOUIyT3JtdkRZTWcyVVNablFhSjJPSS1KZmgwdHcyaHlJa1RNU0I0ZEhaeWtaR095NmlHTldGQkpMeDZxTEE=\", \"is_server_cursor_inverse\": true}\n",
            "min_id_depois: {\"server_cursor\": \"QVFBbU1Xcm9pT3JBRnc5cnNsTHNHSzdwRXd4azdfbm52OGtUMFk2NU1maEJUN0xqb3gxYThvVXd5azNfbjVVYVVxMVFjOFFDS2ZPT2M3ZHNKNmQ4bmc2cFNsNkdNdVdQUzNhUzZMS3hxVHd5Q3c=\", \"is_server_cursor_inverse\": true}\n",
            "Executando\n",
            "3\n",
            "parameters: {'code_or_id_or_url': 'C_8_MnrBJBH', 'sort_order': 'recent', 'min_id': '{\"server_cursor\": \"QVFBbU1Xcm9pT3JBRnc5cnNsTHNHSzdwRXd4azdfbm52OGtUMFk2NU1maEJUN0xqb3gxYThvVXd5azNfbjVVYVVxMVFjOFFDS2ZPT2M3ZHNKNmQ4bmc2cFNsNkdNdVdQUzNhUzZMS3hxVHd5Q3c=\", \"is_server_cursor_inverse\": true}'}\n",
            "min_id_antes: {\"server_cursor\": \"QVFBbU1Xcm9pT3JBRnc5cnNsTHNHSzdwRXd4azdfbm52OGtUMFk2NU1maEJUN0xqb3gxYThvVXd5azNfbjVVYVVxMVFjOFFDS2ZPT2M3ZHNKNmQ4bmc2cFNsNkdNdVdQUzNhUzZMS3hxVHd5Q3c=\", \"is_server_cursor_inverse\": true}\n",
            "min_id_depois: {\"server_cursor\": \"QVFCcTVCZVY2SUZvWWRrZG52WFlGR1NIUDVJWU9RQm16Vkx5cHZmNXlmTzNnbkNZVFdNVWFMallxeUVoSkhqY2dVUWJCN0UteEREc1RrUFBxODBPenVhM1lPYXMtbmNBbEVEWXNOZFdKM2licEE=\", \"is_server_cursor_inverse\": true}\n",
            "Executando\n",
            "4\n",
            "parameters: {'code_or_id_or_url': 'C_8_MnrBJBH', 'sort_order': 'recent', 'min_id': '{\"server_cursor\": \"QVFCcTVCZVY2SUZvWWRrZG52WFlGR1NIUDVJWU9RQm16Vkx5cHZmNXlmTzNnbkNZVFdNVWFMallxeUVoSkhqY2dVUWJCN0UteEREc1RrUFBxODBPenVhM1lPYXMtbmNBbEVEWXNOZFdKM2licEE=\", \"is_server_cursor_inverse\": true}'}\n",
            "min_id_antes: {\"server_cursor\": \"QVFCcTVCZVY2SUZvWWRrZG52WFlGR1NIUDVJWU9RQm16Vkx5cHZmNXlmTzNnbkNZVFdNVWFMallxeUVoSkhqY2dVUWJCN0UteEREc1RrUFBxODBPenVhM1lPYXMtbmNBbEVEWXNOZFdKM2licEE=\", \"is_server_cursor_inverse\": true}\n",
            "min_id_depois: {\"server_cursor\": \"QVFEb1RQZmluWVluSzVSczVsS2NrTjk1WlgwYk9MNDZSMlk3dUIyQVpmYXhHUW4wdDNqWWtXeUpfcDFMR2luUjAwNXBYN3R5MG5GQlpiTjAtc2phSTVsMG54OVBaQkhYQVRfZ1ZYb0hZMHdpcGc=\", \"is_server_cursor_inverse\": true}\n",
            "Executando\n",
            "5\n",
            "parameters: {'code_or_id_or_url': 'C_8_MnrBJBH', 'sort_order': 'recent', 'min_id': '{\"server_cursor\": \"QVFEb1RQZmluWVluSzVSczVsS2NrTjk1WlgwYk9MNDZSMlk3dUIyQVpmYXhHUW4wdDNqWWtXeUpfcDFMR2luUjAwNXBYN3R5MG5GQlpiTjAtc2phSTVsMG54OVBaQkhYQVRfZ1ZYb0hZMHdpcGc=\", \"is_server_cursor_inverse\": true}'}\n",
            "min_id_antes: {\"server_cursor\": \"QVFEb1RQZmluWVluSzVSczVsS2NrTjk1WlgwYk9MNDZSMlk3dUIyQVpmYXhHUW4wdDNqWWtXeUpfcDFMR2luUjAwNXBYN3R5MG5GQlpiTjAtc2phSTVsMG54OVBaQkhYQVRfZ1ZYb0hZMHdpcGc=\", \"is_server_cursor_inverse\": true}\n",
            "min_id_depois: {\"server_cursor\": \"QVFBY09XZTgyYlJMclZvNE0zNEM1bG5TNENKdm1hYnVMMGpMLTNVSFBnUmU2Zlh5dnNFMlFTV1FydHNaWUpfTFlnV0FJN2Z4elBHVEJDRVItSTBJR0lVSjdGZG5yQm1sS09QTWI1Ri0zYWtTWXc=\", \"is_server_cursor_inverse\": true}\n",
            "Executando\n",
            "6\n",
            "parameters: {'code_or_id_or_url': 'C_8_MnrBJBH', 'sort_order': 'recent', 'min_id': '{\"server_cursor\": \"QVFBY09XZTgyYlJMclZvNE0zNEM1bG5TNENKdm1hYnVMMGpMLTNVSFBnUmU2Zlh5dnNFMlFTV1FydHNaWUpfTFlnV0FJN2Z4elBHVEJDRVItSTBJR0lVSjdGZG5yQm1sS09QTWI1Ri0zYWtTWXc=\", \"is_server_cursor_inverse\": true}'}\n",
            "min_id_antes: {\"server_cursor\": \"QVFBY09XZTgyYlJMclZvNE0zNEM1bG5TNENKdm1hYnVMMGpMLTNVSFBnUmU2Zlh5dnNFMlFTV1FydHNaWUpfTFlnV0FJN2Z4elBHVEJDRVItSTBJR0lVSjdGZG5yQm1sS09QTWI1Ri0zYWtTWXc=\", \"is_server_cursor_inverse\": true}\n",
            "min_id_depois: {\"server_cursor\": \"QVFDM0tRRWQwRGFUZUNtRkM1TDUwTEdnbmtPNGFrb1BfdFpfcWkyeGtnM21MUFU1enFJdGFZbktkQ19OTnBUU2ZHQk5xcGwtZTJPTEViVDZRNk1ybXFwOV9lMU9LdHlTUzFrdUduWVJDd3Jxa3c=\", \"is_server_cursor_inverse\": true}\n",
            "Executando\n",
            "7\n",
            "parameters: {'code_or_id_or_url': 'C_8_MnrBJBH', 'sort_order': 'recent', 'min_id': '{\"server_cursor\": \"QVFDM0tRRWQwRGFUZUNtRkM1TDUwTEdnbmtPNGFrb1BfdFpfcWkyeGtnM21MUFU1enFJdGFZbktkQ19OTnBUU2ZHQk5xcGwtZTJPTEViVDZRNk1ybXFwOV9lMU9LdHlTUzFrdUduWVJDd3Jxa3c=\", \"is_server_cursor_inverse\": true}'}\n",
            "min_id_antes: {\"server_cursor\": \"QVFDM0tRRWQwRGFUZUNtRkM1TDUwTEdnbmtPNGFrb1BfdFpfcWkyeGtnM21MUFU1enFJdGFZbktkQ19OTnBUU2ZHQk5xcGwtZTJPTEViVDZRNk1ybXFwOV9lMU9LdHlTUzFrdUduWVJDd3Jxa3c=\", \"is_server_cursor_inverse\": true}\n",
            "min_id_depois: {\"server_cursor\": \"QVFDbTg2ejVPbkFUb1l2UEpNOG53dVprUXZYdjN3UDlvRlhCY2xIN21zT3BCLV9pTHFRbWpxb2VMU0g0cTBBc1Zpbm50WjRxVE1VNnhBcUdmeFdNVUJUT295WUFhSFI0b2oxZWhIRFd6TjRyMVE=\", \"is_server_cursor_inverse\": true}\n",
            "Executando\n",
            "8\n",
            "parameters: {'code_or_id_or_url': 'C_8_MnrBJBH', 'sort_order': 'recent', 'min_id': '{\"server_cursor\": \"QVFDbTg2ejVPbkFUb1l2UEpNOG53dVprUXZYdjN3UDlvRlhCY2xIN21zT3BCLV9pTHFRbWpxb2VMU0g0cTBBc1Zpbm50WjRxVE1VNnhBcUdmeFdNVUJUT295WUFhSFI0b2oxZWhIRFd6TjRyMVE=\", \"is_server_cursor_inverse\": true}'}\n",
            "min_id_antes: {\"server_cursor\": \"QVFDbTg2ejVPbkFUb1l2UEpNOG53dVprUXZYdjN3UDlvRlhCY2xIN21zT3BCLV9pTHFRbWpxb2VMU0g0cTBBc1Zpbm50WjRxVE1VNnhBcUdmeFdNVUJUT295WUFhSFI0b2oxZWhIRFd6TjRyMVE=\", \"is_server_cursor_inverse\": true}\n",
            "min_id_depois: {\"server_cursor\": \"QVFDdm4taHJXUzQxdXY4LWlTaExZc0tGSW92WDFXN2VzZUpSZWZJc0dKejEzdHZBY0gxNW5nU2NmLXNkd3hWSXNVT0doRS1CNXdhTGNOVGRyd1JsNGxrWDM1eTJ1d1QzVTlCanN3YzU3N09kcmc=\", \"is_server_cursor_inverse\": true}\n",
            "Executando\n",
            "9\n",
            "parameters: {'code_or_id_or_url': 'C_8_MnrBJBH', 'sort_order': 'recent', 'min_id': '{\"server_cursor\": \"QVFDdm4taHJXUzQxdXY4LWlTaExZc0tGSW92WDFXN2VzZUpSZWZJc0dKejEzdHZBY0gxNW5nU2NmLXNkd3hWSXNVT0doRS1CNXdhTGNOVGRyd1JsNGxrWDM1eTJ1d1QzVTlCanN3YzU3N09kcmc=\", \"is_server_cursor_inverse\": true}'}\n",
            "min_id_antes: {\"server_cursor\": \"QVFDdm4taHJXUzQxdXY4LWlTaExZc0tGSW92WDFXN2VzZUpSZWZJc0dKejEzdHZBY0gxNW5nU2NmLXNkd3hWSXNVT0doRS1CNXdhTGNOVGRyd1JsNGxrWDM1eTJ1d1QzVTlCanN3YzU3N09kcmc=\", \"is_server_cursor_inverse\": true}\n",
            "min_id_depois: {\"server_cursor\": \"QVFEMnh4VUh0U1J3UmVYUFF3TnFoU2JLUTRmdWEtb2IwdDlTSWU5UEF1emZLSGZnNjlzMzlETURJZ2pHZE9raUV2em1RbDU2Nll4bWU4LTF6YjVQM080VXp6NkRmX2VoZVl1THNkMlRhZEFTUXc=\", \"is_server_cursor_inverse\": true}\n",
            "Executando\n",
            "10\n",
            "parameters: {'code_or_id_or_url': 'C_8_MnrBJBH', 'sort_order': 'recent', 'min_id': '{\"server_cursor\": \"QVFEMnh4VUh0U1J3UmVYUFF3TnFoU2JLUTRmdWEtb2IwdDlTSWU5UEF1emZLSGZnNjlzMzlETURJZ2pHZE9raUV2em1RbDU2Nll4bWU4LTF6YjVQM080VXp6NkRmX2VoZVl1THNkMlRhZEFTUXc=\", \"is_server_cursor_inverse\": true}'}\n",
            "min_id_antes: {\"server_cursor\": \"QVFEMnh4VUh0U1J3UmVYUFF3TnFoU2JLUTRmdWEtb2IwdDlTSWU5UEF1emZLSGZnNjlzMzlETURJZ2pHZE9raUV2em1RbDU2Nll4bWU4LTF6YjVQM080VXp6NkRmX2VoZVl1THNkMlRhZEFTUXc=\", \"is_server_cursor_inverse\": true}\n",
            "min_id_depois: {\"server_cursor\": \"QVFCS0pibUR5NE9TQVlCbjZ0Ulo4RzBwU2JsWWxtTDZMM2w2V2U4WHVPY1BHQV9XbFBLSG9Nd3RnQ252bmV3Y2tfcm1ncU9yeFhGQi16b1lRZ2FDNDU4aTBtaW05ZElvazF4WkNPYXJUZmlMTmc=\", \"is_server_cursor_inverse\": true}\n",
            "Executando\n",
            "11\n",
            "parameters: {'code_or_id_or_url': 'C_8_MnrBJBH', 'sort_order': 'recent', 'min_id': '{\"server_cursor\": \"QVFCS0pibUR5NE9TQVlCbjZ0Ulo4RzBwU2JsWWxtTDZMM2w2V2U4WHVPY1BHQV9XbFBLSG9Nd3RnQ252bmV3Y2tfcm1ncU9yeFhGQi16b1lRZ2FDNDU4aTBtaW05ZElvazF4WkNPYXJUZmlMTmc=\", \"is_server_cursor_inverse\": true}'}\n",
            "min_id_antes: {\"server_cursor\": \"QVFCS0pibUR5NE9TQVlCbjZ0Ulo4RzBwU2JsWWxtTDZMM2w2V2U4WHVPY1BHQV9XbFBLSG9Nd3RnQ252bmV3Y2tfcm1ncU9yeFhGQi16b1lRZ2FDNDU4aTBtaW05ZElvazF4WkNPYXJUZmlMTmc=\", \"is_server_cursor_inverse\": true}\n",
            "min_id_depois: None\n",
            "[('17869495407193767', '2719430372', '', 0, 0, 'jccesinha', 'Julio Cesar', False), ('17870081787123796', '1640503132', '👏👏👏maravilhoso', 0, 0, 'adry.ventura', 'Adriane Ventura', False), ('17857713969200314', '3163842586', 'Com a minha mãe era no olhar, na rua ela se controlava afu kkk dava só aquele olhar fuminante pra nós e dizia baixinho, \"em casa tu vai ver\" chegava em casa o relho cantava 😂😂😂', 0, 0, 'jessica.l45', 'Jéssica Santos', False), ('18045792727938159', '607010578', '😂😂😂😂😂', 0, 0, 'gabhriel_1984', 'Gabriel Carvalho', False), ('18032713187214272', '9160243756', '🤣🤣🤣🤣', 0, 0, 'silva.sdb', 'André Brida', False), ('17990512850546280', '3278632530', 'Apanhavam de \"vara\"!?! (Lá ele)', 0, 1, 'vinitirapellesilva', 'Vinicius T da Silva', False), ('17918578961882458', '1173251318', '😂😂', 0, 0, 'julianajl31', 'Juliana Silva', False), ('17933814080919718', '2271092704', '\"se correr é pior\"', 0, 0, 'arthurhpuhl', 'Arthur Henrique Puhl', False), ('18037055840510884', '66103351095', '😂😂😂😂😂😂😂', 0, 0, 'josefranciscocalcadalopes', 'José Francisco Calçada Lopes', False), ('18045884680800715', '54398951022', 'E o tapão nas paletas, daqueles de tirar o ar? Nunca levei, mas tinha cada brother que ficava 2 dias falando fino', 0, 0, 'rodrigo_goularte333', 'Rodrigo Goularte', False), ('18101769637435849', '1965821685', 'E as crianças eram educadas. Hoje é uma coleção de alecrim dourado mal educado, mimado e metido a besta que até dói na alma de quem muito apanhou.', 0, 0, 'gcris.50', 'Crisciane Garcia', False), ('17873467419163805', '5542306200', 'Buuuuuua 🤣👏🏽 Monstro! 🥇', 0, 0, 'matheus_borba3', '𝗛𝘂𝗹𝗸 -🔱🥇🇧🇷', False), ('18338893570124314', '1904943460', 'So vi verdades!😂😂😂😂', 0, 0, 'paulomendes.realize', 'Paulo Mendes', False), ('17863871484217277', '253285122', 'O pior foi o meu coroa que de tanto eu aprontar ele falou que batia por esporte, já tinha virado tipo… ir na academia.', 0, 0, 'julianofoca', 'Juliano Cadore Pinheiro', False), ('17942686508768811', '271950040', '😂😂😂😂😂😂', 0, 0, 'emanuelsantos260', 'Emanuel Santos', False), ('18459597505027781', '633627439', 'Cravava prego no pé e apanhava pra deixar de ser boca aberta….', 0, 0, 'lgaaquino1970', 'Luciano Aquino', False), ('17880819126109957', '2074627010', '😂😂😂😂', 0, 0, 'andressa_agendes', 'Andressa Agendes Bastos', False), ('17976505850759623', '4315390212', '😂😂😂', 0, 0, 'rafaelhoff_1', 'Rafael Hoff da Silva', False), ('18048119647936749', '6046861325', 'Não importava onde pegava', 0, 0, 'henriques0691', 'Roger Henriques', False), ('17906142570012624', '41101405326', '😂😂😂😂', 0, 0, 'valdines_da_silva', 'Valdines Conceição', False), ('18020266532571019', '67470683297', 'Bah, a minha coroa era especialista em varada a longa distância, era perita no manuseio de vara de chorão!', 0, 0, 'felkerenglish5953', 'Alex Fëlker', False), ('18043702459965916', '6046861325', 'Bem assim', 0, 0, 'henriques0691', 'Roger Henriques', False), ('18338033770121381', '12254659164', 'Kkkkkkk, minha mãe me boxeou muito...bahhhh, mordia a língua e descia a lenha.', 0, 0, 'flavio.borille', 'Flavio Borille', False), ('18129168571327798', '6151901015', 'Essa é a minha mãe', 0, 0, 'maryestelarodrigues', 'Mary Estela Rodrigues Monteiro', False), ('17861976714231496', '51243761475', 'Minha mãe nunca me bateu! Só me jogou um ansinho que até hoje tenho marca no garão', 0, 0, 'diegosouza5984', 'Diego Miller Souza', False), ('18035686736278649', '27875557907', 'E depois elas falam q não batiam😂😂😂😂', 0, 0, 'danni.leite6', 'Dani Souza', False), ('18020556581529255', '1594089976', 'Eu entendo libras e nem sabia 🤣🤣🤣🤣🤣', 0, 0, 'guezinha07', 'GRACE', False), ('18246891373258667', '1835653888', '😂😂😂', 0, 0, 'aldomunizmatrix', 'Aldo Muniz', False), ('18020300873452903', '1594089976', 'Eu tô passando maaaaallll 🤣🤣🤣🤣🤣🤣🤣🤣🤣🤣🤣🤣', 0, 0, 'guezinha07', 'GRACE', False), ('18032592413212385', '9476270104', 'Diz ela que eu nem apanhava 😂😂😂', 0, 0, 'ticiapsp', 'Leticia Dias', False), ('18037596571897582', '49939061627', '😂😂😂 bem isso e ainda falava “ engole o choro que tu nem apanhou ainda “ 🤣🤣🤣🤣', 0, 0, 'emelyn_maiorino', 'Emelyn Maiorino', False), ('17896752459063278', '29848421612', 'O brabo mesmo era aquela tunda conversada com separação de sílabas 😂😂', 0, 0, 'miqsilveira', 'Milos Silveira', False), ('18020814353408736', '38498174235', 'Se a minha mãe chama-se pelo sobrenome, eu dizia: FUDEU! 😅', 1, 0, 'marx_silva88', 'Marx Alexandre Silva', False), ('18064302166624306', '36559979374', '😂😂😂😂😂😂', 0, 0, 'jacquelineamarildo', 'Jacqueline Sampaio Amarildo', False), ('18022195169178412', '33916131337', 'Vai gritar com os netos delas hoje em dia…😅🙄', 0, 0, 'marcinha_guimaraes_', 'Marcinha Guimarães', False), ('18453434578057697', '48923790382', 'Isso é mentira 😂', 0, 0, 'marildegasparrini', 'Marilde Gasparrini', False), ('18075819151493876', '18544908563', '😂😂😂😂😂😂 \"foi um susto\" essa foi boa. Mas a melhor é aquela \"pode passar que não vou te bater\" 😂😂😂😂😂😂', 0, 0, 'denis.zolin.9', 'Denis Zolin', False), ('18021552935193634', '42093265924', '😂😂😂😂😂😂😂😂\\nEra bem assim', 0, 0, 'instagrjanch43', 'Jones Janch', False), ('18064389412718095', '48552867297', '😂😂😂😂', 0, 0, 'rodrigo_rs_colorado', 'Rodrigo_Colorado', False), ('18238924606287645', '449119950', '“Dói mais em ti do que em mim fazer isso”\\nPo então para. Todo dia pra que?', 0, 0, 'juniorstuartg', 'Junior Stuart', False), ('18071419420603948', '4018197670', 'Vários gatilhos 😂😂', 0, 0, 'doamaralribeiro', 'Júlio R. Do Amaral Ribeiro', False), ('17981879840601244', '1521003461', '😂', 0, 0, 'tiagodr85', 'Tiago Duarte', False), ('18157474531316097', '230983741', 'Se finô!😂😂', 0, 0, 'carloscalota', 'Carlos Ribeiro', False), ('18039498068035823', '1538979185', 'Mamãe  pegava o fio do ferro  pra amedrontar mas se ela batesse em mim eu avançava  ela dava mas apanhava tb eu banhava o pau', 0, 0, 'andifsouza19', 'Andi', False), ('18457930501038606', '2868772886', '😂😂😂😂😂😂😂', 0, 0, 'raffa_fontoura', 'Raffa Fontoura', False), ('18058320688685859', '49134348662', '😂😂😂😂😂😂😂😂😂😂', 0, 0, 'liliam.morenomachado', 'Lilian Machado', False), ('17967534647788474', '1413374748', '😂😂😂😂 puts', 0, 0, 'madaalena__love_my__', 'Madalena Borges', False), ('18096079777415338', '2250032826', 'Tá chorando? Vou te dar motivo pra chorar', 0, 0, 'nimaria.oficial', '🎶NÍ MARIA🤲🏽', False), ('17943471152761730', '2250032826', 'Batia e pedia desculpa depois', 0, 0, 'nimaria.oficial', '🎶NÍ MARIA🤲🏽', False), ('18044546491975045', '505270861', 'Vara de marmelo era o terror da minha vida e conhecendo o efeito do verniz eu acho que aquela lá de casa era ensaboado de verniz hahahaha', 0, 0, 'diogoagrando', 'Diogo Grando', False), ('18076402870557233', '28697824095', '😂😂', 0, 0, 'raider_motoboy', 'Lucas Olaz', False), ('17948082602743060', '4207254656', '😂😂😂😂😂😂😂', 1, 0, 'nicolettidos', 'Solange Nicoletti', False), ('18011064410344373', '8976444708', '😂', 1, 0, 'adelileiria', 'Adéli Leiria', False), ('18019662794229827', '50672811380', 'Me mijei aqui 😂😂😂', 1, 0, 'rodrigo_farelo', 'Rodrigo de Oliveira', False), ('17887089879076225', '43051623502', 'Meu pai não batia, mas em compensação dava uma olhada q se fosse bala,tava. 😂', 1, 0, 'daisi.nunes.7', 'Daisi Nunes', False), ('18021796166184358', '44291799169', '😂😂😂', 1, 0, 'rothendouglas', 'Douglas Rothen', False), ('18052051612863843', '45258826187', '❤️❤️❤️❤️', 1, 0, 'shandra.adriana', 'Shandra Adriana Collar', False), ('18021094556436702', '45258826187', 'Minha vontade nso da conta', 1, 0, 'shandra.adriana', 'Shandra Adriana Collar', False), ('18284067733226339', '45258826187', 'Pocha que sinistro esse teclado do celular', 1, 0, 'shandra.adriana', 'Shandra Adriana Collar', False), ('18341265454130722', '45258826187', 'Perdão erros', 1, 0, 'shandra.adriana', 'Shandra Adriana Collar', False), ('18056351056691353', '267349301', 'Hahahhahahahah!!! Alô  @teatrooficinadoestudante!! Tragam esse talento gaúcho pra cá que eu duvido que não lote tudo as seção, bah!! nem que apanhe da mãe! kkkk', 2, 0, 'profhumbertospindola', 'Prof. Dr. Humberto Spindola | Farmacêutico', False), ('18037825163115131', '45258826187', 'So para acrescentar na ideia. Eu era ótima no cacador, desviava até dosbpin8cos com merda... mas dos sinzeros  tirava de letra, nunquinha me acertou', 1, 0, 'shandra.adriana', 'Shandra Adriana Collar', False), ('17870050692121459', '6766893618', '😂😂😂😂😂 até perder dente', 1, 0, 'nico.kochhann', 'Nicolas Kochhann', False), ('18310961635093830', '55397831720', '@ravelliongaratto', 1, 0, 'bvalquiria11', 'Valquiria Borges', False), ('18068536813594401', '55397831720', '@,ra', 1, 0, 'bvalquiria11', 'Valquiria Borges', False), ('17951074397829734', '431806072', 'Tu é top demais 😂😂😂😂', 1, 0, 'junior_jung', 'Junior Jung', False), ('18023955197457070', '4654222006', '😂😂😂😂😂', 1, 0, 'barcellos_nathy', 'Natalia Barcellos', False), ('18129841072334419', '54069012755', 'Eu especificamente se eu fugisse pra rua ela dizia tu vai ter que entrar uma hora ou outra😂😂 eu nem boba nem nada espera meu pai chegar do trabalho que entrava com ele e ela não me batia😂', 1, 0, 'andressasliwak', 'Andressa  slivak', False), ('18449392246014484', '41145438339', '😬😬😬🤣🤣🤣', 1, 0, 'silviacorreiagarrido', 'Silvia Garrido CRECI 50411', False), ('18043862023966252', '61599047036', 'A minha só dava aquele olhar 035😂😂😂😂 eu ficava toda cagada😂😂😂😂', 1, 0, 'margotdelmauro19', 'margotdelmauro', False), ('18101156419431935', '3258996628', 'Ficava na porta e falava passa,nao foge que é pior,bhaaa uma das primeiras grandes e tensas escolhas da vida,cara passava e ela metia vara,colocava as maos e ela gritava,tira as maos kkkkkkkk', 1, 0, 'bernieri_motors', 'Luigi Bernieri!', False), ('18039988025498019', '1408396400', 'É pro teu bem', 1, 0, 'luccagodoy01', 'Lucca Godoy 🕷️', False), ('18032724326187439', '12626292815', 'Isso quando ela não ameaçava primeiro \"tu quer ver eu ir aí e ti fazer chorar com vontade\"?', 2, 0, 'simonesouzaluz', 'Simone Souza da Luz', False), ('18276052135172351', '17378452185', '🤣🤣🤣🤣🤣', 1, 0, 'xandycardoso_1973', 'Alexandre Pereira Cardoso', False), ('18062267866633910', '3504318350', '😂😂😂', 1, 0, 'cintiaalmeidat', 'Cintia Almeida', True), ('18267186034217040', '6686962302', 'Quer ver quando o cara se quebrava tava todo machucado apanhava pq  se machucou 😂', 3, 0, 'gustavo.thomas7', 'Gustavo Thomas', False), ('18072146959560318', '1688264954', '😂😂😂😂😂😂😂😂😂😂', 1, 0, 'duarte.anacris72', 'Ana Duarte', False), ('17866405128206608', '20990360156', '😂😂', 1, 0, 'catarinaache', 'Catarina Ache', False), ('17940201758887573', '52818901113', 'Tu te prepara que tu vai ver o que é bom pra tosse!!', 1, 0, 'rodrigopereira8991', 'Rodrigo Pereira', False), ('17969312249648407', '2212385803', 'Kkkkkkkkkk', 1, 0, 'ivan.oliv', 'Ivan Oliveira Martins', False), ('18278907919235605', '1541119655', '😂😂😂😂', 1, 0, 'everton.santos.12177276', 'Everton Santos', False), ('18035014844513591', '4199609974', 'Eu mostro teus vídeos para a minha mãe e ela diz: até parece que eu batia em vocês, quem vê vocês falando pensa que eu matav4 vocês a pau 😂😂😂', 1, 0, 'allinecostiti', 'Aline Costiti', True), ('17857808508199706', '4199609974', '😂😂😂 quase morri de rir 😂', 1, 0, 'allinecostiti', 'Aline Costiti', True), ('17939830295904980', '4633733538', 'Verdade né!!! Apanhava sem merecer 😢', 1, 0, 'luscianiroos', 'Lusciani Roos', False), ('18370516957103773', '1178416067', 'Deus o livre criança junto com adulto, eles só te olhavam e tu já entendia o recado 😂😂', 1, 0, 'marlucefifah', 'Marluce Fifah', False), ('18447890659043465', '49172208995', '😂😂😂😂👏👏', 1, 0, 'glebsonbareta', 'Glebson Bareta', False), ('18302318992160090', '9024700301', 'Baaa o tamanco de madeira voava nos cornos 🥲', 1, 0, 'emanuela.santos27', 'Emanuela Santos', False), ('18107003974421990', '39458544707', 'Minha mãe é enfermeira, ganhava o pacote completo 😭🤕🤒', 1, 0, 'bugreeusou', 'Bugre', False), ('18052425685860780', '18995434470', 'Mas nós sobrevivemos a nossa geração foi a última 70/80 /90 . Aí venho a 2000 a turma do Enzo 😂😂😂😂 mãe cadê Wey de morango 🍓🍓🍓🍓', 1, 0, 'lucas.carrion.355', 'Lucas Carrion', False), ('18057449002702417', '499135145', 'Open bar de laço.  Kkkkkkk', 1, 0, 'rob.antero', 'Robson Antero', False), ('18060163543675360', '7102566385', 'E não adiantava pedir perdão e prometer que não ia mais fazer! 😂😂😂 A mãe me lembrava que eu já tinha feito promessa e não obedeci! 🤦🏼\\u200d♀️ Kkkkkkkk', 1, 0, 'grazicassariego', 'Grazi Cassariego', False), ('17893231452000866', '2016000230', 'A vó embolava a gente se a gente pedia comida na casa da tia e ela fazia um pão caseiro com chimia de uva que era irresistível então ela saia com o lanche p gente numa sacola p gente não ter fome e a tia não pensar que não tínhamos comida em casa kkk a gente sempre apanhava mas de barriga cheia de pão e chimia 😂😂😂', 1, 0, 'lidioadri27', 'Lidiomar Almeida', False), ('17879214291134603', '1443142442', 'Avaiana de pau … ahhhh muleque… não fui eu mamãe', 2, 0, 'umbertomaciel', 'Umberto Maciel', False), ('18038759795295166', '50686370362', 'Sou do tempo em que as mães inventaram os primeiros Drones 37/38 😂😂😂', 1, 0, 'deni_wander', 'Denise Wanderley', False), ('18098412199451181', '3876092965', '😂😂😂 tu e a lenda', 1, 0, 'franciscojunior5971', 'Francisjunior Lima', False), ('18021391949411293', '6011467841', 'Minha acho raras vezes me baria era mais ao atravessar rua ela torcia um beliscão 😂😂', 1, 0, 'aristidesantunes', 'Aristides Antunes', False), ('18413340337079598', '810939012', 'Era uma tunda de laço em cima da outra 😂😂😂', 1, 0, 'alinedefreitasferreira', 'Aline De Freitas', False), ('17939393897879833', '6103984964', '😂😂😂😂', 1, 0, 'carlos_hclima', 'Correa Carlos', False), ('18128986831336358', '3240348129', 'Se fosse hoje em dia ...', 1, 0, 'gilvanborba', 'Gilvan Borba', False), ('17876609613150360', '1990270279', 'Me lembro uma vez tomei uma chinelada do pai daqueles chinelo de velho que era de couro que cheguei a me mija kkkkk😂😂😂', 1, 0, 'mariojdede', 'Mário Dedé', False), ('17863455849164138', '44052843664', 'E se tu fosse chorar ,ou tu engolia o choro ou tu ficava resmungando , engolindo o ranho , bah , lembro disso quando meu irmão apanhava 😭😂😂😂😂😂😂😂tadinho', 1, 0, 'vivianemogica', 'Viviane Vieira', False), ('17990021672548422', '48908162890', '😂😂😂', 1, 0, 'mariamira656', 'Maria Mira', False), ('17889478068092802', '1275490754', 'Berrrooooo', 1, 0, 'prendada', 'Priscilla Casagrande', False), ('18251789347265030', '6254048718', 'Não corre que é pior!!!', 4, 1, 'renatoooteixeira', 'Renato Teixeira', False), ('17887684902095239', '1081846917', 'A minha mãe foi atípica lkkkkkll nunca bateu nos filhos, cresceram um bando de mimado 😂😂😂😂😂😂', 1, 0, 'feperess', 'Fernanda Peres', False), ('17868424116194660', '8975317739', 'Minha vó depois de quebrar o cabo de vassoura no meu lombo, é pro teu bem... Imagina se fosse pro meu mal😂😂', 0, 0, 'cristiane.m.azeredo', 'Chris Marques', False), ('18152257060324278', '6965725471', '😂😂', 1, 0, 'dinikelibarro', 'Dini Keli Leal', False), ('18046590466941680', '9457796204', 'E ainda dizem : ahhh não teve nenhuma sequela estão tudo aí bem criados ! Kkkk sim tudo entupido de calmante e terapia!  Mas tá de boa !', 2, 0, 'simaradequadros', 'Simara de Quadros Vargas Pereira', False), ('18057186946691397', '58872095882', 'E aqueleas que batiam soletrando kkkkk  já.fa.lei.pra.nao.me.xer.nas.mi.nhas coi.sas 😂😂😂', 9, 0, 'josi4.46', '', False), ('17920946762968152', '7405212494', '😂😂😂', 1, 0, 'a.araujodenise91', 'Dennise Araújo', False), ('17892859248065770', '3726474289', '😂😂😂😂😂 mas estão tudo aí ,tudo criado😂😂', 1, 0, 'luciane_leal29', 'Luciane Leal', False), ('18055927279763692', '2008302155', 'laonecorrea ,  foi o melhor comentário 😂😂😂😂', 1, 0, 'isa_sundari', 'Isaura Rodrigues Monteiro', False), ('18314701399085354', '272018017', '😂😂😂😂🤣🤣🤣🤣', 1, 0, 'diegomottars', 'Diego Motta', False), ('18041226143078497', '1370492667', '😂😂😂😂😂😂😂', 1, 0, '_val_pink', 'Val Molinari', False), ('18029823464259344', '2008302155', 'Preciso muito ir a um , standap dele. 😂😂😂😂😂😂', 3, 1, 'isa_sundari', 'Isaura Rodrigues Monteiro', False), ('18037437901913420', '1924803652', '😂😂😂', 1, 0, 'busolliwilian', 'Wilian Busolli', False), ('18017959658268476', '38911830008', 'E se tentasse correr era pior', 1, 0, 'miybitt', 'Miy Bitt', False), ('17921240768866207', '32500111865', '😂😂😂😂😂', 1, 0, 'marlene.rodriguesdasilva.167', 'Marlene Rodrigues da Silva', False), ('18035905441957848', '35165854686', 'Kkkk verdade', 1, 0, 'nirleigarim', 'Nirlei Garim', False), ('17984833286713846', '45095263619', '😂😂😂😂😂', 1, 0, 'scris68', 'SCristina Sil', False), ('18458433946025981', '2176076116', '😂😂😂😂😂😂😂😂😂😂😂', 1, 0, 'joao8756', 'Joao Jorge Mendes', False), ('17920751252968498', '65608516137', 'Melhor de todos não tem 👏😂😂😍❤️mito', 3, 0, 'tomdossantod', 'Tom santos 903', False), ('17927653232941338', '1444900377', 'O bom que mo final já ficava com uma tatuagem. HAVAIANAS 38/39', 1, 0, 'laonecorrea', 'Laone Corrêa', False), ('18007747655430581', '1456907995', '😂😂😂', 1, 0, 'mara.marques.374', 'Mara Leite', False), ('18057349390702424', '5861377795', 'Hahaha 😂😂😂😂', 1, 0, 'esmael.machado', 'Esmael Machado', False), ('17862703260229862', '44271392690', 'Por isso a nossa geração não é de enzo', 1, 0, 'sheilaargt_', 'Sheila Argenta', False), ('17971653239640287', '259596849', 'E cala essa boca, que tu ainda nem apanhou', 23, 2, 'abneraguiarr', 'Ábner Aguiar', False), ('18251113276267640', '59085660254', 'Uma das vezes, apanhei que cheguei a desmaiar, daí pra me acordar,jogou álcool no meu rosto, pegou no olho ,fiquei 2 semanas sem enxergar e olho inchado.', 5, 1, 'valgardini23', 'Valéria Gardini🇧🇷💚❤️💛', False), ('18001685273657218', '60081942345', 'A minha mãe dava de varinha verde até quebrar. Aí ia no pátio e pegava outra. Credo', 1, 0, 'ojotasobrenatural', 'Jota Sobrenatural', False), ('17950633625833983', '3407061865', '\"O quer te aparecer \" é um clássico! Junto com o \" quer apanhar \" 😂😂😂😂😂', 19, 4, 'rosana.samy', 'Rosana Samy', False), ('18053520346833393', '1346412659', '😂😂😂😂😂😂😂 Ai Senhor eu não aguento!! 😂😂😂😂😂😂', 1, 0, 'ana.gomesrosa', 'Ana Rosa', False), ('18007818419420985', '26279610234', '😂😂😂😂', 2, 0, 's_santos97', 'Samuel Santos', False), ('17859202761246415', '313911790', 'quando ela me batia e eu me finava chorando e dai ela me levava correndo pra baixo do chuveiro 😂', 6, 5, 'eeipam', 'pâmela barcellos •', False), ('18113828029402651', '4896248886', 'O bom é que o cara cresce, fala das tunda e elas falam que tu tá inventando! Quem apanha não esquece, quem bate sim! 😂', 23, 0, 'correalucas77_', 'Lucas da Costa Correa', False), ('18051880336892607', '517580100', '😂😂😂', 2, 0, 'carlameinerz', 'CARLA MEINERZ', False), ('18016469402307851', '2316399195', 'E apanhava em silaba😂', 1, 0, 'fabian.grave', 'Fabian Nery', False), ('18146270764336480', '526827253', 'Open bar de laço é ótimo kkkkkkkk', 8, 0, 'marquessgreici', 'Greici Marques', False), ('17878469838112785', '3287613211', '😂😂😂👏👏👏', 1, 0, 'soldier_felipe', 'Felipe Dias', False), ('17860812252237589', '66382060095', 'É verdade bem assim era nossa.😂😂😂👏👏💞💞👏', 1, 0, 'elainesilveira12_', 'Elaine Silveira', False), ('18046302385786998', '65013477042', '😂😂😂', 1, 0, 'maiconnascimento1998', 'Maicon Nascimento', False), ('18040746239033809', '1590866599', 'Marcito, tu é o cara!!😂😂😂😂😂', 0, 0, 'megui37', 'Margareth Pinheiro Boeira', False), ('18455857864023169', '2355530694', 'O bom era o mertiolate que ardia mais que o machucado 😂😂😂', 18, 1, 'alina_goya', 'Alina Góya', False), ('18077692744481744', '1357808936', 'Isso qdo não ganhava um beliscão 😂😂😂😂😂😂😂', 7, 0, 'rosa.camposcorrea', 'Rosa Campos Correa', False), ('18029612876255330', '287002306', '😂😂😂', 2, 0, 'chris_cadore', 'Christine Cadore', False), ('17910152900918021', '8134053155', '😂😂😂', 2, 0, 'fpaixao_music', 'Fernando Paixão Music', False), ('18324301639147830', '63199876687', 'Antes de bater passava o ALMA DE FLORES 🌷 😂😂', 16, 3, 'sos.sarandi', '𝗦𝗔𝗥𝗔𝗡𝗗𝗜 𝗦𝗢𝗦 ‼️', False), ('17907698642934525', '2320882050', '😂😂😂😂😂😂 bah a havaiana era tipo uma bomba nuclear chegando no boró.', 1, 0, 'lucrecyus', 'Lucas Ribeiro', False), ('17998029182666569', '2371574518', '😂😂😂😂', 2, 0, 'alexandra_fucilini', 'ALEXANDRA👑 FOLLOW GOD ☝️ CRISTÃ ✝️', False), ('17874328071095397', '18069191181', '😂😂😂😂😂😂foi só um susto é o melhor 😂😂😂😂', 6, 0, 'margareth_maninha', 'Margareth', False), ('18064470157623803', '5810928855', 'O mais impressionante é o efeito amnésia geral das mães desta época, esqueceram todas( não poucas). Hoje em dia nenhuma assume esses B.O. 😂😂😂', 81, 8, 'evertonr.reis', 'Everton Reis', False), ('18038740124106375', '359423291', 'E a vó; tu fez o guri se afinar', 33, 1, 'marcosviniciusp', 'Marcos Vinicius', False), ('17940904643896878', '213121083', '😂😂😂', 2, 0, 'leeoisrael', 'Leonardo Israel', False), ('17938563212872750', '61498770768', '😂😂😂😂😂', 2, 0, 'lais.silvaabreuferreira2', 'Lais Silva Abreu Ferreira', False), ('18062434285650102', '55232012888', 'Só um susto 😂😂😂😂😂', 5, 1, 'portoalegre.milgrau', '𝗣𝗢𝗥𝗧𝗢 𝗔𝗟𝗘𝗚𝗥𝗘 𝗠𝗜𝗟 𝗚𝗥𝗔𝗨   😎', False)]\n",
            "+-----------------+-----------+-----------------------------------------------------------------------------------------------------------------------------------------------------------------------------------+------------------+-------------------+-------------------------+----------------------------+----------------+-----------------------+\n",
            "|pk               |user_id    |text                                                                                                                                                                               |comment_like_count|child_comment_count|user_username            |user_full_name              |user_is_verified|ts_exec                |\n",
            "+-----------------+-----------+-----------------------------------------------------------------------------------------------------------------------------------------------------------------------------------+------------------+-------------------+-------------------------+----------------------------+----------------+-----------------------+\n",
            "|17869495407193767|2719430372 |                                                                                                                                                                                   |0                 |0                  |jccesinha                |Julio Cesar                 |false           |2024-09-16 01:35:34.345|\n",
            "|17870081787123796|1640503132 |👏👏👏maravilhoso                                                                                                                                                                  |0                 |0                  |adry.ventura             |Adriane Ventura             |false           |2024-09-16 01:35:34.345|\n",
            "|17857713969200314|3163842586 |Com a minha mãe era no olhar, na rua ela se controlava afu kkk dava só aquele olhar fuminante pra nós e dizia baixinho, \"em casa tu vai ver\" chegava em casa o relho cantava 😂😂😂|0                 |0                  |jessica.l45              |Jéssica Santos              |false           |2024-09-16 01:35:34.345|\n",
            "|18045792727938159|607010578  |😂😂😂😂😂                                                                                                                                                                         |0                 |0                  |gabhriel_1984            |Gabriel Carvalho            |false           |2024-09-16 01:35:34.345|\n",
            "|18032713187214272|9160243756 |🤣🤣🤣🤣                                                                                                                                                                           |0                 |0                  |silva.sdb                |André Brida                 |false           |2024-09-16 01:35:34.345|\n",
            "|17990512850546280|3278632530 |Apanhavam de \"vara\"!?! (Lá ele)                                                                                                                                                    |0                 |1                  |vinitirapellesilva       |Vinicius T da Silva         |false           |2024-09-16 01:35:34.345|\n",
            "|17918578961882458|1173251318 |😂😂                                                                                                                                                                               |0                 |0                  |julianajl31              |Juliana Silva               |false           |2024-09-16 01:35:34.345|\n",
            "|17933814080919718|2271092704 |\"se correr é pior\"                                                                                                                                                                 |0                 |0                  |arthurhpuhl              |Arthur Henrique Puhl        |false           |2024-09-16 01:35:34.345|\n",
            "|18037055840510884|66103351095|😂😂😂😂😂😂😂                                                                                                                                                                     |0                 |0                  |josefranciscocalcadalopes|José Francisco Calçada Lopes|false           |2024-09-16 01:35:34.345|\n",
            "|18045884680800715|54398951022|E o tapão nas paletas, daqueles de tirar o ar? Nunca levei, mas tinha cada brother que ficava 2 dias falando fino                                                                  |0                 |0                  |rodrigo_goularte333      |Rodrigo Goularte            |false           |2024-09-16 01:35:34.345|\n",
            "|18101769637435849|1965821685 |E as crianças eram educadas. Hoje é uma coleção de alecrim dourado mal educado, mimado e metido a besta que até dói na alma de quem muito apanhou.                                 |0                 |0                  |gcris.50                 |Crisciane Garcia            |false           |2024-09-16 01:35:34.345|\n",
            "|17873467419163805|5542306200 |Buuuuuua 🤣👏🏽 Monstro! 🥇                                                                                                                                                        |0                 |0                  |matheus_borba3           |𝗛𝘂𝗹𝗸 -🔱🥇🇧🇷          |false           |2024-09-16 01:35:34.345|\n",
            "|18338893570124314|1904943460 |So vi verdades!😂😂😂😂                                                                                                                                                            |0                 |0                  |paulomendes.realize      |Paulo Mendes                |false           |2024-09-16 01:35:34.345|\n",
            "|17863871484217277|253285122  |O pior foi o meu coroa que de tanto eu aprontar ele falou que batia por esporte, já tinha virado tipo… ir na academia.                                                             |0                 |0                  |julianofoca              |Juliano Cadore Pinheiro     |false           |2024-09-16 01:35:34.345|\n",
            "|17942686508768811|271950040  |😂😂😂😂😂😂                                                                                                                                                                       |0                 |0                  |emanuelsantos260         |Emanuel Santos              |false           |2024-09-16 01:35:34.345|\n",
            "|18459597505027781|633627439  |Cravava prego no pé e apanhava pra deixar de ser boca aberta….                                                                                                                     |0                 |0                  |lgaaquino1970            |Luciano Aquino              |false           |2024-09-16 01:35:34.345|\n",
            "|17880819126109957|2074627010 |😂😂😂😂                                                                                                                                                                           |0                 |0                  |andressa_agendes         |Andressa Agendes Bastos     |false           |2024-09-16 01:35:34.345|\n",
            "|17976505850759623|4315390212 |😂😂😂                                                                                                                                                                             |0                 |0                  |rafaelhoff_1             |Rafael Hoff da Silva        |false           |2024-09-16 01:35:34.345|\n",
            "|18048119647936749|6046861325 |Não importava onde pegava                                                                                                                                                          |0                 |0                  |henriques0691            |Roger Henriques             |false           |2024-09-16 01:35:34.345|\n",
            "|17906142570012624|41101405326|😂😂😂😂                                                                                                                                                                           |0                 |0                  |valdines_da_silva        |Valdines Conceição          |false           |2024-09-16 01:35:34.345|\n",
            "+-----------------+-----------+-----------------------------------------------------------------------------------------------------------------------------------------------------------------------------------+------------------+-------------------+-------------------------+----------------------------+----------------+-----------------------+\n",
            "only showing top 20 rows\n",
            "\n"
          ]
        }
      ],
      "source": [
        "response_instagram_comments_data = get_comments(codigo_ultima_postagem)\n",
        "df = save_comments_data(response_instagram_comments_data)\n",
        "df.show(truncate=False)\n"
      ]
    },
    {
      "cell_type": "markdown",
      "metadata": {
        "id": "XHYxCbgWeq38"
      },
      "source": [
        "## Análises\n",
        "\n"
      ]
    },
    {
      "cell_type": "markdown",
      "source": [
        "### Estatísticas de crescimento do Perfil\n",
        "\n",
        "Para obtermos as informações de crescimento do perfil em número de seguidores, devemos extrair do nosso DataLake as informações de perfil salvas até o presente momento em um dataframe Pandas."
      ],
      "metadata": {
        "id": "w958Rp-AiPRK"
      }
    },
    {
      "cell_type": "code",
      "execution_count": 641,
      "metadata": {
        "id": "N_1BfFI-h-B9",
        "colab": {
          "base_uri": "https://localhost:8080/"
        },
        "outputId": "a21db0e5-8667-4ab9-87c8-039798c39d26"
      },
      "outputs": [
        {
          "output_type": "stream",
          "name": "stdout",
          "text": [
            "        full_name  follower_count                  ts_exec\n",
            "0  Marcito Castro          819026  2024-09-15 13:51:42.598\n",
            "1  Marcito Castro          819040  2024-09-15 15:05:04.649\n",
            "2  Marcito Castro          819056  2024-09-15 16:21:26.753\n",
            "3  Marcito Castro          819054  2024-09-15 16:39:24.363\n",
            "4  Marcito Castro          819049  2024-09-15 17:12:08.345\n",
            "5  Marcito Castro          819050  2024-09-15 17:31:35.738\n",
            "6  Marcito Castro          819068  2024-09-15 18:04:48.708\n",
            "7  Marcito Castro          819069   2024-09-15 18:09:54.53\n",
            "8  Marcito Castro          819071  2024-09-15 18:13:05.001\n",
            "9  Marcito Castro          819071  2024-09-15 18:16:05.561\n"
          ]
        }
      ],
      "source": [
        "followers_number_df = spark.read.parquet(f'{data_lake_path}{profile_path}').select('full_name','follower_count','ts_exec')\\\n",
        "    .where(\"id!='3444000070552872069_482001976'\")\\\n",
        "    .orderBy('ts_exec',ascending=True)\\\n",
        "    .toPandas()\n",
        "\n",
        "followers_number_df['follower_count'] = followers_number_df['follower_count'].astype(int)\n",
        "\n",
        "print(followers_number_df.head(10))"
      ]
    },
    {
      "cell_type": "markdown",
      "source": [
        "Em seguida renderizamos um gráfico para relacionar o número de seguidores por horário."
      ],
      "metadata": {
        "id": "2tQx1f2qgKLo"
      }
    },
    {
      "cell_type": "code",
      "source": [
        "import matplotlib.pyplot as plt\n",
        "import matplotlib.dates as mdates\n",
        "import pandas as pd\n",
        "\n",
        "# Garante que 'ts_exec' seja interpretada como datetime\n",
        "followers_number_df['ts_exec'] = pd.to_datetime(followers_number_df['ts_exec'])\n",
        "\n",
        "# Configura o gráfico\n",
        "plt.figure(figsize=(10, 6))\n",
        "\n",
        "# Plota os dados de seguidores ao longo do tempo com a cor específica\n",
        "plt.plot(followers_number_df['ts_exec'],\n",
        "         followers_number_df['follower_count'].astype(str),\n",
        "         marker='o',\n",
        "         linestyle='-',\n",
        "         color='#05d46e')\n",
        "\n",
        "# Configurações para melhorar a legibilidade do eixo x\n",
        "plt.gca().xaxis.set_major_formatter(mdates.DateFormatter('%H:%M'))  # Mostra horas e minutos no eixo x\n",
        "plt.gca().xaxis.set_major_locator(mdates.MinuteLocator(interval=60))  # Marca a cada 60 minutos no eixo x\n",
        "\n",
        "# Rotaciona os labels do eixo x para não ficarem sobrepostos\n",
        "plt.xticks(rotation=45)\n",
        "\n",
        "# Adiciona título e rótulos aos eixos\n",
        "plt.title('Evolução de Seguidores ao Longo do Tempo')\n",
        "plt.xlabel('Tempo (Hora)')\n",
        "plt.ylabel('Número de Seguidores')\n",
        "\n",
        "# Exibe o gráfico\n",
        "plt.tight_layout()\n",
        "plt.show()\n",
        "\n"
      ],
      "metadata": {
        "colab": {
          "base_uri": "https://localhost:8080/",
          "height": 607
        },
        "id": "PAEjs7f0ryFg",
        "outputId": "792965c9-c3ec-4827-f343-d0e1f6661d5e"
      },
      "execution_count": 643,
      "outputs": [
        {
          "output_type": "display_data",
          "data": {
            "text/plain": [
              "<Figure size 1000x600 with 1 Axes>"
            ],
            "image/png": "[encoded data removed]"
          },
          "metadata": {}
        }
      ]
    },
    {
      "cell_type": "markdown",
      "source": [
        "Através do gráfico podemos ter uma rápida ideia de que existe um crescimento diário com uma boa acentuação.\n",
        "\n",
        "Porém precisamos entender qual o crescimento percentual e quantitativo do perfil do nosso influenciador.\n",
        "\n",
        "Para isso temos de executar o seguinte código:"
      ],
      "metadata": {
        "id": "Qx01d_XcgjRl"
      }
    },
    {
      "cell_type": "code",
      "source": [
        "# Garantir que 'ts_exec' seja do tipo datetime\n",
        "followers_number_df['ts_exec'] = pd.to_datetime(followers_number_df['ts_exec'])\n",
        "\n",
        "# Calcular o crescimento total no período (percentual)\n",
        "total_growth = followers_number_df['growth'].iloc[-1] - followers_number_df['growth'].iloc[0]\n",
        "\n",
        "# Calcular a diferença total de horas entre o primeiro e o último registro e transformar em horas\n",
        "total_hours = (followers_number_df['ts_exec'].iloc[-1] - followers_number_df['ts_exec'].iloc[0]).total_seconds() / 3600\n",
        "\n",
        "# Calcular o crescimento percentual médio por hora e estimar por dia\n",
        "growth_per_hour = total_growth / total_hours\n",
        "growth_per_day = growth_per_hour * 24\n",
        "\n",
        "# Calcular o número de seguidores adicionados por hora e por dia\n",
        "# O número inicial de seguidores é o follower_count no primeiro registro\n",
        "initial_followers = followers_number_df['follower_count'].iloc[0]\n",
        "\n",
        "# Número de seguidores adicionados por hora e por dia\n",
        "followers_per_hour = initial_followers * growth_per_hour\n",
        "followers_per_day = followers_per_hour * 24\n",
        "\n",
        "# Exibindo os resultados\n",
        "print(f'Crescimento percentual médio por hora: {growth_per_hour*100:.6f} %')\n",
        "print(f'Crescimento percentual estimado por dia: {growth_per_day*100:.6f} %')\n",
        "print(f'Número de seguidores adicionados por hora: {round(followers_per_hour)}')\n",
        "print(f'Número de seguidores adicionados por dia: {round(followers_per_day)}')"
      ],
      "metadata": {
        "colab": {
          "base_uri": "https://localhost:8080/"
        },
        "id": "NGP0O7Aehm6E",
        "outputId": "326b4875-6da3-4f92-9ea2-9fe7224d9270"
      },
      "execution_count": 644,
      "outputs": [
        {
          "output_type": "stream",
          "name": "stdout",
          "text": [
            "Crescimento percentual médio por hora: 0.002406 %\n",
            "Crescimento percentual estimado por dia: 0.057738 %\n",
            "Número de seguidores adicionados por hora: 20\n",
            "Número de seguidores adicionados por dia: 473\n"
          ]
        }
      ]
    },
    {
      "cell_type": "markdown",
      "source": [
        "Notamos que o crescimento estimado ao dia do perfil é de 0,05 % que equivale à um crescimento absoluto de 473 seguidores."
      ],
      "metadata": {
        "id": "ZwJ9zwj5hp8Q"
      }
    },
    {
      "cell_type": "markdown",
      "source": [
        "### Estatísticas de crescimento das Postagens\n",
        "\n",
        "Para calcular as postagens temos de primeiro obter as informações do Spark. Após isso temos de limpar e ajustar as informações para termos uma métrica mais acertiva."
      ],
      "metadata": {
        "id": "91_ldggKiVUE"
      }
    },
    {
      "cell_type": "code",
      "source": [
        "# Carregar o DataFrame sem .show()\n",
        "posts_data_df = spark.read.parquet(f'{data_lake_path}{posts_path}').select(\n",
        "    'code', 'device_timestamp', 'like_count', 'comment_count', 'ts_exec')\\\n",
        "    .orderBy('ts_exec', ascending=True)\n",
        "\n",
        "# Convertendo device_timestamp para data legível\n",
        "posts_data_df = posts_data_df.withColumn(\n",
        "    \"device_timestamp\", from_unixtime(col(\"device_timestamp\")/1000000, \"yyyy-MM-dd HH:mm:ss\"))\n",
        "\n",
        "posts_data_df = posts_data_df.withColumn('ts_exec', date_format(col('ts_exec'), format='yyyy-MM-dd HH:mm:ss'))\n",
        "\n",
        "posts_data_df = posts_data_df.select('code','device_timestamp', 'like_count', 'comment_count', 'ts_exec').toPandas()\n",
        "\n",
        "posts_data_df = posts_data_df.dropna()\n",
        "\n",
        "# Garantir que 'ts_exec' seja do tipo datetime\n",
        "posts_data_df['ts_exec'] = pd.to_datetime(posts_data_df['ts_exec'])\n",
        "posts_data_df['device_timestamp'] = pd.to_datetime(posts_data_df['device_timestamp'])\n",
        "posts_data_df['like_count'] = posts_data_df['like_count'].astype(int)\n",
        "posts_data_df['comment_count'] = posts_data_df['comment_count'].astype(int)\n",
        "\n"
      ],
      "metadata": {
        "id": "yl7X3ofIubdn"
      },
      "execution_count": 645,
      "outputs": []
    },
    {
      "cell_type": "markdown",
      "source": [
        "Tendo o dataframe as informações de postagens podemos enfim calcular para cada postagem as métricas:\n",
        "\\\n",
        "* Período em horas (`total_hours`);\n",
        "* Quantidade Total de Likes no período (`total_growth_likes`);\n",
        "* Quantidade de Likes por hora (`growth_likes_per_hour`);\n",
        "* Quantidade de Likes estimado por dia (`growth_likes_per_day`);\n",
        "* Percentual de Likes por hora (`percent_likes_per_hour`);\n",
        "* Percentual de Likes estimado por dia (`percent_likes_per_day`);\n",
        "\n",
        "* Quantidade Total de Comentários no período (`total_growth_comments`);\n",
        "* Quantidade de Comentários por hora (`growth_comments_per_hour`);\n",
        "* Quantidade de Comentários estimado por dia (`growth_comments_per_day`);\n",
        "* Percentual de Comentários por hora (`percent_comments_per_hour`);\n",
        "* Percentual de Comentários estimado por dia (`percent_comments_per_day`).\n"
      ],
      "metadata": {
        "id": "ovQXeI3YiyBm"
      }
    },
    {
      "cell_type": "code",
      "source": [
        "# Função para calcular o crescimento e estimativas\n",
        "def calculate_growth_stats(group_data):\n",
        "    # Remover valores NaN e zeros\n",
        "    group = group_data.copy()\n",
        "\n",
        "    group = group.dropna(subset=['like_count', 'comment_count'])\n",
        "    group = group[group['like_count'] > 0]\n",
        "    group = group[group['comment_count'] > 0]\n",
        "\n",
        "    # Passo 1: Calcular o crescimento total no período (percentual)\n",
        "    total_growth_likes = float(group['like_count'].iloc[-1] - group['like_count'].iloc[0])\n",
        "    total_growth_comments = float(group['comment_count'].iloc[-1] - group['comment_count'].iloc[0])\n",
        "\n",
        "    # Passo 2: Calcular a diferença total de horas entre o primeiro e o último registro\n",
        "    total_hours = float((group['ts_exec'].iloc[-1] - group['ts_exec'].iloc[0]).total_seconds() / 3600)\n",
        "\n",
        "    if len(group) < 2 or total_hours == 0:\n",
        "        return pd.Series({\n",
        "            'total_growth_likes': float('nan'),\n",
        "            'total_growth_comments': float('nan'),\n",
        "\n",
        "            'total_hours': float('nan'),\n",
        "\n",
        "            'growth_likes_per_hour': float('nan'),\n",
        "            'growth_likes_per_day': float('nan'),\n",
        "\n",
        "            'percent_likes_per_hour': float('nan'),\n",
        "            'percent_likes_per_day': float('nan'),\n",
        "\n",
        "            'percent_comments_per_hour': float('nan'),\n",
        "            'percent_comments_per_day': float('nan')\n",
        "        })\n",
        "\n",
        "    # Passo 3: Calcular o crescimento percentual médio por hora e estimar por dia\n",
        "    growth_per_hour_likes = total_growth_likes / total_hours\n",
        "    growth_per_hour_comments = total_growth_comments / total_hours\n",
        "\n",
        "    growth_per_day_likes = growth_per_hour_likes * 24\n",
        "    growth_per_day_comments = growth_per_hour_comments * 24\n",
        "\n",
        "\n",
        "    # Passo 4: Calcular o número de seguidores adicionados por hora e por dia\n",
        "    initial_likes = group['like_count'].iloc[0]\n",
        "    initial_comments = group['comment_count'].iloc[0]\n",
        "\n",
        "    percent_likes_per_hour = growth_per_hour_likes*100/initial_likes\n",
        "    percent_comments_per_hour = growth_per_hour_comments*100/initial_comments\n",
        "\n",
        "    percent_likes_per_day = percent_likes_per_hour * 24\n",
        "    percent_comments_per_day = percent_comments_per_hour * 24\n",
        "\n",
        "    return pd.Series({\n",
        "        'total_growth_likes': total_growth_likes,\n",
        "        'total_growth_comments': total_growth_comments,\n",
        "\n",
        "        'total_hours': total_hours,\n",
        "\n",
        "        'growth_likes_per_hour': growth_per_hour_likes,\n",
        "        'growth_likes_per_day': growth_per_day_likes,\n",
        "\n",
        "        'percent_likes_per_hour': percent_likes_per_hour,\n",
        "        'percent_likes_per_day': percent_likes_per_day,\n",
        "\n",
        "        'percent_comments_per_hour': percent_comments_per_hour,\n",
        "        'percent_comments_per_day': percent_comments_per_day\n",
        "    })\n",
        "\n",
        "# Aplicar a função de cálculo para cada grupo de código\n",
        "growth_stats = posts_data_df.groupby('code').apply(calculate_growth_stats).reset_index()\n",
        "\n",
        "growth_stats = growth_stats.dropna()\n",
        "\n",
        "# # Exibindo os resultados\n",
        "growth_stats.head(10)\n",
        "\n",
        "growth_stats.set_index('code', inplace=True)\n",
        "\n",
        "growth_stats.head(10)"
      ],
      "metadata": {
        "colab": {
          "base_uri": "https://localhost:8080/",
          "height": 414
        },
        "id": "JfZW_AOnman8",
        "outputId": "4314d781-dd57-4085-93a0-88f134a6b2d2"
      },
      "execution_count": 646,
      "outputs": [
        {
          "output_type": "execute_result",
          "data": {
            "text/plain": [
              "             total_growth_likes  total_growth_comments  total_hours  \\\n",
              "code                                                                  \n",
              "C_15T3IOHlx               510.0                    7.0    11.721944   \n",
              "C_1PBmBBIRd               456.0                    2.0    11.721944   \n",
              "C_36o8wOmvw               612.0                    5.0    11.721944   \n",
              "C_3dUhguFbD                21.0                    0.0    11.721944   \n",
              "C_4LTB9Oiym                85.0                    1.0    11.721944   \n",
              "C_6vWsLOzlD               366.0                   15.0    11.721944   \n",
              "C_6xVS9O-6D               528.0                   21.0    11.721944   \n",
              "C_8UqB0O2hO              1199.0                  106.0     9.227778   \n",
              "C_8_MnrBJBH              7341.0                  115.0     3.497500   \n",
              "C_Onz-lu6yr                13.0                    0.0    11.721944   \n",
              "\n",
              "             growth_likes_per_hour  growth_likes_per_day  \\\n",
              "code                                                       \n",
              "C_15T3IOHlx              43.508140           1044.195360   \n",
              "C_1PBmBBIRd              38.901396            933.633498   \n",
              "C_36o8wOmvw              52.209768           1253.034432   \n",
              "C_3dUhguFbD               1.791512             42.996280   \n",
              "C_4LTB9Oiym               7.251357            174.032560   \n",
              "C_6vWsLOzlD              31.223489            749.363729   \n",
              "C_6xVS9O-6D              45.043721           1081.049314   \n",
              "C_8UqB0O2hO             129.933775           3118.410596   \n",
              "C_8_MnrBJBH            2098.927806          50374.267334   \n",
              "C_Onz-lu6yr               1.109031             26.616744   \n",
              "\n",
              "             percent_likes_per_hour  percent_likes_per_day  \\\n",
              "code                                                         \n",
              "C_15T3IOHlx                0.287562               6.901489   \n",
              "C_1PBmBBIRd                0.248794               5.971051   \n",
              "C_36o8wOmvw                0.449542              10.789000   \n",
              "C_3dUhguFbD                0.443443              10.642643   \n",
              "C_4LTB9Oiym                0.488965              11.735169   \n",
              "C_6vWsLOzlD                3.109909              74.637822   \n",
              "C_6xVS9O-6D                3.369014              80.856344   \n",
              "C_8UqB0O2hO               29.463441             707.122584   \n",
              "C_8_MnrBJBH               66.128790            1587.090968   \n",
              "C_Onz-lu6yr                0.040624               0.974972   \n",
              "\n",
              "             percent_comments_per_hour  percent_comments_per_day  \n",
              "code                                                              \n",
              "C_15T3IOHlx                   0.148550                  3.565197  \n",
              "C_1PBmBBIRd                   0.102783                  2.466797  \n",
              "C_36o8wOmvw                   0.218744                  5.249851  \n",
              "C_3dUhguFbD                   0.000000                  0.000000  \n",
              "C_4LTB9Oiym                   0.181511                  4.356259  \n",
              "C_6vWsLOzlD                   3.046789                 73.122924  \n",
              "C_6xVS9O-6D                   1.756384                 42.153215  \n",
              "C_8UqB0O2hO                  27.350133                656.403199  \n",
              "C_8_MnrBJBH                  43.840839               1052.180129  \n",
              "C_Onz-lu6yr                   0.000000                  0.000000  "
            ],
            "text/html": [
              "\n",
              "  <div id=\"df-50bea0bf-4e02-491e-aa2e-b4e01d313720\" class=\"colab-df-container\">\n",
              "    <div>\n",
              "<style scoped>\n",
              "    .dataframe tbody tr th:only-of-type {\n",
              "        vertical-align: middle;\n",
              "    }\n",
              "\n",
              "    .dataframe tbody tr th {\n",
              "        vertical-align: top;\n",
              "    }\n",
              "\n",
              "    .dataframe thead th {\n",
              "        text-align: right;\n",
              "    }\n",
              "</style>\n",
              "<table border=\"1\" class=\"dataframe\">\n",
              "  <thead>\n",
              "    <tr style=\"text-align: right;\">\n",
              "      <th></th>\n",
              "      <th>total_growth_likes</th>\n",
              "      <th>total_growth_comments</th>\n",
              "      <th>total_hours</th>\n",
              "      <th>growth_likes_per_hour</th>\n",
              "      <th>growth_likes_per_day</th>\n",
              "      <th>percent_likes_per_hour</th>\n",
              "      <th>percent_likes_per_day</th>\n",
              "      <th>percent_comments_per_hour</th>\n",
              "      <th>percent_comments_per_day</th>\n",
              "    </tr>\n",
              "    <tr>\n",
              "      <th>code</th>\n",
              "      <th></th>\n",
              "      <th></th>\n",
              "      <th></th>\n",
              "      <th></th>\n",
              "      <th></th>\n",
              "      <th></th>\n",
              "      <th></th>\n",
              "      <th></th>\n",
              "      <th></th>\n",
              "    </tr>\n",
              "  </thead>\n",
              "  <tbody>\n",
              "    <tr>\n",
              "      <th>C_15T3IOHlx</th>\n",
              "      <td>510.0</td>\n",
              "      <td>7.0</td>\n",
              "      <td>11.721944</td>\n",
              "      <td>43.508140</td>\n",
              "      <td>1044.195360</td>\n",
              "      <td>0.287562</td>\n",
              "      <td>6.901489</td>\n",
              "      <td>0.148550</td>\n",
              "      <td>3.565197</td>\n",
              "    </tr>\n",
              "    <tr>\n",
              "      <th>C_1PBmBBIRd</th>\n",
              "      <td>456.0</td>\n",
              "      <td>2.0</td>\n",
              "      <td>11.721944</td>\n",
              "      <td>38.901396</td>\n",
              "      <td>933.633498</td>\n",
              "      <td>0.248794</td>\n",
              "      <td>5.971051</td>\n",
              "      <td>0.102783</td>\n",
              "      <td>2.466797</td>\n",
              "    </tr>\n",
              "    <tr>\n",
              "      <th>C_36o8wOmvw</th>\n",
              "      <td>612.0</td>\n",
              "      <td>5.0</td>\n",
              "      <td>11.721944</td>\n",
              "      <td>52.209768</td>\n",
              "      <td>1253.034432</td>\n",
              "      <td>0.449542</td>\n",
              "      <td>10.789000</td>\n",
              "      <td>0.218744</td>\n",
              "      <td>5.249851</td>\n",
              "    </tr>\n",
              "    <tr>\n",
              "      <th>C_3dUhguFbD</th>\n",
              "      <td>21.0</td>\n",
              "      <td>0.0</td>\n",
              "      <td>11.721944</td>\n",
              "      <td>1.791512</td>\n",
              "      <td>42.996280</td>\n",
              "      <td>0.443443</td>\n",
              "      <td>10.642643</td>\n",
              "      <td>0.000000</td>\n",
              "      <td>0.000000</td>\n",
              "    </tr>\n",
              "    <tr>\n",
              "      <th>C_4LTB9Oiym</th>\n",
              "      <td>85.0</td>\n",
              "      <td>1.0</td>\n",
              "      <td>11.721944</td>\n",
              "      <td>7.251357</td>\n",
              "      <td>174.032560</td>\n",
              "      <td>0.488965</td>\n",
              "      <td>11.735169</td>\n",
              "      <td>0.181511</td>\n",
              "      <td>4.356259</td>\n",
              "    </tr>\n",
              "    <tr>\n",
              "      <th>C_6vWsLOzlD</th>\n",
              "      <td>366.0</td>\n",
              "      <td>15.0</td>\n",
              "      <td>11.721944</td>\n",
              "      <td>31.223489</td>\n",
              "      <td>749.363729</td>\n",
              "      <td>3.109909</td>\n",
              "      <td>74.637822</td>\n",
              "      <td>3.046789</td>\n",
              "      <td>73.122924</td>\n",
              "    </tr>\n",
              "    <tr>\n",
              "      <th>C_6xVS9O-6D</th>\n",
              "      <td>528.0</td>\n",
              "      <td>21.0</td>\n",
              "      <td>11.721944</td>\n",
              "      <td>45.043721</td>\n",
              "      <td>1081.049314</td>\n",
              "      <td>3.369014</td>\n",
              "      <td>80.856344</td>\n",
              "      <td>1.756384</td>\n",
              "      <td>42.153215</td>\n",
              "    </tr>\n",
              "    <tr>\n",
              "      <th>C_8UqB0O2hO</th>\n",
              "      <td>1199.0</td>\n",
              "      <td>106.0</td>\n",
              "      <td>9.227778</td>\n",
              "      <td>129.933775</td>\n",
              "      <td>3118.410596</td>\n",
              "      <td>29.463441</td>\n",
              "      <td>707.122584</td>\n",
              "      <td>27.350133</td>\n",
              "      <td>656.403199</td>\n",
              "    </tr>\n",
              "    <tr>\n",
              "      <th>C_8_MnrBJBH</th>\n",
              "      <td>7341.0</td>\n",
              "      <td>115.0</td>\n",
              "      <td>3.497500</td>\n",
              "      <td>2098.927806</td>\n",
              "      <td>50374.267334</td>\n",
              "      <td>66.128790</td>\n",
              "      <td>1587.090968</td>\n",
              "      <td>43.840839</td>\n",
              "      <td>1052.180129</td>\n",
              "    </tr>\n",
              "    <tr>\n",
              "      <th>C_Onz-lu6yr</th>\n",
              "      <td>13.0</td>\n",
              "      <td>0.0</td>\n",
              "      <td>11.721944</td>\n",
              "      <td>1.109031</td>\n",
              "      <td>26.616744</td>\n",
              "      <td>0.040624</td>\n",
              "      <td>0.974972</td>\n",
              "      <td>0.000000</td>\n",
              "      <td>0.000000</td>\n",
              "    </tr>\n",
              "  </tbody>\n",
              "</table>\n",
              "</div>\n",
              "    <div class=\"colab-df-buttons\">\n",
              "\n",
              "  <div class=\"colab-df-container\">\n",
              "    <button class=\"colab-df-convert\" onclick=\"convertToInteractive('df-50bea0bf-4e02-491e-aa2e-b4e01d313720')\"\n",
              "            title=\"Convert this dataframe to an interactive table.\"\n",
              "            style=\"display:none;\">\n",
              "\n",
              "  <svg xmlns=\"http://www.w3.org/2000/svg\" height=\"24px\" viewBox=\"0 -960 960 960\">\n",
              "    <path d=\"M120-120v-720h720v720H120Zm60-500h600v-160H180v160Zm220 220h160v-160H400v160Zm0 220h160v-160H400v160ZM180-400h160v-160H180v160Zm440 0h160v-160H620v160ZM180-180h160v-160H180v160Zm440 0h160v-160H620v160Z\"/>\n",
              "  </svg>\n",
              "    </button>\n",
              "\n",
              "  <style>\n",
              "    .colab-df-container {\n",
              "      display:flex;\n",
              "      gap: 12px;\n",
              "    }\n",
              "\n",
              "    .colab-df-convert {\n",
              "      background-color: #E8F0FE;\n",
              "      border: none;\n",
              "      border-radius: 50%;\n",
              "      cursor: pointer;\n",
              "      display: none;\n",
              "      fill: #1967D2;\n",
              "      height: 32px;\n",
              "      padding: 0 0 0 0;\n",
              "      width: 32px;\n",
              "    }\n",
              "\n",
              "    .colab-df-convert:hover {\n",
              "      background-color: #E2EBFA;\n",
              "      box-shadow: 0px 1px 2px rgba(60, 64, 67, 0.3), 0px 1px 3px 1px rgba(60, 64, 67, 0.15);\n",
              "      fill: #174EA6;\n",
              "    }\n",
              "\n",
              "    .colab-df-buttons div {\n",
              "      margin-bottom: 4px;\n",
              "    }\n",
              "\n",
              "    [theme=dark] .colab-df-convert {\n",
              "      background-color: #3B4455;\n",
              "      fill: #D2E3FC;\n",
              "    }\n",
              "\n",
              "    [theme=dark] .colab-df-convert:hover {\n",
              "      background-color: #434B5C;\n",
              "      box-shadow: 0px 1px 3px 1px rgba(0, 0, 0, 0.15);\n",
              "      filter: drop-shadow(0px 1px 2px rgba(0, 0, 0, 0.3));\n",
              "      fill: #FFFFFF;\n",
              "    }\n",
              "  </style>\n",
              "\n",
              "    <script>\n",
              "      const buttonEl =\n",
              "        document.querySelector('#df-50bea0bf-4e02-491e-aa2e-b4e01d313720 button.colab-df-convert');\n",
              "      buttonEl.style.display =\n",
              "        google.colab.kernel.accessAllowed ? 'block' : 'none';\n",
              "\n",
              "      async function convertToInteractive(key) {\n",
              "        const element = document.querySelector('#df-50bea0bf-4e02-491e-aa2e-b4e01d313720');\n",
              "        const dataTable =\n",
              "          await google.colab.kernel.invokeFunction('convertToInteractive',\n",
              "                                                    [key], {});\n",
              "        if (!dataTable) return;\n",
              "\n",
              "        const docLinkHtml = 'Like what you see? Visit the ' +\n",
              "          '<a target=\"_blank\" href=https://colab.research.google.com/notebooks/data_table.ipynb>data table notebook</a>'\n",
              "          + ' to learn more about interactive tables.';\n",
              "        element.innerHTML = '';\n",
              "        dataTable['output_type'] = 'display_data';\n",
              "        await google.colab.output.renderOutput(dataTable, element);\n",
              "        const docLink = document.createElement('div');\n",
              "        docLink.innerHTML = docLinkHtml;\n",
              "        element.appendChild(docLink);\n",
              "      }\n",
              "    </script>\n",
              "  </div>\n",
              "\n",
              "\n",
              "<div id=\"df-493f5bf7-9b1c-47cc-bce0-838db5a4cdf9\">\n",
              "  <button class=\"colab-df-quickchart\" onclick=\"quickchart('df-493f5bf7-9b1c-47cc-bce0-838db5a4cdf9')\"\n",
              "            title=\"Suggest charts\"\n",
              "            style=\"display:none;\">\n",
              "\n",
              "<svg xmlns=\"http://www.w3.org/2000/svg\" height=\"24px\"viewBox=\"0 0 24 24\"\n",
              "     width=\"24px\">\n",
              "    <g>\n",
              "        <path d=\"M19 3H5c-1.1 0-2 .9-2 2v14c0 1.1.9 2 2 2h14c1.1 0 2-.9 2-2V5c0-1.1-.9-2-2-2zM9 17H7v-7h2v7zm4 0h-2V7h2v10zm4 0h-2v-4h2v4z\"/>\n",
              "    </g>\n",
              "</svg>\n",
              "  </button>\n",
              "\n",
              "<style>\n",
              "  .colab-df-quickchart {\n",
              "      --bg-color: #E8F0FE;\n",
              "      --fill-color: #1967D2;\n",
              "      --hover-bg-color: #E2EBFA;\n",
              "      --hover-fill-color: #174EA6;\n",
              "      --disabled-fill-color: #AAA;\n",
              "      --disabled-bg-color: #DDD;\n",
              "  }\n",
              "\n",
              "  [theme=dark] .colab-df-quickchart {\n",
              "      --bg-color: #3B4455;\n",
              "      --fill-color: #D2E3FC;\n",
              "      --hover-bg-color: #434B5C;\n",
              "      --hover-fill-color: #FFFFFF;\n",
              "      --disabled-bg-color: #3B4455;\n",
              "      --disabled-fill-color: #666;\n",
              "  }\n",
              "\n",
              "  .colab-df-quickchart {\n",
              "    background-color: var(--bg-color);\n",
              "    border: none;\n",
              "    border-radius: 50%;\n",
              "    cursor: pointer;\n",
              "    display: none;\n",
              "    fill: var(--fill-color);\n",
              "    height: 32px;\n",
              "    padding: 0;\n",
              "    width: 32px;\n",
              "  }\n",
              "\n",
              "  .colab-df-quickchart:hover {\n",
              "    background-color: var(--hover-bg-color);\n",
              "    box-shadow: 0 1px 2px rgba(60, 64, 67, 0.3), 0 1px 3px 1px rgba(60, 64, 67, 0.15);\n",
              "    fill: var(--button-hover-fill-color);\n",
              "  }\n",
              "\n",
              "  .colab-df-quickchart-complete:disabled,\n",
              "  .colab-df-quickchart-complete:disabled:hover {\n",
              "    background-color: var(--disabled-bg-color);\n",
              "    fill: var(--disabled-fill-color);\n",
              "    box-shadow: none;\n",
              "  }\n",
              "\n",
              "  .colab-df-spinner {\n",
              "    border: 2px solid var(--fill-color);\n",
              "    border-color: transparent;\n",
              "    border-bottom-color: var(--fill-color);\n",
              "    animation:\n",
              "      spin 1s steps(1) infinite;\n",
              "  }\n",
              "\n",
              "  @keyframes spin {\n",
              "    0% {\n",
              "      border-color: transparent;\n",
              "      border-bottom-color: var(--fill-color);\n",
              "      border-left-color: var(--fill-color);\n",
              "    }\n",
              "    20% {\n",
              "      border-color: transparent;\n",
              "      border-left-color: var(--fill-color);\n",
              "      border-top-color: var(--fill-color);\n",
              "    }\n",
              "    30% {\n",
              "      border-color: transparent;\n",
              "      border-left-color: var(--fill-color);\n",
              "      border-top-color: var(--fill-color);\n",
              "      border-right-color: var(--fill-color);\n",
              "    }\n",
              "    40% {\n",
              "      border-color: transparent;\n",
              "      border-right-color: var(--fill-color);\n",
              "      border-top-color: var(--fill-color);\n",
              "    }\n",
              "    60% {\n",
              "      border-color: transparent;\n",
              "      border-right-color: var(--fill-color);\n",
              "    }\n",
              "    80% {\n",
              "      border-color: transparent;\n",
              "      border-right-color: var(--fill-color);\n",
              "      border-bottom-color: var(--fill-color);\n",
              "    }\n",
              "    90% {\n",
              "      border-color: transparent;\n",
              "      border-bottom-color: var(--fill-color);\n",
              "    }\n",
              "  }\n",
              "</style>\n",
              "\n",
              "  <script>\n",
              "    async function quickchart(key) {\n",
              "      const quickchartButtonEl =\n",
              "        document.querySelector('#' + key + ' button');\n",
              "      quickchartButtonEl.disabled = true;  // To prevent multiple clicks.\n",
              "      quickchartButtonEl.classList.add('colab-df-spinner');\n",
              "      try {\n",
              "        const charts = await google.colab.kernel.invokeFunction(\n",
              "            'suggestCharts', [key], {});\n",
              "      } catch (error) {\n",
              "        console.error('Error during call to suggestCharts:', error);\n",
              "      }\n",
              "      quickchartButtonEl.classList.remove('colab-df-spinner');\n",
              "      quickchartButtonEl.classList.add('colab-df-quickchart-complete');\n",
              "    }\n",
              "    (() => {\n",
              "      let quickchartButtonEl =\n",
              "        document.querySelector('#df-493f5bf7-9b1c-47cc-bce0-838db5a4cdf9 button');\n",
              "      quickchartButtonEl.style.display =\n",
              "        google.colab.kernel.accessAllowed ? 'block' : 'none';\n",
              "    })();\n",
              "  </script>\n",
              "</div>\n",
              "\n",
              "    </div>\n",
              "  </div>\n"
            ],
            "application/vnd.google.colaboratory.intrinsic+json": {
              "type": "dataframe",
              "variable_name": "growth_stats",
              "summary": "{\n  \"name\": \"growth_stats\",\n  \"rows\": 14,\n  \"fields\": [\n    {\n      \"column\": \"code\",\n      \"properties\": {\n        \"dtype\": \"string\",\n        \"num_unique_values\": 14,\n        \"samples\": [\n          \"C_Onz-lu6yr\",\n          \"C_q8DWpudss\",\n          \"C_15T3IOHlx\"\n        ],\n        \"semantic_type\": \"\",\n        \"description\": \"\"\n      }\n    },\n    {\n      \"column\": \"total_growth_likes\",\n      \"properties\": {\n        \"dtype\": \"number\",\n        \"std\": 1908.0035362927122,\n        \"min\": 5.0,\n        \"max\": 7341.0,\n        \"num_unique_values\": 14,\n        \"samples\": [\n          13.0,\n          54.0,\n          510.0\n        ],\n        \"semantic_type\": \"\",\n        \"description\": \"\"\n      }\n    },\n    {\n      \"column\": \"total_growth_comments\",\n      \"properties\": {\n        \"dtype\": \"number\",\n        \"std\": 38.94938953379045,\n        \"min\": 0.0,\n        \"max\": 115.0,\n        \"num_unique_values\": 10,\n        \"samples\": [\n          115.0,\n          2.0,\n          15.0\n        ],\n        \"semantic_type\": \"\",\n        \"description\": \"\"\n      }\n    },\n    {\n      \"column\": \"total_hours\",\n      \"properties\": {\n        \"dtype\": \"number\",\n        \"std\": 3.4604358602907435,\n        \"min\": 1.2213888888888889,\n        \"max\": 11.721944444444444,\n        \"num_unique_values\": 5,\n        \"samples\": [\n          9.227777777777778,\n          7.509722222222222,\n          3.4975\n        ],\n        \"semantic_type\": \"\",\n        \"description\": \"\"\n      }\n    },\n    {\n      \"column\": \"growth_likes_per_hour\",\n      \"properties\": {\n        \"dtype\": \"number\",\n        \"std\": 553.260137915914,\n        \"min\": 0.4265503921893884,\n        \"max\": 2098.927805575411,\n        \"num_unique_values\": 14,\n        \"samples\": [\n          1.1090310196924098,\n          44.21196270184217,\n          43.508140003317614\n        ],\n        \"semantic_type\": \"\",\n        \"description\": \"\"\n      }\n    },\n    {\n      \"column\": \"growth_likes_per_day\",\n      \"properties\": {\n        \"dtype\": \"number\",\n        \"std\": 13278.243309981934,\n        \"min\": 10.237209412545322,\n        \"max\": 50374.26733380987,\n        \"num_unique_values\": 14,\n        \"samples\": [\n          26.616744472617835,\n          1061.087104844212,\n          1044.1953600796228\n        ],\n        \"semantic_type\": \"\",\n        \"description\": \"\"\n      }\n    },\n    {\n      \"column\": \"percent_likes_per_hour\",\n      \"properties\": {\n        \"dtype\": \"number\",\n        \"std\": 18.571478512676627,\n        \"min\": 0.04062384687517984,\n        \"max\": 66.12879034579116,\n        \"num_unique_values\": 14,\n        \"samples\": [\n          0.04062384687517984,\n          0.12668910167299607,\n          0.28756206215014946\n        ],\n        \"semantic_type\": \"\",\n        \"description\": \"\"\n      }\n    },\n    {\n      \"column\": \"percent_likes_per_day\",\n      \"properties\": {\n        \"dtype\": \"number\",\n        \"std\": 445.71548430423906,\n        \"min\": 0.9749723250043163,\n        \"max\": 1587.0909682989877,\n        \"num_unique_values\": 14,\n        \"samples\": [\n          0.9749723250043163,\n          3.0405384401519058,\n          6.901489491603587\n        ],\n        \"semantic_type\": \"\",\n        \"description\": \"\"\n      }\n    },\n    {\n      \"column\": \"percent_comments_per_hour\",\n      \"properties\": {\n        \"dtype\": \"number\",\n        \"std\": 13.189461200866631,\n        \"min\": 0.0,\n        \"max\": 43.840838694305454,\n        \"num_unique_values\": 10,\n        \"samples\": [\n          43.840838694305454,\n          0.10278322703358755,\n          3.046788515638488\n        ],\n        \"semantic_type\": \"\",\n        \"description\": \"\"\n      }\n    },\n    {\n      \"column\": \"percent_comments_per_day\",\n      \"properties\": {\n        \"dtype\": \"number\",\n        \"std\": 316.54706882079915,\n        \"min\": 0.0,\n        \"max\": 1052.1801286633308,\n        \"num_unique_values\": 10,\n        \"samples\": [\n          1052.1801286633308,\n          2.4667974488061013,\n          73.12292437532372\n        ],\n        \"semantic_type\": \"\",\n        \"description\": \"\"\n      }\n    }\n  ]\n}"
            }
          },
          "metadata": {},
          "execution_count": 646
        }
      ]
    },
    {
      "cell_type": "markdown",
      "source": [
        "Ao pegar visualizar as métricas percebemos que existem postagens com crescimentos muito alterados que podem enviesar nossa estimativa, então é importante desconsiderarmos eles antes de prosseguir.\n",
        "Ao analisarmos esses dados verificamos que além do crescimento incongruente eles também são mais recentes do que o horário comum entre os dados que são aproximadamente 11h.\n",
        "Nesse sentido se faz justo filtrar apenas os dados que estão dentro do valor 'moda' que são essas 11h."
      ],
      "metadata": {
        "id": "jmIBp_etkhLd"
      }
    },
    {
      "cell_type": "code",
      "source": [
        "growth_stats = growth_stats[growth_stats['total_hours'] == growth_stats['total_hours'].mode()[0]]\n",
        "\n",
        "growth_stats.head(10)"
      ],
      "metadata": {
        "colab": {
          "base_uri": "https://localhost:8080/",
          "height": 414
        },
        "id": "fxTT8a3j_F1N",
        "outputId": "9e727c9e-1470-4a43-ad89-fd7a8db0ba42"
      },
      "execution_count": 647,
      "outputs": [
        {
          "output_type": "execute_result",
          "data": {
            "text/plain": [
              "             total_growth_likes  total_growth_comments  total_hours  \\\n",
              "code                                                                  \n",
              "C_15T3IOHlx               510.0                    7.0    11.721944   \n",
              "C_1PBmBBIRd               456.0                    2.0    11.721944   \n",
              "C_36o8wOmvw               612.0                    5.0    11.721944   \n",
              "C_3dUhguFbD                21.0                    0.0    11.721944   \n",
              "C_4LTB9Oiym                85.0                    1.0    11.721944   \n",
              "C_6vWsLOzlD               366.0                   15.0    11.721944   \n",
              "C_6xVS9O-6D               528.0                   21.0    11.721944   \n",
              "C_Onz-lu6yr                13.0                    0.0    11.721944   \n",
              "C_bL06ZRbed                 5.0                    0.0    11.721944   \n",
              "C_t3jmxOERq                18.0                    0.0    11.721944   \n",
              "\n",
              "             growth_likes_per_hour  growth_likes_per_day  \\\n",
              "code                                                       \n",
              "C_15T3IOHlx              43.508140           1044.195360   \n",
              "C_1PBmBBIRd              38.901396            933.633498   \n",
              "C_36o8wOmvw              52.209768           1253.034432   \n",
              "C_3dUhguFbD               1.791512             42.996280   \n",
              "C_4LTB9Oiym               7.251357            174.032560   \n",
              "C_6vWsLOzlD              31.223489            749.363729   \n",
              "C_6xVS9O-6D              45.043721           1081.049314   \n",
              "C_Onz-lu6yr               1.109031             26.616744   \n",
              "C_bL06ZRbed               0.426550             10.237209   \n",
              "C_t3jmxOERq               1.535581             36.853954   \n",
              "\n",
              "             percent_likes_per_hour  percent_likes_per_day  \\\n",
              "code                                                         \n",
              "C_15T3IOHlx                0.287562               6.901489   \n",
              "C_1PBmBBIRd                0.248794               5.971051   \n",
              "C_36o8wOmvw                0.449542              10.789000   \n",
              "C_3dUhguFbD                0.443443              10.642643   \n",
              "C_4LTB9Oiym                0.488965              11.735169   \n",
              "C_6vWsLOzlD                3.109909              74.637822   \n",
              "C_6xVS9O-6D                3.369014              80.856344   \n",
              "C_Onz-lu6yr                0.040624               0.974972   \n",
              "C_bL06ZRbed                0.074312               1.783486   \n",
              "C_t3jmxOERq                0.132150               3.171597   \n",
              "\n",
              "             percent_comments_per_hour  percent_comments_per_day  \n",
              "code                                                              \n",
              "C_15T3IOHlx                   0.148550                  3.565197  \n",
              "C_1PBmBBIRd                   0.102783                  2.466797  \n",
              "C_36o8wOmvw                   0.218744                  5.249851  \n",
              "C_3dUhguFbD                   0.000000                  0.000000  \n",
              "C_4LTB9Oiym                   0.181511                  4.356259  \n",
              "C_6vWsLOzlD                   3.046789                 73.122924  \n",
              "C_6xVS9O-6D                   1.756384                 42.153215  \n",
              "C_Onz-lu6yr                   0.000000                  0.000000  \n",
              "C_bL06ZRbed                   0.000000                  0.000000  \n",
              "C_t3jmxOERq                   0.000000                  0.000000  "
            ],
            "text/html": [
              "\n",
              "  <div id=\"df-056fa5cf-6b1b-48e1-bc19-ef2f8525fd75\" class=\"colab-df-container\">\n",
              "    <div>\n",
              "<style scoped>\n",
              "    .dataframe tbody tr th:only-of-type {\n",
              "        vertical-align: middle;\n",
              "    }\n",
              "\n",
              "    .dataframe tbody tr th {\n",
              "        vertical-align: top;\n",
              "    }\n",
              "\n",
              "    .dataframe thead th {\n",
              "        text-align: right;\n",
              "    }\n",
              "</style>\n",
              "<table border=\"1\" class=\"dataframe\">\n",
              "  <thead>\n",
              "    <tr style=\"text-align: right;\">\n",
              "      <th></th>\n",
              "      <th>total_growth_likes</th>\n",
              "      <th>total_growth_comments</th>\n",
              "      <th>total_hours</th>\n",
              "      <th>growth_likes_per_hour</th>\n",
              "      <th>growth_likes_per_day</th>\n",
              "      <th>percent_likes_per_hour</th>\n",
              "      <th>percent_likes_per_day</th>\n",
              "      <th>percent_comments_per_hour</th>\n",
              "      <th>percent_comments_per_day</th>\n",
              "    </tr>\n",
              "    <tr>\n",
              "      <th>code</th>\n",
              "      <th></th>\n",
              "      <th></th>\n",
              "      <th></th>\n",
              "      <th></th>\n",
              "      <th></th>\n",
              "      <th></th>\n",
              "      <th></th>\n",
              "      <th></th>\n",
              "      <th></th>\n",
              "    </tr>\n",
              "  </thead>\n",
              "  <tbody>\n",
              "    <tr>\n",
              "      <th>C_15T3IOHlx</th>\n",
              "      <td>510.0</td>\n",
              "      <td>7.0</td>\n",
              "      <td>11.721944</td>\n",
              "      <td>43.508140</td>\n",
              "      <td>1044.195360</td>\n",
              "      <td>0.287562</td>\n",
              "      <td>6.901489</td>\n",
              "      <td>0.148550</td>\n",
              "      <td>3.565197</td>\n",
              "    </tr>\n",
              "    <tr>\n",
              "      <th>C_1PBmBBIRd</th>\n",
              "      <td>456.0</td>\n",
              "      <td>2.0</td>\n",
              "      <td>11.721944</td>\n",
              "      <td>38.901396</td>\n",
              "      <td>933.633498</td>\n",
              "      <td>0.248794</td>\n",
              "      <td>5.971051</td>\n",
              "      <td>0.102783</td>\n",
              "      <td>2.466797</td>\n",
              "    </tr>\n",
              "    <tr>\n",
              "      <th>C_36o8wOmvw</th>\n",
              "      <td>612.0</td>\n",
              "      <td>5.0</td>\n",
              "      <td>11.721944</td>\n",
              "      <td>52.209768</td>\n",
              "      <td>1253.034432</td>\n",
              "      <td>0.449542</td>\n",
              "      <td>10.789000</td>\n",
              "      <td>0.218744</td>\n",
              "      <td>5.249851</td>\n",
              "    </tr>\n",
              "    <tr>\n",
              "      <th>C_3dUhguFbD</th>\n",
              "      <td>21.0</td>\n",
              "      <td>0.0</td>\n",
              "      <td>11.721944</td>\n",
              "      <td>1.791512</td>\n",
              "      <td>42.996280</td>\n",
              "      <td>0.443443</td>\n",
              "      <td>10.642643</td>\n",
              "      <td>0.000000</td>\n",
              "      <td>0.000000</td>\n",
              "    </tr>\n",
              "    <tr>\n",
              "      <th>C_4LTB9Oiym</th>\n",
              "      <td>85.0</td>\n",
              "      <td>1.0</td>\n",
              "      <td>11.721944</td>\n",
              "      <td>7.251357</td>\n",
              "      <td>174.032560</td>\n",
              "      <td>0.488965</td>\n",
              "      <td>11.735169</td>\n",
              "      <td>0.181511</td>\n",
              "      <td>4.356259</td>\n",
              "    </tr>\n",
              "    <tr>\n",
              "      <th>C_6vWsLOzlD</th>\n",
              "      <td>366.0</td>\n",
              "      <td>15.0</td>\n",
              "      <td>11.721944</td>\n",
              "      <td>31.223489</td>\n",
              "      <td>749.363729</td>\n",
              "      <td>3.109909</td>\n",
              "      <td>74.637822</td>\n",
              "      <td>3.046789</td>\n",
              "      <td>73.122924</td>\n",
              "    </tr>\n",
              "    <tr>\n",
              "      <th>C_6xVS9O-6D</th>\n",
              "      <td>528.0</td>\n",
              "      <td>21.0</td>\n",
              "      <td>11.721944</td>\n",
              "      <td>45.043721</td>\n",
              "      <td>1081.049314</td>\n",
              "      <td>3.369014</td>\n",
              "      <td>80.856344</td>\n",
              "      <td>1.756384</td>\n",
              "      <td>42.153215</td>\n",
              "    </tr>\n",
              "    <tr>\n",
              "      <th>C_Onz-lu6yr</th>\n",
              "      <td>13.0</td>\n",
              "      <td>0.0</td>\n",
              "      <td>11.721944</td>\n",
              "      <td>1.109031</td>\n",
              "      <td>26.616744</td>\n",
              "      <td>0.040624</td>\n",
              "      <td>0.974972</td>\n",
              "      <td>0.000000</td>\n",
              "      <td>0.000000</td>\n",
              "    </tr>\n",
              "    <tr>\n",
              "      <th>C_bL06ZRbed</th>\n",
              "      <td>5.0</td>\n",
              "      <td>0.0</td>\n",
              "      <td>11.721944</td>\n",
              "      <td>0.426550</td>\n",
              "      <td>10.237209</td>\n",
              "      <td>0.074312</td>\n",
              "      <td>1.783486</td>\n",
              "      <td>0.000000</td>\n",
              "      <td>0.000000</td>\n",
              "    </tr>\n",
              "    <tr>\n",
              "      <th>C_t3jmxOERq</th>\n",
              "      <td>18.0</td>\n",
              "      <td>0.0</td>\n",
              "      <td>11.721944</td>\n",
              "      <td>1.535581</td>\n",
              "      <td>36.853954</td>\n",
              "      <td>0.132150</td>\n",
              "      <td>3.171597</td>\n",
              "      <td>0.000000</td>\n",
              "      <td>0.000000</td>\n",
              "    </tr>\n",
              "  </tbody>\n",
              "</table>\n",
              "</div>\n",
              "    <div class=\"colab-df-buttons\">\n",
              "\n",
              "  <div class=\"colab-df-container\">\n",
              "    <button class=\"colab-df-convert\" onclick=\"convertToInteractive('df-056fa5cf-6b1b-48e1-bc19-ef2f8525fd75')\"\n",
              "            title=\"Convert this dataframe to an interactive table.\"\n",
              "            style=\"display:none;\">\n",
              "\n",
              "  <svg xmlns=\"http://www.w3.org/2000/svg\" height=\"24px\" viewBox=\"0 -960 960 960\">\n",
              "    <path d=\"M120-120v-720h720v720H120Zm60-500h600v-160H180v160Zm220 220h160v-160H400v160Zm0 220h160v-160H400v160ZM180-400h160v-160H180v160Zm440 0h160v-160H620v160ZM180-180h160v-160H180v160Zm440 0h160v-160H620v160Z\"/>\n",
              "  </svg>\n",
              "    </button>\n",
              "\n",
              "  <style>\n",
              "    .colab-df-container {\n",
              "      display:flex;\n",
              "      gap: 12px;\n",
              "    }\n",
              "\n",
              "    .colab-df-convert {\n",
              "      background-color: #E8F0FE;\n",
              "      border: none;\n",
              "      border-radius: 50%;\n",
              "      cursor: pointer;\n",
              "      display: none;\n",
              "      fill: #1967D2;\n",
              "      height: 32px;\n",
              "      padding: 0 0 0 0;\n",
              "      width: 32px;\n",
              "    }\n",
              "\n",
              "    .colab-df-convert:hover {\n",
              "      background-color: #E2EBFA;\n",
              "      box-shadow: 0px 1px 2px rgba(60, 64, 67, 0.3), 0px 1px 3px 1px rgba(60, 64, 67, 0.15);\n",
              "      fill: #174EA6;\n",
              "    }\n",
              "\n",
              "    .colab-df-buttons div {\n",
              "      margin-bottom: 4px;\n",
              "    }\n",
              "\n",
              "    [theme=dark] .colab-df-convert {\n",
              "      background-color: #3B4455;\n",
              "      fill: #D2E3FC;\n",
              "    }\n",
              "\n",
              "    [theme=dark] .colab-df-convert:hover {\n",
              "      background-color: #434B5C;\n",
              "      box-shadow: 0px 1px 3px 1px rgba(0, 0, 0, 0.15);\n",
              "      filter: drop-shadow(0px 1px 2px rgba(0, 0, 0, 0.3));\n",
              "      fill: #FFFFFF;\n",
              "    }\n",
              "  </style>\n",
              "\n",
              "    <script>\n",
              "      const buttonEl =\n",
              "        document.querySelector('#df-056fa5cf-6b1b-48e1-bc19-ef2f8525fd75 button.colab-df-convert');\n",
              "      buttonEl.style.display =\n",
              "        google.colab.kernel.accessAllowed ? 'block' : 'none';\n",
              "\n",
              "      async function convertToInteractive(key) {\n",
              "        const element = document.querySelector('#df-056fa5cf-6b1b-48e1-bc19-ef2f8525fd75');\n",
              "        const dataTable =\n",
              "          await google.colab.kernel.invokeFunction('convertToInteractive',\n",
              "                                                    [key], {});\n",
              "        if (!dataTable) return;\n",
              "\n",
              "        const docLinkHtml = 'Like what you see? Visit the ' +\n",
              "          '<a target=\"_blank\" href=https://colab.research.google.com/notebooks/data_table.ipynb>data table notebook</a>'\n",
              "          + ' to learn more about interactive tables.';\n",
              "        element.innerHTML = '';\n",
              "        dataTable['output_type'] = 'display_data';\n",
              "        await google.colab.output.renderOutput(dataTable, element);\n",
              "        const docLink = document.createElement('div');\n",
              "        docLink.innerHTML = docLinkHtml;\n",
              "        element.appendChild(docLink);\n",
              "      }\n",
              "    </script>\n",
              "  </div>\n",
              "\n",
              "\n",
              "<div id=\"df-56278339-46a2-42ef-9fed-894f7137e217\">\n",
              "  <button class=\"colab-df-quickchart\" onclick=\"quickchart('df-56278339-46a2-42ef-9fed-894f7137e217')\"\n",
              "            title=\"Suggest charts\"\n",
              "            style=\"display:none;\">\n",
              "\n",
              "<svg xmlns=\"http://www.w3.org/2000/svg\" height=\"24px\"viewBox=\"0 0 24 24\"\n",
              "     width=\"24px\">\n",
              "    <g>\n",
              "        <path d=\"M19 3H5c-1.1 0-2 .9-2 2v14c0 1.1.9 2 2 2h14c1.1 0 2-.9 2-2V5c0-1.1-.9-2-2-2zM9 17H7v-7h2v7zm4 0h-2V7h2v10zm4 0h-2v-4h2v4z\"/>\n",
              "    </g>\n",
              "</svg>\n",
              "  </button>\n",
              "\n",
              "<style>\n",
              "  .colab-df-quickchart {\n",
              "      --bg-color: #E8F0FE;\n",
              "      --fill-color: #1967D2;\n",
              "      --hover-bg-color: #E2EBFA;\n",
              "      --hover-fill-color: #174EA6;\n",
              "      --disabled-fill-color: #AAA;\n",
              "      --disabled-bg-color: #DDD;\n",
              "  }\n",
              "\n",
              "  [theme=dark] .colab-df-quickchart {\n",
              "      --bg-color: #3B4455;\n",
              "      --fill-color: #D2E3FC;\n",
              "      --hover-bg-color: #434B5C;\n",
              "      --hover-fill-color: #FFFFFF;\n",
              "      --disabled-bg-color: #3B4455;\n",
              "      --disabled-fill-color: #666;\n",
              "  }\n",
              "\n",
              "  .colab-df-quickchart {\n",
              "    background-color: var(--bg-color);\n",
              "    border: none;\n",
              "    border-radius: 50%;\n",
              "    cursor: pointer;\n",
              "    display: none;\n",
              "    fill: var(--fill-color);\n",
              "    height: 32px;\n",
              "    padding: 0;\n",
              "    width: 32px;\n",
              "  }\n",
              "\n",
              "  .colab-df-quickchart:hover {\n",
              "    background-color: var(--hover-bg-color);\n",
              "    box-shadow: 0 1px 2px rgba(60, 64, 67, 0.3), 0 1px 3px 1px rgba(60, 64, 67, 0.15);\n",
              "    fill: var(--button-hover-fill-color);\n",
              "  }\n",
              "\n",
              "  .colab-df-quickchart-complete:disabled,\n",
              "  .colab-df-quickchart-complete:disabled:hover {\n",
              "    background-color: var(--disabled-bg-color);\n",
              "    fill: var(--disabled-fill-color);\n",
              "    box-shadow: none;\n",
              "  }\n",
              "\n",
              "  .colab-df-spinner {\n",
              "    border: 2px solid var(--fill-color);\n",
              "    border-color: transparent;\n",
              "    border-bottom-color: var(--fill-color);\n",
              "    animation:\n",
              "      spin 1s steps(1) infinite;\n",
              "  }\n",
              "\n",
              "  @keyframes spin {\n",
              "    0% {\n",
              "      border-color: transparent;\n",
              "      border-bottom-color: var(--fill-color);\n",
              "      border-left-color: var(--fill-color);\n",
              "    }\n",
              "    20% {\n",
              "      border-color: transparent;\n",
              "      border-left-color: var(--fill-color);\n",
              "      border-top-color: var(--fill-color);\n",
              "    }\n",
              "    30% {\n",
              "      border-color: transparent;\n",
              "      border-left-color: var(--fill-color);\n",
              "      border-top-color: var(--fill-color);\n",
              "      border-right-color: var(--fill-color);\n",
              "    }\n",
              "    40% {\n",
              "      border-color: transparent;\n",
              "      border-right-color: var(--fill-color);\n",
              "      border-top-color: var(--fill-color);\n",
              "    }\n",
              "    60% {\n",
              "      border-color: transparent;\n",
              "      border-right-color: var(--fill-color);\n",
              "    }\n",
              "    80% {\n",
              "      border-color: transparent;\n",
              "      border-right-color: var(--fill-color);\n",
              "      border-bottom-color: var(--fill-color);\n",
              "    }\n",
              "    90% {\n",
              "      border-color: transparent;\n",
              "      border-bottom-color: var(--fill-color);\n",
              "    }\n",
              "  }\n",
              "</style>\n",
              "\n",
              "  <script>\n",
              "    async function quickchart(key) {\n",
              "      const quickchartButtonEl =\n",
              "        document.querySelector('#' + key + ' button');\n",
              "      quickchartButtonEl.disabled = true;  // To prevent multiple clicks.\n",
              "      quickchartButtonEl.classList.add('colab-df-spinner');\n",
              "      try {\n",
              "        const charts = await google.colab.kernel.invokeFunction(\n",
              "            'suggestCharts', [key], {});\n",
              "      } catch (error) {\n",
              "        console.error('Error during call to suggestCharts:', error);\n",
              "      }\n",
              "      quickchartButtonEl.classList.remove('colab-df-spinner');\n",
              "      quickchartButtonEl.classList.add('colab-df-quickchart-complete');\n",
              "    }\n",
              "    (() => {\n",
              "      let quickchartButtonEl =\n",
              "        document.querySelector('#df-56278339-46a2-42ef-9fed-894f7137e217 button');\n",
              "      quickchartButtonEl.style.display =\n",
              "        google.colab.kernel.accessAllowed ? 'block' : 'none';\n",
              "    })();\n",
              "  </script>\n",
              "</div>\n",
              "\n",
              "    </div>\n",
              "  </div>\n"
            ],
            "application/vnd.google.colaboratory.intrinsic+json": {
              "type": "dataframe",
              "variable_name": "growth_stats",
              "summary": "{\n  \"name\": \"growth_stats\",\n  \"rows\": 10,\n  \"fields\": [\n    {\n      \"column\": \"code\",\n      \"properties\": {\n        \"dtype\": \"string\",\n        \"num_unique_values\": 10,\n        \"samples\": [\n          \"C_bL06ZRbed\",\n          \"C_1PBmBBIRd\",\n          \"C_6vWsLOzlD\"\n        ],\n        \"semantic_type\": \"\",\n        \"description\": \"\"\n      }\n    },\n    {\n      \"column\": \"total_growth_likes\",\n      \"properties\": {\n        \"dtype\": \"number\",\n        \"std\": 253.9038313132662,\n        \"min\": 5.0,\n        \"max\": 612.0,\n        \"num_unique_values\": 10,\n        \"samples\": [\n          5.0,\n          456.0,\n          366.0\n        ],\n        \"semantic_type\": \"\",\n        \"description\": \"\"\n      }\n    },\n    {\n      \"column\": \"total_growth_comments\",\n      \"properties\": {\n        \"dtype\": \"number\",\n        \"std\": 7.340148348485729,\n        \"min\": 0.0,\n        \"max\": 21.0,\n        \"num_unique_values\": 7,\n        \"samples\": [\n          7.0,\n          2.0,\n          15.0\n        ],\n        \"semantic_type\": \"\",\n        \"description\": \"\"\n      }\n    },\n    {\n      \"column\": \"total_hours\",\n      \"properties\": {\n        \"dtype\": \"number\",\n        \"std\": 0.0,\n        \"min\": 11.721944444444444,\n        \"max\": 11.721944444444444,\n        \"num_unique_values\": 1,\n        \"samples\": [\n          11.721944444444444\n        ],\n        \"semantic_type\": \"\",\n        \"description\": \"\"\n      }\n    },\n    {\n      \"column\": \"growth_likes_per_hour\",\n      \"properties\": {\n        \"dtype\": \"number\",\n        \"std\": 21.660555765012404,\n        \"min\": 0.4265503921893884,\n        \"max\": 52.20976800398114,\n        \"num_unique_values\": 10,\n        \"samples\": [\n          0.4265503921893884\n        ],\n        \"semantic_type\": \"\",\n        \"description\": \"\"\n      }\n    },\n    {\n      \"column\": \"growth_likes_per_day\",\n      \"properties\": {\n        \"dtype\": \"number\",\n        \"std\": 519.8533383602978,\n        \"min\": 10.237209412545322,\n        \"max\": 1253.0344320955473,\n        \"num_unique_values\": 10,\n        \"samples\": [\n          10.237209412545322\n        ],\n        \"semantic_type\": \"\",\n        \"description\": \"\"\n      }\n    },\n    {\n      \"column\": \"percent_likes_per_hour\",\n      \"properties\": {\n        \"dtype\": \"number\",\n        \"std\": 1.2629954337711145,\n        \"min\": 0.04062384687517984,\n        \"max\": 3.3690143167688418,\n        \"num_unique_values\": 10,\n        \"samples\": [\n          0.0743119150155729\n        ],\n        \"semantic_type\": \"\",\n        \"description\": \"\"\n      }\n    },\n    {\n      \"column\": \"percent_likes_per_day\",\n      \"properties\": {\n        \"dtype\": \"number\",\n        \"std\": 30.31189041050675,\n        \"min\": 0.9749723250043163,\n        \"max\": 80.8563436024522,\n        \"num_unique_values\": 10,\n        \"samples\": [\n          1.7834859603737496\n        ],\n        \"semantic_type\": \"\",\n        \"description\": \"\"\n      }\n    },\n    {\n      \"column\": \"percent_comments_per_hour\",\n      \"properties\": {\n        \"dtype\": \"number\",\n        \"std\": 1.0277154006744427,\n        \"min\": 0.0,\n        \"max\": 3.046788515638488,\n        \"num_unique_values\": 7,\n        \"samples\": [\n          0.1485498878271502\n        ],\n        \"semantic_type\": \"\",\n        \"description\": \"\"\n      }\n    },\n    {\n      \"column\": \"percent_comments_per_day\",\n      \"properties\": {\n        \"dtype\": \"number\",\n        \"std\": 24.665169616186624,\n        \"min\": 0.0,\n        \"max\": 73.12292437532372,\n        \"num_unique_values\": 7,\n        \"samples\": [\n          3.565197307851605\n        ],\n        \"semantic_type\": \"\",\n        \"description\": \"\"\n      }\n    }\n  ]\n}"
            }
          },
          "metadata": {},
          "execution_count": 647
        }
      ]
    },
    {
      "cell_type": "markdown",
      "source": [
        "Já com os dados ajustados calculamos as médias entre os posts."
      ],
      "metadata": {
        "id": "N6RJvnHZlDB4"
      }
    },
    {
      "cell_type": "code",
      "source": [
        "growth_stats.mean()"
      ],
      "metadata": {
        "colab": {
          "base_uri": "https://localhost:8080/",
          "height": 366
        },
        "id": "7n6jDz8s7z6A",
        "outputId": "d8d6399a-b106-44f7-a79c-4fe21fec9503"
      },
      "execution_count": 648,
      "outputs": [
        {
          "output_type": "execute_result",
          "data": {
            "text/plain": [
              "total_growth_likes           261.400000\n",
              "total_growth_comments          5.100000\n",
              "total_hours                   11.721944\n",
              "growth_likes_per_hour         22.300055\n",
              "growth_likes_per_day         535.201308\n",
              "percent_likes_per_hour         0.864432\n",
              "percent_likes_per_day         20.746357\n",
              "percent_comments_per_hour      0.545476\n",
              "percent_comments_per_day      13.091424\n",
              "dtype: float64"
            ],
            "text/html": [
              "<div>\n",
              "<style scoped>\n",
              "    .dataframe tbody tr th:only-of-type {\n",
              "        vertical-align: middle;\n",
              "    }\n",
              "\n",
              "    .dataframe tbody tr th {\n",
              "        vertical-align: top;\n",
              "    }\n",
              "\n",
              "    .dataframe thead th {\n",
              "        text-align: right;\n",
              "    }\n",
              "</style>\n",
              "<table border=\"1\" class=\"dataframe\">\n",
              "  <thead>\n",
              "    <tr style=\"text-align: right;\">\n",
              "      <th></th>\n",
              "      <th>0</th>\n",
              "    </tr>\n",
              "  </thead>\n",
              "  <tbody>\n",
              "    <tr>\n",
              "      <th>total_growth_likes</th>\n",
              "      <td>261.400000</td>\n",
              "    </tr>\n",
              "    <tr>\n",
              "      <th>total_growth_comments</th>\n",
              "      <td>5.100000</td>\n",
              "    </tr>\n",
              "    <tr>\n",
              "      <th>total_hours</th>\n",
              "      <td>11.721944</td>\n",
              "    </tr>\n",
              "    <tr>\n",
              "      <th>growth_likes_per_hour</th>\n",
              "      <td>22.300055</td>\n",
              "    </tr>\n",
              "    <tr>\n",
              "      <th>growth_likes_per_day</th>\n",
              "      <td>535.201308</td>\n",
              "    </tr>\n",
              "    <tr>\n",
              "      <th>percent_likes_per_hour</th>\n",
              "      <td>0.864432</td>\n",
              "    </tr>\n",
              "    <tr>\n",
              "      <th>percent_likes_per_day</th>\n",
              "      <td>20.746357</td>\n",
              "    </tr>\n",
              "    <tr>\n",
              "      <th>percent_comments_per_hour</th>\n",
              "      <td>0.545476</td>\n",
              "    </tr>\n",
              "    <tr>\n",
              "      <th>percent_comments_per_day</th>\n",
              "      <td>13.091424</td>\n",
              "    </tr>\n",
              "  </tbody>\n",
              "</table>\n",
              "</div><br><label><b>dtype:</b> float64</label>"
            ]
          },
          "metadata": {},
          "execution_count": 648
        }
      ]
    },
    {
      "cell_type": "markdown",
      "source": [
        "Notamos que houve no período um crescimento médio de 261 curtidas e 5 comentários por postagem.\n",
        "\\\n",
        "Um aumento de 20% em curtidas e 13% de comentários ao dia.\n"
      ],
      "metadata": {
        "id": "cnsKvKFxnFkY"
      }
    },
    {
      "cell_type": "markdown",
      "source": [
        "## Classificação de comentários"
      ],
      "metadata": {
        "id": "iaPmuOLAAvpU"
      }
    },
    {
      "cell_type": "markdown",
      "source": [
        "#### Desenvolvimento"
      ],
      "metadata": {
        "id": "8UvaqwIHB-bW"
      }
    },
    {
      "cell_type": "markdown",
      "source": [
        "Primeiro vamos criar o LLM através da função `create_model`."
      ],
      "metadata": {
        "id": "x1wJdwp0pkZ3"
      }
    },
    {
      "cell_type": "code",
      "source": [
        "def create_model():\n",
        "    \"\"\"\n",
        "    Cria e retorna um cliente Groq usando a chave de API.\n",
        "\n",
        "    Args:\n",
        "        None. A função utiliza a chave de API armazenada em 'userdata'.\n",
        "\n",
        "    Returns:\n",
        "        Groq: Um objeto cliente da API Groq, autenticado com a chave de API.\n",
        "\n",
        "    Dependências:\n",
        "        - A chave de API 'GROQ_API_KEY' deve estar disponível em 'userdata'.\n",
        "    \"\"\"\n",
        "    client = Groq(\n",
        "        api_key=userdata.get(\"GROQ_API_KEY\"),\n",
        "    )\n",
        "    return client\n",
        "\n",
        "model = create_model()\n"
      ],
      "metadata": {
        "id": "SGTiYu-1fEV3"
      },
      "execution_count": 649,
      "outputs": []
    },
    {
      "cell_type": "code",
      "source": [
        "def classifica_comentario_groq(p_text):\n",
        "    \"\"\"\n",
        "    Classifica o sentimento de um texto usando a API do Groq.\n",
        "    Args:\n",
        "      text:\n",
        "    \"\"\"\n",
        "    pergunta = f'Classifique o comentário a seguir em (positivo, negativo, neutro, humor), retorno apenas a classificação (não retorne emojis, somente as opções de classificação que dei): {p_text}'\n",
        "\n",
        "    print(pergunta)\n",
        "    response = model.chat.completions.create(\n",
        "        messages=[\n",
        "            {\n",
        "                \"role\": \"user\",\n",
        "                \"content\": pergunta,\n",
        "            }\n",
        "        ],\n",
        "        model=\"llama3-8b-8192\",\n",
        "    )\n",
        "    return response.choices[0].message.content"
      ],
      "metadata": {
        "id": "lZiB1BUKpzT1"
      },
      "execution_count": null,
      "outputs": []
    },
    {
      "cell_type": "markdown",
      "source": [
        "Agora fazer uma verificação para o caso de não haver nenhuma informação dentro ou até mesmo o próprio diretório de classificação de comentários."
      ],
      "metadata": {
        "id": "rJP-ITQJp3mb"
      }
    },
    {
      "cell_type": "code",
      "source": [
        "# Verifica se existe alguma partição no diretório de comentários classificados, caso não, ele cria o diretório.\n",
        "if not os.path.exists(f'{data_lake_path}{classified_comments_path}/part-'):\n",
        "    schema = StructType([\n",
        "        StructField(\"pk\", StringType(), nullable=True),\n",
        "        StructField(\"text_original\", StringType(), nullable=True),\n",
        "        StructField(\"classificacao\", StringType(), nullable=True)\n",
        "    ])\n",
        "\n",
        "    print(response_instagram_comments_data)\n",
        "    array_comments_analise = []\n",
        "\n",
        "    df = spark.createDataFrame(array_comments_analise, schema=schema)\n",
        "\n",
        "    df.write.mode(\"append\").format('parquet').save(f'{data_lake_path}{classified_comments_path}')"
      ],
      "metadata": {
        "colab": {
          "base_uri": "https://localhost:8080/"
        },
        "id": "8lnV_fi-q-He",
        "outputId": "89e07f06-c8fa-4a04-c24e-d58662fedd17"
      },
      "execution_count": 650,
      "outputs": [
        {
          "output_type": "stream",
          "name": "stdout",
          "text": [
            "[('17869495407193767', '2719430372', '', 0, 0, 'jccesinha', 'Julio Cesar', False), ('17870081787123796', '1640503132', '👏👏👏maravilhoso', 0, 0, 'adry.ventura', 'Adriane Ventura', False), ('17857713969200314', '3163842586', 'Com a minha mãe era no olhar, na rua ela se controlava afu kkk dava só aquele olhar fuminante pra nós e dizia baixinho, \"em casa tu vai ver\" chegava em casa o relho cantava 😂😂😂', 0, 0, 'jessica.l45', 'Jéssica Santos', False), ('18045792727938159', '607010578', '😂😂😂😂😂', 0, 0, 'gabhriel_1984', 'Gabriel Carvalho', False), ('18032713187214272', '9160243756', '🤣🤣🤣🤣', 0, 0, 'silva.sdb', 'André Brida', False), ('17990512850546280', '3278632530', 'Apanhavam de \"vara\"!?! (Lá ele)', 0, 1, 'vinitirapellesilva', 'Vinicius T da Silva', False), ('17918578961882458', '1173251318', '😂😂', 0, 0, 'julianajl31', 'Juliana Silva', False), ('17933814080919718', '2271092704', '\"se correr é pior\"', 0, 0, 'arthurhpuhl', 'Arthur Henrique Puhl', False), ('18037055840510884', '66103351095', '😂😂😂😂😂😂😂', 0, 0, 'josefranciscocalcadalopes', 'José Francisco Calçada Lopes', False), ('18045884680800715', '54398951022', 'E o tapão nas paletas, daqueles de tirar o ar? Nunca levei, mas tinha cada brother que ficava 2 dias falando fino', 0, 0, 'rodrigo_goularte333', 'Rodrigo Goularte', False), ('18101769637435849', '1965821685', 'E as crianças eram educadas. Hoje é uma coleção de alecrim dourado mal educado, mimado e metido a besta que até dói na alma de quem muito apanhou.', 0, 0, 'gcris.50', 'Crisciane Garcia', False), ('17873467419163805', '5542306200', 'Buuuuuua 🤣👏🏽 Monstro! 🥇', 0, 0, 'matheus_borba3', '𝗛𝘂𝗹𝗸 -🔱🥇🇧🇷', False), ('18338893570124314', '1904943460', 'So vi verdades!😂😂😂😂', 0, 0, 'paulomendes.realize', 'Paulo Mendes', False), ('17863871484217277', '253285122', 'O pior foi o meu coroa que de tanto eu aprontar ele falou que batia por esporte, já tinha virado tipo… ir na academia.', 0, 0, 'julianofoca', 'Juliano Cadore Pinheiro', False), ('17942686508768811', '271950040', '😂😂😂😂😂😂', 0, 0, 'emanuelsantos260', 'Emanuel Santos', False), ('18459597505027781', '633627439', 'Cravava prego no pé e apanhava pra deixar de ser boca aberta….', 0, 0, 'lgaaquino1970', 'Luciano Aquino', False), ('17880819126109957', '2074627010', '😂😂😂😂', 0, 0, 'andressa_agendes', 'Andressa Agendes Bastos', False), ('17976505850759623', '4315390212', '😂😂😂', 0, 0, 'rafaelhoff_1', 'Rafael Hoff da Silva', False), ('18048119647936749', '6046861325', 'Não importava onde pegava', 0, 0, 'henriques0691', 'Roger Henriques', False), ('17906142570012624', '41101405326', '😂😂😂😂', 0, 0, 'valdines_da_silva', 'Valdines Conceição', False), ('18020266532571019', '67470683297', 'Bah, a minha coroa era especialista em varada a longa distância, era perita no manuseio de vara de chorão!', 0, 0, 'felkerenglish5953', 'Alex Fëlker', False), ('18043702459965916', '6046861325', 'Bem assim', 0, 0, 'henriques0691', 'Roger Henriques', False), ('18338033770121381', '12254659164', 'Kkkkkkk, minha mãe me boxeou muito...bahhhh, mordia a língua e descia a lenha.', 0, 0, 'flavio.borille', 'Flavio Borille', False), ('18129168571327798', '6151901015', 'Essa é a minha mãe', 0, 0, 'maryestelarodrigues', 'Mary Estela Rodrigues Monteiro', False), ('17861976714231496', '51243761475', 'Minha mãe nunca me bateu! Só me jogou um ansinho que até hoje tenho marca no garão', 0, 0, 'diegosouza5984', 'Diego Miller Souza', False), ('18035686736278649', '27875557907', 'E depois elas falam q não batiam😂😂😂😂', 0, 0, 'danni.leite6', 'Dani Souza', False), ('18020556581529255', '1594089976', 'Eu entendo libras e nem sabia 🤣🤣🤣🤣🤣', 0, 0, 'guezinha07', 'GRACE', False), ('18246891373258667', '1835653888', '😂😂😂', 0, 0, 'aldomunizmatrix', 'Aldo Muniz', False), ('18020300873452903', '1594089976', 'Eu tô passando maaaaallll 🤣🤣🤣🤣🤣🤣🤣🤣🤣🤣🤣🤣', 0, 0, 'guezinha07', 'GRACE', False), ('18032592413212385', '9476270104', 'Diz ela que eu nem apanhava 😂😂😂', 0, 0, 'ticiapsp', 'Leticia Dias', False), ('18037596571897582', '49939061627', '😂😂😂 bem isso e ainda falava “ engole o choro que tu nem apanhou ainda “ 🤣🤣🤣🤣', 0, 0, 'emelyn_maiorino', 'Emelyn Maiorino', False), ('17896752459063278', '29848421612', 'O brabo mesmo era aquela tunda conversada com separação de sílabas 😂😂', 0, 0, 'miqsilveira', 'Milos Silveira', False), ('18020814353408736', '38498174235', 'Se a minha mãe chama-se pelo sobrenome, eu dizia: FUDEU! 😅', 1, 0, 'marx_silva88', 'Marx Alexandre Silva', False), ('18064302166624306', '36559979374', '😂😂😂😂😂😂', 0, 0, 'jacquelineamarildo', 'Jacqueline Sampaio Amarildo', False), ('18022195169178412', '33916131337', 'Vai gritar com os netos delas hoje em dia…😅🙄', 0, 0, 'marcinha_guimaraes_', 'Marcinha Guimarães', False), ('18453434578057697', '48923790382', 'Isso é mentira 😂', 0, 0, 'marildegasparrini', 'Marilde Gasparrini', False), ('18075819151493876', '18544908563', '😂😂😂😂😂😂 \"foi um susto\" essa foi boa. Mas a melhor é aquela \"pode passar que não vou te bater\" 😂😂😂😂😂😂', 0, 0, 'denis.zolin.9', 'Denis Zolin', False), ('18021552935193634', '42093265924', '😂😂😂😂😂😂😂😂\\nEra bem assim', 0, 0, 'instagrjanch43', 'Jones Janch', False), ('18064389412718095', '48552867297', '😂😂😂😂', 0, 0, 'rodrigo_rs_colorado', 'Rodrigo_Colorado', False), ('18238924606287645', '449119950', '“Dói mais em ti do que em mim fazer isso”\\nPo então para. Todo dia pra que?', 0, 0, 'juniorstuartg', 'Junior Stuart', False), ('18071419420603948', '4018197670', 'Vários gatilhos 😂😂', 0, 0, 'doamaralribeiro', 'Júlio R. Do Amaral Ribeiro', False), ('17981879840601244', '1521003461', '😂', 0, 0, 'tiagodr85', 'Tiago Duarte', False), ('18157474531316097', '230983741', 'Se finô!😂😂', 0, 0, 'carloscalota', 'Carlos Ribeiro', False), ('18039498068035823', '1538979185', 'Mamãe  pegava o fio do ferro  pra amedrontar mas se ela batesse em mim eu avançava  ela dava mas apanhava tb eu banhava o pau', 0, 0, 'andifsouza19', 'Andi', False), ('18457930501038606', '2868772886', '😂😂😂😂😂😂😂', 0, 0, 'raffa_fontoura', 'Raffa Fontoura', False), ('18058320688685859', '49134348662', '😂😂😂😂😂😂😂😂😂😂', 0, 0, 'liliam.morenomachado', 'Lilian Machado', False), ('17967534647788474', '1413374748', '😂😂😂😂 puts', 0, 0, 'madaalena__love_my__', 'Madalena Borges', False), ('18096079777415338', '2250032826', 'Tá chorando? Vou te dar motivo pra chorar', 0, 0, 'nimaria.oficial', '🎶NÍ MARIA🤲🏽', False), ('17943471152761730', '2250032826', 'Batia e pedia desculpa depois', 0, 0, 'nimaria.oficial', '🎶NÍ MARIA🤲🏽', False), ('18044546491975045', '505270861', 'Vara de marmelo era o terror da minha vida e conhecendo o efeito do verniz eu acho que aquela lá de casa era ensaboado de verniz hahahaha', 0, 0, 'diogoagrando', 'Diogo Grando', False), ('18076402870557233', '28697824095', '😂😂', 0, 0, 'raider_motoboy', 'Lucas Olaz', False), ('17948082602743060', '4207254656', '😂😂😂😂😂😂😂', 1, 0, 'nicolettidos', 'Solange Nicoletti', False), ('18011064410344373', '8976444708', '😂', 1, 0, 'adelileiria', 'Adéli Leiria', False), ('18019662794229827', '50672811380', 'Me mijei aqui 😂😂😂', 1, 0, 'rodrigo_farelo', 'Rodrigo de Oliveira', False), ('17887089879076225', '43051623502', 'Meu pai não batia, mas em compensação dava uma olhada q se fosse bala,tava. 😂', 1, 0, 'daisi.nunes.7', 'Daisi Nunes', False), ('18021796166184358', '44291799169', '😂😂😂', 1, 0, 'rothendouglas', 'Douglas Rothen', False), ('18052051612863843', '45258826187', '❤️❤️❤️❤️', 1, 0, 'shandra.adriana', 'Shandra Adriana Collar', False), ('18021094556436702', '45258826187', 'Minha vontade nso da conta', 1, 0, 'shandra.adriana', 'Shandra Adriana Collar', False), ('18284067733226339', '45258826187', 'Pocha que sinistro esse teclado do celular', 1, 0, 'shandra.adriana', 'Shandra Adriana Collar', False), ('18341265454130722', '45258826187', 'Perdão erros', 1, 0, 'shandra.adriana', 'Shandra Adriana Collar', False), ('18056351056691353', '267349301', 'Hahahhahahahah!!! Alô  @teatrooficinadoestudante!! Tragam esse talento gaúcho pra cá que eu duvido que não lote tudo as seção, bah!! nem que apanhe da mãe! kkkk', 2, 0, 'profhumbertospindola', 'Prof. Dr. Humberto Spindola | Farmacêutico', False), ('18037825163115131', '45258826187', 'So para acrescentar na ideia. Eu era ótima no cacador, desviava até dosbpin8cos com merda... mas dos sinzeros  tirava de letra, nunquinha me acertou', 1, 0, 'shandra.adriana', 'Shandra Adriana Collar', False), ('17870050692121459', '6766893618', '😂😂😂😂😂 até perder dente', 1, 0, 'nico.kochhann', 'Nicolas Kochhann', False), ('18310961635093830', '55397831720', '@ravelliongaratto', 1, 0, 'bvalquiria11', 'Valquiria Borges', False), ('18068536813594401', '55397831720', '@,ra', 1, 0, 'bvalquiria11', 'Valquiria Borges', False), ('17951074397829734', '431806072', 'Tu é top demais 😂😂😂😂', 1, 0, 'junior_jung', 'Junior Jung', False), ('18023955197457070', '4654222006', '😂😂😂😂😂', 1, 0, 'barcellos_nathy', 'Natalia Barcellos', False), ('18129841072334419', '54069012755', 'Eu especificamente se eu fugisse pra rua ela dizia tu vai ter que entrar uma hora ou outra😂😂 eu nem boba nem nada espera meu pai chegar do trabalho que entrava com ele e ela não me batia😂', 1, 0, 'andressasliwak', 'Andressa  slivak', False), ('18449392246014484', '41145438339', '😬😬😬🤣🤣🤣', 1, 0, 'silviacorreiagarrido', 'Silvia Garrido CRECI 50411', False), ('18043862023966252', '61599047036', 'A minha só dava aquele olhar 035😂😂😂😂 eu ficava toda cagada😂😂😂😂', 1, 0, 'margotdelmauro19', 'margotdelmauro', False), ('18101156419431935', '3258996628', 'Ficava na porta e falava passa,nao foge que é pior,bhaaa uma das primeiras grandes e tensas escolhas da vida,cara passava e ela metia vara,colocava as maos e ela gritava,tira as maos kkkkkkkk', 1, 0, 'bernieri_motors', 'Luigi Bernieri!', False), ('18039988025498019', '1408396400', 'É pro teu bem', 1, 0, 'luccagodoy01', 'Lucca Godoy 🕷️', False), ('18032724326187439', '12626292815', 'Isso quando ela não ameaçava primeiro \"tu quer ver eu ir aí e ti fazer chorar com vontade\"?', 2, 0, 'simonesouzaluz', 'Simone Souza da Luz', False), ('18276052135172351', '17378452185', '🤣🤣🤣🤣🤣', 1, 0, 'xandycardoso_1973', 'Alexandre Pereira Cardoso', False), ('18062267866633910', '3504318350', '😂😂😂', 1, 0, 'cintiaalmeidat', 'Cintia Almeida', True), ('18267186034217040', '6686962302', 'Quer ver quando o cara se quebrava tava todo machucado apanhava pq  se machucou 😂', 3, 0, 'gustavo.thomas7', 'Gustavo Thomas', False), ('18072146959560318', '1688264954', '😂😂😂😂😂😂😂😂😂😂', 1, 0, 'duarte.anacris72', 'Ana Duarte', False), ('17866405128206608', '20990360156', '😂😂', 1, 0, 'catarinaache', 'Catarina Ache', False), ('17940201758887573', '52818901113', 'Tu te prepara que tu vai ver o que é bom pra tosse!!', 1, 0, 'rodrigopereira8991', 'Rodrigo Pereira', False), ('17969312249648407', '2212385803', 'Kkkkkkkkkk', 1, 0, 'ivan.oliv', 'Ivan Oliveira Martins', False), ('18278907919235605', '1541119655', '😂😂😂😂', 1, 0, 'everton.santos.12177276', 'Everton Santos', False), ('18035014844513591', '4199609974', 'Eu mostro teus vídeos para a minha mãe e ela diz: até parece que eu batia em vocês, quem vê vocês falando pensa que eu matav4 vocês a pau 😂😂😂', 1, 0, 'allinecostiti', 'Aline Costiti', True), ('17857808508199706', '4199609974', '😂😂😂 quase morri de rir 😂', 1, 0, 'allinecostiti', 'Aline Costiti', True), ('17939830295904980', '4633733538', 'Verdade né!!! Apanhava sem merecer 😢', 1, 0, 'luscianiroos', 'Lusciani Roos', False), ('18370516957103773', '1178416067', 'Deus o livre criança junto com adulto, eles só te olhavam e tu já entendia o recado 😂😂', 1, 0, 'marlucefifah', 'Marluce Fifah', False), ('18447890659043465', '49172208995', '😂😂😂😂👏👏', 1, 0, 'glebsonbareta', 'Glebson Bareta', False), ('18302318992160090', '9024700301', 'Baaa o tamanco de madeira voava nos cornos 🥲', 1, 0, 'emanuela.santos27', 'Emanuela Santos', False), ('18107003974421990', '39458544707', 'Minha mãe é enfermeira, ganhava o pacote completo 😭🤕🤒', 1, 0, 'bugreeusou', 'Bugre', False), ('18052425685860780', '18995434470', 'Mas nós sobrevivemos a nossa geração foi a última 70/80 /90 . Aí venho a 2000 a turma do Enzo 😂😂😂😂 mãe cadê Wey de morango 🍓🍓🍓🍓', 1, 0, 'lucas.carrion.355', 'Lucas Carrion', False), ('18057449002702417', '499135145', 'Open bar de laço.  Kkkkkkk', 1, 0, 'rob.antero', 'Robson Antero', False), ('18060163543675360', '7102566385', 'E não adiantava pedir perdão e prometer que não ia mais fazer! 😂😂😂 A mãe me lembrava que eu já tinha feito promessa e não obedeci! 🤦🏼\\u200d♀️ Kkkkkkkk', 1, 0, 'grazicassariego', 'Grazi Cassariego', False), ('17893231452000866', '2016000230', 'A vó embolava a gente se a gente pedia comida na casa da tia e ela fazia um pão caseiro com chimia de uva que era irresistível então ela saia com o lanche p gente numa sacola p gente não ter fome e a tia não pensar que não tínhamos comida em casa kkk a gente sempre apanhava mas de barriga cheia de pão e chimia 😂😂😂', 1, 0, 'lidioadri27', 'Lidiomar Almeida', False), ('17879214291134603', '1443142442', 'Avaiana de pau … ahhhh muleque… não fui eu mamãe', 2, 0, 'umbertomaciel', 'Umberto Maciel', False), ('18038759795295166', '50686370362', 'Sou do tempo em que as mães inventaram os primeiros Drones 37/38 😂😂😂', 1, 0, 'deni_wander', 'Denise Wanderley', False), ('18098412199451181', '3876092965', '😂😂😂 tu e a lenda', 1, 0, 'franciscojunior5971', 'Francisjunior Lima', False), ('18021391949411293', '6011467841', 'Minha acho raras vezes me baria era mais ao atravessar rua ela torcia um beliscão 😂😂', 1, 0, 'aristidesantunes', 'Aristides Antunes', False), ('18413340337079598', '810939012', 'Era uma tunda de laço em cima da outra 😂😂😂', 1, 0, 'alinedefreitasferreira', 'Aline De Freitas', False), ('17939393897879833', '6103984964', '😂😂😂😂', 1, 0, 'carlos_hclima', 'Correa Carlos', False), ('18128986831336358', '3240348129', 'Se fosse hoje em dia ...', 1, 0, 'gilvanborba', 'Gilvan Borba', False), ('17876609613150360', '1990270279', 'Me lembro uma vez tomei uma chinelada do pai daqueles chinelo de velho que era de couro que cheguei a me mija kkkkk😂😂😂', 1, 0, 'mariojdede', 'Mário Dedé', False), ('17863455849164138', '44052843664', 'E se tu fosse chorar ,ou tu engolia o choro ou tu ficava resmungando , engolindo o ranho , bah , lembro disso quando meu irmão apanhava 😭😂😂😂😂😂😂😂tadinho', 1, 0, 'vivianemogica', 'Viviane Vieira', False), ('17990021672548422', '48908162890', '😂😂😂', 1, 0, 'mariamira656', 'Maria Mira', False), ('17889478068092802', '1275490754', 'Berrrooooo', 1, 0, 'prendada', 'Priscilla Casagrande', False), ('18251789347265030', '6254048718', 'Não corre que é pior!!!', 4, 1, 'renatoooteixeira', 'Renato Teixeira', False), ('17887684902095239', '1081846917', 'A minha mãe foi atípica lkkkkkll nunca bateu nos filhos, cresceram um bando de mimado 😂😂😂😂😂😂', 1, 0, 'feperess', 'Fernanda Peres', False), ('17868424116194660', '8975317739', 'Minha vó depois de quebrar o cabo de vassoura no meu lombo, é pro teu bem... Imagina se fosse pro meu mal😂😂', 0, 0, 'cristiane.m.azeredo', 'Chris Marques', False), ('18152257060324278', '6965725471', '😂😂', 1, 0, 'dinikelibarro', 'Dini Keli Leal', False), ('18046590466941680', '9457796204', 'E ainda dizem : ahhh não teve nenhuma sequela estão tudo aí bem criados ! Kkkk sim tudo entupido de calmante e terapia!  Mas tá de boa !', 2, 0, 'simaradequadros', 'Simara de Quadros Vargas Pereira', False), ('18057186946691397', '58872095882', 'E aqueleas que batiam soletrando kkkkk  já.fa.lei.pra.nao.me.xer.nas.mi.nhas coi.sas 😂😂😂', 9, 0, 'josi4.46', '', False), ('17920946762968152', '7405212494', '😂😂😂', 1, 0, 'a.araujodenise91', 'Dennise Araújo', False), ('17892859248065770', '3726474289', '😂😂😂😂😂 mas estão tudo aí ,tudo criado😂😂', 1, 0, 'luciane_leal29', 'Luciane Leal', False), ('18055927279763692', '2008302155', 'laonecorrea ,  foi o melhor comentário 😂😂😂😂', 1, 0, 'isa_sundari', 'Isaura Rodrigues Monteiro', False), ('18314701399085354', '272018017', '😂😂😂😂🤣🤣🤣🤣', 1, 0, 'diegomottars', 'Diego Motta', False), ('18041226143078497', '1370492667', '😂😂😂😂😂😂😂', 1, 0, '_val_pink', 'Val Molinari', False), ('18029823464259344', '2008302155', 'Preciso muito ir a um , standap dele. 😂😂😂😂😂😂', 3, 1, 'isa_sundari', 'Isaura Rodrigues Monteiro', False), ('18037437901913420', '1924803652', '😂😂😂', 1, 0, 'busolliwilian', 'Wilian Busolli', False), ('18017959658268476', '38911830008', 'E se tentasse correr era pior', 1, 0, 'miybitt', 'Miy Bitt', False), ('17921240768866207', '32500111865', '😂😂😂😂😂', 1, 0, 'marlene.rodriguesdasilva.167', 'Marlene Rodrigues da Silva', False), ('18035905441957848', '35165854686', 'Kkkk verdade', 1, 0, 'nirleigarim', 'Nirlei Garim', False), ('17984833286713846', '45095263619', '😂😂😂😂😂', 1, 0, 'scris68', 'SCristina Sil', False), ('18458433946025981', '2176076116', '😂😂😂😂😂😂😂😂😂😂😂', 1, 0, 'joao8756', 'Joao Jorge Mendes', False), ('17920751252968498', '65608516137', 'Melhor de todos não tem 👏😂😂😍❤️mito', 3, 0, 'tomdossantod', 'Tom santos 903', False), ('17927653232941338', '1444900377', 'O bom que mo final já ficava com uma tatuagem. HAVAIANAS 38/39', 1, 0, 'laonecorrea', 'Laone Corrêa', False), ('18007747655430581', '1456907995', '😂😂😂', 1, 0, 'mara.marques.374', 'Mara Leite', False), ('18057349390702424', '5861377795', 'Hahaha 😂😂😂😂', 1, 0, 'esmael.machado', 'Esmael Machado', False), ('17862703260229862', '44271392690', 'Por isso a nossa geração não é de enzo', 1, 0, 'sheilaargt_', 'Sheila Argenta', False), ('17971653239640287', '259596849', 'E cala essa boca, que tu ainda nem apanhou', 23, 2, 'abneraguiarr', 'Ábner Aguiar', False), ('18251113276267640', '59085660254', 'Uma das vezes, apanhei que cheguei a desmaiar, daí pra me acordar,jogou álcool no meu rosto, pegou no olho ,fiquei 2 semanas sem enxergar e olho inchado.', 5, 1, 'valgardini23', 'Valéria Gardini🇧🇷💚❤️💛', False), ('18001685273657218', '60081942345', 'A minha mãe dava de varinha verde até quebrar. Aí ia no pátio e pegava outra. Credo', 1, 0, 'ojotasobrenatural', 'Jota Sobrenatural', False), ('17950633625833983', '3407061865', '\"O quer te aparecer \" é um clássico! Junto com o \" quer apanhar \" 😂😂😂😂😂', 19, 4, 'rosana.samy', 'Rosana Samy', False), ('18053520346833393', '1346412659', '😂😂😂😂😂😂😂 Ai Senhor eu não aguento!! 😂😂😂😂😂😂', 1, 0, 'ana.gomesrosa', 'Ana Rosa', False), ('18007818419420985', '26279610234', '😂😂😂😂', 2, 0, 's_santos97', 'Samuel Santos', False), ('17859202761246415', '313911790', 'quando ela me batia e eu me finava chorando e dai ela me levava correndo pra baixo do chuveiro 😂', 6, 5, 'eeipam', 'pâmela barcellos •', False), ('18113828029402651', '4896248886', 'O bom é que o cara cresce, fala das tunda e elas falam que tu tá inventando! Quem apanha não esquece, quem bate sim! 😂', 23, 0, 'correalucas77_', 'Lucas da Costa Correa', False), ('18051880336892607', '517580100', '😂😂😂', 2, 0, 'carlameinerz', 'CARLA MEINERZ', False), ('18016469402307851', '2316399195', 'E apanhava em silaba😂', 1, 0, 'fabian.grave', 'Fabian Nery', False), ('18146270764336480', '526827253', 'Open bar de laço é ótimo kkkkkkkk', 8, 0, 'marquessgreici', 'Greici Marques', False), ('17878469838112785', '3287613211', '😂😂😂👏👏👏', 1, 0, 'soldier_felipe', 'Felipe Dias', False), ('17860812252237589', '66382060095', 'É verdade bem assim era nossa.😂😂😂👏👏💞💞👏', 1, 0, 'elainesilveira12_', 'Elaine Silveira', False), ('18046302385786998', '65013477042', '😂😂😂', 1, 0, 'maiconnascimento1998', 'Maicon Nascimento', False), ('18040746239033809', '1590866599', 'Marcito, tu é o cara!!😂😂😂😂😂', 0, 0, 'megui37', 'Margareth Pinheiro Boeira', False), ('18455857864023169', '2355530694', 'O bom era o mertiolate que ardia mais que o machucado 😂😂😂', 18, 1, 'alina_goya', 'Alina Góya', False), ('18077692744481744', '1357808936', 'Isso qdo não ganhava um beliscão 😂😂😂😂😂😂😂', 7, 0, 'rosa.camposcorrea', 'Rosa Campos Correa', False), ('18029612876255330', '287002306', '😂😂😂', 2, 0, 'chris_cadore', 'Christine Cadore', False), ('17910152900918021', '8134053155', '😂😂😂', 2, 0, 'fpaixao_music', 'Fernando Paixão Music', False), ('18324301639147830', '63199876687', 'Antes de bater passava o ALMA DE FLORES 🌷 😂😂', 16, 3, 'sos.sarandi', '𝗦𝗔𝗥𝗔𝗡𝗗𝗜 𝗦𝗢𝗦 ‼️', False), ('17907698642934525', '2320882050', '😂😂😂😂😂😂 bah a havaiana era tipo uma bomba nuclear chegando no boró.', 1, 0, 'lucrecyus', 'Lucas Ribeiro', False), ('17998029182666569', '2371574518', '😂😂😂😂', 2, 0, 'alexandra_fucilini', 'ALEXANDRA👑 FOLLOW GOD ☝️ CRISTÃ ✝️', False), ('17874328071095397', '18069191181', '😂😂😂😂😂😂foi só um susto é o melhor 😂😂😂😂', 6, 0, 'margareth_maninha', 'Margareth', False), ('18064470157623803', '5810928855', 'O mais impressionante é o efeito amnésia geral das mães desta época, esqueceram todas( não poucas). Hoje em dia nenhuma assume esses B.O. 😂😂😂', 81, 8, 'evertonr.reis', 'Everton Reis', False), ('18038740124106375', '359423291', 'E a vó; tu fez o guri se afinar', 33, 1, 'marcosviniciusp', 'Marcos Vinicius', False), ('17940904643896878', '213121083', '😂😂😂', 2, 0, 'leeoisrael', 'Leonardo Israel', False), ('17938563212872750', '61498770768', '😂😂😂😂😂', 2, 0, 'lais.silvaabreuferreira2', 'Lais Silva Abreu Ferreira', False), ('18062434285650102', '55232012888', 'Só um susto 😂😂😂😂😂', 5, 1, 'portoalegre.milgrau', '𝗣𝗢𝗥𝗧𝗢 𝗔𝗟𝗘𝗚𝗥𝗘 𝗠𝗜𝗟 𝗚𝗥𝗔𝗨   😎', False)]\n"
          ]
        }
      ]
    },
    {
      "cell_type": "markdown",
      "source": [
        "Cruza os comentários com as classificações e monta um array com os comentários que precisam ser classificados"
      ],
      "metadata": {
        "id": "Dyo3u3olKmX-"
      }
    },
    {
      "cell_type": "code",
      "source": [
        "df_comentarios = spark.read.parquet(f'{data_lake_path}{comments_path}')\n",
        "df_classificacao = spark.read.parquet(f'{data_lake_path}{classified_comments_path}')\n",
        "\n",
        "\n",
        "df_comentarios_para_classificar = df_comentarios.join(df_classificacao, 'pk', 'left')\n",
        "\n",
        "df_comentarios_para_classificar.createOrReplaceTempView('comentarios_para_classificar')\n",
        "df = spark.sql('select pk, text, classificacao from comentarios_para_classificar where classificacao is null')\n",
        "\n",
        "df = df.drop_duplicates()\n",
        "lista_linhas = df.rdd.map(lambda row: row.asDict()).collect()\n",
        "\n",
        "# Imprime quantos comentários faltam ser classificados\n",
        "print(df.count())"
      ],
      "metadata": {
        "id": "_QJyN46BCwWA",
        "colab": {
          "base_uri": "https://localhost:8080/"
        },
        "outputId": "e31c17d1-35a1-4300-ce0d-c1a0f0f5a0f9"
      },
      "execution_count": 651,
      "outputs": [
        {
          "output_type": "stream",
          "name": "stdout",
          "text": [
            "13\n"
          ]
        }
      ]
    },
    {
      "cell_type": "markdown",
      "source": [
        "Agora iremos chamar a função `classifica_comentario` para cada um dos comentários presentes no dataframe e depois preencher um novo array para usarmos mais tarde."
      ],
      "metadata": {
        "id": "h_o3rPwmqpFG"
      }
    },
    {
      "cell_type": "code",
      "source": [
        "array_comments_analise = []\n",
        "\n",
        "for comentario in lista_linhas:\n",
        "    pk = comentario.get('pk')\n",
        "    text = comentario.get('text')\n",
        "\n",
        "    retorno_ai = classifica_comentario_groq(text)\n",
        "    time.sleep(3) # espera 3s para a nova requisição fazendo no máximo 20 req. por min. Max da API são 30/min\n",
        "    array_comments_analise.append((pk,text,retorno_ai))\n"
      ],
      "metadata": {
        "id": "E9jSo8HSDRL-",
        "colab": {
          "base_uri": "https://localhost:8080/"
        },
        "outputId": "06f9de53-e016-4b98-fddf-7496453bf3f9"
      },
      "execution_count": 652,
      "outputs": [
        {
          "output_type": "stream",
          "name": "stdout",
          "text": [
            "Classifique o comentário a seguir em (positivo, negativo, neutro, humor), retorno apenas a classificação (não retorne emojis, somente as opções de classificação que dei): 👏👏👏maravilhoso\n",
            "Classifique o comentário a seguir em (positivo, negativo, neutro, humor), retorno apenas a classificação (não retorne emojis, somente as opções de classificação que dei): 😂😂\n",
            "Classifique o comentário a seguir em (positivo, negativo, neutro, humor), retorno apenas a classificação (não retorne emojis, somente as opções de classificação que dei): Apanhavam de \"vara\"!?! (Lá ele)\n",
            "Classifique o comentário a seguir em (positivo, negativo, neutro, humor), retorno apenas a classificação (não retorne emojis, somente as opções de classificação que dei): Com a minha mãe era no olhar, na rua ela se controlava afu kkk dava só aquele olhar fuminante pra nós e dizia baixinho, \"em casa tu vai ver\" chegava em casa o relho cantava 😂😂😂\n",
            "Classifique o comentário a seguir em (positivo, negativo, neutro, humor), retorno apenas a classificação (não retorne emojis, somente as opções de classificação que dei): 🤣🤣🤣🤣\n",
            "Classifique o comentário a seguir em (positivo, negativo, neutro, humor), retorno apenas a classificação (não retorne emojis, somente as opções de classificação que dei): \"se correr é pior\"\n",
            "Classifique o comentário a seguir em (positivo, negativo, neutro, humor), retorno apenas a classificação (não retorne emojis, somente as opções de classificação que dei): So vi verdades!😂😂😂😂\n",
            "Classifique o comentário a seguir em (positivo, negativo, neutro, humor), retorno apenas a classificação (não retorne emojis, somente as opções de classificação que dei): 😂😂😂😂😂😂😂\n",
            "Classifique o comentário a seguir em (positivo, negativo, neutro, humor), retorno apenas a classificação (não retorne emojis, somente as opções de classificação que dei): E o tapão nas paletas, daqueles de tirar o ar? Nunca levei, mas tinha cada brother que ficava 2 dias falando fino\n",
            "Classifique o comentário a seguir em (positivo, negativo, neutro, humor), retorno apenas a classificação (não retorne emojis, somente as opções de classificação que dei): 😂😂😂😂😂\n",
            "Classifique o comentário a seguir em (positivo, negativo, neutro, humor), retorno apenas a classificação (não retorne emojis, somente as opções de classificação que dei): \n",
            "Classifique o comentário a seguir em (positivo, negativo, neutro, humor), retorno apenas a classificação (não retorne emojis, somente as opções de classificação que dei): Buuuuuua 🤣👏🏽 Monstro! 🥇\n",
            "Classifique o comentário a seguir em (positivo, negativo, neutro, humor), retorno apenas a classificação (não retorne emojis, somente as opções de classificação que dei): E as crianças eram educadas. Hoje é uma coleção de alecrim dourado mal educado, mimado e metido a besta que até dói na alma de quem muito apanhou.\n"
          ]
        }
      ]
    },
    {
      "cell_type": "markdown",
      "source": [
        "Com o array já preenchido com as classificações vamos salvar as novas atualizações no DataLake"
      ],
      "metadata": {
        "id": "MaxN3L0aq-Ce"
      }
    },
    {
      "cell_type": "code",
      "source": [
        "schema = StructType([\n",
        "        StructField(\"pk\", StringType(), nullable=True),\n",
        "        StructField(\"text_original\", StringType(), nullable=True),\n",
        "        StructField(\"classificacao\", StringType(), nullable=True)\n",
        "])\n",
        "\n",
        "print(response_instagram_comments_data)\n",
        "\n",
        "df = spark.createDataFrame(array_comments_analise, schema=schema)\n",
        "df = df.withColumn('ts_exec', F.current_timestamp())\n",
        "\n",
        "df.write.mode(\"append\").format('parquet').save(f'{data_lake_path}{classified_comments_path}')"
      ],
      "metadata": {
        "colab": {
          "base_uri": "https://localhost:8080/"
        },
        "id": "ae5PIyDYGVH-",
        "outputId": "a1e4d400-b988-468c-8142-127d0b1c3be6"
      },
      "execution_count": 653,
      "outputs": [
        {
          "output_type": "stream",
          "name": "stdout",
          "text": [
            "[('17869495407193767', '2719430372', '', 0, 0, 'jccesinha', 'Julio Cesar', False), ('17870081787123796', '1640503132', '👏👏👏maravilhoso', 0, 0, 'adry.ventura', 'Adriane Ventura', False), ('17857713969200314', '3163842586', 'Com a minha mãe era no olhar, na rua ela se controlava afu kkk dava só aquele olhar fuminante pra nós e dizia baixinho, \"em casa tu vai ver\" chegava em casa o relho cantava 😂😂😂', 0, 0, 'jessica.l45', 'Jéssica Santos', False), ('18045792727938159', '607010578', '😂😂😂😂😂', 0, 0, 'gabhriel_1984', 'Gabriel Carvalho', False), ('18032713187214272', '9160243756', '🤣🤣🤣🤣', 0, 0, 'silva.sdb', 'André Brida', False), ('17990512850546280', '3278632530', 'Apanhavam de \"vara\"!?! (Lá ele)', 0, 1, 'vinitirapellesilva', 'Vinicius T da Silva', False), ('17918578961882458', '1173251318', '😂😂', 0, 0, 'julianajl31', 'Juliana Silva', False), ('17933814080919718', '2271092704', '\"se correr é pior\"', 0, 0, 'arthurhpuhl', 'Arthur Henrique Puhl', False), ('18037055840510884', '66103351095', '😂😂😂😂😂😂😂', 0, 0, 'josefranciscocalcadalopes', 'José Francisco Calçada Lopes', False), ('18045884680800715', '54398951022', 'E o tapão nas paletas, daqueles de tirar o ar? Nunca levei, mas tinha cada brother que ficava 2 dias falando fino', 0, 0, 'rodrigo_goularte333', 'Rodrigo Goularte', False), ('18101769637435849', '1965821685', 'E as crianças eram educadas. Hoje é uma coleção de alecrim dourado mal educado, mimado e metido a besta que até dói na alma de quem muito apanhou.', 0, 0, 'gcris.50', 'Crisciane Garcia', False), ('17873467419163805', '5542306200', 'Buuuuuua 🤣👏🏽 Monstro! 🥇', 0, 0, 'matheus_borba3', '𝗛𝘂𝗹𝗸 -🔱🥇🇧🇷', False), ('18338893570124314', '1904943460', 'So vi verdades!😂😂😂😂', 0, 0, 'paulomendes.realize', 'Paulo Mendes', False), ('17863871484217277', '253285122', 'O pior foi o meu coroa que de tanto eu aprontar ele falou que batia por esporte, já tinha virado tipo… ir na academia.', 0, 0, 'julianofoca', 'Juliano Cadore Pinheiro', False), ('17942686508768811', '271950040', '😂😂😂😂😂😂', 0, 0, 'emanuelsantos260', 'Emanuel Santos', False), ('18459597505027781', '633627439', 'Cravava prego no pé e apanhava pra deixar de ser boca aberta….', 0, 0, 'lgaaquino1970', 'Luciano Aquino', False), ('17880819126109957', '2074627010', '😂😂😂😂', 0, 0, 'andressa_agendes', 'Andressa Agendes Bastos', False), ('17976505850759623', '4315390212', '😂😂😂', 0, 0, 'rafaelhoff_1', 'Rafael Hoff da Silva', False), ('18048119647936749', '6046861325', 'Não importava onde pegava', 0, 0, 'henriques0691', 'Roger Henriques', False), ('17906142570012624', '41101405326', '😂😂😂😂', 0, 0, 'valdines_da_silva', 'Valdines Conceição', False), ('18020266532571019', '67470683297', 'Bah, a minha coroa era especialista em varada a longa distância, era perita no manuseio de vara de chorão!', 0, 0, 'felkerenglish5953', 'Alex Fëlker', False), ('18043702459965916', '6046861325', 'Bem assim', 0, 0, 'henriques0691', 'Roger Henriques', False), ('18338033770121381', '12254659164', 'Kkkkkkk, minha mãe me boxeou muito...bahhhh, mordia a língua e descia a lenha.', 0, 0, 'flavio.borille', 'Flavio Borille', False), ('18129168571327798', '6151901015', 'Essa é a minha mãe', 0, 0, 'maryestelarodrigues', 'Mary Estela Rodrigues Monteiro', False), ('17861976714231496', '51243761475', 'Minha mãe nunca me bateu! Só me jogou um ansinho que até hoje tenho marca no garão', 0, 0, 'diegosouza5984', 'Diego Miller Souza', False), ('18035686736278649', '27875557907', 'E depois elas falam q não batiam😂😂😂😂', 0, 0, 'danni.leite6', 'Dani Souza', False), ('18020556581529255', '1594089976', 'Eu entendo libras e nem sabia 🤣🤣🤣🤣🤣', 0, 0, 'guezinha07', 'GRACE', False), ('18246891373258667', '1835653888', '😂😂😂', 0, 0, 'aldomunizmatrix', 'Aldo Muniz', False), ('18020300873452903', '1594089976', 'Eu tô passando maaaaallll 🤣🤣🤣🤣🤣🤣🤣🤣🤣🤣🤣🤣', 0, 0, 'guezinha07', 'GRACE', False), ('18032592413212385', '9476270104', 'Diz ela que eu nem apanhava 😂😂😂', 0, 0, 'ticiapsp', 'Leticia Dias', False), ('18037596571897582', '49939061627', '😂😂😂 bem isso e ainda falava “ engole o choro que tu nem apanhou ainda “ 🤣🤣🤣🤣', 0, 0, 'emelyn_maiorino', 'Emelyn Maiorino', False), ('17896752459063278', '29848421612', 'O brabo mesmo era aquela tunda conversada com separação de sílabas 😂😂', 0, 0, 'miqsilveira', 'Milos Silveira', False), ('18020814353408736', '38498174235', 'Se a minha mãe chama-se pelo sobrenome, eu dizia: FUDEU! 😅', 1, 0, 'marx_silva88', 'Marx Alexandre Silva', False), ('18064302166624306', '36559979374', '😂😂😂😂😂😂', 0, 0, 'jacquelineamarildo', 'Jacqueline Sampaio Amarildo', False), ('18022195169178412', '33916131337', 'Vai gritar com os netos delas hoje em dia…😅🙄', 0, 0, 'marcinha_guimaraes_', 'Marcinha Guimarães', False), ('18453434578057697', '48923790382', 'Isso é mentira 😂', 0, 0, 'marildegasparrini', 'Marilde Gasparrini', False), ('18075819151493876', '18544908563', '😂😂😂😂😂😂 \"foi um susto\" essa foi boa. Mas a melhor é aquela \"pode passar que não vou te bater\" 😂😂😂😂😂😂', 0, 0, 'denis.zolin.9', 'Denis Zolin', False), ('18021552935193634', '42093265924', '😂😂😂😂😂😂😂😂\\nEra bem assim', 0, 0, 'instagrjanch43', 'Jones Janch', False), ('18064389412718095', '48552867297', '😂😂😂😂', 0, 0, 'rodrigo_rs_colorado', 'Rodrigo_Colorado', False), ('18238924606287645', '449119950', '“Dói mais em ti do que em mim fazer isso”\\nPo então para. Todo dia pra que?', 0, 0, 'juniorstuartg', 'Junior Stuart', False), ('18071419420603948', '4018197670', 'Vários gatilhos 😂😂', 0, 0, 'doamaralribeiro', 'Júlio R. Do Amaral Ribeiro', False), ('17981879840601244', '1521003461', '😂', 0, 0, 'tiagodr85', 'Tiago Duarte', False), ('18157474531316097', '230983741', 'Se finô!😂😂', 0, 0, 'carloscalota', 'Carlos Ribeiro', False), ('18039498068035823', '1538979185', 'Mamãe  pegava o fio do ferro  pra amedrontar mas se ela batesse em mim eu avançava  ela dava mas apanhava tb eu banhava o pau', 0, 0, 'andifsouza19', 'Andi', False), ('18457930501038606', '2868772886', '😂😂😂😂😂😂😂', 0, 0, 'raffa_fontoura', 'Raffa Fontoura', False), ('18058320688685859', '49134348662', '😂😂😂😂😂😂😂😂😂😂', 0, 0, 'liliam.morenomachado', 'Lilian Machado', False), ('17967534647788474', '1413374748', '😂😂😂😂 puts', 0, 0, 'madaalena__love_my__', 'Madalena Borges', False), ('18096079777415338', '2250032826', 'Tá chorando? Vou te dar motivo pra chorar', 0, 0, 'nimaria.oficial', '🎶NÍ MARIA🤲🏽', False), ('17943471152761730', '2250032826', 'Batia e pedia desculpa depois', 0, 0, 'nimaria.oficial', '🎶NÍ MARIA🤲🏽', False), ('18044546491975045', '505270861', 'Vara de marmelo era o terror da minha vida e conhecendo o efeito do verniz eu acho que aquela lá de casa era ensaboado de verniz hahahaha', 0, 0, 'diogoagrando', 'Diogo Grando', False), ('18076402870557233', '28697824095', '😂😂', 0, 0, 'raider_motoboy', 'Lucas Olaz', False), ('17948082602743060', '4207254656', '😂😂😂😂😂😂😂', 1, 0, 'nicolettidos', 'Solange Nicoletti', False), ('18011064410344373', '8976444708', '😂', 1, 0, 'adelileiria', 'Adéli Leiria', False), ('18019662794229827', '50672811380', 'Me mijei aqui 😂😂😂', 1, 0, 'rodrigo_farelo', 'Rodrigo de Oliveira', False), ('17887089879076225', '43051623502', 'Meu pai não batia, mas em compensação dava uma olhada q se fosse bala,tava. 😂', 1, 0, 'daisi.nunes.7', 'Daisi Nunes', False), ('18021796166184358', '44291799169', '😂😂😂', 1, 0, 'rothendouglas', 'Douglas Rothen', False), ('18052051612863843', '45258826187', '❤️❤️❤️❤️', 1, 0, 'shandra.adriana', 'Shandra Adriana Collar', False), ('18021094556436702', '45258826187', 'Minha vontade nso da conta', 1, 0, 'shandra.adriana', 'Shandra Adriana Collar', False), ('18284067733226339', '45258826187', 'Pocha que sinistro esse teclado do celular', 1, 0, 'shandra.adriana', 'Shandra Adriana Collar', False), ('18341265454130722', '45258826187', 'Perdão erros', 1, 0, 'shandra.adriana', 'Shandra Adriana Collar', False), ('18056351056691353', '267349301', 'Hahahhahahahah!!! Alô  @teatrooficinadoestudante!! Tragam esse talento gaúcho pra cá que eu duvido que não lote tudo as seção, bah!! nem que apanhe da mãe! kkkk', 2, 0, 'profhumbertospindola', 'Prof. Dr. Humberto Spindola | Farmacêutico', False), ('18037825163115131', '45258826187', 'So para acrescentar na ideia. Eu era ótima no cacador, desviava até dosbpin8cos com merda... mas dos sinzeros  tirava de letra, nunquinha me acertou', 1, 0, 'shandra.adriana', 'Shandra Adriana Collar', False), ('17870050692121459', '6766893618', '😂😂😂😂😂 até perder dente', 1, 0, 'nico.kochhann', 'Nicolas Kochhann', False), ('18310961635093830', '55397831720', '@ravelliongaratto', 1, 0, 'bvalquiria11', 'Valquiria Borges', False), ('18068536813594401', '55397831720', '@,ra', 1, 0, 'bvalquiria11', 'Valquiria Borges', False), ('17951074397829734', '431806072', 'Tu é top demais 😂😂😂😂', 1, 0, 'junior_jung', 'Junior Jung', False), ('18023955197457070', '4654222006', '😂😂😂😂😂', 1, 0, 'barcellos_nathy', 'Natalia Barcellos', False), ('18129841072334419', '54069012755', 'Eu especificamente se eu fugisse pra rua ela dizia tu vai ter que entrar uma hora ou outra😂😂 eu nem boba nem nada espera meu pai chegar do trabalho que entrava com ele e ela não me batia😂', 1, 0, 'andressasliwak', 'Andressa  slivak', False), ('18449392246014484', '41145438339', '😬😬😬🤣🤣🤣', 1, 0, 'silviacorreiagarrido', 'Silvia Garrido CRECI 50411', False), ('18043862023966252', '61599047036', 'A minha só dava aquele olhar 035😂😂😂😂 eu ficava toda cagada😂😂😂😂', 1, 0, 'margotdelmauro19', 'margotdelmauro', False), ('18101156419431935', '3258996628', 'Ficava na porta e falava passa,nao foge que é pior,bhaaa uma das primeiras grandes e tensas escolhas da vida,cara passava e ela metia vara,colocava as maos e ela gritava,tira as maos kkkkkkkk', 1, 0, 'bernieri_motors', 'Luigi Bernieri!', False), ('18039988025498019', '1408396400', 'É pro teu bem', 1, 0, 'luccagodoy01', 'Lucca Godoy 🕷️', False), ('18032724326187439', '12626292815', 'Isso quando ela não ameaçava primeiro \"tu quer ver eu ir aí e ti fazer chorar com vontade\"?', 2, 0, 'simonesouzaluz', 'Simone Souza da Luz', False), ('18276052135172351', '17378452185', '🤣🤣🤣🤣🤣', 1, 0, 'xandycardoso_1973', 'Alexandre Pereira Cardoso', False), ('18062267866633910', '3504318350', '😂😂😂', 1, 0, 'cintiaalmeidat', 'Cintia Almeida', True), ('18267186034217040', '6686962302', 'Quer ver quando o cara se quebrava tava todo machucado apanhava pq  se machucou 😂', 3, 0, 'gustavo.thomas7', 'Gustavo Thomas', False), ('18072146959560318', '1688264954', '😂😂😂😂😂😂😂😂😂😂', 1, 0, 'duarte.anacris72', 'Ana Duarte', False), ('17866405128206608', '20990360156', '😂😂', 1, 0, 'catarinaache', 'Catarina Ache', False), ('17940201758887573', '52818901113', 'Tu te prepara que tu vai ver o que é bom pra tosse!!', 1, 0, 'rodrigopereira8991', 'Rodrigo Pereira', False), ('17969312249648407', '2212385803', 'Kkkkkkkkkk', 1, 0, 'ivan.oliv', 'Ivan Oliveira Martins', False), ('18278907919235605', '1541119655', '😂😂😂😂', 1, 0, 'everton.santos.12177276', 'Everton Santos', False), ('18035014844513591', '4199609974', 'Eu mostro teus vídeos para a minha mãe e ela diz: até parece que eu batia em vocês, quem vê vocês falando pensa que eu matav4 vocês a pau 😂😂😂', 1, 0, 'allinecostiti', 'Aline Costiti', True), ('17857808508199706', '4199609974', '😂😂😂 quase morri de rir 😂', 1, 0, 'allinecostiti', 'Aline Costiti', True), ('17939830295904980', '4633733538', 'Verdade né!!! Apanhava sem merecer 😢', 1, 0, 'luscianiroos', 'Lusciani Roos', False), ('18370516957103773', '1178416067', 'Deus o livre criança junto com adulto, eles só te olhavam e tu já entendia o recado 😂😂', 1, 0, 'marlucefifah', 'Marluce Fifah', False), ('18447890659043465', '49172208995', '😂😂😂😂👏👏', 1, 0, 'glebsonbareta', 'Glebson Bareta', False), ('18302318992160090', '9024700301', 'Baaa o tamanco de madeira voava nos cornos 🥲', 1, 0, 'emanuela.santos27', 'Emanuela Santos', False), ('18107003974421990', '39458544707', 'Minha mãe é enfermeira, ganhava o pacote completo 😭🤕🤒', 1, 0, 'bugreeusou', 'Bugre', False), ('18052425685860780', '18995434470', 'Mas nós sobrevivemos a nossa geração foi a última 70/80 /90 . Aí venho a 2000 a turma do Enzo 😂😂😂😂 mãe cadê Wey de morango 🍓🍓🍓🍓', 1, 0, 'lucas.carrion.355', 'Lucas Carrion', False), ('18057449002702417', '499135145', 'Open bar de laço.  Kkkkkkk', 1, 0, 'rob.antero', 'Robson Antero', False), ('18060163543675360', '7102566385', 'E não adiantava pedir perdão e prometer que não ia mais fazer! 😂😂😂 A mãe me lembrava que eu já tinha feito promessa e não obedeci! 🤦🏼\\u200d♀️ Kkkkkkkk', 1, 0, 'grazicassariego', 'Grazi Cassariego', False), ('17893231452000866', '2016000230', 'A vó embolava a gente se a gente pedia comida na casa da tia e ela fazia um pão caseiro com chimia de uva que era irresistível então ela saia com o lanche p gente numa sacola p gente não ter fome e a tia não pensar que não tínhamos comida em casa kkk a gente sempre apanhava mas de barriga cheia de pão e chimia 😂😂😂', 1, 0, 'lidioadri27', 'Lidiomar Almeida', False), ('17879214291134603', '1443142442', 'Avaiana de pau … ahhhh muleque… não fui eu mamãe', 2, 0, 'umbertomaciel', 'Umberto Maciel', False), ('18038759795295166', '50686370362', 'Sou do tempo em que as mães inventaram os primeiros Drones 37/38 😂😂😂', 1, 0, 'deni_wander', 'Denise Wanderley', False), ('18098412199451181', '3876092965', '😂😂😂 tu e a lenda', 1, 0, 'franciscojunior5971', 'Francisjunior Lima', False), ('18021391949411293', '6011467841', 'Minha acho raras vezes me baria era mais ao atravessar rua ela torcia um beliscão 😂😂', 1, 0, 'aristidesantunes', 'Aristides Antunes', False), ('18413340337079598', '810939012', 'Era uma tunda de laço em cima da outra 😂😂😂', 1, 0, 'alinedefreitasferreira', 'Aline De Freitas', False), ('17939393897879833', '6103984964', '😂😂😂😂', 1, 0, 'carlos_hclima', 'Correa Carlos', False), ('18128986831336358', '3240348129', 'Se fosse hoje em dia ...', 1, 0, 'gilvanborba', 'Gilvan Borba', False), ('17876609613150360', '1990270279', 'Me lembro uma vez tomei uma chinelada do pai daqueles chinelo de velho que era de couro que cheguei a me mija kkkkk😂😂😂', 1, 0, 'mariojdede', 'Mário Dedé', False), ('17863455849164138', '44052843664', 'E se tu fosse chorar ,ou tu engolia o choro ou tu ficava resmungando , engolindo o ranho , bah , lembro disso quando meu irmão apanhava 😭😂😂😂😂😂😂😂tadinho', 1, 0, 'vivianemogica', 'Viviane Vieira', False), ('17990021672548422', '48908162890', '😂😂😂', 1, 0, 'mariamira656', 'Maria Mira', False), ('17889478068092802', '1275490754', 'Berrrooooo', 1, 0, 'prendada', 'Priscilla Casagrande', False), ('18251789347265030', '6254048718', 'Não corre que é pior!!!', 4, 1, 'renatoooteixeira', 'Renato Teixeira', False), ('17887684902095239', '1081846917', 'A minha mãe foi atípica lkkkkkll nunca bateu nos filhos, cresceram um bando de mimado 😂😂😂😂😂😂', 1, 0, 'feperess', 'Fernanda Peres', False), ('17868424116194660', '8975317739', 'Minha vó depois de quebrar o cabo de vassoura no meu lombo, é pro teu bem... Imagina se fosse pro meu mal😂😂', 0, 0, 'cristiane.m.azeredo', 'Chris Marques', False), ('18152257060324278', '6965725471', '😂😂', 1, 0, 'dinikelibarro', 'Dini Keli Leal', False), ('18046590466941680', '9457796204', 'E ainda dizem : ahhh não teve nenhuma sequela estão tudo aí bem criados ! Kkkk sim tudo entupido de calmante e terapia!  Mas tá de boa !', 2, 0, 'simaradequadros', 'Simara de Quadros Vargas Pereira', False), ('18057186946691397', '58872095882', 'E aqueleas que batiam soletrando kkkkk  já.fa.lei.pra.nao.me.xer.nas.mi.nhas coi.sas 😂😂😂', 9, 0, 'josi4.46', '', False), ('17920946762968152', '7405212494', '😂😂😂', 1, 0, 'a.araujodenise91', 'Dennise Araújo', False), ('17892859248065770', '3726474289', '😂😂😂😂😂 mas estão tudo aí ,tudo criado😂😂', 1, 0, 'luciane_leal29', 'Luciane Leal', False), ('18055927279763692', '2008302155', 'laonecorrea ,  foi o melhor comentário 😂😂😂😂', 1, 0, 'isa_sundari', 'Isaura Rodrigues Monteiro', False), ('18314701399085354', '272018017', '😂😂😂😂🤣🤣🤣🤣', 1, 0, 'diegomottars', 'Diego Motta', False), ('18041226143078497', '1370492667', '😂😂😂😂😂😂😂', 1, 0, '_val_pink', 'Val Molinari', False), ('18029823464259344', '2008302155', 'Preciso muito ir a um , standap dele. 😂😂😂😂😂😂', 3, 1, 'isa_sundari', 'Isaura Rodrigues Monteiro', False), ('18037437901913420', '1924803652', '😂😂😂', 1, 0, 'busolliwilian', 'Wilian Busolli', False), ('18017959658268476', '38911830008', 'E se tentasse correr era pior', 1, 0, 'miybitt', 'Miy Bitt', False), ('17921240768866207', '32500111865', '😂😂😂😂😂', 1, 0, 'marlene.rodriguesdasilva.167', 'Marlene Rodrigues da Silva', False), ('18035905441957848', '35165854686', 'Kkkk verdade', 1, 0, 'nirleigarim', 'Nirlei Garim', False), ('17984833286713846', '45095263619', '😂😂😂😂😂', 1, 0, 'scris68', 'SCristina Sil', False), ('18458433946025981', '2176076116', '😂😂😂😂😂😂😂😂😂😂😂', 1, 0, 'joao8756', 'Joao Jorge Mendes', False), ('17920751252968498', '65608516137', 'Melhor de todos não tem 👏😂😂😍❤️mito', 3, 0, 'tomdossantod', 'Tom santos 903', False), ('17927653232941338', '1444900377', 'O bom que mo final já ficava com uma tatuagem. HAVAIANAS 38/39', 1, 0, 'laonecorrea', 'Laone Corrêa', False), ('18007747655430581', '1456907995', '😂😂😂', 1, 0, 'mara.marques.374', 'Mara Leite', False), ('18057349390702424', '5861377795', 'Hahaha 😂😂😂😂', 1, 0, 'esmael.machado', 'Esmael Machado', False), ('17862703260229862', '44271392690', 'Por isso a nossa geração não é de enzo', 1, 0, 'sheilaargt_', 'Sheila Argenta', False), ('17971653239640287', '259596849', 'E cala essa boca, que tu ainda nem apanhou', 23, 2, 'abneraguiarr', 'Ábner Aguiar', False), ('18251113276267640', '59085660254', 'Uma das vezes, apanhei que cheguei a desmaiar, daí pra me acordar,jogou álcool no meu rosto, pegou no olho ,fiquei 2 semanas sem enxergar e olho inchado.', 5, 1, 'valgardini23', 'Valéria Gardini🇧🇷💚❤️💛', False), ('18001685273657218', '60081942345', 'A minha mãe dava de varinha verde até quebrar. Aí ia no pátio e pegava outra. Credo', 1, 0, 'ojotasobrenatural', 'Jota Sobrenatural', False), ('17950633625833983', '3407061865', '\"O quer te aparecer \" é um clássico! Junto com o \" quer apanhar \" 😂😂😂😂😂', 19, 4, 'rosana.samy', 'Rosana Samy', False), ('18053520346833393', '1346412659', '😂😂😂😂😂😂😂 Ai Senhor eu não aguento!! 😂😂😂😂😂😂', 1, 0, 'ana.gomesrosa', 'Ana Rosa', False), ('18007818419420985', '26279610234', '😂😂😂😂', 2, 0, 's_santos97', 'Samuel Santos', False), ('17859202761246415', '313911790', 'quando ela me batia e eu me finava chorando e dai ela me levava correndo pra baixo do chuveiro 😂', 6, 5, 'eeipam', 'pâmela barcellos •', False), ('18113828029402651', '4896248886', 'O bom é que o cara cresce, fala das tunda e elas falam que tu tá inventando! Quem apanha não esquece, quem bate sim! 😂', 23, 0, 'correalucas77_', 'Lucas da Costa Correa', False), ('18051880336892607', '517580100', '😂😂😂', 2, 0, 'carlameinerz', 'CARLA MEINERZ', False), ('18016469402307851', '2316399195', 'E apanhava em silaba😂', 1, 0, 'fabian.grave', 'Fabian Nery', False), ('18146270764336480', '526827253', 'Open bar de laço é ótimo kkkkkkkk', 8, 0, 'marquessgreici', 'Greici Marques', False), ('17878469838112785', '3287613211', '😂😂😂👏👏👏', 1, 0, 'soldier_felipe', 'Felipe Dias', False), ('17860812252237589', '66382060095', 'É verdade bem assim era nossa.😂😂😂👏👏💞💞👏', 1, 0, 'elainesilveira12_', 'Elaine Silveira', False), ('18046302385786998', '65013477042', '😂😂😂', 1, 0, 'maiconnascimento1998', 'Maicon Nascimento', False), ('18040746239033809', '1590866599', 'Marcito, tu é o cara!!😂😂😂😂😂', 0, 0, 'megui37', 'Margareth Pinheiro Boeira', False), ('18455857864023169', '2355530694', 'O bom era o mertiolate que ardia mais que o machucado 😂😂😂', 18, 1, 'alina_goya', 'Alina Góya', False), ('18077692744481744', '1357808936', 'Isso qdo não ganhava um beliscão 😂😂😂😂😂😂😂', 7, 0, 'rosa.camposcorrea', 'Rosa Campos Correa', False), ('18029612876255330', '287002306', '😂😂😂', 2, 0, 'chris_cadore', 'Christine Cadore', False), ('17910152900918021', '8134053155', '😂😂😂', 2, 0, 'fpaixao_music', 'Fernando Paixão Music', False), ('18324301639147830', '63199876687', 'Antes de bater passava o ALMA DE FLORES 🌷 😂😂', 16, 3, 'sos.sarandi', '𝗦𝗔𝗥𝗔𝗡𝗗𝗜 𝗦𝗢𝗦 ‼️', False), ('17907698642934525', '2320882050', '😂😂😂😂😂😂 bah a havaiana era tipo uma bomba nuclear chegando no boró.', 1, 0, 'lucrecyus', 'Lucas Ribeiro', False), ('17998029182666569', '2371574518', '😂😂😂😂', 2, 0, 'alexandra_fucilini', 'ALEXANDRA👑 FOLLOW GOD ☝️ CRISTÃ ✝️', False), ('17874328071095397', '18069191181', '😂😂😂😂😂😂foi só um susto é o melhor 😂😂😂😂', 6, 0, 'margareth_maninha', 'Margareth', False), ('18064470157623803', '5810928855', 'O mais impressionante é o efeito amnésia geral das mães desta época, esqueceram todas( não poucas). Hoje em dia nenhuma assume esses B.O. 😂😂😂', 81, 8, 'evertonr.reis', 'Everton Reis', False), ('18038740124106375', '359423291', 'E a vó; tu fez o guri se afinar', 33, 1, 'marcosviniciusp', 'Marcos Vinicius', False), ('17940904643896878', '213121083', '😂😂😂', 2, 0, 'leeoisrael', 'Leonardo Israel', False), ('17938563212872750', '61498770768', '😂😂😂😂😂', 2, 0, 'lais.silvaabreuferreira2', 'Lais Silva Abreu Ferreira', False), ('18062434285650102', '55232012888', 'Só um susto 😂😂😂😂😂', 5, 1, 'portoalegre.milgrau', '𝗣𝗢𝗥𝗧𝗢 𝗔𝗟𝗘𝗚𝗥𝗘 𝗠𝗜𝗟 𝗚𝗥𝗔𝗨   😎', False)]\n"
          ]
        }
      ]
    },
    {
      "cell_type": "markdown",
      "source": [
        "Verificamos por fim se algo ficou para trás."
      ],
      "metadata": {
        "id": "q1oqEoHNrKbX"
      }
    },
    {
      "cell_type": "code",
      "source": [
        "df_comentarios = spark.read.parquet(f'{data_lake_path}{comments_path}')\n",
        "df_classificacao = spark.read.parquet(f'{data_lake_path}{classified_comments_path}')\n",
        "\n",
        "df_comentarios_para_classificar = df_comentarios.join(df_classificacao, 'pk', 'left')\n",
        "\n",
        "df_comentarios_para_classificar.createOrReplaceTempView('comentarios_para_classificar')\n",
        "\n",
        "spark.sql('select * from comentarios_para_classificar where classificacao is null').show(truncate=False)"
      ],
      "metadata": {
        "colab": {
          "base_uri": "https://localhost:8080/"
        },
        "id": "g03TkUr2J61-",
        "outputId": "98407218-7386-4698-ba8c-6fac566475e7"
      },
      "execution_count": 654,
      "outputs": [
        {
          "output_type": "stream",
          "name": "stdout",
          "text": [
            "+---+-------+----+------------------+-------------------+-------------+--------------+----------------+-------+-------------+-------------+-------+\n",
            "|pk |user_id|text|comment_like_count|child_comment_count|user_username|user_full_name|user_is_verified|ts_exec|text_original|classificacao|ts_exec|\n",
            "+---+-------+----+------------------+-------------------+-------------+--------------+----------------+-------+-------------+-------------+-------+\n",
            "+---+-------+----+------------------+-------------------+-------------+--------------+----------------+-------+-------------+-------------+-------+\n",
            "\n"
          ]
        }
      ]
    },
    {
      "cell_type": "markdown",
      "source": [
        "## Analise dos comentários do Último Post"
      ],
      "metadata": {
        "id": "GCxr4y1J8uQ7"
      }
    },
    {
      "cell_type": "markdown",
      "source": [
        "Tendo agora as informações de comentários atualizados e classificados vamos analisá-los para saber qual o sentimento dos seguidores.\n",
        "\\\n",
        "Para isso iremos extrair do nosso DataLake as informações de comentários classificados para um dataframe Pandas.\n",
        "\\\n",
        "Após isso iremos desprezar quais dados mal classificados para não comprometer nossas métricas."
      ],
      "metadata": {
        "id": "tudxnS0LrRlB"
      }
    },
    {
      "cell_type": "code",
      "source": [
        "df_comentarios_classificados = spark.sql('select * from comentarios_para_classificar')\n",
        "\n",
        "df_comentarios_classificados.createOrReplaceTempView('comentarios_para_classificar')\n",
        "\n",
        "classificacoes = spark.sql('select pk, classificacao from comentarios_para_classificar').toPandas()\n",
        "\n",
        "classificacoes['classificacao'] = classificacoes['classificacao'].apply(lambda x: x.lower())\n",
        "\n",
        "classificacoes = classificacoes[classificacoes['classificacao'].isin(['humor', 'positivo', 'negativo', 'neutro'])]\n"
      ],
      "metadata": {
        "id": "U1DbhVoRVNYu"
      },
      "execution_count": 623,
      "outputs": []
    },
    {
      "cell_type": "markdown",
      "source": [
        "Tendo nossos dados já ajustados iremos criar um gráfico de barras para visualizar essas informações."
      ],
      "metadata": {
        "id": "MR_950KusebM"
      }
    },
    {
      "cell_type": "code",
      "source": [
        "# Cria a figura e o gráfico de barras com cor personalizada\n",
        "plt.figure(figsize=(10, 6))\n",
        "ax = classificacoes['classificacao'].value_counts().plot(kind='bar', color='#05d46e')\n",
        "\n",
        "# Adiciona os valores exatos sobre cada barra\n",
        "for p in ax.patches:\n",
        "    ax.annotate(f'{p.get_height()}', (p.get_x() + p.get_width() / 2, p.get_height()),\n",
        "                ha='center', va='bottom', fontsize=10)\n",
        "\n",
        "# Mostra o gráfico\n",
        "plt.tight_layout()\n",
        "plt.xlabel('Classificações')\n",
        "plt.ylabel('Quantidade')\n",
        "plt.title('Quantidade de comentários por classificação:')\n",
        "plt.show()\n"
      ],
      "metadata": {
        "colab": {
          "base_uri": "https://localhost:8080/",
          "height": 629
        },
        "id": "Z1BskFmbhCzf",
        "outputId": "3f6f21c0-f0d6-4ee0-a362-b690309280de"
      },
      "execution_count": 626,
      "outputs": [
        {
          "output_type": "display_data",
          "data": {
            "text/plain": [
              "<Figure size 1000x600 with 1 Axes>"
            ],
            "image/png": "[encoded data removed]"
          },
          "metadata": {}
        }
      ]
    },
    {
      "cell_type": "markdown",
      "source": [
        "Percebemos que de fato o público costuma a reagir com humor e de maneira positiva às postagens do influenciador, indicando uma boa aceitação do público ao nosso influênciador."
      ],
      "metadata": {
        "id": "WFVBCwNBspZi"
      }
    },
    {
      "cell_type": "markdown",
      "source": [
        "# Tópicos à melhorar\n",
        "\n",
        "1 - Para evitar a perda de dados no Google Colab é uma boa alternativa utilizar o Google Drive como hospedagem do nosso Data Lake.\n",
        "\n",
        "Segue exemplo de código:\n",
        "\n",
        "```python\n",
        "from google.colab import drive\n",
        "drive.mount('/content/drive')\n",
        "\n",
        "drive_path = '/content/drive/My Drive/Datalake/Instagram/'\n",
        "profile_path = 'Perfil_v2/'\n",
        "posts_path = 'Postagens_v2/'\n",
        "comments_path = 'comentarios/'\n",
        "classified_comments_path = 'comentarios_classificacao/'\n",
        "\n",
        "df.write.mode(\"append\").format('parquet').save(f'{data_lake_path}{profile_path}')\n",
        "df.write.mode(\"append\").format('parquet').save(f'{data_lake_path}{posts_path}')\n",
        "df.write.mode(\"append\").format('parquet').save(f'{data_lake_path}{comments_path}')\n",
        "df.write.mode(\"append\").format('parquet').save(f'{data_lake_path}{classified_comments_path}')\n",
        "```"
      ],
      "metadata": {
        "id": "BNw67HTcVOJ4"
      }
    }
  ],
  "metadata": {
    "colab": {
      "provenance": []
    },
    "kernelspec": {
      "display_name": "Python 3",
      "name": "python3"
    },
    "language_info": {
      "name": "python"
    }
  },
  "nbformat": 4,
  "nbformat_minor": 0
}