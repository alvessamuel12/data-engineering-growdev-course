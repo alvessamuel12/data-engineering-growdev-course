{
  "cells": [
    {
      "cell_type": "markdown",
      "metadata": {
        "id": "R1ILYJ_NLpPI"
      },
      "source": [
        "![Growdev](https://www.growdev.com.br/assets/images/logo_growdev.png)"
      ]
    },
    {
      "cell_type": "markdown",
      "metadata": {
        "id": "cG1LAeliLpPK"
      },
      "source": [
        "![Formação Engenharia de Dados](https://d335luupugsy2.cloudfront.net/cms/files/524558/1707226566/$occu5m8t1op)"
      ]
    },
    {
      "cell_type": "markdown",
      "metadata": {
        "id": "VjUriZpYLpPL"
      },
      "source": [
        "# Tópicos da Aula de Hoje"
      ]
    },
    {
      "cell_type": "markdown",
      "metadata": {
        "id": "oMYKtwEqLpPL"
      },
      "source": [
        "- Introdução aos Datasets\n",
        "- Exploração dos Dados\n",
        "- Pré-Processamento de Dados\n",
        "- Plotagem de Gráficos\n",
        "- Atividade Prática"
      ]
    },
    {
      "cell_type": "markdown",
      "metadata": {
        "id": "3kda-nA6LpPM"
      },
      "source": [
        "**Bora pra aula?**"
      ]
    },
    {
      "cell_type": "markdown",
      "metadata": {
        "id": "1frZz7sZLpPN"
      },
      "source": [
        "# Introdução aos Datasets"
      ]
    },
    {
      "cell_type": "code",
      "execution_count": 24,
      "metadata": {
        "id": "94qWs2iiLpPN"
      },
      "outputs": [],
      "source": [
        "import numpy as np\n",
        "import pandas as pd\n",
        "import matplotlib.pyplot as plt"
      ]
    },
    {
      "cell_type": "markdown",
      "metadata": {
        "id": "kLXcwIoHLpPO"
      },
      "source": [
        "## O que são?"
      ]
    },
    {
      "cell_type": "markdown",
      "metadata": {
        "id": "Hrmeu0FPLpPO"
      },
      "source": [
        "Datasets são conjuntos de dados que representam informações coletadas ou organizadas de alguma forma.\n",
        "\n",
        "Eles desempenham um papel fundamental na análise de dados, permitindo aos analistas extrair insights, identificar padrões e tomar decisões informadas com base nos dados."
      ]
    },
    {
      "cell_type": "markdown",
      "metadata": {
        "id": "PyHe9BeZLpPP"
      },
      "source": [
        "## Exemplos"
      ]
    },
    {
      "cell_type": "markdown",
      "metadata": {
        "id": "4d_AuGvbLpPQ"
      },
      "source": [
        "Existem muitas fontes de datasets disponíveis gratuitamente na internet, incluindo repositórios como o UCI Machine Learning Repository, Kaggle e muitos outros.\n",
        "\n",
        "Exemplos comuns incluem conjuntos de dados sobre vendas, clima, saúde, educação, entre outros."
      ]
    },
    {
      "cell_type": "markdown",
      "metadata": {
        "id": "46yQzbhvLpPQ"
      },
      "source": [
        "**Alguns links úteis**\n",
        "- https://www.kaggle.com\n",
        "- https://github.com/awesomedata/awesome-public-datasets\n",
        "- https://ourworldindata.org\n",
        "- https://datasetsearch.research.google.com\n",
        "- https://data.worldbank.org\n",
        "- https://archive.ics.uci.edu/datasets"
      ]
    },
    {
      "cell_type": "markdown",
      "metadata": {
        "id": "tKqb6fxWLpPR"
      },
      "source": [
        "# Exploração dos Dados"
      ]
    },
    {
      "cell_type": "code",
      "execution_count": 25,
      "metadata": {
        "colab": {
          "base_uri": "https://localhost:8080/",
          "height": 322
        },
        "id": "780tRkfQLpPR",
        "outputId": "df761299-5d28-403e-bb7c-79b2fee5a358"
      },
      "outputs": [],
      "source": [
        "# Carregando os dados\n",
        "nyc_sales = pd.read_csv('nyc-rolling-sales_twentieth.csv')"
      ]
    },
    {
      "cell_type": "code",
      "execution_count": 26,
      "metadata": {
        "colab": {
          "base_uri": "https://localhost:8080/"
        },
        "id": "SbSsBjvMPjMY",
        "outputId": "33716881-f5a5-47d7-f0ba-1ede59b0ea49"
      },
      "outputs": [
        {
          "ename": "ModuleNotFoundError",
          "evalue": "No module named 'google.colab'",
          "output_type": "error",
          "traceback": [
            "\u001b[1;31m---------------------------------------------------------------------------\u001b[0m",
            "\u001b[1;31mModuleNotFoundError\u001b[0m                       Traceback (most recent call last)",
            "Cell \u001b[1;32mIn[26], line 1\u001b[0m\n\u001b[1;32m----> 1\u001b[0m \u001b[38;5;28;01mfrom\u001b[39;00m \u001b[38;5;21;01mgoogle\u001b[39;00m\u001b[38;5;21;01m.\u001b[39;00m\u001b[38;5;21;01mcolab\u001b[39;00m \u001b[38;5;28;01mimport\u001b[39;00m drive\n\u001b[0;32m      2\u001b[0m drive\u001b[38;5;241m.\u001b[39mmount(\u001b[38;5;124m'\u001b[39m\u001b[38;5;124m/content/drive\u001b[39m\u001b[38;5;124m'\u001b[39m)\n",
            "\u001b[1;31mModuleNotFoundError\u001b[0m: No module named 'google.colab'"
          ]
        }
      ],
      "source": [
        "from google.colab import drive\n",
        "drive.mount('/content/drive')"
      ]
    },
    {
      "cell_type": "code",
      "execution_count": null,
      "metadata": {
        "id": "l-VdBRAFLpPR",
        "outputId": "78349448-1568-453f-b476-07d8545b5d3b"
      },
      "outputs": [
        {
          "data": {
            "text/html": [
              "<div>\n",
              "<style scoped>\n",
              "    .dataframe tbody tr th:only-of-type {\n",
              "        vertical-align: middle;\n",
              "    }\n",
              "\n",
              "    .dataframe tbody tr th {\n",
              "        vertical-align: top;\n",
              "    }\n",
              "\n",
              "    .dataframe thead th {\n",
              "        text-align: right;\n",
              "    }\n",
              "</style>\n",
              "<table border=\"1\" class=\"dataframe\">\n",
              "  <thead>\n",
              "    <tr style=\"text-align: right;\">\n",
              "      <th></th>\n",
              "      <th>Unnamed: 0</th>\n",
              "      <th>BOROUGH</th>\n",
              "      <th>NEIGHBORHOOD</th>\n",
              "      <th>BUILDING CLASS CATEGORY</th>\n",
              "      <th>TAX CLASS AT PRESENT</th>\n",
              "      <th>BLOCK</th>\n",
              "      <th>LOT</th>\n",
              "      <th>EASE-MENT</th>\n",
              "      <th>BUILDING CLASS AT PRESENT</th>\n",
              "      <th>ADDRESS</th>\n",
              "      <th>...</th>\n",
              "      <th>RESIDENTIAL UNITS</th>\n",
              "      <th>COMMERCIAL UNITS</th>\n",
              "      <th>TOTAL UNITS</th>\n",
              "      <th>LAND SQUARE FEET</th>\n",
              "      <th>GROSS SQUARE FEET</th>\n",
              "      <th>YEAR BUILT</th>\n",
              "      <th>TAX CLASS AT TIME OF SALE</th>\n",
              "      <th>BUILDING CLASS AT TIME OF SALE</th>\n",
              "      <th>SALE PRICE</th>\n",
              "      <th>SALE DATE</th>\n",
              "    </tr>\n",
              "  </thead>\n",
              "  <tbody>\n",
              "    <tr>\n",
              "      <th>0</th>\n",
              "      <td>4</td>\n",
              "      <td>1</td>\n",
              "      <td>ALPHABET CITY</td>\n",
              "      <td>07 RENTALS - WALKUP APARTMENTS</td>\n",
              "      <td>2A</td>\n",
              "      <td>392</td>\n",
              "      <td>6</td>\n",
              "      <td></td>\n",
              "      <td>C2</td>\n",
              "      <td>153 AVENUE B</td>\n",
              "      <td>...</td>\n",
              "      <td>5</td>\n",
              "      <td>0</td>\n",
              "      <td>5</td>\n",
              "      <td>1633</td>\n",
              "      <td>6440</td>\n",
              "      <td>1900</td>\n",
              "      <td>2</td>\n",
              "      <td>C2</td>\n",
              "      <td>6625000</td>\n",
              "      <td>2017-07-19 00:00:00</td>\n",
              "    </tr>\n",
              "    <tr>\n",
              "      <th>1</th>\n",
              "      <td>5</td>\n",
              "      <td>1</td>\n",
              "      <td>ALPHABET CITY</td>\n",
              "      <td>07 RENTALS - WALKUP APARTMENTS</td>\n",
              "      <td>2</td>\n",
              "      <td>399</td>\n",
              "      <td>26</td>\n",
              "      <td></td>\n",
              "      <td>C7</td>\n",
              "      <td>234 EAST 4TH   STREET</td>\n",
              "      <td>...</td>\n",
              "      <td>28</td>\n",
              "      <td>3</td>\n",
              "      <td>31</td>\n",
              "      <td>4616</td>\n",
              "      <td>18690</td>\n",
              "      <td>1900</td>\n",
              "      <td>2</td>\n",
              "      <td>C7</td>\n",
              "      <td>-</td>\n",
              "      <td>2016-12-14 00:00:00</td>\n",
              "    </tr>\n",
              "    <tr>\n",
              "      <th>2</th>\n",
              "      <td>6</td>\n",
              "      <td>1</td>\n",
              "      <td>ALPHABET CITY</td>\n",
              "      <td>07 RENTALS - WALKUP APARTMENTS</td>\n",
              "      <td>2</td>\n",
              "      <td>399</td>\n",
              "      <td>39</td>\n",
              "      <td></td>\n",
              "      <td>C7</td>\n",
              "      <td>197 EAST 3RD   STREET</td>\n",
              "      <td>...</td>\n",
              "      <td>16</td>\n",
              "      <td>1</td>\n",
              "      <td>17</td>\n",
              "      <td>2212</td>\n",
              "      <td>7803</td>\n",
              "      <td>1900</td>\n",
              "      <td>2</td>\n",
              "      <td>C7</td>\n",
              "      <td>-</td>\n",
              "      <td>2016-12-09 00:00:00</td>\n",
              "    </tr>\n",
              "    <tr>\n",
              "      <th>3</th>\n",
              "      <td>7</td>\n",
              "      <td>1</td>\n",
              "      <td>ALPHABET CITY</td>\n",
              "      <td>07 RENTALS - WALKUP APARTMENTS</td>\n",
              "      <td>2B</td>\n",
              "      <td>402</td>\n",
              "      <td>21</td>\n",
              "      <td></td>\n",
              "      <td>C4</td>\n",
              "      <td>154 EAST 7TH STREET</td>\n",
              "      <td>...</td>\n",
              "      <td>10</td>\n",
              "      <td>0</td>\n",
              "      <td>10</td>\n",
              "      <td>2272</td>\n",
              "      <td>6794</td>\n",
              "      <td>1913</td>\n",
              "      <td>2</td>\n",
              "      <td>C4</td>\n",
              "      <td>3936272</td>\n",
              "      <td>2016-09-23 00:00:00</td>\n",
              "    </tr>\n",
              "    <tr>\n",
              "      <th>4</th>\n",
              "      <td>8</td>\n",
              "      <td>1</td>\n",
              "      <td>ALPHABET CITY</td>\n",
              "      <td>07 RENTALS - WALKUP APARTMENTS</td>\n",
              "      <td>2A</td>\n",
              "      <td>404</td>\n",
              "      <td>55</td>\n",
              "      <td></td>\n",
              "      <td>C2</td>\n",
              "      <td>301 EAST 10TH   STREET</td>\n",
              "      <td>...</td>\n",
              "      <td>6</td>\n",
              "      <td>0</td>\n",
              "      <td>6</td>\n",
              "      <td>2369</td>\n",
              "      <td>4615</td>\n",
              "      <td>1900</td>\n",
              "      <td>2</td>\n",
              "      <td>C2</td>\n",
              "      <td>8000000</td>\n",
              "      <td>2016-11-17 00:00:00</td>\n",
              "    </tr>\n",
              "  </tbody>\n",
              "</table>\n",
              "<p>5 rows × 22 columns</p>\n",
              "</div>"
            ],
            "text/plain": [
              "   Unnamed: 0  BOROUGH   NEIGHBORHOOD  \\\n",
              "0           4        1  ALPHABET CITY   \n",
              "1           5        1  ALPHABET CITY   \n",
              "2           6        1  ALPHABET CITY   \n",
              "3           7        1  ALPHABET CITY   \n",
              "4           8        1  ALPHABET CITY   \n",
              "\n",
              "                       BUILDING CLASS CATEGORY TAX CLASS AT PRESENT  BLOCK  \\\n",
              "0  07 RENTALS - WALKUP APARTMENTS                                2A    392   \n",
              "1  07 RENTALS - WALKUP APARTMENTS                                 2    399   \n",
              "2  07 RENTALS - WALKUP APARTMENTS                                 2    399   \n",
              "3  07 RENTALS - WALKUP APARTMENTS                                2B    402   \n",
              "4  07 RENTALS - WALKUP APARTMENTS                                2A    404   \n",
              "\n",
              "   LOT EASE-MENT BUILDING CLASS AT PRESENT                 ADDRESS  ...  \\\n",
              "0    6                                  C2            153 AVENUE B  ...   \n",
              "1   26                                  C7   234 EAST 4TH   STREET  ...   \n",
              "2   39                                  C7   197 EAST 3RD   STREET  ...   \n",
              "3   21                                  C4     154 EAST 7TH STREET  ...   \n",
              "4   55                                  C2  301 EAST 10TH   STREET  ...   \n",
              "\n",
              "  RESIDENTIAL UNITS  COMMERCIAL UNITS  TOTAL UNITS  LAND SQUARE FEET  \\\n",
              "0                 5                 0            5              1633   \n",
              "1                28                 3           31              4616   \n",
              "2                16                 1           17              2212   \n",
              "3                10                 0           10              2272   \n",
              "4                 6                 0            6              2369   \n",
              "\n",
              "   GROSS SQUARE FEET YEAR BUILT TAX CLASS AT TIME OF SALE  \\\n",
              "0               6440       1900                         2   \n",
              "1              18690       1900                         2   \n",
              "2               7803       1900                         2   \n",
              "3               6794       1913                         2   \n",
              "4               4615       1900                         2   \n",
              "\n",
              "   BUILDING CLASS AT TIME OF SALE  SALE PRICE            SALE DATE  \n",
              "0                              C2     6625000  2017-07-19 00:00:00  \n",
              "1                              C7         -    2016-12-14 00:00:00  \n",
              "2                              C7         -    2016-12-09 00:00:00  \n",
              "3                              C4     3936272  2016-09-23 00:00:00  \n",
              "4                              C2     8000000  2016-11-17 00:00:00  \n",
              "\n",
              "[5 rows x 22 columns]"
            ]
          },
          "execution_count": 3,
          "metadata": {},
          "output_type": "execute_result"
        }
      ],
      "source": [
        "nyc_sales.head()"
      ]
    },
    {
      "cell_type": "markdown",
      "metadata": {
        "id": "1ELjUo10LpPS"
      },
      "source": [
        "A primeira coisa que observamos é a coluna ```Unnamed: 0```. Devemos removê-la, já que nem nome ela possui. Essa coluna surge geralmente devido a gravação do índice do dataframe como coluna do csv. Se quisermos evitar que um índice de dataframe seja salvo após nossa análise, passamos o parâmetro ```index=False``` para o método ```.to_csv()```."
      ]
    },
    {
      "cell_type": "code",
      "execution_count": null,
      "metadata": {
        "id": "OAqwsb8MLpPS"
      },
      "outputs": [],
      "source": [
        "nyc_sales.drop(columns=['Unnamed: 0'], inplace=True)"
      ]
    },
    {
      "cell_type": "markdown",
      "metadata": {
        "id": "AZJQa0uuLpPS"
      },
      "source": [
        "No Link abaixo podemos ver um pouco da descrição dos dados.<br>\n",
        "<a href=\"https://www.kaggle.com/new-york-city/nyc-property-sales\"> Descrição dos Dados</a>"
      ]
    },
    {
      "cell_type": "code",
      "execution_count": null,
      "metadata": {
        "id": "50gvwsjHLpPT",
        "outputId": "d4cda511-c75e-4aa1-d67b-d767683eeb15"
      },
      "outputs": [
        {
          "name": "stdout",
          "output_type": "stream",
          "text": [
            "<class 'pandas.core.frame.DataFrame'>\n",
            "RangeIndex: 16909 entries, 0 to 16908\n",
            "Data columns (total 21 columns):\n",
            " #   Column                          Non-Null Count  Dtype \n",
            "---  ------                          --------------  ----- \n",
            " 0   BOROUGH                         16909 non-null  int64 \n",
            " 1   NEIGHBORHOOD                    16909 non-null  object\n",
            " 2   BUILDING CLASS CATEGORY         16909 non-null  object\n",
            " 3   TAX CLASS AT PRESENT            16909 non-null  object\n",
            " 4   BLOCK                           16909 non-null  int64 \n",
            " 5   LOT                             16909 non-null  int64 \n",
            " 6   EASE-MENT                       16909 non-null  object\n",
            " 7   BUILDING CLASS AT PRESENT       16909 non-null  object\n",
            " 8   ADDRESS                         16909 non-null  object\n",
            " 9   APARTMENT NUMBER                16909 non-null  object\n",
            " 10  ZIP CODE                        16909 non-null  int64 \n",
            " 11  RESIDENTIAL UNITS               16909 non-null  int64 \n",
            " 12  COMMERCIAL UNITS                16909 non-null  int64 \n",
            " 13  TOTAL UNITS                     16909 non-null  int64 \n",
            " 14  LAND SQUARE FEET                16909 non-null  object\n",
            " 15  GROSS SQUARE FEET               16909 non-null  object\n",
            " 16  YEAR BUILT                      16909 non-null  int64 \n",
            " 17  TAX CLASS AT TIME OF SALE       16909 non-null  int64 \n",
            " 18  BUILDING CLASS AT TIME OF SALE  16909 non-null  object\n",
            " 19  SALE PRICE                      16909 non-null  object\n",
            " 20  SALE DATE                       16909 non-null  object\n",
            "dtypes: int64(9), object(12)\n",
            "memory usage: 2.7+ MB\n"
          ]
        }
      ],
      "source": [
        "nyc_sales.info()"
      ]
    },
    {
      "cell_type": "code",
      "execution_count": null,
      "metadata": {
        "id": "CFFeo_xULpPU",
        "outputId": "0c986570-ade9-495e-f8c6-fe1e3514a1b4"
      },
      "outputs": [
        {
          "data": {
            "text/plain": [
              "BOROUGH                            int64\n",
              "NEIGHBORHOOD                      object\n",
              "BUILDING CLASS CATEGORY           object\n",
              "TAX CLASS AT PRESENT              object\n",
              "BLOCK                              int64\n",
              "LOT                                int64\n",
              "EASE-MENT                         object\n",
              "BUILDING CLASS AT PRESENT         object\n",
              "ADDRESS                           object\n",
              "APARTMENT NUMBER                  object\n",
              "ZIP CODE                           int64\n",
              "RESIDENTIAL UNITS                  int64\n",
              "COMMERCIAL UNITS                   int64\n",
              "TOTAL UNITS                        int64\n",
              "LAND SQUARE FEET                  object\n",
              "GROSS SQUARE FEET                 object\n",
              "YEAR BUILT                         int64\n",
              "TAX CLASS AT TIME OF SALE          int64\n",
              "BUILDING CLASS AT TIME OF SALE    object\n",
              "SALE PRICE                        object\n",
              "SALE DATE                         object\n",
              "dtype: object"
            ]
          },
          "execution_count": 6,
          "metadata": {},
          "output_type": "execute_result"
        }
      ],
      "source": [
        "nyc_sales.dtypes"
      ]
    },
    {
      "cell_type": "code",
      "execution_count": null,
      "metadata": {
        "id": "CgrscnSTLpPV",
        "outputId": "8663bab4-0e0a-413a-ce2e-6630ec81766f"
      },
      "outputs": [
        {
          "data": {
            "text/html": [
              "<div>\n",
              "<style scoped>\n",
              "    .dataframe tbody tr th:only-of-type {\n",
              "        vertical-align: middle;\n",
              "    }\n",
              "\n",
              "    .dataframe tbody tr th {\n",
              "        vertical-align: top;\n",
              "    }\n",
              "\n",
              "    .dataframe thead th {\n",
              "        text-align: right;\n",
              "    }\n",
              "</style>\n",
              "<table border=\"1\" class=\"dataframe\">\n",
              "  <thead>\n",
              "    <tr style=\"text-align: right;\">\n",
              "      <th></th>\n",
              "      <th>BOROUGH</th>\n",
              "      <th>BLOCK</th>\n",
              "      <th>LOT</th>\n",
              "      <th>ZIP CODE</th>\n",
              "      <th>RESIDENTIAL UNITS</th>\n",
              "      <th>COMMERCIAL UNITS</th>\n",
              "      <th>TOTAL UNITS</th>\n",
              "      <th>YEAR BUILT</th>\n",
              "      <th>TAX CLASS AT TIME OF SALE</th>\n",
              "    </tr>\n",
              "  </thead>\n",
              "  <tbody>\n",
              "    <tr>\n",
              "      <th>count</th>\n",
              "      <td>16909.0</td>\n",
              "      <td>16909.000000</td>\n",
              "      <td>16909.000000</td>\n",
              "      <td>16909.000000</td>\n",
              "      <td>16909.000000</td>\n",
              "      <td>16909.000000</td>\n",
              "      <td>16909.000000</td>\n",
              "      <td>16909.000000</td>\n",
              "      <td>16909.000000</td>\n",
              "    </tr>\n",
              "    <tr>\n",
              "      <th>mean</th>\n",
              "      <td>1.0</td>\n",
              "      <td>1059.997220</td>\n",
              "      <td>763.994382</td>\n",
              "      <td>9905.031285</td>\n",
              "      <td>2.240641</td>\n",
              "      <td>0.319061</td>\n",
              "      <td>2.604885</td>\n",
              "      <td>1701.808504</td>\n",
              "      <td>2.138743</td>\n",
              "    </tr>\n",
              "    <tr>\n",
              "      <th>std</th>\n",
              "      <td>0.0</td>\n",
              "      <td>516.578133</td>\n",
              "      <td>900.247246</td>\n",
              "      <td>1114.133314</td>\n",
              "      <td>22.632717</td>\n",
              "      <td>6.797024</td>\n",
              "      <td>23.764499</td>\n",
              "      <td>655.670715</td>\n",
              "      <td>0.563693</td>\n",
              "    </tr>\n",
              "    <tr>\n",
              "      <th>min</th>\n",
              "      <td>1.0</td>\n",
              "      <td>7.000000</td>\n",
              "      <td>1.000000</td>\n",
              "      <td>0.000000</td>\n",
              "      <td>0.000000</td>\n",
              "      <td>0.000000</td>\n",
              "      <td>0.000000</td>\n",
              "      <td>0.000000</td>\n",
              "      <td>1.000000</td>\n",
              "    </tr>\n",
              "    <tr>\n",
              "      <th>25%</th>\n",
              "      <td>1.0</td>\n",
              "      <td>720.000000</td>\n",
              "      <td>29.000000</td>\n",
              "      <td>10012.000000</td>\n",
              "      <td>0.000000</td>\n",
              "      <td>0.000000</td>\n",
              "      <td>0.000000</td>\n",
              "      <td>1910.000000</td>\n",
              "      <td>2.000000</td>\n",
              "    </tr>\n",
              "    <tr>\n",
              "      <th>50%</th>\n",
              "      <td>1.0</td>\n",
              "      <td>1137.000000</td>\n",
              "      <td>1007.000000</td>\n",
              "      <td>10021.000000</td>\n",
              "      <td>0.000000</td>\n",
              "      <td>0.000000</td>\n",
              "      <td>1.000000</td>\n",
              "      <td>1940.000000</td>\n",
              "      <td>2.000000</td>\n",
              "    </tr>\n",
              "    <tr>\n",
              "      <th>75%</th>\n",
              "      <td>1.0</td>\n",
              "      <td>1430.000000</td>\n",
              "      <td>1213.000000</td>\n",
              "      <td>10028.000000</td>\n",
              "      <td>1.000000</td>\n",
              "      <td>0.000000</td>\n",
              "      <td>1.000000</td>\n",
              "      <td>1978.000000</td>\n",
              "      <td>2.000000</td>\n",
              "    </tr>\n",
              "    <tr>\n",
              "      <th>max</th>\n",
              "      <td>1.0</td>\n",
              "      <td>2250.000000</td>\n",
              "      <td>9106.000000</td>\n",
              "      <td>10463.000000</td>\n",
              "      <td>1641.000000</td>\n",
              "      <td>422.000000</td>\n",
              "      <td>1653.000000</td>\n",
              "      <td>2017.000000</td>\n",
              "      <td>4.000000</td>\n",
              "    </tr>\n",
              "  </tbody>\n",
              "</table>\n",
              "</div>"
            ],
            "text/plain": [
              "       BOROUGH         BLOCK           LOT      ZIP CODE  RESIDENTIAL UNITS  \\\n",
              "count  16909.0  16909.000000  16909.000000  16909.000000       16909.000000   \n",
              "mean       1.0   1059.997220    763.994382   9905.031285           2.240641   \n",
              "std        0.0    516.578133    900.247246   1114.133314          22.632717   \n",
              "min        1.0      7.000000      1.000000      0.000000           0.000000   \n",
              "25%        1.0    720.000000     29.000000  10012.000000           0.000000   \n",
              "50%        1.0   1137.000000   1007.000000  10021.000000           0.000000   \n",
              "75%        1.0   1430.000000   1213.000000  10028.000000           1.000000   \n",
              "max        1.0   2250.000000   9106.000000  10463.000000        1641.000000   \n",
              "\n",
              "       COMMERCIAL UNITS   TOTAL UNITS    YEAR BUILT  TAX CLASS AT TIME OF SALE  \n",
              "count      16909.000000  16909.000000  16909.000000               16909.000000  \n",
              "mean           0.319061      2.604885   1701.808504                   2.138743  \n",
              "std            6.797024     23.764499    655.670715                   0.563693  \n",
              "min            0.000000      0.000000      0.000000                   1.000000  \n",
              "25%            0.000000      0.000000   1910.000000                   2.000000  \n",
              "50%            0.000000      1.000000   1940.000000                   2.000000  \n",
              "75%            0.000000      1.000000   1978.000000                   2.000000  \n",
              "max          422.000000   1653.000000   2017.000000                   4.000000  "
            ]
          },
          "execution_count": 7,
          "metadata": {},
          "output_type": "execute_result"
        }
      ],
      "source": [
        "nyc_sales.describe()"
      ]
    },
    {
      "cell_type": "markdown",
      "metadata": {
        "id": "BOBanspULpPV"
      },
      "source": [
        "# Pré-Processamento de Dados"
      ]
    },
    {
      "cell_type": "markdown",
      "metadata": {
        "id": "zb4jw-JDLpPW"
      },
      "source": [
        "## Investigação e Definição de Tipos"
      ]
    },
    {
      "cell_type": "markdown",
      "metadata": {
        "id": "8xR3X98MLpPX"
      },
      "source": [
        "Algumas variáveis que são do tipo numérico estão representadas como ```object```:\n",
        "* ```SALE PRICE```\n",
        "* ```GROSS SQUARE FEET```\n",
        "* ```LAND SQUARE FEET```\n",
        "* ```APARTMENT NUMBER```"
      ]
    },
    {
      "cell_type": "markdown",
      "metadata": {
        "id": "OUQ5mnJBLpPY"
      },
      "source": [
        "Da mesma maneira temos variáveis categóricas que estão como ```int64```:\n",
        "* ```BOROUGH```\n",
        "* ```BLOCK```\n",
        "* ```LOT```\n",
        "* ```TAX CLASS AT TIME OF SALE```"
      ]
    },
    {
      "cell_type": "markdown",
      "metadata": {
        "id": "aBOgvfoyLpPY"
      },
      "source": [
        "Inclusive, a própria descrição das variáveis nos revela que podemos utilizar BLOCK da seguinte maneira: Manhattan (1), Bronx (2), Brooklyn (3), Queens (4), and Staten Island (5).\n",
        "\n",
        "Vamos tentar algumas conversões? Para isso iremos tentar as conversões através do método ```.astype()```"
      ]
    },
    {
      "cell_type": "code",
      "execution_count": null,
      "metadata": {
        "id": "QNkcgHxOLpPY",
        "outputId": "4ed43790-3ec7-4565-cf3f-87e056a58ca0"
      },
      "outputs": [
        {
          "data": {
            "text/plain": [
              "Index(['BOROUGH', 'NEIGHBORHOOD', 'BUILDING CLASS CATEGORY',\n",
              "       'TAX CLASS AT PRESENT', 'BLOCK', 'LOT', 'EASE-MENT',\n",
              "       'BUILDING CLASS AT PRESENT', 'ADDRESS', 'APARTMENT NUMBER', 'ZIP CODE',\n",
              "       'RESIDENTIAL UNITS', 'COMMERCIAL UNITS', 'TOTAL UNITS',\n",
              "       'LAND SQUARE FEET', 'GROSS SQUARE FEET', 'YEAR BUILT',\n",
              "       'TAX CLASS AT TIME OF SALE', 'BUILDING CLASS AT TIME OF SALE',\n",
              "       'SALE PRICE', 'SALE DATE'],\n",
              "      dtype='object')"
            ]
          },
          "execution_count": 8,
          "metadata": {},
          "output_type": "execute_result"
        }
      ],
      "source": [
        "nyc_sales.columns"
      ]
    },
    {
      "cell_type": "code",
      "execution_count": null,
      "metadata": {
        "id": "sQLQVJEjLpPZ",
        "outputId": "39099794-1a31-40a5-c8c3-b5a5578c9409"
      },
      "outputs": [
        {
          "ename": "ValueError",
          "evalue": "could not convert string to float: ' -  '",
          "output_type": "error",
          "traceback": [
            "\u001b[0;31m---------------------------------------------------------------------------\u001b[0m",
            "\u001b[0;31mValueError\u001b[0m                                Traceback (most recent call last)",
            "Cell \u001b[0;32mIn[9], line 2\u001b[0m\n\u001b[1;32m      1\u001b[0m \u001b[38;5;66;03m# object to float\u001b[39;00m\n\u001b[0;32m----> 2\u001b[0m nyc_sales[\u001b[38;5;124m'\u001b[39m\u001b[38;5;124mSALE PRICE\u001b[39m\u001b[38;5;124m'\u001b[39m] \u001b[38;5;241m=\u001b[39m \u001b[43mnyc_sales\u001b[49m\u001b[43m[\u001b[49m\u001b[38;5;124;43m'\u001b[39;49m\u001b[38;5;124;43mSALE PRICE\u001b[39;49m\u001b[38;5;124;43m'\u001b[39;49m\u001b[43m]\u001b[49m\u001b[38;5;241;43m.\u001b[39;49m\u001b[43mastype\u001b[49m\u001b[43m(\u001b[49m\u001b[38;5;124;43m'\u001b[39;49m\u001b[38;5;124;43mfloat32\u001b[39;49m\u001b[38;5;124;43m'\u001b[39;49m\u001b[43m)\u001b[49m\n\u001b[1;32m      3\u001b[0m \u001b[38;5;66;03m# errors = ignore garantem que se tiver algum missing, mesmo assim será convertido\u001b[39;00m\n",
            "File \u001b[0;32m~/miniforge3/lib/python3.10/site-packages/pandas/core/generic.py:6534\u001b[0m, in \u001b[0;36mNDFrame.astype\u001b[0;34m(self, dtype, copy, errors)\u001b[0m\n\u001b[1;32m   6530\u001b[0m     results \u001b[38;5;241m=\u001b[39m [ser\u001b[38;5;241m.\u001b[39mastype(dtype, copy\u001b[38;5;241m=\u001b[39mcopy) \u001b[38;5;28;01mfor\u001b[39;00m _, ser \u001b[38;5;129;01min\u001b[39;00m \u001b[38;5;28mself\u001b[39m\u001b[38;5;241m.\u001b[39mitems()]\n\u001b[1;32m   6532\u001b[0m \u001b[38;5;28;01melse\u001b[39;00m:\n\u001b[1;32m   6533\u001b[0m     \u001b[38;5;66;03m# else, only a single dtype is given\u001b[39;00m\n\u001b[0;32m-> 6534\u001b[0m     new_data \u001b[38;5;241m=\u001b[39m \u001b[38;5;28;43mself\u001b[39;49m\u001b[38;5;241;43m.\u001b[39;49m\u001b[43m_mgr\u001b[49m\u001b[38;5;241;43m.\u001b[39;49m\u001b[43mastype\u001b[49m\u001b[43m(\u001b[49m\u001b[43mdtype\u001b[49m\u001b[38;5;241;43m=\u001b[39;49m\u001b[43mdtype\u001b[49m\u001b[43m,\u001b[49m\u001b[43m \u001b[49m\u001b[43mcopy\u001b[49m\u001b[38;5;241;43m=\u001b[39;49m\u001b[43mcopy\u001b[49m\u001b[43m,\u001b[49m\u001b[43m \u001b[49m\u001b[43merrors\u001b[49m\u001b[38;5;241;43m=\u001b[39;49m\u001b[43merrors\u001b[49m\u001b[43m)\u001b[49m\n\u001b[1;32m   6535\u001b[0m     res \u001b[38;5;241m=\u001b[39m \u001b[38;5;28mself\u001b[39m\u001b[38;5;241m.\u001b[39m_constructor_from_mgr(new_data, axes\u001b[38;5;241m=\u001b[39mnew_data\u001b[38;5;241m.\u001b[39maxes)\n\u001b[1;32m   6536\u001b[0m     \u001b[38;5;28;01mreturn\u001b[39;00m res\u001b[38;5;241m.\u001b[39m__finalize__(\u001b[38;5;28mself\u001b[39m, method\u001b[38;5;241m=\u001b[39m\u001b[38;5;124m\"\u001b[39m\u001b[38;5;124mastype\u001b[39m\u001b[38;5;124m\"\u001b[39m)\n",
            "File \u001b[0;32m~/miniforge3/lib/python3.10/site-packages/pandas/core/internals/managers.py:414\u001b[0m, in \u001b[0;36mBaseBlockManager.astype\u001b[0;34m(self, dtype, copy, errors)\u001b[0m\n\u001b[1;32m    411\u001b[0m \u001b[38;5;28;01melif\u001b[39;00m using_copy_on_write():\n\u001b[1;32m    412\u001b[0m     copy \u001b[38;5;241m=\u001b[39m \u001b[38;5;28;01mFalse\u001b[39;00m\n\u001b[0;32m--> 414\u001b[0m \u001b[38;5;28;01mreturn\u001b[39;00m \u001b[38;5;28;43mself\u001b[39;49m\u001b[38;5;241;43m.\u001b[39;49m\u001b[43mapply\u001b[49m\u001b[43m(\u001b[49m\n\u001b[1;32m    415\u001b[0m \u001b[43m    \u001b[49m\u001b[38;5;124;43m\"\u001b[39;49m\u001b[38;5;124;43mastype\u001b[39;49m\u001b[38;5;124;43m\"\u001b[39;49m\u001b[43m,\u001b[49m\n\u001b[1;32m    416\u001b[0m \u001b[43m    \u001b[49m\u001b[43mdtype\u001b[49m\u001b[38;5;241;43m=\u001b[39;49m\u001b[43mdtype\u001b[49m\u001b[43m,\u001b[49m\n\u001b[1;32m    417\u001b[0m \u001b[43m    \u001b[49m\u001b[43mcopy\u001b[49m\u001b[38;5;241;43m=\u001b[39;49m\u001b[43mcopy\u001b[49m\u001b[43m,\u001b[49m\n\u001b[1;32m    418\u001b[0m \u001b[43m    \u001b[49m\u001b[43merrors\u001b[49m\u001b[38;5;241;43m=\u001b[39;49m\u001b[43merrors\u001b[49m\u001b[43m,\u001b[49m\n\u001b[1;32m    419\u001b[0m \u001b[43m    \u001b[49m\u001b[43musing_cow\u001b[49m\u001b[38;5;241;43m=\u001b[39;49m\u001b[43musing_copy_on_write\u001b[49m\u001b[43m(\u001b[49m\u001b[43m)\u001b[49m\u001b[43m,\u001b[49m\n\u001b[1;32m    420\u001b[0m \u001b[43m\u001b[49m\u001b[43m)\u001b[49m\n",
            "File \u001b[0;32m~/miniforge3/lib/python3.10/site-packages/pandas/core/internals/managers.py:354\u001b[0m, in \u001b[0;36mBaseBlockManager.apply\u001b[0;34m(self, f, align_keys, **kwargs)\u001b[0m\n\u001b[1;32m    352\u001b[0m         applied \u001b[38;5;241m=\u001b[39m b\u001b[38;5;241m.\u001b[39mapply(f, \u001b[38;5;241m*\u001b[39m\u001b[38;5;241m*\u001b[39mkwargs)\n\u001b[1;32m    353\u001b[0m     \u001b[38;5;28;01melse\u001b[39;00m:\n\u001b[0;32m--> 354\u001b[0m         applied \u001b[38;5;241m=\u001b[39m \u001b[38;5;28;43mgetattr\u001b[39;49m\u001b[43m(\u001b[49m\u001b[43mb\u001b[49m\u001b[43m,\u001b[49m\u001b[43m \u001b[49m\u001b[43mf\u001b[49m\u001b[43m)\u001b[49m\u001b[43m(\u001b[49m\u001b[38;5;241;43m*\u001b[39;49m\u001b[38;5;241;43m*\u001b[39;49m\u001b[43mkwargs\u001b[49m\u001b[43m)\u001b[49m\n\u001b[1;32m    355\u001b[0m     result_blocks \u001b[38;5;241m=\u001b[39m extend_blocks(applied, result_blocks)\n\u001b[1;32m    357\u001b[0m out \u001b[38;5;241m=\u001b[39m \u001b[38;5;28mtype\u001b[39m(\u001b[38;5;28mself\u001b[39m)\u001b[38;5;241m.\u001b[39mfrom_blocks(result_blocks, \u001b[38;5;28mself\u001b[39m\u001b[38;5;241m.\u001b[39maxes)\n",
            "File \u001b[0;32m~/miniforge3/lib/python3.10/site-packages/pandas/core/internals/blocks.py:616\u001b[0m, in \u001b[0;36mBlock.astype\u001b[0;34m(self, dtype, copy, errors, using_cow)\u001b[0m\n\u001b[1;32m    596\u001b[0m \u001b[38;5;250m\u001b[39m\u001b[38;5;124;03m\"\"\"\u001b[39;00m\n\u001b[1;32m    597\u001b[0m \u001b[38;5;124;03mCoerce to the new dtype.\u001b[39;00m\n\u001b[1;32m    598\u001b[0m \n\u001b[0;32m   (...)\u001b[0m\n\u001b[1;32m    612\u001b[0m \u001b[38;5;124;03mBlock\u001b[39;00m\n\u001b[1;32m    613\u001b[0m \u001b[38;5;124;03m\"\"\"\u001b[39;00m\n\u001b[1;32m    614\u001b[0m values \u001b[38;5;241m=\u001b[39m \u001b[38;5;28mself\u001b[39m\u001b[38;5;241m.\u001b[39mvalues\n\u001b[0;32m--> 616\u001b[0m new_values \u001b[38;5;241m=\u001b[39m \u001b[43mastype_array_safe\u001b[49m\u001b[43m(\u001b[49m\u001b[43mvalues\u001b[49m\u001b[43m,\u001b[49m\u001b[43m \u001b[49m\u001b[43mdtype\u001b[49m\u001b[43m,\u001b[49m\u001b[43m \u001b[49m\u001b[43mcopy\u001b[49m\u001b[38;5;241;43m=\u001b[39;49m\u001b[43mcopy\u001b[49m\u001b[43m,\u001b[49m\u001b[43m \u001b[49m\u001b[43merrors\u001b[49m\u001b[38;5;241;43m=\u001b[39;49m\u001b[43merrors\u001b[49m\u001b[43m)\u001b[49m\n\u001b[1;32m    618\u001b[0m new_values \u001b[38;5;241m=\u001b[39m maybe_coerce_values(new_values)\n\u001b[1;32m    620\u001b[0m refs \u001b[38;5;241m=\u001b[39m \u001b[38;5;28;01mNone\u001b[39;00m\n",
            "File \u001b[0;32m~/miniforge3/lib/python3.10/site-packages/pandas/core/dtypes/astype.py:238\u001b[0m, in \u001b[0;36mastype_array_safe\u001b[0;34m(values, dtype, copy, errors)\u001b[0m\n\u001b[1;32m    235\u001b[0m     dtype \u001b[38;5;241m=\u001b[39m dtype\u001b[38;5;241m.\u001b[39mnumpy_dtype\n\u001b[1;32m    237\u001b[0m \u001b[38;5;28;01mtry\u001b[39;00m:\n\u001b[0;32m--> 238\u001b[0m     new_values \u001b[38;5;241m=\u001b[39m \u001b[43mastype_array\u001b[49m\u001b[43m(\u001b[49m\u001b[43mvalues\u001b[49m\u001b[43m,\u001b[49m\u001b[43m \u001b[49m\u001b[43mdtype\u001b[49m\u001b[43m,\u001b[49m\u001b[43m \u001b[49m\u001b[43mcopy\u001b[49m\u001b[38;5;241;43m=\u001b[39;49m\u001b[43mcopy\u001b[49m\u001b[43m)\u001b[49m\n\u001b[1;32m    239\u001b[0m \u001b[38;5;28;01mexcept\u001b[39;00m (\u001b[38;5;167;01mValueError\u001b[39;00m, \u001b[38;5;167;01mTypeError\u001b[39;00m):\n\u001b[1;32m    240\u001b[0m     \u001b[38;5;66;03m# e.g. _astype_nansafe can fail on object-dtype of strings\u001b[39;00m\n\u001b[1;32m    241\u001b[0m     \u001b[38;5;66;03m#  trying to convert to float\u001b[39;00m\n\u001b[1;32m    242\u001b[0m     \u001b[38;5;28;01mif\u001b[39;00m errors \u001b[38;5;241m==\u001b[39m \u001b[38;5;124m\"\u001b[39m\u001b[38;5;124mignore\u001b[39m\u001b[38;5;124m\"\u001b[39m:\n",
            "File \u001b[0;32m~/miniforge3/lib/python3.10/site-packages/pandas/core/dtypes/astype.py:183\u001b[0m, in \u001b[0;36mastype_array\u001b[0;34m(values, dtype, copy)\u001b[0m\n\u001b[1;32m    180\u001b[0m     values \u001b[38;5;241m=\u001b[39m values\u001b[38;5;241m.\u001b[39mastype(dtype, copy\u001b[38;5;241m=\u001b[39mcopy)\n\u001b[1;32m    182\u001b[0m \u001b[38;5;28;01melse\u001b[39;00m:\n\u001b[0;32m--> 183\u001b[0m     values \u001b[38;5;241m=\u001b[39m \u001b[43m_astype_nansafe\u001b[49m\u001b[43m(\u001b[49m\u001b[43mvalues\u001b[49m\u001b[43m,\u001b[49m\u001b[43m \u001b[49m\u001b[43mdtype\u001b[49m\u001b[43m,\u001b[49m\u001b[43m \u001b[49m\u001b[43mcopy\u001b[49m\u001b[38;5;241;43m=\u001b[39;49m\u001b[43mcopy\u001b[49m\u001b[43m)\u001b[49m\n\u001b[1;32m    185\u001b[0m \u001b[38;5;66;03m# in pandas we don't store numpy str dtypes, so convert to object\u001b[39;00m\n\u001b[1;32m    186\u001b[0m \u001b[38;5;28;01mif\u001b[39;00m \u001b[38;5;28misinstance\u001b[39m(dtype, np\u001b[38;5;241m.\u001b[39mdtype) \u001b[38;5;129;01mand\u001b[39;00m \u001b[38;5;28missubclass\u001b[39m(values\u001b[38;5;241m.\u001b[39mdtype\u001b[38;5;241m.\u001b[39mtype, \u001b[38;5;28mstr\u001b[39m):\n",
            "File \u001b[0;32m~/miniforge3/lib/python3.10/site-packages/pandas/core/dtypes/astype.py:134\u001b[0m, in \u001b[0;36m_astype_nansafe\u001b[0;34m(arr, dtype, copy, skipna)\u001b[0m\n\u001b[1;32m    130\u001b[0m     \u001b[38;5;28;01mraise\u001b[39;00m \u001b[38;5;167;01mValueError\u001b[39;00m(msg)\n\u001b[1;32m    132\u001b[0m \u001b[38;5;28;01mif\u001b[39;00m copy \u001b[38;5;129;01mor\u001b[39;00m arr\u001b[38;5;241m.\u001b[39mdtype \u001b[38;5;241m==\u001b[39m \u001b[38;5;28mobject\u001b[39m \u001b[38;5;129;01mor\u001b[39;00m dtype \u001b[38;5;241m==\u001b[39m \u001b[38;5;28mobject\u001b[39m:\n\u001b[1;32m    133\u001b[0m     \u001b[38;5;66;03m# Explicit copy, or required since NumPy can't view from / to object.\u001b[39;00m\n\u001b[0;32m--> 134\u001b[0m     \u001b[38;5;28;01mreturn\u001b[39;00m \u001b[43marr\u001b[49m\u001b[38;5;241;43m.\u001b[39;49m\u001b[43mastype\u001b[49m\u001b[43m(\u001b[49m\u001b[43mdtype\u001b[49m\u001b[43m,\u001b[49m\u001b[43m \u001b[49m\u001b[43mcopy\u001b[49m\u001b[38;5;241;43m=\u001b[39;49m\u001b[38;5;28;43;01mTrue\u001b[39;49;00m\u001b[43m)\u001b[49m\n\u001b[1;32m    136\u001b[0m \u001b[38;5;28;01mreturn\u001b[39;00m arr\u001b[38;5;241m.\u001b[39mastype(dtype, copy\u001b[38;5;241m=\u001b[39mcopy)\n",
            "\u001b[0;31mValueError\u001b[0m: could not convert string to float: ' -  '"
          ]
        }
      ],
      "source": [
        "# object to float\n",
        "nyc_sales['SALE PRICE'] = nyc_sales['SALE PRICE'].astype('float32')\n",
        "# errors = ignore garantem que se tiver algum missing, mesmo assim será convertido"
      ]
    },
    {
      "cell_type": "code",
      "execution_count": null,
      "metadata": {
        "id": "UdsnH-FmLpPa",
        "outputId": "e1d0588b-29fe-4c9f-8f31-c2957fa0ec1a"
      },
      "outputs": [
        {
          "data": {
            "text/plain": [
              "0        6625000\n",
              "1            -  \n",
              "2            -  \n",
              "3        3936272\n",
              "4        8000000\n",
              "          ...   \n",
              "16904        -  \n",
              "16905     712500\n",
              "16906     740000\n",
              "16907    1800000\n",
              "16908        -  \n",
              "Name: SALE PRICE, Length: 16909, dtype: object"
            ]
          },
          "execution_count": 10,
          "metadata": {},
          "output_type": "execute_result"
        }
      ],
      "source": [
        "nyc_sales['SALE PRICE']"
      ]
    },
    {
      "cell_type": "markdown",
      "metadata": {
        "id": "r5_LPX-eLpPa"
      },
      "source": [
        "Não houve conversão, pois existe um ```-``` no meio das colunas. Isso é um indício de que valores faltosos são representados dessa maneira no nosso dataframe.\n",
        "\n",
        "Vamos usar outro método: ```pd.to_nummeric```."
      ]
    },
    {
      "cell_type": "code",
      "execution_count": null,
      "metadata": {
        "id": "K_q0jYBfLpPb",
        "outputId": "48aada7a-79ab-4491-eb5f-dc1b2547f101"
      },
      "outputs": [
        {
          "data": {
            "text/plain": [
              "0        6625000.0\n",
              "1              NaN\n",
              "2              NaN\n",
              "3        3936272.0\n",
              "4        8000000.0\n",
              "           ...    \n",
              "16904          NaN\n",
              "16905     712500.0\n",
              "16906     740000.0\n",
              "16907    1800000.0\n",
              "16908          NaN\n",
              "Name: SALE PRICE, Length: 16909, dtype: float64"
            ]
          },
          "execution_count": 11,
          "metadata": {},
          "output_type": "execute_result"
        }
      ],
      "source": [
        "nyc_sales['SALE PRICE'] = pd.to_numeric(nyc_sales['SALE PRICE'], errors='coerce')\n",
        "nyc_sales['SALE PRICE']"
      ]
    },
    {
      "cell_type": "code",
      "execution_count": null,
      "metadata": {
        "id": "NOYsGZfcLpPb"
      },
      "outputs": [],
      "source": [
        "for coluna in ['SALE PRICE', 'GROSS SQUARE FEET', 'LAND SQUARE FEET', 'APARTMENT NUMBER']:\n",
        "    nyc_sales[coluna] = pd.to_numeric(nyc_sales[coluna], errors='coerce')"
      ]
    },
    {
      "cell_type": "code",
      "execution_count": null,
      "metadata": {
        "id": "t_RI3shELpPc",
        "outputId": "5d6f0643-c5d1-47fb-ed32-44f5f21ed336"
      },
      "outputs": [
        {
          "name": "stdout",
          "output_type": "stream",
          "text": [
            "<class 'pandas.core.frame.DataFrame'>\n",
            "RangeIndex: 16909 entries, 0 to 16908\n",
            "Data columns (total 21 columns):\n",
            " #   Column                          Non-Null Count  Dtype  \n",
            "---  ------                          --------------  -----  \n",
            " 0   BOROUGH                         16909 non-null  int64  \n",
            " 1   NEIGHBORHOOD                    16909 non-null  object \n",
            " 2   BUILDING CLASS CATEGORY         16909 non-null  object \n",
            " 3   TAX CLASS AT PRESENT            16909 non-null  object \n",
            " 4   BLOCK                           16909 non-null  int64  \n",
            " 5   LOT                             16909 non-null  int64  \n",
            " 6   EASE-MENT                       16909 non-null  object \n",
            " 7   BUILDING CLASS AT PRESENT       16909 non-null  object \n",
            " 8   ADDRESS                         16909 non-null  object \n",
            " 9   APARTMENT NUMBER                1156 non-null   float64\n",
            " 10  ZIP CODE                        16909 non-null  int64  \n",
            " 11  RESIDENTIAL UNITS               16909 non-null  int64  \n",
            " 12  COMMERCIAL UNITS                16909 non-null  int64  \n",
            " 13  TOTAL UNITS                     16909 non-null  int64  \n",
            " 14  LAND SQUARE FEET                1731 non-null   float64\n",
            " 15  GROSS SQUARE FEET               1621 non-null   float64\n",
            " 16  YEAR BUILT                      16909 non-null  int64  \n",
            " 17  TAX CLASS AT TIME OF SALE       16909 non-null  int64  \n",
            " 18  BUILDING CLASS AT TIME OF SALE  16909 non-null  object \n",
            " 19  SALE PRICE                      13395 non-null  float64\n",
            " 20  SALE DATE                       16909 non-null  object \n",
            "dtypes: float64(4), int64(9), object(8)\n",
            "memory usage: 2.7+ MB\n"
          ]
        }
      ],
      "source": [
        "nyc_sales.info()"
      ]
    },
    {
      "cell_type": "markdown",
      "metadata": {
        "id": "5ScHQsVrLpPd"
      },
      "source": [
        "Perceba que agora aparecem valores Null no nosso dataframe.\n",
        "\n",
        "As variáveis categóricas que estão como inteiro iremos converter para ```object```."
      ]
    },
    {
      "cell_type": "code",
      "execution_count": null,
      "metadata": {
        "id": "MFvUB3myLpPe"
      },
      "outputs": [],
      "source": [
        "for coluna in ['BLOCK', 'LOT', 'TAX CLASS AT TIME OF SALE' ]:\n",
        "    nyc_sales[coluna] =  nyc_sales[coluna].astype('object')"
      ]
    },
    {
      "cell_type": "markdown",
      "metadata": {
        "id": "GFQ0Ai2KLpPe"
      },
      "source": [
        "Para as variável BOROUGH, vamos seguir as recomendações da \"documentação\"\n"
      ]
    },
    {
      "cell_type": "code",
      "execution_count": null,
      "metadata": {
        "id": "FWlikg8JLpPe",
        "outputId": "a81617c9-f679-4868-d655-43cbd18fecea"
      },
      "outputs": [
        {
          "name": "stdout",
          "output_type": "stream",
          "text": [
            "CPU times: user 1e+03 ns, sys: 0 ns, total: 1e+03 ns\n",
            "Wall time: 4.05 µs\n"
          ]
        },
        {
          "data": {
            "text/plain": [
              "0        Manhatan\n",
              "1        Manhatan\n",
              "2        Manhatan\n",
              "3        Manhatan\n",
              "4        Manhatan\n",
              "           ...   \n",
              "16904    Manhatan\n",
              "16905    Manhatan\n",
              "16906    Manhatan\n",
              "16907    Manhatan\n",
              "16908    Manhatan\n",
              "Name: BOROUGH, Length: 16909, dtype: object"
            ]
          },
          "execution_count": 16,
          "metadata": {},
          "output_type": "execute_result"
        }
      ],
      "source": [
        "# Podemos usar a função map\n",
        "#Manhattan (1), Bronx (2), Brooklyn (3), Queens (4), and Staten Island (5).\n",
        "# Como substituir?\n",
        "%time\n",
        "nyc_sales['BOROUGH'].replace([1, 2, 3, 4, 5], ['Manhatan', 'Bronx', 'Brooklyn', 'Queens', 'Staten Island'])"
      ]
    },
    {
      "cell_type": "code",
      "execution_count": null,
      "metadata": {
        "id": "JsyB6NnOLpPf",
        "outputId": "10aecaa9-829b-471e-ecb6-cda5861bde69"
      },
      "outputs": [
        {
          "name": "stdout",
          "output_type": "stream",
          "text": [
            "CPU times: user 2 µs, sys: 0 ns, total: 2 µs\n",
            "Wall time: 4.29 µs\n"
          ]
        },
        {
          "data": {
            "text/plain": [
              "0        Manhatan\n",
              "1        Manhatan\n",
              "2        Manhatan\n",
              "3        Manhatan\n",
              "4        Manhatan\n",
              "           ...   \n",
              "16904    Manhatan\n",
              "16905    Manhatan\n",
              "16906    Manhatan\n",
              "16907    Manhatan\n",
              "16908    Manhatan\n",
              "Name: BOROUGH, Length: 16909, dtype: object"
            ]
          },
          "execution_count": 17,
          "metadata": {},
          "output_type": "execute_result"
        }
      ],
      "source": [
        "%time\n",
        "nyc_sales['BOROUGH'].replace( {1:'Manhatan', 2:'Bronx', 3:'Brooklyn', 4:'Queens', 5:'Staten Island'})"
      ]
    },
    {
      "cell_type": "code",
      "execution_count": null,
      "metadata": {
        "id": "PfZvOb-WLpPf",
        "outputId": "022fd47e-ba8e-48f9-a94a-6cb13783f567"
      },
      "outputs": [
        {
          "name": "stdout",
          "output_type": "stream",
          "text": [
            "CPU times: user 2 µs, sys: 1 µs, total: 3 µs\n",
            "Wall time: 4.05 µs\n"
          ]
        }
      ],
      "source": [
        "%time\n",
        "nyc_sales['BOROUGH'] = nyc_sales['BOROUGH'].map({1:'Manhatan', 2:'Bronx', 3:'Brooklyn', 4:'Queens', 5:'Staten Island'})"
      ]
    },
    {
      "cell_type": "code",
      "execution_count": null,
      "metadata": {
        "id": "0tcsfZLpLpPg",
        "outputId": "1a1b1b1a-b973-46a5-b3b3-c4f5d0adf387"
      },
      "outputs": [
        {
          "name": "stdout",
          "output_type": "stream",
          "text": [
            "<class 'pandas.core.frame.DataFrame'>\n",
            "RangeIndex: 16909 entries, 0 to 16908\n",
            "Data columns (total 21 columns):\n",
            " #   Column                          Non-Null Count  Dtype  \n",
            "---  ------                          --------------  -----  \n",
            " 0   BOROUGH                         16909 non-null  object \n",
            " 1   NEIGHBORHOOD                    16909 non-null  object \n",
            " 2   BUILDING CLASS CATEGORY         16909 non-null  object \n",
            " 3   TAX CLASS AT PRESENT            16909 non-null  object \n",
            " 4   BLOCK                           16909 non-null  object \n",
            " 5   LOT                             16909 non-null  object \n",
            " 6   EASE-MENT                       16909 non-null  object \n",
            " 7   BUILDING CLASS AT PRESENT       16909 non-null  object \n",
            " 8   ADDRESS                         16909 non-null  object \n",
            " 9   APARTMENT NUMBER                1156 non-null   float64\n",
            " 10  ZIP CODE                        16909 non-null  int64  \n",
            " 11  RESIDENTIAL UNITS               16909 non-null  int64  \n",
            " 12  COMMERCIAL UNITS                16909 non-null  int64  \n",
            " 13  TOTAL UNITS                     16909 non-null  int64  \n",
            " 14  LAND SQUARE FEET                1731 non-null   float64\n",
            " 15  GROSS SQUARE FEET               1621 non-null   float64\n",
            " 16  YEAR BUILT                      16909 non-null  int64  \n",
            " 17  TAX CLASS AT TIME OF SALE       16909 non-null  object \n",
            " 18  BUILDING CLASS AT TIME OF SALE  16909 non-null  object \n",
            " 19  SALE PRICE                      13395 non-null  float64\n",
            " 20  SALE DATE                       16909 non-null  object \n",
            "dtypes: float64(4), int64(5), object(12)\n",
            "memory usage: 2.7+ MB\n"
          ]
        }
      ],
      "source": [
        "nyc_sales.info()"
      ]
    },
    {
      "cell_type": "markdown",
      "metadata": {
        "id": "146f3lXHLpPg"
      },
      "source": [
        "Por fim, temos a coluna ```SALE DATE``` que é uma data, mas que está como string. Vamos convertê-la para data usando a função ```pd.to_datetime```"
      ]
    },
    {
      "cell_type": "code",
      "execution_count": null,
      "metadata": {
        "id": "yG_EwA_WLpPg"
      },
      "outputs": [],
      "source": [
        "nyc_sales['SALE DATE'] = pd.to_datetime(nyc_sales['SALE DATE'], format='%Y-%m-%d %H:%M:%S')"
      ]
    },
    {
      "cell_type": "code",
      "execution_count": null,
      "metadata": {
        "id": "K054zgW_LpPh",
        "outputId": "f1cc8e95-9c68-4e0b-84c7-382ba87799d4"
      },
      "outputs": [
        {
          "name": "stdout",
          "output_type": "stream",
          "text": [
            "<class 'pandas.core.frame.DataFrame'>\n",
            "RangeIndex: 16909 entries, 0 to 16908\n",
            "Data columns (total 21 columns):\n",
            " #   Column                          Non-Null Count  Dtype         \n",
            "---  ------                          --------------  -----         \n",
            " 0   BOROUGH                         16909 non-null  object        \n",
            " 1   NEIGHBORHOOD                    16909 non-null  object        \n",
            " 2   BUILDING CLASS CATEGORY         16909 non-null  object        \n",
            " 3   TAX CLASS AT PRESENT            16909 non-null  object        \n",
            " 4   BLOCK                           16909 non-null  object        \n",
            " 5   LOT                             16909 non-null  object        \n",
            " 6   EASE-MENT                       16909 non-null  object        \n",
            " 7   BUILDING CLASS AT PRESENT       16909 non-null  object        \n",
            " 8   ADDRESS                         16909 non-null  object        \n",
            " 9   APARTMENT NUMBER                1156 non-null   float64       \n",
            " 10  ZIP CODE                        16909 non-null  int64         \n",
            " 11  RESIDENTIAL UNITS               16909 non-null  int64         \n",
            " 12  COMMERCIAL UNITS                16909 non-null  int64         \n",
            " 13  TOTAL UNITS                     16909 non-null  int64         \n",
            " 14  LAND SQUARE FEET                1731 non-null   float64       \n",
            " 15  GROSS SQUARE FEET               1621 non-null   float64       \n",
            " 16  YEAR BUILT                      16909 non-null  int64         \n",
            " 17  TAX CLASS AT TIME OF SALE       16909 non-null  object        \n",
            " 18  BUILDING CLASS AT TIME OF SALE  16909 non-null  object        \n",
            " 19  SALE PRICE                      13395 non-null  float64       \n",
            " 20  SALE DATE                       16909 non-null  datetime64[ns]\n",
            "dtypes: datetime64[ns](1), float64(4), int64(5), object(11)\n",
            "memory usage: 2.7+ MB\n"
          ]
        }
      ],
      "source": [
        "nyc_sales.info()"
      ]
    },
    {
      "cell_type": "code",
      "execution_count": null,
      "metadata": {
        "id": "_fc_gmnSLpPi",
        "outputId": "10e605db-eb6e-4576-b3b0-f999dcf0be80"
      },
      "outputs": [
        {
          "data": {
            "text/html": [
              "<div>\n",
              "<style scoped>\n",
              "    .dataframe tbody tr th:only-of-type {\n",
              "        vertical-align: middle;\n",
              "    }\n",
              "\n",
              "    .dataframe tbody tr th {\n",
              "        vertical-align: top;\n",
              "    }\n",
              "\n",
              "    .dataframe thead th {\n",
              "        text-align: right;\n",
              "    }\n",
              "</style>\n",
              "<table border=\"1\" class=\"dataframe\">\n",
              "  <thead>\n",
              "    <tr style=\"text-align: right;\">\n",
              "      <th></th>\n",
              "      <th>BOROUGH</th>\n",
              "      <th>NEIGHBORHOOD</th>\n",
              "      <th>BUILDING CLASS CATEGORY</th>\n",
              "      <th>TAX CLASS AT PRESENT</th>\n",
              "      <th>BLOCK</th>\n",
              "      <th>LOT</th>\n",
              "      <th>EASE-MENT</th>\n",
              "      <th>BUILDING CLASS AT PRESENT</th>\n",
              "      <th>ADDRESS</th>\n",
              "      <th>APARTMENT NUMBER</th>\n",
              "      <th>...</th>\n",
              "      <th>RESIDENTIAL UNITS</th>\n",
              "      <th>COMMERCIAL UNITS</th>\n",
              "      <th>TOTAL UNITS</th>\n",
              "      <th>LAND SQUARE FEET</th>\n",
              "      <th>GROSS SQUARE FEET</th>\n",
              "      <th>YEAR BUILT</th>\n",
              "      <th>TAX CLASS AT TIME OF SALE</th>\n",
              "      <th>BUILDING CLASS AT TIME OF SALE</th>\n",
              "      <th>SALE PRICE</th>\n",
              "      <th>SALE DATE</th>\n",
              "    </tr>\n",
              "  </thead>\n",
              "  <tbody>\n",
              "    <tr>\n",
              "      <th>0</th>\n",
              "      <td>Manhatan</td>\n",
              "      <td>ALPHABET CITY</td>\n",
              "      <td>07 RENTALS - WALKUP APARTMENTS</td>\n",
              "      <td>2A</td>\n",
              "      <td>392</td>\n",
              "      <td>6</td>\n",
              "      <td></td>\n",
              "      <td>C2</td>\n",
              "      <td>153 AVENUE B</td>\n",
              "      <td>NaN</td>\n",
              "      <td>...</td>\n",
              "      <td>5</td>\n",
              "      <td>0</td>\n",
              "      <td>5</td>\n",
              "      <td>1633.0</td>\n",
              "      <td>6440.0</td>\n",
              "      <td>1900</td>\n",
              "      <td>2</td>\n",
              "      <td>C2</td>\n",
              "      <td>6625000.0</td>\n",
              "      <td>2017-07-19</td>\n",
              "    </tr>\n",
              "    <tr>\n",
              "      <th>1</th>\n",
              "      <td>Manhatan</td>\n",
              "      <td>ALPHABET CITY</td>\n",
              "      <td>07 RENTALS - WALKUP APARTMENTS</td>\n",
              "      <td>2</td>\n",
              "      <td>399</td>\n",
              "      <td>26</td>\n",
              "      <td></td>\n",
              "      <td>C7</td>\n",
              "      <td>234 EAST 4TH   STREET</td>\n",
              "      <td>NaN</td>\n",
              "      <td>...</td>\n",
              "      <td>28</td>\n",
              "      <td>3</td>\n",
              "      <td>31</td>\n",
              "      <td>4616.0</td>\n",
              "      <td>18690.0</td>\n",
              "      <td>1900</td>\n",
              "      <td>2</td>\n",
              "      <td>C7</td>\n",
              "      <td>NaN</td>\n",
              "      <td>2016-12-14</td>\n",
              "    </tr>\n",
              "    <tr>\n",
              "      <th>2</th>\n",
              "      <td>Manhatan</td>\n",
              "      <td>ALPHABET CITY</td>\n",
              "      <td>07 RENTALS - WALKUP APARTMENTS</td>\n",
              "      <td>2</td>\n",
              "      <td>399</td>\n",
              "      <td>39</td>\n",
              "      <td></td>\n",
              "      <td>C7</td>\n",
              "      <td>197 EAST 3RD   STREET</td>\n",
              "      <td>NaN</td>\n",
              "      <td>...</td>\n",
              "      <td>16</td>\n",
              "      <td>1</td>\n",
              "      <td>17</td>\n",
              "      <td>2212.0</td>\n",
              "      <td>7803.0</td>\n",
              "      <td>1900</td>\n",
              "      <td>2</td>\n",
              "      <td>C7</td>\n",
              "      <td>NaN</td>\n",
              "      <td>2016-12-09</td>\n",
              "    </tr>\n",
              "    <tr>\n",
              "      <th>3</th>\n",
              "      <td>Manhatan</td>\n",
              "      <td>ALPHABET CITY</td>\n",
              "      <td>07 RENTALS - WALKUP APARTMENTS</td>\n",
              "      <td>2B</td>\n",
              "      <td>402</td>\n",
              "      <td>21</td>\n",
              "      <td></td>\n",
              "      <td>C4</td>\n",
              "      <td>154 EAST 7TH STREET</td>\n",
              "      <td>NaN</td>\n",
              "      <td>...</td>\n",
              "      <td>10</td>\n",
              "      <td>0</td>\n",
              "      <td>10</td>\n",
              "      <td>2272.0</td>\n",
              "      <td>6794.0</td>\n",
              "      <td>1913</td>\n",
              "      <td>2</td>\n",
              "      <td>C4</td>\n",
              "      <td>3936272.0</td>\n",
              "      <td>2016-09-23</td>\n",
              "    </tr>\n",
              "    <tr>\n",
              "      <th>4</th>\n",
              "      <td>Manhatan</td>\n",
              "      <td>ALPHABET CITY</td>\n",
              "      <td>07 RENTALS - WALKUP APARTMENTS</td>\n",
              "      <td>2A</td>\n",
              "      <td>404</td>\n",
              "      <td>55</td>\n",
              "      <td></td>\n",
              "      <td>C2</td>\n",
              "      <td>301 EAST 10TH   STREET</td>\n",
              "      <td>NaN</td>\n",
              "      <td>...</td>\n",
              "      <td>6</td>\n",
              "      <td>0</td>\n",
              "      <td>6</td>\n",
              "      <td>2369.0</td>\n",
              "      <td>4615.0</td>\n",
              "      <td>1900</td>\n",
              "      <td>2</td>\n",
              "      <td>C2</td>\n",
              "      <td>8000000.0</td>\n",
              "      <td>2016-11-17</td>\n",
              "    </tr>\n",
              "  </tbody>\n",
              "</table>\n",
              "<p>5 rows × 21 columns</p>\n",
              "</div>"
            ],
            "text/plain": [
              "    BOROUGH   NEIGHBORHOOD                      BUILDING CLASS CATEGORY  \\\n",
              "0  Manhatan  ALPHABET CITY  07 RENTALS - WALKUP APARTMENTS                \n",
              "1  Manhatan  ALPHABET CITY  07 RENTALS - WALKUP APARTMENTS                \n",
              "2  Manhatan  ALPHABET CITY  07 RENTALS - WALKUP APARTMENTS                \n",
              "3  Manhatan  ALPHABET CITY  07 RENTALS - WALKUP APARTMENTS                \n",
              "4  Manhatan  ALPHABET CITY  07 RENTALS - WALKUP APARTMENTS                \n",
              "\n",
              "  TAX CLASS AT PRESENT BLOCK LOT EASE-MENT BUILDING CLASS AT PRESENT  \\\n",
              "0                   2A   392   6                                  C2   \n",
              "1                    2   399  26                                  C7   \n",
              "2                    2   399  39                                  C7   \n",
              "3                   2B   402  21                                  C4   \n",
              "4                   2A   404  55                                  C2   \n",
              "\n",
              "                  ADDRESS  APARTMENT NUMBER  ...  RESIDENTIAL UNITS  \\\n",
              "0            153 AVENUE B               NaN  ...                  5   \n",
              "1   234 EAST 4TH   STREET               NaN  ...                 28   \n",
              "2   197 EAST 3RD   STREET               NaN  ...                 16   \n",
              "3     154 EAST 7TH STREET               NaN  ...                 10   \n",
              "4  301 EAST 10TH   STREET               NaN  ...                  6   \n",
              "\n",
              "   COMMERCIAL UNITS  TOTAL UNITS  LAND SQUARE FEET  GROSS SQUARE FEET  \\\n",
              "0                 0            5            1633.0             6440.0   \n",
              "1                 3           31            4616.0            18690.0   \n",
              "2                 1           17            2212.0             7803.0   \n",
              "3                 0           10            2272.0             6794.0   \n",
              "4                 0            6            2369.0             4615.0   \n",
              "\n",
              "   YEAR BUILT  TAX CLASS AT TIME OF SALE BUILDING CLASS AT TIME OF SALE  \\\n",
              "0        1900                          2                             C2   \n",
              "1        1900                          2                             C7   \n",
              "2        1900                          2                             C7   \n",
              "3        1913                          2                             C4   \n",
              "4        1900                          2                             C2   \n",
              "\n",
              "  SALE PRICE  SALE DATE  \n",
              "0  6625000.0 2017-07-19  \n",
              "1        NaN 2016-12-14  \n",
              "2        NaN 2016-12-09  \n",
              "3  3936272.0 2016-09-23  \n",
              "4  8000000.0 2016-11-17  \n",
              "\n",
              "[5 rows x 21 columns]"
            ]
          },
          "execution_count": 22,
          "metadata": {},
          "output_type": "execute_result"
        }
      ],
      "source": [
        "nyc_sales.head()"
      ]
    },
    {
      "cell_type": "code",
      "execution_count": null,
      "metadata": {
        "id": "3rNivuXMLpPi",
        "outputId": "f1470b33-95ba-4d17-e1e5-9140a9529843"
      },
      "outputs": [
        {
          "ename": "ValueError",
          "evalue": "time data \"2020-03-12\" doesn't match format \"%Y-%m-%d %H:%M:%S\", at position 0. You might want to try:\n    - passing `format` if your strings have a consistent format;\n    - passing `format='ISO8601'` if your strings are all ISO8601 but not necessarily in exactly the same format;\n    - passing `format='mixed'`, and the format will be inferred for each element individually. You might want to use `dayfirst` alongside this.",
          "output_type": "error",
          "traceback": [
            "\u001b[0;31m---------------------------------------------------------------------------\u001b[0m",
            "\u001b[0;31mValueError\u001b[0m                                Traceback (most recent call last)",
            "Cell \u001b[0;32mIn[23], line 1\u001b[0m\n\u001b[0;32m----> 1\u001b[0m nyc_sales\u001b[38;5;241m.\u001b[39miloc[\u001b[38;5;241m0\u001b[39m, \u001b[38;5;241m20\u001b[39m] \u001b[38;5;241m<\u001b[39m \u001b[43mpd\u001b[49m\u001b[38;5;241;43m.\u001b[39;49m\u001b[43mto_datetime\u001b[49m\u001b[43m(\u001b[49m\u001b[38;5;124;43m'\u001b[39;49m\u001b[38;5;124;43m2020-03-12\u001b[39;49m\u001b[38;5;124;43m'\u001b[39;49m\u001b[43m,\u001b[49m\u001b[43m \u001b[49m\u001b[38;5;28;43mformat\u001b[39;49m\u001b[38;5;241;43m=\u001b[39;49m\u001b[38;5;124;43m'\u001b[39;49m\u001b[38;5;124;43m%\u001b[39;49m\u001b[38;5;124;43mY-\u001b[39;49m\u001b[38;5;124;43m%\u001b[39;49m\u001b[38;5;124;43mm-\u001b[39;49m\u001b[38;5;132;43;01m%d\u001b[39;49;00m\u001b[38;5;124;43m \u001b[39;49m\u001b[38;5;124;43m%\u001b[39;49m\u001b[38;5;124;43mH:\u001b[39;49m\u001b[38;5;124;43m%\u001b[39;49m\u001b[38;5;124;43mM:\u001b[39;49m\u001b[38;5;124;43m%\u001b[39;49m\u001b[38;5;124;43mS\u001b[39;49m\u001b[38;5;124;43m'\u001b[39;49m\u001b[43m)\u001b[49m\n",
            "File \u001b[0;32m~/miniforge3/lib/python3.10/site-packages/pandas/core/tools/datetimes.py:1146\u001b[0m, in \u001b[0;36mto_datetime\u001b[0;34m(arg, errors, dayfirst, yearfirst, utc, format, exact, unit, infer_datetime_format, origin, cache)\u001b[0m\n\u001b[1;32m   1144\u001b[0m         result \u001b[38;5;241m=\u001b[39m convert_listlike(argc, \u001b[38;5;28mformat\u001b[39m)\n\u001b[1;32m   1145\u001b[0m \u001b[38;5;28;01melse\u001b[39;00m:\n\u001b[0;32m-> 1146\u001b[0m     result \u001b[38;5;241m=\u001b[39m \u001b[43mconvert_listlike\u001b[49m\u001b[43m(\u001b[49m\u001b[43mnp\u001b[49m\u001b[38;5;241;43m.\u001b[39;49m\u001b[43marray\u001b[49m\u001b[43m(\u001b[49m\u001b[43m[\u001b[49m\u001b[43marg\u001b[49m\u001b[43m]\u001b[49m\u001b[43m)\u001b[49m\u001b[43m,\u001b[49m\u001b[43m \u001b[49m\u001b[38;5;28;43mformat\u001b[39;49m\u001b[43m)\u001b[49m[\u001b[38;5;241m0\u001b[39m]\n\u001b[1;32m   1147\u001b[0m     \u001b[38;5;28;01mif\u001b[39;00m \u001b[38;5;28misinstance\u001b[39m(arg, \u001b[38;5;28mbool\u001b[39m) \u001b[38;5;129;01mand\u001b[39;00m \u001b[38;5;28misinstance\u001b[39m(result, np\u001b[38;5;241m.\u001b[39mbool_):\n\u001b[1;32m   1148\u001b[0m         result \u001b[38;5;241m=\u001b[39m \u001b[38;5;28mbool\u001b[39m(result)  \u001b[38;5;66;03m# TODO: avoid this kludge.\u001b[39;00m\n",
            "File \u001b[0;32m~/miniforge3/lib/python3.10/site-packages/pandas/core/tools/datetimes.py:488\u001b[0m, in \u001b[0;36m_convert_listlike_datetimes\u001b[0;34m(arg, format, name, utc, unit, errors, dayfirst, yearfirst, exact)\u001b[0m\n\u001b[1;32m    486\u001b[0m \u001b[38;5;66;03m# `format` could be inferred, or user didn't ask for mixed-format parsing.\u001b[39;00m\n\u001b[1;32m    487\u001b[0m \u001b[38;5;28;01mif\u001b[39;00m \u001b[38;5;28mformat\u001b[39m \u001b[38;5;129;01mis\u001b[39;00m \u001b[38;5;129;01mnot\u001b[39;00m \u001b[38;5;28;01mNone\u001b[39;00m \u001b[38;5;129;01mand\u001b[39;00m \u001b[38;5;28mformat\u001b[39m \u001b[38;5;241m!=\u001b[39m \u001b[38;5;124m\"\u001b[39m\u001b[38;5;124mmixed\u001b[39m\u001b[38;5;124m\"\u001b[39m:\n\u001b[0;32m--> 488\u001b[0m     \u001b[38;5;28;01mreturn\u001b[39;00m \u001b[43m_array_strptime_with_fallback\u001b[49m\u001b[43m(\u001b[49m\u001b[43marg\u001b[49m\u001b[43m,\u001b[49m\u001b[43m \u001b[49m\u001b[43mname\u001b[49m\u001b[43m,\u001b[49m\u001b[43m \u001b[49m\u001b[43mutc\u001b[49m\u001b[43m,\u001b[49m\u001b[43m \u001b[49m\u001b[38;5;28;43mformat\u001b[39;49m\u001b[43m,\u001b[49m\u001b[43m \u001b[49m\u001b[43mexact\u001b[49m\u001b[43m,\u001b[49m\u001b[43m \u001b[49m\u001b[43merrors\u001b[49m\u001b[43m)\u001b[49m\n\u001b[1;32m    490\u001b[0m result, tz_parsed \u001b[38;5;241m=\u001b[39m objects_to_datetime64ns(\n\u001b[1;32m    491\u001b[0m     arg,\n\u001b[1;32m    492\u001b[0m     dayfirst\u001b[38;5;241m=\u001b[39mdayfirst,\n\u001b[0;32m   (...)\u001b[0m\n\u001b[1;32m    496\u001b[0m     allow_object\u001b[38;5;241m=\u001b[39m\u001b[38;5;28;01mTrue\u001b[39;00m,\n\u001b[1;32m    497\u001b[0m )\n\u001b[1;32m    499\u001b[0m \u001b[38;5;28;01mif\u001b[39;00m tz_parsed \u001b[38;5;129;01mis\u001b[39;00m \u001b[38;5;129;01mnot\u001b[39;00m \u001b[38;5;28;01mNone\u001b[39;00m:\n\u001b[1;32m    500\u001b[0m     \u001b[38;5;66;03m# We can take a shortcut since the datetime64 numpy array\u001b[39;00m\n\u001b[1;32m    501\u001b[0m     \u001b[38;5;66;03m# is in UTC\u001b[39;00m\n",
            "File \u001b[0;32m~/miniforge3/lib/python3.10/site-packages/pandas/core/tools/datetimes.py:519\u001b[0m, in \u001b[0;36m_array_strptime_with_fallback\u001b[0;34m(arg, name, utc, fmt, exact, errors)\u001b[0m\n\u001b[1;32m    508\u001b[0m \u001b[38;5;28;01mdef\u001b[39;00m \u001b[38;5;21m_array_strptime_with_fallback\u001b[39m(\n\u001b[1;32m    509\u001b[0m     arg,\n\u001b[1;32m    510\u001b[0m     name,\n\u001b[0;32m   (...)\u001b[0m\n\u001b[1;32m    514\u001b[0m     errors: \u001b[38;5;28mstr\u001b[39m,\n\u001b[1;32m    515\u001b[0m ) \u001b[38;5;241m-\u001b[39m\u001b[38;5;241m>\u001b[39m Index:\n\u001b[1;32m    516\u001b[0m \u001b[38;5;250m    \u001b[39m\u001b[38;5;124;03m\"\"\"\u001b[39;00m\n\u001b[1;32m    517\u001b[0m \u001b[38;5;124;03m    Call array_strptime, with fallback behavior depending on 'errors'.\u001b[39;00m\n\u001b[1;32m    518\u001b[0m \u001b[38;5;124;03m    \"\"\"\u001b[39;00m\n\u001b[0;32m--> 519\u001b[0m     result, timezones \u001b[38;5;241m=\u001b[39m \u001b[43marray_strptime\u001b[49m\u001b[43m(\u001b[49m\u001b[43marg\u001b[49m\u001b[43m,\u001b[49m\u001b[43m \u001b[49m\u001b[43mfmt\u001b[49m\u001b[43m,\u001b[49m\u001b[43m \u001b[49m\u001b[43mexact\u001b[49m\u001b[38;5;241;43m=\u001b[39;49m\u001b[43mexact\u001b[49m\u001b[43m,\u001b[49m\u001b[43m \u001b[49m\u001b[43merrors\u001b[49m\u001b[38;5;241;43m=\u001b[39;49m\u001b[43merrors\u001b[49m\u001b[43m,\u001b[49m\u001b[43m \u001b[49m\u001b[43mutc\u001b[49m\u001b[38;5;241;43m=\u001b[39;49m\u001b[43mutc\u001b[49m\u001b[43m)\u001b[49m\n\u001b[1;32m    520\u001b[0m     \u001b[38;5;28;01mif\u001b[39;00m \u001b[38;5;28many\u001b[39m(tz \u001b[38;5;129;01mis\u001b[39;00m \u001b[38;5;129;01mnot\u001b[39;00m \u001b[38;5;28;01mNone\u001b[39;00m \u001b[38;5;28;01mfor\u001b[39;00m tz \u001b[38;5;129;01min\u001b[39;00m timezones):\n\u001b[1;32m    521\u001b[0m         \u001b[38;5;28;01mreturn\u001b[39;00m _return_parsed_timezone_results(result, timezones, utc, name)\n",
            "File \u001b[0;32mstrptime.pyx:534\u001b[0m, in \u001b[0;36mpandas._libs.tslibs.strptime.array_strptime\u001b[0;34m()\u001b[0m\n",
            "File \u001b[0;32mstrptime.pyx:355\u001b[0m, in \u001b[0;36mpandas._libs.tslibs.strptime.array_strptime\u001b[0;34m()\u001b[0m\n",
            "\u001b[0;31mValueError\u001b[0m: time data \"2020-03-12\" doesn't match format \"%Y-%m-%d %H:%M:%S\", at position 0. You might want to try:\n    - passing `format` if your strings have a consistent format;\n    - passing `format='ISO8601'` if your strings are all ISO8601 but not necessarily in exactly the same format;\n    - passing `format='mixed'`, and the format will be inferred for each element individually. You might want to use `dayfirst` alongside this."
          ]
        }
      ],
      "source": [
        "nyc_sales.iloc[0, 20] < pd.to_datetime('2020-03-12', format='%Y-%m-%d %H:%M:%S')"
      ]
    },
    {
      "cell_type": "code",
      "execution_count": null,
      "metadata": {
        "id": "IqN_ahlGLpPi",
        "outputId": "e0636066-334a-46ac-de42-a0b9a2f52ad2"
      },
      "outputs": [
        {
          "data": {
            "text/plain": [
              "Timestamp('2020-03-12 00:00:00')"
            ]
          },
          "execution_count": 25,
          "metadata": {},
          "output_type": "execute_result"
        }
      ],
      "source": [
        "pd.to_datetime('2020-03-12', format='%Y-%m-%d')"
      ]
    },
    {
      "cell_type": "markdown",
      "metadata": {
        "id": "uc5F1DhrLpPj"
      },
      "source": [
        "## E inconsistências com valores númericos usando notação brasileira?"
      ]
    },
    {
      "cell_type": "markdown",
      "metadata": {
        "id": "oGgbd0zxLpPj"
      },
      "source": [
        "Exemplo: vírgula para separar a casa decimal e ponto para milhar"
      ]
    },
    {
      "cell_type": "code",
      "execution_count": null,
      "metadata": {
        "id": "0jdabhKwLpPk"
      },
      "outputs": [],
      "source": [
        "df = pd.DataFrame(data=['1.000,56', '0,34', '1.000.000,00' ], columns=['Valor'])"
      ]
    },
    {
      "cell_type": "code",
      "execution_count": null,
      "metadata": {
        "id": "sNOoRxeALpPk",
        "outputId": "3f5509dd-263c-472c-d8da-e44dcea87320"
      },
      "outputs": [
        {
          "data": {
            "text/html": [
              "<div>\n",
              "<style scoped>\n",
              "    .dataframe tbody tr th:only-of-type {\n",
              "        vertical-align: middle;\n",
              "    }\n",
              "\n",
              "    .dataframe tbody tr th {\n",
              "        vertical-align: top;\n",
              "    }\n",
              "\n",
              "    .dataframe thead th {\n",
              "        text-align: right;\n",
              "    }\n",
              "</style>\n",
              "<table border=\"1\" class=\"dataframe\">\n",
              "  <thead>\n",
              "    <tr style=\"text-align: right;\">\n",
              "      <th></th>\n",
              "      <th>Valor</th>\n",
              "    </tr>\n",
              "  </thead>\n",
              "  <tbody>\n",
              "    <tr>\n",
              "      <th>0</th>\n",
              "      <td>1.000,56</td>\n",
              "    </tr>\n",
              "    <tr>\n",
              "      <th>1</th>\n",
              "      <td>0,34</td>\n",
              "    </tr>\n",
              "    <tr>\n",
              "      <th>2</th>\n",
              "      <td>1.000.000,00</td>\n",
              "    </tr>\n",
              "  </tbody>\n",
              "</table>\n",
              "</div>"
            ],
            "text/plain": [
              "          Valor\n",
              "0      1.000,56\n",
              "1          0,34\n",
              "2  1.000.000,00"
            ]
          },
          "execution_count": 27,
          "metadata": {},
          "output_type": "execute_result"
        }
      ],
      "source": [
        "df.head()"
      ]
    },
    {
      "cell_type": "code",
      "execution_count": null,
      "metadata": {
        "id": "u_DBqm0-LpPk"
      },
      "outputs": [],
      "source": [
        "df.to_csv('teste.csv', index=False)"
      ]
    },
    {
      "cell_type": "code",
      "execution_count": null,
      "metadata": {
        "id": "nL_KKU7yLpPk",
        "outputId": "fe92f4b4-5fdf-47eb-afdc-5eebc0060124"
      },
      "outputs": [
        {
          "name": "stdout",
          "output_type": "stream",
          "text": [
            "<class 'pandas.core.frame.DataFrame'>\n",
            "RangeIndex: 3 entries, 0 to 2\n",
            "Data columns (total 1 columns):\n",
            " #   Column  Non-Null Count  Dtype \n",
            "---  ------  --------------  ----- \n",
            " 0   Valor   3 non-null      object\n",
            "dtypes: object(1)\n",
            "memory usage: 152.0+ bytes\n"
          ]
        }
      ],
      "source": [
        "df = pd.read_csv('teste.csv')\n",
        "df.info()"
      ]
    },
    {
      "cell_type": "code",
      "execution_count": null,
      "metadata": {
        "id": "-J-JurP9LpPl",
        "outputId": "73e4cf6c-2dae-4137-e487-19476189d8e2"
      },
      "outputs": [
        {
          "name": "stdout",
          "output_type": "stream",
          "text": [
            "<class 'pandas.core.frame.DataFrame'>\n",
            "RangeIndex: 3 entries, 0 to 2\n",
            "Data columns (total 1 columns):\n",
            " #   Column  Non-Null Count  Dtype  \n",
            "---  ------  --------------  -----  \n",
            " 0   Valor   3 non-null      float64\n",
            "dtypes: float64(1)\n",
            "memory usage: 152.0 bytes\n"
          ]
        }
      ],
      "source": [
        "df = pd.read_csv('teste.csv', thousands='.', decimal=',')\n",
        "df.info()"
      ]
    },
    {
      "cell_type": "code",
      "execution_count": null,
      "metadata": {
        "id": "jBztrY1_LpPl",
        "outputId": "c455dec2-9564-47be-e1d2-295ae67e0644"
      },
      "outputs": [
        {
          "data": {
            "text/html": [
              "<div>\n",
              "<style scoped>\n",
              "    .dataframe tbody tr th:only-of-type {\n",
              "        vertical-align: middle;\n",
              "    }\n",
              "\n",
              "    .dataframe tbody tr th {\n",
              "        vertical-align: top;\n",
              "    }\n",
              "\n",
              "    .dataframe thead th {\n",
              "        text-align: right;\n",
              "    }\n",
              "</style>\n",
              "<table border=\"1\" class=\"dataframe\">\n",
              "  <thead>\n",
              "    <tr style=\"text-align: right;\">\n",
              "      <th></th>\n",
              "      <th>Valor</th>\n",
              "    </tr>\n",
              "  </thead>\n",
              "  <tbody>\n",
              "    <tr>\n",
              "      <th>0</th>\n",
              "      <td>1000.56</td>\n",
              "    </tr>\n",
              "    <tr>\n",
              "      <th>1</th>\n",
              "      <td>0.34</td>\n",
              "    </tr>\n",
              "    <tr>\n",
              "      <th>2</th>\n",
              "      <td>1000000.00</td>\n",
              "    </tr>\n",
              "  </tbody>\n",
              "</table>\n",
              "</div>"
            ],
            "text/plain": [
              "        Valor\n",
              "0     1000.56\n",
              "1        0.34\n",
              "2  1000000.00"
            ]
          },
          "execution_count": 31,
          "metadata": {},
          "output_type": "execute_result"
        }
      ],
      "source": [
        "df.head()"
      ]
    },
    {
      "cell_type": "markdown",
      "metadata": {
        "id": "szBxFTLRLpPl"
      },
      "source": [
        "## Investigação de Inconsistências"
      ]
    },
    {
      "cell_type": "markdown",
      "metadata": {
        "id": "SE3hKuKULpPm"
      },
      "source": [
        "* Datas fora do range\n",
        "* Valores zerados de feet² ou preço de venda\n",
        "* Valores negativos de preço ou feet²"
      ]
    },
    {
      "cell_type": "code",
      "execution_count": null,
      "metadata": {
        "id": "Gg9IFkocLpPn",
        "outputId": "e2509421-959c-46fe-c97e-7ce6104174c4"
      },
      "outputs": [
        {
          "data": {
            "text/plain": [
              "0"
            ]
          },
          "execution_count": 32,
          "metadata": {},
          "output_type": "execute_result"
        }
      ],
      "source": [
        "# Checando se há datas maiores que hoje\n",
        "(nyc_sales['SALE DATE'] > '2020-03-12').sum()"
      ]
    },
    {
      "cell_type": "code",
      "execution_count": null,
      "metadata": {
        "id": "GFKRnNiFLpPn",
        "outputId": "386a01c5-f868-4583-a0a9-37703a56f0f1"
      },
      "outputs": [
        {
          "data": {
            "text/plain": [
              "0"
            ]
          },
          "execution_count": 33,
          "metadata": {},
          "output_type": "execute_result"
        }
      ],
      "source": [
        "# Checando se há SALE PRICE <= 0\n",
        "(nyc_sales['SALE PRICE'] <= 0).sum()"
      ]
    },
    {
      "cell_type": "code",
      "execution_count": null,
      "metadata": {
        "id": "HXEZU7ypLpPo",
        "outputId": "e27c3df1-91d2-4c18-d7ea-c5120ca68e1d"
      },
      "outputs": [
        {
          "name": "stdout",
          "output_type": "stream",
          "text": [
            "SALE PRICE OK\n",
            "LAND SQUARE FEET OK\n",
            "GROSS SQUARE FEET OK\n"
          ]
        }
      ],
      "source": [
        "# Checando as outras colunas\n",
        "for coluna in ['SALE PRICE', 'LAND SQUARE FEET', 'GROSS SQUARE FEET']:\n",
        "\n",
        "    if (nyc_sales[coluna] <= 0).sum() > 0:\n",
        "        print(f'{coluna} com registros inconsistentes')\n",
        "    else:\n",
        "        print(f'{coluna} OK')"
      ]
    },
    {
      "cell_type": "markdown",
      "metadata": {
        "id": "X280xbPPLpPo"
      },
      "source": [
        "## Dados faltosos"
      ]
    },
    {
      "cell_type": "markdown",
      "metadata": {
        "id": "YsatbP1WLpPo"
      },
      "source": [
        "Os dados faltosos podem ter diversas origens:\n",
        "* Erros de inserção (erro em banco)\n",
        "* Erros humanos\n",
        "* Erros de medição (sensores)\n",
        "* Falhas em Equipamentos\n",
        "\n",
        "Além disso, eles podem ser classificados da seguinte forma\n",
        "* Missing Completely At Random (MCAR): Os dados não tem relação nenhuma com qualquer dado do dataset. Ou seja, a probabilidade do dado faltoso existir não está associada a ausência ou presença de uma outra informação ou do próprio valor da coluna.\n",
        "* Missing At Random (MAR): A probabilide de um valor faltoso ocorrer está associada a outra informação do dataset.\n",
        "* Missing Not at Random (MNAR): Os dados faltosos tem a ver com o próprio valor."
      ]
    },
    {
      "cell_type": "markdown",
      "metadata": {
        "id": "1mLX79zRLpPp"
      },
      "source": [
        "**Tratamento**\n",
        "\n",
        "Quando um dado faltoso surge por meio de um join numa tabela, quase sempre conseguimos preencher o dado faltoso com um valor que faz sentido.\n",
        "Ex.: Saque de conta. Nem todos os clientes fazem saque em um mês. Dessa forma, podemos preencher o valor faltoso na coluna de saque para um cliente que não realizou saque como 0.\n",
        "\n",
        "Quase nunca a opção de deletar tudo é a melhor, pois podem surgir alguns problemas, como:\n",
        "* Introdução de viés\n",
        "* Perda de informação\n",
        "\n",
        "Alguns métodos de tratamento de dados faltosos:\n",
        "* Deleção\n",
        "* Preenchimento com estatísticas (moda para categóricos, mediana ou média para numéricos)\n",
        "* Preenchimento por meio de um modelo (KNN, Árvore de Decisão)\n",
        "* Preenchimento com regra de negócio"
      ]
    },
    {
      "cell_type": "code",
      "execution_count": null,
      "metadata": {
        "id": "dx5sAvknLpPp",
        "outputId": "e52ce603-c234-4502-dc26-017bf8d90282"
      },
      "outputs": [
        {
          "data": {
            "text/plain": [
              "BOROUGH                           0.000000\n",
              "NEIGHBORHOOD                      0.000000\n",
              "BUILDING CLASS CATEGORY           0.000000\n",
              "TAX CLASS AT PRESENT              0.000000\n",
              "BLOCK                             0.000000\n",
              "LOT                               0.000000\n",
              "EASE-MENT                         0.000000\n",
              "BUILDING CLASS AT PRESENT         0.000000\n",
              "ADDRESS                           0.000000\n",
              "APARTMENT NUMBER                  0.931634\n",
              "ZIP CODE                          0.000000\n",
              "RESIDENTIAL UNITS                 0.000000\n",
              "COMMERCIAL UNITS                  0.000000\n",
              "TOTAL UNITS                       0.000000\n",
              "LAND SQUARE FEET                  0.897628\n",
              "GROSS SQUARE FEET                 0.904134\n",
              "YEAR BUILT                        0.000000\n",
              "TAX CLASS AT TIME OF SALE         0.000000\n",
              "BUILDING CLASS AT TIME OF SALE    0.000000\n",
              "SALE PRICE                        0.207818\n",
              "SALE DATE                         0.000000\n",
              "dtype: float64"
            ]
          },
          "execution_count": 35,
          "metadata": {},
          "output_type": "execute_result"
        }
      ],
      "source": [
        "# Soma por meio das colunas\n",
        "nyc_sales.isnull().sum()/len(nyc_sales)"
      ]
    },
    {
      "cell_type": "code",
      "execution_count": null,
      "metadata": {
        "id": "Vm1Ihy1bLpPp",
        "outputId": "6e9ba0ae-6ac0-49f6-d7f0-70db65241fed"
      },
      "outputs": [
        {
          "data": {
            "text/html": [
              "<div>\n",
              "<style scoped>\n",
              "    .dataframe tbody tr th:only-of-type {\n",
              "        vertical-align: middle;\n",
              "    }\n",
              "\n",
              "    .dataframe tbody tr th {\n",
              "        vertical-align: top;\n",
              "    }\n",
              "\n",
              "    .dataframe thead th {\n",
              "        text-align: right;\n",
              "    }\n",
              "</style>\n",
              "<table border=\"1\" class=\"dataframe\">\n",
              "  <thead>\n",
              "    <tr style=\"text-align: right;\">\n",
              "      <th></th>\n",
              "      <th>A</th>\n",
              "      <th>B</th>\n",
              "      <th>C</th>\n",
              "      <th>D</th>\n",
              "      <th>E</th>\n",
              "    </tr>\n",
              "  </thead>\n",
              "  <tbody>\n",
              "    <tr>\n",
              "      <th>0</th>\n",
              "      <td>NaN</td>\n",
              "      <td>1.0</td>\n",
              "      <td>2</td>\n",
              "      <td>NaN</td>\n",
              "      <td>5.0</td>\n",
              "    </tr>\n",
              "    <tr>\n",
              "      <th>1</th>\n",
              "      <td>6.0</td>\n",
              "      <td>7.0</td>\n",
              "      <td>8</td>\n",
              "      <td>9.0</td>\n",
              "      <td>NaN</td>\n",
              "    </tr>\n",
              "    <tr>\n",
              "      <th>2</th>\n",
              "      <td>NaN</td>\n",
              "      <td>NaN</td>\n",
              "      <td>4</td>\n",
              "      <td>11.0</td>\n",
              "      <td>12.0</td>\n",
              "    </tr>\n",
              "  </tbody>\n",
              "</table>\n",
              "</div>"
            ],
            "text/plain": [
              "     A    B  C     D     E\n",
              "0  NaN  1.0  2   NaN   5.0\n",
              "1  6.0  7.0  8   9.0   NaN\n",
              "2  NaN  NaN  4  11.0  12.0"
            ]
          },
          "execution_count": 36,
          "metadata": {},
          "output_type": "execute_result"
        }
      ],
      "source": [
        "df = pd.DataFrame(data= [ [np.nan, 1, 2, np.nan, 5], [6, 7, 8, 9, np.nan ], [np.nan, np.nan, 4, 11, 12 ]   ], columns=['A', 'B', 'C', 'D', 'E'] )\n",
        "df.head()"
      ]
    },
    {
      "cell_type": "code",
      "execution_count": null,
      "metadata": {
        "id": "z8JH6lrRLpPq",
        "outputId": "9b2e2df9-a82e-46c5-d8dd-258054fb1abe"
      },
      "outputs": [
        {
          "data": {
            "text/html": [
              "<div>\n",
              "<style scoped>\n",
              "    .dataframe tbody tr th:only-of-type {\n",
              "        vertical-align: middle;\n",
              "    }\n",
              "\n",
              "    .dataframe tbody tr th {\n",
              "        vertical-align: top;\n",
              "    }\n",
              "\n",
              "    .dataframe thead th {\n",
              "        text-align: right;\n",
              "    }\n",
              "</style>\n",
              "<table border=\"1\" class=\"dataframe\">\n",
              "  <thead>\n",
              "    <tr style=\"text-align: right;\">\n",
              "      <th></th>\n",
              "      <th>B</th>\n",
              "      <th>C</th>\n",
              "      <th>D</th>\n",
              "      <th>E</th>\n",
              "    </tr>\n",
              "  </thead>\n",
              "  <tbody>\n",
              "    <tr>\n",
              "      <th>0</th>\n",
              "      <td>1.0</td>\n",
              "      <td>2</td>\n",
              "      <td>NaN</td>\n",
              "      <td>5.0</td>\n",
              "    </tr>\n",
              "    <tr>\n",
              "      <th>1</th>\n",
              "      <td>7.0</td>\n",
              "      <td>8</td>\n",
              "      <td>9.0</td>\n",
              "      <td>NaN</td>\n",
              "    </tr>\n",
              "    <tr>\n",
              "      <th>2</th>\n",
              "      <td>NaN</td>\n",
              "      <td>4</td>\n",
              "      <td>11.0</td>\n",
              "      <td>12.0</td>\n",
              "    </tr>\n",
              "  </tbody>\n",
              "</table>\n",
              "</div>"
            ],
            "text/plain": [
              "     B  C     D     E\n",
              "0  1.0  2   NaN   5.0\n",
              "1  7.0  8   9.0   NaN\n",
              "2  NaN  4  11.0  12.0"
            ]
          },
          "execution_count": 37,
          "metadata": {},
          "output_type": "execute_result"
        }
      ],
      "source": [
        "df.dropna(thresh=2, axis=1)"
      ]
    },
    {
      "cell_type": "code",
      "execution_count": null,
      "metadata": {
        "id": "44Jd0oY6LpPq",
        "outputId": "f02c4136-e9d4-4e74-96da-fff2540885fb"
      },
      "outputs": [
        {
          "data": {
            "text/html": [
              "<div>\n",
              "<style scoped>\n",
              "    .dataframe tbody tr th:only-of-type {\n",
              "        vertical-align: middle;\n",
              "    }\n",
              "\n",
              "    .dataframe tbody tr th {\n",
              "        vertical-align: top;\n",
              "    }\n",
              "\n",
              "    .dataframe thead th {\n",
              "        text-align: right;\n",
              "    }\n",
              "</style>\n",
              "<table border=\"1\" class=\"dataframe\">\n",
              "  <thead>\n",
              "    <tr style=\"text-align: right;\">\n",
              "      <th></th>\n",
              "      <th>B</th>\n",
              "      <th>C</th>\n",
              "      <th>D</th>\n",
              "      <th>E</th>\n",
              "    </tr>\n",
              "  </thead>\n",
              "  <tbody>\n",
              "    <tr>\n",
              "      <th>0</th>\n",
              "      <td>1.0</td>\n",
              "      <td>2</td>\n",
              "      <td>NaN</td>\n",
              "      <td>5.0</td>\n",
              "    </tr>\n",
              "    <tr>\n",
              "      <th>1</th>\n",
              "      <td>7.0</td>\n",
              "      <td>8</td>\n",
              "      <td>9.0</td>\n",
              "      <td>NaN</td>\n",
              "    </tr>\n",
              "    <tr>\n",
              "      <th>2</th>\n",
              "      <td>NaN</td>\n",
              "      <td>4</td>\n",
              "      <td>11.0</td>\n",
              "      <td>12.0</td>\n",
              "    </tr>\n",
              "  </tbody>\n",
              "</table>\n",
              "</div>"
            ],
            "text/plain": [
              "     B  C     D     E\n",
              "0  1.0  2   NaN   5.0\n",
              "1  7.0  8   9.0   NaN\n",
              "2  NaN  4  11.0  12.0"
            ]
          },
          "execution_count": 38,
          "metadata": {},
          "output_type": "execute_result"
        }
      ],
      "source": [
        "porcentagem = 60\n",
        "df.dropna(thresh=porcentagem*(len(df)/100), axis=1)"
      ]
    },
    {
      "cell_type": "code",
      "execution_count": null,
      "metadata": {
        "id": "ES1QkbogLpPr",
        "outputId": "e5e178d9-9ed4-4c55-cc95-b5b54201c3cc"
      },
      "outputs": [
        {
          "data": {
            "text/plain": [
              "1.7999999999999998"
            ]
          },
          "execution_count": 39,
          "metadata": {},
          "output_type": "execute_result"
        }
      ],
      "source": [
        "porcentagem*(len(df)/100)"
      ]
    },
    {
      "cell_type": "code",
      "execution_count": null,
      "metadata": {
        "id": "ZWfw6iG3LpPr",
        "outputId": "0b6754ae-136d-4346-82ff-2417b7dcb679"
      },
      "outputs": [
        {
          "data": {
            "text/html": [
              "<div>\n",
              "<style scoped>\n",
              "    .dataframe tbody tr th:only-of-type {\n",
              "        vertical-align: middle;\n",
              "    }\n",
              "\n",
              "    .dataframe tbody tr th {\n",
              "        vertical-align: top;\n",
              "    }\n",
              "\n",
              "    .dataframe thead th {\n",
              "        text-align: right;\n",
              "    }\n",
              "</style>\n",
              "<table border=\"1\" class=\"dataframe\">\n",
              "  <thead>\n",
              "    <tr style=\"text-align: right;\">\n",
              "      <th></th>\n",
              "      <th>A</th>\n",
              "      <th>B</th>\n",
              "      <th>C</th>\n",
              "      <th>D</th>\n",
              "      <th>E</th>\n",
              "    </tr>\n",
              "  </thead>\n",
              "  <tbody>\n",
              "    <tr>\n",
              "      <th>0</th>\n",
              "      <td>NaN</td>\n",
              "      <td>1.0</td>\n",
              "      <td>2</td>\n",
              "      <td>NaN</td>\n",
              "      <td>5.0</td>\n",
              "    </tr>\n",
              "    <tr>\n",
              "      <th>1</th>\n",
              "      <td>6.0</td>\n",
              "      <td>7.0</td>\n",
              "      <td>8</td>\n",
              "      <td>9.0</td>\n",
              "      <td>NaN</td>\n",
              "    </tr>\n",
              "    <tr>\n",
              "      <th>2</th>\n",
              "      <td>NaN</td>\n",
              "      <td>NaN</td>\n",
              "      <td>4</td>\n",
              "      <td>11.0</td>\n",
              "      <td>12.0</td>\n",
              "    </tr>\n",
              "  </tbody>\n",
              "</table>\n",
              "</div>"
            ],
            "text/plain": [
              "     A    B  C     D     E\n",
              "0  NaN  1.0  2   NaN   5.0\n",
              "1  6.0  7.0  8   9.0   NaN\n",
              "2  NaN  NaN  4  11.0  12.0"
            ]
          },
          "execution_count": 40,
          "metadata": {},
          "output_type": "execute_result"
        }
      ],
      "source": [
        "df.head()"
      ]
    },
    {
      "cell_type": "code",
      "execution_count": null,
      "metadata": {
        "id": "ADGt6cnHLpPs",
        "outputId": "544d9f3e-57c3-4e6c-e4f0-595d6bc1f44e"
      },
      "outputs": [
        {
          "data": {
            "text/html": [
              "<div>\n",
              "<style scoped>\n",
              "    .dataframe tbody tr th:only-of-type {\n",
              "        vertical-align: middle;\n",
              "    }\n",
              "\n",
              "    .dataframe tbody tr th {\n",
              "        vertical-align: top;\n",
              "    }\n",
              "\n",
              "    .dataframe thead th {\n",
              "        text-align: right;\n",
              "    }\n",
              "</style>\n",
              "<table border=\"1\" class=\"dataframe\">\n",
              "  <thead>\n",
              "    <tr style=\"text-align: right;\">\n",
              "      <th></th>\n",
              "      <th>A</th>\n",
              "      <th>B</th>\n",
              "      <th>C</th>\n",
              "      <th>D</th>\n",
              "      <th>E</th>\n",
              "    </tr>\n",
              "  </thead>\n",
              "  <tbody>\n",
              "    <tr>\n",
              "      <th>0</th>\n",
              "      <td>0.0</td>\n",
              "      <td>1.0</td>\n",
              "      <td>2</td>\n",
              "      <td>0.0</td>\n",
              "      <td>5.0</td>\n",
              "    </tr>\n",
              "    <tr>\n",
              "      <th>1</th>\n",
              "      <td>6.0</td>\n",
              "      <td>7.0</td>\n",
              "      <td>8</td>\n",
              "      <td>9.0</td>\n",
              "      <td>0.0</td>\n",
              "    </tr>\n",
              "    <tr>\n",
              "      <th>2</th>\n",
              "      <td>0.0</td>\n",
              "      <td>0.0</td>\n",
              "      <td>4</td>\n",
              "      <td>11.0</td>\n",
              "      <td>12.0</td>\n",
              "    </tr>\n",
              "  </tbody>\n",
              "</table>\n",
              "</div>"
            ],
            "text/plain": [
              "     A    B  C     D     E\n",
              "0  0.0  1.0  2   0.0   5.0\n",
              "1  6.0  7.0  8   9.0   0.0\n",
              "2  0.0  0.0  4  11.0  12.0"
            ]
          },
          "execution_count": 41,
          "metadata": {},
          "output_type": "execute_result"
        }
      ],
      "source": [
        "df.fillna(0)"
      ]
    },
    {
      "cell_type": "code",
      "execution_count": null,
      "metadata": {
        "id": "X5f6nI0XLpPs",
        "outputId": "f19f22c1-dbc6-4f5b-af15-dbaa99c1f158"
      },
      "outputs": [
        {
          "data": {
            "text/html": [
              "<div>\n",
              "<style scoped>\n",
              "    .dataframe tbody tr th:only-of-type {\n",
              "        vertical-align: middle;\n",
              "    }\n",
              "\n",
              "    .dataframe tbody tr th {\n",
              "        vertical-align: top;\n",
              "    }\n",
              "\n",
              "    .dataframe thead th {\n",
              "        text-align: right;\n",
              "    }\n",
              "</style>\n",
              "<table border=\"1\" class=\"dataframe\">\n",
              "  <thead>\n",
              "    <tr style=\"text-align: right;\">\n",
              "      <th></th>\n",
              "      <th>A</th>\n",
              "      <th>B</th>\n",
              "      <th>C</th>\n",
              "      <th>D</th>\n",
              "      <th>E</th>\n",
              "    </tr>\n",
              "  </thead>\n",
              "  <tbody>\n",
              "    <tr>\n",
              "      <th>0</th>\n",
              "      <td>6.0</td>\n",
              "      <td>1.0</td>\n",
              "      <td>2</td>\n",
              "      <td>NaN</td>\n",
              "      <td>5.0</td>\n",
              "    </tr>\n",
              "    <tr>\n",
              "      <th>1</th>\n",
              "      <td>6.0</td>\n",
              "      <td>7.0</td>\n",
              "      <td>8</td>\n",
              "      <td>9.0</td>\n",
              "      <td>NaN</td>\n",
              "    </tr>\n",
              "    <tr>\n",
              "      <th>2</th>\n",
              "      <td>6.0</td>\n",
              "      <td>0.0</td>\n",
              "      <td>4</td>\n",
              "      <td>11.0</td>\n",
              "      <td>12.0</td>\n",
              "    </tr>\n",
              "  </tbody>\n",
              "</table>\n",
              "</div>"
            ],
            "text/plain": [
              "     A    B  C     D     E\n",
              "0  6.0  1.0  2   NaN   5.0\n",
              "1  6.0  7.0  8   9.0   NaN\n",
              "2  6.0  0.0  4  11.0  12.0"
            ]
          },
          "execution_count": 42,
          "metadata": {},
          "output_type": "execute_result"
        }
      ],
      "source": [
        "df.fillna({'A':np.mean(df['A']), 'B':0 })"
      ]
    },
    {
      "cell_type": "markdown",
      "metadata": {
        "id": "olUE-9g0LpPs"
      },
      "source": [
        "Algumas boas práticas:\n",
        "* Criar Null Categórico para a coluna (funciona para numéricas e categóricas)\n",
        "* Não fazer dropna de cara."
      ]
    },
    {
      "cell_type": "markdown",
      "metadata": {
        "id": "tYTFfj9wLpPs"
      },
      "source": [
        "Opções de Tratamento:\n",
        "* Deletar as colunas Land Square Feet, Gross Square Feet e Apartment Number e acrescentar uma coluna Null Categórica.\n",
        "* Manter a coluna e categorizar (faixas de valores), acrescentando o Null Categórico"
      ]
    },
    {
      "cell_type": "code",
      "execution_count": null,
      "metadata": {
        "id": "0DfdWReuLpPs"
      },
      "outputs": [],
      "source": [
        "nyc_sales['IS_NULL_APARTMENT_NUMBER'] = False\n",
        "# como setar os valores?\n",
        "nyc_sales.loc[ nyc_sales['APARTMENT NUMBER'].isnull(),  'IS_NULL_APARTMENT_NUMBER'] = True"
      ]
    },
    {
      "cell_type": "code",
      "execution_count": null,
      "metadata": {
        "id": "ctC9MRjVLpPt",
        "outputId": "928fd0d5-4799-49ab-e0f0-9fa4d35fa6da"
      },
      "outputs": [
        {
          "data": {
            "text/html": [
              "<div>\n",
              "<style scoped>\n",
              "    .dataframe tbody tr th:only-of-type {\n",
              "        vertical-align: middle;\n",
              "    }\n",
              "\n",
              "    .dataframe tbody tr th {\n",
              "        vertical-align: top;\n",
              "    }\n",
              "\n",
              "    .dataframe thead th {\n",
              "        text-align: right;\n",
              "    }\n",
              "</style>\n",
              "<table border=\"1\" class=\"dataframe\">\n",
              "  <thead>\n",
              "    <tr style=\"text-align: right;\">\n",
              "      <th></th>\n",
              "      <th>BOROUGH</th>\n",
              "      <th>NEIGHBORHOOD</th>\n",
              "      <th>BUILDING CLASS CATEGORY</th>\n",
              "      <th>TAX CLASS AT PRESENT</th>\n",
              "      <th>BLOCK</th>\n",
              "      <th>LOT</th>\n",
              "      <th>EASE-MENT</th>\n",
              "      <th>BUILDING CLASS AT PRESENT</th>\n",
              "      <th>ADDRESS</th>\n",
              "      <th>APARTMENT NUMBER</th>\n",
              "      <th>...</th>\n",
              "      <th>COMMERCIAL UNITS</th>\n",
              "      <th>TOTAL UNITS</th>\n",
              "      <th>LAND SQUARE FEET</th>\n",
              "      <th>GROSS SQUARE FEET</th>\n",
              "      <th>YEAR BUILT</th>\n",
              "      <th>TAX CLASS AT TIME OF SALE</th>\n",
              "      <th>BUILDING CLASS AT TIME OF SALE</th>\n",
              "      <th>SALE PRICE</th>\n",
              "      <th>SALE DATE</th>\n",
              "      <th>IS_NULL_APARTMENT_NUMBER</th>\n",
              "    </tr>\n",
              "  </thead>\n",
              "  <tbody>\n",
              "    <tr>\n",
              "      <th>0</th>\n",
              "      <td>Manhatan</td>\n",
              "      <td>ALPHABET CITY</td>\n",
              "      <td>07 RENTALS - WALKUP APARTMENTS</td>\n",
              "      <td>2A</td>\n",
              "      <td>392</td>\n",
              "      <td>6</td>\n",
              "      <td></td>\n",
              "      <td>C2</td>\n",
              "      <td>153 AVENUE B</td>\n",
              "      <td>NaN</td>\n",
              "      <td>...</td>\n",
              "      <td>0</td>\n",
              "      <td>5</td>\n",
              "      <td>1633.0</td>\n",
              "      <td>6440.0</td>\n",
              "      <td>1900</td>\n",
              "      <td>2</td>\n",
              "      <td>C2</td>\n",
              "      <td>6625000.0</td>\n",
              "      <td>2017-07-19</td>\n",
              "      <td>True</td>\n",
              "    </tr>\n",
              "    <tr>\n",
              "      <th>1</th>\n",
              "      <td>Manhatan</td>\n",
              "      <td>ALPHABET CITY</td>\n",
              "      <td>07 RENTALS - WALKUP APARTMENTS</td>\n",
              "      <td>2</td>\n",
              "      <td>399</td>\n",
              "      <td>26</td>\n",
              "      <td></td>\n",
              "      <td>C7</td>\n",
              "      <td>234 EAST 4TH   STREET</td>\n",
              "      <td>NaN</td>\n",
              "      <td>...</td>\n",
              "      <td>3</td>\n",
              "      <td>31</td>\n",
              "      <td>4616.0</td>\n",
              "      <td>18690.0</td>\n",
              "      <td>1900</td>\n",
              "      <td>2</td>\n",
              "      <td>C7</td>\n",
              "      <td>NaN</td>\n",
              "      <td>2016-12-14</td>\n",
              "      <td>True</td>\n",
              "    </tr>\n",
              "    <tr>\n",
              "      <th>2</th>\n",
              "      <td>Manhatan</td>\n",
              "      <td>ALPHABET CITY</td>\n",
              "      <td>07 RENTALS - WALKUP APARTMENTS</td>\n",
              "      <td>2</td>\n",
              "      <td>399</td>\n",
              "      <td>39</td>\n",
              "      <td></td>\n",
              "      <td>C7</td>\n",
              "      <td>197 EAST 3RD   STREET</td>\n",
              "      <td>NaN</td>\n",
              "      <td>...</td>\n",
              "      <td>1</td>\n",
              "      <td>17</td>\n",
              "      <td>2212.0</td>\n",
              "      <td>7803.0</td>\n",
              "      <td>1900</td>\n",
              "      <td>2</td>\n",
              "      <td>C7</td>\n",
              "      <td>NaN</td>\n",
              "      <td>2016-12-09</td>\n",
              "      <td>True</td>\n",
              "    </tr>\n",
              "    <tr>\n",
              "      <th>3</th>\n",
              "      <td>Manhatan</td>\n",
              "      <td>ALPHABET CITY</td>\n",
              "      <td>07 RENTALS - WALKUP APARTMENTS</td>\n",
              "      <td>2B</td>\n",
              "      <td>402</td>\n",
              "      <td>21</td>\n",
              "      <td></td>\n",
              "      <td>C4</td>\n",
              "      <td>154 EAST 7TH STREET</td>\n",
              "      <td>NaN</td>\n",
              "      <td>...</td>\n",
              "      <td>0</td>\n",
              "      <td>10</td>\n",
              "      <td>2272.0</td>\n",
              "      <td>6794.0</td>\n",
              "      <td>1913</td>\n",
              "      <td>2</td>\n",
              "      <td>C4</td>\n",
              "      <td>3936272.0</td>\n",
              "      <td>2016-09-23</td>\n",
              "      <td>True</td>\n",
              "    </tr>\n",
              "    <tr>\n",
              "      <th>4</th>\n",
              "      <td>Manhatan</td>\n",
              "      <td>ALPHABET CITY</td>\n",
              "      <td>07 RENTALS - WALKUP APARTMENTS</td>\n",
              "      <td>2A</td>\n",
              "      <td>404</td>\n",
              "      <td>55</td>\n",
              "      <td></td>\n",
              "      <td>C2</td>\n",
              "      <td>301 EAST 10TH   STREET</td>\n",
              "      <td>NaN</td>\n",
              "      <td>...</td>\n",
              "      <td>0</td>\n",
              "      <td>6</td>\n",
              "      <td>2369.0</td>\n",
              "      <td>4615.0</td>\n",
              "      <td>1900</td>\n",
              "      <td>2</td>\n",
              "      <td>C2</td>\n",
              "      <td>8000000.0</td>\n",
              "      <td>2016-11-17</td>\n",
              "      <td>True</td>\n",
              "    </tr>\n",
              "  </tbody>\n",
              "</table>\n",
              "<p>5 rows × 22 columns</p>\n",
              "</div>"
            ],
            "text/plain": [
              "    BOROUGH   NEIGHBORHOOD                      BUILDING CLASS CATEGORY  \\\n",
              "0  Manhatan  ALPHABET CITY  07 RENTALS - WALKUP APARTMENTS                \n",
              "1  Manhatan  ALPHABET CITY  07 RENTALS - WALKUP APARTMENTS                \n",
              "2  Manhatan  ALPHABET CITY  07 RENTALS - WALKUP APARTMENTS                \n",
              "3  Manhatan  ALPHABET CITY  07 RENTALS - WALKUP APARTMENTS                \n",
              "4  Manhatan  ALPHABET CITY  07 RENTALS - WALKUP APARTMENTS                \n",
              "\n",
              "  TAX CLASS AT PRESENT BLOCK LOT EASE-MENT BUILDING CLASS AT PRESENT  \\\n",
              "0                   2A   392   6                                  C2   \n",
              "1                    2   399  26                                  C7   \n",
              "2                    2   399  39                                  C7   \n",
              "3                   2B   402  21                                  C4   \n",
              "4                   2A   404  55                                  C2   \n",
              "\n",
              "                  ADDRESS  APARTMENT NUMBER  ...  COMMERCIAL UNITS  \\\n",
              "0            153 AVENUE B               NaN  ...                 0   \n",
              "1   234 EAST 4TH   STREET               NaN  ...                 3   \n",
              "2   197 EAST 3RD   STREET               NaN  ...                 1   \n",
              "3     154 EAST 7TH STREET               NaN  ...                 0   \n",
              "4  301 EAST 10TH   STREET               NaN  ...                 0   \n",
              "\n",
              "   TOTAL UNITS  LAND SQUARE FEET  GROSS SQUARE FEET  YEAR BUILT  \\\n",
              "0            5            1633.0             6440.0        1900   \n",
              "1           31            4616.0            18690.0        1900   \n",
              "2           17            2212.0             7803.0        1900   \n",
              "3           10            2272.0             6794.0        1913   \n",
              "4            6            2369.0             4615.0        1900   \n",
              "\n",
              "   TAX CLASS AT TIME OF SALE  BUILDING CLASS AT TIME OF SALE SALE PRICE  \\\n",
              "0                          2                              C2  6625000.0   \n",
              "1                          2                              C7        NaN   \n",
              "2                          2                              C7        NaN   \n",
              "3                          2                              C4  3936272.0   \n",
              "4                          2                              C2  8000000.0   \n",
              "\n",
              "   SALE DATE  IS_NULL_APARTMENT_NUMBER  \n",
              "0 2017-07-19                      True  \n",
              "1 2016-12-14                      True  \n",
              "2 2016-12-09                      True  \n",
              "3 2016-09-23                      True  \n",
              "4 2016-11-17                      True  \n",
              "\n",
              "[5 rows x 22 columns]"
            ]
          },
          "execution_count": 44,
          "metadata": {},
          "output_type": "execute_result"
        }
      ],
      "source": [
        "nyc_sales.head()"
      ]
    },
    {
      "cell_type": "markdown",
      "metadata": {
        "id": "WrmbSdpULpPt"
      },
      "source": [
        "Vamos criar uma coluna com faixa de valores e o null categórico, usando a função ```pd.cut```"
      ]
    },
    {
      "cell_type": "code",
      "execution_count": null,
      "metadata": {
        "id": "8BIO8GYJLpPt",
        "outputId": "4db45e3f-96e1-44a2-bd92-320c5b6cdf1b"
      },
      "outputs": [
        {
          "data": {
            "text/html": [
              "<div>\n",
              "<style scoped>\n",
              "    .dataframe tbody tr th:only-of-type {\n",
              "        vertical-align: middle;\n",
              "    }\n",
              "\n",
              "    .dataframe tbody tr th {\n",
              "        vertical-align: top;\n",
              "    }\n",
              "\n",
              "    .dataframe thead th {\n",
              "        text-align: right;\n",
              "    }\n",
              "</style>\n",
              "<table border=\"1\" class=\"dataframe\">\n",
              "  <thead>\n",
              "    <tr style=\"text-align: right;\">\n",
              "      <th></th>\n",
              "      <th>APARTMENT NUMBER</th>\n",
              "      <th>ZIP CODE</th>\n",
              "      <th>RESIDENTIAL UNITS</th>\n",
              "      <th>COMMERCIAL UNITS</th>\n",
              "      <th>TOTAL UNITS</th>\n",
              "      <th>LAND SQUARE FEET</th>\n",
              "      <th>GROSS SQUARE FEET</th>\n",
              "      <th>YEAR BUILT</th>\n",
              "      <th>SALE PRICE</th>\n",
              "      <th>SALE DATE</th>\n",
              "    </tr>\n",
              "  </thead>\n",
              "  <tbody>\n",
              "    <tr>\n",
              "      <th>count</th>\n",
              "      <td>1156.000000</td>\n",
              "      <td>16909.000000</td>\n",
              "      <td>16909.000000</td>\n",
              "      <td>16909.000000</td>\n",
              "      <td>16909.000000</td>\n",
              "      <td>1731.000000</td>\n",
              "      <td>1.621000e+03</td>\n",
              "      <td>16909.000000</td>\n",
              "      <td>1.339500e+04</td>\n",
              "      <td>16909</td>\n",
              "    </tr>\n",
              "    <tr>\n",
              "      <th>mean</th>\n",
              "      <td>1796.000144</td>\n",
              "      <td>9905.031285</td>\n",
              "      <td>2.240641</td>\n",
              "      <td>0.319061</td>\n",
              "      <td>2.604885</td>\n",
              "      <td>5531.335644</td>\n",
              "      <td>3.674074e+04</td>\n",
              "      <td>1701.808504</td>\n",
              "      <td>3.444463e+06</td>\n",
              "      <td>2017-03-01 00:01:21.755278080</td>\n",
              "    </tr>\n",
              "    <tr>\n",
              "      <th>min</th>\n",
              "      <td>0.000000</td>\n",
              "      <td>0.000000</td>\n",
              "      <td>0.000000</td>\n",
              "      <td>0.000000</td>\n",
              "      <td>0.000000</td>\n",
              "      <td>88.000000</td>\n",
              "      <td>2.250000e+02</td>\n",
              "      <td>0.000000</td>\n",
              "      <td>1.000000e+00</td>\n",
              "      <td>2016-09-01 00:00:00</td>\n",
              "    </tr>\n",
              "    <tr>\n",
              "      <th>25%</th>\n",
              "      <td>153.750000</td>\n",
              "      <td>10012.000000</td>\n",
              "      <td>0.000000</td>\n",
              "      <td>0.000000</td>\n",
              "      <td>0.000000</td>\n",
              "      <td>1851.000000</td>\n",
              "      <td>4.120000e+03</td>\n",
              "      <td>1910.000000</td>\n",
              "      <td>6.750000e+05</td>\n",
              "      <td>2016-12-01 00:00:00</td>\n",
              "    </tr>\n",
              "    <tr>\n",
              "      <th>50%</th>\n",
              "      <td>531.000000</td>\n",
              "      <td>10021.000000</td>\n",
              "      <td>0.000000</td>\n",
              "      <td>0.000000</td>\n",
              "      <td>1.000000</td>\n",
              "      <td>2498.000000</td>\n",
              "      <td>8.120000e+03</td>\n",
              "      <td>1940.000000</td>\n",
              "      <td>1.190000e+06</td>\n",
              "      <td>2017-03-01 00:00:00</td>\n",
              "    </tr>\n",
              "    <tr>\n",
              "      <th>75%</th>\n",
              "      <td>1016.000000</td>\n",
              "      <td>10028.000000</td>\n",
              "      <td>1.000000</td>\n",
              "      <td>0.000000</td>\n",
              "      <td>1.000000</td>\n",
              "      <td>4837.000000</td>\n",
              "      <td>1.959000e+04</td>\n",
              "      <td>1978.000000</td>\n",
              "      <td>2.517495e+06</td>\n",
              "      <td>2017-06-01 00:00:00</td>\n",
              "    </tr>\n",
              "    <tr>\n",
              "      <th>max</th>\n",
              "      <td>52931.000000</td>\n",
              "      <td>10463.000000</td>\n",
              "      <td>1641.000000</td>\n",
              "      <td>422.000000</td>\n",
              "      <td>1653.000000</td>\n",
              "      <td>364000.000000</td>\n",
              "      <td>2.155492e+06</td>\n",
              "      <td>2017.000000</td>\n",
              "      <td>2.210000e+09</td>\n",
              "      <td>2017-08-31 00:00:00</td>\n",
              "    </tr>\n",
              "    <tr>\n",
              "      <th>std</th>\n",
              "      <td>6287.276248</td>\n",
              "      <td>1114.133314</td>\n",
              "      <td>22.632717</td>\n",
              "      <td>6.797024</td>\n",
              "      <td>23.764499</td>\n",
              "      <td>16603.474685</td>\n",
              "      <td>1.208199e+05</td>\n",
              "      <td>655.670715</td>\n",
              "      <td>2.497726e+07</td>\n",
              "      <td>NaN</td>\n",
              "    </tr>\n",
              "  </tbody>\n",
              "</table>\n",
              "</div>"
            ],
            "text/plain": [
              "       APARTMENT NUMBER      ZIP CODE  RESIDENTIAL UNITS  COMMERCIAL UNITS  \\\n",
              "count       1156.000000  16909.000000       16909.000000      16909.000000   \n",
              "mean        1796.000144   9905.031285           2.240641          0.319061   \n",
              "min            0.000000      0.000000           0.000000          0.000000   \n",
              "25%          153.750000  10012.000000           0.000000          0.000000   \n",
              "50%          531.000000  10021.000000           0.000000          0.000000   \n",
              "75%         1016.000000  10028.000000           1.000000          0.000000   \n",
              "max        52931.000000  10463.000000        1641.000000        422.000000   \n",
              "std         6287.276248   1114.133314          22.632717          6.797024   \n",
              "\n",
              "        TOTAL UNITS  LAND SQUARE FEET  GROSS SQUARE FEET    YEAR BUILT  \\\n",
              "count  16909.000000       1731.000000       1.621000e+03  16909.000000   \n",
              "mean       2.604885       5531.335644       3.674074e+04   1701.808504   \n",
              "min        0.000000         88.000000       2.250000e+02      0.000000   \n",
              "25%        0.000000       1851.000000       4.120000e+03   1910.000000   \n",
              "50%        1.000000       2498.000000       8.120000e+03   1940.000000   \n",
              "75%        1.000000       4837.000000       1.959000e+04   1978.000000   \n",
              "max     1653.000000     364000.000000       2.155492e+06   2017.000000   \n",
              "std       23.764499      16603.474685       1.208199e+05    655.670715   \n",
              "\n",
              "         SALE PRICE                      SALE DATE  \n",
              "count  1.339500e+04                          16909  \n",
              "mean   3.444463e+06  2017-03-01 00:01:21.755278080  \n",
              "min    1.000000e+00            2016-09-01 00:00:00  \n",
              "25%    6.750000e+05            2016-12-01 00:00:00  \n",
              "50%    1.190000e+06            2017-03-01 00:00:00  \n",
              "75%    2.517495e+06            2017-06-01 00:00:00  \n",
              "max    2.210000e+09            2017-08-31 00:00:00  \n",
              "std    2.497726e+07                            NaN  "
            ]
          },
          "execution_count": 45,
          "metadata": {},
          "output_type": "execute_result"
        }
      ],
      "source": [
        "nyc_sales.describe()"
      ]
    },
    {
      "cell_type": "code",
      "execution_count": null,
      "metadata": {
        "id": "u2xYy1lXLpPt"
      },
      "outputs": [],
      "source": [
        "# Pega o máximo e o mínimo da coluna e constrói intervalos igualmente espaçados\n",
        "nyc_sales['LAND SQUARE FEET FAIXA'] = pd.cut(nyc_sales['LAND SQUARE FEET'].values, bins=5)\n",
        "# Convertendo para object\n",
        "nyc_sales['LAND SQUARE FEET FAIXA'] = nyc_sales['LAND SQUARE FEET FAIXA'].astype('object')"
      ]
    },
    {
      "cell_type": "code",
      "execution_count": null,
      "metadata": {
        "id": "5EEMpa1PLpPu",
        "outputId": "dda6bd6e-bb39-4508-cfbb-db58700f93ff"
      },
      "outputs": [
        {
          "data": {
            "text/plain": [
              "0        (-275.912, 72870.4]\n",
              "1        (-275.912, 72870.4]\n",
              "2        (-275.912, 72870.4]\n",
              "3        (-275.912, 72870.4]\n",
              "4        (-275.912, 72870.4]\n",
              "                ...         \n",
              "16904                    NaN\n",
              "16905                    NaN\n",
              "16906                    NaN\n",
              "16907                    NaN\n",
              "16908                    NaN\n",
              "Name: LAND SQUARE FEET FAIXA, Length: 16909, dtype: object"
            ]
          },
          "execution_count": 48,
          "metadata": {},
          "output_type": "execute_result"
        }
      ],
      "source": [
        "nyc_sales['LAND SQUARE FEET FAIXA']"
      ]
    },
    {
      "cell_type": "code",
      "execution_count": null,
      "metadata": {
        "id": "Ki0ze7swLpPu"
      },
      "outputs": [],
      "source": [
        "# FIll na com a string FAIXA DESCONHECIDA\n",
        "nyc_sales['LAND SQUARE FEET FAIXA'] = nyc_sales['LAND SQUARE FEET FAIXA'].fillna('FAIXA DESCONHECIDA')"
      ]
    },
    {
      "cell_type": "code",
      "execution_count": null,
      "metadata": {
        "id": "9foOEqArLpPu",
        "outputId": "8eae47fc-1b51-40d1-9d8f-a3e7f08dce80"
      },
      "outputs": [
        {
          "data": {
            "text/plain": [
              "0        (-275.912, 72870.4]\n",
              "1        (-275.912, 72870.4]\n",
              "2        (-275.912, 72870.4]\n",
              "3        (-275.912, 72870.4]\n",
              "4        (-275.912, 72870.4]\n",
              "                ...         \n",
              "16904     FAIXA DESCONHECIDA\n",
              "16905     FAIXA DESCONHECIDA\n",
              "16906     FAIXA DESCONHECIDA\n",
              "16907     FAIXA DESCONHECIDA\n",
              "16908     FAIXA DESCONHECIDA\n",
              "Name: LAND SQUARE FEET FAIXA, Length: 16909, dtype: object"
            ]
          },
          "execution_count": 50,
          "metadata": {},
          "output_type": "execute_result"
        }
      ],
      "source": [
        "nyc_sales['LAND SQUARE FEET FAIXA']"
      ]
    },
    {
      "cell_type": "code",
      "execution_count": null,
      "metadata": {
        "id": "NAksVIu9LpPu",
        "outputId": "ff19a5bb-fd40-462b-ab54-bd0cba54d216"
      },
      "outputs": [
        {
          "data": {
            "text/plain": [
              "array([Interval(-275.912, 72870.4, closed='right'), 'FAIXA DESCONHECIDA',\n",
              "       Interval(291217.6, 364000.0, closed='right'),\n",
              "       Interval(72870.4, 145652.8, closed='right'),\n",
              "       Interval(145652.8, 218435.2, closed='right')], dtype=object)"
            ]
          },
          "execution_count": 51,
          "metadata": {},
          "output_type": "execute_result"
        }
      ],
      "source": [
        "nyc_sales['LAND SQUARE FEET FAIXA'].unique()"
      ]
    },
    {
      "cell_type": "code",
      "execution_count": null,
      "metadata": {
        "id": "To3qd3qbLpPv",
        "outputId": "c52cd2c8-a81d-4b0b-f08d-cd6c2598819c"
      },
      "outputs": [
        {
          "data": {
            "text/plain": [
              "0        (0.0, 70000.0]\n",
              "1        (0.0, 70000.0]\n",
              "2        (0.0, 70000.0]\n",
              "3        (0.0, 70000.0]\n",
              "4        (0.0, 70000.0]\n",
              "              ...      \n",
              "16904               NaN\n",
              "16905               NaN\n",
              "16906               NaN\n",
              "16907               NaN\n",
              "16908               NaN\n",
              "Name: LAND SQUARE FEET, Length: 16909, dtype: category\n",
              "Categories (5, interval[float64, right]): [(0.0, 70000.0] < (70000.0, 100000.0] < (100000.0, 200000.0] < (200000.0, 300000.0] < (300000.0, inf]]"
            ]
          },
          "execution_count": 52,
          "metadata": {},
          "output_type": "execute_result"
        }
      ],
      "source": [
        "# Também podemos passar os pontos de corte das faixas\n",
        "pd.cut(nyc_sales['LAND SQUARE FEET'], bins=[0, 70000, 100000, 200000, 300000, np.inf])"
      ]
    },
    {
      "cell_type": "markdown",
      "metadata": {
        "id": "XJiFE-jkLpPw"
      },
      "source": [
        "## Análise de Duplicatas"
      ]
    },
    {
      "cell_type": "markdown",
      "metadata": {
        "id": "RxJ60_TvLpPw"
      },
      "source": [
        "Duplicatas são registros iguais em sua totalidade ou em um conjunto específico de colunas. Além disso, também podemos ter colunas equivalentes e duplicadas em nosso dataset que não queremos manter, pois gera redundância. E num eventual processo de treinamento de modelo de machine learning isso pode levar ao overfitting ou a superestimação da  performance (no caso de linhas duplicadas)\n",
        "\n",
        "Para remover duplicatas utilizamos a função ```drop_duplicates()```"
      ]
    },
    {
      "cell_type": "code",
      "execution_count": null,
      "metadata": {
        "id": "EfVmADZyLpPw",
        "outputId": "739e559d-0d63-4d29-905f-e4b4d93530ee"
      },
      "outputs": [
        {
          "data": {
            "text/html": [
              "<div>\n",
              "<style scoped>\n",
              "    .dataframe tbody tr th:only-of-type {\n",
              "        vertical-align: middle;\n",
              "    }\n",
              "\n",
              "    .dataframe tbody tr th {\n",
              "        vertical-align: top;\n",
              "    }\n",
              "\n",
              "    .dataframe thead th {\n",
              "        text-align: right;\n",
              "    }\n",
              "</style>\n",
              "<table border=\"1\" class=\"dataframe\">\n",
              "  <thead>\n",
              "    <tr style=\"text-align: right;\">\n",
              "      <th></th>\n",
              "      <th>BOROUGH</th>\n",
              "      <th>NEIGHBORHOOD</th>\n",
              "      <th>BUILDING CLASS CATEGORY</th>\n",
              "      <th>TAX CLASS AT PRESENT</th>\n",
              "      <th>BLOCK</th>\n",
              "      <th>LOT</th>\n",
              "      <th>EASE-MENT</th>\n",
              "      <th>BUILDING CLASS AT PRESENT</th>\n",
              "      <th>ADDRESS</th>\n",
              "      <th>APARTMENT NUMBER</th>\n",
              "      <th>...</th>\n",
              "      <th>TOTAL UNITS</th>\n",
              "      <th>LAND SQUARE FEET</th>\n",
              "      <th>GROSS SQUARE FEET</th>\n",
              "      <th>YEAR BUILT</th>\n",
              "      <th>TAX CLASS AT TIME OF SALE</th>\n",
              "      <th>BUILDING CLASS AT TIME OF SALE</th>\n",
              "      <th>SALE PRICE</th>\n",
              "      <th>SALE DATE</th>\n",
              "      <th>IS_NULL_APARTMENT_NUMBER</th>\n",
              "      <th>LAND SQUARE FEET FAIXA</th>\n",
              "    </tr>\n",
              "  </thead>\n",
              "  <tbody>\n",
              "    <tr>\n",
              "      <th>0</th>\n",
              "      <td>Manhatan</td>\n",
              "      <td>ALPHABET CITY</td>\n",
              "      <td>07 RENTALS - WALKUP APARTMENTS</td>\n",
              "      <td>2A</td>\n",
              "      <td>392</td>\n",
              "      <td>6</td>\n",
              "      <td></td>\n",
              "      <td>C2</td>\n",
              "      <td>153 AVENUE B</td>\n",
              "      <td>NaN</td>\n",
              "      <td>...</td>\n",
              "      <td>5</td>\n",
              "      <td>1633.0</td>\n",
              "      <td>6440.0</td>\n",
              "      <td>1900</td>\n",
              "      <td>2</td>\n",
              "      <td>C2</td>\n",
              "      <td>6625000.0</td>\n",
              "      <td>2017-07-19</td>\n",
              "      <td>True</td>\n",
              "      <td>(-275.912, 72870.4]</td>\n",
              "    </tr>\n",
              "    <tr>\n",
              "      <th>1</th>\n",
              "      <td>Manhatan</td>\n",
              "      <td>ALPHABET CITY</td>\n",
              "      <td>07 RENTALS - WALKUP APARTMENTS</td>\n",
              "      <td>2</td>\n",
              "      <td>399</td>\n",
              "      <td>26</td>\n",
              "      <td></td>\n",
              "      <td>C7</td>\n",
              "      <td>234 EAST 4TH   STREET</td>\n",
              "      <td>NaN</td>\n",
              "      <td>...</td>\n",
              "      <td>31</td>\n",
              "      <td>4616.0</td>\n",
              "      <td>18690.0</td>\n",
              "      <td>1900</td>\n",
              "      <td>2</td>\n",
              "      <td>C7</td>\n",
              "      <td>NaN</td>\n",
              "      <td>2016-12-14</td>\n",
              "      <td>True</td>\n",
              "      <td>(-275.912, 72870.4]</td>\n",
              "    </tr>\n",
              "    <tr>\n",
              "      <th>2</th>\n",
              "      <td>Manhatan</td>\n",
              "      <td>ALPHABET CITY</td>\n",
              "      <td>07 RENTALS - WALKUP APARTMENTS</td>\n",
              "      <td>2</td>\n",
              "      <td>399</td>\n",
              "      <td>39</td>\n",
              "      <td></td>\n",
              "      <td>C7</td>\n",
              "      <td>197 EAST 3RD   STREET</td>\n",
              "      <td>NaN</td>\n",
              "      <td>...</td>\n",
              "      <td>17</td>\n",
              "      <td>2212.0</td>\n",
              "      <td>7803.0</td>\n",
              "      <td>1900</td>\n",
              "      <td>2</td>\n",
              "      <td>C7</td>\n",
              "      <td>NaN</td>\n",
              "      <td>2016-12-09</td>\n",
              "      <td>True</td>\n",
              "      <td>(-275.912, 72870.4]</td>\n",
              "    </tr>\n",
              "    <tr>\n",
              "      <th>3</th>\n",
              "      <td>Manhatan</td>\n",
              "      <td>ALPHABET CITY</td>\n",
              "      <td>07 RENTALS - WALKUP APARTMENTS</td>\n",
              "      <td>2B</td>\n",
              "      <td>402</td>\n",
              "      <td>21</td>\n",
              "      <td></td>\n",
              "      <td>C4</td>\n",
              "      <td>154 EAST 7TH STREET</td>\n",
              "      <td>NaN</td>\n",
              "      <td>...</td>\n",
              "      <td>10</td>\n",
              "      <td>2272.0</td>\n",
              "      <td>6794.0</td>\n",
              "      <td>1913</td>\n",
              "      <td>2</td>\n",
              "      <td>C4</td>\n",
              "      <td>3936272.0</td>\n",
              "      <td>2016-09-23</td>\n",
              "      <td>True</td>\n",
              "      <td>(-275.912, 72870.4]</td>\n",
              "    </tr>\n",
              "    <tr>\n",
              "      <th>4</th>\n",
              "      <td>Manhatan</td>\n",
              "      <td>ALPHABET CITY</td>\n",
              "      <td>07 RENTALS - WALKUP APARTMENTS</td>\n",
              "      <td>2A</td>\n",
              "      <td>404</td>\n",
              "      <td>55</td>\n",
              "      <td></td>\n",
              "      <td>C2</td>\n",
              "      <td>301 EAST 10TH   STREET</td>\n",
              "      <td>NaN</td>\n",
              "      <td>...</td>\n",
              "      <td>6</td>\n",
              "      <td>2369.0</td>\n",
              "      <td>4615.0</td>\n",
              "      <td>1900</td>\n",
              "      <td>2</td>\n",
              "      <td>C2</td>\n",
              "      <td>8000000.0</td>\n",
              "      <td>2016-11-17</td>\n",
              "      <td>True</td>\n",
              "      <td>(-275.912, 72870.4]</td>\n",
              "    </tr>\n",
              "    <tr>\n",
              "      <th>...</th>\n",
              "      <td>...</td>\n",
              "      <td>...</td>\n",
              "      <td>...</td>\n",
              "      <td>...</td>\n",
              "      <td>...</td>\n",
              "      <td>...</td>\n",
              "      <td>...</td>\n",
              "      <td>...</td>\n",
              "      <td>...</td>\n",
              "      <td>...</td>\n",
              "      <td>...</td>\n",
              "      <td>...</td>\n",
              "      <td>...</td>\n",
              "      <td>...</td>\n",
              "      <td>...</td>\n",
              "      <td>...</td>\n",
              "      <td>...</td>\n",
              "      <td>...</td>\n",
              "      <td>...</td>\n",
              "      <td>...</td>\n",
              "      <td>...</td>\n",
              "    </tr>\n",
              "    <tr>\n",
              "      <th>16904</th>\n",
              "      <td>Manhatan</td>\n",
              "      <td>UPPER WEST SIDE (79-96)</td>\n",
              "      <td>10 COOPS - ELEVATOR APARTMENTS</td>\n",
              "      <td>2</td>\n",
              "      <td>1237</td>\n",
              "      <td>29</td>\n",
              "      <td></td>\n",
              "      <td>D4</td>\n",
              "      <td>201 WEST 89TH STREET, 9A</td>\n",
              "      <td>NaN</td>\n",
              "      <td>...</td>\n",
              "      <td>0</td>\n",
              "      <td>NaN</td>\n",
              "      <td>NaN</td>\n",
              "      <td>1925</td>\n",
              "      <td>2</td>\n",
              "      <td>D4</td>\n",
              "      <td>NaN</td>\n",
              "      <td>2017-02-08</td>\n",
              "      <td>True</td>\n",
              "      <td>FAIXA DESCONHECIDA</td>\n",
              "    </tr>\n",
              "    <tr>\n",
              "      <th>16905</th>\n",
              "      <td>Manhatan</td>\n",
              "      <td>UPPER WEST SIDE (79-96)</td>\n",
              "      <td>10 COOPS - ELEVATOR APARTMENTS</td>\n",
              "      <td>2</td>\n",
              "      <td>1237</td>\n",
              "      <td>29</td>\n",
              "      <td></td>\n",
              "      <td>D4</td>\n",
              "      <td>201 WEST 89TH STREET, 10C</td>\n",
              "      <td>NaN</td>\n",
              "      <td>...</td>\n",
              "      <td>0</td>\n",
              "      <td>NaN</td>\n",
              "      <td>NaN</td>\n",
              "      <td>1925</td>\n",
              "      <td>2</td>\n",
              "      <td>D4</td>\n",
              "      <td>712500.0</td>\n",
              "      <td>2017-02-13</td>\n",
              "      <td>True</td>\n",
              "      <td>FAIXA DESCONHECIDA</td>\n",
              "    </tr>\n",
              "    <tr>\n",
              "      <th>16906</th>\n",
              "      <td>Manhatan</td>\n",
              "      <td>UPPER WEST SIDE (79-96)</td>\n",
              "      <td>10 COOPS - ELEVATOR APARTMENTS</td>\n",
              "      <td>2</td>\n",
              "      <td>1237</td>\n",
              "      <td>29</td>\n",
              "      <td></td>\n",
              "      <td>D4</td>\n",
              "      <td>201 WEST 89 ST, 10D</td>\n",
              "      <td>NaN</td>\n",
              "      <td>...</td>\n",
              "      <td>0</td>\n",
              "      <td>NaN</td>\n",
              "      <td>NaN</td>\n",
              "      <td>1925</td>\n",
              "      <td>2</td>\n",
              "      <td>D4</td>\n",
              "      <td>740000.0</td>\n",
              "      <td>2017-02-13</td>\n",
              "      <td>True</td>\n",
              "      <td>FAIXA DESCONHECIDA</td>\n",
              "    </tr>\n",
              "    <tr>\n",
              "      <th>16907</th>\n",
              "      <td>Manhatan</td>\n",
              "      <td>UPPER WEST SIDE (79-96)</td>\n",
              "      <td>10 COOPS - ELEVATOR APARTMENTS</td>\n",
              "      <td>2</td>\n",
              "      <td>1237</td>\n",
              "      <td>29</td>\n",
              "      <td></td>\n",
              "      <td>D4</td>\n",
              "      <td>201 WEST 89TH STREET, 7G</td>\n",
              "      <td>NaN</td>\n",
              "      <td>...</td>\n",
              "      <td>0</td>\n",
              "      <td>NaN</td>\n",
              "      <td>NaN</td>\n",
              "      <td>1925</td>\n",
              "      <td>2</td>\n",
              "      <td>D4</td>\n",
              "      <td>1800000.0</td>\n",
              "      <td>2017-04-27</td>\n",
              "      <td>True</td>\n",
              "      <td>FAIXA DESCONHECIDA</td>\n",
              "    </tr>\n",
              "    <tr>\n",
              "      <th>16908</th>\n",
              "      <td>Manhatan</td>\n",
              "      <td>UPPER WEST SIDE (79-96)</td>\n",
              "      <td>10 COOPS - ELEVATOR APARTMENTS</td>\n",
              "      <td>2</td>\n",
              "      <td>1237</td>\n",
              "      <td>29</td>\n",
              "      <td></td>\n",
              "      <td>D4</td>\n",
              "      <td>201 W 89TH STREET, 8E</td>\n",
              "      <td>NaN</td>\n",
              "      <td>...</td>\n",
              "      <td>0</td>\n",
              "      <td>NaN</td>\n",
              "      <td>NaN</td>\n",
              "      <td>1925</td>\n",
              "      <td>2</td>\n",
              "      <td>D4</td>\n",
              "      <td>NaN</td>\n",
              "      <td>2017-05-04</td>\n",
              "      <td>True</td>\n",
              "      <td>FAIXA DESCONHECIDA</td>\n",
              "    </tr>\n",
              "  </tbody>\n",
              "</table>\n",
              "<p>16709 rows × 23 columns</p>\n",
              "</div>"
            ],
            "text/plain": [
              "        BOROUGH             NEIGHBORHOOD  \\\n",
              "0      Manhatan            ALPHABET CITY   \n",
              "1      Manhatan            ALPHABET CITY   \n",
              "2      Manhatan            ALPHABET CITY   \n",
              "3      Manhatan            ALPHABET CITY   \n",
              "4      Manhatan            ALPHABET CITY   \n",
              "...         ...                      ...   \n",
              "16904  Manhatan  UPPER WEST SIDE (79-96)   \n",
              "16905  Manhatan  UPPER WEST SIDE (79-96)   \n",
              "16906  Manhatan  UPPER WEST SIDE (79-96)   \n",
              "16907  Manhatan  UPPER WEST SIDE (79-96)   \n",
              "16908  Manhatan  UPPER WEST SIDE (79-96)   \n",
              "\n",
              "                           BUILDING CLASS CATEGORY TAX CLASS AT PRESENT BLOCK  \\\n",
              "0      07 RENTALS - WALKUP APARTMENTS                                2A   392   \n",
              "1      07 RENTALS - WALKUP APARTMENTS                                 2   399   \n",
              "2      07 RENTALS - WALKUP APARTMENTS                                 2   399   \n",
              "3      07 RENTALS - WALKUP APARTMENTS                                2B   402   \n",
              "4      07 RENTALS - WALKUP APARTMENTS                                2A   404   \n",
              "...                                            ...                  ...   ...   \n",
              "16904  10 COOPS - ELEVATOR APARTMENTS                                 2  1237   \n",
              "16905  10 COOPS - ELEVATOR APARTMENTS                                 2  1237   \n",
              "16906  10 COOPS - ELEVATOR APARTMENTS                                 2  1237   \n",
              "16907  10 COOPS - ELEVATOR APARTMENTS                                 2  1237   \n",
              "16908  10 COOPS - ELEVATOR APARTMENTS                                 2  1237   \n",
              "\n",
              "      LOT EASE-MENT BUILDING CLASS AT PRESENT                    ADDRESS  \\\n",
              "0       6                                  C2               153 AVENUE B   \n",
              "1      26                                  C7      234 EAST 4TH   STREET   \n",
              "2      39                                  C7      197 EAST 3RD   STREET   \n",
              "3      21                                  C4        154 EAST 7TH STREET   \n",
              "4      55                                  C2     301 EAST 10TH   STREET   \n",
              "...    ..       ...                       ...                        ...   \n",
              "16904  29                                  D4   201 WEST 89TH STREET, 9A   \n",
              "16905  29                                  D4  201 WEST 89TH STREET, 10C   \n",
              "16906  29                                  D4        201 WEST 89 ST, 10D   \n",
              "16907  29                                  D4   201 WEST 89TH STREET, 7G   \n",
              "16908  29                                  D4      201 W 89TH STREET, 8E   \n",
              "\n",
              "       APARTMENT NUMBER  ...  TOTAL UNITS  LAND SQUARE FEET  \\\n",
              "0                   NaN  ...            5            1633.0   \n",
              "1                   NaN  ...           31            4616.0   \n",
              "2                   NaN  ...           17            2212.0   \n",
              "3                   NaN  ...           10            2272.0   \n",
              "4                   NaN  ...            6            2369.0   \n",
              "...                 ...  ...          ...               ...   \n",
              "16904               NaN  ...            0               NaN   \n",
              "16905               NaN  ...            0               NaN   \n",
              "16906               NaN  ...            0               NaN   \n",
              "16907               NaN  ...            0               NaN   \n",
              "16908               NaN  ...            0               NaN   \n",
              "\n",
              "       GROSS SQUARE FEET  YEAR BUILT  TAX CLASS AT TIME OF SALE  \\\n",
              "0                 6440.0        1900                          2   \n",
              "1                18690.0        1900                          2   \n",
              "2                 7803.0        1900                          2   \n",
              "3                 6794.0        1913                          2   \n",
              "4                 4615.0        1900                          2   \n",
              "...                  ...         ...                        ...   \n",
              "16904                NaN        1925                          2   \n",
              "16905                NaN        1925                          2   \n",
              "16906                NaN        1925                          2   \n",
              "16907                NaN        1925                          2   \n",
              "16908                NaN        1925                          2   \n",
              "\n",
              "       BUILDING CLASS AT TIME OF SALE  SALE PRICE  SALE DATE  \\\n",
              "0                                  C2   6625000.0 2017-07-19   \n",
              "1                                  C7         NaN 2016-12-14   \n",
              "2                                  C7         NaN 2016-12-09   \n",
              "3                                  C4   3936272.0 2016-09-23   \n",
              "4                                  C2   8000000.0 2016-11-17   \n",
              "...                               ...         ...        ...   \n",
              "16904                              D4         NaN 2017-02-08   \n",
              "16905                              D4    712500.0 2017-02-13   \n",
              "16906                              D4    740000.0 2017-02-13   \n",
              "16907                              D4   1800000.0 2017-04-27   \n",
              "16908                              D4         NaN 2017-05-04   \n",
              "\n",
              "      IS_NULL_APARTMENT_NUMBER  LAND SQUARE FEET FAIXA  \n",
              "0                         True     (-275.912, 72870.4]  \n",
              "1                         True     (-275.912, 72870.4]  \n",
              "2                         True     (-275.912, 72870.4]  \n",
              "3                         True     (-275.912, 72870.4]  \n",
              "4                         True     (-275.912, 72870.4]  \n",
              "...                        ...                     ...  \n",
              "16904                     True      FAIXA DESCONHECIDA  \n",
              "16905                     True      FAIXA DESCONHECIDA  \n",
              "16906                     True      FAIXA DESCONHECIDA  \n",
              "16907                     True      FAIXA DESCONHECIDA  \n",
              "16908                     True      FAIXA DESCONHECIDA  \n",
              "\n",
              "[16709 rows x 23 columns]"
            ]
          },
          "execution_count": 53,
          "metadata": {},
          "output_type": "execute_result"
        }
      ],
      "source": [
        "# Sem passar nada ele observa se há correspondência exata entre alguma linha e mantém só a primeira linha que ele achou\n",
        "nyc_sales.drop_duplicates(keep='first')\n",
        "# podemos ter keep=last (mantém a última linha) ou keep = False (não mantém nenhuma)"
      ]
    },
    {
      "cell_type": "code",
      "execution_count": null,
      "metadata": {
        "id": "TPT7N_QGLpPw",
        "outputId": "55fdca50-4d30-43d4-d192-173fa1015fc2"
      },
      "outputs": [
        {
          "data": {
            "text/html": [
              "<div>\n",
              "<style scoped>\n",
              "    .dataframe tbody tr th:only-of-type {\n",
              "        vertical-align: middle;\n",
              "    }\n",
              "\n",
              "    .dataframe tbody tr th {\n",
              "        vertical-align: top;\n",
              "    }\n",
              "\n",
              "    .dataframe thead th {\n",
              "        text-align: right;\n",
              "    }\n",
              "</style>\n",
              "<table border=\"1\" class=\"dataframe\">\n",
              "  <thead>\n",
              "    <tr style=\"text-align: right;\">\n",
              "      <th></th>\n",
              "      <th>BOROUGH</th>\n",
              "      <th>NEIGHBORHOOD</th>\n",
              "      <th>BUILDING CLASS CATEGORY</th>\n",
              "      <th>TAX CLASS AT PRESENT</th>\n",
              "      <th>BLOCK</th>\n",
              "      <th>LOT</th>\n",
              "      <th>EASE-MENT</th>\n",
              "      <th>BUILDING CLASS AT PRESENT</th>\n",
              "      <th>ADDRESS</th>\n",
              "      <th>APARTMENT NUMBER</th>\n",
              "      <th>...</th>\n",
              "      <th>TOTAL UNITS</th>\n",
              "      <th>LAND SQUARE FEET</th>\n",
              "      <th>GROSS SQUARE FEET</th>\n",
              "      <th>YEAR BUILT</th>\n",
              "      <th>TAX CLASS AT TIME OF SALE</th>\n",
              "      <th>BUILDING CLASS AT TIME OF SALE</th>\n",
              "      <th>SALE PRICE</th>\n",
              "      <th>SALE DATE</th>\n",
              "      <th>IS_NULL_APARTMENT_NUMBER</th>\n",
              "      <th>LAND SQUARE FEET FAIXA</th>\n",
              "    </tr>\n",
              "  </thead>\n",
              "  <tbody>\n",
              "    <tr>\n",
              "      <th>0</th>\n",
              "      <td>Manhatan</td>\n",
              "      <td>ALPHABET CITY</td>\n",
              "      <td>07 RENTALS - WALKUP APARTMENTS</td>\n",
              "      <td>2A</td>\n",
              "      <td>392</td>\n",
              "      <td>6</td>\n",
              "      <td></td>\n",
              "      <td>C2</td>\n",
              "      <td>153 AVENUE B</td>\n",
              "      <td>NaN</td>\n",
              "      <td>...</td>\n",
              "      <td>5</td>\n",
              "      <td>1633.0</td>\n",
              "      <td>6440.0</td>\n",
              "      <td>1900</td>\n",
              "      <td>2</td>\n",
              "      <td>C2</td>\n",
              "      <td>6625000.0</td>\n",
              "      <td>2017-07-19</td>\n",
              "      <td>True</td>\n",
              "      <td>(-275.912, 72870.4]</td>\n",
              "    </tr>\n",
              "    <tr>\n",
              "      <th>204</th>\n",
              "      <td>Manhatan</td>\n",
              "      <td>CHELSEA</td>\n",
              "      <td>01 ONE FAMILY DWELLINGS</td>\n",
              "      <td>1</td>\n",
              "      <td>766</td>\n",
              "      <td>13</td>\n",
              "      <td></td>\n",
              "      <td>A9</td>\n",
              "      <td>251 WEST 16TH   STREET</td>\n",
              "      <td>NaN</td>\n",
              "      <td>...</td>\n",
              "      <td>1</td>\n",
              "      <td>1360.0</td>\n",
              "      <td>2736.0</td>\n",
              "      <td>1910</td>\n",
              "      <td>1</td>\n",
              "      <td>A9</td>\n",
              "      <td>NaN</td>\n",
              "      <td>2017-01-06</td>\n",
              "      <td>True</td>\n",
              "      <td>(-275.912, 72870.4]</td>\n",
              "    </tr>\n",
              "    <tr>\n",
              "      <th>1007</th>\n",
              "      <td>Manhatan</td>\n",
              "      <td>CHINATOWN</td>\n",
              "      <td>07 RENTALS - WALKUP APARTMENTS</td>\n",
              "      <td>2</td>\n",
              "      <td>162</td>\n",
              "      <td>15</td>\n",
              "      <td></td>\n",
              "      <td>C7</td>\n",
              "      <td>28 MOTT STREET</td>\n",
              "      <td>NaN</td>\n",
              "      <td>...</td>\n",
              "      <td>18</td>\n",
              "      <td>2307.0</td>\n",
              "      <td>8577.0</td>\n",
              "      <td>1920</td>\n",
              "      <td>2</td>\n",
              "      <td>C7</td>\n",
              "      <td>NaN</td>\n",
              "      <td>2017-06-16</td>\n",
              "      <td>True</td>\n",
              "      <td>(-275.912, 72870.4]</td>\n",
              "    </tr>\n",
              "    <tr>\n",
              "      <th>1122</th>\n",
              "      <td>Manhatan</td>\n",
              "      <td>CIVIC CENTER</td>\n",
              "      <td>07 RENTALS - WALKUP APARTMENTS</td>\n",
              "      <td>2B</td>\n",
              "      <td>175</td>\n",
              "      <td>19</td>\n",
              "      <td></td>\n",
              "      <td>C7</td>\n",
              "      <td>41 WHITE STREET</td>\n",
              "      <td>NaN</td>\n",
              "      <td>...</td>\n",
              "      <td>8</td>\n",
              "      <td>2633.0</td>\n",
              "      <td>12000.0</td>\n",
              "      <td>1915</td>\n",
              "      <td>2</td>\n",
              "      <td>C7</td>\n",
              "      <td>141500000.0</td>\n",
              "      <td>2017-07-13</td>\n",
              "      <td>True</td>\n",
              "      <td>(-275.912, 72870.4]</td>\n",
              "    </tr>\n",
              "    <tr>\n",
              "      <th>1445</th>\n",
              "      <td>Manhatan</td>\n",
              "      <td>CLINTON</td>\n",
              "      <td>07 RENTALS - WALKUP APARTMENTS</td>\n",
              "      <td>2</td>\n",
              "      <td>1053</td>\n",
              "      <td>4</td>\n",
              "      <td></td>\n",
              "      <td>C7</td>\n",
              "      <td>602 10TH   AVENUE</td>\n",
              "      <td>NaN</td>\n",
              "      <td>...</td>\n",
              "      <td>15</td>\n",
              "      <td>2217.0</td>\n",
              "      <td>9475.0</td>\n",
              "      <td>1910</td>\n",
              "      <td>2</td>\n",
              "      <td>C7</td>\n",
              "      <td>NaN</td>\n",
              "      <td>2016-11-04</td>\n",
              "      <td>True</td>\n",
              "      <td>(-275.912, 72870.4]</td>\n",
              "    </tr>\n",
              "    <tr>\n",
              "      <th>1791</th>\n",
              "      <td>Manhatan</td>\n",
              "      <td>EAST VILLAGE</td>\n",
              "      <td>02 TWO FAMILY DWELLINGS</td>\n",
              "      <td>1</td>\n",
              "      <td>436</td>\n",
              "      <td>1</td>\n",
              "      <td></td>\n",
              "      <td>S2</td>\n",
              "      <td>138 1 AVENUE</td>\n",
              "      <td>NaN</td>\n",
              "      <td>...</td>\n",
              "      <td>3</td>\n",
              "      <td>1200.0</td>\n",
              "      <td>3360.0</td>\n",
              "      <td>1900</td>\n",
              "      <td>1</td>\n",
              "      <td>S2</td>\n",
              "      <td>3000000.0</td>\n",
              "      <td>2017-08-31</td>\n",
              "      <td>True</td>\n",
              "      <td>(-275.912, 72870.4]</td>\n",
              "    </tr>\n",
              "    <tr>\n",
              "      <th>1969</th>\n",
              "      <td>Manhatan</td>\n",
              "      <td>FASHION</td>\n",
              "      <td>07 RENTALS - WALKUP APARTMENTS</td>\n",
              "      <td>2</td>\n",
              "      <td>762</td>\n",
              "      <td>17</td>\n",
              "      <td></td>\n",
              "      <td>C4</td>\n",
              "      <td>331 WEST 38TH STREET</td>\n",
              "      <td>NaN</td>\n",
              "      <td>...</td>\n",
              "      <td>18</td>\n",
              "      <td>2475.0</td>\n",
              "      <td>9690.0</td>\n",
              "      <td>1920</td>\n",
              "      <td>2</td>\n",
              "      <td>C4</td>\n",
              "      <td>NaN</td>\n",
              "      <td>2016-12-23</td>\n",
              "      <td>True</td>\n",
              "      <td>(-275.912, 72870.4]</td>\n",
              "    </tr>\n",
              "    <tr>\n",
              "      <th>2090</th>\n",
              "      <td>Manhatan</td>\n",
              "      <td>FINANCIAL</td>\n",
              "      <td>08 RENTALS - ELEVATOR APARTMENTS</td>\n",
              "      <td>2</td>\n",
              "      <td>27</td>\n",
              "      <td>9</td>\n",
              "      <td></td>\n",
              "      <td>D5</td>\n",
              "      <td>63 WALL STREET</td>\n",
              "      <td>NaN</td>\n",
              "      <td>...</td>\n",
              "      <td>482</td>\n",
              "      <td>17623.0</td>\n",
              "      <td>400531.0</td>\n",
              "      <td>1929</td>\n",
              "      <td>2</td>\n",
              "      <td>D5</td>\n",
              "      <td>239114603.0</td>\n",
              "      <td>2016-09-30</td>\n",
              "      <td>True</td>\n",
              "      <td>(-275.912, 72870.4]</td>\n",
              "    </tr>\n",
              "    <tr>\n",
              "      <th>2586</th>\n",
              "      <td>Manhatan</td>\n",
              "      <td>FLATIRON</td>\n",
              "      <td>08 RENTALS - ELEVATOR APARTMENTS</td>\n",
              "      <td>2</td>\n",
              "      <td>844</td>\n",
              "      <td>8</td>\n",
              "      <td></td>\n",
              "      <td>D6</td>\n",
              "      <td>9 EAST 16TH   STREET</td>\n",
              "      <td>NaN</td>\n",
              "      <td>...</td>\n",
              "      <td>16</td>\n",
              "      <td>4600.0</td>\n",
              "      <td>30680.0</td>\n",
              "      <td>1900</td>\n",
              "      <td>2</td>\n",
              "      <td>D6</td>\n",
              "      <td>NaN</td>\n",
              "      <td>2017-01-30</td>\n",
              "      <td>True</td>\n",
              "      <td>(-275.912, 72870.4]</td>\n",
              "    </tr>\n",
              "    <tr>\n",
              "      <th>3059</th>\n",
              "      <td>Manhatan</td>\n",
              "      <td>GRAMERCY</td>\n",
              "      <td>02 TWO FAMILY DWELLINGS</td>\n",
              "      <td>1</td>\n",
              "      <td>873</td>\n",
              "      <td>31</td>\n",
              "      <td></td>\n",
              "      <td>S2</td>\n",
              "      <td>141 EAST 17TH   STREET</td>\n",
              "      <td>NaN</td>\n",
              "      <td>...</td>\n",
              "      <td>3</td>\n",
              "      <td>2300.0</td>\n",
              "      <td>6720.0</td>\n",
              "      <td>1920</td>\n",
              "      <td>1</td>\n",
              "      <td>S2</td>\n",
              "      <td>5300000.0</td>\n",
              "      <td>2017-08-03</td>\n",
              "      <td>True</td>\n",
              "      <td>(-275.912, 72870.4]</td>\n",
              "    </tr>\n",
              "    <tr>\n",
              "      <th>3533</th>\n",
              "      <td>Manhatan</td>\n",
              "      <td>GREENWICH VILLAGE-CENTRAL</td>\n",
              "      <td>01 ONE FAMILY DWELLINGS</td>\n",
              "      <td>1</td>\n",
              "      <td>525</td>\n",
              "      <td>34</td>\n",
              "      <td></td>\n",
              "      <td>S1</td>\n",
              "      <td>168 THOMPSON STREET</td>\n",
              "      <td>NaN</td>\n",
              "      <td>...</td>\n",
              "      <td>2</td>\n",
              "      <td>1350.0</td>\n",
              "      <td>5807.0</td>\n",
              "      <td>1900</td>\n",
              "      <td>1</td>\n",
              "      <td>S1</td>\n",
              "      <td>9999999.0</td>\n",
              "      <td>2016-11-22</td>\n",
              "      <td>True</td>\n",
              "      <td>(-275.912, 72870.4]</td>\n",
              "    </tr>\n",
              "    <tr>\n",
              "      <th>4171</th>\n",
              "      <td>Manhatan</td>\n",
              "      <td>GREENWICH VILLAGE-WEST</td>\n",
              "      <td>01 ONE FAMILY DWELLINGS</td>\n",
              "      <td>1</td>\n",
              "      <td>584</td>\n",
              "      <td>31</td>\n",
              "      <td></td>\n",
              "      <td>A4</td>\n",
              "      <td>75 BEDFORD STREET</td>\n",
              "      <td>NaN</td>\n",
              "      <td>...</td>\n",
              "      <td>1</td>\n",
              "      <td>1640.0</td>\n",
              "      <td>2400.0</td>\n",
              "      <td>1901</td>\n",
              "      <td>1</td>\n",
              "      <td>A4</td>\n",
              "      <td>7800000.0</td>\n",
              "      <td>2017-08-15</td>\n",
              "      <td>True</td>\n",
              "      <td>(-275.912, 72870.4]</td>\n",
              "    </tr>\n",
              "    <tr>\n",
              "      <th>4797</th>\n",
              "      <td>Manhatan</td>\n",
              "      <td>HARLEM-CENTRAL</td>\n",
              "      <td>01 ONE FAMILY DWELLINGS</td>\n",
              "      <td>1</td>\n",
              "      <td>1829</td>\n",
              "      <td>125</td>\n",
              "      <td></td>\n",
              "      <td>A4</td>\n",
              "      <td>221 WEST 113 STREET</td>\n",
              "      <td>NaN</td>\n",
              "      <td>...</td>\n",
              "      <td>1</td>\n",
              "      <td>1682.0</td>\n",
              "      <td>2727.0</td>\n",
              "      <td>1910</td>\n",
              "      <td>1</td>\n",
              "      <td>A4</td>\n",
              "      <td>NaN</td>\n",
              "      <td>2016-12-15</td>\n",
              "      <td>True</td>\n",
              "      <td>(-275.912, 72870.4]</td>\n",
              "    </tr>\n",
              "    <tr>\n",
              "      <th>5644</th>\n",
              "      <td>Manhatan</td>\n",
              "      <td>HARLEM-EAST</td>\n",
              "      <td>01 ONE FAMILY DWELLINGS</td>\n",
              "      <td>1</td>\n",
              "      <td>1625</td>\n",
              "      <td>101</td>\n",
              "      <td></td>\n",
              "      <td>A9</td>\n",
              "      <td>101B EAST 97TH STREET</td>\n",
              "      <td>NaN</td>\n",
              "      <td>...</td>\n",
              "      <td>1</td>\n",
              "      <td>847.0</td>\n",
              "      <td>1472.0</td>\n",
              "      <td>1925</td>\n",
              "      <td>1</td>\n",
              "      <td>A9</td>\n",
              "      <td>NaN</td>\n",
              "      <td>2017-03-07</td>\n",
              "      <td>True</td>\n",
              "      <td>(-275.912, 72870.4]</td>\n",
              "    </tr>\n",
              "    <tr>\n",
              "      <th>5988</th>\n",
              "      <td>Manhatan</td>\n",
              "      <td>HARLEM-UPPER</td>\n",
              "      <td>01 ONE FAMILY DWELLINGS</td>\n",
              "      <td>1</td>\n",
              "      <td>2058</td>\n",
              "      <td>6</td>\n",
              "      <td></td>\n",
              "      <td>A9</td>\n",
              "      <td>465 WEST 141 STREET</td>\n",
              "      <td>NaN</td>\n",
              "      <td>...</td>\n",
              "      <td>1</td>\n",
              "      <td>1799.0</td>\n",
              "      <td>6264.0</td>\n",
              "      <td>1920</td>\n",
              "      <td>1</td>\n",
              "      <td>A9</td>\n",
              "      <td>NaN</td>\n",
              "      <td>2016-12-15</td>\n",
              "      <td>True</td>\n",
              "      <td>(-275.912, 72870.4]</td>\n",
              "    </tr>\n",
              "    <tr>\n",
              "      <th>6129</th>\n",
              "      <td>Manhatan</td>\n",
              "      <td>HARLEM-WEST</td>\n",
              "      <td>01 ONE FAMILY DWELLINGS</td>\n",
              "      <td>1</td>\n",
              "      <td>2071</td>\n",
              "      <td>141</td>\n",
              "      <td></td>\n",
              "      <td>A9</td>\n",
              "      <td>516 WEST 140TH STREET</td>\n",
              "      <td>NaN</td>\n",
              "      <td>...</td>\n",
              "      <td>1</td>\n",
              "      <td>1499.0</td>\n",
              "      <td>2845.0</td>\n",
              "      <td>1899</td>\n",
              "      <td>1</td>\n",
              "      <td>A9</td>\n",
              "      <td>2260000.0</td>\n",
              "      <td>2016-10-19</td>\n",
              "      <td>True</td>\n",
              "      <td>(-275.912, 72870.4]</td>\n",
              "    </tr>\n",
              "    <tr>\n",
              "      <th>6167</th>\n",
              "      <td>Manhatan</td>\n",
              "      <td>INWOOD</td>\n",
              "      <td>01 ONE FAMILY DWELLINGS</td>\n",
              "      <td>1</td>\n",
              "      <td>2215</td>\n",
              "      <td>510</td>\n",
              "      <td></td>\n",
              "      <td>A5</td>\n",
              "      <td>49 MARBLE HILL AVENUE</td>\n",
              "      <td>NaN</td>\n",
              "      <td>...</td>\n",
              "      <td>1</td>\n",
              "      <td>1219.0</td>\n",
              "      <td>1224.0</td>\n",
              "      <td>1920</td>\n",
              "      <td>1</td>\n",
              "      <td>A5</td>\n",
              "      <td>635000.0</td>\n",
              "      <td>2017-08-18</td>\n",
              "      <td>True</td>\n",
              "      <td>(-275.912, 72870.4]</td>\n",
              "    </tr>\n",
              "    <tr>\n",
              "      <th>6286</th>\n",
              "      <td>Manhatan</td>\n",
              "      <td>JAVITS CENTER</td>\n",
              "      <td>02 TWO FAMILY DWELLINGS</td>\n",
              "      <td>1</td>\n",
              "      <td>733</td>\n",
              "      <td>63</td>\n",
              "      <td></td>\n",
              "      <td>S2</td>\n",
              "      <td>448 WEST 36TH STREET</td>\n",
              "      <td>NaN</td>\n",
              "      <td>...</td>\n",
              "      <td>3</td>\n",
              "      <td>2469.0</td>\n",
              "      <td>4747.0</td>\n",
              "      <td>1910</td>\n",
              "      <td>1</td>\n",
              "      <td>S2</td>\n",
              "      <td>6100000.0</td>\n",
              "      <td>2017-01-13</td>\n",
              "      <td>True</td>\n",
              "      <td>(-275.912, 72870.4]</td>\n",
              "    </tr>\n",
              "    <tr>\n",
              "      <th>6327</th>\n",
              "      <td>Manhatan</td>\n",
              "      <td>KIPS BAY</td>\n",
              "      <td>02 TWO FAMILY DWELLINGS</td>\n",
              "      <td>1</td>\n",
              "      <td>924</td>\n",
              "      <td>11</td>\n",
              "      <td></td>\n",
              "      <td>B9</td>\n",
              "      <td>313 EAST 18TH   STREET</td>\n",
              "      <td>NaN</td>\n",
              "      <td>...</td>\n",
              "      <td>2</td>\n",
              "      <td>1840.0</td>\n",
              "      <td>2880.0</td>\n",
              "      <td>1910</td>\n",
              "      <td>1</td>\n",
              "      <td>B9</td>\n",
              "      <td>4600000.0</td>\n",
              "      <td>2016-09-02</td>\n",
              "      <td>True</td>\n",
              "      <td>(-275.912, 72870.4]</td>\n",
              "    </tr>\n",
              "    <tr>\n",
              "      <th>6697</th>\n",
              "      <td>Manhatan</td>\n",
              "      <td>LITTLE ITALY</td>\n",
              "      <td>01 ONE FAMILY DWELLINGS</td>\n",
              "      <td>1</td>\n",
              "      <td>471</td>\n",
              "      <td>2</td>\n",
              "      <td></td>\n",
              "      <td>A4</td>\n",
              "      <td>2 CENTRE MARKET PLACE</td>\n",
              "      <td>NaN</td>\n",
              "      <td>...</td>\n",
              "      <td>1</td>\n",
              "      <td>1016.0</td>\n",
              "      <td>3700.0</td>\n",
              "      <td>1800</td>\n",
              "      <td>1</td>\n",
              "      <td>A4</td>\n",
              "      <td>7090000.0</td>\n",
              "      <td>2017-03-09</td>\n",
              "      <td>True</td>\n",
              "      <td>(-275.912, 72870.4]</td>\n",
              "    </tr>\n",
              "    <tr>\n",
              "      <th>6738</th>\n",
              "      <td>Manhatan</td>\n",
              "      <td>LOWER EAST SIDE</td>\n",
              "      <td>02 TWO FAMILY DWELLINGS</td>\n",
              "      <td>1</td>\n",
              "      <td>288</td>\n",
              "      <td>36</td>\n",
              "      <td></td>\n",
              "      <td>S2</td>\n",
              "      <td>527 GRAND STREET</td>\n",
              "      <td>NaN</td>\n",
              "      <td>...</td>\n",
              "      <td>3</td>\n",
              "      <td>1238.0</td>\n",
              "      <td>3714.0</td>\n",
              "      <td>1910</td>\n",
              "      <td>1</td>\n",
              "      <td>S2</td>\n",
              "      <td>NaN</td>\n",
              "      <td>2017-02-14</td>\n",
              "      <td>True</td>\n",
              "      <td>(-275.912, 72870.4]</td>\n",
              "    </tr>\n",
              "    <tr>\n",
              "      <th>7040</th>\n",
              "      <td>Manhatan</td>\n",
              "      <td>MANHATTAN VALLEY</td>\n",
              "      <td>03 THREE FAMILY DWELLINGS</td>\n",
              "      <td>1</td>\n",
              "      <td>1847</td>\n",
              "      <td>11</td>\n",
              "      <td></td>\n",
              "      <td>C0</td>\n",
              "      <td>317 WEST 112 STREET</td>\n",
              "      <td>NaN</td>\n",
              "      <td>...</td>\n",
              "      <td>3</td>\n",
              "      <td>1682.0</td>\n",
              "      <td>3333.0</td>\n",
              "      <td>1900</td>\n",
              "      <td>1</td>\n",
              "      <td>C0</td>\n",
              "      <td>3075000.0</td>\n",
              "      <td>2017-03-20</td>\n",
              "      <td>True</td>\n",
              "      <td>(-275.912, 72870.4]</td>\n",
              "    </tr>\n",
              "    <tr>\n",
              "      <th>7274</th>\n",
              "      <td>Manhatan</td>\n",
              "      <td>MIDTOWN CBD</td>\n",
              "      <td>10 COOPS - ELEVATOR APARTMENTS</td>\n",
              "      <td>2</td>\n",
              "      <td>1293</td>\n",
              "      <td>37</td>\n",
              "      <td></td>\n",
              "      <td>D4</td>\n",
              "      <td>470 PARK AVENUE, 11B</td>\n",
              "      <td>NaN</td>\n",
              "      <td>...</td>\n",
              "      <td>0</td>\n",
              "      <td>NaN</td>\n",
              "      <td>NaN</td>\n",
              "      <td>1916</td>\n",
              "      <td>2</td>\n",
              "      <td>D4</td>\n",
              "      <td>2000000.0</td>\n",
              "      <td>2016-11-28</td>\n",
              "      <td>True</td>\n",
              "      <td>FAIXA DESCONHECIDA</td>\n",
              "    </tr>\n",
              "    <tr>\n",
              "      <th>7474</th>\n",
              "      <td>Manhatan</td>\n",
              "      <td>MIDTOWN EAST</td>\n",
              "      <td>01 ONE FAMILY DWELLINGS</td>\n",
              "      <td>1</td>\n",
              "      <td>1322</td>\n",
              "      <td>8</td>\n",
              "      <td></td>\n",
              "      <td>A4</td>\n",
              "      <td>213 EAST 48TH   STREET</td>\n",
              "      <td>NaN</td>\n",
              "      <td>...</td>\n",
              "      <td>1</td>\n",
              "      <td>1665.0</td>\n",
              "      <td>3060.0</td>\n",
              "      <td>1899</td>\n",
              "      <td>1</td>\n",
              "      <td>A4</td>\n",
              "      <td>5000000.0</td>\n",
              "      <td>2017-02-15</td>\n",
              "      <td>True</td>\n",
              "      <td>(-275.912, 72870.4]</td>\n",
              "    </tr>\n",
              "    <tr>\n",
              "      <th>8892</th>\n",
              "      <td>Manhatan</td>\n",
              "      <td>MIDTOWN WEST</td>\n",
              "      <td>07 RENTALS - WALKUP APARTMENTS</td>\n",
              "      <td>2B</td>\n",
              "      <td>1009</td>\n",
              "      <td>16</td>\n",
              "      <td></td>\n",
              "      <td>C7</td>\n",
              "      <td>129 WEST 56TH STREET</td>\n",
              "      <td>NaN</td>\n",
              "      <td>...</td>\n",
              "      <td>9</td>\n",
              "      <td>2092.0</td>\n",
              "      <td>8180.0</td>\n",
              "      <td>1920</td>\n",
              "      <td>2</td>\n",
              "      <td>C7</td>\n",
              "      <td>NaN</td>\n",
              "      <td>2016-12-13</td>\n",
              "      <td>True</td>\n",
              "      <td>(-275.912, 72870.4]</td>\n",
              "    </tr>\n",
              "    <tr>\n",
              "      <th>9810</th>\n",
              "      <td>Manhatan</td>\n",
              "      <td>MORNINGSIDE HEIGHTS</td>\n",
              "      <td>07 RENTALS - WALKUP APARTMENTS</td>\n",
              "      <td>2</td>\n",
              "      <td>1993</td>\n",
              "      <td>82</td>\n",
              "      <td></td>\n",
              "      <td>C7</td>\n",
              "      <td>3151 BROADWAY</td>\n",
              "      <td>NaN</td>\n",
              "      <td>...</td>\n",
              "      <td>23</td>\n",
              "      <td>4158.0</td>\n",
              "      <td>16377.0</td>\n",
              "      <td>1905</td>\n",
              "      <td>2</td>\n",
              "      <td>C7</td>\n",
              "      <td>NaN</td>\n",
              "      <td>2016-09-21</td>\n",
              "      <td>True</td>\n",
              "      <td>(-275.912, 72870.4]</td>\n",
              "    </tr>\n",
              "    <tr>\n",
              "      <th>9882</th>\n",
              "      <td>Manhatan</td>\n",
              "      <td>MURRAY HILL</td>\n",
              "      <td>01 ONE FAMILY DWELLINGS</td>\n",
              "      <td>1</td>\n",
              "      <td>893</td>\n",
              "      <td>71</td>\n",
              "      <td></td>\n",
              "      <td>A4</td>\n",
              "      <td>132 EAST 38TH   STREET</td>\n",
              "      <td>NaN</td>\n",
              "      <td>...</td>\n",
              "      <td>1</td>\n",
              "      <td>495.0</td>\n",
              "      <td>1920.0</td>\n",
              "      <td>1910</td>\n",
              "      <td>1</td>\n",
              "      <td>A4</td>\n",
              "      <td>3850000.0</td>\n",
              "      <td>2017-07-10</td>\n",
              "      <td>True</td>\n",
              "      <td>(-275.912, 72870.4]</td>\n",
              "    </tr>\n",
              "    <tr>\n",
              "      <th>10503</th>\n",
              "      <td>Manhatan</td>\n",
              "      <td>ROOSEVELT ISLAND</td>\n",
              "      <td>10 COOPS - ELEVATOR APARTMENTS</td>\n",
              "      <td>2</td>\n",
              "      <td>1373</td>\n",
              "      <td>1</td>\n",
              "      <td></td>\n",
              "      <td>D4</td>\n",
              "      <td>40 RIVER ROAD</td>\n",
              "      <td>NaN</td>\n",
              "      <td>...</td>\n",
              "      <td>0</td>\n",
              "      <td>NaN</td>\n",
              "      <td>NaN</td>\n",
              "      <td>1975</td>\n",
              "      <td>2</td>\n",
              "      <td>D4</td>\n",
              "      <td>4127983.0</td>\n",
              "      <td>2016-11-01</td>\n",
              "      <td>True</td>\n",
              "      <td>FAIXA DESCONHECIDA</td>\n",
              "    </tr>\n",
              "    <tr>\n",
              "      <th>10571</th>\n",
              "      <td>Manhatan</td>\n",
              "      <td>SOHO</td>\n",
              "      <td>01 ONE FAMILY DWELLINGS</td>\n",
              "      <td>1</td>\n",
              "      <td>490</td>\n",
              "      <td>28</td>\n",
              "      <td></td>\n",
              "      <td>A7</td>\n",
              "      <td>40 SULLIVAN STREET</td>\n",
              "      <td>NaN</td>\n",
              "      <td>...</td>\n",
              "      <td>1</td>\n",
              "      <td>2100.0</td>\n",
              "      <td>4607.0</td>\n",
              "      <td>2015</td>\n",
              "      <td>1</td>\n",
              "      <td>A7</td>\n",
              "      <td>NaN</td>\n",
              "      <td>2017-07-14</td>\n",
              "      <td>True</td>\n",
              "      <td>(-275.912, 72870.4]</td>\n",
              "    </tr>\n",
              "    <tr>\n",
              "      <th>10887</th>\n",
              "      <td>Manhatan</td>\n",
              "      <td>SOUTHBRIDGE</td>\n",
              "      <td>08 RENTALS - ELEVATOR APARTMENTS</td>\n",
              "      <td>2</td>\n",
              "      <td>92</td>\n",
              "      <td>3</td>\n",
              "      <td></td>\n",
              "      <td>D5</td>\n",
              "      <td>165-167 WILLIAM STREET</td>\n",
              "      <td>NaN</td>\n",
              "      <td>...</td>\n",
              "      <td>13</td>\n",
              "      <td>3480.0</td>\n",
              "      <td>31073.0</td>\n",
              "      <td>1908</td>\n",
              "      <td>2</td>\n",
              "      <td>D5</td>\n",
              "      <td>19000000.0</td>\n",
              "      <td>2017-02-10</td>\n",
              "      <td>True</td>\n",
              "      <td>(-275.912, 72870.4]</td>\n",
              "    </tr>\n",
              "    <tr>\n",
              "      <th>11029</th>\n",
              "      <td>Manhatan</td>\n",
              "      <td>TRIBECA</td>\n",
              "      <td>09 COOPS - WALKUP APARTMENTS</td>\n",
              "      <td>2C</td>\n",
              "      <td>193</td>\n",
              "      <td>15</td>\n",
              "      <td></td>\n",
              "      <td>C8</td>\n",
              "      <td>38 WHITE STREET, 2</td>\n",
              "      <td>NaN</td>\n",
              "      <td>...</td>\n",
              "      <td>0</td>\n",
              "      <td>NaN</td>\n",
              "      <td>NaN</td>\n",
              "      <td>1915</td>\n",
              "      <td>2</td>\n",
              "      <td>C8</td>\n",
              "      <td>3700000.0</td>\n",
              "      <td>2017-04-06</td>\n",
              "      <td>True</td>\n",
              "      <td>FAIXA DESCONHECIDA</td>\n",
              "    </tr>\n",
              "    <tr>\n",
              "      <th>11684</th>\n",
              "      <td>Manhatan</td>\n",
              "      <td>UPPER EAST SIDE (59-79)</td>\n",
              "      <td>01 ONE FAMILY DWELLINGS</td>\n",
              "      <td>1</td>\n",
              "      <td>1380</td>\n",
              "      <td>143</td>\n",
              "      <td></td>\n",
              "      <td>A7</td>\n",
              "      <td>58 EAST 66TH STREET</td>\n",
              "      <td>NaN</td>\n",
              "      <td>...</td>\n",
              "      <td>1</td>\n",
              "      <td>2008.0</td>\n",
              "      <td>9600.0</td>\n",
              "      <td>1922</td>\n",
              "      <td>1</td>\n",
              "      <td>A7</td>\n",
              "      <td>24175000.0</td>\n",
              "      <td>2017-02-10</td>\n",
              "      <td>True</td>\n",
              "      <td>(-275.912, 72870.4]</td>\n",
              "    </tr>\n",
              "    <tr>\n",
              "      <th>13420</th>\n",
              "      <td>Manhatan</td>\n",
              "      <td>UPPER EAST SIDE (79-96)</td>\n",
              "      <td>01 ONE FAMILY DWELLINGS</td>\n",
              "      <td>1</td>\n",
              "      <td>1491</td>\n",
              "      <td>43</td>\n",
              "      <td></td>\n",
              "      <td>A4</td>\n",
              "      <td>62 EAST 80TH   STREET</td>\n",
              "      <td>NaN</td>\n",
              "      <td>...</td>\n",
              "      <td>1</td>\n",
              "      <td>1839.0</td>\n",
              "      <td>5280.0</td>\n",
              "      <td>1899</td>\n",
              "      <td>1</td>\n",
              "      <td>A4</td>\n",
              "      <td>NaN</td>\n",
              "      <td>2017-04-01</td>\n",
              "      <td>True</td>\n",
              "      <td>(-275.912, 72870.4]</td>\n",
              "    </tr>\n",
              "    <tr>\n",
              "      <th>15010</th>\n",
              "      <td>Manhatan</td>\n",
              "      <td>UPPER EAST SIDE (96-110)</td>\n",
              "      <td>07 RENTALS - WALKUP APARTMENTS</td>\n",
              "      <td>2</td>\n",
              "      <td>1610</td>\n",
              "      <td>9</td>\n",
              "      <td></td>\n",
              "      <td>C1</td>\n",
              "      <td>21-23 EAST 104 STREET</td>\n",
              "      <td>NaN</td>\n",
              "      <td>...</td>\n",
              "      <td>32</td>\n",
              "      <td>5046.0</td>\n",
              "      <td>26100.0</td>\n",
              "      <td>1930</td>\n",
              "      <td>2</td>\n",
              "      <td>C1</td>\n",
              "      <td>1741816.0</td>\n",
              "      <td>2017-06-29</td>\n",
              "      <td>True</td>\n",
              "      <td>(-275.912, 72870.4]</td>\n",
              "    </tr>\n",
              "    <tr>\n",
              "      <th>15065</th>\n",
              "      <td>Manhatan</td>\n",
              "      <td>UPPER WEST SIDE (59-79)</td>\n",
              "      <td>01 ONE FAMILY DWELLINGS</td>\n",
              "      <td>1</td>\n",
              "      <td>1126</td>\n",
              "      <td>11</td>\n",
              "      <td></td>\n",
              "      <td>A4</td>\n",
              "      <td>43 WEST 73RD STREET</td>\n",
              "      <td>NaN</td>\n",
              "      <td>...</td>\n",
              "      <td>1</td>\n",
              "      <td>2146.0</td>\n",
              "      <td>6485.0</td>\n",
              "      <td>1910</td>\n",
              "      <td>1</td>\n",
              "      <td>A4</td>\n",
              "      <td>15500000.0</td>\n",
              "      <td>2017-01-12</td>\n",
              "      <td>True</td>\n",
              "      <td>(-275.912, 72870.4]</td>\n",
              "    </tr>\n",
              "    <tr>\n",
              "      <th>16504</th>\n",
              "      <td>Manhatan</td>\n",
              "      <td>UPPER WEST SIDE (79-96)</td>\n",
              "      <td>01 ONE FAMILY DWELLINGS</td>\n",
              "      <td>1</td>\n",
              "      <td>1197</td>\n",
              "      <td>18</td>\n",
              "      <td></td>\n",
              "      <td>A9</td>\n",
              "      <td>35 WEST 83RD   STREET</td>\n",
              "      <td>NaN</td>\n",
              "      <td>...</td>\n",
              "      <td>1</td>\n",
              "      <td>1600.0</td>\n",
              "      <td>3750.0</td>\n",
              "      <td>1901</td>\n",
              "      <td>1</td>\n",
              "      <td>A9</td>\n",
              "      <td>NaN</td>\n",
              "      <td>2017-01-31</td>\n",
              "      <td>True</td>\n",
              "      <td>(-275.912, 72870.4]</td>\n",
              "    </tr>\n",
              "  </tbody>\n",
              "</table>\n",
              "<p>36 rows × 23 columns</p>\n",
              "</div>"
            ],
            "text/plain": [
              "        BOROUGH               NEIGHBORHOOD  \\\n",
              "0      Manhatan              ALPHABET CITY   \n",
              "204    Manhatan                    CHELSEA   \n",
              "1007   Manhatan                  CHINATOWN   \n",
              "1122   Manhatan               CIVIC CENTER   \n",
              "1445   Manhatan                    CLINTON   \n",
              "1791   Manhatan               EAST VILLAGE   \n",
              "1969   Manhatan                    FASHION   \n",
              "2090   Manhatan                  FINANCIAL   \n",
              "2586   Manhatan                   FLATIRON   \n",
              "3059   Manhatan                   GRAMERCY   \n",
              "3533   Manhatan  GREENWICH VILLAGE-CENTRAL   \n",
              "4171   Manhatan     GREENWICH VILLAGE-WEST   \n",
              "4797   Manhatan             HARLEM-CENTRAL   \n",
              "5644   Manhatan                HARLEM-EAST   \n",
              "5988   Manhatan               HARLEM-UPPER   \n",
              "6129   Manhatan                HARLEM-WEST   \n",
              "6167   Manhatan                     INWOOD   \n",
              "6286   Manhatan              JAVITS CENTER   \n",
              "6327   Manhatan                   KIPS BAY   \n",
              "6697   Manhatan               LITTLE ITALY   \n",
              "6738   Manhatan            LOWER EAST SIDE   \n",
              "7040   Manhatan           MANHATTAN VALLEY   \n",
              "7274   Manhatan                MIDTOWN CBD   \n",
              "7474   Manhatan               MIDTOWN EAST   \n",
              "8892   Manhatan               MIDTOWN WEST   \n",
              "9810   Manhatan        MORNINGSIDE HEIGHTS   \n",
              "9882   Manhatan                MURRAY HILL   \n",
              "10503  Manhatan           ROOSEVELT ISLAND   \n",
              "10571  Manhatan                       SOHO   \n",
              "10887  Manhatan                SOUTHBRIDGE   \n",
              "11029  Manhatan                    TRIBECA   \n",
              "11684  Manhatan    UPPER EAST SIDE (59-79)   \n",
              "13420  Manhatan    UPPER EAST SIDE (79-96)   \n",
              "15010  Manhatan   UPPER EAST SIDE (96-110)   \n",
              "15065  Manhatan    UPPER WEST SIDE (59-79)   \n",
              "16504  Manhatan    UPPER WEST SIDE (79-96)   \n",
              "\n",
              "                           BUILDING CLASS CATEGORY TAX CLASS AT PRESENT BLOCK  \\\n",
              "0      07 RENTALS - WALKUP APARTMENTS                                2A   392   \n",
              "204    01 ONE FAMILY DWELLINGS                                        1   766   \n",
              "1007   07 RENTALS - WALKUP APARTMENTS                                 2   162   \n",
              "1122   07 RENTALS - WALKUP APARTMENTS                                2B   175   \n",
              "1445   07 RENTALS - WALKUP APARTMENTS                                 2  1053   \n",
              "1791   02 TWO FAMILY DWELLINGS                                        1   436   \n",
              "1969   07 RENTALS - WALKUP APARTMENTS                                 2   762   \n",
              "2090   08 RENTALS - ELEVATOR APARTMENTS                               2    27   \n",
              "2586   08 RENTALS - ELEVATOR APARTMENTS                               2   844   \n",
              "3059   02 TWO FAMILY DWELLINGS                                        1   873   \n",
              "3533   01 ONE FAMILY DWELLINGS                                        1   525   \n",
              "4171   01 ONE FAMILY DWELLINGS                                        1   584   \n",
              "4797   01 ONE FAMILY DWELLINGS                                        1  1829   \n",
              "5644   01 ONE FAMILY DWELLINGS                                        1  1625   \n",
              "5988   01 ONE FAMILY DWELLINGS                                        1  2058   \n",
              "6129   01 ONE FAMILY DWELLINGS                                        1  2071   \n",
              "6167   01 ONE FAMILY DWELLINGS                                        1  2215   \n",
              "6286   02 TWO FAMILY DWELLINGS                                        1   733   \n",
              "6327   02 TWO FAMILY DWELLINGS                                        1   924   \n",
              "6697   01 ONE FAMILY DWELLINGS                                        1   471   \n",
              "6738   02 TWO FAMILY DWELLINGS                                        1   288   \n",
              "7040   03 THREE FAMILY DWELLINGS                                      1  1847   \n",
              "7274   10 COOPS - ELEVATOR APARTMENTS                                 2  1293   \n",
              "7474   01 ONE FAMILY DWELLINGS                                        1  1322   \n",
              "8892   07 RENTALS - WALKUP APARTMENTS                                2B  1009   \n",
              "9810   07 RENTALS - WALKUP APARTMENTS                                 2  1993   \n",
              "9882   01 ONE FAMILY DWELLINGS                                        1   893   \n",
              "10503  10 COOPS - ELEVATOR APARTMENTS                                 2  1373   \n",
              "10571  01 ONE FAMILY DWELLINGS                                        1   490   \n",
              "10887  08 RENTALS - ELEVATOR APARTMENTS                               2    92   \n",
              "11029  09 COOPS - WALKUP APARTMENTS                                  2C   193   \n",
              "11684  01 ONE FAMILY DWELLINGS                                        1  1380   \n",
              "13420  01 ONE FAMILY DWELLINGS                                        1  1491   \n",
              "15010  07 RENTALS - WALKUP APARTMENTS                                 2  1610   \n",
              "15065  01 ONE FAMILY DWELLINGS                                        1  1126   \n",
              "16504  01 ONE FAMILY DWELLINGS                                        1  1197   \n",
              "\n",
              "       LOT EASE-MENT BUILDING CLASS AT PRESENT                 ADDRESS  \\\n",
              "0        6                                  C2            153 AVENUE B   \n",
              "204     13                                  A9  251 WEST 16TH   STREET   \n",
              "1007    15                                  C7          28 MOTT STREET   \n",
              "1122    19                                  C7         41 WHITE STREET   \n",
              "1445     4                                  C7       602 10TH   AVENUE   \n",
              "1791     1                                  S2            138 1 AVENUE   \n",
              "1969    17                                  C4    331 WEST 38TH STREET   \n",
              "2090     9                                  D5          63 WALL STREET   \n",
              "2586     8                                  D6    9 EAST 16TH   STREET   \n",
              "3059    31                                  S2  141 EAST 17TH   STREET   \n",
              "3533    34                                  S1     168 THOMPSON STREET   \n",
              "4171    31                                  A4       75 BEDFORD STREET   \n",
              "4797   125                                  A4     221 WEST 113 STREET   \n",
              "5644   101                                  A9   101B EAST 97TH STREET   \n",
              "5988     6                                  A9     465 WEST 141 STREET   \n",
              "6129   141                                  A9   516 WEST 140TH STREET   \n",
              "6167   510                                  A5   49 MARBLE HILL AVENUE   \n",
              "6286    63                                  S2    448 WEST 36TH STREET   \n",
              "6327    11                                  B9  313 EAST 18TH   STREET   \n",
              "6697     2                                  A4   2 CENTRE MARKET PLACE   \n",
              "6738    36                                  S2        527 GRAND STREET   \n",
              "7040    11                                  C0     317 WEST 112 STREET   \n",
              "7274    37                                  D4    470 PARK AVENUE, 11B   \n",
              "7474     8                                  A4  213 EAST 48TH   STREET   \n",
              "8892    16                                  C7    129 WEST 56TH STREET   \n",
              "9810    82                                  C7           3151 BROADWAY   \n",
              "9882    71                                  A4  132 EAST 38TH   STREET   \n",
              "10503    1                                  D4           40 RIVER ROAD   \n",
              "10571   28                                  A7      40 SULLIVAN STREET   \n",
              "10887    3                                  D5  165-167 WILLIAM STREET   \n",
              "11029   15                                  C8      38 WHITE STREET, 2   \n",
              "11684  143                                  A7     58 EAST 66TH STREET   \n",
              "13420   43                                  A4   62 EAST 80TH   STREET   \n",
              "15010    9                                  C1   21-23 EAST 104 STREET   \n",
              "15065   11                                  A4     43 WEST 73RD STREET   \n",
              "16504   18                                  A9   35 WEST 83RD   STREET   \n",
              "\n",
              "       APARTMENT NUMBER  ...  TOTAL UNITS  LAND SQUARE FEET  \\\n",
              "0                   NaN  ...            5            1633.0   \n",
              "204                 NaN  ...            1            1360.0   \n",
              "1007                NaN  ...           18            2307.0   \n",
              "1122                NaN  ...            8            2633.0   \n",
              "1445                NaN  ...           15            2217.0   \n",
              "1791                NaN  ...            3            1200.0   \n",
              "1969                NaN  ...           18            2475.0   \n",
              "2090                NaN  ...          482           17623.0   \n",
              "2586                NaN  ...           16            4600.0   \n",
              "3059                NaN  ...            3            2300.0   \n",
              "3533                NaN  ...            2            1350.0   \n",
              "4171                NaN  ...            1            1640.0   \n",
              "4797                NaN  ...            1            1682.0   \n",
              "5644                NaN  ...            1             847.0   \n",
              "5988                NaN  ...            1            1799.0   \n",
              "6129                NaN  ...            1            1499.0   \n",
              "6167                NaN  ...            1            1219.0   \n",
              "6286                NaN  ...            3            2469.0   \n",
              "6327                NaN  ...            2            1840.0   \n",
              "6697                NaN  ...            1            1016.0   \n",
              "6738                NaN  ...            3            1238.0   \n",
              "7040                NaN  ...            3            1682.0   \n",
              "7274                NaN  ...            0               NaN   \n",
              "7474                NaN  ...            1            1665.0   \n",
              "8892                NaN  ...            9            2092.0   \n",
              "9810                NaN  ...           23            4158.0   \n",
              "9882                NaN  ...            1             495.0   \n",
              "10503               NaN  ...            0               NaN   \n",
              "10571               NaN  ...            1            2100.0   \n",
              "10887               NaN  ...           13            3480.0   \n",
              "11029               NaN  ...            0               NaN   \n",
              "11684               NaN  ...            1            2008.0   \n",
              "13420               NaN  ...            1            1839.0   \n",
              "15010               NaN  ...           32            5046.0   \n",
              "15065               NaN  ...            1            2146.0   \n",
              "16504               NaN  ...            1            1600.0   \n",
              "\n",
              "       GROSS SQUARE FEET  YEAR BUILT  TAX CLASS AT TIME OF SALE  \\\n",
              "0                 6440.0        1900                          2   \n",
              "204               2736.0        1910                          1   \n",
              "1007              8577.0        1920                          2   \n",
              "1122             12000.0        1915                          2   \n",
              "1445              9475.0        1910                          2   \n",
              "1791              3360.0        1900                          1   \n",
              "1969              9690.0        1920                          2   \n",
              "2090            400531.0        1929                          2   \n",
              "2586             30680.0        1900                          2   \n",
              "3059              6720.0        1920                          1   \n",
              "3533              5807.0        1900                          1   \n",
              "4171              2400.0        1901                          1   \n",
              "4797              2727.0        1910                          1   \n",
              "5644              1472.0        1925                          1   \n",
              "5988              6264.0        1920                          1   \n",
              "6129              2845.0        1899                          1   \n",
              "6167              1224.0        1920                          1   \n",
              "6286              4747.0        1910                          1   \n",
              "6327              2880.0        1910                          1   \n",
              "6697              3700.0        1800                          1   \n",
              "6738              3714.0        1910                          1   \n",
              "7040              3333.0        1900                          1   \n",
              "7274                 NaN        1916                          2   \n",
              "7474              3060.0        1899                          1   \n",
              "8892              8180.0        1920                          2   \n",
              "9810             16377.0        1905                          2   \n",
              "9882              1920.0        1910                          1   \n",
              "10503                NaN        1975                          2   \n",
              "10571             4607.0        2015                          1   \n",
              "10887            31073.0        1908                          2   \n",
              "11029                NaN        1915                          2   \n",
              "11684             9600.0        1922                          1   \n",
              "13420             5280.0        1899                          1   \n",
              "15010            26100.0        1930                          2   \n",
              "15065             6485.0        1910                          1   \n",
              "16504             3750.0        1901                          1   \n",
              "\n",
              "       BUILDING CLASS AT TIME OF SALE   SALE PRICE  SALE DATE  \\\n",
              "0                                  C2    6625000.0 2017-07-19   \n",
              "204                                A9          NaN 2017-01-06   \n",
              "1007                               C7          NaN 2017-06-16   \n",
              "1122                               C7  141500000.0 2017-07-13   \n",
              "1445                               C7          NaN 2016-11-04   \n",
              "1791                               S2    3000000.0 2017-08-31   \n",
              "1969                               C4          NaN 2016-12-23   \n",
              "2090                               D5  239114603.0 2016-09-30   \n",
              "2586                               D6          NaN 2017-01-30   \n",
              "3059                               S2    5300000.0 2017-08-03   \n",
              "3533                               S1    9999999.0 2016-11-22   \n",
              "4171                               A4    7800000.0 2017-08-15   \n",
              "4797                               A4          NaN 2016-12-15   \n",
              "5644                               A9          NaN 2017-03-07   \n",
              "5988                               A9          NaN 2016-12-15   \n",
              "6129                               A9    2260000.0 2016-10-19   \n",
              "6167                               A5     635000.0 2017-08-18   \n",
              "6286                               S2    6100000.0 2017-01-13   \n",
              "6327                               B9    4600000.0 2016-09-02   \n",
              "6697                               A4    7090000.0 2017-03-09   \n",
              "6738                               S2          NaN 2017-02-14   \n",
              "7040                               C0    3075000.0 2017-03-20   \n",
              "7274                               D4    2000000.0 2016-11-28   \n",
              "7474                               A4    5000000.0 2017-02-15   \n",
              "8892                               C7          NaN 2016-12-13   \n",
              "9810                               C7          NaN 2016-09-21   \n",
              "9882                               A4    3850000.0 2017-07-10   \n",
              "10503                              D4    4127983.0 2016-11-01   \n",
              "10571                              A7          NaN 2017-07-14   \n",
              "10887                              D5   19000000.0 2017-02-10   \n",
              "11029                              C8    3700000.0 2017-04-06   \n",
              "11684                              A7   24175000.0 2017-02-10   \n",
              "13420                              A4          NaN 2017-04-01   \n",
              "15010                              C1    1741816.0 2017-06-29   \n",
              "15065                              A4   15500000.0 2017-01-12   \n",
              "16504                              A9          NaN 2017-01-31   \n",
              "\n",
              "      IS_NULL_APARTMENT_NUMBER  LAND SQUARE FEET FAIXA  \n",
              "0                         True     (-275.912, 72870.4]  \n",
              "204                       True     (-275.912, 72870.4]  \n",
              "1007                      True     (-275.912, 72870.4]  \n",
              "1122                      True     (-275.912, 72870.4]  \n",
              "1445                      True     (-275.912, 72870.4]  \n",
              "1791                      True     (-275.912, 72870.4]  \n",
              "1969                      True     (-275.912, 72870.4]  \n",
              "2090                      True     (-275.912, 72870.4]  \n",
              "2586                      True     (-275.912, 72870.4]  \n",
              "3059                      True     (-275.912, 72870.4]  \n",
              "3533                      True     (-275.912, 72870.4]  \n",
              "4171                      True     (-275.912, 72870.4]  \n",
              "4797                      True     (-275.912, 72870.4]  \n",
              "5644                      True     (-275.912, 72870.4]  \n",
              "5988                      True     (-275.912, 72870.4]  \n",
              "6129                      True     (-275.912, 72870.4]  \n",
              "6167                      True     (-275.912, 72870.4]  \n",
              "6286                      True     (-275.912, 72870.4]  \n",
              "6327                      True     (-275.912, 72870.4]  \n",
              "6697                      True     (-275.912, 72870.4]  \n",
              "6738                      True     (-275.912, 72870.4]  \n",
              "7040                      True     (-275.912, 72870.4]  \n",
              "7274                      True      FAIXA DESCONHECIDA  \n",
              "7474                      True     (-275.912, 72870.4]  \n",
              "8892                      True     (-275.912, 72870.4]  \n",
              "9810                      True     (-275.912, 72870.4]  \n",
              "9882                      True     (-275.912, 72870.4]  \n",
              "10503                     True      FAIXA DESCONHECIDA  \n",
              "10571                     True     (-275.912, 72870.4]  \n",
              "10887                     True     (-275.912, 72870.4]  \n",
              "11029                     True      FAIXA DESCONHECIDA  \n",
              "11684                     True     (-275.912, 72870.4]  \n",
              "13420                     True     (-275.912, 72870.4]  \n",
              "15010                     True     (-275.912, 72870.4]  \n",
              "15065                     True     (-275.912, 72870.4]  \n",
              "16504                     True     (-275.912, 72870.4]  \n",
              "\n",
              "[36 rows x 23 columns]"
            ]
          },
          "execution_count": 54,
          "metadata": {},
          "output_type": "execute_result"
        }
      ],
      "source": [
        "# O parâmetro subset nos da a liberdade de procurar duplicatas apenas em um conjunto de colunas\n",
        "nyc_sales.drop_duplicates(subset= ['BOROUGH','NEIGHBORHOOD'])\n",
        "# podemos ter keep=last (mantém a última linha) ou keep = False (não mantém nenhuma)"
      ]
    },
    {
      "cell_type": "markdown",
      "metadata": {
        "id": "cNdjxX9QLpPx"
      },
      "source": [
        "## Remoção de Colunas Constantes"
      ]
    },
    {
      "cell_type": "markdown",
      "metadata": {
        "id": "ldnohTb1LpPx"
      },
      "source": [
        "Uma coluna constante não agrega em informação para nenhuma análise. Geralmente excluímos."
      ]
    },
    {
      "cell_type": "code",
      "execution_count": null,
      "metadata": {
        "id": "hfqm_677LpPx",
        "outputId": "a729f8eb-2b53-4794-8b53-0350987e5102"
      },
      "outputs": [
        {
          "name": "stdout",
          "output_type": "stream",
          "text": [
            "NEIGHBORHOOD OK\n",
            "BUILDING CLASS CATEGORY OK\n",
            "TAX CLASS AT PRESENT OK\n",
            "BLOCK OK\n",
            "LOT OK\n",
            "BUILDING CLASS AT PRESENT OK\n",
            "ADDRESS OK\n",
            "APARTMENT NUMBER OK\n",
            "ZIP CODE OK\n",
            "RESIDENTIAL UNITS OK\n",
            "COMMERCIAL UNITS OK\n",
            "TOTAL UNITS OK\n",
            "LAND SQUARE FEET OK\n",
            "GROSS SQUARE FEET OK\n",
            "YEAR BUILT OK\n",
            "TAX CLASS AT TIME OF SALE OK\n",
            "BUILDING CLASS AT TIME OF SALE OK\n",
            "SALE PRICE OK\n",
            "SALE DATE OK\n",
            "IS_NULL_APARTMENT_NUMBER OK\n",
            "LAND SQUARE FEET FAIXA OK\n"
          ]
        }
      ],
      "source": [
        "# podemos varrer as colunas com um foor lop e identificar quais colunas possuem apenas um valor possível de preenchimento\n",
        "colunas_constantes = []\n",
        "\n",
        "for col in nyc_sales.columns:\n",
        "    if len(nyc_sales[col].unique()) == 1:\n",
        "        colunas_constantes.append(col)\n",
        "    else:\n",
        "        print(f'{col} OK')"
      ]
    },
    {
      "cell_type": "code",
      "execution_count": null,
      "metadata": {
        "id": "Yp_KmJfmLpPx",
        "outputId": "7680f85c-d4cf-4f40-d1a9-b13223908bc7"
      },
      "outputs": [
        {
          "data": {
            "text/plain": [
              "1"
            ]
          },
          "execution_count": 56,
          "metadata": {},
          "output_type": "execute_result"
        }
      ],
      "source": [
        "len(nyc_sales['BOROUGH'].unique())"
      ]
    },
    {
      "cell_type": "code",
      "execution_count": null,
      "metadata": {
        "id": "XxpWCpA-LpPy",
        "outputId": "c0a95d21-5058-417f-8bb7-80e9629f6f41"
      },
      "outputs": [
        {
          "data": {
            "text/plain": [
              "Index(['BOROUGH', 'NEIGHBORHOOD', 'BUILDING CLASS CATEGORY',\n",
              "       'TAX CLASS AT PRESENT', 'BLOCK', 'LOT', 'EASE-MENT',\n",
              "       'BUILDING CLASS AT PRESENT', 'ADDRESS', 'APARTMENT NUMBER', 'ZIP CODE',\n",
              "       'RESIDENTIAL UNITS', 'COMMERCIAL UNITS', 'TOTAL UNITS',\n",
              "       'LAND SQUARE FEET', 'GROSS SQUARE FEET', 'YEAR BUILT',\n",
              "       'TAX CLASS AT TIME OF SALE', 'BUILDING CLASS AT TIME OF SALE',\n",
              "       'SALE PRICE', 'SALE DATE', 'IS_NULL_APARTMENT_NUMBER',\n",
              "       'LAND SQUARE FEET FAIXA'],\n",
              "      dtype='object')"
            ]
          },
          "execution_count": 57,
          "metadata": {},
          "output_type": "execute_result"
        }
      ],
      "source": [
        "nyc_sales.columns"
      ]
    },
    {
      "cell_type": "code",
      "execution_count": null,
      "metadata": {
        "id": "a-OypmVILpPy",
        "outputId": "f5f17d5f-79e7-424f-8dd8-dd7943106b24"
      },
      "outputs": [
        {
          "data": {
            "text/plain": [
              "['BOROUGH', 'EASE-MENT']"
            ]
          },
          "execution_count": 58,
          "metadata": {},
          "output_type": "execute_result"
        }
      ],
      "source": [
        "colunas_constantes"
      ]
    },
    {
      "cell_type": "markdown",
      "metadata": {
        "id": "mg04BrLcLpPy"
      },
      "source": [
        "# Plotagem de Gráficos"
      ]
    },
    {
      "cell_type": "markdown",
      "metadata": {
        "id": "vl8p--jQLpPy"
      },
      "source": [
        "Gráficos com matplotlib e pandas\n",
        "\n",
        "![image.png](data:image/png;base64,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)\n"
      ]
    },
    {
      "cell_type": "code",
      "execution_count": null,
      "metadata": {
        "id": "KcmYj3YnLpP0"
      },
      "outputs": [],
      "source": [
        "import numpy as np\n",
        "import matplotlib.pyplot as plt"
      ]
    },
    {
      "cell_type": "code",
      "execution_count": null,
      "metadata": {
        "id": "HK065tJcLpP1"
      },
      "outputs": [],
      "source": [
        "X = np.linspace(-np.pi, np.pi, 256, endpoint=True)\n",
        "C, S = np.cos(X), np.sin(X)"
      ]
    },
    {
      "cell_type": "code",
      "execution_count": null,
      "metadata": {
        "id": "Y354Xg2ZLpP1",
        "outputId": "228a5739-021f-4dfd-8995-4c1bb2454329"
      },
      "outputs": [
        {
          "data": {
            "image/png": "[encoded data removed]",
            "text/plain": [
              "<Figure size 640x480 with 1 Axes>"
            ]
          },
          "metadata": {},
          "output_type": "display_data"
        }
      ],
      "source": [
        "#um gráfico simples deixando o matplotlib escolher os valores\n",
        "plt.plot(X,C)\n",
        "plt.plot(X,S)\n",
        "\n",
        "plt.show()"
      ]
    },
    {
      "cell_type": "code",
      "execution_count": null,
      "metadata": {
        "id": "eeGLucc2LpP2",
        "outputId": "6c1f7cac-0d24-47dd-9c63-ceb0015581c9"
      },
      "outputs": [
        {
          "data": {
            "image/png": "[encoded data removed]",
            "text/plain": [
              "<Figure size 640x480 with 1 Axes>"
            ]
          },
          "metadata": {},
          "output_type": "display_data"
        }
      ],
      "source": [
        "plt.plot(X, C, color=\"blue\", linewidth=1.0, linestyle=\"-\")\n",
        "\n",
        "plt.plot(X, S, color=\"green\", linewidth=1.0, linestyle=\"-\")\n",
        "\n",
        "plt.xlim(-4.0,4.0)\n",
        "\n",
        "plt.xticks(np.linspace(-4,4,9,endpoint=True))\n",
        "\n",
        "plt.ylim(-1.0,1.0)\n",
        "\n",
        "plt.yticks(np.linspace(-1,1,5,endpoint=True))\n",
        "\n",
        "plt.show()"
      ]
    },
    {
      "cell_type": "code",
      "execution_count": null,
      "metadata": {
        "id": "PaJ16OURLpP3",
        "outputId": "e5dc1a46-31d5-4387-e08a-31b505b082c1"
      },
      "outputs": [
        {
          "data": {
            "image/png": "[encoded data removed]",
            "text/plain": [
              "<Figure size 640x480 with 1 Axes>"
            ]
          },
          "metadata": {},
          "output_type": "display_data"
        }
      ],
      "source": [
        "plt.plot(X, C, color=\"blue\", linewidth=2.5, linestyle=\"-\")\n",
        "plt.plot(X, S, color=\"red\", linewidth=2.5, linestyle=\"-\")\n",
        "\n",
        "plt.xlim(X.min()*1.1, X.max()*1.1)\n",
        "plt.ylim(C.min()*1.1,C.max()*1.1)\n",
        "\n",
        "plt.show()"
      ]
    },
    {
      "cell_type": "code",
      "execution_count": null,
      "metadata": {
        "id": "lCuxuKTeLpP4",
        "outputId": "b9efa73c-fe72-4dbc-8ad7-4444d6ff7408"
      },
      "outputs": [
        {
          "data": {
            "image/png": "[encoded data removed]",
            "text/plain": [
              "<Figure size 640x480 with 1 Axes>"
            ]
          },
          "metadata": {},
          "output_type": "display_data"
        }
      ],
      "source": [
        "plt.plot(X, C, color=\"blue\", linewidth=2.5, linestyle=\"-\")\n",
        "plt.plot(X, S, color=\"red\", linewidth=2.5, linestyle=\"-\")\n",
        "\n",
        "plt.xlim(X.min()*1.1, X.max()*1.1)\n",
        "plt.xticks([-np.pi, -np.pi/2, 0, np.pi/2, np.pi],\n",
        "       [r'$-\\pi$', r'$-\\pi/2$', r'$0$', r'$+\\pi/2$', r'$+\\pi$'])\n",
        "\n",
        "plt.ylim(C.min()*1.1,C.max()*1.1)\n",
        "plt.yticks([-1, 0, +1],\n",
        "       [r'$-1$', r'$0$', r'$+1$'])\n",
        "\n",
        "plt.show()"
      ]
    },
    {
      "cell_type": "code",
      "execution_count": null,
      "metadata": {
        "id": "JFCwBPU_LpP5",
        "outputId": "d58ef574-09fe-4316-d3a5-94a8f925a325"
      },
      "outputs": [
        {
          "data": {
            "image/png": "[encoded data removed]",
            "text/plain": [
              "<Figure size 640x400 with 1 Axes>"
            ]
          },
          "metadata": {},
          "output_type": "display_data"
        }
      ],
      "source": [
        "plt.figure(figsize=(8,5), dpi=80)\n",
        "ax = plt.subplot(111)\n",
        "\n",
        "ax.spines['right'].set_color('none')\n",
        "ax.spines['top'].set_color('none')\n",
        "ax.xaxis.set_ticks_position('bottom')\n",
        "ax.spines['bottom'].set_position(('data',0))\n",
        "ax.yaxis.set_ticks_position('left')\n",
        "ax.spines['left'].set_position(('data',0))\n",
        "\n",
        "X = np.linspace(-np.pi, np.pi, 256,endpoint=True)\n",
        "C,S = np.cos(X), np.sin(X)\n",
        "\n",
        "plt.plot(X, C, color=\"blue\", linewidth=2.5, linestyle=\"-\")\n",
        "plt.plot(X, S, color=\"red\", linewidth=2.5, linestyle=\"-\")\n",
        "\n",
        "\n",
        "plt.xlim(X.min()*1.1, X.max()*1.1)\n",
        "plt.xticks([-np.pi, -np.pi/2, 0, np.pi/2, np.pi],\n",
        "       [r'$-\\pi$', r'$-\\pi/2$', r'$0$', r'$+\\pi/2$', r'$+\\pi$'])\n",
        "\n",
        "plt.ylim(C.min()*1.1,C.max()*1.1)\n",
        "plt.yticks([-1, 0, +1],\n",
        "       [r'$-1$', r'$0$', r'$+1$'])\n",
        "\n",
        "plt.show()"
      ]
    },
    {
      "cell_type": "code",
      "execution_count": null,
      "metadata": {
        "id": "uxnsysE3LpP5",
        "outputId": "e0273959-35ba-4904-84e6-0b2ad448c355"
      },
      "outputs": [
        {
          "name": "stderr",
          "output_type": "stream",
          "text": [
            "No artists with labels found to put in legend.  Note that artists whose label start with an underscore are ignored when legend() is called with no argument.\n"
          ]
        },
        {
          "data": {
            "text/plain": [
              "<matplotlib.legend.Legend at 0x149640b20>"
            ]
          },
          "execution_count": 68,
          "metadata": {},
          "output_type": "execute_result"
        },
        {
          "data": {
            "image/png": "[encoded data removed]",
            "text/plain": [
              "<Figure size 640x480 with 1 Axes>"
            ]
          },
          "metadata": {},
          "output_type": "display_data"
        }
      ],
      "source": [
        "plt.legend(loc='upper left', frameon=False)"
      ]
    },
    {
      "cell_type": "code",
      "execution_count": null,
      "metadata": {
        "id": "5Cy1XW0OLpP5",
        "outputId": "29458347-a0e0-47b6-fc96-9d9a710d8fcb"
      },
      "outputs": [
        {
          "data": {
            "image/png": "[encoded data removed]",
            "text/plain": [
              "<Figure size 640x400 with 1 Axes>"
            ]
          },
          "metadata": {},
          "output_type": "display_data"
        }
      ],
      "source": [
        "\n",
        "plt.figure(figsize=(8,5), dpi=80)\n",
        "ax = plt.subplot(111)\n",
        "ax.spines['right'].set_color('none')\n",
        "ax.spines['top'].set_color('none')\n",
        "ax.xaxis.set_ticks_position('bottom')\n",
        "ax.spines['bottom'].set_position(('data',0))\n",
        "ax.yaxis.set_ticks_position('left')\n",
        "ax.spines['left'].set_position(('data',0))\n",
        "\n",
        "X = np.linspace(-np.pi, np.pi, 256,endpoint=True)\n",
        "C,S = np.cos(X), np.sin(X)\n",
        "\n",
        "plt.plot(X, C, color=\"blue\", linewidth=2.5, linestyle=\"-\", label=\"cosine\")\n",
        "plt.plot(X, S, color=\"red\", linewidth=2.5, linestyle=\"-\",  label=\"sine\")\n",
        "\n",
        "plt.xlim(X.min()*1.1, X.max()*1.1)\n",
        "plt.xticks([-np.pi, -np.pi/2, 0, np.pi/2, np.pi],\n",
        "           [r'$-\\pi$', r'$-\\pi/2$', r'$0$', r'$+\\pi/2$', r'$+\\pi$'])\n",
        "\n",
        "plt.ylim(C.min()*1.1,C.max()*1.1)\n",
        "plt.yticks([-1, +1],\n",
        "           [r'$-1$', r'$+1$'])\n",
        "\n",
        "t = 2*np.pi/3\n",
        "plt.plot([t,t],[0,np.cos(t)],\n",
        "         color ='blue',  linewidth=1.5, linestyle=\"--\")\n",
        "plt.scatter([t,],[np.cos(t),], 50, color ='blue')\n",
        "plt.annotate(r'$\\cos(\\frac{2\\pi}{3})=-\\frac{1}{2}$',\n",
        "             xy=(t, np.cos(t)),  xycoords='data',\n",
        "             xytext=(-90, -50), textcoords='offset points', fontsize=16,\n",
        "             arrowprops=dict(arrowstyle=\"->\", connectionstyle=\"arc3,rad=.2\"))\n",
        "\n",
        "plt.plot([t,t],[0,np.sin(t)],\n",
        "         color ='red',  linewidth=1.5, linestyle=\"--\")\n",
        "plt.scatter([t,],[np.sin(t),], 50, color ='red')\n",
        "plt.annotate(r'$\\sin(\\frac{2\\pi}{3})=\\frac{\\sqrt{3}}{2}$',\n",
        "             xy=(t, np.sin(t)),  xycoords='data',\n",
        "             xytext=(+10, +30), textcoords='offset points', fontsize=16,\n",
        "             arrowprops=dict(arrowstyle=\"->\", connectionstyle=\"arc3,rad=.2\"))\n",
        "\n",
        "plt.legend(loc='upper left', frameon=False)\n",
        "#plt.savefig(\"figura.png\",dpi=72)\n",
        "plt.show()"
      ]
    },
    {
      "cell_type": "code",
      "execution_count": null,
      "metadata": {
        "id": "C3JirUsJLpP6",
        "outputId": "55db0fd5-8630-491e-d821-2c6b06d1c4ae"
      },
      "outputs": [
        {
          "data": {
            "image/png": "[encoded data removed]",
            "text/plain": [
              "<Figure size 640x480 with 1 Axes>"
            ]
          },
          "metadata": {},
          "output_type": "display_data"
        }
      ],
      "source": [
        "n = 1024\n",
        "X = np.random.normal(0,1,n)\n",
        "Y = np.random.normal(0,1,n)\n",
        "\n",
        "plt.scatter(X,Y)\n",
        "plt.show()"
      ]
    },
    {
      "cell_type": "code",
      "execution_count": null,
      "metadata": {
        "id": "TDV65UMqLpP6",
        "outputId": "c475301b-3703-4e58-eeb0-7f4a0d684134"
      },
      "outputs": [
        {
          "data": {
            "image/png": "[encoded data removed]",
            "text/plain": [
              "<Figure size 640x480 with 1 Axes>"
            ]
          },
          "metadata": {},
          "output_type": "display_data"
        }
      ],
      "source": [
        "n = 12\n",
        "X = np.arange(n)\n",
        "Y1 = (1-X/float(n)) * np.random.uniform(0.5,1.0,n)\n",
        "\n",
        "plt.bar(X, +Y1, facecolor='#9999ff', edgecolor='white')\n",
        "\n",
        "plt.ylim(0,+1.25)\n",
        "plt.show()"
      ]
    },
    {
      "cell_type": "code",
      "execution_count": null,
      "metadata": {
        "id": "Uva9rR63LpP7",
        "outputId": "fd32f9f4-954e-44bd-df3c-75e43f64f4e7"
      },
      "outputs": [
        {
          "name": "stderr",
          "output_type": "stream",
          "text": [
            "/var/folders/zm/3bssg1p14lj63wq1qny6y2qh0000gn/T/ipykernel_4244/3936655370.py:9: UserWarning: The following kwargs were not used by contour: 'linewidth'\n",
            "  C = plt.contour(X, Y, f(X,Y), 8, colors='black', linewidth=.5)\n"
          ]
        },
        {
          "data": {
            "image/png": "[encoded data removed]",
            "text/plain": [
              "<Figure size 640x480 with 1 Axes>"
            ]
          },
          "metadata": {},
          "output_type": "display_data"
        }
      ],
      "source": [
        "def f(x,y): return (1-x/2+x**5+y**3)*np.exp(-x**2-y**2)\n",
        "\n",
        "n = 256\n",
        "x = np.linspace(-3,3,n)\n",
        "y = np.linspace(-3,3,n)\n",
        "X,Y = np.meshgrid(x,y)\n",
        "\n",
        "plt.contourf(X, Y, f(X,Y), 8, alpha=.75, cmap='jet')\n",
        "C = plt.contour(X, Y, f(X,Y), 8, colors='black', linewidth=.5)\n",
        "plt.show()"
      ]
    },
    {
      "cell_type": "code",
      "execution_count": null,
      "metadata": {
        "id": "FpxUp8SsLpP7",
        "outputId": "adeead98-e112-4bb3-938d-efdc6dfb4eae"
      },
      "outputs": [
        {
          "data": {
            "image/png": "[encoded data removed]",
            "text/plain": [
              "<Figure size 640x480 with 1 Axes>"
            ]
          },
          "metadata": {},
          "output_type": "display_data"
        }
      ],
      "source": [
        "def f(x,y): return (1-x/2+x**5+y**3)*np.exp(-x**2-y**2)\n",
        "\n",
        "n = 10\n",
        "x = np.linspace(-3,3,4*n)\n",
        "y = np.linspace(-3,3,3*n)\n",
        "X,Y = np.meshgrid(x,y)\n",
        "plt.imshow(f(X,Y))\n",
        "plt.show()"
      ]
    },
    {
      "cell_type": "code",
      "execution_count": null,
      "metadata": {
        "id": "qPtm7zoGLpP7",
        "outputId": "bbb7e492-77e8-4972-e422-5b0ed4c309ba"
      },
      "outputs": [
        {
          "data": {
            "image/png": "[encoded data removed]",
            "text/plain": [
              "<Figure size 640x480 with 3 Axes>"
            ]
          },
          "metadata": {},
          "output_type": "display_data"
        }
      ],
      "source": [
        "plt.subplot(2,2,1)\n",
        "plt.subplot(2,2,3)\n",
        "plt.subplot(2,2,4)\n",
        "\n",
        "plt.show()"
      ]
    },
    {
      "cell_type": "markdown",
      "metadata": {
        "id": "-URKr6GOLpP8"
      },
      "source": [
        "## Heat Map"
      ]
    },
    {
      "cell_type": "code",
      "execution_count": null,
      "metadata": {
        "id": "6P_blfAnLpP8"
      },
      "outputs": [],
      "source": []
    },
    {
      "cell_type": "code",
      "execution_count": null,
      "metadata": {
        "id": "TLn4RPttLpP8",
        "outputId": "c8ad84f6-4543-469d-cf43-fd4e8a137f0c"
      },
      "outputs": [
        {
          "data": {
            "text/plain": [
              "{'whiskers': [<matplotlib.lines.Line2D at 0x14bd11270>,\n",
              "  <matplotlib.lines.Line2D at 0x14bd11510>],\n",
              " 'caps': [<matplotlib.lines.Line2D at 0x14bd117b0>,\n",
              "  <matplotlib.lines.Line2D at 0x14bd11a50>],\n",
              " 'boxes': [<matplotlib.lines.Line2D at 0x14bd11030>],\n",
              " 'medians': [<matplotlib.lines.Line2D at 0x14bd11cf0>],\n",
              " 'fliers': [<matplotlib.lines.Line2D at 0x14bd11f90>],\n",
              " 'means': []}"
            ]
          },
          "execution_count": 82,
          "metadata": {},
          "output_type": "execute_result"
        },
        {
          "data": {
            "image/png": "[encoded data removed]",
            "text/plain": [
              "<Figure size 640x480 with 1 Axes>"
            ]
          },
          "metadata": {},
          "output_type": "display_data"
        }
      ],
      "source": [
        "spread = np.random.rand(50) * 100\n",
        "center = np.ones(25) * 50\n",
        "flier_high = np.random.rand(10) * 100 + 100\n",
        "flier_low = np.random.rand(10) * -100\n",
        "data = np.concatenate((spread, center, flier_high, flier_low))\n",
        "\n",
        "plt.boxplot(data)"
      ]
    },
    {
      "cell_type": "code",
      "execution_count": null,
      "metadata": {
        "id": "6uAtokWcLpP9",
        "outputId": "ddebf696-81a7-4cde-df55-b53c898c58a6"
      },
      "outputs": [
        {
          "data": {
            "text/plain": [
              "(array([ 1.,  6.,  2., 10., 36., 23.,  8.,  1.,  2.,  6.]),\n",
              " array([-96.67564247, -67.32106622, -37.96648996,  -8.61191371,\n",
              "         20.74266255,  50.0972388 ,  79.45181505, 108.80639131,\n",
              "        138.16096756, 167.51554382, 196.87012007]),\n",
              " <BarContainer object of 10 artists>)"
            ]
          },
          "execution_count": 84,
          "metadata": {},
          "output_type": "execute_result"
        },
        {
          "data": {
            "image/png": "[encoded data removed]",
            "text/plain": [
              "<Figure size 640x480 with 1 Axes>"
            ]
          },
          "metadata": {},
          "output_type": "display_data"
        }
      ],
      "source": [
        "plt.hist(data)"
      ]
    },
    {
      "cell_type": "markdown",
      "metadata": {
        "id": "Wxyn-niPLpP9"
      },
      "source": [
        "# Atividade Prática"
      ]
    },
    {
      "cell_type": "markdown",
      "metadata": {
        "id": "sPZjLUcxLpP9"
      },
      "source": [
        "**4 Grupos**\n",
        "\n",
        "- Grupo 1 - Iris Dataset ([link](https://archive.ics.uci.edu/dataset/53/iris))\n",
        "- Grupo 2 - Breast Cancer Dataset ([link](https://archive.ics.uci.edu/dataset/14/breast+cancer))\n",
        "- Grupo 3 - Wine Dataset ([link](https://archive.ics.uci.edu/dataset/109/wine))\n",
        "- Grupo 4 - Diabetes Dataset ([link](https://archive.ics.uci.edu/dataset/34/diabetes))"
      ]
    },
    {
      "cell_type": "markdown",
      "metadata": {
        "id": "8k_mQSZULpP9"
      },
      "source": [
        "No fim da aula os grupos vão apresentar os resultados obtidos :D"
      ]
    },
    {
      "cell_type": "markdown",
      "metadata": {},
      "source": [
        "- Grupo 1 - Iris Dataset ([link](https://archive.ics.uci.edu/dataset/53/iris))\n",
        "- Grupo 2 - Breast Cancer Dataset ([link](https://archive.ics.uci.edu/dataset/14/breast+cancer))\n",
        "- Grupo 3 - Wine Dataset ([link](https://archive.ics.uci.edu/dataset/109/wine))\n",
        "- Grupo 4 - Diabetes Dataset ([link](https://archive.ics.uci.edu/dataset/34/diabetes))\n",
        "- Verificar tipos de coluna e corrigir eventuais erros (principalmente números vs string e string vs data)\n",
        " - Estatísticas básicas (.info() .describe())\n",
        " - Tratar registros nulos (pelo menos duas técnicas diferentes)\n",
        " - Tratar duplicatas\n",
        " - Fazer plots para tentar entender o dataset"
      ]
    },
    {
      "cell_type": "code",
      "execution_count": 28,
      "metadata": {},
      "outputs": [],
      "source": [
        "df = pd.read_csv('./Iris.csv')"
      ]
    },
    {
      "cell_type": "code",
      "execution_count": 29,
      "metadata": {},
      "outputs": [
        {
          "name": "stdout",
          "output_type": "stream",
          "text": [
            "<class 'pandas.core.frame.DataFrame'>\n",
            "RangeIndex: 150 entries, 0 to 149\n",
            "Data columns (total 6 columns):\n",
            " #   Column         Non-Null Count  Dtype  \n",
            "---  ------         --------------  -----  \n",
            " 0   Id             150 non-null    int64  \n",
            " 1   SepalLengthCm  150 non-null    float64\n",
            " 2   SepalWidthCm   150 non-null    float64\n",
            " 3   PetalLengthCm  150 non-null    float64\n",
            " 4   PetalWidthCm   150 non-null    float64\n",
            " 5   Species        150 non-null    object \n",
            "dtypes: float64(4), int64(1), object(1)\n",
            "memory usage: 7.2+ KB\n"
          ]
        }
      ],
      "source": [
        "df.info()"
      ]
    },
    {
      "cell_type": "code",
      "execution_count": 30,
      "metadata": {},
      "outputs": [
        {
          "data": {
            "text/html": [
              "<div>\n",
              "<style scoped>\n",
              "    .dataframe tbody tr th:only-of-type {\n",
              "        vertical-align: middle;\n",
              "    }\n",
              "\n",
              "    .dataframe tbody tr th {\n",
              "        vertical-align: top;\n",
              "    }\n",
              "\n",
              "    .dataframe thead th {\n",
              "        text-align: right;\n",
              "    }\n",
              "</style>\n",
              "<table border=\"1\" class=\"dataframe\">\n",
              "  <thead>\n",
              "    <tr style=\"text-align: right;\">\n",
              "      <th></th>\n",
              "      <th>Id</th>\n",
              "      <th>SepalLengthCm</th>\n",
              "      <th>SepalWidthCm</th>\n",
              "      <th>PetalLengthCm</th>\n",
              "      <th>PetalWidthCm</th>\n",
              "    </tr>\n",
              "  </thead>\n",
              "  <tbody>\n",
              "    <tr>\n",
              "      <th>count</th>\n",
              "      <td>150.000000</td>\n",
              "      <td>150.000000</td>\n",
              "      <td>150.000000</td>\n",
              "      <td>150.000000</td>\n",
              "      <td>150.000000</td>\n",
              "    </tr>\n",
              "    <tr>\n",
              "      <th>mean</th>\n",
              "      <td>75.500000</td>\n",
              "      <td>5.843333</td>\n",
              "      <td>3.054000</td>\n",
              "      <td>3.758667</td>\n",
              "      <td>1.198667</td>\n",
              "    </tr>\n",
              "    <tr>\n",
              "      <th>std</th>\n",
              "      <td>43.445368</td>\n",
              "      <td>0.828066</td>\n",
              "      <td>0.433594</td>\n",
              "      <td>1.764420</td>\n",
              "      <td>0.763161</td>\n",
              "    </tr>\n",
              "    <tr>\n",
              "      <th>min</th>\n",
              "      <td>1.000000</td>\n",
              "      <td>4.300000</td>\n",
              "      <td>2.000000</td>\n",
              "      <td>1.000000</td>\n",
              "      <td>0.100000</td>\n",
              "    </tr>\n",
              "    <tr>\n",
              "      <th>25%</th>\n",
              "      <td>38.250000</td>\n",
              "      <td>5.100000</td>\n",
              "      <td>2.800000</td>\n",
              "      <td>1.600000</td>\n",
              "      <td>0.300000</td>\n",
              "    </tr>\n",
              "    <tr>\n",
              "      <th>50%</th>\n",
              "      <td>75.500000</td>\n",
              "      <td>5.800000</td>\n",
              "      <td>3.000000</td>\n",
              "      <td>4.350000</td>\n",
              "      <td>1.300000</td>\n",
              "    </tr>\n",
              "    <tr>\n",
              "      <th>75%</th>\n",
              "      <td>112.750000</td>\n",
              "      <td>6.400000</td>\n",
              "      <td>3.300000</td>\n",
              "      <td>5.100000</td>\n",
              "      <td>1.800000</td>\n",
              "    </tr>\n",
              "    <tr>\n",
              "      <th>max</th>\n",
              "      <td>150.000000</td>\n",
              "      <td>7.900000</td>\n",
              "      <td>4.400000</td>\n",
              "      <td>6.900000</td>\n",
              "      <td>2.500000</td>\n",
              "    </tr>\n",
              "  </tbody>\n",
              "</table>\n",
              "</div>"
            ],
            "text/plain": [
              "               Id  SepalLengthCm  SepalWidthCm  PetalLengthCm  PetalWidthCm\n",
              "count  150.000000     150.000000    150.000000     150.000000    150.000000\n",
              "mean    75.500000       5.843333      3.054000       3.758667      1.198667\n",
              "std     43.445368       0.828066      0.433594       1.764420      0.763161\n",
              "min      1.000000       4.300000      2.000000       1.000000      0.100000\n",
              "25%     38.250000       5.100000      2.800000       1.600000      0.300000\n",
              "50%     75.500000       5.800000      3.000000       4.350000      1.300000\n",
              "75%    112.750000       6.400000      3.300000       5.100000      1.800000\n",
              "max    150.000000       7.900000      4.400000       6.900000      2.500000"
            ]
          },
          "execution_count": 30,
          "metadata": {},
          "output_type": "execute_result"
        }
      ],
      "source": [
        "df.describe()"
      ]
    },
    {
      "cell_type": "code",
      "execution_count": 31,
      "metadata": {},
      "outputs": [
        {
          "data": {
            "text/html": [
              "<div>\n",
              "<style scoped>\n",
              "    .dataframe tbody tr th:only-of-type {\n",
              "        vertical-align: middle;\n",
              "    }\n",
              "\n",
              "    .dataframe tbody tr th {\n",
              "        vertical-align: top;\n",
              "    }\n",
              "\n",
              "    .dataframe thead th {\n",
              "        text-align: right;\n",
              "    }\n",
              "</style>\n",
              "<table border=\"1\" class=\"dataframe\">\n",
              "  <thead>\n",
              "    <tr style=\"text-align: right;\">\n",
              "      <th></th>\n",
              "      <th>Id</th>\n",
              "      <th>SepalLengthCm</th>\n",
              "      <th>SepalWidthCm</th>\n",
              "      <th>PetalLengthCm</th>\n",
              "      <th>PetalWidthCm</th>\n",
              "      <th>Species</th>\n",
              "    </tr>\n",
              "  </thead>\n",
              "  <tbody>\n",
              "    <tr>\n",
              "      <th>0</th>\n",
              "      <td>1</td>\n",
              "      <td>5.1</td>\n",
              "      <td>3.5</td>\n",
              "      <td>1.4</td>\n",
              "      <td>0.2</td>\n",
              "      <td>Iris-setosa</td>\n",
              "    </tr>\n",
              "    <tr>\n",
              "      <th>1</th>\n",
              "      <td>2</td>\n",
              "      <td>4.9</td>\n",
              "      <td>3.0</td>\n",
              "      <td>1.4</td>\n",
              "      <td>0.2</td>\n",
              "      <td>Iris-setosa</td>\n",
              "    </tr>\n",
              "    <tr>\n",
              "      <th>2</th>\n",
              "      <td>3</td>\n",
              "      <td>4.7</td>\n",
              "      <td>3.2</td>\n",
              "      <td>1.3</td>\n",
              "      <td>0.2</td>\n",
              "      <td>Iris-setosa</td>\n",
              "    </tr>\n",
              "    <tr>\n",
              "      <th>3</th>\n",
              "      <td>4</td>\n",
              "      <td>4.6</td>\n",
              "      <td>3.1</td>\n",
              "      <td>1.5</td>\n",
              "      <td>0.2</td>\n",
              "      <td>Iris-setosa</td>\n",
              "    </tr>\n",
              "    <tr>\n",
              "      <th>4</th>\n",
              "      <td>5</td>\n",
              "      <td>5.0</td>\n",
              "      <td>3.6</td>\n",
              "      <td>1.4</td>\n",
              "      <td>0.2</td>\n",
              "      <td>Iris-setosa</td>\n",
              "    </tr>\n",
              "  </tbody>\n",
              "</table>\n",
              "</div>"
            ],
            "text/plain": [
              "   Id  SepalLengthCm  SepalWidthCm  PetalLengthCm  PetalWidthCm      Species\n",
              "0   1            5.1           3.5            1.4           0.2  Iris-setosa\n",
              "1   2            4.9           3.0            1.4           0.2  Iris-setosa\n",
              "2   3            4.7           3.2            1.3           0.2  Iris-setosa\n",
              "3   4            4.6           3.1            1.5           0.2  Iris-setosa\n",
              "4   5            5.0           3.6            1.4           0.2  Iris-setosa"
            ]
          },
          "execution_count": 31,
          "metadata": {},
          "output_type": "execute_result"
        }
      ],
      "source": [
        "df.head()"
      ]
    },
    {
      "cell_type": "code",
      "execution_count": null,
      "metadata": {},
      "outputs": [],
      "source": []
    }
  ],
  "metadata": {
    "colab": {
      "provenance": []
    },
    "kernelspec": {
      "display_name": "base",
      "language": "python",
      "name": "python3"
    },
    "language_info": {
      "codemirror_mode": {
        "name": "ipython",
        "version": 3
      },
      "file_extension": ".py",
      "mimetype": "text/x-python",
      "name": "python",
      "nbconvert_exporter": "python",
      "pygments_lexer": "ipython3",
      "version": "3.10.11"
    }
  },
  "nbformat": 4,
  "nbformat_minor": 0
}
