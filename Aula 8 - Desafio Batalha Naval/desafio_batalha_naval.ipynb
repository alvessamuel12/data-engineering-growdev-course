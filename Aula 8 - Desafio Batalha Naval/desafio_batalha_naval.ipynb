{
 "cells": [
  {
   "cell_type": "code",
   "execution_count": 1,
   "metadata": {},
   "outputs": [],
   "source": [
    "import random"
   ]
  },
  {
   "cell_type": "code",
   "execution_count": 2,
   "metadata": {},
   "outputs": [],
   "source": [
    "# Função para criar e preencher o tabuleiro\n",
    "def criar_tabuleiro():\n",
    "    tabuleiro = []\n",
    "    for i in range(20):\n",
    "        linha = [0] * 20\n",
    "        tabuleiro.append(linha)\n",
    "\n",
    "    navios_colocados = 0\n",
    "    while navios_colocados < 20:\n",
    "        x = random.randint(0, 19)\n",
    "        y = random.randint(0, 19)\n",
    "        if tabuleiro[x][y] == 0:\n",
    "            tabuleiro[x][y] = 1\n",
    "            navios_colocados += 1\n",
    "\n",
    "    return tabuleiro\n",
    "\n",
    "def mostrar_tabuleiro(tabuleiro):\n",
    "    for line in tabuleiro:\n",
    "        print(line)"
   ]
  },
  {
   "cell_type": "code",
   "execution_count": 4,
   "metadata": {},
   "outputs": [],
   "source": [
    "# Função principal do jogo\n",
    "def jogo_batalha():\n",
    "    jogadas = []\n",
    "    \n",
    "    tabuleiro = criar_tabuleiro()\n",
    "    tentativas = 0\n",
    "    navios_derrotados = 0\n",
    "    acertos_em_agua = 0\n",
    "\n",
    "    while tentativas < 35 and navios_derrotados < 20:\n",
    "        print(f\"Tentativa {tentativas + 1} de 35\")\n",
    "        x = int(input(\"Informe a linha (0-19): \"))\n",
    "        y = int(input(\"Informe a coluna (0-19): \"))\n",
    "\n",
    "        if x < 0 or x > 19 or y < 0 or y > 19:\n",
    "            print(\"Posição inválida! Tente novamente.\")\n",
    "            continue\n",
    "\n",
    "        if tabuleiro[x][y] == 1:\n",
    "            print(\"Você acertou um navio!\")\n",
    "            navios_derrotados += 1\n",
    "            tabuleiro[x][y] = -1  # Marca navio destruído\n",
    "        elif tabuleiro[x][y] == 0:\n",
    "            print(\"Você acertou a água.\")\n",
    "            tabuleiro[x][y] = -1  # Marca posição já tentada\n",
    "            acertos_em_agua += 1\n",
    "        elif tabuleiro[x][y] == -1:\n",
    "            print(\"Você já tentou esta posição antes! Tente outra.\")\n",
    "            continue\n",
    "\n",
    "        tentativas += 1\n",
    "        mostrar_tabuleiro(tabuleiro)\n",
    "    if navios_derrotados == 20:\n",
    "        print(\"Parabéns! Você derrotou todos os navios.\")\n",
    "    else:\n",
    "        print(\"Fim de jogo! Você atingiu o limite de tentativas.\")\n",
    "\n",
    "    print('Estatísticas da Partida: \\n\\n'+\n",
    "            f\"Navios derrotados: {navios_derrotados}/20\\n\"+\n",
    "            f'% acertos em água: {round(acertos_em_agua*100/35, 2)}%'+\n",
    "            f'% navios derrotados: {round(navios_derrotados*100/35, 2)}%'+\n",
    "            f'% navios afundados: {round(navios_derrotados*100/35, 2)}%')\n",
    "            "
   ]
  },
  {
   "cell_type": "code",
   "execution_count": 6,
   "metadata": {},
   "outputs": [
    {
     "name": "stdout",
     "output_type": "stream",
     "text": [
      "Tentativa 1 de 35\n",
      "Você acertou a água.\n",
      "[-1, 0, 0, 0, 0, 0, 0, 0, 0, 0, 0, 0, 0, 0, 0, 0, 0, 0, 0, 0]\n",
      "[0, 0, 0, 0, 0, 0, 0, 0, 0, 0, 0, 0, 0, 0, 1, 0, 0, 0, 0, 1]\n",
      "[0, 0, 0, 0, 0, 0, 0, 0, 0, 0, 0, 0, 0, 0, 0, 0, 0, 0, 0, 0]\n",
      "[0, 0, 1, 0, 0, 1, 0, 0, 0, 0, 0, 0, 1, 0, 0, 0, 0, 0, 0, 0]\n",
      "[0, 0, 0, 0, 0, 0, 0, 0, 0, 0, 0, 0, 0, 0, 0, 0, 0, 0, 1, 0]\n",
      "[0, 1, 0, 0, 0, 0, 0, 0, 0, 0, 0, 0, 0, 0, 0, 0, 0, 0, 0, 0]\n",
      "[0, 0, 0, 0, 0, 0, 0, 0, 0, 0, 0, 0, 1, 0, 0, 0, 0, 0, 0, 0]\n",
      "[0, 0, 1, 0, 0, 0, 0, 0, 1, 0, 0, 0, 0, 0, 0, 0, 0, 0, 0, 0]\n",
      "[0, 0, 0, 0, 0, 0, 0, 0, 0, 0, 0, 0, 0, 0, 0, 0, 0, 0, 0, 0]\n",
      "[0, 1, 0, 0, 0, 0, 0, 0, 0, 0, 0, 0, 0, 0, 0, 0, 1, 0, 0, 0]\n",
      "[0, 0, 0, 0, 0, 0, 0, 0, 0, 0, 0, 0, 0, 0, 0, 0, 0, 0, 0, 0]\n",
      "[0, 0, 0, 0, 1, 0, 0, 0, 0, 0, 0, 0, 0, 0, 0, 0, 0, 0, 0, 0]\n",
      "[1, 0, 0, 0, 0, 0, 0, 0, 0, 1, 0, 0, 0, 0, 0, 0, 0, 0, 0, 0]\n",
      "[0, 0, 0, 0, 0, 0, 0, 0, 0, 0, 0, 0, 0, 0, 0, 0, 0, 0, 0, 0]\n",
      "[0, 0, 0, 0, 0, 0, 0, 0, 0, 0, 0, 0, 0, 0, 0, 0, 0, 0, 0, 0]\n",
      "[0, 0, 0, 0, 0, 1, 0, 0, 0, 0, 0, 0, 0, 0, 0, 0, 0, 0, 0, 0]\n",
      "[0, 0, 0, 0, 0, 0, 0, 0, 0, 0, 0, 0, 0, 0, 1, 0, 0, 0, 0, 0]\n",
      "[0, 0, 0, 0, 0, 0, 0, 0, 0, 0, 0, 0, 0, 0, 0, 0, 0, 0, 0, 0]\n",
      "[0, 0, 0, 0, 1, 0, 1, 0, 0, 0, 0, 0, 0, 0, 0, 0, 0, 0, 1, 0]\n",
      "[0, 0, 0, 0, 0, 0, 0, 0, 0, 0, 0, 0, 0, 0, 0, 0, 0, 0, 0, 0]\n",
      "Tentativa 2 de 35\n"
     ]
    },
    {
     "ename": "ValueError",
     "evalue": "invalid literal for int() with base 10: ''",
     "output_type": "error",
     "traceback": [
      "\u001b[1;31m---------------------------------------------------------------------------\u001b[0m",
      "\u001b[1;31mValueError\u001b[0m                                Traceback (most recent call last)",
      "Cell \u001b[1;32mIn[6], line 2\u001b[0m\n\u001b[0;32m      1\u001b[0m \u001b[38;5;66;03m# Executar o jogo\u001b[39;00m\n\u001b[1;32m----> 2\u001b[0m \u001b[43mjogo_batalha\u001b[49m\u001b[43m(\u001b[49m\u001b[43m)\u001b[49m\n\u001b[0;32m      4\u001b[0m \u001b[38;5;66;03m# Acertos em água\u001b[39;00m\n\u001b[0;32m      5\u001b[0m \u001b[38;5;66;03m# Acertos em Navios\u001b[39;00m\n\u001b[0;32m      6\u001b[0m \u001b[38;5;66;03m# Porcentagem de acertos em água\u001b[39;00m\n\u001b[0;32m      7\u001b[0m \u001b[38;5;66;03m# Porcentagem de acertos em Navios\u001b[39;00m\n\u001b[0;32m      8\u001b[0m \u001b[38;5;66;03m# Acertos ininterruptos (maior quantidade de acertos em sequência)\u001b[39;00m\n",
      "Cell \u001b[1;32mIn[4], line 12\u001b[0m, in \u001b[0;36mjogo_batalha\u001b[1;34m()\u001b[0m\n\u001b[0;32m     10\u001b[0m \u001b[38;5;28;01mwhile\u001b[39;00m tentativas \u001b[38;5;241m<\u001b[39m \u001b[38;5;241m35\u001b[39m \u001b[38;5;129;01mand\u001b[39;00m navios_derrotados \u001b[38;5;241m<\u001b[39m \u001b[38;5;241m20\u001b[39m:\n\u001b[0;32m     11\u001b[0m     \u001b[38;5;28mprint\u001b[39m(\u001b[38;5;124mf\u001b[39m\u001b[38;5;124m\"\u001b[39m\u001b[38;5;124mTentativa \u001b[39m\u001b[38;5;132;01m{\u001b[39;00mtentativas\u001b[38;5;250m \u001b[39m\u001b[38;5;241m+\u001b[39m\u001b[38;5;250m \u001b[39m\u001b[38;5;241m1\u001b[39m\u001b[38;5;132;01m}\u001b[39;00m\u001b[38;5;124m de 35\u001b[39m\u001b[38;5;124m\"\u001b[39m)\n\u001b[1;32m---> 12\u001b[0m     x \u001b[38;5;241m=\u001b[39m \u001b[38;5;28;43mint\u001b[39;49m\u001b[43m(\u001b[49m\u001b[38;5;28;43minput\u001b[39;49m\u001b[43m(\u001b[49m\u001b[38;5;124;43m\"\u001b[39;49m\u001b[38;5;124;43mInforme a linha (0-19): \u001b[39;49m\u001b[38;5;124;43m\"\u001b[39;49m\u001b[43m)\u001b[49m\u001b[43m)\u001b[49m\n\u001b[0;32m     13\u001b[0m     y \u001b[38;5;241m=\u001b[39m \u001b[38;5;28mint\u001b[39m(\u001b[38;5;28minput\u001b[39m(\u001b[38;5;124m\"\u001b[39m\u001b[38;5;124mInforme a coluna (0-19): \u001b[39m\u001b[38;5;124m\"\u001b[39m))\n\u001b[0;32m     15\u001b[0m     \u001b[38;5;28;01mif\u001b[39;00m x \u001b[38;5;241m<\u001b[39m \u001b[38;5;241m0\u001b[39m \u001b[38;5;129;01mor\u001b[39;00m x \u001b[38;5;241m>\u001b[39m \u001b[38;5;241m19\u001b[39m \u001b[38;5;129;01mor\u001b[39;00m y \u001b[38;5;241m<\u001b[39m \u001b[38;5;241m0\u001b[39m \u001b[38;5;129;01mor\u001b[39;00m y \u001b[38;5;241m>\u001b[39m \u001b[38;5;241m19\u001b[39m:\n",
      "\u001b[1;31mValueError\u001b[0m: invalid literal for int() with base 10: ''"
     ]
    }
   ],
   "source": [
    "# Executar o jogo\n",
    "jogo_batalha()\n",
    "\n",
    "# Acertos em água\n",
    "# Acertos em Navios\n",
    "# Porcentagem de acertos em água\n",
    "# Porcentagem de acertos em Navios\n",
    "# Acertos ininterruptos (maior quantidade de acertos em sequência)"
   ]
  },
  {
   "cell_type": "code",
   "execution_count": null,
   "metadata": {},
   "outputs": [
    {
     "data": {
      "text/plain": [
       "6"
      ]
     },
     "execution_count": 14,
     "metadata": {},
     "output_type": "execute_result"
    }
   ],
   "source": [
    "lista = [0,0,1,1,1,0,0,4,4,4,5,5,1,1,1,1,1,1,0,0,5,5,6,6]\n",
    "\n",
    "def contar_max_num_ocorrencias(lista, value):\n",
    "    contador = 0\n",
    "    max_until_now = 0\n",
    "    for i in range(len(lista)):\n",
    "        if i < len(lista) and lista[i] == value:\n",
    "            contador += 1\n",
    "        else:\n",
    "            if max_until_now < contador:\n",
    "                max_until_now = contador\n",
    "            contador = 0\n",
    "    return max_until_now\n",
    "\n",
    "# primeira_ocorrencia = lista.index(1)\n",
    "# contar_num_ocorrencias(lista[primeira_ocorrencia:])\n",
    "# 2, 5\n",
    "\n",
    "contar_max_num_ocorrencias(lista, 1)\n",
    "\n",
    "    \n"
   ]
  }
 ],
 "metadata": {
  "kernelspec": {
   "display_name": "Python 3",
   "language": "python",
   "name": "python3"
  },
  "language_info": {
   "codemirror_mode": {
    "name": "ipython",
    "version": 3
   },
   "file_extension": ".py",
   "mimetype": "text/x-python",
   "name": "python",
   "nbconvert_exporter": "python",
   "pygments_lexer": "ipython3",
   "version": "3.10.11"
  }
 },
 "nbformat": 4,
 "nbformat_minor": 2
}
