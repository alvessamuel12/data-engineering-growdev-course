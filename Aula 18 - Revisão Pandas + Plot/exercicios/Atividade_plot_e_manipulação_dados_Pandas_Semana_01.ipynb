{
  "cells": [
    {
      "cell_type": "markdown",
      "metadata": {
        "id": "v8pFWwviib2C"
      },
      "source": [
        "![Growdev](https://www.growdev.com.br/assets/images/logo_growdev.png)"
      ]
    },
    {
      "cell_type": "markdown",
      "metadata": {
        "id": "6Tkl4_HxifXZ"
      },
      "source": [
        "![Formação Engenharia de Dados](https://d335luupugsy2.cloudfront.net/cms/files/524558/1707226566/$occu5m8t1op)"
      ]
    },
    {
      "cell_type": "markdown",
      "metadata": {
        "id": "ty7Bzyl1i9bN"
      },
      "source": [
        "Este material tem como objetivo incentivar a prática dos conteúdos estudados até o momento, e a pesquisa. Tenha em consideração que o exercício foi pensado para incentivar a prática dos conteúdos estudados até então, porém aprender a pesquisar faz parte do processo de aprendizagem.\n",
        "\n",
        "Fique tranquilo, faça os exercícios com calma, e boa prática!\n"
      ]
    },
    {
      "cell_type": "markdown",
      "metadata": {
        "id": "DU5-yCQwjx3V"
      },
      "source": [
        "# Orientações:\n",
        "\n",
        " - Faça uma copia deste arquivo\n",
        " - Após concluir os exercicios, suba seu exercicio para o GitHub e compartilhe o link no **google** Classroom\n"
      ]
    },
    {
      "cell_type": "markdown",
      "metadata": {
        "id": "EzT810tnlmfE"
      },
      "source": [
        "# Exercícios pandas e plot"
      ]
    },
    {
      "cell_type": "markdown",
      "metadata": {
        "id": "jPJ5hyxa2cos"
      },
      "source": [
        "As questões a seguir utilizam como base o dataset de venda de jogos eletrônicos disponível no seguinte [link.](https://www.kaggle.com/code/rafa84miranda/vendas-de-jogos-de-videogames/data?select=vgsales.csv)"
      ]
    },
    {
      "cell_type": "markdown",
      "metadata": {
        "id": "sYEv1vohLu34"
      },
      "source": [
        "Os campos são:\n",
        "- Rank: posição no ranking de vendas\n",
        "- Name: nome do jogo\n",
        "- Platform: plataforma/console\n",
        "- Year: ano de lançamento\n",
        "- Genre: gênero\n",
        "- Publisher: empresa que publicou o jogo\n",
        "- NA_Sales: vendas na américa do norte (em milhões de dólares)\n",
        "- EU_Sales: vendas na europa (em milhões de dólares)\n",
        "- JP_Sales: vendas no japão (em milhões de dólares)\n",
        "- Other_Sales: outras vendas (em milhões de dólares)\n",
        "- Global_Sales: vendas globais (em milhões de dólares)\n"
      ]
    },
    {
      "cell_type": "code",
      "execution_count": 25,
      "metadata": {},
      "outputs": [],
      "source": [
        "import pandas as pd\n",
        "import matplotlib as mpl\n",
        "import matplotlib.pyplot as plt\n",
        "df_games = pd.read_csv('./vgsales.csv')"
      ]
    },
    {
      "cell_type": "code",
      "execution_count": 26,
      "metadata": {},
      "outputs": [
        {
          "data": {
            "text/html": [
              "<div>\n",
              "<style scoped>\n",
              "    .dataframe tbody tr th:only-of-type {\n",
              "        vertical-align: middle;\n",
              "    }\n",
              "\n",
              "    .dataframe tbody tr th {\n",
              "        vertical-align: top;\n",
              "    }\n",
              "\n",
              "    .dataframe thead th {\n",
              "        text-align: right;\n",
              "    }\n",
              "</style>\n",
              "<table border=\"1\" class=\"dataframe\">\n",
              "  <thead>\n",
              "    <tr style=\"text-align: right;\">\n",
              "      <th></th>\n",
              "      <th>Rank</th>\n",
              "      <th>Name</th>\n",
              "      <th>Platform</th>\n",
              "      <th>Year</th>\n",
              "      <th>Genre</th>\n",
              "      <th>Publisher</th>\n",
              "      <th>NA_Sales</th>\n",
              "      <th>EU_Sales</th>\n",
              "      <th>JP_Sales</th>\n",
              "      <th>Other_Sales</th>\n",
              "      <th>Global_Sales</th>\n",
              "    </tr>\n",
              "  </thead>\n",
              "  <tbody>\n",
              "    <tr>\n",
              "      <th>0</th>\n",
              "      <td>259</td>\n",
              "      <td>Asteroids</td>\n",
              "      <td>2600</td>\n",
              "      <td>1980</td>\n",
              "      <td>Shooter</td>\n",
              "      <td>Atari</td>\n",
              "      <td>4.00</td>\n",
              "      <td>0.26</td>\n",
              "      <td>0.00</td>\n",
              "      <td>0.05</td>\n",
              "      <td>4.31</td>\n",
              "    </tr>\n",
              "    <tr>\n",
              "      <th>1</th>\n",
              "      <td>545</td>\n",
              "      <td>Missile Command</td>\n",
              "      <td>2600</td>\n",
              "      <td>1980</td>\n",
              "      <td>Shooter</td>\n",
              "      <td>Atari</td>\n",
              "      <td>2.56</td>\n",
              "      <td>0.17</td>\n",
              "      <td>0.00</td>\n",
              "      <td>0.03</td>\n",
              "      <td>2.76</td>\n",
              "    </tr>\n",
              "    <tr>\n",
              "      <th>2</th>\n",
              "      <td>1768</td>\n",
              "      <td>Kaboom!</td>\n",
              "      <td>2600</td>\n",
              "      <td>1980</td>\n",
              "      <td>Misc</td>\n",
              "      <td>Activision</td>\n",
              "      <td>1.07</td>\n",
              "      <td>0.07</td>\n",
              "      <td>0.00</td>\n",
              "      <td>0.01</td>\n",
              "      <td>1.15</td>\n",
              "    </tr>\n",
              "    <tr>\n",
              "      <th>3</th>\n",
              "      <td>1971</td>\n",
              "      <td>Defender</td>\n",
              "      <td>2600</td>\n",
              "      <td>1980</td>\n",
              "      <td>Misc</td>\n",
              "      <td>Atari</td>\n",
              "      <td>0.99</td>\n",
              "      <td>0.05</td>\n",
              "      <td>0.00</td>\n",
              "      <td>0.01</td>\n",
              "      <td>1.05</td>\n",
              "    </tr>\n",
              "    <tr>\n",
              "      <th>4</th>\n",
              "      <td>2671</td>\n",
              "      <td>Boxing</td>\n",
              "      <td>2600</td>\n",
              "      <td>1980</td>\n",
              "      <td>Fighting</td>\n",
              "      <td>Activision</td>\n",
              "      <td>0.72</td>\n",
              "      <td>0.04</td>\n",
              "      <td>0.00</td>\n",
              "      <td>0.01</td>\n",
              "      <td>0.77</td>\n",
              "    </tr>\n",
              "    <tr>\n",
              "      <th>...</th>\n",
              "      <td>...</td>\n",
              "      <td>...</td>\n",
              "      <td>...</td>\n",
              "      <td>...</td>\n",
              "      <td>...</td>\n",
              "      <td>...</td>\n",
              "      <td>...</td>\n",
              "      <td>...</td>\n",
              "      <td>...</td>\n",
              "      <td>...</td>\n",
              "      <td>...</td>\n",
              "    </tr>\n",
              "    <tr>\n",
              "      <th>16309</th>\n",
              "      <td>16402</td>\n",
              "      <td>The Technomancer</td>\n",
              "      <td>PC</td>\n",
              "      <td>2016</td>\n",
              "      <td>Role-Playing</td>\n",
              "      <td>Focus Home Interactive</td>\n",
              "      <td>0.00</td>\n",
              "      <td>0.01</td>\n",
              "      <td>0.00</td>\n",
              "      <td>0.00</td>\n",
              "      <td>0.01</td>\n",
              "    </tr>\n",
              "    <tr>\n",
              "      <th>16310</th>\n",
              "      <td>16432</td>\n",
              "      <td>Goat Simulator</td>\n",
              "      <td>XOne</td>\n",
              "      <td>2016</td>\n",
              "      <td>Simulation</td>\n",
              "      <td>Koch Media</td>\n",
              "      <td>0.00</td>\n",
              "      <td>0.01</td>\n",
              "      <td>0.00</td>\n",
              "      <td>0.00</td>\n",
              "      <td>0.01</td>\n",
              "    </tr>\n",
              "    <tr>\n",
              "      <th>16311</th>\n",
              "      <td>16434</td>\n",
              "      <td>Kamigami no Asobi InFinite</td>\n",
              "      <td>PSV</td>\n",
              "      <td>2016</td>\n",
              "      <td>Adventure</td>\n",
              "      <td>Broccoli</td>\n",
              "      <td>0.00</td>\n",
              "      <td>0.00</td>\n",
              "      <td>0.01</td>\n",
              "      <td>0.00</td>\n",
              "      <td>0.01</td>\n",
              "    </tr>\n",
              "    <tr>\n",
              "      <th>16312</th>\n",
              "      <td>16451</td>\n",
              "      <td>Assassin's Creed Chronicles</td>\n",
              "      <td>XOne</td>\n",
              "      <td>2016</td>\n",
              "      <td>Action</td>\n",
              "      <td>Ubisoft</td>\n",
              "      <td>0.00</td>\n",
              "      <td>0.01</td>\n",
              "      <td>0.00</td>\n",
              "      <td>0.00</td>\n",
              "      <td>0.01</td>\n",
              "    </tr>\n",
              "    <tr>\n",
              "      <th>16313</th>\n",
              "      <td>16475</td>\n",
              "      <td>Azure Striker Gunvolt: Striker Pack</td>\n",
              "      <td>3DS</td>\n",
              "      <td>2016</td>\n",
              "      <td>Action</td>\n",
              "      <td>Inti Creates</td>\n",
              "      <td>0.00</td>\n",
              "      <td>0.00</td>\n",
              "      <td>0.01</td>\n",
              "      <td>0.00</td>\n",
              "      <td>0.01</td>\n",
              "    </tr>\n",
              "  </tbody>\n",
              "</table>\n",
              "<p>16314 rows × 11 columns</p>\n",
              "</div>"
            ],
            "text/plain": [
              "        Rank                                 Name Platform  Year  \\\n",
              "0        259                            Asteroids     2600  1980   \n",
              "1        545                      Missile Command     2600  1980   \n",
              "2       1768                              Kaboom!     2600  1980   \n",
              "3       1971                             Defender     2600  1980   \n",
              "4       2671                               Boxing     2600  1980   \n",
              "...      ...                                  ...      ...   ...   \n",
              "16309  16402                     The Technomancer       PC  2016   \n",
              "16310  16432                       Goat Simulator     XOne  2016   \n",
              "16311  16434           Kamigami no Asobi InFinite      PSV  2016   \n",
              "16312  16451          Assassin's Creed Chronicles     XOne  2016   \n",
              "16313  16475  Azure Striker Gunvolt: Striker Pack      3DS  2016   \n",
              "\n",
              "              Genre               Publisher  NA_Sales  EU_Sales  JP_Sales  \\\n",
              "0           Shooter                   Atari      4.00      0.26      0.00   \n",
              "1           Shooter                   Atari      2.56      0.17      0.00   \n",
              "2              Misc              Activision      1.07      0.07      0.00   \n",
              "3              Misc                   Atari      0.99      0.05      0.00   \n",
              "4          Fighting              Activision      0.72      0.04      0.00   \n",
              "...             ...                     ...       ...       ...       ...   \n",
              "16309  Role-Playing  Focus Home Interactive      0.00      0.01      0.00   \n",
              "16310    Simulation              Koch Media      0.00      0.01      0.00   \n",
              "16311     Adventure                Broccoli      0.00      0.00      0.01   \n",
              "16312        Action                 Ubisoft      0.00      0.01      0.00   \n",
              "16313        Action            Inti Creates      0.00      0.00      0.01   \n",
              "\n",
              "       Other_Sales  Global_Sales  \n",
              "0             0.05          4.31  \n",
              "1             0.03          2.76  \n",
              "2             0.01          1.15  \n",
              "3             0.01          1.05  \n",
              "4             0.01          0.77  \n",
              "...            ...           ...  \n",
              "16309         0.00          0.01  \n",
              "16310         0.00          0.01  \n",
              "16311         0.00          0.01  \n",
              "16312         0.00          0.01  \n",
              "16313         0.00          0.01  \n",
              "\n",
              "[16314 rows x 11 columns]"
            ]
          },
          "execution_count": 26,
          "metadata": {},
          "output_type": "execute_result"
        }
      ],
      "source": [
        "df_games.head(-10)"
      ]
    },
    {
      "cell_type": "code",
      "execution_count": 27,
      "metadata": {},
      "outputs": [
        {
          "name": "stdout",
          "output_type": "stream",
          "text": [
            "<class 'pandas.core.frame.DataFrame'>\n",
            "RangeIndex: 16324 entries, 0 to 16323\n",
            "Data columns (total 11 columns):\n",
            " #   Column        Non-Null Count  Dtype  \n",
            "---  ------        --------------  -----  \n",
            " 0   Rank          16324 non-null  int64  \n",
            " 1   Name          16324 non-null  object \n",
            " 2   Platform      16324 non-null  object \n",
            " 3   Year          16324 non-null  int64  \n",
            " 4   Genre         16324 non-null  object \n",
            " 5   Publisher     16288 non-null  object \n",
            " 6   NA_Sales      16324 non-null  float64\n",
            " 7   EU_Sales      16324 non-null  float64\n",
            " 8   JP_Sales      16324 non-null  float64\n",
            " 9   Other_Sales   16324 non-null  float64\n",
            " 10  Global_Sales  16324 non-null  float64\n",
            "dtypes: float64(5), int64(2), object(4)\n",
            "memory usage: 1.4+ MB\n"
          ]
        }
      ],
      "source": [
        "df_games.info()"
      ]
    },
    {
      "cell_type": "markdown",
      "metadata": {
        "id": "6y7X1dc-MFr1"
      },
      "source": [
        "Qual foi o jogo mais vendido no mundo em 2010?\n",
        "\n"
      ]
    },
    {
      "cell_type": "code",
      "execution_count": 28,
      "metadata": {
        "id": "6X6M5T7EMb-G"
      },
      "outputs": [
        {
          "data": {
            "text/plain": [
              "'Kinect Adventures!'"
            ]
          },
          "execution_count": 28,
          "metadata": {},
          "output_type": "execute_result"
        }
      ],
      "source": [
        "\n",
        "df_2010 = df_games[df_games['Year'] == 2010].sort_values(by=\"Rank\")\n",
        "df_2010['Name'].values[0]"
      ]
    },
    {
      "cell_type": "markdown",
      "metadata": {
        "id": "FgEq2x_mMicx"
      },
      "source": [
        "Qual foi a empresa que mais vendeu de 2005 até 2016 - Construa um gráfico de barras para apresentar\n"
      ]
    },
    {
      "cell_type": "code",
      "execution_count": 51,
      "metadata": {
        "id": "EFe-4pq8NGRf"
      },
      "outputs": [
        {
          "data": {
            "image/png": "[encoded data removed]",
            "text/plain": [
              "<Figure size 1000x600 with 1 Axes>"
            ]
          },
          "metadata": {},
          "output_type": "display_data"
        }
      ],
      "source": [
        "to_plot = df_games[(df_games['Year'] >= 2005) & (df_games['Year'] < 2016)]\n",
        "to_plot = to_plot.groupby('Publisher')['Global_Sales'].sum().reset_index()\n",
        "to_plot = to_plot.sort_values(by='Global_Sales', ascending=False)\n",
        "to_plot = to_plot.head()\n",
        "\n",
        "plt.figure(figsize=(10, 6))\n",
        "bars = plt.bar(to_plot['Publisher'], to_plot['Global_Sales'], color='skyblue')\n",
        "for bar in bars:\n",
        "    yval = bar.get_height()\n",
        "    plt.text(bar.get_x() + bar.get_width()/2, yval, round(yval, 2), ha='center', va='bottom')\n",
        "plt.bar(to_plot['Publisher'], to_plot['Global_Sales'])\n",
        "plt.xlabel('Publisher')\n",
        "plt.ylabel('Total Global Sales (in millions)')\n",
        "plt.title('Total Global Sales by Publisher (2005-2016)')\n",
        "plt.show()\n"
      ]
    },
    {
      "cell_type": "markdown",
      "metadata": {
        "id": "VFXayO6DNJ3F"
      },
      "source": [
        "Qual o nome do jogo que menos foi vendido em 2008 do gênero Sports.\n"
      ]
    },
    {
      "cell_type": "code",
      "execution_count": 41,
      "metadata": {
        "id": "JUO0B9kWNcCX"
      },
      "outputs": [
        {
          "data": {
            "text/plain": [
              "'Summer Athletics'"
            ]
          },
          "execution_count": 41,
          "metadata": {},
          "output_type": "execute_result"
        }
      ],
      "source": [
        "df_2008_Sports = df_games[(df_games['Year'] == 2008) & (df_games['Genre'] == 'Sports')].sort_values(by=\"Rank\")\n",
        "df_2008_Sports['Name'].values[-1]"
      ]
    },
    {
      "cell_type": "markdown",
      "metadata": {
        "id": "aqaMxrGMNhQv"
      },
      "source": [
        "Qual o percentual relacionado às vendas globais de jogos de Wii (excluindo-se América do norte, japão e europa) de 2006 até 2010?\n",
        "\n",
        "\n",
        "\n"
      ]
    },
    {
      "cell_type": "code",
      "execution_count": 50,
      "metadata": {
        "id": "yoT1FXJSzKwj"
      },
      "outputs": [
        {
          "data": {
            "text/plain": [
              "'60.35 / 677.48 = 8.91%'"
            ]
          },
          "execution_count": 50,
          "metadata": {},
          "output_type": "execute_result"
        }
      ],
      "source": [
        "df_wii = df_games[(df_games['Year'] >= 2006) & (df_games['Year'] < 2010) & (df_games['Platform'] == 'Wii')]\n",
        "f\"{round(df_wii['Other_Sales'].sum(), 2)} / {round(df_wii['Global_Sales'].sum(),2)} = {round(df_wii['Other_Sales'].sum()/df_wii['Global_Sales'].sum()*100,2)}%\""
      ]
    },
    {
      "cell_type": "markdown",
      "metadata": {
        "id": "jMjZzRxr29TF"
      },
      "source": [
        "Mostre um gráfico de linhas com as vendas em diferentes plataformas ao longo dos anos.\n"
      ]
    },
    {
      "cell_type": "code",
      "execution_count": 78,
      "metadata": {
        "id": "ZWpciLPN3Ckx"
      },
      "outputs": [
        {
          "data": {
            "image/png": "[encoded data removed]",
            "text/plain": [
              "<Figure size 1000x600 with 1 Axes>"
            ]
          },
          "metadata": {},
          "output_type": "display_data"
        }
      ],
      "source": [
        "plt.figure(figsize=(10, 6))\n",
        "for platform in df_games['Platform'].sort_values().unique():\n",
        "    platform_data = df_games[df_games['Platform'] == platform]\n",
        "    plt.plot(\n",
        "        platform_data['Year'], \n",
        "        platform_data['Global_Sales'], \n",
        "        label=platform\n",
        "    )\n",
        "\n",
        "# Adicionar legenda ao gráfico\n",
        "plt.legend(loc='upper center', bbox_to_anchor=(0.5, -0.10), ncol=8)\n",
        "\n",
        "plt.xlabel('Year')\n",
        "plt.ylabel('Global Sales (in millions)')\n",
        "plt.title('Global Sales by Platform Over Time')\n",
        "plt.show()"
      ]
    },
    {
      "cell_type": "markdown",
      "metadata": {
        "id": "fDxIIqqS3DHs"
      },
      "source": [
        "Mostre um gráfico de pizza com o percentual de vendas dos diferentes gêneros de jogos.\n",
        "\n",
        "\n"
      ]
    },
    {
      "cell_type": "code",
      "execution_count": 86,
      "metadata": {
        "id": "M85a5qNt3E2y"
      },
      "outputs": [
        {
          "data": {
            "image/png": "[encoded data removed]",
            "text/plain": [
              "<Figure size 1100x700 with 1 Axes>"
            ]
          },
          "metadata": {},
          "output_type": "display_data"
        }
      ],
      "source": [
        "df_genre_sales = df_games.groupby('Genre')['Global_Sales'].sum()\n",
        "percents = (df_genre_sales / df_genre_sales.sum())*100\n",
        "percents\n",
        "plt.figure(figsize=(11, 7))\n",
        "plt.pie(percents, labels=percents.index, autopct='%1.1f%%')\n",
        "plt.title(\"Global Sales By Genre\")\n",
        "plt.axis('equal')\n",
        "plt.show()"
      ]
    },
    {
      "cell_type": "markdown",
      "metadata": {
        "id": "ke3v3Xd8-wmR"
      },
      "source": [
        "# Exercícios_pandas"
      ]
    },
    {
      "cell_type": "markdown",
      "metadata": {
        "id": "hgqYfhU33FtF"
      },
      "source": [
        "Utilize os arquivos [livros.csv](https://drive.google.com/file/d/1fzuUyFxhzhE9U4_-i3IIUTwvgr3QG1Hj/view?usp=sharing), [livros_genero.csv](https://drive.google.com/file/d/1Cww5lAb7l_LQXVhH1ieyIOWIrqorNKcn/view?usp=sharing) e [livros_classicos.csv](https://drive.google.com/file/d/1pbSReiGSIIlHHXbFBOAaA5zTlNTrbY9P/view?usp=sharing) como entrada para o processamento requerido nos seguintes exercícios.\n"
      ]
    },
    {
      "cell_type": "code",
      "execution_count": 18,
      "metadata": {
        "id": "EK9X8wTZ3UdS"
      },
      "outputs": [],
      "source": [
        "import pandas as pd\n",
        "df_livros = pd.read_csv('./livros.csv')\n",
        "df_livros_genero = pd.read_csv('./livros_genero.csv')\n",
        "df_livros_classicos = pd.read_csv('./livros_classicos.csv')"
      ]
    },
    {
      "cell_type": "code",
      "execution_count": 45,
      "metadata": {},
      "outputs": [
        {
          "data": {
            "text/html": [
              "<div>\n",
              "<style scoped>\n",
              "    .dataframe tbody tr th:only-of-type {\n",
              "        vertical-align: middle;\n",
              "    }\n",
              "\n",
              "    .dataframe tbody tr th {\n",
              "        vertical-align: top;\n",
              "    }\n",
              "\n",
              "    .dataframe thead th {\n",
              "        text-align: right;\n",
              "    }\n",
              "</style>\n",
              "<table border=\"1\" class=\"dataframe\">\n",
              "  <thead>\n",
              "    <tr style=\"text-align: right;\">\n",
              "      <th></th>\n",
              "      <th>nome</th>\n",
              "      <th>paginas</th>\n",
              "    </tr>\n",
              "  </thead>\n",
              "  <tbody>\n",
              "    <tr>\n",
              "      <th>0</th>\n",
              "      <td>livro 1</td>\n",
              "      <td>257</td>\n",
              "    </tr>\n",
              "    <tr>\n",
              "      <th>1</th>\n",
              "      <td>livro 2</td>\n",
              "      <td>106</td>\n",
              "    </tr>\n",
              "    <tr>\n",
              "      <th>2</th>\n",
              "      <td>livro 3</td>\n",
              "      <td>150</td>\n",
              "    </tr>\n",
              "    <tr>\n",
              "      <th>3</th>\n",
              "      <td>livro 4</td>\n",
              "      <td>175</td>\n",
              "    </tr>\n",
              "    <tr>\n",
              "      <th>4</th>\n",
              "      <td>livro 5</td>\n",
              "      <td>321</td>\n",
              "    </tr>\n",
              "    <tr>\n",
              "      <th>5</th>\n",
              "      <td>livro 6</td>\n",
              "      <td>159</td>\n",
              "    </tr>\n",
              "    <tr>\n",
              "      <th>6</th>\n",
              "      <td>livro 7</td>\n",
              "      <td>980</td>\n",
              "    </tr>\n",
              "    <tr>\n",
              "      <th>7</th>\n",
              "      <td>livro 8</td>\n",
              "      <td>235</td>\n",
              "    </tr>\n",
              "    <tr>\n",
              "      <th>8</th>\n",
              "      <td>livro 9</td>\n",
              "      <td>745</td>\n",
              "    </tr>\n",
              "    <tr>\n",
              "      <th>9</th>\n",
              "      <td>livro 10</td>\n",
              "      <td>126</td>\n",
              "    </tr>\n",
              "  </tbody>\n",
              "</table>\n",
              "</div>"
            ],
            "text/plain": [
              "       nome  paginas\n",
              "0   livro 1      257\n",
              "1   livro 2      106\n",
              "2   livro 3      150\n",
              "3   livro 4      175\n",
              "4   livro 5      321\n",
              "5   livro 6      159\n",
              "6   livro 7      980\n",
              "7   livro 8      235\n",
              "8   livro 9      745\n",
              "9  livro 10      126"
            ]
          },
          "execution_count": 45,
          "metadata": {},
          "output_type": "execute_result"
        }
      ],
      "source": [
        "df_livros"
      ]
    },
    {
      "cell_type": "code",
      "execution_count": 46,
      "metadata": {},
      "outputs": [
        {
          "data": {
            "text/html": [
              "<div>\n",
              "<style scoped>\n",
              "    .dataframe tbody tr th:only-of-type {\n",
              "        vertical-align: middle;\n",
              "    }\n",
              "\n",
              "    .dataframe tbody tr th {\n",
              "        vertical-align: top;\n",
              "    }\n",
              "\n",
              "    .dataframe thead th {\n",
              "        text-align: right;\n",
              "    }\n",
              "</style>\n",
              "<table border=\"1\" class=\"dataframe\">\n",
              "  <thead>\n",
              "    <tr style=\"text-align: right;\">\n",
              "      <th></th>\n",
              "      <th>genero</th>\n",
              "      <th>autor</th>\n",
              "    </tr>\n",
              "  </thead>\n",
              "  <tbody>\n",
              "    <tr>\n",
              "      <th>0</th>\n",
              "      <td>Drama</td>\n",
              "      <td>Pedro</td>\n",
              "    </tr>\n",
              "    <tr>\n",
              "      <th>1</th>\n",
              "      <td>Aventura</td>\n",
              "      <td>José</td>\n",
              "    </tr>\n",
              "    <tr>\n",
              "      <th>2</th>\n",
              "      <td>Drama</td>\n",
              "      <td>Carlos</td>\n",
              "    </tr>\n",
              "    <tr>\n",
              "      <th>3</th>\n",
              "      <td>Romance</td>\n",
              "      <td>Maria</td>\n",
              "    </tr>\n",
              "    <tr>\n",
              "      <th>4</th>\n",
              "      <td>Romance</td>\n",
              "      <td>Fabio</td>\n",
              "    </tr>\n",
              "    <tr>\n",
              "      <th>5</th>\n",
              "      <td>Aventura</td>\n",
              "      <td>Aline</td>\n",
              "    </tr>\n",
              "    <tr>\n",
              "      <th>6</th>\n",
              "      <td>Drama</td>\n",
              "      <td>Paulo</td>\n",
              "    </tr>\n",
              "    <tr>\n",
              "      <th>7</th>\n",
              "      <td>Aventura</td>\n",
              "      <td>Sandro</td>\n",
              "    </tr>\n",
              "    <tr>\n",
              "      <th>8</th>\n",
              "      <td>Romance</td>\n",
              "      <td>Maria</td>\n",
              "    </tr>\n",
              "    <tr>\n",
              "      <th>9</th>\n",
              "      <td>Aventura</td>\n",
              "      <td>Fabio</td>\n",
              "    </tr>\n",
              "    <tr>\n",
              "      <th>10</th>\n",
              "      <td>Romance</td>\n",
              "      <td>Pedro</td>\n",
              "    </tr>\n",
              "  </tbody>\n",
              "</table>\n",
              "</div>"
            ],
            "text/plain": [
              "      genero   autor\n",
              "0      Drama   Pedro\n",
              "1   Aventura    José\n",
              "2      Drama  Carlos\n",
              "3    Romance   Maria\n",
              "4    Romance   Fabio\n",
              "5   Aventura   Aline\n",
              "6      Drama   Paulo\n",
              "7   Aventura  Sandro\n",
              "8    Romance   Maria\n",
              "9   Aventura   Fabio\n",
              "10   Romance   Pedro"
            ]
          },
          "execution_count": 46,
          "metadata": {},
          "output_type": "execute_result"
        }
      ],
      "source": [
        "df_livros_genero"
      ]
    },
    {
      "cell_type": "code",
      "execution_count": 47,
      "metadata": {},
      "outputs": [
        {
          "data": {
            "text/html": [
              "<div>\n",
              "<style scoped>\n",
              "    .dataframe tbody tr th:only-of-type {\n",
              "        vertical-align: middle;\n",
              "    }\n",
              "\n",
              "    .dataframe tbody tr th {\n",
              "        vertical-align: top;\n",
              "    }\n",
              "\n",
              "    .dataframe thead th {\n",
              "        text-align: right;\n",
              "    }\n",
              "</style>\n",
              "<table border=\"1\" class=\"dataframe\">\n",
              "  <thead>\n",
              "    <tr style=\"text-align: right;\">\n",
              "      <th></th>\n",
              "      <th>nome</th>\n",
              "      <th>autor</th>\n",
              "    </tr>\n",
              "  </thead>\n",
              "  <tbody>\n",
              "    <tr>\n",
              "      <th>0</th>\n",
              "      <td>livro 1</td>\n",
              "      <td>Jorge</td>\n",
              "    </tr>\n",
              "    <tr>\n",
              "      <th>1</th>\n",
              "      <td>livro 2</td>\n",
              "      <td>Santos</td>\n",
              "    </tr>\n",
              "    <tr>\n",
              "      <th>2</th>\n",
              "      <td>livro 3</td>\n",
              "      <td>Leandro</td>\n",
              "    </tr>\n",
              "    <tr>\n",
              "      <th>3</th>\n",
              "      <td>livro 4</td>\n",
              "      <td>Clara</td>\n",
              "    </tr>\n",
              "    <tr>\n",
              "      <th>4</th>\n",
              "      <td>livro 5</td>\n",
              "      <td>Flavia</td>\n",
              "    </tr>\n",
              "    <tr>\n",
              "      <th>5</th>\n",
              "      <td>livro 6</td>\n",
              "      <td>Leandro</td>\n",
              "    </tr>\n",
              "    <tr>\n",
              "      <th>6</th>\n",
              "      <td>livro 7</td>\n",
              "      <td>Santos</td>\n",
              "    </tr>\n",
              "    <tr>\n",
              "      <th>7</th>\n",
              "      <td>livro 8</td>\n",
              "      <td>Marcia</td>\n",
              "    </tr>\n",
              "    <tr>\n",
              "      <th>8</th>\n",
              "      <td>livro 9</td>\n",
              "      <td>Marcia</td>\n",
              "    </tr>\n",
              "    <tr>\n",
              "      <th>9</th>\n",
              "      <td>livro 10</td>\n",
              "      <td>Clara</td>\n",
              "    </tr>\n",
              "  </tbody>\n",
              "</table>\n",
              "</div>"
            ],
            "text/plain": [
              "       nome    autor\n",
              "0   livro 1    Jorge\n",
              "1   livro 2   Santos\n",
              "2   livro 3  Leandro\n",
              "3   livro 4    Clara\n",
              "4   livro 5   Flavia\n",
              "5   livro 6  Leandro\n",
              "6   livro 7   Santos\n",
              "7   livro 8   Marcia\n",
              "8   livro 9   Marcia\n",
              "9  livro 10    Clara"
            ]
          },
          "execution_count": 47,
          "metadata": {},
          "output_type": "execute_result"
        }
      ],
      "source": [
        "df_livros_classicos"
      ]
    },
    {
      "cell_type": "markdown",
      "metadata": {
        "id": "_ZjroKKB3WBx"
      },
      "source": [
        "Faça a concatenação das bases de dados livros.csv e livros_genero.csv e encontre qual o gênero de livro correspondente a cada livro."
      ]
    },
    {
      "cell_type": "code",
      "execution_count": 32,
      "metadata": {
        "id": "7dx7zW7M3Wau"
      },
      "outputs": [
        {
          "data": {
            "text/html": [
              "<div>\n",
              "<style scoped>\n",
              "    .dataframe tbody tr th:only-of-type {\n",
              "        vertical-align: middle;\n",
              "    }\n",
              "\n",
              "    .dataframe tbody tr th {\n",
              "        vertical-align: top;\n",
              "    }\n",
              "\n",
              "    .dataframe thead th {\n",
              "        text-align: right;\n",
              "    }\n",
              "</style>\n",
              "<table border=\"1\" class=\"dataframe\">\n",
              "  <thead>\n",
              "    <tr style=\"text-align: right;\">\n",
              "      <th></th>\n",
              "      <th>nome</th>\n",
              "      <th>paginas</th>\n",
              "      <th>genero</th>\n",
              "      <th>autor</th>\n",
              "    </tr>\n",
              "  </thead>\n",
              "  <tbody>\n",
              "    <tr>\n",
              "      <th>0</th>\n",
              "      <td>livro 1</td>\n",
              "      <td>257.0</td>\n",
              "      <td>Drama</td>\n",
              "      <td>Pedro</td>\n",
              "    </tr>\n",
              "    <tr>\n",
              "      <th>1</th>\n",
              "      <td>livro 2</td>\n",
              "      <td>106.0</td>\n",
              "      <td>Aventura</td>\n",
              "      <td>José</td>\n",
              "    </tr>\n",
              "    <tr>\n",
              "      <th>2</th>\n",
              "      <td>livro 3</td>\n",
              "      <td>150.0</td>\n",
              "      <td>Drama</td>\n",
              "      <td>Carlos</td>\n",
              "    </tr>\n",
              "    <tr>\n",
              "      <th>3</th>\n",
              "      <td>livro 4</td>\n",
              "      <td>175.0</td>\n",
              "      <td>Romance</td>\n",
              "      <td>Maria</td>\n",
              "    </tr>\n",
              "    <tr>\n",
              "      <th>4</th>\n",
              "      <td>livro 5</td>\n",
              "      <td>321.0</td>\n",
              "      <td>Romance</td>\n",
              "      <td>Fabio</td>\n",
              "    </tr>\n",
              "    <tr>\n",
              "      <th>5</th>\n",
              "      <td>livro 6</td>\n",
              "      <td>159.0</td>\n",
              "      <td>Aventura</td>\n",
              "      <td>Aline</td>\n",
              "    </tr>\n",
              "    <tr>\n",
              "      <th>6</th>\n",
              "      <td>livro 7</td>\n",
              "      <td>980.0</td>\n",
              "      <td>Drama</td>\n",
              "      <td>Paulo</td>\n",
              "    </tr>\n",
              "    <tr>\n",
              "      <th>7</th>\n",
              "      <td>livro 8</td>\n",
              "      <td>235.0</td>\n",
              "      <td>Aventura</td>\n",
              "      <td>Sandro</td>\n",
              "    </tr>\n",
              "    <tr>\n",
              "      <th>8</th>\n",
              "      <td>livro 9</td>\n",
              "      <td>745.0</td>\n",
              "      <td>Romance</td>\n",
              "      <td>Maria</td>\n",
              "    </tr>\n",
              "    <tr>\n",
              "      <th>9</th>\n",
              "      <td>livro 10</td>\n",
              "      <td>126.0</td>\n",
              "      <td>Aventura</td>\n",
              "      <td>Fabio</td>\n",
              "    </tr>\n",
              "    <tr>\n",
              "      <th>10</th>\n",
              "      <td>NaN</td>\n",
              "      <td>NaN</td>\n",
              "      <td>Romance</td>\n",
              "      <td>Pedro</td>\n",
              "    </tr>\n",
              "  </tbody>\n",
              "</table>\n",
              "</div>"
            ],
            "text/plain": [
              "        nome  paginas    genero   autor\n",
              "0    livro 1    257.0     Drama   Pedro\n",
              "1    livro 2    106.0  Aventura    José\n",
              "2    livro 3    150.0     Drama  Carlos\n",
              "3    livro 4    175.0   Romance   Maria\n",
              "4    livro 5    321.0   Romance   Fabio\n",
              "5    livro 6    159.0  Aventura   Aline\n",
              "6    livro 7    980.0     Drama   Paulo\n",
              "7    livro 8    235.0  Aventura  Sandro\n",
              "8    livro 9    745.0   Romance   Maria\n",
              "9   livro 10    126.0  Aventura   Fabio\n",
              "10       NaN      NaN   Romance   Pedro"
            ]
          },
          "execution_count": 32,
          "metadata": {},
          "output_type": "execute_result"
        }
      ],
      "source": [
        "concat_livro_n_genero = pd.concat([df_livros, df_livros_genero], axis=1)\n",
        "concat_livro_n_genero"
      ]
    },
    {
      "cell_type": "markdown",
      "metadata": {
        "id": "sG2Kkkrd3X5V"
      },
      "source": [
        "Faça a concatenação das bases de dados de livros e livros_genero e encontre qual os gêneros e os autores que não possuem um livro correspondente."
      ]
    },
    {
      "cell_type": "code",
      "execution_count": 20,
      "metadata": {
        "id": "imgwaOGk3YNq"
      },
      "outputs": [
        {
          "data": {
            "text/html": [
              "<div>\n",
              "<style scoped>\n",
              "    .dataframe tbody tr th:only-of-type {\n",
              "        vertical-align: middle;\n",
              "    }\n",
              "\n",
              "    .dataframe tbody tr th {\n",
              "        vertical-align: top;\n",
              "    }\n",
              "\n",
              "    .dataframe thead th {\n",
              "        text-align: right;\n",
              "    }\n",
              "</style>\n",
              "<table border=\"1\" class=\"dataframe\">\n",
              "  <thead>\n",
              "    <tr style=\"text-align: right;\">\n",
              "      <th></th>\n",
              "      <th>nome</th>\n",
              "      <th>paginas</th>\n",
              "      <th>genero</th>\n",
              "      <th>autor</th>\n",
              "    </tr>\n",
              "  </thead>\n",
              "  <tbody>\n",
              "    <tr>\n",
              "      <th>10</th>\n",
              "      <td>NaN</td>\n",
              "      <td>NaN</td>\n",
              "      <td>Romance</td>\n",
              "      <td>Pedro</td>\n",
              "    </tr>\n",
              "  </tbody>\n",
              "</table>\n",
              "</div>"
            ],
            "text/plain": [
              "   nome  paginas   genero  autor\n",
              "10  NaN      NaN  Romance  Pedro"
            ]
          },
          "execution_count": 20,
          "metadata": {},
          "output_type": "execute_result"
        }
      ],
      "source": [
        "concat_livro_n_genero[len(df_livros):]"
      ]
    },
    {
      "cell_type": "markdown",
      "metadata": {
        "id": "72Oy_JJ_3Z7F"
      },
      "source": [
        "Faça a junção das bases de livros e livros clássicos."
      ]
    },
    {
      "cell_type": "code",
      "execution_count": 26,
      "metadata": {
        "id": "YZFVy7UM3aPC"
      },
      "outputs": [
        {
          "data": {
            "text/html": [
              "<div>\n",
              "<style scoped>\n",
              "    .dataframe tbody tr th:only-of-type {\n",
              "        vertical-align: middle;\n",
              "    }\n",
              "\n",
              "    .dataframe tbody tr th {\n",
              "        vertical-align: top;\n",
              "    }\n",
              "\n",
              "    .dataframe thead th {\n",
              "        text-align: right;\n",
              "    }\n",
              "</style>\n",
              "<table border=\"1\" class=\"dataframe\">\n",
              "  <thead>\n",
              "    <tr style=\"text-align: right;\">\n",
              "      <th></th>\n",
              "      <th>nome</th>\n",
              "      <th>paginas</th>\n",
              "      <th>autor</th>\n",
              "    </tr>\n",
              "  </thead>\n",
              "  <tbody>\n",
              "    <tr>\n",
              "      <th>0</th>\n",
              "      <td>livro 1</td>\n",
              "      <td>257</td>\n",
              "      <td>Jorge</td>\n",
              "    </tr>\n",
              "    <tr>\n",
              "      <th>1</th>\n",
              "      <td>livro 2</td>\n",
              "      <td>106</td>\n",
              "      <td>Santos</td>\n",
              "    </tr>\n",
              "    <tr>\n",
              "      <th>2</th>\n",
              "      <td>livro 3</td>\n",
              "      <td>150</td>\n",
              "      <td>Leandro</td>\n",
              "    </tr>\n",
              "    <tr>\n",
              "      <th>3</th>\n",
              "      <td>livro 4</td>\n",
              "      <td>175</td>\n",
              "      <td>Clara</td>\n",
              "    </tr>\n",
              "    <tr>\n",
              "      <th>4</th>\n",
              "      <td>livro 5</td>\n",
              "      <td>321</td>\n",
              "      <td>Flavia</td>\n",
              "    </tr>\n",
              "    <tr>\n",
              "      <th>5</th>\n",
              "      <td>livro 6</td>\n",
              "      <td>159</td>\n",
              "      <td>Leandro</td>\n",
              "    </tr>\n",
              "    <tr>\n",
              "      <th>6</th>\n",
              "      <td>livro 7</td>\n",
              "      <td>980</td>\n",
              "      <td>Santos</td>\n",
              "    </tr>\n",
              "    <tr>\n",
              "      <th>7</th>\n",
              "      <td>livro 8</td>\n",
              "      <td>235</td>\n",
              "      <td>Marcia</td>\n",
              "    </tr>\n",
              "    <tr>\n",
              "      <th>8</th>\n",
              "      <td>livro 9</td>\n",
              "      <td>745</td>\n",
              "      <td>Marcia</td>\n",
              "    </tr>\n",
              "    <tr>\n",
              "      <th>9</th>\n",
              "      <td>livro 10</td>\n",
              "      <td>126</td>\n",
              "      <td>Clara</td>\n",
              "    </tr>\n",
              "  </tbody>\n",
              "</table>\n",
              "</div>"
            ],
            "text/plain": [
              "       nome  paginas    autor\n",
              "0   livro 1      257    Jorge\n",
              "1   livro 2      106   Santos\n",
              "2   livro 3      150  Leandro\n",
              "3   livro 4      175    Clara\n",
              "4   livro 5      321   Flavia\n",
              "5   livro 6      159  Leandro\n",
              "6   livro 7      980   Santos\n",
              "7   livro 8      235   Marcia\n",
              "8   livro 9      745   Marcia\n",
              "9  livro 10      126    Clara"
            ]
          },
          "execution_count": 26,
          "metadata": {},
          "output_type": "execute_result"
        }
      ],
      "source": [
        "merged = pd.merge(df_livros, df_livros_classicos)\n",
        "\n",
        "merged"
      ]
    },
    {
      "cell_type": "markdown",
      "metadata": {
        "id": "HORjiTk8ASUm"
      },
      "source": [
        "Faça a junção das bases de livros e livros clássicos apenas com os elementos em comum entre ambos e remova os índices dos antigos dataframes."
      ]
    },
    {
      "cell_type": "code",
      "execution_count": 44,
      "metadata": {
        "id": "h3QVJcJIASt6"
      },
      "outputs": [
        {
          "data": {
            "text/html": [
              "<div>\n",
              "<style scoped>\n",
              "    .dataframe tbody tr th:only-of-type {\n",
              "        vertical-align: middle;\n",
              "    }\n",
              "\n",
              "    .dataframe tbody tr th {\n",
              "        vertical-align: top;\n",
              "    }\n",
              "\n",
              "    .dataframe thead th {\n",
              "        text-align: right;\n",
              "    }\n",
              "</style>\n",
              "<table border=\"1\" class=\"dataframe\">\n",
              "  <thead>\n",
              "    <tr style=\"text-align: right;\">\n",
              "      <th></th>\n",
              "      <th>nome</th>\n",
              "      <th>paginas</th>\n",
              "      <th>genero</th>\n",
              "      <th>autor</th>\n",
              "    </tr>\n",
              "  </thead>\n",
              "  <tbody>\n",
              "    <tr>\n",
              "      <th>0</th>\n",
              "      <td>livro 1</td>\n",
              "      <td>257.0</td>\n",
              "      <td>Drama</td>\n",
              "      <td>Pedro</td>\n",
              "    </tr>\n",
              "    <tr>\n",
              "      <th>1</th>\n",
              "      <td>livro 2</td>\n",
              "      <td>106.0</td>\n",
              "      <td>Aventura</td>\n",
              "      <td>José</td>\n",
              "    </tr>\n",
              "    <tr>\n",
              "      <th>2</th>\n",
              "      <td>livro 3</td>\n",
              "      <td>150.0</td>\n",
              "      <td>Drama</td>\n",
              "      <td>Carlos</td>\n",
              "    </tr>\n",
              "    <tr>\n",
              "      <th>3</th>\n",
              "      <td>livro 4</td>\n",
              "      <td>175.0</td>\n",
              "      <td>Romance</td>\n",
              "      <td>Maria</td>\n",
              "    </tr>\n",
              "    <tr>\n",
              "      <th>4</th>\n",
              "      <td>livro 5</td>\n",
              "      <td>321.0</td>\n",
              "      <td>Romance</td>\n",
              "      <td>Fabio</td>\n",
              "    </tr>\n",
              "    <tr>\n",
              "      <th>5</th>\n",
              "      <td>livro 6</td>\n",
              "      <td>159.0</td>\n",
              "      <td>Aventura</td>\n",
              "      <td>Aline</td>\n",
              "    </tr>\n",
              "    <tr>\n",
              "      <th>6</th>\n",
              "      <td>livro 7</td>\n",
              "      <td>980.0</td>\n",
              "      <td>Drama</td>\n",
              "      <td>Paulo</td>\n",
              "    </tr>\n",
              "    <tr>\n",
              "      <th>7</th>\n",
              "      <td>livro 8</td>\n",
              "      <td>235.0</td>\n",
              "      <td>Aventura</td>\n",
              "      <td>Sandro</td>\n",
              "    </tr>\n",
              "    <tr>\n",
              "      <th>8</th>\n",
              "      <td>livro 9</td>\n",
              "      <td>745.0</td>\n",
              "      <td>Romance</td>\n",
              "      <td>Maria</td>\n",
              "    </tr>\n",
              "    <tr>\n",
              "      <th>9</th>\n",
              "      <td>livro 10</td>\n",
              "      <td>126.0</td>\n",
              "      <td>Aventura</td>\n",
              "      <td>Fabio</td>\n",
              "    </tr>\n",
              "  </tbody>\n",
              "</table>\n",
              "</div>"
            ],
            "text/plain": [
              "       nome  paginas    genero   autor\n",
              "0   livro 1    257.0     Drama   Pedro\n",
              "1   livro 2    106.0  Aventura    José\n",
              "2   livro 3    150.0     Drama  Carlos\n",
              "3   livro 4    175.0   Romance   Maria\n",
              "4   livro 5    321.0   Romance   Fabio\n",
              "5   livro 6    159.0  Aventura   Aline\n",
              "6   livro 7    980.0     Drama   Paulo\n",
              "7   livro 8    235.0  Aventura  Sandro\n",
              "8   livro 9    745.0   Romance   Maria\n",
              "9  livro 10    126.0  Aventura   Fabio"
            ]
          },
          "execution_count": 44,
          "metadata": {},
          "output_type": "execute_result"
        }
      ],
      "source": [
        "pd.merge(concat_livro_n_genero, df_livros_classicos, how='outer', on=['autor', 'nome'], validate='1:1').dropna()"
      ]
    },
    {
      "cell_type": "markdown",
      "metadata": {
        "id": "kfa3BN55AUrX"
      },
      "source": [
        "Faça a junção das bases de livros e livros clássicos apenas com os elementos comuns entre ambos, e adicione chaves para o dataframe de livros e de livros clássicos."
      ]
    },
    {
      "cell_type": "code",
      "execution_count": null,
      "metadata": {
        "id": "DvoUyayZAU-W"
      },
      "outputs": [],
      "source": []
    },
    {
      "cell_type": "markdown",
      "metadata": {
        "id": "s7goRYyXAW-U"
      },
      "source": [
        "Faça a junção das bases de livros e livros clássicos apenas com os elementos comuns entre ambos, e adicione chaves para o dataframe de livros e de livros clássicos, além de nomes para os índices."
      ]
    },
    {
      "cell_type": "code",
      "execution_count": null,
      "metadata": {
        "id": "XVEyWLV0AXP7"
      },
      "outputs": [],
      "source": []
    },
    {
      "cell_type": "markdown",
      "metadata": {
        "id": "m2sQjkbMAYzK"
      },
      "source": [
        "Faça a junção das bases de dados livros e livros_classicos e verifique a integridade do dataframe resultante."
      ]
    },
    {
      "cell_type": "code",
      "execution_count": null,
      "metadata": {
        "id": "MCFG5i38AZIf"
      },
      "outputs": [],
      "source": []
    }
  ],
  "metadata": {
    "colab": {
      "provenance": []
    },
    "kernelspec": {
      "display_name": "Python 3",
      "name": "python3"
    },
    "language_info": {
      "codemirror_mode": {
        "name": "ipython",
        "version": 3
      },
      "file_extension": ".py",
      "mimetype": "text/x-python",
      "name": "python",
      "nbconvert_exporter": "python",
      "pygments_lexer": "ipython3",
      "version": "3.10.11"
    }
  },
  "nbformat": 4,
  "nbformat_minor": 0
}
