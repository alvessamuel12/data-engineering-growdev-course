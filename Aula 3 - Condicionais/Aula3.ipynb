{
 "cells": [
  {
   "cell_type": "markdown",
   "metadata": {},
   "source": [
    "![Growdev](https://www.growdev.com.br/assets/images/logo_growdev.png)"
   ]
  },
  {
   "cell_type": "markdown",
   "metadata": {},
   "source": [
    "![Formação Engenharia de Dados](https://d335luupugsy2.cloudfront.net/cms/files/524558/1707226566/$occu5m8t1op)"
   ]
  },
  {
   "cell_type": "markdown",
   "metadata": {},
   "source": [
    "# Tópicos da Aula de Hoje"
   ]
  },
  {
   "cell_type": "markdown",
   "metadata": {},
   "source": [
    "- Recap\n",
    "- Condicionais: If/Else/Elif\n",
    "- Operadores Lógicos e Tabela Verdade\n",
    "- Teste de Mesa\n",
    "- Sintaxe de Identação e Comentários\n",
    "- Exercícios"
   ]
  },
  {
   "cell_type": "markdown",
   "metadata": {},
   "source": [
    "**Bora pra aula?**"
   ]
  },
  {
   "cell_type": "markdown",
   "metadata": {},
   "source": [
    "# Recap"
   ]
  },
  {
   "cell_type": "markdown",
   "metadata": {},
   "source": [
    "Na aula anterior vimos:\n",
    "- Variáveis e Tipagem de Dados\n",
    "- Operadores Matemáticos e de Comparação\n",
    "- Entrada/Saída de Dados"
   ]
  },
  {
   "cell_type": "markdown",
   "metadata": {},
   "source": [
    "## Variáveis e Tipagem de Dados"
   ]
  },
  {
   "cell_type": "code",
   "execution_count": 4,
   "metadata": {},
   "outputs": [],
   "source": [
    "# podemos definir uma variável dando um nome\n",
    "ano = 2020"
   ]
  },
  {
   "cell_type": "markdown",
   "metadata": {},
   "source": [
    "Em Python temos, basicamente, 4 tipos de variáveis: \n",
    "- Integer (int)\n",
    "- Float (float)\n",
    "- Strings (str)\n",
    "- Booleanos (bool)"
   ]
  },
  {
   "cell_type": "code",
   "execution_count": 5,
   "metadata": {},
   "outputs": [
    {
     "data": {
      "text/plain": [
       "int"
      ]
     },
     "execution_count": 5,
     "metadata": {},
     "output_type": "execute_result"
    }
   ],
   "source": [
    "# Inteiros são aqueles números usados para contar\n",
    "numero_laranjas = 10\n",
    "# Para consultar o tipo de uma variável\n",
    "type(numero_laranjas)"
   ]
  },
  {
   "cell_type": "code",
   "execution_count": 6,
   "metadata": {},
   "outputs": [
    {
     "data": {
      "text/plain": [
       "float"
      ]
     },
     "execution_count": 6,
     "metadata": {},
     "output_type": "execute_result"
    }
   ],
   "source": [
    "# Floats são os números decimais\n",
    "nota_prova = 9.5\n",
    "# Consultando o tipo\n",
    "type(nota_prova)"
   ]
  },
  {
   "cell_type": "code",
   "execution_count": 7,
   "metadata": {},
   "outputs": [
    {
     "data": {
      "text/plain": [
       "str"
      ]
     },
     "execution_count": 7,
     "metadata": {},
     "output_type": "execute_result"
    }
   ],
   "source": [
    "# String são cadeias de caracteres\n",
    "nome_professor = 'Bruno'\n",
    "# Consultando o tipo\n",
    "type(nome_professor)"
   ]
  },
  {
   "cell_type": "code",
   "execution_count": 8,
   "metadata": {},
   "outputs": [
    {
     "data": {
      "text/plain": [
       "bool"
      ]
     },
     "execution_count": 8,
     "metadata": {},
     "output_type": "execute_result"
    }
   ],
   "source": [
    "# booleanos geralmente guardam o resultado de uma operação lógica\n",
    "pele_maior_maradona = True\n",
    "# Consultando o tipo\n",
    "type(pele_maior_maradona)"
   ]
  },
  {
   "cell_type": "code",
   "execution_count": 9,
   "metadata": {},
   "outputs": [
    {
     "data": {
      "text/plain": [
       "'29'"
      ]
     },
     "execution_count": 9,
     "metadata": {},
     "output_type": "execute_result"
    }
   ],
   "source": [
    "str(29)"
   ]
  },
  {
   "cell_type": "code",
   "execution_count": 10,
   "metadata": {},
   "outputs": [
    {
     "data": {
      "text/plain": [
       "7"
      ]
     },
     "execution_count": 10,
     "metadata": {},
     "output_type": "execute_result"
    }
   ],
   "source": [
    "int('7')"
   ]
  },
  {
   "cell_type": "markdown",
   "metadata": {},
   "source": [
    "## Operadores Matemáticos e de Comparação"
   ]
  },
  {
   "cell_type": "markdown",
   "metadata": {},
   "source": [
    "Os operadores matemáticos básicos em Python são: \n",
    "- `+` (adição)\n",
    "- `-` (subtração)\n",
    "- `*` (multiplicação)\n",
    "- `/` (divisão)\n",
    "- `//` (divisão inteira)\n",
    "- `%` (operador resto)\n",
    "- `**` (exponenciação)"
   ]
  },
  {
   "cell_type": "markdown",
   "metadata": {},
   "source": [
    "Os operadores de comparação em Python são:\n",
    "- A == B  (vamos verificar se A é igual a B)\n",
    "- A > B (vamos verificar se A é maior que B)\n",
    "- A < B (vamos verificar se B é maior que A)\n",
    "- A >= B (vamos verificar se A é maior ou igual a B)\n",
    "- A != B (Vamos verificar se A é diferente de B)"
   ]
  },
  {
   "cell_type": "markdown",
   "metadata": {},
   "source": [
    "## Entrada/Saída de Dados"
   ]
  },
  {
   "cell_type": "code",
   "execution_count": 11,
   "metadata": {},
   "outputs": [],
   "source": [
    "nome = input('Digite seu nome: ')"
   ]
  },
  {
   "cell_type": "code",
   "execution_count": 12,
   "metadata": {},
   "outputs": [],
   "source": [
    "idade = int(input('Digite a sua idade'))"
   ]
  },
  {
   "cell_type": "code",
   "execution_count": 13,
   "metadata": {},
   "outputs": [
    {
     "name": "stdout",
     "output_type": "stream",
     "text": [
      "Oi, meu nome é All e eu tenho 12 anos.\n"
     ]
    }
   ],
   "source": [
    "print(f'Oi, meu nome é {nome} e eu tenho {idade} anos.')"
   ]
  },
  {
   "cell_type": "markdown",
   "metadata": {},
   "source": [
    "# Condicionais: If/Else/Elif"
   ]
  },
  {
   "cell_type": "markdown",
   "metadata": {},
   "source": [
    "Em algumas ocasiões necessitamos que algo aconteça, se uma determinada condição for atendida, ou algum evento aconteça.\n",
    "\n",
    "```SE``` (condição):<br>\n",
    "```ENTAO``` (execute)<br>\n",
    "```CASO NÃO``` (execute)"
   ]
  },
  {
   "cell_type": "markdown",
   "metadata": {},
   "source": [
    "Por exemplo, imagine a média da nota de um aluno. Se a média for ```maior ou igual a 7```, ele é aprovado, caso contrário, ele é reprovado."
   ]
  },
  {
   "cell_type": "code",
   "execution_count": 14,
   "metadata": {},
   "outputs": [
    {
     "name": "stdout",
     "output_type": "stream",
     "text": [
      "Aluno Reprovado!\n"
     ]
    }
   ],
   "source": [
    "media_aluno = 6.5\n",
    "# Se média maior ou igual a 7, então ele é aprovado\n",
    "if media_aluno >=7:\n",
    "    print('Aluno Aprovado!')\n",
    "# Caso contrário, ele está reprovado\n",
    "else:\n",
    "    print('Aluno Reprovado!')"
   ]
  },
  {
   "cell_type": "markdown",
   "metadata": {},
   "source": [
    "**E se eu tiver mais de uma condição??**"
   ]
  },
  {
   "cell_type": "code",
   "execution_count": 15,
   "metadata": {},
   "outputs": [
    {
     "name": "stdout",
     "output_type": "stream",
     "text": [
      "Aluno na Recuperação\n"
     ]
    }
   ],
   "source": [
    "# Se média maior ou igual a 7, então ele é aprovado\n",
    "if media_aluno >=7:\n",
    "    print('Aluno Aprovado!')\n",
    "# Caso contrário, se a média é maior ou iguala 5, ele vai pra recuperação\n",
    "else:\n",
    "    if media_aluno >= 5:\n",
    "        print('Aluno na Recuperação')\n",
    "# Caso contrário ele é reprovado\n",
    "    else:\n",
    "        print('Aluno Reprovado!')"
   ]
  },
  {
   "cell_type": "markdown",
   "metadata": {},
   "source": [
    "Porém, o Python foi feito pra ajudar e não atraplhar. Reparou como o código ficou grande e com várias identações? Será que existe alguma maneira mais fácil de se fazer isso? A resposata é SIM! Pra isso existe o ```elif```"
   ]
  },
  {
   "cell_type": "code",
   "execution_count": 16,
   "metadata": {},
   "outputs": [
    {
     "name": "stdout",
     "output_type": "stream",
     "text": [
      "Aluno na Recuperação\n"
     ]
    }
   ],
   "source": [
    "# Se média maior ou igual a 7, então ele é aprovado\n",
    "if media_aluno >=7:\n",
    "    print('Aluno Aprovado!')\n",
    "# Caso contrário, se a média é maior ou iguala 5, ele vai pra recuperação\n",
    "elif media_aluno >= 5:\n",
    "    print('Aluno na Recuperação')\n",
    "# Caso contrário ele é reprovado\n",
    "else:\n",
    "    print('Aluno Reprovado!')"
   ]
  },
  {
   "cell_type": "markdown",
   "metadata": {},
   "source": [
    "# Operadores Lógicos e Tabela Verdade"
   ]
  },
  {
   "cell_type": "markdown",
   "metadata": {},
   "source": [
    "Em Python, os operadores lógicos são: AND (e), OR (ou), NOT (não)."
   ]
  },
  {
   "cell_type": "markdown",
   "metadata": {},
   "source": [
    "Quando usamos ```AND```, esperamos que todas sejam verdadeiras. <br>\n",
    "Quando usamos o ```OR```, precisamos que pelo menos uma condição seja verdadeira. <br>\n",
    "Quando usamos o ```NOT```, alteramos o sentido, ou seja, True vira False e False vira True"
   ]
  },
  {
   "cell_type": "code",
   "execution_count": 17,
   "metadata": {},
   "outputs": [],
   "source": [
    "idade1 = 20\n",
    "idade2 = 15\n",
    "idade3 = 10"
   ]
  },
  {
   "cell_type": "code",
   "execution_count": 18,
   "metadata": {},
   "outputs": [
    {
     "data": {
      "text/plain": [
       "False"
      ]
     },
     "execution_count": 18,
     "metadata": {},
     "output_type": "execute_result"
    }
   ],
   "source": [
    "# Operador and\n",
    "idade1 > idade2 and idade1 < idade3"
   ]
  },
  {
   "cell_type": "markdown",
   "metadata": {},
   "source": [
    "Nesse caso, idade1 é maior que idade 2, mas idade1 não é menor que idade3."
   ]
  },
  {
   "cell_type": "code",
   "execution_count": 19,
   "metadata": {},
   "outputs": [
    {
     "data": {
      "text/plain": [
       "True"
      ]
     },
     "execution_count": 19,
     "metadata": {},
     "output_type": "execute_result"
    }
   ],
   "source": [
    "# Operador or\n",
    "idade1 > idade2 or idade1 < idade3"
   ]
  },
  {
   "cell_type": "markdown",
   "metadata": {},
   "source": [
    "Nesse caso, idade1 > idade2, ou seja, já é suficiente para a comparação inteira ser verdadeira."
   ]
  },
  {
   "cell_type": "code",
   "execution_count": 20,
   "metadata": {},
   "outputs": [
    {
     "data": {
      "text/plain": [
       "False"
      ]
     },
     "execution_count": 20,
     "metadata": {},
     "output_type": "execute_result"
    }
   ],
   "source": [
    "# Operador not\n",
    "not True"
   ]
  },
  {
   "cell_type": "code",
   "execution_count": 21,
   "metadata": {},
   "outputs": [
    {
     "data": {
      "text/plain": [
       "True"
      ]
     },
     "execution_count": 21,
     "metadata": {},
     "output_type": "execute_result"
    }
   ],
   "source": [
    "not False"
   ]
  },
  {
   "cell_type": "markdown",
   "metadata": {},
   "source": [
    "## Exemplo"
   ]
  },
  {
   "cell_type": "code",
   "execution_count": 22,
   "metadata": {},
   "outputs": [],
   "source": [
    "renda = 5000\n",
    "historico_credito_bom = True"
   ]
  },
  {
   "cell_type": "code",
   "execution_count": 23,
   "metadata": {},
   "outputs": [
    {
     "name": "stdout",
     "output_type": "stream",
     "text": [
      "Você é elegível para o empréstimo.\n"
     ]
    }
   ],
   "source": [
    "if renda > 3000 and historico_credito_bom:\n",
    "    print(\"Você é elegível para o empréstimo.\")\n",
    "else:\n",
    "    print(\"Você não é elegível para o empréstimo.\")"
   ]
  },
  {
   "cell_type": "markdown",
   "metadata": {},
   "source": [
    "# Teste de Mesa"
   ]
  },
  {
   "cell_type": "markdown",
   "metadata": {},
   "source": [
    "O teste de mesa é uma técnica para verificar a correção de um programa, seguindo a execução passo a passo."
   ]
  },
  {
   "cell_type": "code",
   "execution_count": 24,
   "metadata": {},
   "outputs": [],
   "source": [
    "# renda = 5000\n",
    "# historico_credito_bom = True"
   ]
  },
  {
   "cell_type": "code",
   "execution_count": 25,
   "metadata": {},
   "outputs": [],
   "source": [
    "# renda > 3000"
   ]
  },
  {
   "cell_type": "code",
   "execution_count": 26,
   "metadata": {},
   "outputs": [],
   "source": [
    "# historico_credito_bom"
   ]
  },
  {
   "cell_type": "code",
   "execution_count": 27,
   "metadata": {},
   "outputs": [],
   "source": [
    "# True and True"
   ]
  },
  {
   "cell_type": "code",
   "execution_count": 28,
   "metadata": {},
   "outputs": [],
   "source": [
    "# renda > 3000 and historico_credito_bom"
   ]
  },
  {
   "cell_type": "code",
   "execution_count": 29,
   "metadata": {},
   "outputs": [],
   "source": [
    "# if renda > 3000 and historico_credito_bom:\n",
    "#     print(\"Você é elegível para o empréstimo.\")\n",
    "# else:\n",
    "#     print(\"Você não é elegível para o empréstimo.\")"
   ]
  },
  {
   "cell_type": "markdown",
   "metadata": {},
   "source": [
    "# Sintaxe de Identação e Comentários"
   ]
  },
  {
   "cell_type": "markdown",
   "metadata": {},
   "source": [
    "**Identação:** Em Python, a indentação é crucial para indicar blocos de código dentro de estruturas como IF/ELSE."
   ]
  },
  {
   "cell_type": "code",
   "execution_count": 30,
   "metadata": {},
   "outputs": [
    {
     "name": "stdout",
     "output_type": "stream",
     "text": [
      "Você é maior de idade.\n"
     ]
    }
   ],
   "source": [
    "idade = 20\n",
    "if idade >= 18:\n",
    "    print(\"Você é maior de idade.\")\n",
    "else:\n",
    "    print(\"Você é menor de idade.\")"
   ]
  },
  {
   "cell_type": "markdown",
   "metadata": {},
   "source": [
    "**Comentários:** Em Python, são textos explicativos que são ignorados pelo interpretador. Eles são usados para documentar o código e torná-lo mais legível para outros programadores."
   ]
  },
  {
   "cell_type": "code",
   "execution_count": 31,
   "metadata": {},
   "outputs": [],
   "source": [
    "idade = 20  # Define a variável idade como 20"
   ]
  },
  {
   "cell_type": "markdown",
   "metadata": {},
   "source": [
    "# Exercícios"
   ]
  },
  {
   "cell_type": "markdown",
   "metadata": {},
   "source": [
    "**Escreva um programa que solicite um número ao usuário e determine se é par ou ímpar**"
   ]
  },
  {
   "cell_type": "code",
   "execution_count": 32,
   "metadata": {},
   "outputs": [
    {
     "name": "stdout",
     "output_type": "stream",
     "text": [
      "3 é ímpar\n"
     ]
    }
   ],
   "source": [
    "num = int(input(\"Digite um número:\"))\n",
    "\n",
    "if num%2 == 0:\n",
    "    print(f'{num} é par')\n",
    "else:\n",
    "    print(f'{num} é ímpar')"
   ]
  },
  {
   "cell_type": "markdown",
   "metadata": {},
   "source": [
    "**Escreva um programa que solicite os comprimentos dos lados de um triângulo e determine se ele é equilátero, isósceles ou escaleno.**\n",
    "\n",
    "Um triângulo equilátero tem todos os lados iguais, um triângulo isósceles tem dois lados iguais e um triângulo escaleno tem todos os lados diferentes."
   ]
  },
  {
   "cell_type": "code",
   "execution_count": 37,
   "metadata": {},
   "outputs": [
    {
     "name": "stdout",
     "output_type": "stream",
     "text": [
      "Escaleno\n"
     ]
    }
   ],
   "source": [
    "triangulo = []\n",
    "\n",
    "for i in range(1,4):\n",
    "    triangulo.append(int(input(f'Digite o lado {i}')))\n",
    "\n",
    "num = 0\n",
    "for l in triangulo:\n",
    "    num = triangulo.count(l)\n",
    "    if num == 3:\n",
    "        print('Equilátero')\n",
    "        break\n",
    "    if num == 2:\n",
    "        print('Isósceles')\n",
    "        break\n",
    "if num == 1:\n",
    "    print('Escaleno')\n",
    "\n",
    "\n",
    "\n",
    "'''\n",
    "if triangulo[0]==triangulo[1]==triangulo[2]:\n",
    "    print('Equilátero')\n",
    "elif triangulo[0]!=triangulo[1]!=triangulo[2]:\n",
    "    print('Escaleno')\n",
    "else:\n",
    "    print('Isósceles')\n",
    "'''"
   ]
  },
  {
   "cell_type": "markdown",
   "metadata": {},
   "source": [
    "**Escreva um programa que solicite a idade de uma pessoa e imprima se ela é criança, adolescente, adulta ou idosa.**\n",
    "\n",
    "Considere as seguintes faixas etárias:\n",
    "- Criança: até 12 anos\n",
    "- Adolescente: de 13 a 17 anos\n",
    "- Adulto: de 18 a 59 anos\n",
    "- Idoso: 60 anos ou mais"
   ]
  },
  {
   "cell_type": "code",
   "execution_count": null,
   "metadata": {},
   "outputs": [],
   "source": [
    "idade = int(input('Digite uma idade:'))\n",
    "\n",
    "if idade <= 12:\n",
    "    print('Criança')\n",
    "elif idade > 12 and idade <= 17:\n",
    "    print('Adolescente')\n",
    "elif idade > 17 and idade <= 59:\n",
    "    print('Adulto')\n",
    "else:\n",
    "    print('Idoso')\n"
   ]
  }
 ],
 "metadata": {
  "kernelspec": {
   "display_name": "base",
   "language": "python",
   "name": "python3"
  },
  "language_info": {
   "codemirror_mode": {
    "name": "ipython",
    "version": 3
   },
   "file_extension": ".py",
   "mimetype": "text/x-python",
   "name": "python",
   "nbconvert_exporter": "python",
   "pygments_lexer": "ipython3",
   "version": "3.10.11"
  }
 },
 "nbformat": 4,
 "nbformat_minor": 2
}
