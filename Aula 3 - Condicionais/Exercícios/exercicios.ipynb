{
 "cells": [
  {
   "cell_type": "markdown",
   "metadata": {},
   "source": [
    "1 - Conversão de graus Celsius para Fahrenheit – Crie um programa que converta graus\n",
    "Celsius em Fahrenheit. A fórmula é a seguinte:\n",
    "\n",
    "F = 9/5*C + 32\n",
    "\n",
    "\n",
    "O programa deve solicitar ao usuário que insira uma temperatura em graus Celsius e, em\n",
    "seguida, exiba a temperatura convertida em Fahrenheit. Após construir esse programa,\n",
    "modifique-o para que converta graus Fahrenheit em graus Celsius.\n"
   ]
  },
  {
   "cell_type": "code",
   "execution_count": 4,
   "metadata": {},
   "outputs": [
    {
     "name": "stdout",
     "output_type": "stream",
     "text": [
      "15.00°C equivale a 59.00°F.\n"
     ]
    }
   ],
   "source": [
    "unidade_medida = input(\"Digite a unidade de medida atual (C - Celcius/F - Fahrenheit): \").upper()\n",
    "temperatura = float(input(\"Digite o valor a ser convertido: \"))\n",
    "if unidade_medida == \"C\":\n",
    "    valor_convertido = (9 * temperatura) / 5 + 32\n",
    "    unidade_convertida = \"F\"\n",
    "else:\n",
    "    valor_convertido = (temperatura - 32) * 5 / 9\n",
    "    unidade_convertida = \"C\"\n",
    "\n",
    "print(f\"{temperatura:.2f}°{unidade_medida} equivale a {valor_convertido:.2f}°{unidade_convertida}.\")\n"
   ]
  },
  {
   "cell_type": "markdown",
   "metadata": {},
   "source": [
    "2- Escreva um programa que receba um número e escreva “Par” caso esse número seja par\n",
    "e escreva “Impar” caso esse número seja impar.\n"
   ]
  },
  {
   "cell_type": "code",
   "execution_count": 12,
   "metadata": {},
   "outputs": [
    {
     "name": "stdout",
     "output_type": "stream",
     "text": [
      "4 é par\n"
     ]
    }
   ],
   "source": [
    "num = int(input('Digite um número: '))\n",
    "\n",
    "if not num&1:\n",
    "    print(f'{num} é par')\n",
    "else:\n",
    "    print(f'{num} é ímpar')"
   ]
  },
  {
   "cell_type": "markdown",
   "metadata": {},
   "source": [
    "3 - Escreva um programa que receba dois números, exiba as opções:\n",
    "\n",
    "1. adição\n",
    "2. subtração\n",
    "\n",
    "Então peça ao usuário para escolher uma das opções. Caso escolha a opção 1 o programa\n",
    "deve realizar a soma dos dois números lidos e exibir. Caso escolha a opção 2 o programa\n",
    "deve realizar a subtração dos dois números lidos e exibir."
   ]
  },
  {
   "cell_type": "code",
   "execution_count": 13,
   "metadata": {},
   "outputs": [
    {
     "name": "stdout",
     "output_type": "stream",
     "text": [
      "5.0 1 6.0 = 11.00\n"
     ]
    }
   ],
   "source": [
    "numero1 = float(input(\"Digite o primeiro número: \"))\n",
    "numero2 = float(input(\"Digite o segundo número: \"))\n",
    "\n",
    "operacao = input(\"Digite a operação: 1 - Adição | 2 - Subtração): \")\n",
    "\n",
    "if operacao == \"1\":\n",
    "    resultado = numero1 + numero2 \n",
    "elif operacao == \"2\":\n",
    "    resultado = numero1 - numero2\n",
    "else:\n",
    "    print('Operação inválida!')\n",
    "\n",
    "print(f\"{numero1} {operacao} {numero2} = {resultado:.2f}\")"
   ]
  },
  {
   "cell_type": "markdown",
   "metadata": {},
   "source": [
    "4 - Numa determinada escola, os critérios de aprovação são os seguintes:\n",
    "- O aluno deve ter, no máximo, 25% de faltas;\n",
    "- A nota final deve ser igual ou superior a 7,00.\n",
    "Construa um programa para ler as notas que um aluno tirou nos 4 bimestres, o número total\n",
    "de aulas e o número de faltas, mostrando ao final a situação do aluno como sendo\n",
    "“Aprovado”, “Reprovado por Faltas” e “Reprovado por média”, considerando que a\n",
    "reprovação por faltas se sobrepõe a reprovação por nota.\n",
    "5 - Após construir o programa anterior, crie mais duas versões dele para prever as seguintes\n",
    "situações:\n",
    "- Um aluno pode ficar em recuperação se possuir frequência suficiente (superior a\n",
    "75%) e média superior a 5 mas inferior a 7;\n",
    "- Caso um aluno reprove por média e faltas, sua situação deve ser “Reprovado por\n",
    "Média e Faltas” (ao invés de simplesmente “Reprovado por Faltas” como antes)."
   ]
  },
  {
   "cell_type": "code",
   "execution_count": null,
   "metadata": {},
   "outputs": [],
   "source": [
    "nota_1 = float(input(\"Digite a nota do 1º bimestre: \"))\n",
    "nota_2 = float(input(\"Digite a nota do 2º bimestre: \"))\n",
    "nota_3 = float(input(\"Digite a nota do 3º bimestre: \"))\n",
    "nota_4 = float(input(\"Digite a nota do 4º bimestre: \"))\n",
    "\n",
    "media_final = (nota_1 + nota_2 + nota_3 + nota_4) / 4\n",
    "\n",
    "total_aulas = int(input(\"Digite o número total de aulas: \"))\n",
    "total_faltas = int(input(\"Digite o número de faltas: \"))\n",
    "\n",
    "frequencia = total_faltas / total_aulas <= 0.25\n",
    "\n",
    "is_aprovado_por_media = media_final >= 7.0\n",
    "\n",
    "if total_faltas / total_aulas > 0.25:\n",
    "    situacao_aluno = \"Reprovado por Faltas\"\n",
    "elif is_aprovado_por_media and frequencia:\n",
    "    situacao_aluno = \"Aprovado\"\n",
    "elif frequencia:\n",
    "    situacao_aluno = \"Recuperação\"\n",
    "else:\n",
    "    situacao_aluno = \"Reprovado por Média e Faltas\"\n",
    "\n",
    "print(f\"Resultado do aluno: {situacao_aluno}\")\n"
   ]
  },
  {
   "cell_type": "markdown",
   "metadata": {},
   "source": [
    "5 - Após construir o programa anterior, crie mais duas versões dele para prever as seguintes\n",
    "situações:\n",
    "- Um aluno pode ficar em recuperação se possuir frequência suficiente (superior a\n",
    "75%) e média superior a 5 mas inferior a 7;\n",
    "- Caso um aluno reprove por média e faltas, sua situação deve ser “Reprovado por\n",
    "Média e Faltas” (ao invés de simplesmente “Reprovado por Faltas” como antes)."
   ]
  },
  {
   "cell_type": "code",
   "execution_count": 17,
   "metadata": {},
   "outputs": [
    {
     "name": "stdout",
     "output_type": "stream",
     "text": [
      "Situação: Reprovado por Média e Faltas\n"
     ]
    }
   ],
   "source": [
    "nota_1 = float(input(\"Nota do 1º bimestre: \"))\n",
    "nota_2 = float(input(\"Nota do 2º bimestre: \"))\n",
    "nota_3 = float(input(\"Nota do 3º bimestre: \"))\n",
    "nota_4 = float(input(\"Nota do 4º bimestre: \"))\n",
    "\n",
    "# Cálculo da média final\n",
    "media_final = (nota_1 + nota_2 + nota_3 + nota_4) / 4\n",
    "\n",
    "# Coleta de dados de faltas e aulas\n",
    "numero_aulas = int(input(\"Número total de aulas: \"))\n",
    "numero_faltas = int(input(\"Número de faltas: \"))\n",
    "\n",
    "# Verificação da frequência\n",
    "frequencia_suficiente = numero_faltas / numero_aulas <= 0.25\n",
    "\n",
    "# Verificação da aprovação por média\n",
    "aprovado_por_media = media_final >= 7.0\n",
    "\n",
    "# Determinação da situação final\n",
    "if numero_faltas / numero_aulas > 0.25:\n",
    "  situacao = \"Reprovado por Faltas\"\n",
    "elif aprovado_por_media and frequencia_suficiente:\n",
    "  situacao = \"Aprovado\"\n",
    "elif frequencia_suficiente and media_final > 5:\n",
    "  situacao = \"Recuperação\"\n",
    "else:\n",
    "  situacao = \"Reprovado por Média e Faltas\"\n",
    "\n",
    "# Impressão da situação final\n",
    "print(f\"Situação: {situacao}\")"
   ]
  },
  {
   "cell_type": "markdown",
   "metadata": {},
   "source": [
    "6 - Escreva um programa que peça ao usuário para fornecer um dia, mês e o ano arbitrários\n",
    "e determine se esses dados correspondem a uma data válida. Não deixe de considerar que\n",
    "existem meses com 30 e 31 dias, e que fevereiro pode ter 28 ou 29 dias, dependendo se o\n",
    "ano for bissexto. Considere que um ano é bissexto quando for divisível por 4."
   ]
  },
  {
   "cell_type": "code",
   "execution_count": 12,
   "metadata": {},
   "outputs": [
    {
     "name": "stdout",
     "output_type": "stream",
     "text": [
      "A data 1/3/2020 é valida\n"
     ]
    }
   ],
   "source": [
    "dia = int(input(\"Digite um dia: \"))\n",
    "mes = int(input(\"Digite um mês: \"))\n",
    "ano = int(input(\"Digite um ano: \"))\n",
    "\n",
    "data = f'{dia}/{mes}/{ano}'\n",
    "\n",
    "is_bissesto = ano%4 == 0\n",
    "is_fev = mes == 2\n",
    "is_fev_28 = not is_bissesto and is_fev and dia <= 28\n",
    "is_fev_29 = is_bissesto and is_fev and dia <= 29\n",
    "is_mes_31 = mes == 1 or mes == 3 or mes == 5 or mes == 7 or mes == 8 or mes == 10 or mes == 12\n",
    "is_mes_31_e_dia_valido = (dia <=31 and is_mes_31)\n",
    "is_mes_30 = mes == 4 or mes == 6 or mes == 9 or mes == 11\n",
    "is_mes_30_e_dia_valido = (dia <=30 and is_mes_30)\n",
    "\n",
    "if not (is_mes_31_e_dia_valido or is_mes_30_e_dia_valido or is_fev_28 or is_fev_29):\n",
    "    print(f'A data {data} é inválida')\n",
    "else:\n",
    "    print(f'A data {data} é valida')\n"
   ]
  },
  {
   "cell_type": "markdown",
   "metadata": {},
   "source": [
    "7- Construa um programa que leia uma data qualquer (dia, mês e ano) e calcule a data do\n",
    "próximo dia. Lembre-se que em anos bissextos o mês de fevereiro tem 29 dias. Lembre-se\n",
    "que um ano é bissexto quando for divisível por 4."
   ]
  },
  {
   "cell_type": "code",
   "execution_count": 15,
   "metadata": {},
   "outputs": [
    {
     "name": "stdout",
     "output_type": "stream",
     "text": [
      "O dia seguinte a data 31/3/2021 é a data 1/4/2021\n"
     ]
    }
   ],
   "source": [
    "dia = int(input(\"Digite um dia: \"))\n",
    "mes = int(input(\"Digite um mês: \"))\n",
    "ano = int(input(\"Digite um ano: \"))\n",
    "\n",
    "data = f'{dia}/{mes}/{ano}'\n",
    "\n",
    "is_bissesto = ano%4 == 0\n",
    "is_fev = mes == 2\n",
    "is_fev_28 = not is_bissesto and is_fev and dia <= 28\n",
    "is_fev_29 = is_bissesto and is_fev and dia <= 29\n",
    "is_mes_31 = mes == 1 or mes == 3 or mes == 5 or mes == 7 or mes == 8 or mes == 10 or mes == 12\n",
    "is_mes_31_e_dia_valido = (dia <=31 and is_mes_31)\n",
    "is_mes_30 = mes == 4 or mes == 6 or mes == 9 or mes == 11\n",
    "is_mes_30_e_dia_valido = (dia <=30 and is_mes_30)\n",
    "\n",
    "is_data_valida = is_mes_31_e_dia_valido or is_mes_30_e_dia_valido or is_fev_28 or is_fev_29\n",
    "\n",
    "if (is_data_valida):\n",
    "    prox_dia = dia+1\n",
    "\n",
    "    is_bissesto = ano%4 == 0\n",
    "    is_fev = mes == 2\n",
    "    is_fev_28 = not is_bissesto and is_fev and prox_dia <= 28\n",
    "    is_fev_29 = is_bissesto and is_fev and prox_dia <= 29\n",
    "    is_mes_31 = mes == 1 or mes == 3 or mes == 5 or mes == 7 or mes == 8 or mes == 10 or mes == 12\n",
    "    is_mes_31_e_prox_dia_valido = prox_dia <=31 and is_mes_31\n",
    "    is_mes_30 = mes == 4 or mes == 6 or mes == 9 or mes == 11\n",
    "    is_mes_30_e_prox_dia_valido = (prox_dia <=30) and is_mes_30\n",
    "\n",
    "    \n",
    "\n",
    "    if not (is_mes_31_e_prox_dia_valido or is_mes_30_e_prox_dia_valido or is_fev_28 or is_fev_29):\n",
    "        prox_dia = 1\n",
    "        prox_mes = mes+1\n",
    "        is_bissesto = ano%4 == 0\n",
    "        is_fev = prox_mes == 2\n",
    "        is_fev_28 = not is_bissesto and is_fev and prox_dia <= 28\n",
    "        is_fev_29 = is_bissesto and is_fev and prox_dia <= 29\n",
    "        is_prox_mes_31 = prox_mes == 1 or prox_mes == 3 or prox_mes == 5 or prox_mes == 7 or prox_mes == 8 or prox_mes == 10 or prox_mes == 12\n",
    "        is_prox_mes_31_e_prox_dia_valido = prox_dia <=31 and is_prox_mes_31\n",
    "        is_prox_mes_30 = prox_mes == 4 or prox_mes == 6 or prox_mes == 9 or prox_mes == 11\n",
    "        is_prox_mes_30_e_prox_dia_valido = (prox_dia <=30) and is_prox_mes_30\n",
    "        if not (is_prox_mes_31_e_prox_dia_valido or is_prox_mes_30_e_prox_dia_valido or is_fev_28 or is_fev_29):\n",
    "            prox_ano = ano+1\n",
    "            prox_mes = 1\n",
    "            is_bissesto = prox_ano%4 == 0\n",
    "            is_fev = prox_mes == 2\n",
    "            is_fev_28 = not is_bissesto and is_fev and prox_dia <= 28\n",
    "            is_fev_29 = is_bissesto and is_fev and prox_dia <= 29\n",
    "            is_prox_mes_31 = prox_mes == 1 or prox_mes == 3 or prox_mes == 5 or prox_mes == 7 or prox_mes == 8 or prox_mes == 10 or prox_mes == 12\n",
    "            is_prox_mes_31_e_prox_dia_valido = prox_dia <=31 and is_prox_mes_31\n",
    "            is_prox_mes_30 = prox_mes == 4 or prox_mes == 6 or prox_mes == 9 or prox_mes == 11\n",
    "            is_prox_mes_30_e_prox_dia_valido = (prox_dia <=30) and is_prox_mes_30\n",
    "            if is_prox_mes_31_e_prox_dia_valido or is_prox_mes_30_e_prox_dia_valido or (is_fev_28 or is_fev_29):\n",
    "                print(f'O dia seguinte a data {dia}/{str(mes)}/{ano} é a data {prox_dia}/{prox_mes}/{prox_ano}')\n",
    "        else:\n",
    "            print(f'O dia seguinte a data {dia}/{str(mes)}/{ano} é a data {prox_dia}/{prox_mes}/{ano}')\n",
    "    else:\n",
    "        print(f'O dia seguinte a data {dia}/{str(mes)}/{ano} é a data {prox_dia}/{mes}/{ano}')\n",
    "else:\n",
    "    print(f'A data {data} é inválida')"
   ]
  },
  {
   "cell_type": "markdown",
   "metadata": {},
   "source": [
    "8 - Faça um programa que leia as duas notas parciais obtidas por um aluno numa\n",
    "disciplina ao longo de um semestre, e calcule a sua média. A atribuição de conceitos\n",
    "obedece à tabela abaixo:\n",
    "Média de Aproveitamento\n",
    "- Entre 9.0 e 10.0 Conceito - A\n",
    "- Entre 7.5 e 8.9 - B\n",
    "- Entre 6.0 e 7.4 - C\n",
    "- Entre 4.0 e 5.9 - D\n",
    "- Entre 0 e 3.9 - E\n",
    "\n",
    "O programa deve mostrar na tela as notas, a média, o conceito correspondente e a\n",
    "mensagem:\n",
    "APROVADO se o conceito for A, B ou C.\n",
    "REPROVADO se o conceito for D ou E."
   ]
  },
  {
   "cell_type": "code",
   "execution_count": 17,
   "metadata": {},
   "outputs": [
    {
     "name": "stdout",
     "output_type": "stream",
     "text": [
      "Situação: APROVADO\n",
      "Notas: 7.0, 8.0\n",
      "Média: 7.5\n",
      "Conceito: B\n"
     ]
    }
   ],
   "source": [
    "nota_1 = float(input(\"Digite a primeira nota (entre 0 e 10): \"))\n",
    "nota_2 = float(input(\"Digite a segunda nota (entre 0 e 10): \"))\n",
    "\n",
    "nota_1_valida = 0 <= nota_1 <= 10\n",
    "nota_2_valida = 0 <= nota_2 <= 10\n",
    "\n",
    "notas_validos = nota_1_valida and nota_2_valida\n",
    "\n",
    "if not notas_validos:\n",
    "    print(\"Erro: As notas devem estar entre 0 e 10.\")\n",
    "    exit()\n",
    "\n",
    "media = (nota_1 + nota_2) / 2\n",
    "\n",
    "if 9.0 <= media <= 10.0:\n",
    "    conceito = \"A\"\n",
    "elif 7.5 <= media < 9.0:\n",
    "    conceito = \"B\"\n",
    "elif 6.0 <= media < 7.5:\n",
    "    conceito = \"C\"\n",
    "elif 4.0 <= media < 6.0:\n",
    "    conceito = \"D\"\n",
    "else:\n",
    "    conceito = \"E\"\n",
    "\n",
    "\n",
    "if conceito in [\"A\", \"B\", \"C\"]:\n",
    "    print(\"Situação: APROVADO\")\n",
    "else:\n",
    "    print(\"Situação: REPROVADO\")\n",
    "\n",
    "print(f\"Notas: {nota_1:.1f}, {nota_2:.1f}\")\n",
    "print(f\"Média: {media:.1f}\")\n",
    "print(f\"Conceito: {conceito}\")"
   ]
  },
  {
   "cell_type": "markdown",
   "metadata": {},
   "source": [
    "9 - As Organizações XTC resolveram dar um aumento de salário aos seus colaboradores e\n",
    "lhe contrataram para desenvolver o programa que calcula os reajustes. Faça um programa\n",
    "que recebe o salário de um colaborador e o reajuste segundo o seguinte critério, baseado\n",
    "no salário atual:\n",
    "- salários até R$ 280,00 (incluindo): aumento de 20%\n",
    "- salários entre R$ 280,00 e R$ 700,00: aumento de 15%\n",
    "- salários entre R$ 700,00 e R$ 1500,00: aumento de 10%\n",
    "- salários de R$ 1500,00 em diante: aumento de 5%\n",
    "Após o aumento ser realizado informe na tela:\n",
    "- o salário antes do reajuste;\n",
    "- o percentual de aumento aplicado;\n",
    "- o valor do aumento;\n",
    "- o novo salário, após o aumento."
   ]
  },
  {
   "cell_type": "code",
   "execution_count": 5,
   "metadata": {},
   "outputs": [
    {
     "name": "stdout",
     "output_type": "stream",
     "text": [
      "Novo salário: R$ 324.00 aplicando 20.00% (ou R$ 54.00) sobre R$ 270.00\n"
     ]
    }
   ],
   "source": [
    "salario_atual = float(input(\"Digite o salário atual (em reais): \").replace(',', '.'))\n",
    "\n",
    "if salario_atual <= 0:\n",
    "    print(\"Erro: Salário não pode ser negativo ou igual a 0.\")\n",
    "else:\n",
    "    if salario_atual <= 280.00:\n",
    "        percentual_reajuste = 20\n",
    "    elif 280.00 < salario_atual <= 700.00:\n",
    "        percentual_reajuste = 15\n",
    "    elif 700.00 < salario_atual <= 1500.00:\n",
    "        percentual_reajuste = 10\n",
    "    else:\n",
    "        percentual_reajuste = 5\n",
    "\n",
    "    valor_reajuste = (percentual_reajuste / 100) * salario_atual\n",
    "    novo_salario = salario_atual + valor_reajuste\n",
    "\n",
    "    print(f\"Novo salário: R$ {novo_salario:.2f} aplicando {percentual_reajuste:.2f}% (ou R$ {valor_reajuste:.2f}) sobre R$ {salario_atual:.2f}\")\n"
   ]
  }
 ],
 "metadata": {
  "kernelspec": {
   "display_name": "Python 3",
   "language": "python",
   "name": "python3"
  },
  "language_info": {
   "codemirror_mode": {
    "name": "ipython",
    "version": 3
   },
   "file_extension": ".py",
   "mimetype": "text/x-python",
   "name": "python",
   "nbconvert_exporter": "python",
   "pygments_lexer": "ipython3",
   "version": "3.10.11"
  }
 },
 "nbformat": 4,
 "nbformat_minor": 2
}
