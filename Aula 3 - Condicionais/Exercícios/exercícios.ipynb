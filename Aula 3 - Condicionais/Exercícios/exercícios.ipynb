{
 "cells": [
  {
   "cell_type": "markdown",
   "metadata": {},
   "source": [
    "1 - Conversão de graus Celsius para Fahrenheit – Crie um programa que converta graus\n",
    "Celsius em Fahrenheit. A fórmula é a seguinte:\n",
    "\n",
    "F = 9/5*C + 32\n",
    "\n",
    "\n",
    "O programa deve solicitar ao usuário que insira uma temperatura em graus Celsius e, em\n",
    "seguida, exiba a temperatura convertida em Fahrenheit. Após construir esse programa,\n",
    "modifique-o para que converta graus Fahrenheit em graus Celsius.\n"
   ]
  },
  {
   "cell_type": "code",
   "execution_count": 4,
   "metadata": {},
   "outputs": [
    {
     "name": "stdout",
     "output_type": "stream",
     "text": [
      "15.00°C equivale a 59.00°F.\n"
     ]
    }
   ],
   "source": [
    "unidade_medida = input(\"Digite a unidade de medida atual (C - Celcius/F - Fahrenheit): \").upper()\n",
    "temperatura = float(input(\"Digite o valor a ser convertido: \"))\n",
    "if unidade_medida == \"C\":\n",
    "    valor_convertido = (9 * temperatura) / 5 + 32\n",
    "    unidade_convertida = \"F\"\n",
    "else:\n",
    "    valor_convertido = (temperatura - 32) * 5 / 9\n",
    "    unidade_convertida = \"C\"\n",
    "\n",
    "print(f\"{temperatura:.2f}°{unidade_medida} equivale a {valor_convertido:.2f}°{unidade_convertida}.\")\n"
   ]
  },
  {
   "cell_type": "markdown",
   "metadata": {},
   "source": [
    "2- Escreva um programa que receba um número e escreva “Par” caso esse número seja par\n",
    "e escreva “Impar” caso esse número seja impar.\n"
   ]
  },
  {
   "cell_type": "code",
   "execution_count": 12,
   "metadata": {},
   "outputs": [
    {
     "name": "stdout",
     "output_type": "stream",
     "text": [
      "4 é par\n"
     ]
    }
   ],
   "source": [
    "num = int(input('Digite um número: '))\n",
    "\n",
    "if not num&1:\n",
    "    print(f'{num} é par')\n",
    "else:\n",
    "    print(f'{num} é ímpar')"
   ]
  },
  {
   "cell_type": "markdown",
   "metadata": {},
   "source": [
    "3 - Escreva um programa que receba dois números, exiba as opções:\n",
    "\n",
    "1. adição\n",
    "2. subtração\n",
    "\n",
    "Então peça ao usuário para escolher uma das opções. Caso escolha a opção 1 o programa\n",
    "deve realizar a soma dos dois números lidos e exibir. Caso escolha a opção 2 o programa\n",
    "deve realizar a subtração dos dois números lidos e exibir."
   ]
  },
  {
   "cell_type": "code",
   "execution_count": 13,
   "metadata": {},
   "outputs": [
    {
     "name": "stdout",
     "output_type": "stream",
     "text": [
      "5.0 1 6.0 = 11.00\n"
     ]
    }
   ],
   "source": [
    "numero1 = float(input(\"Digite o primeiro número: \"))\n",
    "numero2 = float(input(\"Digite o segundo número: \"))\n",
    "\n",
    "operacao = input(\"Digite a operação: 1 - Adição | 2 - Subtração): \")\n",
    "\n",
    "if operacao == \"1\":\n",
    "    resultado = numero1 + numero2 \n",
    "elif operacao == \"2\":\n",
    "    resultado = numero1 - numero2\n",
    "else:\n",
    "    print('Operação inválida!')\n",
    "\n",
    "print(f\"{numero1} {operacao} {numero2} = {resultado:.2f}\")"
   ]
  },
  {
   "cell_type": "markdown",
   "metadata": {},
   "source": [
    "4 - Numa determinada escola, os critérios de aprovação são os seguintes:\n",
    "- O aluno deve ter, no máximo, 25% de faltas;\n",
    "- A nota final deve ser igual ou superior a 7,00.\n",
    "Construa um programa para ler as notas que um aluno tirou nos 4 bimestres, o número total\n",
    "de aulas e o número de faltas, mostrando ao final a situação do aluno como sendo\n",
    "“Aprovado”, “Reprovado por Faltas” e “Reprovado por média”, considerando que a\n",
    "reprovação por faltas se sobrepõe a reprovação por nota.\n",
    "5 - Após construir o programa anterior, crie mais duas versões dele para prever as seguintes\n",
    "situações:\n",
    "- Um aluno pode ficar em recuperação se possuir frequência suficiente (superior a\n",
    "75%) e média superior a 5 mas inferior a 7;\n",
    "- Caso um aluno reprove por média e faltas, sua situação deve ser “Reprovado por\n",
    "Média e Faltas” (ao invés de simplesmente “Reprovado por Faltas” como antes)."
   ]
  },
  {
   "cell_type": "code",
   "execution_count": null,
   "metadata": {},
   "outputs": [],
   "source": [
    "nota_1 = float(input(\"Digite a nota do 1º bimestre: \"))\n",
    "nota_2 = float(input(\"Digite a nota do 2º bimestre: \"))\n",
    "nota_3 = float(input(\"Digite a nota do 3º bimestre: \"))\n",
    "nota_4 = float(input(\"Digite a nota do 4º bimestre: \"))\n",
    "\n",
    "media_final = (nota_1 + nota_2 + nota_3 + nota_4) / 4\n",
    "\n",
    "total_aulas = int(input(\"Digite o número total de aulas: \"))\n",
    "total_faltas = int(input(\"Digite o número de faltas: \"))\n",
    "\n",
    "frequencia = total_faltas / total_aulas <= 0.25\n",
    "\n",
    "is_aprovado_por_media = media_final >= 7.0\n",
    "\n",
    "if total_faltas / total_aulas > 0.25:\n",
    "    situacao_aluno = \"Reprovado por Faltas\"\n",
    "elif is_aprovado_por_media and frequencia:\n",
    "    situacao_aluno = \"Aprovado\"\n",
    "elif frequencia:\n",
    "    situacao_aluno = \"Recuperação\"\n",
    "else:\n",
    "    situacao_aluno = \"Reprovado por Média e Faltas\"\n",
    "\n",
    "print(f\"Resultado do aluno: {situacao_aluno}\")\n"
   ]
  },
  {
   "cell_type": "markdown",
   "metadata": {},
   "source": [
    "5 - Após construir o programa anterior, crie mais duas versões dele para prever as seguintes\n",
    "situações:\n",
    "- Um aluno pode ficar em recuperação se possuir frequência suficiente (superior a\n",
    "75%) e média superior a 5 mas inferior a 7;\n",
    "- Caso um aluno reprove por média e faltas, sua situação deve ser “Reprovado por\n",
    "Média e Faltas” (ao invés de simplesmente “Reprovado por Faltas” como antes)."
   ]
  },
  {
   "cell_type": "code",
   "execution_count": 17,
   "metadata": {},
   "outputs": [
    {
     "name": "stdout",
     "output_type": "stream",
     "text": [
      "Situação: Reprovado por Média e Faltas\n"
     ]
    }
   ],
   "source": [
    "nota_1 = float(input(\"Nota do 1º bimestre: \"))\n",
    "nota_2 = float(input(\"Nota do 2º bimestre: \"))\n",
    "nota_3 = float(input(\"Nota do 3º bimestre: \"))\n",
    "nota_4 = float(input(\"Nota do 4º bimestre: \"))\n",
    "\n",
    "# Cálculo da média final\n",
    "media_final = (nota_1 + nota_2 + nota_3 + nota_4) / 4\n",
    "\n",
    "# Coleta de dados de faltas e aulas\n",
    "numero_aulas = int(input(\"Número total de aulas: \"))\n",
    "numero_faltas = int(input(\"Número de faltas: \"))\n",
    "\n",
    "# Verificação da frequência\n",
    "frequencia_suficiente = numero_faltas / numero_aulas <= 0.25\n",
    "\n",
    "# Verificação da aprovação por média\n",
    "aprovado_por_media = media_final >= 7.0\n",
    "\n",
    "# Determinação da situação final\n",
    "if numero_faltas / numero_aulas > 0.25:\n",
    "  situacao = \"Reprovado por Faltas\"\n",
    "elif aprovado_por_media and frequencia_suficiente:\n",
    "  situacao = \"Aprovado\"\n",
    "elif frequencia_suficiente and media_final > 5:\n",
    "  situacao = \"Recuperação\"\n",
    "else:\n",
    "  situacao = \"Reprovado por Média e Faltas\"\n",
    "\n",
    "# Impressão da situação final\n",
    "print(f\"Situação: {situacao}\")"
   ]
  },
  {
   "cell_type": "markdown",
   "metadata": {},
   "source": [
    "6 - Escreva um programa que peça ao usuário para fornecer um dia, mês e o ano arbitrários\n",
    "e determine se esses dados correspondem a uma data válida. Não deixe de considerar que\n",
    "existem meses com 30 e 31 dias, e que fevereiro pode ter 28 ou 29 dias, dependendo se o\n",
    "ano for bissexto. Considere que um ano é bissexto quando for divisível por 4."
   ]
  },
  {
   "cell_type": "code",
   "execution_count": null,
   "metadata": {},
   "outputs": [],
   "source": [
    "dia = int(input(\"Digite um dia: \"))\n",
    "mes = int(input(\"Digite um mês: \"))\n",
    "ano = int(input(\"Digite um ano: \"))\n",
    "\n",
    "if ano%4 == 0:\n",
    "    if mes == 1:\n",
    "        if dia \n",
    "    elif mes == 2:\n",
    "    elif mes == 3:\n",
    "    elif mes == 4:\n",
    "    elif mes == 5:\n",
    "    elif mes == 6:\n",
    "    elif mes == 7:\n",
    "    elif mes == 9:\n",
    "    elif mes == 10:\n",
    "    elif mes == 11:\n",
    "    elif mes == 12:"
   ]
  },
  {
   "cell_type": "markdown",
   "metadata": {},
   "source": [
    "7- Construa um programa que leia uma data qualquer (dia, mês e ano) e calcule a data do\n",
    "próximo dia. Lembre-se que em anos bissextos o mês de fevereiro tem 29 dias. Lembre-se\n",
    "que um ano é bissexto quando for divisível por 4."
   ]
  },
  {
   "cell_type": "code",
   "execution_count": null,
   "metadata": {},
   "outputs": [],
   "source": []
  },
  {
   "cell_type": "markdown",
   "metadata": {},
   "source": [
    "8 - Faça um programa que leia as duas notas parciais obtidas por um aluno numa\n",
    "disciplina ao longo de um semestre, e calcule a sua média. A atribuição de conceitos\n",
    "obedece à tabela abaixo:\n",
    "Média de Aproveitamento\n",
    "- Entre 9.0 e 10.0 Conceito - A\n",
    "- Entre 7.5 e 8.9 - B\n",
    "- Entre 6.0 e 7.4 - C\n",
    "- Entre 4.0 e 5.9 - D\n",
    "- Entre 0 e 3.9 - E\n",
    "\n",
    "O programa deve mostrar na tela as notas, a média, o conceito correspondente e a\n",
    "mensagem:\n",
    "APROVADO se o conceito for A, B ou C.\n",
    "REPROVADO se o conceito for D ou E."
   ]
  },
  {
   "cell_type": "code",
   "execution_count": null,
   "metadata": {},
   "outputs": [],
   "source": []
  },
  {
   "cell_type": "markdown",
   "metadata": {},
   "source": [
    "9 - As Organizações XTC resolveram dar um aumento de salário aos seus colaboradores e\n",
    "lhe contrataram para desenvolver o programa que calcula os reajustes. Faça um programa\n",
    "que recebe o salário de um colaborador e o reajuste segundo o seguinte critério, baseado\n",
    "no salário atual:\n",
    "- salários até R$ 280,00 (incluindo): aumento de 20%\n",
    "- salários entre R$ 280,00 e R$ 700,00: aumento de 15%\n",
    "- salários entre R$ 700,00 e R$ 1500,00: aumento de 10%\n",
    "- salários de R$ 1500,00 em diante: aumento de 5%\n",
    "Após o aumento ser realizado informe na tela:\n",
    "- o salário antes do reajuste;\n",
    "- o percentual de aumento aplicado;\n",
    "- o valor do aumento;\n",
    "- o novo salário, após o aumento."
   ]
  },
  {
   "cell_type": "code",
   "execution_count": null,
   "metadata": {},
   "outputs": [],
   "source": []
  }
 ],
 "metadata": {
  "kernelspec": {
   "display_name": "Python 3",
   "language": "python",
   "name": "python3"
  },
  "language_info": {
   "codemirror_mode": {
    "name": "ipython",
    "version": 3
   },
   "file_extension": ".py",
   "mimetype": "text/x-python",
   "name": "python",
   "nbconvert_exporter": "python",
   "pygments_lexer": "ipython3",
   "version": "3.10.11"
  }
 },
 "nbformat": 4,
 "nbformat_minor": 2
}
