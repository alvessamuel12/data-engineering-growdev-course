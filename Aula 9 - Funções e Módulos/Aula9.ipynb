{
  "cells": [
    {
      "cell_type": "markdown",
      "metadata": {
        "id": "xiz9cNsgHQaH"
      },
      "source": [
        "![Growdev](https://www.growdev.com.br/assets/images/logo_growdev.png)"
      ]
    },
    {
      "cell_type": "markdown",
      "metadata": {
        "id": "Mk6e1X0lHQaL"
      },
      "source": [
        "![Formação Engenharia de Dados](https://d335luupugsy2.cloudfront.net/cms/files/524558/1707226566/$occu5m8t1op)"
      ]
    },
    {
      "cell_type": "markdown",
      "metadata": {
        "id": "DsYgp8CRHQaN"
      },
      "source": [
        "# Tópicos da Aula de Hoje"
      ]
    },
    {
      "cell_type": "markdown",
      "metadata": {
        "id": "f9tJc_bYHQaN"
      },
      "source": [
        "- Funções\n",
        "- Estrutura de Módulos e Múltiplos Arquivos\n",
        "- Exercícios Práticos"
      ]
    },
    {
      "cell_type": "markdown",
      "metadata": {
        "id": "6dIuEap0HQaO"
      },
      "source": [
        "**Bora pra aula?**"
      ]
    },
    {
      "cell_type": "markdown",
      "metadata": {
        "id": "73J7u40wHQaO"
      },
      "source": [
        "# Funções"
      ]
    },
    {
      "cell_type": "markdown",
      "metadata": {
        "id": "QSOfyQjyHQaP"
      },
      "source": [
        "As funções são blocos de código reutilizáveis que realizam uma tarefa específica. Elas ajudam na modularização do código, tornando-o mais organizado e fácil de manter."
      ]
    },
    {
      "cell_type": "code",
      "execution_count": null,
      "metadata": {
        "id": "6yZdTvbpHQaQ"
      },
      "outputs": [],
      "source": [
        "# Exemplo de definição de uma função simples\n",
        "def saudacao():\n",
        "    print(\"Olá, mundo!\")"
      ]
    },
    {
      "cell_type": "code",
      "execution_count": null,
      "metadata": {
        "colab": {
          "base_uri": "https://localhost:8080/"
        },
        "id": "gQfUe0WJHQaR",
        "outputId": "d0a8ab00-5dc1-4757-e937-c995b8334435"
      },
      "outputs": [
        {
          "name": "stdout",
          "output_type": "stream",
          "text": [
            "Olá, mundo!\n"
          ]
        }
      ],
      "source": [
        "# Chamada da função\n",
        "saudacao()"
      ]
    },
    {
      "cell_type": "markdown",
      "metadata": {
        "id": "NJJP_RsQHQaS"
      },
      "source": [
        "## Parâmetros"
      ]
    },
    {
      "cell_type": "markdown",
      "metadata": {
        "id": "pxH5Ij2aHQaS"
      },
      "source": [
        "**Parâmetros normais:** São aqueles que você passa quando chama a função <br>\n",
        "**Parâmetros pré-definidos:** Têm um valor padrão e podem ser omitidos na chamada da função"
      ]
    },
    {
      "cell_type": "code",
      "execution_count": null,
      "metadata": {
        "id": "Ht2Cls3cHQaS"
      },
      "outputs": [],
      "source": [
        "# Exemplo de função com parâmetro normal\n",
        "def saudacao(nome):\n",
        "    print(f\"Olá, {nome}\")"
      ]
    },
    {
      "cell_type": "code",
      "execution_count": null,
      "metadata": {
        "colab": {
          "base_uri": "https://localhost:8080/"
        },
        "id": "FknCDLT2HQaT",
        "outputId": "69a38359-a535-4ef5-cbba-eed5e7541d72"
      },
      "outputs": [
        {
          "name": "stdout",
          "output_type": "stream",
          "text": [
            "Olá, Alice\n"
          ]
        }
      ],
      "source": [
        "nome = \"Alice\"\n",
        "saudacao(nome)"
      ]
    },
    {
      "cell_type": "code",
      "execution_count": null,
      "metadata": {
        "id": "CrYptcHNHQaT"
      },
      "outputs": [],
      "source": [
        "# Exemplo de função com parâmetro pré-definido\n",
        "def saudacao(nome=\"usuário\"):\n",
        "    print(f\"Olá, {nome}\")"
      ]
    },
    {
      "cell_type": "code",
      "execution_count": null,
      "metadata": {
        "colab": {
          "base_uri": "https://localhost:8080/"
        },
        "id": "zqeUkqTMHQaT",
        "outputId": "db1a13f8-c463-4401-8ccf-b3c8db4e3dcf"
      },
      "outputs": [
        {
          "name": "stdout",
          "output_type": "stream",
          "text": [
            "Olá, Alice\n"
          ]
        }
      ],
      "source": [
        "saudacao(\"Alice\")"
      ]
    },
    {
      "cell_type": "markdown",
      "metadata": {
        "id": "-7zNCCadHQaU"
      },
      "source": [
        "## Retornos da Função"
      ]
    },
    {
      "cell_type": "markdown",
      "metadata": {
        "id": "xnQ4nsstHQaU"
      },
      "source": [
        "As funções podem retornar valores para o código que as chamou. Podem retornar um único valor ou vários valores."
      ]
    },
    {
      "cell_type": "code",
      "execution_count": null,
      "metadata": {
        "id": "l-fXz5lZHQaU"
      },
      "outputs": [],
      "source": [
        "# Exemplo de função com retorno simples\n",
        "def quadrado(x):\n",
        "    return x ** 2"
      ]
    },
    {
      "cell_type": "code",
      "execution_count": null,
      "metadata": {
        "colab": {
          "base_uri": "https://localhost:8080/"
        },
        "id": "TJGSzv-oHQaU",
        "outputId": "600211d1-23c5-4b9b-d330-d705bc199128"
      },
      "outputs": [
        {
          "name": "stdout",
          "output_type": "stream",
          "text": [
            "Quadrado de 5: 25\n"
          ]
        }
      ],
      "source": [
        "resultado = quadrado(5)\n",
        "print(f\"Quadrado de 5: {resultado}\")"
      ]
    },
    {
      "cell_type": "code",
      "execution_count": null,
      "metadata": {
        "id": "9mcEtH0mHQaU"
      },
      "outputs": [],
      "source": [
        "# Exemplo de função com retorno múltiplo\n",
        "def soma_e_multiplicacao(vl_1, vl_2):\n",
        "    soma = vl_1 + vl_2\n",
        "    multiplicacao = vl_1 * vl_2\n",
        "    return soma, multiplicacao"
      ]
    },
    {
      "cell_type": "code",
      "execution_count": null,
      "metadata": {
        "colab": {
          "base_uri": "https://localhost:8080/"
        },
        "id": "nyvSBBS_HQaV",
        "outputId": "d42228ab-8556-4059-e5e4-73b28b6f8aa9"
      },
      "outputs": [
        {
          "name": "stdout",
          "output_type": "stream",
          "text": [
            "soma: 13\n",
            "multiplicacao: 30\n"
          ]
        }
      ],
      "source": [
        "s, m = soma_e_multiplicacao(10, 3)\n",
        "print(f\"soma: {s}\")\n",
        "print(f\"multiplicacao: {m}\")"
      ]
    },
    {
      "cell_type": "markdown",
      "metadata": {
        "id": "DYuT3QDGHQaV"
      },
      "source": [
        "E se a gente não passar um retorno?"
      ]
    },
    {
      "cell_type": "code",
      "execution_count": null,
      "metadata": {
        "id": "M955n_8pHQaV"
      },
      "outputs": [],
      "source": [
        "def quadrado(x):\n",
        "    num_quadrado = x ** 2"
      ]
    },
    {
      "cell_type": "code",
      "execution_count": null,
      "metadata": {
        "colab": {
          "base_uri": "https://localhost:8080/"
        },
        "collapsed": true,
        "id": "A7MmXlfMHQaV",
        "outputId": "874c83bd-a9ad-4816-f9b3-d3f4e60cfd41"
      },
      "outputs": [
        {
          "name": "stdout",
          "output_type": "stream",
          "text": [
            "Quadrado de 5: None\n"
          ]
        }
      ],
      "source": [
        "resultado = quadrado(5)\n",
        "print(f\"Quadrado de 5: {resultado}\")"
      ]
    },
    {
      "cell_type": "markdown",
      "metadata": {
        "id": "JZRht4-ZHQaV"
      },
      "source": [
        "## Escopo Local e Escopo Global"
      ]
    },
    {
      "cell_type": "markdown",
      "metadata": {
        "id": "iPCgphvcHQaV"
      },
      "source": [
        "**Escopo local:** refere-se às variáveis definidas dentro de uma função, que só podem ser acessadas dentro dela. <br>\n",
        "**Escopo global:** refere-se às variáveis definidas fora de todas as funções, que podem ser acessadas de qualquer lugar do código."
      ]
    },
    {
      "cell_type": "code",
      "execution_count": null,
      "metadata": {
        "id": "VqFFEV0JHQaW"
      },
      "outputs": [],
      "source": [
        "# Exemplo de variável global\n",
        "x = 10"
      ]
    },
    {
      "cell_type": "code",
      "execution_count": null,
      "metadata": {
        "id": "LYA183VjHQaW"
      },
      "outputs": [],
      "source": [
        "def minha_funcao():\n",
        "    y = 20  # Variável local\n",
        "    print(\"Variável local y:\", y)\n",
        "    print(\"Variável global x:\", x)"
      ]
    },
    {
      "cell_type": "code",
      "execution_count": null,
      "metadata": {
        "colab": {
          "base_uri": "https://localhost:8080/"
        },
        "id": "sgvXHKM9fSYq",
        "outputId": "426185c4-eb39-4045-8fac-8deda2f6f300"
      },
      "outputs": [
        {
          "name": "stdout",
          "output_type": "stream",
          "text": [
            "Variável local y: 20\n",
            "Variável global x: 10\n"
          ]
        }
      ],
      "source": [
        "minha_funcao()"
      ]
    },
    {
      "cell_type": "code",
      "execution_count": null,
      "metadata": {
        "colab": {
          "base_uri": "https://localhost:8080/"
        },
        "id": "YUIyKOroHQaW",
        "outputId": "8af24ddf-8bcb-4680-f7c9-05956b395603"
      },
      "outputs": [
        {
          "name": "stdout",
          "output_type": "stream",
          "text": [
            "Variável global x fora da função: 10\n"
          ]
        }
      ],
      "source": [
        "print(\"Variável global x fora da função:\", x)"
      ]
    },
    {
      "cell_type": "code",
      "execution_count": null,
      "metadata": {
        "colab": {
          "base_uri": "https://localhost:8080/",
          "height": 193
        },
        "id": "MUPw0OXaHQaW",
        "outputId": "dda22b5f-d19a-4632-c71f-53eb56228566"
      },
      "outputs": [
        {
          "ename": "NameError",
          "evalue": "name 'y' is not defined",
          "output_type": "error",
          "traceback": [
            "\u001b[0;31m---------------------------------------------------------------------------\u001b[0m",
            "\u001b[0;31mNameError\u001b[0m                                 Traceback (most recent call last)",
            "\u001b[0;32m<ipython-input-103-b216ef45a8ef>\u001b[0m in \u001b[0;36m<cell line: 1>\u001b[0;34m()\u001b[0m\n\u001b[0;32m----> 1\u001b[0;31m \u001b[0mprint\u001b[0m\u001b[0;34m(\u001b[0m\u001b[0;34m\"Variável local y fora da função:\"\u001b[0m\u001b[0;34m,\u001b[0m \u001b[0my\u001b[0m\u001b[0;34m)\u001b[0m\u001b[0;34m\u001b[0m\u001b[0;34m\u001b[0m\u001b[0m\n\u001b[0m\u001b[1;32m      2\u001b[0m \u001b[0;31m# Isso resulta em um erro\u001b[0m\u001b[0;34m\u001b[0m\u001b[0;34m\u001b[0m\u001b[0m\n\u001b[1;32m      3\u001b[0m \u001b[0;31m# Não podemos acessar uma variável local fora da função\u001b[0m\u001b[0;34m\u001b[0m\u001b[0;34m\u001b[0m\u001b[0m\n\u001b[1;32m      4\u001b[0m \u001b[0;31m# Essa variável só existe na função minha_funcao()\u001b[0m\u001b[0;34m\u001b[0m\u001b[0;34m\u001b[0m\u001b[0m\n",
            "\u001b[0;31mNameError\u001b[0m: name 'y' is not defined"
          ]
        }
      ],
      "source": [
        "print(\"Variável local y fora da função:\", y)\n",
        "# Isso resulta em um erro\n",
        "# Não podemos acessar uma variável local fora da função\n",
        "# Essa variável só existe na função minha_funcao()"
      ]
    },
    {
      "cell_type": "markdown",
      "metadata": {
        "id": "_8lajZ90HQaW"
      },
      "source": [
        "# Estrutura de Módulos e Múltiplos Arquivos"
      ]
    },
    {
      "cell_type": "markdown",
      "metadata": {
        "id": "X3-eKpGJHQaX"
      },
      "source": [
        "Módulos são arquivos contendo funções e variáveis que podem ser importados para outros programas. Organizar código em múltiplos arquivos facilita a manutenção e reutilização."
      ]
    },
    {
      "cell_type": "code",
      "execution_count": null,
      "metadata": {
        "id": "BH019krhg3pt"
      },
      "outputs": [],
      "source": [
        "import random"
      ]
    },
    {
      "cell_type": "code",
      "execution_count": null,
      "metadata": {
        "colab": {
          "base_uri": "https://localhost:8080/",
          "height": 314
        },
        "id": "VzyovlNGHQaX",
        "outputId": "aaf96a04-7fec-48f3-a8cf-8a0a83dd2849"
      },
      "outputs": [
        {
          "ename": "ModuleNotFoundError",
          "evalue": "No module named 'modulo'",
          "output_type": "error",
          "traceback": [
            "\u001b[0;31m---------------------------------------------------------------------------\u001b[0m",
            "\u001b[0;31mModuleNotFoundError\u001b[0m                       Traceback (most recent call last)",
            "\u001b[0;32m<ipython-input-110-e2aa26f200a0>\u001b[0m in \u001b[0;36m<cell line: 1>\u001b[0;34m()\u001b[0m\n\u001b[0;32m----> 1\u001b[0;31m \u001b[0;32mfrom\u001b[0m \u001b[0mmodulo\u001b[0m \u001b[0;32mimport\u001b[0m \u001b[0mminha_funcao\u001b[0m\u001b[0;34m\u001b[0m\u001b[0;34m\u001b[0m\u001b[0m\n\u001b[0m",
            "\u001b[0;31mModuleNotFoundError\u001b[0m: No module named 'modulo'",
            "",
            "\u001b[0;31m---------------------------------------------------------------------------\u001b[0;32m\nNOTE: If your import is failing due to a missing package, you can\nmanually install dependencies using either !pip or !apt.\n\nTo view examples of installing some common dependencies, click the\n\"Open Examples\" button below.\n\u001b[0;31m---------------------------------------------------------------------------\u001b[0m\n"
          ]
        }
      ],
      "source": [
        "from modulo import minha_funcao"
      ]
    },
    {
      "cell_type": "code",
      "execution_count": null,
      "metadata": {
        "id": "o3oWC9z6HQaX",
        "outputId": "2a154977-f719-432f-ff50-ecd355789ada"
      },
      "outputs": [
        {
          "name": "stdout",
          "output_type": "stream",
          "text": [
            "Função do módulo\n"
          ]
        }
      ],
      "source": [
        "minha_funcao()"
      ]
    },
    {
      "cell_type": "markdown",
      "metadata": {
        "id": "4lSCG-ArHQaY"
      },
      "source": [
        "Considere a separação do código em arquivos diferentes, cada um contendo funções relacionadas.\n",
        "\n",
        "Pense que você trabalha desenvolvendo códigos em Python juntamente com uma equipe, você cria um função que pode ajudar todos, vale a pena ter um arquivo de códigos para compartilhar com os colegas :)"
      ]
    },
    {
      "cell_type": "markdown",
      "metadata": {
        "id": "ZXlkc2gWHQaY"
      },
      "source": [
        "# Exercícios Práticos"
      ]
    },
    {
      "cell_type": "markdown",
      "metadata": {
        "id": "qbXVGwLcHQaZ"
      },
      "source": [
        "**Escreva uma função que retorne uma lista contendo os n primeiros números da sequência de Fibonacci.**"
      ]
    },
    {
      "cell_type": "code",
      "execution_count": 12,
      "metadata": {
        "id": "nnHJOrdRI9gF"
      },
      "outputs": [
        {
          "data": {
            "text/plain": [
              "[0, 1, 1, 2, 3, 5, 8, 13, 21, 34, 55, 89, 144, 233, 377]"
            ]
          },
          "execution_count": 12,
          "metadata": {},
          "output_type": "execute_result"
        }
      ],
      "source": [
        "def fibonacci(n):\n",
        "    sequencia = [0,1]\n",
        "    aux = 0\n",
        "    atual = 1\n",
        "    anterior = 0\n",
        "    for i in range(n-2):\n",
        "        aux = atual\n",
        "        atual += anterior\n",
        "        anterior = aux\n",
        "        sequencia.append(atual)\n",
        "    return sequencia\n",
        "\n",
        "result = fibonacci(15)\n",
        "result"
      ]
    },
    {
      "cell_type": "markdown",
      "metadata": {
        "id": "SUjq9K8-HQae"
      },
      "source": [
        "**Escreva uma função que calcule a média de uma lista de números fornecida como argumento.**"
      ]
    },
    {
      "cell_type": "code",
      "execution_count": 13,
      "metadata": {
        "id": "8hbgEzTTHQae"
      },
      "outputs": [
        {
          "data": {
            "text/plain": [
              "65.73333333333333"
            ]
          },
          "execution_count": 13,
          "metadata": {},
          "output_type": "execute_result"
        }
      ],
      "source": [
        "def calcula_media(iteravel : list):\n",
        "    return sum(iteravel)/len(iteravel)\n",
        "\n",
        "calcula_media(result)"
      ]
    },
    {
      "cell_type": "markdown",
      "metadata": {
        "id": "Jn-83qi4HQaf"
      },
      "source": [
        "**Escreva uma função que receba uma lista de números e retorne o maior e o menor número da lista.**"
      ]
    },
    {
      "cell_type": "code",
      "execution_count": 16,
      "metadata": {
        "id": "uGm_GguBHQaf"
      },
      "outputs": [
        {
          "name": "stdout",
          "output_type": "stream",
          "text": [
            "[0, 1, 1, 2, 3, 5, 8, 13, 21, 34, 55, 89, 144, 233, 377]\n"
          ]
        },
        {
          "data": {
            "text/plain": [
              "(0, 377)"
            ]
          },
          "execution_count": 16,
          "metadata": {},
          "output_type": "execute_result"
        }
      ],
      "source": [
        "def get_max_and_min_into(iterable : list):\n",
        "    max_value, min_value = max(iterable), min(iterable)\n",
        "    return max_value, min_value\n",
        "\n",
        "get_max_and_min_into(result)\n",
        "\n",
        "\n",
        "def get_max_min(iterable):\n",
        "        sort_list = sorted(iterable)\n",
        "        return sort_list[0], sort_list[-1]\n",
        "\n",
        "get_max_min(result)"
      ]
    }
  ],
  "metadata": {
    "colab": {
      "provenance": []
    },
    "kernelspec": {
      "display_name": "base",
      "language": "python",
      "name": "python3"
    },
    "language_info": {
      "codemirror_mode": {
        "name": "ipython",
        "version": 3
      },
      "file_extension": ".py",
      "mimetype": "text/x-python",
      "name": "python",
      "nbconvert_exporter": "python",
      "pygments_lexer": "ipython3",
      "version": "3.10.11"
    }
  },
  "nbformat": 4,
  "nbformat_minor": 0
}
