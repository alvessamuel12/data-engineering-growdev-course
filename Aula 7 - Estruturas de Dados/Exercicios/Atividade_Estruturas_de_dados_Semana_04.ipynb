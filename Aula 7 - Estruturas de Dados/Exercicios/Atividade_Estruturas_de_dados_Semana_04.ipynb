{
  "cells": [
    {
      "cell_type": "markdown",
      "metadata": {
        "id": "v8pFWwviib2C"
      },
      "source": [
        "![Growdev](https://www.growdev.com.br/assets/images/logo_growdev.png)"
      ]
    },
    {
      "cell_type": "markdown",
      "metadata": {
        "id": "6Tkl4_HxifXZ"
      },
      "source": [
        "![Formação Engenharia de Dados](https://d335luupugsy2.cloudfront.net/cms/files/524558/1707226566/$occu5m8t1op)"
      ]
    },
    {
      "cell_type": "markdown",
      "metadata": {
        "id": "ty7Bzyl1i9bN"
      },
      "source": [
        "Este material tem como objetivo incentivar a prática dos conteúdos estudados até o momento, e a pesquisa. Tenha em consideração que o exercício foi pensado para incentivar a prática dos conteúdos estudados até então, porém aprender a pesquisar faz parte do processo de aprendizagem.\n",
        "\n",
        "Fique tranquilo, faça os exercícios com calma, e boa prática!\n"
      ]
    },
    {
      "cell_type": "markdown",
      "metadata": {
        "id": "DU5-yCQwjx3V"
      },
      "source": [
        "#Orientações:\n",
        "\n",
        " - Faça uma copia deste arquivo\n",
        " - Após concluir os exercicios, suba seu exercicio para o GitHub e compartilhe o link no **google** Classroom\n"
      ]
    },
    {
      "cell_type": "markdown",
      "metadata": {
        "id": "EzT810tnlmfE"
      },
      "source": [
        "#Exercícios"
      ]
    },
    {
      "cell_type": "markdown",
      "metadata": {
        "id": "rDqBAimhSq_C"
      },
      "source": [
        "#Listas"
      ]
    },
    {
      "cell_type": "markdown",
      "metadata": {
        "id": "GoGkz2n-SudC"
      },
      "source": [
        "Para esse exercicio você tera alguns desafios, separei eles em partes, vamos lá?\n",
        "\n",
        "1 - Crie uma lista com 100 números inteiros.\n",
        "- Pode ser uma sequência, ou caso queira se desafiar faça de números aleatorios.\n",
        "- Os dados não devem ser inseridos manualmente, utilize de um laço de repetição para adicionar os elementos a Lista.\n"
      ]
    },
    {
      "cell_type": "code",
      "execution_count": 1,
      "metadata": {
        "id": "lLYBJr0KSuJW"
      },
      "outputs": [
        {
          "name": "stdout",
          "output_type": "stream",
          "text": [
            "[67, 30, 76, 97, 0, 27, 16, 83, 66, 71, 81, 2, 44, 42, 64, 95, 20, 87, 79, 18, 49, 13, 38, 27, 34, 91, 98, 73, 9, 27, 50, 100, 72, 4, 55, 89, 0, 19, 68, 58, 42, 96, 64, 44, 8, 71, 39, 46, 85, 15, 51, 73, 53, 96, 75, 15, 46, 75, 21, 58, 21, 85, 87, 74, 40, 43, 73, 30, 65, 88, 49, 100, 94, 15, 33, 27, 64, 87, 92, 51, 46, 100, 32, 81, 17, 66, 43, 77, 68, 12, 29, 99, 0, 16, 0, 91, 78, 17, 59, 66]\n"
          ]
        }
      ],
      "source": [
        "import random\n",
        "num_list = []\n",
        "while len(num_list) < 100:\n",
        "    num = random.randint(0, 100)\n",
        "    num_list.append(num)\n",
        "\n",
        "print(num_list)"
      ]
    },
    {
      "cell_type": "markdown",
      "metadata": {
        "id": "LQ0SVqxyVTD5"
      },
      "source": [
        "2 - Calcule e exiba a soma de todos os números da lista."
      ]
    },
    {
      "cell_type": "code",
      "execution_count": 2,
      "metadata": {
        "id": "6HP8yU1bVS0F"
      },
      "outputs": [
        {
          "name": "stdout",
          "output_type": "stream",
          "text": [
            "Soma dos valores em num_list: 5327\n"
          ]
        }
      ],
      "source": [
        "print(f'Soma dos valores em num_list: {sum(num_list)}')"
      ]
    },
    {
      "cell_type": "markdown",
      "metadata": {
        "id": "HYQGLklTTPMx"
      },
      "source": [
        "3 - Exiba o maior e o menor número da lista."
      ]
    },
    {
      "cell_type": "code",
      "execution_count": 3,
      "metadata": {
        "id": "q_UZx7EETT6S"
      },
      "outputs": [
        {
          "name": "stdout",
          "output_type": "stream",
          "text": [
            "O maior valor é 100, e o menor é 0\n"
          ]
        }
      ],
      "source": [
        "import numpy as np\n",
        "\n",
        "maior = np.max(num_list)\n",
        "menor = np.min(num_list)\n",
        "print(f'O maior valor é {maior}, e o menor é {menor}')"
      ]
    },
    {
      "cell_type": "markdown",
      "metadata": {
        "id": "1iU6ZtRhVN9i"
      },
      "source": [
        "4 - Pesquise se o número 77 esta presente na lista e exiba:\n",
        "- Quantas vezes esse número aparece na lista\n",
        "- Se aparece em qual ou quais posições(Indice)."
      ]
    },
    {
      "cell_type": "code",
      "execution_count": 11,
      "metadata": {
        "id": "OGVH4AoGWU2R"
      },
      "outputs": [
        {
          "name": "stdout",
          "output_type": "stream",
          "text": [
            "O valor 77 está na lista!\n",
            "Ele aparece 1 vez na posição [87]\n"
          ]
        }
      ],
      "source": [
        "def get_ocurrence_positions(num, num_list):\n",
        "    positions = []\n",
        "    for i, item in enumerate(num_list):\n",
        "        if item == num:\n",
        "            positions.append(i)\n",
        "    return positions\n",
        "\n",
        "x = 77\n",
        "is_in_list = x in num_list\n",
        "if is_in_list:\n",
        "    print(f'O valor {x} está na lista!')\n",
        "    number_of_occurrences = num_list.count(x)\n",
        "    num_occurrences_str = f\"{number_of_occurrences} {'vez' if number_of_occurrences == 1 else 'vezes'}\"\n",
        "    positions = get_ocurrence_positions(x, num_list)\n",
        "    positions_str = f\"{f'na posição {positions}' if len(positions) == 1 else f'nas posições {positions}'}\"\n",
        "    print(f'Ele aparece {num_occurrences_str} {positions_str}')\n",
        "else:\n",
        "    print(f'O valor {x} não está na lista!')"
      ]
    },
    {
      "cell_type": "markdown",
      "metadata": {
        "id": "jrwycUMvWVSu"
      },
      "source": [
        "5 - Ordene a lista de forma descendente e exiba."
      ]
    },
    {
      "cell_type": "code",
      "execution_count": 12,
      "metadata": {
        "id": "RvRpLp87e5CB"
      },
      "outputs": [
        {
          "name": "stdout",
          "output_type": "stream",
          "text": [
            "[100, 100, 100, 99, 98, 97, 96, 96, 95, 94, 92, 91, 91, 89, 88, 87, 87, 87, 85, 85, 83, 81, 81, 79, 78, 77, 76, 75, 75, 74, 73, 73, 73, 72, 71, 71, 68, 68, 67, 66, 66, 66, 65, 64, 64, 64, 59, 58, 58, 55, 53, 51, 51, 50, 49, 49, 46, 46, 46, 44, 44, 43, 43, 42, 42, 40, 39, 38, 34, 33, 32, 30, 30, 29, 27, 27, 27, 27, 21, 21, 20, 19, 18, 17, 17, 16, 16, 15, 15, 15, 13, 12, 9, 8, 4, 2, 0, 0, 0, 0]\n"
          ]
        }
      ],
      "source": [
        "print(sorted(num_list, reverse=True))"
      ]
    },
    {
      "cell_type": "markdown",
      "metadata": {
        "id": "Be68CsC2OftE"
      },
      "source": [
        "## Tuplas:"
      ]
    },
    {
      "cell_type": "markdown",
      "metadata": {
        "id": "SQzRrAmq1SnR"
      },
      "source": [
        "6 - Crie uma tupla com os dias da semana e peça para o usuário digitar um número de 1 a 7. Exiba o dia correspondente."
      ]
    },
    {
      "cell_type": "code",
      "execution_count": 3,
      "metadata": {
        "id": "7BqDEfeq1TZE"
      },
      "outputs": [
        {
          "name": "stdout",
          "output_type": "stream",
          "text": [
            "O valor 0 não é válido! Tente novamente!\n",
            "Quarta-feira\n"
          ]
        }
      ],
      "source": [
        "days_of_week = ('Domingo', 'Segunda-feira', 'Terça-feira','Quarta-feira','Quinta-feira','Sexta-feira', 'Sábado')\n",
        "\n",
        "dia = 0\n",
        "dia = int(input('Digite o dia da semana: 1-Domingo | 2-Segunda-feira | 3-Terça-feira | 4-Quarta-feira | 5-Quinta-feira | 6-Sexta-feira | 7-Sábado'))-1\n",
        "while dia < 0 or dia > 6:\n",
        "    print(f'O valor {dia+1} não é válido! Tente novamente!')\n",
        "    dia = int(input('Digite o dia da semana: 1-Domingo | 2-Segunda-feira | 3-Terça-feira | 4-Quarta-feira | 5-Quinta-feira | 6-Sexta-feira | 7-Sábado'))-1\n",
        "\n",
        "print(days_of_week[dia])"
      ]
    },
    {
      "cell_type": "markdown",
      "metadata": {
        "id": "J9LW9fru7hv6"
      },
      "source": [
        "7 - Crie duas tuplas com números inteiros e crie uma terceira tupla com a concatenação das duas."
      ]
    },
    {
      "cell_type": "code",
      "execution_count": 6,
      "metadata": {
        "id": "J2pBsS-f7idJ"
      },
      "outputs": [
        {
          "data": {
            "text/plain": [
              "(1, 2, 3, 5, 7, 6, 7, 9, 1)"
            ]
          },
          "execution_count": 6,
          "metadata": {},
          "output_type": "execute_result"
        }
      ],
      "source": [
        "a = (1,2,3,5,7)\n",
        "b = (6,7,9,1)\n",
        "\n",
        "c = a + b\n",
        "\n",
        "c"
      ]
    },
    {
      "cell_type": "markdown",
      "metadata": {
        "id": "ytDz_SXB7o-8"
      },
      "source": [
        "8 - Crie uma tupla com alguns elementos e remova um elemento específico."
      ]
    },
    {
      "cell_type": "code",
      "execution_count": 12,
      "metadata": {
        "id": "QvIAx6HP7pbh"
      },
      "outputs": [
        {
          "data": {
            "text/plain": [
              "('laranja', 'João', 'macaco')"
            ]
          },
          "execution_count": 12,
          "metadata": {},
          "output_type": "execute_result"
        }
      ],
      "source": [
        "def remove_element_from_tuple(element, iterable : tuple):\n",
        "    iterable = list(iterable)\n",
        "    iterable.remove(element)\n",
        "    return tuple(iterable)\n",
        "\n",
        "\n",
        "d = ('laranja', 3, 'João', 'macaco')\n",
        "\n",
        "remove_element_from_tuple(3, d)"
      ]
    },
    {
      "cell_type": "markdown",
      "metadata": {
        "id": "v_JM0Has1pPL"
      },
      "source": [
        "# Sets:"
      ]
    },
    {
      "cell_type": "markdown",
      "metadata": {
        "id": "Urrv-Y291roJ"
      },
      "source": [
        "9 - Crie dois sets com cores diferentes e exiba na tela a união dos dois sets."
      ]
    },
    {
      "cell_type": "code",
      "execution_count": 1,
      "metadata": {
        "id": "FM4S-PEa1zSW"
      },
      "outputs": [
        {
          "name": "stdout",
          "output_type": "stream",
          "text": [
            "{'azul', 'verde', 'branco', 'amarelo', 'marrom', 'vermelho'}\n"
          ]
        }
      ],
      "source": [
        "set1 = {'azul', 'amarelo', 'vermelho'}\n",
        "set2 = {'marrom', 'branco', 'verde', 'vermelho'}\n",
        "\n",
        "print(set1 | set2)"
      ]
    },
    {
      "cell_type": "markdown",
      "metadata": {
        "id": "0q0tG4eG1zkL"
      },
      "source": [
        "10 - Crie uma lista com alguns números repetidos. Converta essa lista em um set para remover as duplicatas e exiba o resultado."
      ]
    },
    {
      "cell_type": "code",
      "execution_count": 3,
      "metadata": {
        "id": "j4okoTWR2I_R"
      },
      "outputs": [
        {
          "name": "stdout",
          "output_type": "stream",
          "text": [
            "[1, 2, 4, 5, 6, 8, 9, 12]\n"
          ]
        }
      ],
      "source": [
        "nums = [1, 2, 2, 4, 4, 5, 5, 5, 6, 8, 8, 9, 12, 12, 12]\n",
        "\n",
        "nums_set = set(nums)\n",
        "\n",
        "print(list(nums_set))\n"
      ]
    },
    {
      "cell_type": "markdown",
      "metadata": {
        "id": "4MCBgr-k1fvU"
      },
      "source": [
        "# Dicionários:"
      ]
    },
    {
      "cell_type": "markdown",
      "metadata": {
        "id": "0A-DeyIMPh4g"
      },
      "source": [
        "11 - Crie um dicionário com os nomes de algumas frutas e suas respectivas cores. Exiba na tela somente as frutas que são vermelhas."
      ]
    },
    {
      "cell_type": "code",
      "execution_count": 5,
      "metadata": {
        "id": "7jlD2DV4Pjom"
      },
      "outputs": [
        {
          "name": "stdout",
          "output_type": "stream",
          "text": [
            "{'maçã': 'vermelho', 'cereja': 'vermelho', 'morango': 'vermelho'}\n"
          ]
        }
      ],
      "source": [
        "fruits = {\n",
        "    \"maçã\": \"vermelho\",\n",
        "    \"banana\": \"amarelo\",\n",
        "    \"cereja\": \"vermelho\",\n",
        "    \"uva\": \"roxo\",\n",
        "    \"limão\": \"amarelo\",\n",
        "    \"morango\": \"vermelho\"\n",
        "}\n",
        "\n",
        "red_fruits = {fruit: color for fruit, color in fruits.items() if color == 'vermelho'}\n",
        "\n",
        "print(red_fruits)\n"
      ]
    },
    {
      "cell_type": "markdown",
      "metadata": {
        "id": "q-XV14A-PmSa"
      },
      "source": [
        "12 - Crie um dicionário com o nome e a idade de três pessoas. Busque por  um nome e exiba a idade correspondente."
      ]
    },
    {
      "cell_type": "code",
      "execution_count": 28,
      "metadata": {
        "id": "8rPH-lzG2gvh"
      },
      "outputs": [
        {
          "name": "stdout",
          "output_type": "stream",
          "text": [
            "Idade de Pedro = 13\n",
            "Idade de Ana = Não encontrado\n"
          ]
        }
      ],
      "source": [
        "people_data = {\n",
        "    'João': 22,\n",
        "    'Ailton': 57,\n",
        "    'Jair': 34,\n",
        "    'Amanda': 25,\n",
        "    'Pedro': 13\n",
        "}\n",
        "\n",
        "# Search 1: Found name\n",
        "search = 'Pedro'\n",
        "result = people_data.get(search, \"Não encontrado\")\n",
        "print(f'Idade de {search} = {result}')\n",
        "\n",
        "# Search 2: Not found name\n",
        "search = 'Ana'\n",
        "result = people_data.get(search, \"Não encontrado\")\n",
        "print(f'Idade de {search} = {result}')"
      ]
    },
    {
      "cell_type": "markdown",
      "metadata": {
        "id": "yEn6q_MP5SdW"
      },
      "source": [
        "13 - Crie um dicionário com os nomes e idades de algumas pessoas. Peça para o usuário digitar um nome e sua nova idade, e atualize o dicionário com essa informação."
      ]
    },
    {
      "cell_type": "code",
      "execution_count": 29,
      "metadata": {
        "id": "H-RHnfMm5TcR"
      },
      "outputs": [
        {
          "name": "stdout",
          "output_type": "stream",
          "text": [
            "{'João': 17, 'Ailton': 57, 'Jair': 34, 'Amanda': 25, 'Pedro': 13}\n"
          ]
        }
      ],
      "source": [
        "people_data = {\n",
        "    'João': 22,\n",
        "    'Ailton': 57,\n",
        "    'Jair': 34,\n",
        "    'Amanda': 25,\n",
        "    'Pedro': 13\n",
        "}\n",
        "\n",
        "name = input(\"Digite um nome: \")\n",
        "age = int(input(f\"Digite a idade de {name}: \"))\n",
        "\n",
        "people_data[name] = age\n",
        "\n",
        "print(people_data)"
      ]
    },
    {
      "cell_type": "markdown",
      "metadata": {
        "id": "Jeelh1Xw2hab"
      },
      "source": [
        "Desafio Dicionários:\n",
        "\n",
        "Busque o código desenvolvido para o exercicio abaixo e altere o algoritmo para:\n",
        "\n",
        " - Salvar o resultado da eleição em um dícionário.\n",
        "\n",
        "\n",
        "Exemplo de saida do dicionario: {\"Candidato 1\": 2, \"Candidato 2\": 2, \"Voto Nulo\": 0, \"Voto Branco\": 1}\n",
        "\n",
        "\n",
        "Este exercicio foi realizado na lista da semana passada, exercicio de número 4:"
      ]
    },
    {
      "cell_type": "markdown",
      "metadata": {
        "id": "cDnoQXk83e5B"
      },
      "source": [
        "\n",
        "\"Em uma eleição presidencial existem dois candidatos. Os votos são informados através de códigos. Os dados utilizados para a contagem dos votos obedecem à seguinte codificação:\n",
        "\n",
        "1,2 = voto para os respectivos candidatos\n",
        "\n",
        "3 = voto nulo\n",
        "\n",
        "4 = voto em branco;\n",
        "\n",
        "Elabore um programa que leia o código de votação de 5 eleitores. Calcule e escreva: total de votos para cada candidato total de votos nulos total de votos em branco\""
      ]
    },
    {
      "cell_type": "code",
      "execution_count": 34,
      "metadata": {
        "id": "CRlV5NE82kpE"
      },
      "outputs": [
        {
          "name": "stdout",
          "output_type": "stream",
          "text": [
            "{'Candidato 1': 7, 'Candidato 2': 8, 'Voto Nulo': 2, 'Voto Branco': 3}\n"
          ]
        }
      ],
      "source": [
        "# votos_candidato1 = 0\n",
        "# votos_candidato2 = 0\n",
        "# nulo = 0\n",
        "# branco = 0\n",
        "# valor = 0\n",
        "# for i in range(5):\n",
        "#     valor = int(input('Digite o valor de votação: (1 - Candidato 1 | 2 - Candidato 2 | 3 - Nulo | 4 - Branco)'))\n",
        "#     while (valor not in range(1,6)):\n",
        "#         print('Valor inválido! Digite novamente!')\n",
        "#         valor = int(input('Digite o valor de votação: (1 - Candidato 1 | 2 - Candidato 2 | 3 - Nulo | 4 - Branco)'))\n",
        "#     if (valor == 1):\n",
        "#         votos_candidato1 += 1\n",
        "#     elif (valor == 2):\n",
        "#         votos_candidato2 += 1\n",
        "#     elif (valor == 3):\n",
        "#         nulo += 1\n",
        "#     else:\n",
        "#         branco += 1\n",
        "        \n",
        "# print('Resultado:\\n\\n'+\n",
        "#         f'\\tCandidato 1: {votos_candidato1} votos\\n'+\n",
        "#         f'\\tCandidato 2: {votos_candidato2} votos\\n'+\n",
        "#         f'\\tNulos: {nulo} votos\\n'+\n",
        "#         f'\\tBrancos: {branco} votos\\n')\n",
        "\n",
        "\n",
        "votes = [2, 4, 4, 4, 1, 1, 3, 2, 1, 2, 2, 1, 1, 1, 1, 3, 2, 2, 2, 2]\n",
        "\n",
        "def count_votes(votes: list):\n",
        "    KEY_NUMBER_CANDIDATO_1 = 1\n",
        "    KEY_NUMBER_CANDIDATO_2 = 2\n",
        "    KEY_NUMBER_NULOS = 3\n",
        "    KEY_NUMBER_BRANCOS = 4\n",
        "    votes_dict = {\n",
        "        'Candidato 1': 0, \n",
        "        'Candidato 2': 0, \n",
        "        'Voto Nulo': 0, \n",
        "        'Voto Branco': 0\n",
        "    }\n",
        "    votes_dict['Candidato 1']+= votes.count(KEY_NUMBER_CANDIDATO_1)\n",
        "    votes_dict['Candidato 2']+= votes.count(KEY_NUMBER_CANDIDATO_2)\n",
        "    votes_dict['Voto Nulo']  += votes.count(KEY_NUMBER_NULOS)\n",
        "    votes_dict['Voto Branco']+= votes.count(KEY_NUMBER_BRANCOS)\n",
        "    return votes_dict\n",
        "\n",
        "\n",
        "print(count_votes(votes))\n",
        "\n"
      ]
    },
    {
      "cell_type": "markdown",
      "metadata": {
        "id": "ffEKF4Kx5eQu"
      },
      "source": [
        "# Listas por Compreensão:"
      ]
    },
    {
      "cell_type": "markdown",
      "metadata": {
        "id": "IrQvRhQM5oj6"
      },
      "source": [
        "15 - Crie uma lista com os números Impares de 1 a 20 utilizando listas por compreensão."
      ]
    },
    {
      "cell_type": "code",
      "execution_count": 38,
      "metadata": {
        "id": "lqgX2B6x5fLc"
      },
      "outputs": [
        {
          "data": {
            "text/plain": [
              "[1, 3, 5, 7, 9, 11, 13, 15, 17, 19]"
            ]
          },
          "execution_count": 38,
          "metadata": {},
          "output_type": "execute_result"
        }
      ],
      "source": [
        "odd_numbers = [num for num in range(1, 20) if num % 2 == 1]\n",
        "odd_numbers"
      ]
    },
    {
      "cell_type": "markdown",
      "metadata": {
        "id": "R2DKj08Z5tqJ"
      },
      "source": [
        "16 - Crie uma lista com as letras da frase \"Sou estudante de dados\", utilizando listas por compreensão."
      ]
    },
    {
      "cell_type": "code",
      "execution_count": 40,
      "metadata": {},
      "outputs": [
        {
          "data": {
            "text/plain": [
              "['S',\n",
              " 'o',\n",
              " 'u',\n",
              " ' ',\n",
              " 'e',\n",
              " 's',\n",
              " 't',\n",
              " 'u',\n",
              " 'd',\n",
              " 'a',\n",
              " 'n',\n",
              " 't',\n",
              " 'e',\n",
              " ' ',\n",
              " 'd',\n",
              " 'e',\n",
              " ' ',\n",
              " 'd',\n",
              " 'a',\n",
              " 'd',\n",
              " 'o',\n",
              " 's']"
            ]
          },
          "execution_count": 40,
          "metadata": {},
          "output_type": "execute_result"
        }
      ],
      "source": [
        "sentence = 'Sou estudante de dados'\n",
        "\n",
        "letters_list = [letter for letter in sentence]\n",
        "\n",
        "letters_list"
      ]
    }
  ],
  "metadata": {
    "colab": {
      "provenance": []
    },
    "kernelspec": {
      "display_name": "Python 3",
      "name": "python3"
    },
    "language_info": {
      "codemirror_mode": {
        "name": "ipython",
        "version": 3
      },
      "file_extension": ".py",
      "mimetype": "text/x-python",
      "name": "python",
      "nbconvert_exporter": "python",
      "pygments_lexer": "ipython3",
      "version": "3.10.11"
    }
  },
  "nbformat": 4,
  "nbformat_minor": 0
}
