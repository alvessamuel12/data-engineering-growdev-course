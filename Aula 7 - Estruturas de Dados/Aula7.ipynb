{
  "cells": [
    {
      "cell_type": "markdown",
      "metadata": {
        "id": "vsIaA47lPtUV"
      },
      "source": [
        "![Growdev](https://www.growdev.com.br/assets/images/logo_growdev.png)"
      ]
    },
    {
      "cell_type": "markdown",
      "metadata": {
        "id": "QvzvSiaiPtUX"
      },
      "source": [
        "![Formação Engenharia de Dados](https://d335luupugsy2.cloudfront.net/cms/files/524558/1707226566/$occu5m8t1op)"
      ]
    },
    {
      "cell_type": "markdown",
      "metadata": {
        "id": "0btatxRBPtUY"
      },
      "source": [
        "# Tópicos da Aula de Hoje"
      ]
    },
    {
      "cell_type": "markdown",
      "metadata": {
        "id": "6QX-DXSzPtUZ"
      },
      "source": [
        "- Estruturas de Dados: Listas, Tuplas, Sets e Dicionários\n",
        "- Funcionamento e Métodos\n",
        "- Lista por Compreensão\n",
        "- Exercícios Práticos"
      ]
    },
    {
      "cell_type": "markdown",
      "metadata": {
        "id": "7PKStavRPtUZ"
      },
      "source": [
        "**Bora pra aula?**"
      ]
    },
    {
      "cell_type": "markdown",
      "metadata": {
        "id": "1Gn0OWAWPtUZ"
      },
      "source": [
        "# Estruturas de Dados"
      ]
    },
    {
      "cell_type": "markdown",
      "metadata": {
        "id": "wopi6HCGPtUa"
      },
      "source": [
        "## Listas"
      ]
    },
    {
      "cell_type": "markdown",
      "metadata": {
        "id": "6nKwtJOTPtUa"
      },
      "source": [
        "Listas são sequências de números, caracteres ou strings, separados por vírgulas e entre colchetes. As listas podem conter um mix de tipos diferentes, ou seja, você pode criar uma lista contendo strings, bools e também numéricos, embora não seja uma boa prática."
      ]
    },
    {
      "cell_type": "code",
      "execution_count": 38,
      "metadata": {
        "id": "gvycM3wjPtUa"
      },
      "outputs": [],
      "source": [
        "# Lista com números\n",
        "minha_lista_numeros = [1,2,3]"
      ]
    },
    {
      "cell_type": "code",
      "execution_count": 39,
      "metadata": {
        "id": "BxWj8iuUPtUc"
      },
      "outputs": [],
      "source": [
        "# Lista com strings\n",
        "minha_lista_strings = ['São Paulo', 'Maceió', 'Belém']"
      ]
    },
    {
      "cell_type": "markdown",
      "metadata": {
        "id": "x5f24WJfPtUc"
      },
      "source": [
        "Para acessar elementos de uma lista, basta indicar o índice desejado entre colchetes\n"
      ]
    },
    {
      "cell_type": "markdown",
      "metadata": {
        "id": "gMElbL-IPtUc"
      },
      "source": [
        "<img src=\"https://www.programiz.com/sites/tutorial2program/files/python-list-index.png\">"
      ]
    },
    {
      "cell_type": "code",
      "execution_count": 40,
      "metadata": {
        "id": "uw3kyIKOPtUd",
        "outputId": "da8fb7fc-5e0a-4542-ea6f-ed6c1359d1a6"
      },
      "outputs": [
        {
          "data": {
            "text/plain": [
              "1"
            ]
          },
          "execution_count": 40,
          "metadata": {},
          "output_type": "execute_result"
        }
      ],
      "source": [
        "# Acessando o elemento 0 da lista de números\n",
        "minha_lista_numeros[0]"
      ]
    },
    {
      "cell_type": "code",
      "execution_count": 41,
      "metadata": {
        "id": "E7pizlZ4PtUe",
        "outputId": "86678815-2e76-4e10-e2eb-c7aca4b578e4"
      },
      "outputs": [
        {
          "data": {
            "text/plain": [
              "2"
            ]
          },
          "execution_count": 41,
          "metadata": {},
          "output_type": "execute_result"
        }
      ],
      "source": [
        "# Acessando o elemento 1 da lista de números\n",
        "minha_lista_numeros[1]"
      ]
    },
    {
      "cell_type": "code",
      "execution_count": 42,
      "metadata": {
        "id": "B7fHmMB_PtUe",
        "outputId": "7b08050a-41b1-4b4d-970b-a6b861848c59"
      },
      "outputs": [
        {
          "data": {
            "text/plain": [
              "2"
            ]
          },
          "execution_count": 42,
          "metadata": {},
          "output_type": "execute_result"
        }
      ],
      "source": [
        "# Índices negativos\n",
        "minha_lista_numeros[-2]"
      ]
    },
    {
      "cell_type": "code",
      "execution_count": 43,
      "metadata": {
        "id": "zyFtHbncPtUe",
        "outputId": "648eb0b3-6231-4d72-98e9-627ce7cf5a1a"
      },
      "outputs": [
        {
          "data": {
            "text/plain": [
              "[1, 2]"
            ]
          },
          "execution_count": 43,
          "metadata": {},
          "output_type": "execute_result"
        }
      ],
      "source": [
        "# slice de uma lista\n",
        "minha_lista_numeros[0:2]"
      ]
    },
    {
      "cell_type": "markdown",
      "metadata": {
        "id": "ivYWsXk_PtUf"
      },
      "source": [
        "Quando temos uma lista só com números, podemos realizar algumas operações."
      ]
    },
    {
      "cell_type": "code",
      "execution_count": 44,
      "metadata": {
        "id": "XPIRwbmKPtUf",
        "outputId": "1e894060-a974-41c7-e1bc-98b5116acce0"
      },
      "outputs": [
        {
          "data": {
            "text/plain": [
              "6"
            ]
          },
          "execution_count": 44,
          "metadata": {},
          "output_type": "execute_result"
        }
      ],
      "source": [
        "# Soma dos elementos\n",
        "sum(minha_lista_numeros)"
      ]
    },
    {
      "cell_type": "code",
      "execution_count": 45,
      "metadata": {
        "id": "AZXRVhjBPtUf",
        "outputId": "604fa3bd-fcba-406e-f6e5-07a00ac751af"
      },
      "outputs": [
        {
          "data": {
            "text/plain": [
              "3"
            ]
          },
          "execution_count": 45,
          "metadata": {},
          "output_type": "execute_result"
        }
      ],
      "source": [
        "# Máximo da Lista\n",
        "max(minha_lista_numeros)"
      ]
    },
    {
      "cell_type": "code",
      "execution_count": 46,
      "metadata": {
        "id": "hUq94uoKPtUg",
        "outputId": "1f37cf4d-3637-448b-cfb6-db27869d65c5"
      },
      "outputs": [
        {
          "data": {
            "text/plain": [
              "1"
            ]
          },
          "execution_count": 46,
          "metadata": {},
          "output_type": "execute_result"
        }
      ],
      "source": [
        "# Mínimo da Lista\n",
        "min(minha_lista_numeros)"
      ]
    },
    {
      "cell_type": "code",
      "execution_count": 47,
      "metadata": {
        "id": "hOrvX1FxPtUg"
      },
      "outputs": [],
      "source": [
        "# Para adicionar um item a lista\n",
        "minha_lista_numeros.append(5)"
      ]
    },
    {
      "cell_type": "code",
      "execution_count": 48,
      "metadata": {
        "id": "QZj_o8AsYqeN"
      },
      "outputs": [],
      "source": [
        "# Para adicionar um item em uma posição especifica\n",
        "item = 23\n",
        "posicao = 0\n",
        "\n",
        "minha_lista_numeros.insert(posicao, item)"
      ]
    },
    {
      "cell_type": "code",
      "execution_count": 49,
      "metadata": {
        "colab": {
          "base_uri": "https://localhost:8080/"
        },
        "id": "uqlqZ9u0PtUg",
        "outputId": "c28dac7b-4ca0-4538-b663-8109d5293258"
      },
      "outputs": [
        {
          "name": "stdout",
          "output_type": "stream",
          "text": [
            "[23, 1, 2, 3, 5]\n"
          ]
        }
      ],
      "source": [
        "print(minha_lista_numeros)"
      ]
    },
    {
      "cell_type": "code",
      "execution_count": 50,
      "metadata": {
        "colab": {
          "base_uri": "https://localhost:8080/"
        },
        "id": "Rru7_WwUPtUg",
        "outputId": "6d4cbbc3-648b-45dc-bf6b-2094eed3df10"
      },
      "outputs": [
        {
          "data": {
            "text/plain": [
              "5"
            ]
          },
          "execution_count": 50,
          "metadata": {},
          "output_type": "execute_result"
        }
      ],
      "source": [
        "# Para descobrir quantos elementos existem na lista\n",
        "len(minha_lista_numeros)"
      ]
    },
    {
      "cell_type": "code",
      "execution_count": 51,
      "metadata": {
        "colab": {
          "base_uri": "https://localhost:8080/"
        },
        "id": "e7ax51lOPtUh",
        "outputId": "a06d32ef-c799-4581-9c9c-7eaa1c8442ee"
      },
      "outputs": [
        {
          "name": "stdout",
          "output_type": "stream",
          "text": [
            "[1, 2, 3, 5]\n"
          ]
        }
      ],
      "source": [
        "# Para remover um elemento da lista\n",
        "minha_lista_numeros.remove(23)\n",
        "print(minha_lista_numeros)"
      ]
    },
    {
      "cell_type": "code",
      "execution_count": 52,
      "metadata": {
        "colab": {
          "base_uri": "https://localhost:8080/"
        },
        "id": "f33ZC7YkbUaI",
        "outputId": "9f83c994-d72e-4ffe-e454-6fbad77d4a9f"
      },
      "outputs": [
        {
          "name": "stdout",
          "output_type": "stream",
          "text": [
            "[1, 2, 5]\n"
          ]
        }
      ],
      "source": [
        "# Para remover um elemento com base na sua posição da lista\n",
        "minha_lista_numeros.pop(2)\n",
        "print(minha_lista_numeros)"
      ]
    },
    {
      "cell_type": "code",
      "execution_count": 53,
      "metadata": {
        "id": "zSrRubVGPtUh",
        "outputId": "648f4281-e4fa-4740-abe8-a670b4e9dbfc"
      },
      "outputs": [
        {
          "data": {
            "text/plain": [
              "True"
            ]
          },
          "execution_count": 53,
          "metadata": {},
          "output_type": "execute_result"
        }
      ],
      "source": [
        "# Podemos checar se um elemento faz parte da lista\n",
        "2 in minha_lista_numeros"
      ]
    },
    {
      "cell_type": "code",
      "execution_count": 54,
      "metadata": {
        "id": "ohhKETELPtUh"
      },
      "outputs": [],
      "source": [
        "lista = ['Abner', 2]"
      ]
    },
    {
      "cell_type": "code",
      "execution_count": 55,
      "metadata": {
        "id": "QbrJDBiyPtUi",
        "outputId": "c9bdeeb4-6ed8-4b39-c5b0-ee1462e1b9e2"
      },
      "outputs": [
        {
          "name": "stdout",
          "output_type": "stream",
          "text": [
            "['Abner', 2]\n"
          ]
        }
      ],
      "source": [
        "print(lista)"
      ]
    },
    {
      "cell_type": "markdown",
      "metadata": {
        "id": "CfcFTOF9PtUi"
      },
      "source": [
        "Para mais comandos envolvendo listas e acesse: <a href=\"https://www.w3schools.com/python/python_ref_list.asp\">Clique Aqui <a/>"
      ]
    },
    {
      "cell_type": "markdown",
      "metadata": {
        "id": "EjkyeiaQPtUi"
      },
      "source": [
        "Listas são mutáveis. Ou seja, podemos adicionar, remover e modificar valores.\n",
        "\n"
      ]
    },
    {
      "cell_type": "code",
      "execution_count": 56,
      "metadata": {
        "id": "p7zpXrsMPtUi"
      },
      "outputs": [],
      "source": [
        "minha_lista_numeros[0] = 34"
      ]
    },
    {
      "cell_type": "code",
      "execution_count": null,
      "metadata": {
        "id": "5kmAMtojYit3"
      },
      "outputs": [],
      "source": []
    },
    {
      "cell_type": "code",
      "execution_count": 57,
      "metadata": {
        "colab": {
          "base_uri": "https://localhost:8080/"
        },
        "id": "L3meX83qPtUi",
        "outputId": "6591e7e3-8cb0-4af1-9632-8118cdd460bd"
      },
      "outputs": [
        {
          "name": "stdout",
          "output_type": "stream",
          "text": [
            "[34, 2, 5]\n"
          ]
        }
      ],
      "source": [
        "print(minha_lista_numeros)"
      ]
    },
    {
      "cell_type": "code",
      "execution_count": 58,
      "metadata": {
        "id": "4xQza00PPtUj"
      },
      "outputs": [],
      "source": [
        "del minha_lista_numeros[1]"
      ]
    },
    {
      "cell_type": "code",
      "execution_count": 59,
      "metadata": {
        "id": "GgQMMmOsPtUj",
        "outputId": "4b8f74ed-f7e1-4f8c-e63e-33ba08d563a8"
      },
      "outputs": [
        {
          "name": "stdout",
          "output_type": "stream",
          "text": [
            "[34, 5]\n"
          ]
        }
      ],
      "source": [
        "print(minha_lista_numeros)"
      ]
    },
    {
      "cell_type": "code",
      "execution_count": null,
      "metadata": {
        "id": "LHIaNjP6YSMh"
      },
      "outputs": [],
      "source": []
    },
    {
      "cell_type": "markdown",
      "metadata": {
        "id": "7hQH4FbOPtUj"
      },
      "source": [
        "### Iteração em Listas"
      ]
    },
    {
      "cell_type": "code",
      "execution_count": 60,
      "metadata": {
        "id": "Yg71x2vaPtUk",
        "outputId": "d99193f7-da0b-43cd-9436-7144a9393e88"
      },
      "outputs": [
        {
          "name": "stdout",
          "output_type": "stream",
          "text": [
            "34\n",
            "5\n"
          ]
        }
      ],
      "source": [
        "for num in minha_lista_numeros:\n",
        "    print(num)"
      ]
    },
    {
      "cell_type": "code",
      "execution_count": 61,
      "metadata": {
        "id": "xQUpgZWQPtUk",
        "outputId": "3bc6acec-7c8d-44e7-991d-45a3a7067279"
      },
      "outputs": [
        {
          "name": "stdout",
          "output_type": "stream",
          "text": [
            "Indice: 0  valor  34\n",
            "Indice: 1  valor  5\n"
          ]
        }
      ],
      "source": [
        "for i in range(len(minha_lista_numeros)): #range(2)\n",
        "    print('Indice:', i, ' valor ', minha_lista_numeros[i] )"
      ]
    },
    {
      "cell_type": "code",
      "execution_count": 62,
      "metadata": {},
      "outputs": [
        {
          "name": "stdout",
          "output_type": "stream",
          "text": [
            "Indice: 0  valor  34\n",
            "Indice: 1  valor  5\n"
          ]
        }
      ],
      "source": [
        "for i, val in enumerate(minha_lista_numeros):\n",
        "    print('Indice:', i, ' valor ', val)"
      ]
    },
    {
      "cell_type": "code",
      "execution_count": 63,
      "metadata": {
        "id": "Uk-80unfPtUk",
        "outputId": "9a11301b-225b-4ae7-b605-a1550741efb1"
      },
      "outputs": [
        {
          "name": "stdout",
          "output_type": "stream",
          "text": [
            "34\n",
            "5\n"
          ]
        }
      ],
      "source": [
        "i = 0\n",
        "while i < len(minha_lista_numeros):\n",
        "    print( minha_lista_numeros[i] )\n",
        "    i += 1"
      ]
    },
    {
      "cell_type": "markdown",
      "metadata": {
        "id": "UpKCl3YGPtUl"
      },
      "source": [
        "## Tuplas"
      ]
    },
    {
      "cell_type": "markdown",
      "metadata": {
        "id": "0YVzbKb0PtUl"
      },
      "source": [
        "Ao contrário de listas, tuplas são imutáveis, ou seja, uma vez definidas, não podemos alterá-las. Para definir uma tupla, usamos Parênteses."
      ]
    },
    {
      "cell_type": "code",
      "execution_count": 64,
      "metadata": {
        "id": "uxLJ4Rs7PtUn"
      },
      "outputs": [],
      "source": [
        "minha_tupla = (1, 2, 2, 2, 3, 3, 4)"
      ]
    },
    {
      "cell_type": "code",
      "execution_count": 65,
      "metadata": {
        "id": "TsNDjRewPtUn",
        "outputId": "3a4e7f5b-9ef7-4dc0-9699-8d64ff1109f6"
      },
      "outputs": [
        {
          "name": "stdout",
          "output_type": "stream",
          "text": [
            "(1, 2, 2, 2, 3, 3, 4)\n"
          ]
        }
      ],
      "source": [
        "print(minha_tupla)"
      ]
    },
    {
      "cell_type": "code",
      "execution_count": 66,
      "metadata": {
        "id": "J3lMxagCPtUn",
        "outputId": "5b48a88d-99ff-4e95-800d-1e8326ecb3f8"
      },
      "outputs": [],
      "source": [
        "# minha_tupla[0] = 10"
      ]
    },
    {
      "cell_type": "code",
      "execution_count": 67,
      "metadata": {
        "id": "Es5aUGKsPtUn",
        "outputId": "294c7816-b249-46ea-d25f-e50280a0d5b8"
      },
      "outputs": [
        {
          "data": {
            "text/plain": [
              "3"
            ]
          },
          "execution_count": 67,
          "metadata": {},
          "output_type": "execute_result"
        }
      ],
      "source": [
        "# Contar quantas vezes um elemento aparece\n",
        "minha_tupla.count(2)"
      ]
    },
    {
      "cell_type": "code",
      "execution_count": 68,
      "metadata": {
        "id": "-LxmvoZPPtUo",
        "outputId": "9568b365-0159-4c01-9865-f1363da6b513"
      },
      "outputs": [
        {
          "data": {
            "text/plain": [
              "6"
            ]
          },
          "execution_count": 68,
          "metadata": {},
          "output_type": "execute_result"
        }
      ],
      "source": [
        "# Retornar índice que contém o elemento\n",
        "minha_tupla.index(4)"
      ]
    },
    {
      "cell_type": "code",
      "execution_count": 69,
      "metadata": {
        "id": "TwrZmCC8PtUo",
        "outputId": "12919c54-898f-4c78-b801-42b2ef2a1867"
      },
      "outputs": [
        {
          "data": {
            "text/plain": [
              "4"
            ]
          },
          "execution_count": 69,
          "metadata": {},
          "output_type": "execute_result"
        }
      ],
      "source": [
        "minha_tupla[6]"
      ]
    },
    {
      "cell_type": "code",
      "execution_count": 70,
      "metadata": {
        "id": "4RVidDX8PtUo",
        "outputId": "efa16854-9ea4-402e-dcb1-fa5652e566cc"
      },
      "outputs": [
        {
          "data": {
            "text/plain": [
              "list"
            ]
          },
          "execution_count": 70,
          "metadata": {},
          "output_type": "execute_result"
        }
      ],
      "source": [
        "#convertendo com tuple() e list()\n",
        "type(list(minha_tupla))"
      ]
    },
    {
      "cell_type": "markdown",
      "metadata": {
        "id": "FYi9HyHnPtUp"
      },
      "source": [
        "## Sets"
      ]
    },
    {
      "cell_type": "markdown",
      "metadata": {
        "id": "l0UtfHutPtUp"
      },
      "source": [
        "Conjuntos são estruturas de dados cujos elementos não se repetem. Podemos definí-los usando chaves."
      ]
    },
    {
      "cell_type": "code",
      "execution_count": 71,
      "metadata": {
        "id": "CHQcjL2iPtUp"
      },
      "outputs": [],
      "source": [
        "conjunto_nomes1 = {'Luciana', 'Maria', 'Marcos'}\n",
        "conjunto_nomes2 = {'Flávia', 'Samara', 'Anderson'}"
      ]
    },
    {
      "cell_type": "code",
      "execution_count": 72,
      "metadata": {
        "id": "ycHjVV74PtUp"
      },
      "outputs": [],
      "source": [
        "# Podemos adicionar um elemento a um conjunto\n",
        "conjunto_nomes2.add('Marcos')"
      ]
    },
    {
      "cell_type": "code",
      "execution_count": 73,
      "metadata": {
        "id": "Upp1-s5jPtUp",
        "outputId": "1feb1e5b-3bae-4175-b792-388cb2113d4a"
      },
      "outputs": [
        {
          "name": "stdout",
          "output_type": "stream",
          "text": [
            "{'Luciana', 'Maria', 'Anderson', 'Marcos', 'Flávia', 'Samara'}\n"
          ]
        }
      ],
      "source": [
        "# Podemos Unir os dois conjuntos\n",
        "conjunto_uniao = conjunto_nomes1.union(conjunto_nomes2)\n",
        "print(conjunto_uniao)"
      ]
    },
    {
      "cell_type": "markdown",
      "metadata": {
        "id": "rtNqRk2bPtUp"
      },
      "source": [
        "**Atenção:**\n",
        "Note que tínhamos 2 marcos, um no conjunto 1 e outro no conjunto 2, agora só temos 1!\n",
        "Por que isso aconteceu?"
      ]
    },
    {
      "cell_type": "code",
      "execution_count": 74,
      "metadata": {
        "id": "hwT-bMLxPtUq"
      },
      "outputs": [
        {
          "name": "stdout",
          "output_type": "stream",
          "text": [
            "{'Luciana', 'Maria'}\n"
          ]
        }
      ],
      "source": [
        "# Podemos subtrair conjuntos\n",
        "conjunto_subtracao = conjunto_nomes1.difference(conjunto_nomes2)\n",
        "print(conjunto_subtracao)"
      ]
    },
    {
      "cell_type": "markdown",
      "metadata": {
        "id": "7R3PnYgzPtUq"
      },
      "source": [
        "Itens do conjunto 2 são removidos do conjunto 1."
      ]
    },
    {
      "cell_type": "code",
      "execution_count": 75,
      "metadata": {
        "id": "jVJV04R0PtUq"
      },
      "outputs": [
        {
          "name": "stdout",
          "output_type": "stream",
          "text": [
            "{'Marcos'}\n"
          ]
        }
      ],
      "source": [
        "# Podemos encontrar a intersecção dos conjuntos\n",
        "conjunto_interseccao = conjunto_nomes1.intersection(conjunto_nomes2)\n",
        "print(conjunto_interseccao)"
      ]
    },
    {
      "cell_type": "markdown",
      "metadata": {
        "id": "PjfKBUvtPtUq"
      },
      "source": [
        "Para mais comandos envolvendo conjuntos e acesse: <a href=\"https://www.w3schools.com/python/python_ref_set.asp\">Clique Aqui <a/>"
      ]
    },
    {
      "cell_type": "markdown",
      "metadata": {
        "id": "V58zcSjFPtUr"
      },
      "source": [
        "## Dicionários"
      ]
    },
    {
      "cell_type": "markdown",
      "metadata": {
        "id": "W9ObvppoPtUr"
      },
      "source": [
        "Dicionários são estruturas constituídas de chave-valor. Assim como os conjuntos, não são ordenados, mas são mutáveis Para consultar os dados informamos as chaves."
      ]
    },
    {
      "cell_type": "markdown",
      "metadata": {
        "id": "HiY5FCt2PtUr"
      },
      "source": [
        "<img src=\"https://www.learnbyexample.org/wp-content/uploads/python/Dictionary-Key-Value-Pairs-Illustration.png\">"
      ]
    },
    {
      "cell_type": "markdown",
      "metadata": {
        "id": "QPXUf_xpPtUr"
      },
      "source": [
        "Para definir um dicionário, o método mais simples é utilizando chaves. As chaves do dicionário ficam do lado esquerdo e o valor do lado direito."
      ]
    },
    {
      "cell_type": "code",
      "execution_count": 76,
      "metadata": {
        "id": "5uOrwlPXPtUs"
      },
      "outputs": [],
      "source": [
        "# Exemplo\n",
        "notas_alunos = {\"Bruno\": 4.5,\n",
        "         \"Mauricio\": 8.7,\n",
        "         \"Jéssica\": 6.5,\n",
        "         \"Mariana\": 7.4\n",
        "        }"
      ]
    },
    {
      "cell_type": "code",
      "execution_count": 77,
      "metadata": {
        "id": "VHDWXCjuPtUs"
      },
      "outputs": [
        {
          "name": "stdout",
          "output_type": "stream",
          "text": [
            "4.5\n"
          ]
        }
      ],
      "source": [
        "# Para consultar o dicionário\n",
        "print(notas_alunos['Bruno'])"
      ]
    },
    {
      "cell_type": "code",
      "execution_count": 78,
      "metadata": {
        "id": "TwDTqcfYPtUs"
      },
      "outputs": [
        {
          "name": "stdout",
          "output_type": "stream",
          "text": [
            "8.7\n"
          ]
        }
      ],
      "source": [
        "print(notas_alunos['Mauricio'])"
      ]
    },
    {
      "cell_type": "code",
      "execution_count": 79,
      "metadata": {
        "id": "uweNYr30PtUs"
      },
      "outputs": [
        {
          "data": {
            "text/plain": [
              "dict_keys(['Bruno', 'Mauricio', 'Jéssica', 'Mariana'])"
            ]
          },
          "execution_count": 79,
          "metadata": {},
          "output_type": "execute_result"
        }
      ],
      "source": [
        "# Podemos consultar as chaves\n",
        "notas_alunos.keys()"
      ]
    },
    {
      "cell_type": "code",
      "execution_count": 80,
      "metadata": {
        "id": "LwuqmixxPtUt"
      },
      "outputs": [
        {
          "data": {
            "text/plain": [
              "dict_values([4.5, 8.7, 6.5, 7.4])"
            ]
          },
          "execution_count": 80,
          "metadata": {},
          "output_type": "execute_result"
        }
      ],
      "source": [
        "# Podemos consultar os valores\n",
        "notas_alunos.values()"
      ]
    },
    {
      "cell_type": "markdown",
      "metadata": {
        "id": "SqFLW3qlPtUt"
      },
      "source": [
        "## Resumo"
      ]
    },
    {
      "cell_type": "markdown",
      "metadata": {
        "id": "OSgGVLD5PtUt"
      },
      "source": [
        "As estruturas de dados são formas de organizar e armazenar dados em Python:\n",
        "- **Listas:** são coleções ordenadas de elementos mutáveis.\n",
        "- **Tuplas:** são sequências imutáveis de elementos.\n",
        "- **Sets:** são coleções não ordenadas de elementos únicos.\n",
        "- **Dicionários:** são coleções associativas de pares chave-valor."
      ]
    },
    {
      "cell_type": "markdown",
      "metadata": {
        "id": "UTCspckyPtUt"
      },
      "source": [
        "Características de cada uma dessas estruturas:\n",
        "- **Listas:** mutáveis, ordenadas, permitem elementos duplicados.\n",
        "- **Tuplas:** imutáveis, ordenadas, podem conter elementos de diferentes tipos.\n",
        "- **Sets:** mutáveis, não ordenados, não permitem elementos duplicados.\n",
        "- **Dicionários:** mutáveis, não ordenados, associam chaves a valores únicos."
      ]
    },
    {
      "cell_type": "markdown",
      "metadata": {
        "id": "NgYsqkCLPtUu"
      },
      "source": [
        "# Funcionamento e Métodos"
      ]
    },
    {
      "cell_type": "markdown",
      "metadata": {
        "id": "VYd40hI9PtUu"
      },
      "source": [
        "Alguns dos métodos nós já vimos, porém existem outros:\n",
        "\n",
        "- **Listas:** [Métodos de Listas](https://www.w3schools.com/python/python_lists_methods.asp)\n",
        "- **Tuplas:** [Métodos de Tuplas](https://www.w3schools.com/python/python_ref_tuple.asp)\n",
        "- **Sets:** [Métodos de Sets](https://www.w3schools.com/python/python_ref_set.asp)\n",
        "- **Dicionários:** [Métodos de Dicionários](https://www.w3schools.com/python/python_ref_dictionary.asp)\n"
      ]
    },
    {
      "cell_type": "code",
      "execution_count": 81,
      "metadata": {
        "id": "fydllDuCPtUu"
      },
      "outputs": [
        {
          "name": "stdout",
          "output_type": "stream",
          "text": [
            "Lista ordenada: [1, 2, 3]\n"
          ]
        }
      ],
      "source": [
        "# Exemplo: Utilizando métodos de listas\n",
        "lista = [3, 2, 1]\n",
        "lista.sort()\n",
        "print(\"Lista ordenada:\", lista)"
      ]
    },
    {
      "cell_type": "code",
      "execution_count": 82,
      "metadata": {
        "id": "OeqVi6fIPtUv"
      },
      "outputs": [
        {
          "name": "stdout",
          "output_type": "stream",
          "text": [
            "Índice do elemento 2: 1\n",
            "Quantidade de elementos igual a 2: 1\n"
          ]
        }
      ],
      "source": [
        "# Exemplo: Utilizando métodos de tuplas\n",
        "tupla = (1, 2, 3)\n",
        "print(\"Índice do elemento 2:\", tupla.index(2))\n",
        "print(\"Quantidade de elementos igual a 2:\", tupla.count(2))"
      ]
    },
    {
      "cell_type": "code",
      "execution_count": 83,
      "metadata": {
        "id": "lijOUFoRPtUv"
      },
      "outputs": [
        {
          "name": "stdout",
          "output_type": "stream",
          "text": [
            "Set após adicionar o elemento 4: {1, 2, 3, 4}\n"
          ]
        }
      ],
      "source": [
        "# Exemplo: Utilizando métodos de sets\n",
        "conjunto = {1, 2, 3}\n",
        "conjunto.add(4)\n",
        "print(\"Set após adicionar o elemento 4:\", conjunto)"
      ]
    },
    {
      "cell_type": "code",
      "execution_count": 84,
      "metadata": {
        "id": "01ckTGJ-PtUv"
      },
      "outputs": [
        {
          "name": "stdout",
          "output_type": "stream",
          "text": [
            "Valor associado à chave 'b': 2\n"
          ]
        }
      ],
      "source": [
        "# Exemplo: Utilizando métodos de dicionários\n",
        "dicionario = {\"a\": 1, \"b\": 2, \"c\": 3}\n",
        "print(\"Valor associado à chave 'b':\", dicionario.get(\"b\"))"
      ]
    },
    {
      "cell_type": "markdown",
      "metadata": {
        "id": "Ww3l-NiKPtUw"
      },
      "source": [
        "# Listas por Compreensão"
      ]
    },
    {
      "cell_type": "markdown",
      "metadata": {
        "id": "C4tYiiSEPtUw"
      },
      "source": [
        "Listas por compreensão são uma forma concisa de criar listas em Python. Em inglês, list comprehension"
      ]
    },
    {
      "cell_type": "code",
      "execution_count": 85,
      "metadata": {
        "id": "V1sWE7jpPtUw"
      },
      "outputs": [],
      "source": [
        "quadrados = [x**2 for x in range(1, 6)]"
      ]
    },
    {
      "cell_type": "code",
      "execution_count": 86,
      "metadata": {
        "id": "w6zrMO1iPtUw"
      },
      "outputs": [
        {
          "name": "stdout",
          "output_type": "stream",
          "text": [
            "[1, 4, 9, 16, 25]\n"
          ]
        }
      ],
      "source": [
        "print(quadrados)"
      ]
    },
    {
      "cell_type": "code",
      "execution_count": 87,
      "metadata": {
        "id": "YKRLbDA8PtUx"
      },
      "outputs": [
        {
          "name": "stdout",
          "output_type": "stream",
          "text": [
            "[2, 4, 6, 8, 10]\n"
          ]
        }
      ],
      "source": [
        "# Exemplo: Filtrando números pares de uma lista\n",
        "numeros = [1, 2, 3, 4, 5, 6, 7, 8, 9, 10]\n",
        "pares = [x for x in numeros if x % 2 == 0]\n",
        "print(pares)"
      ]
    },
    {
      "cell_type": "code",
      "execution_count": 88,
      "metadata": {
        "id": "x8DV5CNLPtUx"
      },
      "outputs": [
        {
          "name": "stdout",
          "output_type": "stream",
          "text": [
            "[(0, 0), (0, 1), (0, 2), (1, 0), (1, 1), (1, 2), (2, 0), (2, 1), (2, 2)]\n"
          ]
        }
      ],
      "source": [
        "# Exemplo: Criando uma lista de pares de coordenadas\n",
        "coordenadas = [(x, y) for x in range(3) for y in range(3)]\n",
        "print(coordenadas)"
      ]
    },
    {
      "cell_type": "code",
      "execution_count": 89,
      "metadata": {
        "id": "1a-DSr3RPtUx"
      },
      "outputs": [
        {
          "name": "stdout",
          "output_type": "stream",
          "text": [
            "['maçã', 'banana', 'morango', 'manga', 'melancia', 'laranja', 'tangerina']\n"
          ]
        }
      ],
      "source": [
        "# Exemplo: Frutas que contenham a letra \"a\"\n",
        "frutas = [\"maçã\", \"banana\", \"morango\", \"kiwi\", \"manga\", \"melancia\", \"laranja\", \"tangerina\"]\n",
        "frutas2 = [x for x in frutas if \"a\" in x]\n",
        "print(frutas2)"
      ]
    },
    {
      "cell_type": "markdown",
      "metadata": {
        "id": "fpim7-umPtUy"
      },
      "source": [
        "# Exercícios Práticos"
      ]
    },
    {
      "cell_type": "markdown",
      "metadata": {
        "id": "NrmaiyoIPtUy"
      },
      "source": [
        "#**Escreva um programa que receba uma lista e remova os elementos duplicados, mantendo apenas um de cada valor.**"
      ]
    },
    {
      "cell_type": "code",
      "execution_count": 95,
      "metadata": {
        "id": "d3e2a9FsPtUy"
      },
      "outputs": [
        {
          "name": "stdout",
          "output_type": "stream",
          "text": [
            "Lista original:  [1, 1, 1, 2, 2, 3, 3, 4, 4, 4, 5, 5, 7, 7, 9, 9, 0, 1]\n",
            "Nova lista:  [0, 1, 2, 3, 4, 5, 7, 9]\n"
          ]
        }
      ],
      "source": [
        "lista = [1,1,1,2,2,3,3,4,4,4,5,5,7,7,9,9,0,1]\n",
        "\n",
        "nova_lista_sem_duplicatas = list(set(lista))\n",
        "\n",
        "print('Lista original: ', lista)\n",
        "print('Nova lista: ', nova_lista_sem_duplicatas)"
      ]
    },
    {
      "cell_type": "markdown",
      "metadata": {
        "id": "L387jabZgzC5"
      },
      "source": [
        "### Resolução:"
      ]
    },
    {
      "cell_type": "code",
      "execution_count": 90,
      "metadata": {
        "id": "TrmtR_-cg2Cr"
      },
      "outputs": [
        {
          "name": "stdout",
          "output_type": "stream",
          "text": [
            "Lista original: [1, 2, 3, 4, 2, 3, 5, 6, 1]\n",
            "Lista sem duplicados: [1, 2, 3, 4, 5, 6]\n"
          ]
        }
      ],
      "source": [
        "lista = [1, 2, 3, 4, 2, 3, 5, 6, 1]\n",
        "\n",
        "# Remove os elementos duplicados\n",
        "lista_sem_duplicados = []\n",
        "\n",
        "for elemento in lista:\n",
        "    if elemento not in lista_sem_duplicados:\n",
        "        lista_sem_duplicados.append(elemento)\n",
        "\n",
        "# Mostra a lista original e a lista sem duplicados\n",
        "print(\"Lista original:\", lista)\n",
        "print(\"Lista sem duplicados:\", lista_sem_duplicados)"
      ]
    },
    {
      "cell_type": "markdown",
      "metadata": {
        "id": "c7mOQSZoPtUy"
      },
      "source": [
        "### **Escreva um programa que verifique se uma lista é um subconjunto de outra lista. Ou seja, se todos os elementos da primeira lista estão presentes na segunda lista.**"
      ]
    },
    {
      "cell_type": "code",
      "execution_count": 104,
      "metadata": {
        "id": "8oow4KizPtUy"
      },
      "outputs": [
        {
          "name": "stdout",
          "output_type": "stream",
          "text": [
            "A lista [1, 5, 0, 4] não é subconjunto de [1, 3, 5, 7, 9, 0]\n"
          ]
        }
      ],
      "source": [
        "lista = [1,3,5,7,9,0]\n",
        "sub_lista = [1,5,0,4]\n",
        "\n",
        "if map(lambda x: x in lista, sub_lista) in lista:\n",
        "    print(f'A lista {sub_lista} é um subconjunto da lista {lista}')\n",
        "else:\n",
        "    print(f'A lista {sub_lista} não é subconjunto de {lista}')"
      ]
    },
    {
      "cell_type": "markdown",
      "metadata": {
        "id": "1TI3ZMKuhJHJ"
      },
      "source": [
        "### Resolução:"
      ]
    },
    {
      "cell_type": "code",
      "execution_count": 91,
      "metadata": {
        "id": "FG434doUhLBw"
      },
      "outputs": [
        {
          "name": "stdout",
          "output_type": "stream",
          "text": [
            "A lista1 é um subconjunto da lista2.\n"
          ]
        }
      ],
      "source": [
        "lista1 = [1, 2, 3]\n",
        "lista2 = [1, 2, 3, 4, 5]\n",
        "\n",
        "eh_subconjunto = True\n",
        "\n",
        "for elemento in lista1:\n",
        "    if elemento not in lista2:\n",
        "        eh_subconjunto = False\n",
        "        break\n",
        "\n",
        "if eh_subconjunto:\n",
        "    print(\"A lista1 é um subconjunto da lista2.\")\n",
        "else:\n",
        "    print(\"A lista1 não é um subconjunto da lista2.\")"
      ]
    },
    {
      "cell_type": "markdown",
      "metadata": {
        "id": "N1gXybWsPtUz"
      },
      "source": [
        "### **Escreva um programa que receba uma frase como entrada e conte quantas vezes cada palavra aparece na frase. O programa deve imprimir um dicionário onde as chaves são as palavras e os valores são a contagem de vezes que cada palavra aparece.**"
      ]
    },
    {
      "cell_type": "code",
      "execution_count": 110,
      "metadata": {
        "id": "18qu_MhJPtUz"
      },
      "outputs": [
        {
          "name": "stdout",
          "output_type": "stream",
          "text": [
            "Contegem de palavras da frase \n",
            "\t\"Olá meu nome é Samuel. Adoro meu nome por ser meu\"\n",
            "\n",
            "Adoro: 1\n",
            "Samuel.: 1\n",
            "é: 1\n",
            "por: 1\n",
            "ser: 1\n",
            "nome: 2\n",
            "meu: 3\n",
            "Olá: 1\n"
          ]
        }
      ],
      "source": [
        "frase = input('Digite uma frase: ')\n",
        "\n",
        "palavras = frase.replace(',', '').replace('.', '').split()\n",
        "\n",
        "palavras_sem_duplicatas = list(set(palavras))\n",
        "\n",
        "resultado = list(map(lambda x: f'{x}: {palavras.count(x)}', palavras_sem_duplicatas))\n",
        "\n",
        "print(f'Contegem de palavras da frase \\n\\t\"{frase}\"\\n')\n",
        "for item in resultado:\n",
        "    print(item)"
      ]
    },
    {
      "cell_type": "markdown",
      "metadata": {
        "id": "VY60ViM5hF7E"
      },
      "source": [
        "### Resolução:"
      ]
    },
    {
      "cell_type": "code",
      "execution_count": 92,
      "metadata": {
        "id": "vGe9iHaui5x-"
      },
      "outputs": [
        {
          "name": "stdout",
          "output_type": "stream",
          "text": [
            "Contagem de palavras:\n",
            "Olá: 1\n",
            "meu: 1\n",
            "nome: 3\n",
            "é: 2\n",
            "Samuel.: 1\n",
            "Samuel,: 1\n",
            "que: 2\n",
            "minha: 1\n",
            "mãe: 1\n",
            "escolheu.: 1\n",
            "O: 1\n",
            "dela: 1\n",
            "não: 1\n",
            "o: 2\n",
            "mesmo: 1\n",
            "meu.: 1\n"
          ]
        }
      ],
      "source": [
        "frase = input(\"Digite uma frase: \")\n",
        "\n",
        "palavras = frase.split()\n",
        "\n",
        "contagem_palavras = {}\n",
        "\n",
        "# Contando a frequência de cada palavra\n",
        "for palavra in palavras:\n",
        "    if palavra in contagem_palavras:\n",
        "        contagem_palavras[palavra] += 1\n",
        "    else:\n",
        "        contagem_palavras[palavra] = 1\n",
        "\n",
        "# Imprimindo o dicionário de contagem de palavras\n",
        "print(\"Contagem de palavras:\")\n",
        "for palavra, contagem in contagem_palavras.items():\n",
        "    print(f\"{palavra}: {contagem}\")"
      ]
    },
    {
      "cell_type": "markdown",
      "metadata": {
        "id": "-CgljL3UPtUz"
      },
      "source": [
        "## Desafio"
      ]
    },
    {
      "cell_type": "markdown",
      "metadata": {
        "id": "TktQshouPtUz"
      },
      "source": [
        "Use o dicionário de notas e retorne o nome dos alunos que irão ser aprovados, reprovados e os que vão ficar de recuperação. Considere a média para ser aprovado como 6.0"
      ]
    },
    {
      "cell_type": "code",
      "execution_count": 93,
      "metadata": {
        "id": "HqsYPzVKPtUz"
      },
      "outputs": [],
      "source": [
        "notas_alunos = {\"Bruno\": 4.5, \"Mauricio\": 8.7, \"Jéssica\": 5.5, \"Mariana\": 7.4, \"Thiago\": 2.0, \"Luiz\": 8.7, \"Maria\": 6.0}"
      ]
    },
    {
      "cell_type": "code",
      "execution_count": null,
      "metadata": {
        "id": "H0wRWml7gcfs"
      },
      "outputs": [],
      "source": []
    },
    {
      "cell_type": "markdown",
      "metadata": {
        "id": "KNy6NmJYggse"
      },
      "source": [
        "### Resolução"
      ]
    },
    {
      "cell_type": "code",
      "execution_count": 94,
      "metadata": {
        "id": "TN_fh8gIgc9w"
      },
      "outputs": [
        {
          "name": "stdout",
          "output_type": "stream",
          "text": [
            "Alunos aprovados: ['Mauricio', 'Mariana', 'Luiz', 'Maria']\n",
            "Alunos em recuperação: ['Bruno', 'Jéssica']\n",
            "Alunos reprovados: ['Thiago']\n"
          ]
        }
      ],
      "source": [
        "aprovados = []\n",
        "reprovados = []\n",
        "recuperacao = []\n",
        "\n",
        "for aluno, nota in notas_alunos.items():\n",
        "    if nota >= 6.0:\n",
        "        aprovados.append(aluno)\n",
        "    elif nota < 6.0 and nota >= 4.0:\n",
        "        recuperacao.append(aluno)\n",
        "    else:\n",
        "        reprovados.append(aluno)\n",
        "\n",
        "print(\"Alunos aprovados:\", aprovados)\n",
        "print(\"Alunos em recuperação:\", recuperacao)\n",
        "print(\"Alunos reprovados:\", reprovados)"
      ]
    }
  ],
  "metadata": {
    "colab": {
      "provenance": []
    },
    "kernelspec": {
      "display_name": "Python 3",
      "name": "python3"
    },
    "language_info": {
      "codemirror_mode": {
        "name": "ipython",
        "version": 3
      },
      "file_extension": ".py",
      "mimetype": "text/x-python",
      "name": "python",
      "nbconvert_exporter": "python",
      "pygments_lexer": "ipython3",
      "version": "3.10.11"
    }
  },
  "nbformat": 4,
  "nbformat_minor": 0
}
