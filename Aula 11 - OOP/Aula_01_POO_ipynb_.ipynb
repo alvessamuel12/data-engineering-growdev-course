{
  "cells": [
    {
      "cell_type": "markdown",
      "metadata": {
        "id": "kZcqk2AnE9CD"
      },
      "source": [
        "![Growdev](https://www.growdev.com.br/assets/images/logo_growdev.png)"
      ]
    },
    {
      "cell_type": "markdown",
      "metadata": {
        "id": "xf0qv0a2E9CG"
      },
      "source": [
        "![Formação Engenharia de Dados](https://d335luupugsy2.cloudfront.net/cms/files/524558/1707226566/$occu5m8t1op)"
      ]
    },
    {
      "cell_type": "markdown",
      "metadata": {
        "id": "U5KJAnIuE9CG"
      },
      "source": [
        "# Tópicos da Aula de Hoje"
      ]
    },
    {
      "cell_type": "markdown",
      "metadata": {
        "id": "Lfrn8I5xE9CH"
      },
      "source": [
        "- POO\n",
        "- Princípos Básicos de POO: Encapsulamento, Abstração, Herança e Polimorfismo"
      ]
    },
    {
      "cell_type": "markdown",
      "metadata": {
        "id": "Rc-5smbeE9CH"
      },
      "source": [
        "**Bora pra aula?**"
      ]
    },
    {
      "cell_type": "markdown",
      "metadata": {
        "id": "gAbAx7FOE9CH"
      },
      "source": [
        "# POO"
      ]
    },
    {
      "cell_type": "markdown",
      "metadata": {
        "id": "8kwSBGonE9CI"
      },
      "source": [
        "A **Programação Orientada a Objetos (POO)** é ​​um paradigma de programação baseado no conceito de **Classes** e **Objetos**.\n",
        "\n",
        "Classes podem conter dados e código:\n",
        "- **Dados** na forma de campos (também chamamos de atributos ou propriedades)\n",
        "- **Código**, na forma de procedimentos (frequentemente conhecido como métodos)\n",
        "\n",
        "Uma importante característica dos objetos é que seus próprios métodos podem acessar e frequentemente modificar seus campos de dados: objetos mantém uma referência para si mesmo, o atributo `self` no Python.\n",
        "\n",
        "Na POO, os programas são projetados a partir de objetos que interagem uns com os outros.\n",
        "\n",
        "Esse paradigma se concentra nos objetos que os desenvolvedores desejam manipular, ao invés da lógica necessária para manipulá-los.\n",
        "\n",
        "Essa abordagem de programação é adequada para programas grandes, complexos e ativamente atualizados ou mantidos."
      ]
    },
    {
      "cell_type": "markdown",
      "metadata": {
        "id": "CaEVH7brE9CI"
      },
      "source": [
        "## Classes, Objetos, Métodos e Atributos"
      ]
    },
    {
      "cell_type": "markdown",
      "metadata": {
        "id": "NQ0IACthE9CJ"
      },
      "source": [
        "Esses conceitos são os pilares da Programação Orientada a Objetos então é muito importante que você os DOMINE:\n",
        "\n",
        "- As Classes são tipos de dados definidos pelo desenvolvedor que atuam como um modelo para objetos. Pra não esquecer mais: Classes são formas de bolo e bolos são objetos\n",
        "- Objetos são instâncias de uma Classe. Objetos podem modelar entidades do mundo real (Carro, Pessoa, Usuário) ou entidades abstratas (Temperatura, Umidade, Medição, Configuração).\n",
        "- Métodos são funções definidas dentro de uma classe que descreve os comportamentos de um objeto. Em Python, o primeiro parâmetro dos métodos é sempre uma referência ao próprio objeto.\n",
        "- Os Atributos são definidos na Classe e representam o estado de um objeto. Os objetos terão dados armazenados nos campos de atributos. Também existe o conceito de atributos de classe, mas veremos isso mais pra frente."
      ]
    },
    {
      "cell_type": "code",
      "execution_count": 12,
      "metadata": {
        "id": "_ekQw7lVARhW"
      },
      "outputs": [],
      "source": [
        "class Bolo:\n",
        "    # Método inicializador (__init__) para definir os atributos\n",
        "    def __init__(self, sabor, tamanho):\n",
        "        self.sabor = sabor\n",
        "        self.tamanho = tamanho\n",
        "        self.preparado = False\n",
        "        self.temperatura_forno = None\n",
        "        self.ingredientes = []\n",
        "\n",
        "    # Método para definir a temperatura do forno\n",
        "    def definir_temperatura(self, temperatura):\n",
        "        self.temperatura_forno = temperatura\n",
        "        print(f\"A temperatura do forno está definida para {self.temperatura_forno}°C.\")\n",
        "\n",
        "    # Método para adicionar ingredientes\n",
        "    def adicionar_ingrediente(self, ingrediente):\n",
        "        self.ingredientes.append(ingrediente)\n",
        "        print(f\"{ingrediente} adicionado aos ingredientes do bolo de {self.sabor}.\")\n",
        "\n",
        "    # Método para preparar o bolo\n",
        "    def preparar(self):\n",
        "        if self.temperatura_forno and self.ingredientes:\n",
        "            self.preparado = True\n",
        "            print(f\"O bolo de {self.sabor} está sendo preparado a {self.temperatura_forno}°C com os ingredientes: {', '.join(self.ingredientes)}.\")\n",
        "        else:\n",
        "            print(\"Certifique-se de definir a temperatura do forno e adicionar os ingredientes antes de preparar o bolo.\")\n",
        "\n",
        "    # Método para verificar se o bolo está pronto\n",
        "    def verificar(self):\n",
        "        if self.preparado:\n",
        "            return f\"O bolo de {self.sabor} está pronto!\"\n",
        "        else:\n",
        "            return f\"O bolo de {self.sabor} ainda não está pronto.\"\n",
        "\n",
        "    # Método para descrever o bolo\n",
        "    def descrever(self):\n",
        "        return f\"Este é um bolo de {self.sabor}, tamanho {self.tamanho}.\"\n",
        "\n",
        "    # Método para listar os ingredientes\n",
        "    def listar_ingredientes(self):\n",
        "        return f\"Ingredientes do bolo de {self.sabor}: {', '.join(self.ingredientes)}\"\n"
      ]
    },
    {
      "cell_type": "code",
      "execution_count": 13,
      "metadata": {
        "colab": {
          "base_uri": "https://localhost:8080/"
        },
        "id": "UI-sp73HBBr8",
        "outputId": "996a96ea-f8da-4df6-e7ae-96197fb89648"
      },
      "outputs": [
        {
          "name": "stdout",
          "output_type": "stream",
          "text": [
            "A temperatura do forno está definida para 180°C.\n",
            "A temperatura do forno está definida para 170°C.\n",
            "farinha adicionado aos ingredientes do bolo de chocolate.\n",
            "açúcar adicionado aos ingredientes do bolo de chocolate.\n",
            "ovos adicionado aos ingredientes do bolo de chocolate.\n",
            "cacau em pó adicionado aos ingredientes do bolo de chocolate.\n",
            "farinha adicionado aos ingredientes do bolo de baunilha.\n",
            "açúcar adicionado aos ingredientes do bolo de baunilha.\n",
            "ovos adicionado aos ingredientes do bolo de baunilha.\n",
            "essência de baunilha adicionado aos ingredientes do bolo de baunilha.\n",
            "Ingredientes do bolo de chocolate: farinha, açúcar, ovos, cacau em pó\n",
            "Ingredientes do bolo de baunilha: farinha, açúcar, ovos, essência de baunilha\n",
            "O bolo de chocolate está sendo preparado a 180°C com os ingredientes: farinha, açúcar, ovos, cacau em pó.\n",
            "O bolo de baunilha está sendo preparado a 170°C com os ingredientes: farinha, açúcar, ovos, essência de baunilha.\n",
            "O bolo de chocolate está pronto!\n",
            "O bolo de baunilha está pronto!\n",
            "Este é um bolo de chocolate, tamanho grande.\n",
            "Este é um bolo de baunilha, tamanho médio.\n"
          ]
        }
      ],
      "source": [
        "# Criando objetos da classe Bolo\n",
        "bolo_chocolate = Bolo(\"chocolate\", \"grande\")\n",
        "bolo_baunilha = Bolo(\"baunilha\", \"médio\")\n",
        "\n",
        "# Definindo a temperatura do forno\n",
        "bolo_chocolate.definir_temperatura(180)\n",
        "bolo_baunilha.definir_temperatura(170)\n",
        "\n",
        "# Adicionando ingredientes\n",
        "bolo_chocolate.adicionar_ingrediente(\"farinha\")\n",
        "bolo_chocolate.adicionar_ingrediente(\"açúcar\")\n",
        "bolo_chocolate.adicionar_ingrediente(\"ovos\")\n",
        "bolo_chocolate.adicionar_ingrediente(\"cacau em pó\")\n",
        "\n",
        "bolo_baunilha.adicionar_ingrediente(\"farinha\")\n",
        "bolo_baunilha.adicionar_ingrediente(\"açúcar\")\n",
        "bolo_baunilha.adicionar_ingrediente(\"ovos\")\n",
        "bolo_baunilha.adicionar_ingrediente(\"essência de baunilha\")\n",
        "\n",
        "# Listando ingredientes\n",
        "print(bolo_chocolate.listar_ingredientes())\n",
        "print(bolo_baunilha.listar_ingredientes())\n",
        "\n",
        "# Preparando os bolos\n",
        "bolo_chocolate.preparar()\n",
        "bolo_baunilha.preparar()\n",
        "\n",
        "# Verificando se os bolos estão prontos\n",
        "print(bolo_chocolate.verificar())\n",
        "print(bolo_baunilha.verificar())\n",
        "\n",
        "# Descrevendo os bolos\n",
        "print(bolo_chocolate.descrever())\n",
        "print(bolo_baunilha.descrever())\n"
      ]
    },
    {
      "cell_type": "markdown",
      "metadata": {
        "id": "bz6468n4BtJZ"
      },
      "source": [
        "- Classe: Bolo é o modelo para criar objetos de bolo.\n",
        "- Objetos: bolo_chocolate e bolo_baunilha são instâncias da classe Bolo.\n",
        "- Atributos: sabor, tamanho, preparado, temperatura_forno e ingredientes são variáveis que armazenam dados sobre os bolos.\n",
        "- Métodos: definir_temperatura, adicionar_ingrediente, preparar, verificar, descrever e listar_ingredientes são funções que definem comportamentos dos bolos.\n"
      ]
    },
    {
      "cell_type": "markdown",
      "metadata": {
        "id": "zT3rumnuE9CJ"
      },
      "source": [
        "# Princípos Básicos de POO"
      ]
    },
    {
      "cell_type": "markdown",
      "metadata": {
        "id": "rO2GkElLE9CJ"
      },
      "source": [
        "## Encapsulamento"
      ]
    },
    {
      "cell_type": "markdown",
      "metadata": {
        "id": "brso6uEkE9CK"
      },
      "source": [
        "Usamos esse princípio para juntar, ou encapsular, dados e comportamentos relacionados em entidades únicas, que chamamos de objetos.\n",
        "\n",
        "Por exemplo, se quisermos modelar uma entidade do mundo real, por exemplo Computador.\n",
        "\n",
        "Encapsular é agregar todos os atributos e comportamentos referentes à essa Entidade dentro de sua Classe.\n",
        "\n",
        "Dessa forma, o mundo exterior não precisa saber como um Computador liga e desliga, ou como ele realiza cálculos matemáticos!\n",
        "\n",
        "Basta instanciar um objeto da Classe Computador, e utilizá-lo!\n",
        "\n",
        "O princípio do Encapsulamento também afirma que informações importantes devem ser contidas dentro do objeto de maneira privada e apenas informações selecionadas devem ser expostas publicamente.\n",
        "\n",
        "Veja a imagem abaixo que exemplifica a relação entre atributos e métodos públicos e privados:"
      ]
    },
    {
      "cell_type": "markdown",
      "metadata": {
        "id": "6cZF05HtE9CK"
      },
      "source": [
        "![Encapsulamento](https://pythonacademy.com.br/assets/posts/poo-introduction/encapsulamento.png)"
      ]
    },
    {
      "cell_type": "markdown",
      "metadata": {
        "id": "IgOm6-3UE9CK"
      },
      "source": [
        "A implementação e o estado de cada objeto são mantidos de forma privada dentro da definição da Classe.\n",
        "\n",
        "Outros objetos não têm acesso a esta classe ou autoridade para fazer alterações.\n",
        "\n",
        "Eles só podem chamar uma lista de funções ou métodos públicos.\n",
        "\n",
        "Essa característica de ocultação de dados fornece maior segurança ao programa e evita corrupção de dados não intencional."
      ]
    },
    {
      "cell_type": "markdown",
      "metadata": {
        "id": "uON06GWBE9CL"
      },
      "source": [
        "## Abstração"
      ]
    },
    {
      "cell_type": "markdown",
      "metadata": {
        "id": "3lEKtyTKE9CL"
      },
      "source": [
        "Pense em um Tocador de DVD."
      ]
    },
    {
      "cell_type": "markdown",
      "metadata": {
        "id": "d9eX-9cXE9CL"
      },
      "source": [
        "![DVD](https://pythonacademy.com.br/assets/posts/poo-introduction/dvd-player.png)"
      ]
    },
    {
      "cell_type": "markdown",
      "metadata": {
        "id": "IGFjeFeCE9CL"
      },
      "source": [
        "Ele tem uma placa lógica bastante complexa com diversos circuitos, transistores, capacitores e etc do lado de dentro e apenas alguns botões do lado de fora.\n",
        "\n",
        "Você apenas clica no botão de “Play” e não se importa com o que acontece lá dentro: o tocador apenas… Toca.\n",
        "\n",
        "Ou seja, a complexidade foi “escondida” de você: **isto é Abstração na prática**!\n",
        "\n",
        "O Tocador de DVD abstraiu toda a lógica de como tocar o DVD, expondo apenas botões de controle para o usuário.\n",
        "\n",
        "O mesmo se aplica à Classes e Objetos: nós podemos esconder atributos e métodos do mundo exterior. E isso nos traz alguns benefícios!\n",
        "\n",
        "Primeiro, a interface para utilização desses objetos é muito mais simples, basta saber quais “botões” utilizar.\n",
        "\n",
        "Também reduz o que chamamos de “Impacto da mudança”, isto é: ao se alterar as propriedades internas da classes, nada será alterado no mundo exterior, já que a interface já foi definida e deve ser respeitada."
      ]
    },
    {
      "cell_type": "markdown",
      "metadata": {
        "id": "MrmRtDaVE9CL"
      },
      "source": [
        "## Herança"
      ]
    },
    {
      "cell_type": "markdown",
      "metadata": {
        "id": "e_JjYqklE9CM"
      },
      "source": [
        "Herança é a característica da POO que possibilita a reutilização de código comum em uma relação de hierarquia entre Classes.\n",
        "\n",
        "Vamos utilizar a entidade Carro como exemplo.\n",
        "\n",
        "Agora imagine uma Caminhonete, um Caminhão e uma Moto.\n",
        "\n",
        "Todos eles são Automóveis, correto? Todos possuem característica semelhantes, não é mesmo?\n",
        "\n",
        "Podemos pensar que Automóveis aceleram, freiam, possuem mecanismo de acionamento de faróis, entre outros.\n",
        "\n",
        "Uma relação de hierarquia entre as classes poderia ser pensada da seguinte forma:"
      ]
    },
    {
      "cell_type": "markdown",
      "metadata": {
        "id": "_HJd4US-E9CM"
      },
      "source": [
        "![Carro](https://pythonacademy.com.br/assets/posts/poo-introduction/heranca.png)"
      ]
    },
    {
      "cell_type": "markdown",
      "metadata": {
        "id": "kloxnbgHE9CM"
      },
      "source": [
        "Dessa forma podemos modelar os comportamentos semelhantes em uma Classe “pai” Automóvel que conterá os atributos e comportamentos comuns.\n",
        "\n",
        "Através da Herança, as Classes filhas de Automóvel vão herdar esses atributos e comportamentos, sem precisar reescrevê-los reduzindo assim o tempo de desenvolvimento!"
      ]
    },
    {
      "cell_type": "code",
      "execution_count": 14,
      "metadata": {
        "id": "W98XXgk4EKLU"
      },
      "outputs": [],
      "source": [
        "class BoloDeAniversario(Bolo):\n",
        "    def __init__(self, sabor, tamanho, numero_de_velas):\n",
        "        super().__init__(sabor, tamanho)  # Chama o inicializador da superclasse\n",
        "        self.numero_de_velas = numero_de_velas  # Novo atributo específico\n",
        "\n",
        "    # Novo método específico para acender as velas\n",
        "    def acender_velas(self):\n",
        "        if self.preparado:\n",
        "            print(f\"As {self.numero_de_velas} velas do bolo de {self.sabor} foram acesas!\")\n",
        "        else:\n",
        "            print(\"O bolo precisa estar pronto para acender as velas.\")\n",
        "\n",
        "    # Método sobrescrito para incluir a informação das velas\n",
        "    def descrever(self):\n",
        "        descricao_base = super().descrever()  # Chama o método descrever da superclasse\n",
        "        return f\"{descricao_base} Ele tem {self.numero_de_velas} velas.\"\n"
      ]
    },
    {
      "cell_type": "code",
      "execution_count": 15,
      "metadata": {
        "colab": {
          "base_uri": "https://localhost:8080/"
        },
        "id": "fOfjdZDKEQ9Q",
        "outputId": "15e84bf8-af27-49b1-b3fa-187d029d8d8e"
      },
      "outputs": [
        {
          "name": "stdout",
          "output_type": "stream",
          "text": [
            "A temperatura do forno está definida para 180°C.\n",
            "farinha adicionado aos ingredientes do bolo de morango.\n",
            "açúcar adicionado aos ingredientes do bolo de morango.\n",
            "ovos adicionado aos ingredientes do bolo de morango.\n",
            "morango adicionado aos ingredientes do bolo de morango.\n",
            "Ingredientes do bolo de morango: farinha, açúcar, ovos, morango\n",
            "O bolo de morango está sendo preparado a 180°C com os ingredientes: farinha, açúcar, ovos, morango.\n",
            "O bolo de morango está pronto!\n",
            "As 10 velas do bolo de morango foram acesas!\n",
            "Este é um bolo de morango, tamanho grande. Ele tem 10 velas.\n"
          ]
        }
      ],
      "source": [
        "# Criando um objeto da classe BoloDeAniversario\n",
        "bolo_aniversario = BoloDeAniversario(\"morango\", \"grande\", 10)\n",
        "\n",
        "# Definindo a temperatura do forno\n",
        "bolo_aniversario.definir_temperatura(180)\n",
        "\n",
        "# Adicionando ingredientes\n",
        "bolo_aniversario.adicionar_ingrediente(\"farinha\")\n",
        "bolo_aniversario.adicionar_ingrediente(\"açúcar\")\n",
        "bolo_aniversario.adicionar_ingrediente(\"ovos\")\n",
        "bolo_aniversario.adicionar_ingrediente(\"morango\")\n",
        "\n",
        "# Listando ingredientes\n",
        "print(bolo_aniversario.listar_ingredientes())\n",
        "\n",
        "# Preparando o bolo\n",
        "bolo_aniversario.preparar()\n",
        "\n",
        "# Verificando se o bolo está pronto\n",
        "print(bolo_aniversario.verificar())\n",
        "\n",
        "# Acendendo as velas\n",
        "bolo_aniversario.acender_velas()\n",
        "\n",
        "# Descrevendo o bolo\n",
        "print(bolo_aniversario.descrever())\n"
      ]
    },
    {
      "cell_type": "markdown",
      "metadata": {
        "id": "gkTD8suoE9CM"
      },
      "source": [
        "## Polimorfismo"
      ]
    },
    {
      "cell_type": "markdown",
      "metadata": {
        "id": "k382WdW7E9CN"
      },
      "source": [
        "Quando utilizamos Herança, teremos Classes filhas utilizando código comum da Classe acima, ou Classe pai.\n",
        "\n",
        "Ou seja, as Classes vão compartilhar atributos e comportamentos (herdados da Classe acima).\n",
        "\n",
        "Assim, Objetos de Classes diferentes, terão métodos e atributos compartilhados que podem ter implementações diferentes, ou seja, um método pode possuir várias formas e atributos podem adquirir valores diferentes.\n",
        "\n",
        "Daí o nome: Poli (muitas) morfismo (formas).\n",
        "\n",
        "Para entendermos melhor, vamos utilizar novamente o exemplo da entidade Carro que herda de Automóvel.\n",
        "\n",
        "Suponha agora que Automóvel possua a definição do método `acelerar()`.\n",
        "\n",
        "Por conta do conceito de Polimorfismo, objetos da Classe Moto terão uma implementação do método `acelerar()` que será diferente da implementação desse métodos em instâncias da Classe Carro!"
      ]
    },
    {
      "cell_type": "code",
      "execution_count": 16,
      "metadata": {
        "id": "yNoiv5oZEzXJ"
      },
      "outputs": [],
      "source": [
        "class BoloDeCasamento(Bolo):\n",
        "    def __init__(self, sabor, tamanho, numero_de_andares):\n",
        "        super().__init__(sabor, tamanho)\n",
        "        self.numero_de_andares = numero_de_andares\n",
        "\n",
        "    # Método específico para decorar o bolo de casamento\n",
        "    def decorar(self):\n",
        "        if self.preparado:\n",
        "            print(f\"O bolo de casamento de {self.sabor} com {self.numero_de_andares} andares está decorado!\")\n",
        "        else:\n",
        "            print(\"O bolo precisa estar pronto para ser decorado.\")\n",
        "\n",
        "    # Método sobrescrito para incluir a informação dos andares\n",
        "    def descrever(self):\n",
        "        descricao_base = super().descrever()\n",
        "        return f\"{descricao_base} Ele tem {self.numero_de_andares} andares.\"\n"
      ]
    },
    {
      "cell_type": "code",
      "execution_count": 18,
      "metadata": {
        "colab": {
          "base_uri": "https://localhost:8080/"
        },
        "id": "Txf8_2kVE2q8",
        "outputId": "1ff31582-aae8-418e-a875-8cf40d3ed743"
      },
      "outputs": [
        {
          "name": "stdout",
          "output_type": "stream",
          "text": [
            "Este é um bolo de chocolate, tamanho médio.\n",
            "Este é um bolo de morango, tamanho grande. Ele tem 10 velas.\n",
            "Este é um bolo de baunilha, tamanho enorme. Ele tem 3 andares.\n"
          ]
        }
      ],
      "source": [
        "# Criando objetos das classes Bolo, BoloDeAniversario e BoloDeCasamento\n",
        "bolo_simples = Bolo(\"chocolate\", \"médio\")\n",
        "bolo_aniversario = BoloDeAniversario(\"morango\", \"grande\", 10)\n",
        "bolo_casamento = BoloDeCasamento(\"baunilha\", \"enorme\", 3)\n",
        "\n",
        "# Lista de bolos (polimorfismo)\n",
        "bolos = [bolo_simples, bolo_aniversario, bolo_casamento]\n",
        "\n",
        "# Iterando sobre a lista de bolos e chamando o método descrever\n",
        "for bolo in bolos:\n",
        "    print(bolo.descrever())\n"
      ]
    }
  ],
  "metadata": {
    "colab": {
      "provenance": []
    },
    "kernelspec": {
      "display_name": "base",
      "language": "python",
      "name": "python3"
    },
    "language_info": {
      "codemirror_mode": {
        "name": "ipython",
        "version": 3
      },
      "file_extension": ".py",
      "mimetype": "text/x-python",
      "name": "python",
      "nbconvert_exporter": "python",
      "pygments_lexer": "ipython3",
      "version": "3.10.11"
    }
  },
  "nbformat": 4,
  "nbformat_minor": 0
}
