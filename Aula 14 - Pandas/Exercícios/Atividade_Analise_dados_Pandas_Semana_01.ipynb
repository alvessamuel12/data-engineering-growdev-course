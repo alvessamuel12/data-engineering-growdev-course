{
  "cells": [
    {
      "cell_type": "markdown",
      "metadata": {
        "id": "v8pFWwviib2C"
      },
      "source": [
        "![Growdev](https://www.growdev.com.br/assets/images/logo_growdev.png)"
      ]
    },
    {
      "cell_type": "markdown",
      "metadata": {
        "id": "6Tkl4_HxifXZ"
      },
      "source": [
        "![Formação Engenharia de Dados](https://d335luupugsy2.cloudfront.net/cms/files/524558/1707226566/$occu5m8t1op)"
      ]
    },
    {
      "cell_type": "markdown",
      "metadata": {
        "id": "ty7Bzyl1i9bN"
      },
      "source": [
        "Este material tem como objetivo incentivar a prática dos conteúdos estudados até o momento, e a pesquisa. Tenha em consideração que o exercício foi pensado para incentivar a prática dos conteúdos estudados até então, porém aprender a pesquisar faz parte do processo de aprendizagem.\n",
        "\n",
        "Fique tranquilo, faça os exercícios com calma, e boa prática!\n"
      ]
    },
    {
      "cell_type": "markdown",
      "metadata": {
        "id": "DU5-yCQwjx3V"
      },
      "source": [
        "# Orientações:\n",
        "\n",
        " - Faça uma copia deste arquivo\n",
        " - Após concluir os exercicios, suba seu exercicio para o GitHub e compartilhe o link no **google** Classroom\n"
      ]
    },
    {
      "cell_type": "markdown",
      "metadata": {
        "id": "jPJ5hyxa2cos"
      },
      "source": [
        "\n",
        "Utilize o dataset contido nesse [link](https://www.kaggle.com/datasets/upadorprofzs/testes), e responda as questões abaixo.\n",
        "\n",
        "O dataset contém dados estatísticos do IBGE relativos à escolaridade, renda entre outros campos avaliados pela  PNAD (Pesquisa Nacional por Amostra de Domicílios).\n",
        "\n",
        "Os dados podem representar informações relevantes e reveladoras sobre a distribuição de renda e possivelmente alguns indicadores sobre tais situações encontradas a partir dos dados."
      ]
    },
    {
      "cell_type": "code",
      "execution_count": 61,
      "metadata": {},
      "outputs": [
        {
          "name": "stdout",
          "output_type": "stream",
          "text": [
            "<class 'pandas.core.frame.DataFrame'>\n",
            "RangeIndex: 76840 entries, 0 to 76839\n",
            "Data columns (total 7 columns):\n",
            " #   Column          Non-Null Count  Dtype  \n",
            "---  ------          --------------  -----  \n",
            " 0   UF              76840 non-null  int64  \n",
            " 1   Sexo            76840 non-null  int64  \n",
            " 2   Idade           76840 non-null  int64  \n",
            " 3   Cor             76840 non-null  int64  \n",
            " 4   Anos de Estudo  76840 non-null  int64  \n",
            " 5   Renda           76840 non-null  int64  \n",
            " 6   Altura          76840 non-null  float64\n",
            "dtypes: float64(1), int64(6)\n",
            "memory usage: 4.1 MB\n"
          ]
        }
      ],
      "source": [
        "import pandas as pd\n",
        "import pprint\n",
        "\n",
        "df = pd.read_csv('./dados.csv')\n",
        "\n",
        "df.info()"
      ]
    },
    {
      "cell_type": "code",
      "execution_count": 62,
      "metadata": {},
      "outputs": [
        {
          "data": {
            "text/html": [
              "<div>\n",
              "<style scoped>\n",
              "    .dataframe tbody tr th:only-of-type {\n",
              "        vertical-align: middle;\n",
              "    }\n",
              "\n",
              "    .dataframe tbody tr th {\n",
              "        vertical-align: top;\n",
              "    }\n",
              "\n",
              "    .dataframe thead th {\n",
              "        text-align: right;\n",
              "    }\n",
              "</style>\n",
              "<table border=\"1\" class=\"dataframe\">\n",
              "  <thead>\n",
              "    <tr style=\"text-align: right;\">\n",
              "      <th></th>\n",
              "      <th>UF</th>\n",
              "      <th>Sexo</th>\n",
              "      <th>Idade</th>\n",
              "      <th>Cor</th>\n",
              "      <th>Anos de Estudo</th>\n",
              "      <th>Renda</th>\n",
              "      <th>Altura</th>\n",
              "    </tr>\n",
              "  </thead>\n",
              "  <tbody>\n",
              "    <tr>\n",
              "      <th>0</th>\n",
              "      <td>11</td>\n",
              "      <td>0</td>\n",
              "      <td>23</td>\n",
              "      <td>8</td>\n",
              "      <td>12</td>\n",
              "      <td>800</td>\n",
              "      <td>1.603808</td>\n",
              "    </tr>\n",
              "    <tr>\n",
              "      <th>1</th>\n",
              "      <td>11</td>\n",
              "      <td>1</td>\n",
              "      <td>23</td>\n",
              "      <td>2</td>\n",
              "      <td>12</td>\n",
              "      <td>1150</td>\n",
              "      <td>1.739790</td>\n",
              "    </tr>\n",
              "    <tr>\n",
              "      <th>2</th>\n",
              "      <td>11</td>\n",
              "      <td>1</td>\n",
              "      <td>35</td>\n",
              "      <td>8</td>\n",
              "      <td>15</td>\n",
              "      <td>880</td>\n",
              "      <td>1.760444</td>\n",
              "    </tr>\n",
              "    <tr>\n",
              "      <th>3</th>\n",
              "      <td>11</td>\n",
              "      <td>0</td>\n",
              "      <td>46</td>\n",
              "      <td>2</td>\n",
              "      <td>6</td>\n",
              "      <td>3500</td>\n",
              "      <td>1.783158</td>\n",
              "    </tr>\n",
              "    <tr>\n",
              "      <th>4</th>\n",
              "      <td>11</td>\n",
              "      <td>1</td>\n",
              "      <td>47</td>\n",
              "      <td>8</td>\n",
              "      <td>9</td>\n",
              "      <td>150</td>\n",
              "      <td>1.690631</td>\n",
              "    </tr>\n",
              "    <tr>\n",
              "      <th>5</th>\n",
              "      <td>11</td>\n",
              "      <td>1</td>\n",
              "      <td>34</td>\n",
              "      <td>8</td>\n",
              "      <td>12</td>\n",
              "      <td>790</td>\n",
              "      <td>1.637906</td>\n",
              "    </tr>\n",
              "    <tr>\n",
              "      <th>6</th>\n",
              "      <td>11</td>\n",
              "      <td>0</td>\n",
              "      <td>57</td>\n",
              "      <td>8</td>\n",
              "      <td>12</td>\n",
              "      <td>3150</td>\n",
              "      <td>1.570078</td>\n",
              "    </tr>\n",
              "    <tr>\n",
              "      <th>7</th>\n",
              "      <td>11</td>\n",
              "      <td>1</td>\n",
              "      <td>60</td>\n",
              "      <td>8</td>\n",
              "      <td>12</td>\n",
              "      <td>1700</td>\n",
              "      <td>1.608495</td>\n",
              "    </tr>\n",
              "    <tr>\n",
              "      <th>8</th>\n",
              "      <td>11</td>\n",
              "      <td>1</td>\n",
              "      <td>50</td>\n",
              "      <td>4</td>\n",
              "      <td>14</td>\n",
              "      <td>1800</td>\n",
              "      <td>1.780329</td>\n",
              "    </tr>\n",
              "    <tr>\n",
              "      <th>9</th>\n",
              "      <td>11</td>\n",
              "      <td>0</td>\n",
              "      <td>26</td>\n",
              "      <td>8</td>\n",
              "      <td>12</td>\n",
              "      <td>1150</td>\n",
              "      <td>1.793203</td>\n",
              "    </tr>\n",
              "  </tbody>\n",
              "</table>\n",
              "</div>"
            ],
            "text/plain": [
              "   UF  Sexo  Idade  Cor  Anos de Estudo  Renda    Altura\n",
              "0  11     0     23    8              12    800  1.603808\n",
              "1  11     1     23    2              12   1150  1.739790\n",
              "2  11     1     35    8              15    880  1.760444\n",
              "3  11     0     46    2               6   3500  1.783158\n",
              "4  11     1     47    8               9    150  1.690631\n",
              "5  11     1     34    8              12    790  1.637906\n",
              "6  11     0     57    8              12   3150  1.570078\n",
              "7  11     1     60    8              12   1700  1.608495\n",
              "8  11     1     50    4              14   1800  1.780329\n",
              "9  11     0     26    8              12   1150  1.793203"
            ]
          },
          "execution_count": 62,
          "metadata": {},
          "output_type": "execute_result"
        }
      ],
      "source": [
        "def fix_sex_label_info(df):\n",
        "    return df['Sexo'].replace({0: 'Masculino', 1: 'Feminino'})\n",
        "\n",
        "\n",
        "ufs_label = {\n",
        "    11: \"Rondônia\",\n",
        "    12: \"Acre\",\n",
        "    13: \"Amazonas\",\n",
        "    14: \"Roraima\",\n",
        "    15: \"Pará\",\n",
        "    16: \"Amapá\",\n",
        "    17: \"Tocantins\",\n",
        "    21: \"Maranhão\",\n",
        "    22: \"Piauí\",\n",
        "    23: \"Ceará\",\n",
        "    24: \"Rio Grande do Norte\",\n",
        "    25: \"Paraíba\",\n",
        "    26: \"Pernambuco\",\n",
        "    27: \"Alagoas\",\n",
        "    28: \"Sergipe\",\n",
        "    29: \"Bahia\",\n",
        "    31: \"Minas Gerais\",\n",
        "    32: \"Espírito Santo\",\n",
        "    33: \"Rio de Janeiro\",\n",
        "    35: \"São Paulo\",\n",
        "    41: \"Paraná\",\n",
        "    42: \"Santa Catarina\",\n",
        "    43: \"Rio Grande do Sul\",\n",
        "    50: \"Mato Grosso do Sul\",\n",
        "    51: \"Mato Grosso\",\n",
        "    52: \"Goiás\",\n",
        "    53: \"Distrito Federal\"\n",
        "}\n",
        "\n",
        "colors_label = {\n",
        "    0: 'Indígena',\n",
        "    2: 'Branca',\n",
        "    4: 'Preta',\n",
        "    6: 'Amarela',\n",
        "    8: 'Parda',\n",
        "    9: 'Sem declaração'\n",
        "}\n",
        "\n",
        "\n",
        "df.head(10)"
      ]
    },
    {
      "cell_type": "markdown",
      "metadata": {
        "id": "EzT810tnlmfE"
      },
      "source": [
        "# Exercícios"
      ]
    },
    {
      "cell_type": "markdown",
      "metadata": {
        "id": "sYEv1vohLu34"
      },
      "source": [
        "Qual a quantidade de pessoas nas seguintes faixas etárias\n",
        "- 20 anos ou menos\n",
        "- 21 a 35 anos\n",
        "- 36 a 50 anos\n",
        "- 51 a 65 anos\n",
        "- maiores de 65 anos\n",
        "\n"
      ]
    },
    {
      "cell_type": "code",
      "execution_count": 63,
      "metadata": {
        "id": "0drCl45SMELV"
      },
      "outputs": [
        {
          "data": {
            "text/html": [
              "<div>\n",
              "<style scoped>\n",
              "    .dataframe tbody tr th:only-of-type {\n",
              "        vertical-align: middle;\n",
              "    }\n",
              "\n",
              "    .dataframe tbody tr th {\n",
              "        vertical-align: top;\n",
              "    }\n",
              "\n",
              "    .dataframe thead th {\n",
              "        text-align: right;\n",
              "    }\n",
              "</style>\n",
              "<table border=\"1\" class=\"dataframe\">\n",
              "  <thead>\n",
              "    <tr style=\"text-align: right;\">\n",
              "      <th></th>\n",
              "      <th>Faixa Etária</th>\n",
              "      <th>Quantidade</th>\n",
              "    </tr>\n",
              "  </thead>\n",
              "  <tbody>\n",
              "    <tr>\n",
              "      <th>0</th>\n",
              "      <td>-20</td>\n",
              "      <td>764</td>\n",
              "    </tr>\n",
              "    <tr>\n",
              "      <th>1</th>\n",
              "      <td>21-35</td>\n",
              "      <td>20654</td>\n",
              "    </tr>\n",
              "    <tr>\n",
              "      <th>2</th>\n",
              "      <td>36-50</td>\n",
              "      <td>31770</td>\n",
              "    </tr>\n",
              "    <tr>\n",
              "      <th>3</th>\n",
              "      <td>51-65</td>\n",
              "      <td>20006</td>\n",
              "    </tr>\n",
              "    <tr>\n",
              "      <th>4</th>\n",
              "      <td>66-</td>\n",
              "      <td>3646</td>\n",
              "    </tr>\n",
              "  </tbody>\n",
              "</table>\n",
              "</div>"
            ],
            "text/plain": [
              "  Faixa Etária  Quantidade\n",
              "0          -20         764\n",
              "1        21-35       20654\n",
              "2        36-50       31770\n",
              "3        51-65       20006\n",
              "4          66-        3646"
            ]
          },
          "execution_count": 63,
          "metadata": {},
          "output_type": "execute_result"
        }
      ],
      "source": [
        "def build_age_groups(df):\n",
        "    return {\n",
        "        '-20': len(df[df['Idade'] <= 20]),\n",
        "        '21-35': len(df[(df['Idade'] > 20) & (df['Idade'] <= 35)]),\n",
        "        '36-50': len(df[(df['Idade'] >= 36) & (df['Idade'] <= 50)]),\n",
        "        '51-65': len(df[(df['Idade'] >= 51) & (df['Idade'] <= 65)]),\n",
        "        '66-': len(df[df['Idade'] > 65])\n",
        "    }\n",
        "\n",
        "\n",
        "age_groups_df = pd.DataFrame(list(build_age_groups(df).items()), columns=['Faixa Etária', 'Quantidade'])\n",
        "age_groups_df\n"
      ]
    },
    {
      "cell_type": "markdown",
      "metadata": {
        "id": "6y7X1dc-MFr1"
      },
      "source": [
        "Qual é a média de escolaridade em cada faixa etária?\n"
      ]
    },
    {
      "cell_type": "code",
      "execution_count": 64,
      "metadata": {
        "id": "6X6M5T7EMb-G"
      },
      "outputs": [
        {
          "data": {
            "text/html": [
              "<div>\n",
              "<style scoped>\n",
              "    .dataframe tbody tr th:only-of-type {\n",
              "        vertical-align: middle;\n",
              "    }\n",
              "\n",
              "    .dataframe tbody tr th {\n",
              "        vertical-align: top;\n",
              "    }\n",
              "\n",
              "    .dataframe thead th {\n",
              "        text-align: right;\n",
              "    }\n",
              "</style>\n",
              "<table border=\"1\" class=\"dataframe\">\n",
              "  <thead>\n",
              "    <tr style=\"text-align: right;\">\n",
              "      <th></th>\n",
              "      <th>Faixa Etária</th>\n",
              "      <th>Média de Escolaridade</th>\n",
              "    </tr>\n",
              "  </thead>\n",
              "  <tbody>\n",
              "    <tr>\n",
              "      <th>0</th>\n",
              "      <td>-20</td>\n",
              "      <td>9.7 anos</td>\n",
              "    </tr>\n",
              "    <tr>\n",
              "      <th>1</th>\n",
              "      <td>21-35</td>\n",
              "      <td>10.81 anos</td>\n",
              "    </tr>\n",
              "    <tr>\n",
              "      <th>2</th>\n",
              "      <td>36-50</td>\n",
              "      <td>9.76 anos</td>\n",
              "    </tr>\n",
              "    <tr>\n",
              "      <th>3</th>\n",
              "      <td>51-65</td>\n",
              "      <td>8.27 anos</td>\n",
              "    </tr>\n",
              "    <tr>\n",
              "      <th>4</th>\n",
              "      <td>66-</td>\n",
              "      <td>5.84 anos</td>\n",
              "    </tr>\n",
              "  </tbody>\n",
              "</table>\n",
              "</div>"
            ],
            "text/plain": [
              "  Faixa Etária Média de Escolaridade\n",
              "0          -20              9.7 anos\n",
              "1        21-35            10.81 anos\n",
              "2        36-50             9.76 anos\n",
              "3        51-65             8.27 anos\n",
              "4          66-             5.84 anos"
            ]
          },
          "execution_count": 64,
          "metadata": {},
          "output_type": "execute_result"
        }
      ],
      "source": [
        "def build_mean_scholarship_age_groups(df):\n",
        "    return {\n",
        "        '-20': f\"{round(df[df['Idade'] <= 20]['Anos de Estudo'].mean(), 2)} anos\",\n",
        "        '21-35': f\"{round(df[(df['Idade'] > 20) & (df['Idade'] <= 35)]['Anos de Estudo'].mean(), 2)} anos\",\n",
        "        '36-50': f\"{round(df[(df['Idade'] >= 36) & (df['Idade'] <= 50)]['Anos de Estudo'].mean(), 2)} anos\",\n",
        "        '51-65': f\"{round(df[(df['Idade'] >= 51) & (df['Idade'] <= 65)]['Anos de Estudo'].mean(), 2)} anos\",\n",
        "        '66-': f\"{round(df[df['Idade'] > 65]['Anos de Estudo'].mean(), 2)} anos\"\n",
        "    }\n",
        "\n",
        "\n",
        "mean_age_groups_df = pd.DataFrame(list(build_mean_scholarship_age_groups(df).items()), columns=['Faixa Etária', 'Média de Escolaridade'])\n",
        "mean_age_groups_df"
      ]
    },
    {
      "cell_type": "markdown",
      "metadata": {
        "id": "FgEq2x_mMicx"
      },
      "source": [
        "Qual a UF que concentra a maior renda?\n"
      ]
    },
    {
      "cell_type": "code",
      "execution_count": 65,
      "metadata": {
        "id": "EFe-4pq8NGRf"
      },
      "outputs": [
        {
          "name": "stdout",
          "output_type": "stream",
          "text": [
            "UF com maior renda: São Paulo\n",
            "Renda somada: 22539969\n"
          ]
        }
      ],
      "source": [
        "uf_group = df.groupby('UF')['Renda'].sum()\n",
        "\n",
        "\n",
        "print(f'UF com maior renda: {ufs_label[uf_group.idxmax()]}\\n'+\n",
        "      f'Renda somada: {uf_group.max()}')"
      ]
    },
    {
      "cell_type": "markdown",
      "metadata": {
        "id": "VFXayO6DNJ3F"
      },
      "source": [
        "Qual a renda média de pessoas pretas e brancas de homens e mulheres?\n"
      ]
    },
    {
      "cell_type": "code",
      "execution_count": 66,
      "metadata": {
        "id": "JUO0B9kWNcCX"
      },
      "outputs": [
        {
          "name": "stdout",
          "output_type": "stream",
          "text": [
            "Renda Média por Sexo e Cor:\n",
            "\n",
            "\t1. Homens:   R$ 2192.44\n",
            "\t2. Mulheres: R$ 1566.85\n",
            "\t3. Brancas:  R$ 2679.02\n",
            "\t4. Pretas:   R$ 1442.29\n"
          ]
        }
      ],
      "source": [
        "renda_media_homens = round(df[df['Sexo'] == 0]['Renda'].mean(), 2)\n",
        "renda_media_mulheres = round(df[df['Sexo'] == 1]['Renda'].mean(), 2)\n",
        "renda_media_brancos = round(df[df['Cor'] == 2]['Renda'].mean(), 2)\n",
        "renda_media_pretos = round(df[df['Cor'] == 4]['Renda'].mean(), 2)\n",
        "\n",
        "print('Renda Média por Sexo e Cor:\\n')\n",
        "print(f'\\t1. Homens:   R$ {renda_media_homens}\\n'+\n",
        "      f'\\t2. Mulheres: R$ {renda_media_mulheres}\\n'+\n",
        "      f'\\t3. Brancas:  R$ {renda_media_brancos}\\n'+\n",
        "      f'\\t4. Pretas:   R$ {renda_media_pretos}')"
      ]
    },
    {
      "cell_type": "markdown",
      "metadata": {
        "id": "aqaMxrGMNhQv"
      },
      "source": [
        "Qual a renda média concentrada em cada faixa etária?\n",
        "\n",
        "\n"
      ]
    },
    {
      "cell_type": "code",
      "execution_count": 67,
      "metadata": {
        "id": "yoT1FXJSzKwj"
      },
      "outputs": [
        {
          "data": {
            "text/html": [
              "<div>\n",
              "<style scoped>\n",
              "    .dataframe tbody tr th:only-of-type {\n",
              "        vertical-align: middle;\n",
              "    }\n",
              "\n",
              "    .dataframe tbody tr th {\n",
              "        vertical-align: top;\n",
              "    }\n",
              "\n",
              "    .dataframe thead th {\n",
              "        text-align: right;\n",
              "    }\n",
              "</style>\n",
              "<table border=\"1\" class=\"dataframe\">\n",
              "  <thead>\n",
              "    <tr style=\"text-align: right;\">\n",
              "      <th></th>\n",
              "      <th>Faixa Etária</th>\n",
              "      <th>Renda Média</th>\n",
              "    </tr>\n",
              "  </thead>\n",
              "  <tbody>\n",
              "    <tr>\n",
              "      <th>0</th>\n",
              "      <td>-20</td>\n",
              "      <td>985.35</td>\n",
              "    </tr>\n",
              "    <tr>\n",
              "      <th>1</th>\n",
              "      <td>21-35</td>\n",
              "      <td>1748.29</td>\n",
              "    </tr>\n",
              "    <tr>\n",
              "      <th>2</th>\n",
              "      <td>36-50</td>\n",
              "      <td>2113.76</td>\n",
              "    </tr>\n",
              "    <tr>\n",
              "      <th>3</th>\n",
              "      <td>51-65</td>\n",
              "      <td>2150.20</td>\n",
              "    </tr>\n",
              "    <tr>\n",
              "      <th>4</th>\n",
              "      <td>66-</td>\n",
              "      <td>1831.23</td>\n",
              "    </tr>\n",
              "  </tbody>\n",
              "</table>\n",
              "</div>"
            ],
            "text/plain": [
              "  Faixa Etária  Renda Média\n",
              "0          -20       985.35\n",
              "1        21-35      1748.29\n",
              "2        36-50      2113.76\n",
              "3        51-65      2150.20\n",
              "4          66-      1831.23"
            ]
          },
          "execution_count": 67,
          "metadata": {},
          "output_type": "execute_result"
        }
      ],
      "source": [
        "def build_mean_income_age_groups(df):\n",
        "    return {\n",
        "        '-20': round(df[df['Idade'] <= 20]['Renda'].mean(), 2),\n",
        "        '21-35': round(df[(df['Idade'] > 20) & (df['Idade'] <= 35)]['Renda'].mean(), 2),\n",
        "        '36-50': round(df[(df['Idade'] >= 36) & (df['Idade'] <= 50)]['Renda'].mean(), 2),\n",
        "        '51-65': round(df[(df['Idade'] >= 51) & (df['Idade'] <= 65)]['Renda'].mean(), 2),\n",
        "        '66-': round(df[df['Idade'] > 65]['Renda'].mean(), 2)\n",
        "    }\n",
        "mean_age_groups_income_df = pd.DataFrame(build_mean_income_age_groups(df).items(), columns=['Faixa Etária', 'Renda Média'])\n",
        "mean_age_groups_income_df"
      ]
    },
    {
      "cell_type": "markdown",
      "metadata": {
        "id": "jMjZzRxr29TF"
      },
      "source": [
        "Qual a renda média nas faixas de anos de estudo abaixo?\n",
        "- 2 anos ou menos\n",
        "- 3 a 6 anos\n",
        "- 7 a 10 anos\n",
        "- 10 a 12 anos\n",
        "- 13 anos ou mais\n"
      ]
    },
    {
      "cell_type": "code",
      "execution_count": 68,
      "metadata": {
        "id": "ZWpciLPN3Ckx"
      },
      "outputs": [
        {
          "data": {
            "text/html": [
              "<div>\n",
              "<style scoped>\n",
              "    .dataframe tbody tr th:only-of-type {\n",
              "        vertical-align: middle;\n",
              "    }\n",
              "\n",
              "    .dataframe tbody tr th {\n",
              "        vertical-align: top;\n",
              "    }\n",
              "\n",
              "    .dataframe thead th {\n",
              "        text-align: right;\n",
              "    }\n",
              "</style>\n",
              "<table border=\"1\" class=\"dataframe\">\n",
              "  <thead>\n",
              "    <tr style=\"text-align: right;\">\n",
              "      <th></th>\n",
              "      <th>Anos de Estudo</th>\n",
              "      <th>Renda Média</th>\n",
              "    </tr>\n",
              "  </thead>\n",
              "  <tbody>\n",
              "    <tr>\n",
              "      <th>0</th>\n",
              "      <td>-2</td>\n",
              "      <td>747.10</td>\n",
              "    </tr>\n",
              "    <tr>\n",
              "      <th>1</th>\n",
              "      <td>3-6</td>\n",
              "      <td>1089.38</td>\n",
              "    </tr>\n",
              "    <tr>\n",
              "      <th>2</th>\n",
              "      <td>7-10</td>\n",
              "      <td>1378.63</td>\n",
              "    </tr>\n",
              "    <tr>\n",
              "      <th>3</th>\n",
              "      <td>10-12</td>\n",
              "      <td>1773.13</td>\n",
              "    </tr>\n",
              "    <tr>\n",
              "      <th>4</th>\n",
              "      <td>13-</td>\n",
              "      <td>4434.41</td>\n",
              "    </tr>\n",
              "  </tbody>\n",
              "</table>\n",
              "</div>"
            ],
            "text/plain": [
              "  Anos de Estudo  Renda Média\n",
              "0             -2       747.10\n",
              "1            3-6      1089.38\n",
              "2           7-10      1378.63\n",
              "3          10-12      1773.13\n",
              "4            13-      4434.41"
            ]
          },
          "execution_count": 68,
          "metadata": {},
          "output_type": "execute_result"
        }
      ],
      "source": [
        "def build_mean_scholarship_by_sex_of_indigenas(df):\n",
        "    SCHOLARSHIP_LABEL = 'Anos de Estudo'\n",
        "    return {\n",
        "        '-2': round(df[df[SCHOLARSHIP_LABEL] <= 2]['Renda'].mean(), 2),\n",
        "        '3-6': round(df[(df[SCHOLARSHIP_LABEL] > 2) & (df[SCHOLARSHIP_LABEL] <= 6)]['Renda'].mean(), 2),\n",
        "        '7-10': round(df[(df[SCHOLARSHIP_LABEL] >= 7) & (df[SCHOLARSHIP_LABEL] < 10)]['Renda'].mean(), 2),\n",
        "        '10-12': round(df[(df[SCHOLARSHIP_LABEL] >= 10) & (df[SCHOLARSHIP_LABEL] <= 12)]['Renda'].mean(), 2),\n",
        "        '13-': round(df[df[SCHOLARSHIP_LABEL] > 12]['Renda'].mean(), 2)\n",
        "    }\n",
        "mean_income_scholarship_groups_df = pd.DataFrame(build_mean_scholarship_by_sex_of_indigenas(df).items(), columns=['Anos de Estudo', 'Renda Média'])\n",
        "mean_income_scholarship_groups_df"
      ]
    },
    {
      "cell_type": "markdown",
      "metadata": {
        "id": "fDxIIqqS3DHs"
      },
      "source": [
        "Qual a escolaridade entre indígenas, para homens e mulheres?\n"
      ]
    },
    {
      "cell_type": "code",
      "execution_count": 69,
      "metadata": {
        "id": "M85a5qNt3E2y"
      },
      "outputs": [
        {
          "data": {
            "text/html": [
              "<div>\n",
              "<style scoped>\n",
              "    .dataframe tbody tr th:only-of-type {\n",
              "        vertical-align: middle;\n",
              "    }\n",
              "\n",
              "    .dataframe tbody tr th {\n",
              "        vertical-align: top;\n",
              "    }\n",
              "\n",
              "    .dataframe thead th {\n",
              "        text-align: right;\n",
              "    }\n",
              "</style>\n",
              "<table border=\"1\" class=\"dataframe\">\n",
              "  <thead>\n",
              "    <tr style=\"text-align: right;\">\n",
              "      <th></th>\n",
              "      <th>Sexo</th>\n",
              "      <th>Média Anos de Estudo</th>\n",
              "    </tr>\n",
              "  </thead>\n",
              "  <tbody>\n",
              "    <tr>\n",
              "      <th>0</th>\n",
              "      <td>Feminino</td>\n",
              "      <td>9.11</td>\n",
              "    </tr>\n",
              "    <tr>\n",
              "      <th>1</th>\n",
              "      <td>Masculino</td>\n",
              "      <td>7.88</td>\n",
              "    </tr>\n",
              "  </tbody>\n",
              "</table>\n",
              "</div>"
            ],
            "text/plain": [
              "        Sexo  Média Anos de Estudo\n",
              "0   Feminino                  9.11\n",
              "1  Masculino                  7.88"
            ]
          },
          "execution_count": 69,
          "metadata": {},
          "output_type": "execute_result"
        }
      ],
      "source": [
        "# indígenas -> ['Cor'] == 0\n",
        "def build_mean_scholarship_by_sex_of_indigenas(df):\n",
        "    df['Sexo'] = df['Sexo'].replace({0: 'Masculino', 1: 'Feminino'})\n",
        "    return df.groupby('Sexo')['Anos de Estudo'].mean()\n",
        "\n",
        "table = build_mean_scholarship_by_sex_of_indigenas(df[df['Cor'] == 0].copy())\n",
        "\n",
        "indigenas_mean_scholarship = pd.DataFrame(table.items(), columns=['Sexo', 'Média Anos de Estudo'])\n",
        "\n",
        "indigenas_mean_scholarship['Média Anos de Estudo'] = round(indigenas_mean_scholarship['Média Anos de Estudo'], 2)\n",
        "\n",
        "indigenas_mean_scholarship"
      ]
    },
    {
      "cell_type": "markdown",
      "metadata": {
        "id": "hgqYfhU33FtF"
      },
      "source": [
        "Qual a média de anos de estudo entre brancos e negros?\n"
      ]
    },
    {
      "cell_type": "code",
      "execution_count": 70,
      "metadata": {
        "id": "EK9X8wTZ3UdS"
      },
      "outputs": [
        {
          "data": {
            "text/html": [
              "<div>\n",
              "<style scoped>\n",
              "    .dataframe tbody tr th:only-of-type {\n",
              "        vertical-align: middle;\n",
              "    }\n",
              "\n",
              "    .dataframe tbody tr th {\n",
              "        vertical-align: top;\n",
              "    }\n",
              "\n",
              "    .dataframe thead th {\n",
              "        text-align: right;\n",
              "    }\n",
              "</style>\n",
              "<table border=\"1\" class=\"dataframe\">\n",
              "  <thead>\n",
              "    <tr style=\"text-align: right;\">\n",
              "      <th></th>\n",
              "      <th>Cor</th>\n",
              "      <th>Média Anos de Estudo</th>\n",
              "    </tr>\n",
              "  </thead>\n",
              "  <tbody>\n",
              "    <tr>\n",
              "      <th>0</th>\n",
              "      <td>Branca</td>\n",
              "      <td>10.49</td>\n",
              "    </tr>\n",
              "    <tr>\n",
              "      <th>1</th>\n",
              "      <td>Preta</td>\n",
              "      <td>8.86</td>\n",
              "    </tr>\n",
              "  </tbody>\n",
              "</table>\n",
              "</div>"
            ],
            "text/plain": [
              "      Cor  Média Anos de Estudo\n",
              "0  Branca                 10.49\n",
              "1   Preta                  8.86"
            ]
          },
          "execution_count": 70,
          "metadata": {},
          "output_type": "execute_result"
        }
      ],
      "source": [
        "def build_mean_scholarship_whites_n_black(df):\n",
        "    df['Cor'] = df['Cor'].replace({2: 'Branca', 4: 'Preta'})\n",
        "    return df.groupby('Cor')['Anos de Estudo'].mean()\n",
        "\n",
        "table = build_mean_scholarship_whites_n_black(df[(df['Cor'] == 2) | (df['Cor'] == 4)].copy())\n",
        "white_n_black_mean_scholarship = pd.DataFrame(table.items(), columns=['Cor', 'Média Anos de Estudo'])\n",
        "white_n_black_mean_scholarship['Média Anos de Estudo'] = round(white_n_black_mean_scholarship['Média Anos de Estudo'], 2)\n",
        "\n",
        "white_n_black_mean_scholarship"
      ]
    },
    {
      "cell_type": "markdown",
      "metadata": {
        "id": "_ZjroKKB3WBx"
      },
      "source": [
        "Qual a média de anos de estudo e de renda para mulheres brancas, e para mulheres negras?"
      ]
    },
    {
      "cell_type": "code",
      "execution_count": 71,
      "metadata": {
        "id": "7dx7zW7M3Wau"
      },
      "outputs": [
        {
          "data": {
            "text/html": [
              "<div>\n",
              "<style scoped>\n",
              "    .dataframe tbody tr th:only-of-type {\n",
              "        vertical-align: middle;\n",
              "    }\n",
              "\n",
              "    .dataframe tbody tr th {\n",
              "        vertical-align: top;\n",
              "    }\n",
              "\n",
              "    .dataframe thead th {\n",
              "        text-align: right;\n",
              "    }\n",
              "</style>\n",
              "<table border=\"1\" class=\"dataframe\">\n",
              "  <thead>\n",
              "    <tr style=\"text-align: right;\">\n",
              "      <th></th>\n",
              "      <th>Cor</th>\n",
              "      <th>Média Anos de Estudo</th>\n",
              "      <th>Média Renda</th>\n",
              "    </tr>\n",
              "  </thead>\n",
              "  <tbody>\n",
              "    <tr>\n",
              "      <th>0</th>\n",
              "      <td>Branca</td>\n",
              "      <td>11.30</td>\n",
              "      <td>2109.87</td>\n",
              "    </tr>\n",
              "    <tr>\n",
              "      <th>1</th>\n",
              "      <td>Preta</td>\n",
              "      <td>9.52</td>\n",
              "      <td>1134.60</td>\n",
              "    </tr>\n",
              "  </tbody>\n",
              "</table>\n",
              "</div>"
            ],
            "text/plain": [
              "      Cor  Média Anos de Estudo  Média Renda\n",
              "0  Branca                 11.30      2109.87\n",
              "1   Preta                  9.52      1134.60"
            ]
          },
          "execution_count": 71,
          "metadata": {},
          "output_type": "execute_result"
        }
      ],
      "source": [
        "def build_mean_scholarship_n_income_whites_n_black(df):\n",
        "    df = df.copy()\n",
        "    df['Cor'] = df['Cor'].replace({2: 'Branca', 4: 'Preta'})\n",
        "    return df.groupby(['Cor']).agg(\n",
        "        Media_Anos_de_Estudo=('Anos de Estudo', 'mean'),\n",
        "        Media_Renda=('Renda', 'mean')\n",
        "    ).reset_index()\n",
        "\n",
        "table = df[(df['Cor'] == 2) | (df['Cor'] == 4)]\n",
        "# Sexo == 1 -> Feminino\n",
        "woman_white_n_black_mean_scholarship_n_income = build_mean_scholarship_n_income_whites_n_black(table[table['Sexo'] == 1])\n",
        "\n",
        "woman_white_n_black_mean_scholarship_n_income['Media_Anos_de_Estudo'] = round(woman_white_n_black_mean_scholarship_n_income['Media_Anos_de_Estudo'], 2)\n",
        "woman_white_n_black_mean_scholarship_n_income['Media_Renda'] = round(woman_white_n_black_mean_scholarship_n_income['Media_Renda'], 2)\n",
        "\n",
        "woman_white_n_black_mean_scholarship_n_income.rename(columns={'Media_Anos_de_Estudo': 'Média Anos de Estudo', 'Media_Renda': 'Média Renda'})\n"
      ]
    },
    {
      "cell_type": "markdown",
      "metadata": {
        "id": "sG2Kkkrd3X5V"
      },
      "source": [
        " Qual é a UF com maior média de escolaridade e qual a UF com maior média de renda?"
      ]
    },
    {
      "cell_type": "code",
      "execution_count": 72,
      "metadata": {
        "id": "imgwaOGk3YNq"
      },
      "outputs": [
        {
          "name": "stdout",
          "output_type": "stream",
          "text": [
            "UF com maior tempo médio de estudo: Distrito Federal\n",
            "Tempo médio aproximado: 12 anos\n",
            "\n",
            "-------------------\n",
            "\n",
            "UF com maior média de renda: Distrito Federal\n",
            "Maior renda média: R$ 4241.95\n"
          ]
        }
      ],
      "source": [
        "uf_group_scholarship = df.groupby('UF')['Anos de Estudo'].mean()\n",
        "\n",
        "print(f'UF com maior tempo médio de estudo: {ufs_label[uf_group_scholarship.idxmax()]}\\n'+\n",
        "      f'Tempo médio aproximado: {round(uf_group_scholarship.max())} anos')\n",
        "\n",
        "print('\\n-------------------\\n')\n",
        "\n",
        "uf_group_income = df.groupby('UF')['Renda'].mean()\n",
        "print(f'UF com maior média de renda: {ufs_label[uf_group_income.idxmax()]}\\n'+\n",
        "      f'Maior renda média: R$ {round(uf_group_income.max(), 2)}')\n"
      ]
    },
    {
      "cell_type": "markdown",
      "metadata": {
        "id": "72Oy_JJ_3Z7F"
      },
      "source": [
        "Elabore você uma pergunta sobre a base de dados e escreva o código para responder a pergunta.\n",
        "\n",
        "\n",
        "\n",
        "- Qual a média de Renda por Faixa de Altura e Altura por Cor?"
      ]
    },
    {
      "cell_type": "code",
      "execution_count": 100,
      "metadata": {
        "id": "YZFVy7UM3aPC"
      },
      "outputs": [
        {
          "name": "stdout",
          "output_type": "stream",
          "text": [
            "     Cor  Média de Altura\n",
            " Amarela            1.698\n",
            "   Parda            1.699\n",
            "  Branca            1.700\n",
            "   Preta            1.700\n",
            "Indígena            1.701\n"
          ]
        }
      ],
      "source": [
        "num_faixas = 5\n",
        "bins_alturas = [1.4, 1.5, 1.6, 1.7, 1.8, 1.9]\n",
        "labels_laturas = ['1.3-1.49', '1.4-1.59', '1.5-1.69', '1.6-1.79', '1.7-1.89']\n",
        "df['Faixa Altura'] = pd.cut(df['Altura'], bins=bins_alturas, labels=labels_laturas)\n",
        "\n",
        "table = df.groupby('Faixa Altura')['Renda'].mean()\n",
        "table = pd.DataFrame(table.items(), columns=['Faixa Altura', 'Média Renda'])\n",
        "table['Média Renda'] = round(table['Média Renda'], 2)\n",
        "table\n",
        "\n",
        "df['Cor'] = df['Cor'].replace(colors_label)\n",
        "table = df.groupby('Cor')['Altura'].mean()\n",
        "table = pd.DataFrame(table.items(), columns=['Cor', 'Média de Altura'])\n",
        "table['Média de Altura'] = round(table['Média de Altura'], 3)\n",
        "table.sort_values(by='Média de Altura', inplace=True)\n",
        "print(table.to_string(index=False))"
      ]
    }
  ],
  "metadata": {
    "colab": {
      "provenance": []
    },
    "kernelspec": {
      "display_name": "Python 3",
      "name": "python3"
    },
    "language_info": {
      "codemirror_mode": {
        "name": "ipython",
        "version": 3
      },
      "file_extension": ".py",
      "mimetype": "text/x-python",
      "name": "python",
      "nbconvert_exporter": "python",
      "pygments_lexer": "ipython3",
      "version": "3.10.11"
    }
  },
  "nbformat": 4,
  "nbformat_minor": 0
}
