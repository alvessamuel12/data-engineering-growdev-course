{
  "cells": [
    {
      "cell_type": "markdown",
      "metadata": {
        "id": "w33H4DAgDtV1"
      },
      "source": [
        "![Growdev](https://www.growdev.com.br/assets/images/logo_growdev.png)"
      ]
    },
    {
      "cell_type": "markdown",
      "metadata": {
        "id": "alRbV7WhDtV4"
      },
      "source": [
        "![Formação Engenharia de Dados](https://d335luupugsy2.cloudfront.net/cms/files/524558/1707226566/$occu5m8t1op)"
      ]
    },
    {
      "cell_type": "markdown",
      "metadata": {
        "id": "zZC2uJNXDtV5"
      },
      "source": [
        "# Tópicos da Aula de Hoje"
      ]
    },
    {
      "cell_type": "markdown",
      "metadata": {
        "id": "WTwekHZyDtV5"
      },
      "source": [
        "- Arquivos CSV e TXT\n",
        "- Diretórios em Python\n",
        "- Bibliotecas: os; math; random\n",
        "- Exercícios Práticos"
      ]
    },
    {
      "cell_type": "markdown",
      "metadata": {
        "id": "PkuDYb9pDtV5"
      },
      "source": [
        "**Bora pra aula?**"
      ]
    },
    {
      "cell_type": "markdown",
      "metadata": {
        "id": "V5vdDX0tDtV6"
      },
      "source": [
        "# Arquivos CSV e TXT"
      ]
    },
    {
      "cell_type": "markdown",
      "metadata": {
        "id": "HEiVEMpwDtV6"
      },
      "source": [
        "## CSV (Comma-Separated Values)"
      ]
    },
    {
      "cell_type": "code",
      "source": [
        "!pip install numpy"
      ],
      "metadata": {
        "colab": {
          "base_uri": "https://localhost:8080/"
        },
        "id": "ReKGabgmh57H",
        "outputId": "99925443-c761-46ef-ebe6-652af63bbee0"
      },
      "execution_count": null,
      "outputs": [
        {
          "output_type": "stream",
          "name": "stdout",
          "text": [
            "Requirement already satisfied: numpy in /usr/local/lib/python3.10/dist-packages (1.25.2)\n"
          ]
        }
      ]
    },
    {
      "cell_type": "code",
      "source": [
        "import numpy as np"
      ],
      "metadata": {
        "id": "MSldyTm_iVkk"
      },
      "execution_count": null,
      "outputs": []
    },
    {
      "cell_type": "markdown",
      "metadata": {
        "id": "DesXn1V6DtV6"
      },
      "source": [
        "Arquivos CSV são usados para armazenar dados tabulares, onde os valores são separados por vírgulas."
      ]
    },
    {
      "cell_type": "code",
      "execution_count": null,
      "metadata": {
        "id": "HyIk8MWuDtV6"
      },
      "outputs": [],
      "source": [
        "# Importação da biblioteca responsável por trabalhar com os arquivos csv\n",
        "import csv"
      ]
    },
    {
      "cell_type": "markdown",
      "metadata": {
        "id": "EOd-H9dsDtV8"
      },
      "source": [
        "**O que é uma biblioteca?**<br>\n",
        "\n",
        "Uma biblioteca em Python é um conjunto de módulos ou funções pré-definidos que podem ser facilmente importados e utilizados em seus próprios programas Python. Essas bibliotecas são desenvolvidas para fornecer funcionalidades específicas que podem variar amplamente, desde manipulação de arquivos, processamento de dados, matemática, geração de gráficos, até integração com APIs externas, entre muitas outras.\n",
        "\n",
        "As bibliotecas em Python podem ser distribuídas como parte da biblioteca padrão do Python, que já vem instalada com o interpretador Python, ou podem ser bibliotecas de terceiros disponíveis para instalação através do gerenciador de pacotes pip."
      ]
    },
    {
      "cell_type": "code",
      "execution_count": null,
      "metadata": {
        "id": "G5P1E_1PDtV8",
        "colab": {
          "base_uri": "https://localhost:8080/"
        },
        "outputId": "ea9ecc0e-8cc7-470c-876f-d32a386b2c63"
      },
      "outputs": [
        {
          "output_type": "stream",
          "name": "stdout",
          "text": [
            "['GD', ' Growdev']\n"
          ]
        }
      ],
      "source": [
        "with open('/content/example.csv', 'r') as arquivo:\n",
        "    leitor_csv = csv.reader(arquivo)\n",
        "    for linha in leitor_csv:\n",
        "        print(linha)"
      ]
    },
    {
      "cell_type": "markdown",
      "metadata": {
        "id": "7jr-mTwNDtV-"
      },
      "source": [
        "Repare que usamos a função ```open(path, mode)```, ela possui 2 argumentos:\n",
        "- `path`: caminho para o nosso arquivo csv\n",
        "- `mode`: modo que queremos trabalhar com o arquivo, sendo:\n",
        "  - `w` -> write (para escrita)\n",
        "  - `r` -> read (para leitura)\n",
        "  - `a` -> append (para adicionar)"
      ]
    },
    {
      "cell_type": "code",
      "execution_count": null,
      "metadata": {
        "id": "-EUWLDtFDtV-"
      },
      "outputs": [],
      "source": [
        "with open('/content/example.csv', 'a') as arquivo:\n",
        "    arquivo.write('GD, Growdev')"
      ]
    },
    {
      "cell_type": "code",
      "execution_count": null,
      "metadata": {
        "id": "M2bdIurjDtV-",
        "colab": {
          "base_uri": "https://localhost:8080/"
        },
        "outputId": "1b8cebb6-27bd-48d1-820e-800bd31bf801"
      },
      "outputs": [
        {
          "output_type": "stream",
          "name": "stdout",
          "text": [
            "['GD', ' GrowdevGD', ' Growdev']\n"
          ]
        }
      ],
      "source": [
        "with open('/content/example.csv', 'r') as arquivo:\n",
        "    leitor_csv = csv.reader(arquivo)\n",
        "    for linha in leitor_csv:\n",
        "        print(linha)"
      ]
    },
    {
      "cell_type": "code",
      "execution_count": null,
      "metadata": {
        "id": "52BaFlHsDtV-"
      },
      "outputs": [],
      "source": [
        "with open('/content/example.csv', 'w') as arquivo:\n",
        "    arquivo.write('GD, Growdev')"
      ]
    },
    {
      "cell_type": "code",
      "execution_count": null,
      "metadata": {
        "id": "SgyMbaSoDtV_",
        "colab": {
          "base_uri": "https://localhost:8080/"
        },
        "outputId": "9445fc4b-b3a4-467c-9217-d0741f5ddb19"
      },
      "outputs": [
        {
          "output_type": "stream",
          "name": "stdout",
          "text": [
            "['GD', ' Growdev']\n"
          ]
        }
      ],
      "source": [
        "with open('/content/example.csv', 'r') as arquivo:\n",
        "    leitor_csv = csv.reader(arquivo)\n",
        "    for linha in leitor_csv:\n",
        "        print(linha)"
      ]
    },
    {
      "cell_type": "markdown",
      "metadata": {
        "id": "-7nRFUyODtV_"
      },
      "source": [
        "## TXT"
      ]
    },
    {
      "cell_type": "markdown",
      "metadata": {
        "id": "hMzFaRpvDtV_"
      },
      "source": [
        "Arquivos TXT são usados para armazenar texto simples sem formatação especial."
      ]
    },
    {
      "cell_type": "code",
      "execution_count": null,
      "metadata": {
        "id": "ceeB8TOSDtV_"
      },
      "outputs": [],
      "source": [
        "with open('exemplo.txt', 'w') as arquivo: # Caso o arquivo não existe, aqui ele ja é criado\n",
        "    arquivo.write(\"Este é um exemplo de texto.\\n\") # \\n significa para descer uma linha\n",
        "    arquivo.write(\"Linha 2.\")"
      ]
    },
    {
      "cell_type": "markdown",
      "metadata": {
        "id": "ZoBTni2BDtV_"
      },
      "source": [
        "# Diretórios em Python"
      ]
    },
    {
      "cell_type": "markdown",
      "metadata": {
        "id": "InHog-sSDtV_"
      },
      "source": [
        "Python fornece a biblioteca `os` para manipulação de diretórios.\n",
        "\n",
        "A biblioteca `os` fornece funções para interagir com o sistema operacional.\n",
        "\n",
        "Possui funções como `os.mkdir()`, `os.rename()`, `os.rmdir()`, etc."
      ]
    },
    {
      "cell_type": "code",
      "execution_count": null,
      "metadata": {
        "id": "rSw2gWCcDtV_"
      },
      "outputs": [],
      "source": [
        "import os"
      ]
    },
    {
      "cell_type": "code",
      "execution_count": null,
      "metadata": {
        "id": "G2Uh5vSoDtWA",
        "outputId": "c5180eed-8758-4d3f-aee9-a9b988c71f4e",
        "colab": {
          "base_uri": "https://localhost:8080/",
          "height": 36
        }
      },
      "outputs": [
        {
          "output_type": "execute_result",
          "data": {
            "text/plain": [
              "'/content'"
            ],
            "application/vnd.google.colaboratory.intrinsic+json": {
              "type": "string"
            }
          },
          "metadata": {},
          "execution_count": 61
        }
      ],
      "source": [
        "# Exemplo: Obter a pasta atual que o Jupyter Notebook está rodando\n",
        "os.getcwd()"
      ]
    },
    {
      "cell_type": "code",
      "execution_count": null,
      "metadata": {
        "id": "O4SDLJjKDtWA"
      },
      "outputs": [],
      "source": [
        "# Exemplo: Listar arquivos em um diretório\n",
        "for arquivo in os.listdir('.'):\n",
        "    print(arquivo)"
      ]
    },
    {
      "cell_type": "code",
      "execution_count": null,
      "metadata": {
        "id": "sfsmn79bDtWA"
      },
      "outputs": [],
      "source": [
        "# Exemplo: Criar uma pasta no diretório atual\n",
        "os.mkdir('novo_diretorio')"
      ]
    },
    {
      "cell_type": "code",
      "execution_count": null,
      "metadata": {
        "id": "l-Mp6fQ0DtWA"
      },
      "outputs": [],
      "source": [
        "# Exemplo: Renomear uma pasta\n",
        "os.rename(\"novo_diretorio\", \"diretorio_renomeado\")"
      ]
    },
    {
      "cell_type": "code",
      "execution_count": null,
      "metadata": {
        "id": "ubZlzC_xDtWA"
      },
      "outputs": [],
      "source": [
        "# Exemplo: Excluir uma pasta\n",
        "os.rmdir(\"diretorio_renomeado\")"
      ]
    },
    {
      "cell_type": "markdown",
      "metadata": {
        "id": "YJU5hUrCDtWB"
      },
      "source": [
        "# Bibliotecas: math; random"
      ]
    },
    {
      "cell_type": "markdown",
      "metadata": {
        "id": "U5KR3s7rDtWB"
      },
      "source": [
        "Já falamos sobre o que são as bibliotecas do Python e já vimos algumas delas: `csv` e `os`.\n",
        "\n",
        "Vamos agora olhar mais 2 bibliotecas bem legais."
      ]
    },
    {
      "cell_type": "markdown",
      "metadata": {
        "id": "epGHS9rGDtWB"
      },
      "source": [
        "## math"
      ]
    },
    {
      "cell_type": "markdown",
      "metadata": {
        "id": "N_CuDwifDtWB"
      },
      "source": [
        "A biblioteca `math` fornece funções matemáticas comuns"
      ]
    },
    {
      "cell_type": "code",
      "execution_count": null,
      "metadata": {
        "id": "CK-uy_5hDtWB"
      },
      "outputs": [],
      "source": [
        "import math # Sempre que vamos utilizar uma biblioteca, precisamos importá-la"
      ]
    },
    {
      "cell_type": "code",
      "execution_count": null,
      "metadata": {
        "id": "fqDi4XfSDtWC"
      },
      "outputs": [],
      "source": [
        "# Função seno\n",
        "angulo = 45\n",
        "seno = math.sin(math.radians(angulo))\n",
        "print(f\"Seno de {angulo} graus: {seno}\")"
      ]
    },
    {
      "cell_type": "code",
      "execution_count": null,
      "metadata": {
        "id": "ysSlsyPiDtWC"
      },
      "outputs": [],
      "source": [
        "# Função cosseno\n",
        "angulo = 45\n",
        "cosseno = math.cos(math.radians(angulo))\n",
        "print(f\"Seno de {angulo} graus: {cosseno}\")"
      ]
    },
    {
      "cell_type": "code",
      "execution_count": null,
      "metadata": {
        "id": "LGz-9dvSDtWC"
      },
      "outputs": [],
      "source": [
        "# Função pi\n",
        "pi = math.pi\n",
        "print(f\"O valor de pi: {pi}\")"
      ]
    },
    {
      "cell_type": "code",
      "source": [
        "\n",
        "print(math.sqrt(16))    # Raiz quadrada de 16\n",
        "print(math.pow(2, 3))   # 2 elevado a 3\n",
        "print(math.ceil(4.2))   # Arredonda para o inteiro superior mais próximo\n",
        "print(math.floor(4.8))  # Arredonda para o inteiro inferior mais próximo\n"
      ],
      "metadata": {
        "id": "87f23WYuPVJd"
      },
      "execution_count": null,
      "outputs": []
    },
    {
      "cell_type": "markdown",
      "metadata": {
        "id": "HVChlbFFDtWC"
      },
      "source": [
        "## random"
      ]
    },
    {
      "cell_type": "markdown",
      "metadata": {
        "id": "pmXg2W-WDtWD"
      },
      "source": [
        "A biblioteca `random` fornece funções para gerar números aleatórios"
      ]
    },
    {
      "cell_type": "code",
      "execution_count": null,
      "metadata": {
        "id": "kwbef2-JDtWD"
      },
      "outputs": [],
      "source": [
        "import random"
      ]
    },
    {
      "cell_type": "code",
      "execution_count": null,
      "metadata": {
        "id": "u2yQrPhKDtWD"
      },
      "outputs": [],
      "source": [
        "# Exemplo: Geração de números aleatórios inteiros entre 1 e 6\n",
        "random.randint(1, 6)"
      ]
    },
    {
      "cell_type": "code",
      "execution_count": null,
      "metadata": {
        "id": "oZJF7nhZDtWD"
      },
      "outputs": [],
      "source": [
        "# Exemplo: Geração de números aleatórios floats entre 0 e 1\n",
        "random.random()"
      ]
    },
    {
      "cell_type": "code",
      "execution_count": null,
      "metadata": {
        "id": "c92hcG_2DtWE"
      },
      "outputs": [],
      "source": [
        "for i in range(1, 11):\n",
        "    resultado = random.randint(1, 6)\n",
        "    print(f\"Resultado do lançamento {i} do dado: {resultado}\")"
      ]
    },
    {
      "cell_type": "code",
      "execution_count": null,
      "metadata": {
        "id": "XyXM29TqDtWE"
      },
      "outputs": [],
      "source": [
        "# Simulando o resultado de jogar um dado x vezes\n",
        "x = 1000\n",
        "resultados = []\n",
        "\n",
        "for i in range(x):\n",
        "    resultado = random.randint(1, 6)\n",
        "    resultados.append(resultado)"
      ]
    },
    {
      "cell_type": "code",
      "source": [
        "print(resultados)"
      ],
      "metadata": {
        "id": "bXwcrXzzPr9d"
      },
      "execution_count": null,
      "outputs": []
    },
    {
      "cell_type": "code",
      "execution_count": null,
      "metadata": {
        "id": "cMBDa6AvDtWE"
      },
      "outputs": [],
      "source": [
        "# Probabilidade de eu escolher um número entre os x e ele ser o número 1\n",
        "resultados.count(1)/x"
      ]
    },
    {
      "cell_type": "code",
      "execution_count": null,
      "metadata": {
        "id": "kEdZRkEMDtWF"
      },
      "outputs": [],
      "source": [
        "# Probabilidade calculada de eu jogar um dado para cima e cair no número 1\n",
        "1/6"
      ]
    },
    {
      "cell_type": "markdown",
      "metadata": {
        "id": "_IUC9azgDtWF"
      },
      "source": [
        "Essa é a lei dos grandes números, quanto maior for o valor de x, mais a probabilidade \"empirica\" vai se aproximar da \"teórica\""
      ]
    },
    {
      "cell_type": "markdown",
      "metadata": {
        "id": "jw5pbitgDtWF"
      },
      "source": [
        "# Exercícios Práticos"
      ]
    },
    {
      "cell_type": "markdown",
      "metadata": {
        "id": "7sIPOl_9DtWF"
      },
      "source": [
        "**Escreva um programa que gere uma lista de 10 números inteiros aleatórios entre 1 e 100 e salve esse arquivo em um txt**"
      ]
    },
    {
      "cell_type": "code",
      "execution_count": null,
      "metadata": {
        "id": "4W4QPNmrDtWF"
      },
      "outputs": [],
      "source": [
        "\n"
      ]
    },
    {
      "cell_type": "markdown",
      "metadata": {
        "id": "RDaezrxuDtWG"
      },
      "source": [
        "**Escreva um programa que leia o arquivo TXT do exercício anterior e calcule a média dos números.**"
      ]
    },
    {
      "cell_type": "code",
      "source": [],
      "metadata": {
        "id": "uxY2MtwbRz5l"
      },
      "execution_count": null,
      "outputs": []
    },
    {
      "cell_type": "markdown",
      "metadata": {
        "id": "X8xmG9a7DtWG"
      },
      "source": [
        "**Escreva um programa que crie um novo diretório chamado \"dados\" e dentro dele crie dois arquivos: \"entrada.txt\" e \"saida.txt\"**"
      ]
    },
    {
      "cell_type": "code",
      "execution_count": null,
      "metadata": {
        "id": "cHUhF56aDtWG"
      },
      "outputs": [],
      "source": [
        "\n"
      ]
    },
    {
      "cell_type": "markdown",
      "metadata": {
        "id": "T1_POqFYDtWG"
      },
      "source": [
        "**Escreva um programa que liste todos os arquivos em um diretório e para cada arquivo, verifique se é um arquivo TXT ou CSV e imprima uma mensagem correspondente.**"
      ]
    },
    {
      "cell_type": "code",
      "execution_count": null,
      "metadata": {
        "id": "lv-aUlxQDtWG"
      },
      "outputs": [],
      "source": []
    }
  ],
  "metadata": {
    "kernelspec": {
      "display_name": "base",
      "language": "python",
      "name": "python3"
    },
    "language_info": {
      "codemirror_mode": {
        "name": "ipython",
        "version": 3
      },
      "file_extension": ".py",
      "mimetype": "text/x-python",
      "name": "python",
      "nbconvert_exporter": "python",
      "pygments_lexer": "ipython3",
      "version": "3.10.9"
    },
    "colab": {
      "provenance": []
    }
  },
  "nbformat": 4,
  "nbformat_minor": 0
}