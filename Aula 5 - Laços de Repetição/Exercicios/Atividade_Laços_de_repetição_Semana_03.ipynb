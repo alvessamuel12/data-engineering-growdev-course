{
  "cells": [
    {
      "cell_type": "markdown",
      "metadata": {
        "id": "v8pFWwviib2C"
      },
      "source": [
        "![Growdev](https://www.growdev.com.br/assets/images/logo_growdev.png)"
      ]
    },
    {
      "cell_type": "markdown",
      "metadata": {
        "id": "6Tkl4_HxifXZ"
      },
      "source": [
        "![Formação Engenharia de Dados](https://d335luupugsy2.cloudfront.net/cms/files/524558/1707226566/$occu5m8t1op)"
      ]
    },
    {
      "cell_type": "markdown",
      "metadata": {
        "id": "ty7Bzyl1i9bN"
      },
      "source": [
        "Este material tem como objetivo incentivar a prática dos conteúdos estudados até o momento, e a pesquisa. Tenha em consideração que o exercício foi pensado para incentivar a prática dos conteúdos estudados até então, porém aprender a pesquisar faz parte do processo de aprendizagem.\n",
        "\n",
        "Fique tranquilo, faça os exercícios com calma, e boa prática!\n"
      ]
    },
    {
      "cell_type": "markdown",
      "metadata": {
        "id": "DU5-yCQwjx3V"
      },
      "source": [
        "#Orientações:\n",
        "\n",
        " - Faça uma copia deste arquivo\n",
        " - Após concluir os exercicios, suba seu exercicio para o GitHub e compartilhe o link no **google** Classroom\n"
      ]
    },
    {
      "cell_type": "markdown",
      "metadata": {
        "id": "EzT810tnlmfE"
      },
      "source": [
        "#Exercícios"
      ]
    },
    {
      "cell_type": "markdown",
      "metadata": {
        "id": "p62-CTXgvn5E"
      },
      "source": [
        "\n",
        "1- Escrever um programa que lê 5 valores para a, um de cada vez, e conta quantos destes valores são negativos, escrevendo esta informação."
      ]
    },
    {
      "cell_type": "code",
      "execution_count": null,
      "metadata": {
        "id": "gU8NkXNYvmZv"
      },
      "outputs": [],
      "source": [
        "negativos = 0\n",
        "positivos = 0\n",
        "for i in range(5):\n",
        "    a = float(input(f'Digite o {i+1}º valor:'))\n",
        "    if a < 0:\n",
        "        negativos += 1\n",
        "    else:\n",
        "        positivos += 1\n",
        "\n",
        "print(f'Entre os seus valores {negativos} são negativos e {positivos} são positivos')"
      ]
    },
    {
      "cell_type": "markdown",
      "metadata": {
        "id": "59g_B9yRvqYS"
      },
      "source": [
        "2 - A prefeitura de uma cidade fez uma pesquisa entre seus habitantes, coletando dados sobre o salário e número de filhos. A prefeitura deseja saber:\n",
        "\n",
        "a) média do salário da população;\n",
        "\n",
        "b) média do número de filhos;\n",
        "\n",
        "c) maior salário;\n",
        "\n",
        "d) percentual de pessoas com salário até R$2000,00.\n",
        "\n",
        "Escreva um programa que receba as informações necessárias de 5 pessoas conforme a descrição e responda às questões a, b, c e d anteriores.\n"
      ]
    },
    {
      "cell_type": "code",
      "execution_count": null,
      "metadata": {
        "id": "hz6OkEJBv52O"
      },
      "outputs": [],
      "source": [
        "# 2500 - 3\n",
        "# 1500 - 2\n",
        "# 2000 - 1\n",
        "# 1700 - 5\n",
        "# 2200 - 2\n",
        "# 1980 - 2,6 - 2500 - 40%\n",
        "\n",
        "soma_salario = 0\n",
        "num_filhos = 0\n",
        "max_salario = 0\n",
        "num_pessoas_ate_dois_mil = 0\n",
        "n_pesquisas = 5\n",
        "for i in range(1, n_pesquisas+1):\n",
        "    salario_da_vez = float(input(f'Digite o salario da pesquisa n. {i}:'))\n",
        "    num_filhos_da_vez = int(input(f'Digite o número de filhos da pesquisa n. {i}:'))\n",
        "    if (salario_da_vez > max_salario):\n",
        "        max_salario = salario_da_vez\n",
        "    if (salario_da_vez <= 2000):\n",
        "        num_pessoas_ate_dois_mil += 1\n",
        "    soma_salario += salario_da_vez\n",
        "    num_filhos += num_filhos_da_vez\n",
        "\n",
        "media_salario = soma_salario/n_pesquisas\n",
        "media_filhos = num_filhos/n_pesquisas\n",
        "percentual = num_pessoas_ate_dois_mil/n_pesquisas\n",
        "\n",
        "print(f'Resultado da pesquisa:\\n'+\n",
        "        f'\\ta) Média do salário da população: {media_salario:.2f}\\n'+\n",
        "        f'\\tb) Média do número de filhos: {media_filhos:.2f}\\n'+\n",
        "        f'\\tc) Maior salário: {max_salario:.2f}\\n'+\n",
        "        f'\\td) Percentual de pessoas com salário até R$ 2000,00: {percentual:.2f}%\\n')"
      ]
    },
    {
      "cell_type": "markdown",
      "metadata": {
        "id": "V-7kNtvtwDN1"
      },
      "source": [
        "3 - Chico tem 1,50 metro e cresce 2 centímetros por ano, enquanto Zé tem 1,10 metro e cresce 3 centímetros por ano. Construa um programa que calcule e imprima quantos anos serão necessários para que Zé seja maior que Chico."
      ]
    },
    {
      "cell_type": "code",
      "execution_count": 3,
      "metadata": {
        "id": "Xlx4kqLpwE4L"
      },
      "outputs": [
        {
          "name": "stdout",
          "output_type": "stream",
          "text": [
            "2.3299999999999987\n",
            "2.3200000000000007\n",
            "Serão necessários 41 anos para que Zé seja maior do que Chico\n"
          ]
        }
      ],
      "source": [
        "altura_chico = 1.5\n",
        "altura_ze = 1.1\n",
        "valor_crescimento_chico = .02\n",
        "valor_crescimento_ze = .03\n",
        "anos = 0\n",
        "while altura_ze <= altura_chico:\n",
        "    altura_chico += valor_crescimento_chico\n",
        "    altura_ze += valor_crescimento_ze\n",
        "    anos += 1\n",
        "\n",
        "print(altura_ze)\n",
        "print(altura_chico)\n",
        "print(f'Serão necessários {anos} anos para que Zé seja maior do que Chico')"
      ]
    },
    {
      "cell_type": "markdown",
      "metadata": {
        "id": "BU7x-lumwGRO"
      },
      "source": [
        "4 - Em uma eleição presidencial existem dois candidatos. Os votos são informados através de códigos. Os dados utilizados para a contagem dos votos obedecem à seguinte codificação:  \n",
        "\n",
        "1,2 = voto para os respectivos candidatos\n",
        "\n",
        "3 = voto nulo\n",
        "\n",
        "4 = voto em branco;\n",
        "\n",
        "Elabore um programa que leia o código de votação de 5 candidatos. Calcule e escreva:\n",
        "total de votos para cada candidato\n",
        "total de votos nulos\n",
        "total de votos em branco\n"
      ]
    },
    {
      "cell_type": "code",
      "execution_count": null,
      "metadata": {
        "id": "tnOkAb44wQo5"
      },
      "outputs": [],
      "source": [
        "votos_candidato1 = 0\n",
        "votos_candidato2 = 0\n",
        "nulo = 0\n",
        "branco = 0\n",
        "valor = 0\n",
        "for i in range(5):\n",
        "    valor = int(input('Digite o valor de votação: (1 - Candidato 1 | 2 - Candidato 2 | 3 - Nulo | 4 - Branco)'))\n",
        "    while (valor not in range(1,6)):\n",
        "        print('Valor inválido! Digite novamente!')\n",
        "        valor = int(input('Digite o valor de votação: (1 - Candidato 1 | 2 - Candidato 2 | 3 - Nulo | 4 - Branco)'))\n",
        "    if (valor == 1):\n",
        "        votos_candidato1 += 1\n",
        "    elif (valor == 2):\n",
        "        votos_candidato2 += 1\n",
        "    elif (valor == 3):\n",
        "        nulo += 1\n",
        "    else:\n",
        "        branco += 1\n",
        "        \n",
        "print('Resultado:\\n\\n'+\n",
        "        f'\\tCandidato 1: {votos_candidato1} votos\\n'+\n",
        "        f'\\tCandidato 2: {votos_candidato2} votos\\n'+\n",
        "        f'\\tNulos: {nulo} votos\\n'+\n",
        "        f'\\tBrancos: {branco} votos\\n')"
      ]
    },
    {
      "cell_type": "markdown",
      "metadata": {
        "id": "oNyazyHPwzlo"
      },
      "source": [
        "5 - Escreva um programa que receba o nome de 10 pessoas e para cada pessoa, o lugar para o qual ela já viajou. Sendo que existem 3 possibilidades:\n",
        "\n",
        "Rio de Janeiro\n",
        "\n",
        "Bahia\n",
        "\n",
        "Minas Gerais\n",
        "\n",
        "Após, informar qual foi o destino mais visitado e qual o menos visitado.\n"
      ]
    },
    {
      "cell_type": "code",
      "execution_count": 5,
      "metadata": {
        "id": "FzTr2EY1w2Ey"
      },
      "outputs": [
        {
          "name": "stdout",
          "output_type": "stream",
          "text": [
            "O estado mais vizitado foi Minas Gerais (5 vizitas) e o menos vizitado foi Bahia (2 vizitas)\n"
          ]
        }
      ],
      "source": [
        "nome = ''\n",
        "cidade = 0\n",
        "count_ba = 0\n",
        "count_mg = 0\n",
        "count_rj = 0\n",
        "for i in range(1, 11):\n",
        "    nome = input(f'{i} - Digite seu nome: ')\n",
        "    while nome == '':\n",
        "        print(f'Valor \"{nome}\" inválido!')\n",
        "        input(f'{i} - Digite seu nome: ')\n",
        "    cidade = int(input('Digite o valor da cidade que você viajou (1 - Bahia | 2 - Minas Gerais | 3 - Rio de Janeiro): '))\n",
        "    while cidade == 0 or cidade > 3:\n",
        "        print(f'Valor {cidade} inválido!')\n",
        "        cidade = int(input('Digite o valor da cidade que você viajou (1 - Bahia | 2 - Minas Gerais | 3 - Rio de Janeiro): '))\n",
        "    if cidade == 1:\n",
        "        count_ba += 1\n",
        "    elif cidade == 2:\n",
        "        count_mg += 1\n",
        "    else:\n",
        "        count_rj += 1\n",
        "\n",
        "mais_vizitado = 'Bahia'\n",
        "max_vizitas = count_ba\n",
        "menos_vizitado = 'Minas Gerais'\n",
        "min_vizitas = count_mg\n",
        "\n",
        "if count_mg > count_ba and count_mg > count_rj:\n",
        "    mais_vizitado = 'Minas Gerais'\n",
        "    max_vizitas = count_mg\n",
        "elif count_rj > count_ba and count_rj > count_mg:\n",
        "    mais_vizitado = 'Rio de Janeiro'\n",
        "    max_vizitas = count_rj\n",
        "\n",
        "if mais_vizitado == 'Bahia' and count_mg > count_rj or (mais_vizitado == 'Minas Gerais' and count_ba > count_rj):\n",
        "    menos_vizitado = 'Rio de Janeiro'\n",
        "    min_vizitas = count_rj\n",
        "elif mais_vizitado == 'Rio de Janeiro' and count_ba < count_mg or (mais_vizitado == 'Minas Gerais' and count_ba < count_rj):\n",
        "    menos_vizitado = 'Bahia'\n",
        "    min_vizitas = count_ba\n",
        "\n",
        "print(f'O estado mais vizitado foi {mais_vizitado} ({max_vizitas} vizitas) e o menos vizitado foi {menos_vizitado} ({min_vizitas} vizitas)')"
      ]
    },
    {
      "cell_type": "markdown",
      "metadata": {
        "id": "HVJPsqTcw95-"
      },
      "source": [
        "6 -  A série de Fibonacci é formada pela sequência 1,1,2,3,5,8,13,21,34,55,... Faça um programa capaz de gerar a série até o n−ésimo termo."
      ]
    },
    {
      "cell_type": "code",
      "execution_count": 5,
      "metadata": {
        "id": "ZwgmpSgGw-v3"
      },
      "outputs": [
        {
          "name": "stdout",
          "output_type": "stream",
          "text": [
            "1 ==> 1\n",
            "2 ==> 1\n",
            "3 ==> 2\n",
            "4 ==> 3\n",
            "5 ==> 5\n",
            "6 ==> 8\n",
            "7 ==> 13\n",
            "8 ==> 21\n",
            "9 ==> 34\n",
            "10 ==> 55\n",
            "11 ==> 89\n",
            "12 ==> 144\n"
          ]
        }
      ],
      "source": [
        "n = int(input('Digite um número de valores para a série Fibonacci: '))\n",
        "\n",
        "aux = 0\n",
        "atual = 1\n",
        "anterior = 0\n",
        "print(f'{1} ==> {atual}')\n",
        "for i in range(n-1):\n",
        "    aux = atual\n",
        "    atual += anterior\n",
        "    anterior = aux\n",
        "    print(f'{i+2} ==> {atual}')"
      ]
    },
    {
      "cell_type": "markdown",
      "metadata": {
        "id": "DaF7vXEWxB6R"
      },
      "source": [
        "7 - Escreva um programa que conte em ordem reversa, de 25 a zero."
      ]
    },
    {
      "cell_type": "code",
      "execution_count": 7,
      "metadata": {
        "id": "2AYe_lX2xCdj"
      },
      "outputs": [
        {
          "name": "stdout",
          "output_type": "stream",
          "text": [
            "Contagem regressiva: \n",
            "25\n",
            "24\n",
            "23\n",
            "22\n",
            "21\n",
            "20\n",
            "19\n",
            "18\n",
            "17\n",
            "16\n",
            "15\n",
            "14\n",
            "13\n",
            "12\n",
            "11\n",
            "10\n",
            "9\n",
            "8\n",
            "7\n",
            "6\n",
            "5\n",
            "4\n",
            "3\n",
            "2\n",
            "1\n",
            "0\n"
          ]
        }
      ],
      "source": [
        "count = 25\n",
        "print('Contagem regressiva: ')\n",
        "while count > 0:\n",
        "    print(count)\n",
        "    count-=1\n",
        "print(0)"
      ]
    },
    {
      "cell_type": "markdown",
      "metadata": {
        "id": "Oc2yjIGqxF3h"
      },
      "source": [
        "8 - Crie um programa para que retorne o somatório de todos os números entre 1 e um valor fornecido pelo usuário. Por exemplo, se o usuário fornecer o número 4, o computador deverá calcular o somatório 1+ 2 + 3 + 4 = 10."
      ]
    },
    {
      "cell_type": "code",
      "execution_count": 11,
      "metadata": {
        "id": "m5gfIfomxGwe"
      },
      "outputs": [
        {
          "name": "stdout",
          "output_type": "stream",
          "text": [
            "A soma de 1 até 100 é 5050\n"
          ]
        }
      ],
      "source": [
        "def somatorio_ate(n):\n",
        "    return (n*(n+1))/2\n",
        "\n",
        "n = int(input('Digite um valor para verificar o valor do seu somatório a partir de 1: '))\n",
        "\n",
        "print(f'A soma de 1 até {n} é {int(somatorio_ate(n))}')"
      ]
    },
    {
      "cell_type": "markdown",
      "metadata": {
        "id": "5D368hETyJQh"
      },
      "source": [
        "9 - Escreva um programa que leia a idade e salário de 10 pessoas. Informe em seguida:\n",
        "Qual é a média de idade entre as pessoas?\n",
        "Quantas pessoas há por faixa etária, considerando:\n",
        "jovens < 18\n",
        "18 <= adultos < 60\n",
        "idosos >= 60\n",
        "Em seguida, mostre qual é a faixa etária que acumula o maior salário.\n"
      ]
    },
    {
      "cell_type": "code",
      "execution_count": 15,
      "metadata": {
        "id": "zZsS7JHm0UY6"
      },
      "outputs": [
        {
          "name": "stdout",
          "output_type": "stream",
          "text": [
            "A média de idade das pessoas é de 29.90 anos.\n",
            "Total de pessoas:\n",
            "\t* Jovens (até 17 anos): 2\n",
            "\t* Adultos (entre 18 e 59 anos): 7\n",
            "\t* Idosos (acima de 60 anos): 1\n",
            "A faixa etária com maior salário médio é adultos, com salário médio de R$3442.86.\n"
          ]
        }
      ],
      "source": [
        "idades = []\n",
        "salarios = []\n",
        "for i in range(10):\n",
        "    idade = int(input(f'{i+1} - Digite sua idade: '))\n",
        "    while idade < 0:\n",
        "        print(f'O valor {idade} é inválido. Digite um valor válido!')\n",
        "        idade = int(input(f'{i+1} - Digite sua idade: '))\n",
        "    idades.append(idade)\n",
        "    salario = float(input(f'{i+1} - Digite o valor do salário: '))\n",
        "    while salario < 0:\n",
        "        print(f'O valor R$ {salario} é inválido. Digite um valor válido!')\n",
        "        salario = float(input(f'{i+1} - Digite o valor do salário: '))\n",
        "    salarios.append(salario)\n",
        "\n",
        "# idades =   [  18,  14,   15,   20,   60,   35,   23,   54,   41,   19]\n",
        "# salarios = [1600, 700, 1200, 3000, 2700, 6000, 4000, 2500, 4000, 3000]\n",
        "\n",
        "media_idades = sum(idades)/len(idades)\n",
        "\n",
        "num_jovens = len(list(filter(lambda i: i < 18, idades)))\n",
        "num_adultos = len(list(filter(lambda i: i >= 18 and i < 60, idades)))\n",
        "num_idosos = len(list(filter(lambda i: i >= 60, idades)))\n",
        "\n",
        "soma_salario_jovens = 0\n",
        "soma_salario_adultos = 0\n",
        "soma_salario_idosos = 0\n",
        "for i, idade in enumerate(idades):\n",
        "    if idade < 18:\n",
        "        soma_salario_jovens += salarios[i]\n",
        "    elif idade >=18 and idade < 60:\n",
        "        soma_salario_adultos += salarios[i]\n",
        "    else:\n",
        "        soma_salario_idosos += salarios[i]\n",
        "\n",
        "media_salario_jovens = soma_salario_jovens/num_jovens\n",
        "media_salario_adultos = soma_salario_adultos/num_adultos\n",
        "media_salario_idosos = soma_salario_idosos/num_idosos\n",
        "\n",
        "grupo_maior_media = ''\n",
        "maior_media_salarial = 0\n",
        "if media_salario_jovens > media_salario_adultos and media_salario_jovens > media_salario_idosos:\n",
        "    grupo_maior_media = 'jovens'\n",
        "    maior_media_salarial = media_salario_jovens\n",
        "elif media_salario_adultos > media_salario_idosos:\n",
        "    grupo_maior_media = 'adultos'\n",
        "    maior_media_salarial = media_salario_adultos\n",
        "else:\n",
        "    grupo_maior_media = 'idosos'\n",
        "    maior_media_salarial = media_salario_idosos\n",
        "\n",
        "print(f\"A média de idade das pessoas é de {media_idades:.2f} anos.\")\n",
        "print(\"Total de pessoas:\")\n",
        "print(f\"  * Jovens (até 17 anos): {num_jovens}\")\n",
        "print(f\"  * Adultos (entre 18 e 59 anos): {num_adultos}\")\n",
        "print(f\"  * Idosos (acima de 60 anos): {num_idosos}\")\n",
        "print(f\"A faixa etária com maior salário médio é {grupo_maior_media}, com salário médio de R${maior_media_salarial:.2f}.\")"
      ]
    },
    {
      "cell_type": "markdown",
      "metadata": {
        "id": "L4xlYJzdhZyV"
      },
      "source": [
        "10 - Crie uma calculadora simples que realiza operações de adição, subtração, multiplicação, divisão e exponenciação. O programa deve continuar pedindo operações até que o usuário escolha sair."
      ]
    },
    {
      "cell_type": "code",
      "execution_count": 3,
      "metadata": {
        "id": "t1GTUaOshazK"
      },
      "outputs": [],
      "source": [
        "def converte_operacao(opcao):\n",
        "    if opcao == 1:\n",
        "        return '+'\n",
        "    elif opcao == 2:\n",
        "        return '-'\n",
        "    elif opcao == 3:\n",
        "        return '*'\n",
        "    elif opcao == 4:\n",
        "        return '/'\n",
        "    elif opcao == 5:\n",
        "        return '**'\n",
        "\n",
        "def calcula(n1, n2, operacao):\n",
        "    if operacao == '+':\n",
        "        return n1 + n2\n",
        "    elif operacao == '-':\n",
        "        return n1 - n2\n",
        "    elif operacao == '*':\n",
        "        return n1 * n2\n",
        "    elif operacao == '/':\n",
        "        return n1 / n2\n",
        "    elif operacao == '**':\n",
        "        return n1 ** n2\n",
        "n1 = float(input('Digite um número: '))\n",
        "aux = 0\n",
        "opcao = 1\n",
        "while True:\n",
        "    aux = n1\n",
        "    opcao = int(input('Digite a operação escolhida: 1-Adição (+) | 2-Subtração (-) | 3-Multiplicação (*) | 4-Divisão (/) | 5-Potenciação (x*) | 0-Sair'))\n",
        "    while opcao < 0 or opcao > 5:\n",
        "        print(f'A opção {opcao} não é válida!')\n",
        "        opcao = int(input('Digite a operação escolhida: 1-Adição (+) | 2-Subtração (-) | 3-Multiplicação (*) | 4-Divisão (/) | 5-Potenciação (x*) | 0-Sair'))\n",
        "    \n",
        "    if opcao == 0: break\n",
        "\n",
        "    n2 = float(input('Digite outro número: '))\n",
        "    n1 = calcula(n1, n2, converte_operacao(opcao))\n",
        "    print(f'{aux} {converte_operacao(opcao)} {n2} = {n1}')\n"
      ]
    },
    {
      "cell_type": "markdown",
      "metadata": {
        "id": "TvOVLvpYhohk"
      },
      "source": [
        "11 - Crie um jogo em que o computador escolha um número aleatório entre 1 e 100, e o jogador tenta adivinhá-lo. O programa deve dar dicas se o número é maior ou menor do que o número digitado pelo jogador. O jogo continua até que o jogador acerte o número."
      ]
    },
    {
      "cell_type": "markdown",
      "metadata": {
        "id": "GMjNhBcxo3ks"
      },
      "source": [
        "Exemplo de saída:\n",
        "\n",
        "Bem-vindo ao jogo de adivinhação!\n",
        "\n",
        "Tente adivinhar o número entre 1 e 100.\n",
        "\n",
        "Digite sua tentativa: 50\n",
        "\n",
        "O número é menor.\n",
        "\n",
        "Digite sua tentativa: 75\n",
        "\n",
        "O número é maior.\n",
        "\n",
        "Digite sua tentativa: 63\n",
        "\n",
        "O número é menor.\n",
        "\n",
        "Digite sua tentativa: 68\n",
        "\n",
        "Parabéns! Você acertou o número 68 em 4 tentativas!"
      ]
    },
    {
      "cell_type": "code",
      "execution_count": 4,
      "metadata": {
        "id": "wD7WVTzdh3Tf"
      },
      "outputs": [
        {
          "name": "stdout",
          "output_type": "stream",
          "text": [
            "Bem vindo ao jogo de advinhação!\n",
            "Tente adivinhar o número entre 1 e 100.\n",
            "O número é maior.\n",
            "O número é maior.\n",
            "O número é maior.\n",
            "O número é menor.\n",
            "O número é menor.\n",
            "O número é menor.\n",
            "O número é maior.\n",
            "O número é maior.\n",
            "Parabéns! Você acertou o número 80 em 9 tentativas!\n"
          ]
        }
      ],
      "source": [
        "import random\n",
        "\n",
        "\n",
        "num_segredo = random.randint(1, 100)\n",
        "tentativas = 0\n",
        "\n",
        "print('Bem vindo ao jogo de advinhação!')\n",
        "print(f'Tente adivinhar o número entre 1 e 100.')\n",
        "\n",
        "while True:\n",
        "    tentativa = int(input(f' Digite sua tentativa: '))\n",
        "    tentativas += 1\n",
        "\n",
        "    if tentativa == num_segredo:\n",
        "        print(f'Parabéns! Você acertou o número {num_segredo} em {tentativas} tentativas!')\n",
        "        break\n",
        "    elif tentativa < num_segredo:\n",
        "        print('O número é maior.')\n",
        "    else:\n",
        "        print('O número é menor.')"
      ]
    },
    {
      "cell_type": "markdown",
      "metadata": {
        "id": "528JJZodmafY"
      },
      "source": [
        "12 - Escreva um programa que calcula o valor de um investimento após um número específico de anos, considerando juros compostos. O usuário deve fornecer o principal (valor inicial do investimento), a taxa de juros anual (em porcentagem) e o número de anos.\n",
        "\n",
        "A fórmula para calcular o valor de um investimento após n anos com juros compostos é:\n",
        "\n",
        "A=P×(1+r)^n\n",
        "\n",
        "\n",
        "Onde:\n",
        "\n",
        "\n",
        "A é o valor do investimento após n anos,\n",
        "\n",
        "P é o principal (valor inicial do investimento),\n",
        "\n",
        "r é a taxa de juros anual (em decimal), e\n",
        "\n",
        "n é o número de anos."
      ]
    },
    {
      "cell_type": "markdown",
      "metadata": {
        "id": "-6opTpcXoxNw"
      },
      "source": [
        "\n",
        "Exemplo de saída:\n",
        "\n",
        "Digite o principal (R$): 1000\n",
        "\n",
        "Digite a taxa de juros anual (%): 5\n",
        "\n",
        "Digite o número de anos: 10\n",
        "\n",
        "O valor do investimento após 10 anos é: R$ 1628.89"
      ]
    },
    {
      "cell_type": "code",
      "execution_count": 5,
      "metadata": {
        "id": "3XHAThk1oFIT"
      },
      "outputs": [
        {
          "name": "stdout",
          "output_type": "stream",
          "text": [
            "O valor do investimento após 10 anos é: R$1628.89\n"
          ]
        }
      ],
      "source": [
        "investimento = float(input(\"Digite o valor de investimento (R$): \"))\n",
        "taxa_anual = float(input(\"Digite a taxa de juros anual (%): \"))\n",
        "anos = int(input(\"Digite o número de anos: \"))\n",
        "\n",
        "valor_final = investimento * (1 + taxa_anual / 100)**anos\n",
        "\n",
        "print(f\"O valor do investimento após {anos} anos é: R$ {valor_final:.2f}\")"
      ]
    }
  ],
  "metadata": {
    "colab": {
      "provenance": []
    },
    "kernelspec": {
      "display_name": "Python 3",
      "name": "python3"
    },
    "language_info": {
      "codemirror_mode": {
        "name": "ipython",
        "version": 3
      },
      "file_extension": ".py",
      "mimetype": "text/x-python",
      "name": "python",
      "nbconvert_exporter": "python",
      "pygments_lexer": "ipython3",
      "version": "3.10.11"
    }
  },
  "nbformat": 4,
  "nbformat_minor": 0
}
