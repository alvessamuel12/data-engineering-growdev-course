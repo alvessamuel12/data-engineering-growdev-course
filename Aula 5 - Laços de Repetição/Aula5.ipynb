{
 "cells": [
  {
   "cell_type": "markdown",
   "metadata": {},
   "source": [
    "![Growdev](https://www.growdev.com.br/assets/images/logo_growdev.png)"
   ]
  },
  {
   "cell_type": "markdown",
   "metadata": {},
   "source": [
    "![Formação Engenharia de Dados](https://d335luupugsy2.cloudfront.net/cms/files/524558/1707226566/$occu5m8t1op)"
   ]
  },
  {
   "cell_type": "markdown",
   "metadata": {},
   "source": [
    "# Tópicos da Aula de Hoje"
   ]
  },
  {
   "cell_type": "markdown",
   "metadata": {},
   "source": [
    "- Laços de Repetição: While\n",
    "- Laços de Repetição: For e Range\n",
    "- Laços de Repetição: Índices com Enumerate\n",
    "- Exercícios Práticos"
   ]
  },
  {
   "cell_type": "markdown",
   "metadata": {},
   "source": [
    "**Bora pra aula?**"
   ]
  },
  {
   "cell_type": "markdown",
   "metadata": {},
   "source": [
    "# Laços de Repetição: While"
   ]
  },
  {
   "cell_type": "markdown",
   "metadata": {},
   "source": [
    "E Se precisarmos repetir determinada tarefa? <br>\n",
    "Por exemplo: Precisamos avaliar se 1000 alunos foram aprovados, reprovados ou foram pra recuperação. Como você faria isso?"
   ]
  },
  {
   "cell_type": "markdown",
   "metadata": {},
   "source": [
    "O Loop `while` vai executar um comando baseado em uma condição. Se essa condição for verdadeira o loop roda uma iteração. No final de cada iteração, a condição é reavaliada. Caso ainda seja verdadeira, o loop continua, caso contrário ele é interrompido."
   ]
  },
  {
   "cell_type": "code",
   "execution_count": null,
   "metadata": {},
   "outputs": [],
   "source": [
    "# Exemplo de loop infinito\n",
    "i = 5 \n",
    "while i < 6:\n",
    "    print('Hello World!')"
   ]
  },
  {
   "cell_type": "code",
   "execution_count": null,
   "metadata": {},
   "outputs": [],
   "source": [
    "# Loop com condição de parada\n",
    "# Nesse caso, a cada iteração é somado +1 ao valor de i\n",
    "i = 5\n",
    "while i < 7:\n",
    "    print(i)\n",
    "    \n",
    "    i = i+1"
   ]
  },
  {
   "cell_type": "markdown",
   "metadata": {},
   "source": [
    "## Exemplo"
   ]
  },
  {
   "cell_type": "code",
   "execution_count": null,
   "metadata": {},
   "outputs": [],
   "source": [
    "senha_correta = \"senha123\""
   ]
  },
  {
   "cell_type": "code",
   "execution_count": null,
   "metadata": {},
   "outputs": [],
   "source": [
    "senha = input(\"Digite sua senha: \")"
   ]
  },
  {
   "cell_type": "code",
   "execution_count": null,
   "metadata": {},
   "outputs": [],
   "source": [
    "while senha != senha_correta:\n",
    "    print(\"Senha incorreta. Tente novamente.\")\n",
    "    senha = input(\"Digite sua senha: \")\n",
    "\n",
    "print(\"Acesso concedido!\")"
   ]
  },
  {
   "cell_type": "markdown",
   "metadata": {},
   "source": [
    "# Laços de Repetição: For e Range"
   ]
  },
  {
   "cell_type": "markdown",
   "metadata": {},
   "source": [
    "O loop For é utilizado quando queremos repetir uma operação em um número finito de vezes.\n",
    "\n",
    "No loop, uma variável definida percorre uma sequência. A cada iteração o valor da variável é atualizado com o próximo valor da lista."
   ]
  },
  {
   "cell_type": "code",
   "execution_count": null,
   "metadata": {},
   "outputs": [],
   "source": [
    "frutas = [\"maçã\", \"banana\", \"laranja\"]\n",
    "\n",
    "for fruta in frutas:\n",
    "    print(fruta)"
   ]
  },
  {
   "cell_type": "markdown",
   "metadata": {},
   "source": [
    "## Função `range()`"
   ]
  },
  {
   "cell_type": "markdown",
   "metadata": {},
   "source": [
    "A função `range()` gera uma sequência de números de acordo com os parâmetros especificados\n",
    "\n",
    "**Sintaxe**<br>\n",
    "`range(start, stop, step)`"
   ]
  },
  {
   "cell_type": "code",
   "execution_count": null,
   "metadata": {},
   "outputs": [],
   "source": [
    "for i in range(0, 11, 2):\n",
    "    print(i)"
   ]
  },
  {
   "cell_type": "code",
   "execution_count": null,
   "metadata": {},
   "outputs": [],
   "source": [
    "# Sequência de 5 números iniciando no 0 e com step 1\n",
    "for i in range(5):\n",
    "    print(i)"
   ]
  },
  {
   "cell_type": "markdown",
   "metadata": {},
   "source": [
    "## Exemplo"
   ]
  },
  {
   "cell_type": "code",
   "execution_count": null,
   "metadata": {},
   "outputs": [],
   "source": [
    "# Avaliando a aprovação de 5 alunos\n",
    "# Se média maior ou igual a 7, então ele é aprovado\n",
    "for i in range(5):\n",
    "    media_aluno = float(input('Informe a nota do aluno: '))\n",
    "    print(i)\n",
    "    if media_aluno >=7:\n",
    "        print('Aluno Aprovado!')\n",
    "    # Caso contrário, ele está reprovado\n",
    "    else:\n",
    "        print('Aluno Reprovado!')"
   ]
  },
  {
   "cell_type": "markdown",
   "metadata": {},
   "source": [
    "# Laços de Repetição: Índices com Enumerate"
   ]
  },
  {
   "cell_type": "markdown",
   "metadata": {},
   "source": [
    "A função `enumerate()` retorna tanto o índice quanto o valor de cada elemento em uma sequência\n",
    "\n",
    "**Sintaxe**<br>\n",
    "`enumerate(elemento)`"
   ]
  },
  {
   "cell_type": "code",
   "execution_count": null,
   "metadata": {},
   "outputs": [],
   "source": [
    "frutas = [\"maçã\", \"banana\", \"laranja\"]\n",
    "for indice, fruta in enumerate(frutas):\n",
    "    print(f'Índice: {indice}, Fruta: {fruta}')"
   ]
  },
  {
   "cell_type": "code",
   "execution_count": null,
   "metadata": {},
   "outputs": [],
   "source": [
    "# Também podemos utilizar o enumerate com uma string\n",
    "texto = \"Python\"\n",
    "for indice, caractere in enumerate(texto):\n",
    "    print(f'Índice: {indice}, Caractere: {caractere}')"
   ]
  },
  {
   "cell_type": "markdown",
   "metadata": {},
   "source": [
    "# Exercícios Práticos"
   ]
  },
  {
   "cell_type": "markdown",
   "metadata": {},
   "source": [
    "**Escreva um programa que solicite ao usuário um número e imprima a tabuada desse número de 1 a 10**"
   ]
  },
  {
   "cell_type": "code",
   "execution_count": null,
   "metadata": {},
   "outputs": [],
   "source": []
  },
  {
   "cell_type": "markdown",
   "metadata": {},
   "source": [
    "**Escreva um programa que calcule e imprima a soma dos números ímpares de 1 a 100**"
   ]
  },
  {
   "cell_type": "code",
   "execution_count": null,
   "metadata": {},
   "outputs": [],
   "source": []
  }
 ],
 "metadata": {
  "kernelspec": {
   "display_name": "base",
   "language": "python",
   "name": "python3"
  },
  "language_info": {
   "codemirror_mode": {
    "name": "ipython",
    "version": 3
   },
   "file_extension": ".py",
   "mimetype": "text/x-python",
   "name": "python",
   "nbconvert_exporter": "python",
   "pygments_lexer": "ipython3",
   "version": "3.10.9"
  }
 },
 "nbformat": 4,
 "nbformat_minor": 2
}
