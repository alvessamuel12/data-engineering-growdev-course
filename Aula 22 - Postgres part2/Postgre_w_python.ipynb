{
  "cells": [
    {
      "cell_type": "markdown",
      "metadata": {
        "id": "HZ_h6HyApjl8"
      },
      "source": [
        "![Growdev](https://www.growdev.com.br/assets/images/logo_growdev.png)"
      ]
    },
    {
      "cell_type": "markdown",
      "metadata": {
        "id": "0KeBto_npjl9"
      },
      "source": [
        "![Formação Engenharia de Dados](https://d335luupugsy2.cloudfront.net/cms/files/524558/1707226566/$occu5m8t1op)"
      ]
    },
    {
      "cell_type": "markdown",
      "metadata": {
        "id": "g5q-ebPgpjl-"
      },
      "source": [
        "# Tópicos da Aula de Hoje"
      ]
    },
    {
      "cell_type": "markdown",
      "metadata": {
        "id": "Y15EPWjxpjl_"
      },
      "source": [
        "- Criação de Tabelas\n",
        "- Alteração de Tabelas\n",
        "- Prática"
      ]
    },
    {
      "cell_type": "markdown",
      "metadata": {
        "id": "3cXfUDsGpjmA"
      },
      "source": [
        "**Bora pra aula?**"
      ]
    },
    {
      "cell_type": "markdown",
      "metadata": {
        "id": "CqVp3G_KpjmA"
      },
      "source": [
        "# Criação e Alteração de Tabelas em PostgreSQL\n"
      ]
    },
    {
      "cell_type": "markdown",
      "metadata": {
        "id": "umG3ZyCxpjmA"
      },
      "source": [
        "## `CREATE TABLE`"
      ]
    },
    {
      "cell_type": "markdown",
      "metadata": {
        "id": "QhbIe7I6pjmB"
      },
      "source": [
        "O comando `CREATE TABLE` é utilizado para criar novas tabelas em um banco de dados. Uma tabela é uma coleção de dados organizados em linhas e colunas, onde cada coluna tem um tipo de dado específico."
      ]
    },
    {
      "cell_type": "markdown",
      "metadata": {
        "id": "wOoQ4tHDpjmB"
      },
      "source": [
        "**Exemplo**\n",
        "```sql\n",
        "CREATE TABLE clientes (\n",
        "    id SERIAL PRIMARY KEY,\n",
        "    nome VARCHAR(100),\n",
        "    email VARCHAR(100) UNIQUE,\n",
        "    data_nascimento DATE\n",
        ")\n",
        "```"
      ]
    },
    {
      "cell_type": "markdown",
      "metadata": {
        "id": "xnFVR-C9pjmB"
      },
      "source": [
        "**Explicação:**\n",
        "\n",
        "- `SERIAL`: Gera um número sequencial automaticamente.\n",
        "- `PRIMARY KEY`: Define a coluna como chave primária, identificando unicamente cada linha.\n",
        "- `VARCHAR`: Define um campo de texto com tamanho variável.\n",
        "- `UNIQUE`: Garante que o valor no campo seja único.\n",
        "- `DATE`: Define um campo de data."
      ]
    },
    {
      "cell_type": "markdown",
      "metadata": {
        "id": "PcDWAuPbpjmC"
      },
      "source": [
        "## Tipos de Dados"
      ]
    },
    {
      "cell_type": "markdown",
      "metadata": {
        "id": "0FEdQ2e7pjmD"
      },
      "source": [
        "**Numéricos:**\n",
        "- `INTEGER`: Números inteiros.\n",
        "- `SERIAL`: Números inteiros sequenciais.\n",
        "- `NUMERIC`(precision, scale): Números com precisão definida, útil para valores monetários.\n",
        "\n",
        "**Texto:**\n",
        "- `VARCHAR`(n): Texto de comprimento variável até n caracteres.\n",
        "- `TEXT`: Texto de comprimento ilimitado.\n",
        "\n",
        "**Data/Hora:**\n",
        "- `DATE`: Data no formato ano-mês-dia.\n",
        "- `TIMESTAMP`: Data e hora.\n",
        "\n",
        "**Booleano:**\n",
        "- `BOOLEAN`: Valores TRUE ou FALSE."
      ]
    },
    {
      "cell_type": "markdown",
      "metadata": {
        "id": "1kk5SwgTpjmD"
      },
      "source": [
        "**Exemplo**\n",
        "\n",
        "```sql\n",
        "CREATE TABLE produtos (\n",
        "    id SERIAL PRIMARY KEY,\n",
        "    nome VARCHAR(255),\n",
        "    preco NUMERIC(10, 2),\n",
        "    quantidade INTEGER,\n",
        "    disponivel BOOLEAN DEFAULT TRUE\n",
        ");\n",
        "```"
      ]
    },
    {
      "cell_type": "markdown",
      "metadata": {
        "id": "cjgMh67PpjmE"
      },
      "source": [
        "**Explicação:**\n",
        "\n",
        "- `NUMERIC(10, 2)`: Define um número com 10 dígitos no total, sendo 2 após o ponto decimal.\n",
        "- `BOOLEAN`: Armazena valores TRUE ou FALSE.\n",
        "- `DEFAULT TRUE`: Define o valor padrão para a coluna."
      ]
    },
    {
      "cell_type": "markdown",
      "metadata": {
        "id": "9Pf6czLWpjmE"
      },
      "source": [
        "## Chaves Estrangeiras (Foreign Keys)"
      ]
    },
    {
      "cell_type": "markdown",
      "metadata": {
        "id": "qiaUpJlQpjmE"
      },
      "source": [
        "Chaves estrangeiras são utilizadas para estabelecer relacionamentos entre tabelas, garantindo a integridade referencial dos dados."
      ]
    },
    {
      "cell_type": "markdown",
      "metadata": {
        "id": "d5XOCKRvpjmF"
      },
      "source": [
        "**Exemplo**\n",
        "```sql\n",
        "CREATE TABLE pedidos (\n",
        "    id SERIAL PRIMARY KEY,\n",
        "    cliente_id INTEGER REFERENCES clientes(id),\n",
        "    data_pedido DATE,\n",
        "    total NUMERIC(10, 2)\n",
        ");\n",
        "```"
      ]
    },
    {
      "cell_type": "markdown",
      "metadata": {
        "id": "2IssQEvKpjmF"
      },
      "source": [
        "**Explicação:**\n",
        "\n",
        "- `REFERENCES clientes(id)`: Define cliente_id como chave estrangeira que referencia a chave primária id da tabela clientes."
      ]
    },
    {
      "cell_type": "markdown",
      "metadata": {
        "id": "RvCLXyIXpjmF"
      },
      "source": [
        "## `DROP TABLE`"
      ]
    },
    {
      "cell_type": "markdown",
      "metadata": {
        "id": "bG9PL0qypjmG"
      },
      "source": [
        "O comando DROP TABLE é utilizado para excluir uma tabela existente no banco de dados."
      ]
    },
    {
      "cell_type": "markdown",
      "metadata": {
        "id": "z9IORA2wpjmG"
      },
      "source": [
        "**Exemplo**\n",
        "\n",
        "```sql\n",
        "DROP TABLE IF EXISTS pedidos;\n",
        "```"
      ]
    },
    {
      "cell_type": "markdown",
      "metadata": {
        "id": "GEhkYdDopjmH"
      },
      "source": [
        "**Explicação:**\n",
        "\n",
        "- `DROP TABLE IF EXISTS`: Exclui a tabela pedidos, se ela existir, evitando erros caso a tabela não exista."
      ]
    },
    {
      "cell_type": "markdown",
      "metadata": {
        "id": "7GnM2koCpjmH"
      },
      "source": [
        "## `ALTER TABLE`"
      ]
    },
    {
      "cell_type": "markdown",
      "metadata": {
        "id": "k5tP-ndVpjmH"
      },
      "source": [
        "O comando ALTER TABLE permite modificar a estrutura de tabelas existentes. Com ele, podemos renomear tabelas, adicionar novas colunas e renomear colunas existentes."
      ]
    },
    {
      "cell_type": "markdown",
      "metadata": {
        "id": "ORD5it9qpjmH"
      },
      "source": [
        "**Exemplo**\n",
        "\n",
        "```sql\n",
        "--Renomear Tabela:\n",
        "ALTER TABLE clientes RENAME TO usuarios;\n",
        "\n",
        "--Adicionar Nova Coluna:\n",
        "ALTER TABLE usuarios ADD COLUMN telefone VARCHAR(20);\n",
        "\n",
        "--Renomear Coluna:\n",
        "ALTER TABLE usuarios RENAME COLUMN nome TO nome_completo;\n",
        "```"
      ]
    },
    {
      "cell_type": "markdown",
      "metadata": {
        "id": "2UjCOncRpjmI"
      },
      "source": [
        "# Prática"
      ]
    },
    {
      "cell_type": "markdown",
      "metadata": {
        "id": "pBdGCLVdpjmI"
      },
      "source": [
        "Passos para Configurar um Banco de Dados PostgreSQL Local:\n",
        "\n",
        "### 1. Instalação do PostgreSQL:\n",
        "\n",
        "  - **Windows**:\n",
        "    Baixe o instalador do PostgreSQL adequado para o seu sistema operacional Windows no site oficial: PostgreSQL Download.\n",
        "    Siga o assistente de instalação para instalar o PostgreSQL. Durante a instalação, você pode configurar a senha do superusuário (postgres) e o diretório de instalação.\n",
        "\n",
        "    ```\n",
        "    cd C:\\Program Files\\PostgreSQL\\16\\bin\n",
        "    psql -h localhost -U postgres -d postgres```\n",
        "\n",
        "  - **MacOS**:\n",
        "    No MacOS, você pode usar o Homebrew para instalar o PostgreSQL. Abra o Terminal e execute os seguintes comandos:\n",
        "    ```bash\n",
        "    brew update\n",
        "    brew install postgresql\n",
        "    ```\n",
        "\n",
        "    Siga as instruções após a instalação para iniciar o PostgreSQL.\n",
        "  \n",
        "  - **Linux (Ubuntu)**:\n",
        "    No Ubuntu e distribuições baseadas em Debian, você pode instalar o PostgreSQL usando o apt-get:\n",
        "    ```bash\n",
        "    sudo apt-get update\n",
        "    sudo apt-get install postgresql postgresql-contrib\n",
        "    ```\n",
        "\n",
        "### 2. Iniciar o PostgreSQL:\n",
        "\n",
        "  - **Windows**:\n",
        "    Após a instalação, você pode iniciar o PostgreSQL usando o menu Iniciar. Procure por \"pgAdmin\" ou \"PostgreSQL\" e inicie o \"pgAdmin\" ou o serviço do PostgreSQL.\n",
        "\n",
        "  - **MacOS**:\n",
        "    O PostgreSQL deve ser iniciado automaticamente após a instalação. Para verificar se está em execução, você pode usar:\n",
        "    ```bash\n",
        "    brew services list\n",
        "    ```\n",
        "    Para iniciar manualmente, se necessário:\n",
        "    ```bash\n",
        "    brew services start postgresql\n",
        "    ```\n",
        "\n",
        "  - **Linux (Ubuntu)**:\n",
        "    O PostgreSQL deve iniciar automaticamente após a instalação. Para verificar o status:\n",
        "    ```bash\n",
        "    sudo service postgresql status\n",
        "    ```\n",
        "    Se não estiver em execução, você pode iniciar manualmente:\n",
        "    ```bash\n",
        "    sudo service postgresql start\n",
        "    ```\n",
        "\n",
        "### 3. Acesso ao PostgreSQL:\n",
        "\n",
        "  - **Console psql**:\n",
        "    No terminal, você pode acessar o PostgreSQL usando o utilitário psql:\n",
        "    ```bash\n",
        "    sudo -u postgres psql\n",
        "    ```\n",
        "    Isso o conectará ao PostgreSQL como o usuário padrão postgres. Você pode criar novos usuários e bancos de dados a partir daqui.\n",
        "\n",
        "  - **pgAdmin (Interface Gráfica)**:\n",
        "    O pgAdmin é uma interface gráfica útil para administrar bancos de dados PostgreSQL. Após a instalação, você pode abrir o pgAdmin e se conectar ao servidor local PostgreSQL.\n",
        "\n",
        "### 4. Criar um Banco de Dados e Executar Queries:\n",
        "\n",
        "  - **No Console psql**:\n",
        "    Após conectar-se ao PostgreSQL, você pode criar um novo banco de dados e começar a executar suas queries SQL:\n",
        "    ```sql\n",
        "    CREATE DATABASE nome_do_banco;\n",
        "    \\c nome_do_banco\n",
        "    CREATE TABLE exemplo (\n",
        "        id SERIAL PRIMARY KEY,\n",
        "        nome VARCHAR(100)\n",
        "    );\n",
        "    INSERT INTO exemplo (nome) VALUES ('Exemplo de dado');\n",
        "    SELECT * FROM exemplo;\n",
        "    ```\n",
        "\n",
        "  - **Usando pgAdmin**:\n",
        "    Abra o pgAdmin, conecte-se ao servidor local PostgreSQL e navegue para criar um novo banco de dados. Você pode então executar consultas SQL usando a interface gráfica.\n",
        "\n",
        "### 5. Finalizando:\n",
        "- Ao terminar de usar o PostgreSQL, você pode desligar o serviço no MacOS ou Linux usando brew services stop postgresql ou sudo service postgresql stop.\n",
        "- No Windows, você pode parar o serviço através do Gerenciador de Tarefas ou pelo menu Iniciar."
      ]
    },
    {
      "cell_type": "code",
      "execution_count": 1,
      "metadata": {
        "colab": {
          "base_uri": "https://localhost:8080/"
        },
        "id": "aFcos7hKpjmI",
        "outputId": "33693e0f-9c68-4aac-f76a-8e3ad0eabd89"
      },
      "outputs": [
        {
          "name": "stdout",
          "output_type": "stream",
          "text": [
            "Requirement already satisfied: psycopg2 in c:\\python310\\lib\\site-packages (2.9.9)\n",
            "Note: you may need to restart the kernel to use updated packages.\n"
          ]
        },
        {
          "name": "stderr",
          "output_type": "stream",
          "text": [
            "WARNING: Ignoring invalid distribution -ip (c:\\python310\\lib\\site-packages)\n",
            "WARNING: Error parsing dependencies of textract: .* suffix can only be used with `==` or `!=` operators\n",
            "    extract-msg (<=0.29.*)\n",
            "                 ~~~~~~~^\n",
            "WARNING: Ignoring invalid distribution -ip (c:\\python310\\lib\\site-packages)\n"
          ]
        }
      ],
      "source": [
        "%pip install psycopg2\n",
        "#ou!conda install psycopg2"
      ]
    },
    {
      "cell_type": "code",
      "execution_count": 2,
      "metadata": {
        "id": "53hbC1pkpjmJ"
      },
      "outputs": [],
      "source": [
        "# Importando a biblioteca psycopg2 para conectar com o PostgreSQL\n",
        "import psycopg2"
      ]
    },
    {
      "cell_type": "code",
      "execution_count": 3,
      "metadata": {
        "colab": {
          "base_uri": "https://localhost:8080/",
          "height": 384
        },
        "id": "0UdHA3DnpjmJ",
        "outputId": "e6a47b5a-5dba-45e5-effc-2851e962864f"
      },
      "outputs": [],
      "source": [
        "# Conectando ao banco de dados PostgreSQL\n",
        "\n",
        "conn = psycopg2.connect(\n",
        "    dbname=\"postgres\",\n",
        "    user=\"postgres\",\n",
        "    password=\"abKat2354@\",\n",
        "    host=\"localhost\"\n",
        ")\n",
        "cur = conn.cursor()"
      ]
    },
    {
      "cell_type": "code",
      "execution_count": null,
      "metadata": {
        "id": "MwbVXn5vpjmJ"
      },
      "outputs": [],
      "source": [
        "# 1. Criação de Tabelas\n",
        "\n",
        "# a. Introdução ao comando CREATE TABLE para criar novas tabelas em um banco de dados.\n",
        "print(\"Criando a tabela 'clientes'...\")\n",
        "\n",
        "# b. Exploração dos tipos de dados disponíveis para definir os atributos das colunas.\n",
        "create_table_query = '''\n",
        "CREATE TABLE clientes (\n",
        "    id SERIAL PRIMARY KEY,\n",
        "    nome VARCHAR(100),\n",
        "    email VARCHAR(100) UNIQUE,\n",
        "    data_nascimento DATE\n",
        ");\n",
        "'''\n",
        "\n",
        "cur.execute(create_table_query)\n",
        "conn.commit()\n",
        "print(\"Tabela 'clientes' criada com sucesso!\")"
      ]
    },
    {
      "cell_type": "code",
      "execution_count": null,
      "metadata": {
        "id": "Uydi8TjQpjmJ"
      },
      "outputs": [],
      "source": [
        "# c. Discussão sobre chaves estrangeiras (foreign keys) e como estabelecer relacionamentos entre tabelas.\n",
        "print(\"Criando a tabela 'pedidos' com chave estrangeira...\")\n",
        "\n",
        "create_table_query = '''\n",
        "CREATE TABLE pedidos (\n",
        "    id SERIAL PRIMARY KEY,\n",
        "    cliente_id INTEGER REFERENCES clientes(id),\n",
        "    data_pedido DATE,\n",
        "    total NUMERIC(10, 2)\n",
        ");\n",
        "'''\n",
        "\n",
        "# Executando o comando para criar a tabela com chave estrangeira\n",
        "cur.execute(create_table_query)\n",
        "conn.commit()\n",
        "print(\"Tabela 'pedidos' criada com sucesso!\")"
      ]
    },
    {
      "cell_type": "code",
      "execution_count": null,
      "metadata": {
        "id": "y2_b4iUvpjmK"
      },
      "outputs": [],
      "source": [
        "# d. Demonstração do comando DROP TABLE para excluir tabelas existentes.\n",
        "print(\"Excluindo a tabela 'pedidos'...\")\n",
        "\n",
        "drop_table_query = '''\n",
        "DROP TABLE IF EXISTS pedidos;\n",
        "'''\n",
        "\n",
        "# Executando o comando para excluir a tabela\n",
        "cur.execute(drop_table_query)\n",
        "conn.commit()\n",
        "print(\"Tabela 'pedidos' excluída com sucesso!\")"
      ]
    },
    {
      "cell_type": "code",
      "execution_count": null,
      "metadata": {
        "id": "GLz7OBs5pjmK"
      },
      "outputs": [],
      "source": [
        "# 2. Alterando Tabelas\n",
        "\n",
        "# a. Explicação sobre como alterar a estrutura de tabelas existentes usando o comando ALTER TABLE.\n",
        "print(\"Adicionando coluna 'telefone' na tabela 'clientes'...\")\n",
        "\n",
        "# b. Demonstração dos subcomandos RENAME, ADD COLUMN e RENAME COLUMN para renomear tabelas, adicionar novas colunas e renomear colunas existentes.\n",
        "alter_table_query = '''\n",
        "ALTER TABLE clientes ADD COLUMN telefone VARCHAR(20);\n",
        "'''\n",
        "\n",
        "# Executando o comando para adicionar uma nova coluna\n",
        "cur.execute(alter_table_query)\n",
        "conn.commit()\n",
        "print(\"Coluna 'telefone' adicionada com sucesso!\")"
      ]
    },
    {
      "cell_type": "code",
      "execution_count": null,
      "metadata": {
        "id": "a7dbyB-ApjmK"
      },
      "outputs": [],
      "source": [
        "print(\"Renomeando coluna 'nome' para 'nome_completo' na tabela 'clientes'...\")\n",
        "\n",
        "rename_column_query = '''\n",
        "ALTER TABLE clientes RENAME COLUMN nome TO nome_completo;\n",
        "'''\n",
        "\n",
        "# Executando o comando para renomear a coluna\n",
        "cur.execute(rename_column_query)\n",
        "conn.commit()\n",
        "print(\"Coluna 'nome' renomeada para 'nome_completo' com sucesso!\")"
      ]
    },
    {
      "cell_type": "code",
      "execution_count": null,
      "metadata": {
        "id": "9Tu6A-6spjmK"
      },
      "outputs": [],
      "source": [
        "# 3. Atividade Prática em Aula\n",
        "\n",
        "# a. Proposição de uma atividade prática para os alunos:\n",
        "\n",
        "# i. Criar tabelas no PostgreSQL conforme o modelo conceitual e lógico desenvolvido anteriormente na aula.\n",
        "print(\"Criando tabela 'produtos' para atividade prática...\")\n",
        "\n",
        "create_table_query = '''\n",
        "CREATE TABLE produtos (\n",
        "    id SERIAL PRIMARY KEY,\n",
        "    nome VARCHAR(255),\n",
        "    preco NUMERIC(10, 2),\n",
        "    quantidade INTEGER,\n",
        "    disponivel BOOLEAN DEFAULT TRUE\n",
        ");\n",
        "'''\n",
        "\n",
        "# Executando o comando para criar a tabela\n",
        "cur.execute(create_table_query)\n",
        "conn.commit()\n",
        "print(\"Tabela 'produtos' criada com sucesso!\")\n",
        "\n",
        "# ii. Utilizar o comando ALTER TABLE para fazer alterações nas tabelas, como renomear uma tabela, adicionar uma nova coluna e renomear uma coluna existente.\n",
        "print(\"Adicionando coluna 'descricao' na tabela 'produtos'...\")\n",
        "\n",
        "alter_table_query = '''\n",
        "ALTER TABLE produtos ADD COLUMN descricao TEXT;\n",
        "'''\n",
        "\n",
        "# Executando o comando para adicionar uma nova coluna\n",
        "cur.execute(alter_table_query)\n",
        "conn.commit()\n",
        "print(\"Coluna 'descricao' adicionada com sucesso!\")\n",
        "\n",
        "# iii. Praticar o uso do comando DROP TABLE para excluir as tabelas criadas após a conclusão da atividade.\n",
        "print(\"Excluindo a tabela 'produtos'...\")\n",
        "\n",
        "drop_table_query = '''\n",
        "DROP TABLE IF EXISTS produtos;\n",
        "'''\n",
        "\n",
        "# Executando o comando para excluir a tabela\n",
        "cur.execute(drop_table_query)\n",
        "conn.commit()\n",
        "print(\"Tabela 'produtos' excluída com sucesso!\")\n",
        "\n"
      ]
    },
    {
      "cell_type": "code",
      "execution_count": null,
      "metadata": {},
      "outputs": [],
      "source": [
        "# Fechando a conexão com o banco de dados\n",
        "cur.close()\n",
        "conn.close()\n",
        "print(\"Conexão com o banco de dados fechada.\")"
      ]
    }
  ],
  "metadata": {
    "colab": {
      "provenance": []
    },
    "kernelspec": {
      "display_name": "base",
      "language": "python",
      "name": "python3"
    },
    "language_info": {
      "codemirror_mode": {
        "name": "ipython",
        "version": 3
      },
      "file_extension": ".py",
      "mimetype": "text/x-python",
      "name": "python",
      "nbconvert_exporter": "python",
      "pygments_lexer": "ipython3",
      "version": "3.10.11"
    }
  },
  "nbformat": 4,
  "nbformat_minor": 0
}
