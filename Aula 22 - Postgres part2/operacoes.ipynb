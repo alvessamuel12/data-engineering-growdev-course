{
  "cells": [
    {
      "cell_type": "markdown",
      "metadata": {
        "id": "9CsOoug2kzp4"
      },
      "source": [
        "![Growdev](https://www.growdev.com.br/assets/images/logo_growdev.png)"
      ]
    },
    {
      "cell_type": "markdown",
      "metadata": {
        "id": "Sb7jGTsYkzp6"
      },
      "source": [
        "![Formação Engenharia de Dados](https://d335luupugsy2.cloudfront.net/cms/files/524558/1707226566/$occu5m8t1op)"
      ]
    },
    {
      "cell_type": "markdown",
      "metadata": {
        "id": "QQf_OLw_kzp7"
      },
      "source": [
        "# Tópicos da Aula de Hoje"
      ]
    },
    {
      "cell_type": "markdown",
      "metadata": {
        "id": "hLORZvAFkzp7"
      },
      "source": [
        "- Inserindo Dados\n",
        "- Atualização e Exclusão de Registros\n",
        "- Prática"
      ]
    },
    {
      "cell_type": "markdown",
      "metadata": {
        "id": "Fe47qeUakzp8"
      },
      "source": [
        "**Bora pra aula?**"
      ]
    },
    {
      "cell_type": "markdown",
      "metadata": {
        "id": "G8H0lzULkzp8"
      },
      "source": [
        "# Passos para Configurar um Banco de Dados PostgreSQL Local:"
      ]
    },
    {
      "cell_type": "markdown",
      "metadata": {
        "id": "8g2pEk4Nkzp8"
      },
      "source": [
        "Passos para Configurar um Banco de Dados PostgreSQL Local:\n",
        "\n",
        "### 1. Instalação do PostgreSQL:\n",
        "\n",
        "  - **Windows**:\n",
        "    Baixe o instalador do PostgreSQL adequado para o seu sistema operacional Windows no site oficial: PostgreSQL Download.\n",
        "    Siga o assistente de instalação para instalar o PostgreSQL. Durante a instalação, você pode configurar a senha do superusuário (postgres) e o diretório de instalação.\n",
        "\n",
        "  - **MacOS**:\n",
        "    No MacOS, você pode usar o Homebrew para instalar o PostgreSQL. Abra o Terminal e execute os seguintes comandos:\n",
        "    ```bash\n",
        "    brew update\n",
        "    brew install postgresql\n",
        "    ```\n",
        "\n",
        "    Siga as instruções após a instalação para iniciar o PostgreSQL.\n",
        "  \n",
        "  - **Linux (Ubuntu)**:\n",
        "    No Ubuntu e distribuições baseadas em Debian, você pode instalar o PostgreSQL usando o apt-get:\n",
        "    ```bash\n",
        "    sudo apt-get update\n",
        "    sudo apt-get install postgresql postgresql-contrib\n",
        "    ```\n",
        "\n",
        "### 2. Iniciar o PostgreSQL:\n",
        "\n",
        "  - **Windows**:\n",
        "    Após a instalação, você pode iniciar o PostgreSQL usando o menu Iniciar. Procure por \"pgAdmin\" ou \"PostgreSQL\" e inicie o \"pgAdmin\" ou o serviço do PostgreSQL.\n",
        "\n",
        "  - **MacOS**:\n",
        "    O PostgreSQL deve ser iniciado automaticamente após a instalação. Para verificar se está em execução, você pode usar:\n",
        "    ```bash\n",
        "    brew services list\n",
        "    ```\n",
        "    Para iniciar manualmente, se necessário:\n",
        "    ```bash\n",
        "    brew services start postgresql\n",
        "    ```\n",
        "\n",
        "  - **Linux (Ubuntu)**:\n",
        "    O PostgreSQL deve iniciar automaticamente após a instalação. Para verificar o status:\n",
        "    ```bash\n",
        "    sudo service postgresql status\n",
        "    ```\n",
        "    Se não estiver em execução, você pode iniciar manualmente:\n",
        "    ```bash\n",
        "    sudo service postgresql start\n",
        "    ```\n",
        "\n",
        "### 3. Acesso ao PostgreSQL:\n",
        "\n",
        "  - **Console psql**:\n",
        "    No terminal, você pode acessar o PostgreSQL usando o utilitário psql:\n",
        "    ```bash\n",
        "    sudo -u postgres psql\n",
        "    ```\n",
        "    Isso o conectará ao PostgreSQL como o usuário padrão postgres. Você pode criar novos usuários e bancos de dados a partir daqui.\n",
        "\n",
        "  - **pgAdmin (Interface Gráfica)**:\n",
        "    O pgAdmin é uma interface gráfica útil para administrar bancos de dados PostgreSQL. Após a instalação, você pode abrir o pgAdmin e se conectar ao servidor local PostgreSQL.\n",
        "\n",
        "### 4. Criar um Banco de Dados e Executar Queries:\n",
        "\n",
        "  - **No Console psql**:\n",
        "    Após conectar-se ao PostgreSQL, você pode criar um novo banco de dados e começar a executar suas queries SQL:\n",
        "    ```sql\n",
        "    CREATE DATABASE nome_do_banco;\n",
        "    \\c nome_do_banco\n",
        "    CREATE TABLE exemplo (\n",
        "        id SERIAL PRIMARY KEY,\n",
        "        nome VARCHAR(100)\n",
        "    );\n",
        "    INSERT INTO exemplo (nome) VALUES ('Exemplo de dado');\n",
        "    SELECT * FROM exemplo;\n",
        "    ```\n",
        "\n",
        "  - **Usando pgAdmin**:\n",
        "    Abra o pgAdmin, conecte-se ao servidor local PostgreSQL e navegue para criar um novo banco de dados. Você pode então executar consultas SQL usando a interface gráfica.\n",
        "\n",
        "### 5. Finalizando:\n",
        "- Ao terminar de usar o PostgreSQL, você pode desligar o serviço no MacOS ou Linux usando brew services stop postgresql ou sudo service postgresql stop.\n",
        "- No Windows, você pode parar o serviço através do Gerenciador de Tarefas ou pelo menu Iniciar."
      ]
    },
    {
      "cell_type": "markdown",
      "metadata": {
        "id": "G8Cv5xWXkzp9"
      },
      "source": [
        "# Inserindo Dados"
      ]
    },
    {
      "cell_type": "markdown",
      "metadata": {
        "id": "Eh9QB6zykzp9"
      },
      "source": [
        "O comando `INSERT INTO` é usado para inserir novos registros em uma tabela existente no banco de dados. Ele é fundamental para adicionar novos dados a uma tabela."
      ]
    },
    {
      "cell_type": "markdown",
      "metadata": {
        "id": "djg4ZD11kzp9"
      },
      "source": [
        "**Exemplo**<br>\n",
        "Inserindo uma única linha de dados na tabela."
      ]
    },
    {
      "cell_type": "code",
      "execution_count": null,
      "metadata": {
        "id": "cLKbfXFVkzp9"
      },
      "outputs": [],
      "source": [
        "import psycopg2\n",
        "\n",
        "# Conectar ao banco de dados PostgreSQL\n",
        "conn = psycopg2.connect(\n",
        "    host=\"localhost\",\n",
        "    database=\"postgres\",\n",
        "    user=\"postgres\",\n",
        "    password=\"abKat2354@\"\n",
        ")"
      ]
    },
    {
      "cell_type": "code",
      "execution_count": null,
      "metadata": {
        "id": "SnimIVvAkzp_"
      },
      "outputs": [],
      "source": [
        "# Abrir um cursor para executar operações no banco de dados\n",
        "cur = conn.cursor()"
      ]
    },
    {
      "cell_type": "code",
      "execution_count": null,
      "metadata": {},
      "outputs": [],
      "source": [
        "print(\"Criando a tabela 'tabela_exemplo'...\")\n",
        "\n",
        "# b. Exploração dos tipos de dados disponíveis para definir os atributos das colunas.\n",
        "create_table_query = '''\n",
        "CREATE TABLE tabela_exemplo (\n",
        "    id SERIAL PRIMARY KEY,\n",
        "    nome VARCHAR(100),\n",
        "    idade INTEGER\n",
        ");\n",
        "'''\n",
        "\n",
        "cur.execute(create_table_query)\n",
        "conn.commit()\n",
        "print(\"Tabela 'tabela_exemplo' criada com sucesso!\")"
      ]
    },
    {
      "cell_type": "code",
      "execution_count": null,
      "metadata": {
        "id": "FkTC6Cugkzp_"
      },
      "outputs": [],
      "source": [
        "# Comando SQL para inserir uma única linha de dados\n",
        "insert_query = \"\"\"\n",
        "INSERT INTO tabela_exemplo (id, nome, idade)\n",
        "VALUES (1, 'João', 30);\n",
        "\"\"\""
      ]
    },
    {
      "cell_type": "code",
      "execution_count": null,
      "metadata": {
        "id": "qonGyIwJkzp_"
      },
      "outputs": [],
      "source": [
        "# Executar o comando SQL\n",
        "cur.execute(insert_query)"
      ]
    },
    {
      "cell_type": "code",
      "execution_count": null,
      "metadata": {
        "id": "yXUeS1OQkzqA"
      },
      "outputs": [],
      "source": [
        "# Commit para efetivar a transação\n",
        "conn.commit()\n",
        "print(\"Inserção realizada com sucesso!\")"
      ]
    },
    {
      "cell_type": "markdown",
      "metadata": {
        "id": "HNhnpwFPkzqA"
      },
      "source": [
        "**Exemplo**<br>\n",
        "Inserindo várias linhas de dados de uma vez usando executemany."
      ]
    },
    {
      "cell_type": "code",
      "execution_count": null,
      "metadata": {
        "id": "HSqlBdgIkzqA"
      },
      "outputs": [],
      "source": [
        "# Dados a serem inseridos\n",
        "dados = [\n",
        "    (2, 'Maria', 25),\n",
        "    (3, 'José', 28),\n",
        "    (4, 'Ana', 22)\n",
        "]"
      ]
    },
    {
      "cell_type": "code",
      "execution_count": null,
      "metadata": {
        "id": "xWU0L8lCkzqA"
      },
      "outputs": [],
      "source": [
        "# Comando SQL para inserção de múltiplas linhas\n",
        "insert_multi_query = \"\"\"\n",
        "INSERT INTO tabela_exemplo (id, nome, idade)\n",
        "VALUES (%s, %s, %s);\n",
        "\"\"\""
      ]
    },
    {
      "cell_type": "code",
      "execution_count": null,
      "metadata": {
        "id": "duNXCgG3kzqB"
      },
      "outputs": [],
      "source": [
        "# Executar o comando SQL para cada linha de dados\n",
        "cur.executemany(insert_multi_query, dados)"
      ]
    },
    {
      "cell_type": "code",
      "execution_count": null,
      "metadata": {
        "id": "nSB85n5akzqB"
      },
      "outputs": [],
      "source": [
        "# Commit para efetivar as transações\n",
        "conn.commit()\n",
        "print(\"Inserção de múltiplas linhas realizada com sucesso!\")"
      ]
    },
    {
      "cell_type": "markdown",
      "metadata": {
        "id": "Haaphem2kzqB"
      },
      "source": [
        "# Atualizando e Excluindo Registros"
      ]
    },
    {
      "cell_type": "markdown",
      "metadata": {
        "id": "g8Vo-FvnkzqB"
      },
      "source": [
        "## `UPDATE`"
      ]
    },
    {
      "cell_type": "markdown",
      "metadata": {
        "id": "odM1mwG7kzqC"
      },
      "source": [
        "O comando `UPDATE` é utilizado para modificar registros existentes em uma tabela."
      ]
    },
    {
      "cell_type": "code",
      "execution_count": null,
      "metadata": {
        "id": "cK6RLo5fkzqC"
      },
      "outputs": [],
      "source": [
        "# Comando SQL para atualização\n",
        "update_query = \"\"\"\n",
        "UPDATE tabela_exemplo\n",
        "SET idade = 32\n",
        "WHERE nome = 'Maria';\n",
        "\"\"\""
      ]
    },
    {
      "cell_type": "code",
      "execution_count": null,
      "metadata": {
        "id": "WHwFl30ikzqC"
      },
      "outputs": [],
      "source": [
        "# Executar o comando SQL\n",
        "cur.execute(update_query)"
      ]
    },
    {
      "cell_type": "code",
      "execution_count": null,
      "metadata": {
        "id": "TFMwl7z9kzqC"
      },
      "outputs": [],
      "source": [
        "# Commit para efetivar a transação\n",
        "conn.commit()\n",
        "print(\"Atualização realizada com sucesso!\")"
      ]
    },
    {
      "cell_type": "markdown",
      "metadata": {
        "id": "4axshuqYkzqC"
      },
      "source": [
        "## `DELETE`"
      ]
    },
    {
      "cell_type": "markdown",
      "metadata": {
        "id": "Anj4vIJWkzqC"
      },
      "source": [
        "O comando `DELETE FROM` é usado para excluir registros de uma tabela."
      ]
    },
    {
      "cell_type": "code",
      "execution_count": null,
      "metadata": {
        "id": "xRbI_n05kzqD"
      },
      "outputs": [],
      "source": [
        "# Comando SQL para exclusão\n",
        "delete_query = \"\"\"\n",
        "DELETE FROM tabela_exemplo\n",
        "WHERE nome = 'José';\n",
        "\"\"\""
      ]
    },
    {
      "cell_type": "code",
      "execution_count": null,
      "metadata": {
        "id": "tkcpAPNokzqD"
      },
      "outputs": [],
      "source": [
        "# Executar o comando SQL\n",
        "cur.execute(delete_query)"
      ]
    },
    {
      "cell_type": "code",
      "execution_count": null,
      "metadata": {
        "id": "l_V3pgFXkzqD"
      },
      "outputs": [],
      "source": [
        "# Commit para efetivar a transação\n",
        "conn.commit()\n",
        "print(\"Exclusão realizada com sucesso!\")"
      ]
    },
    {
      "cell_type": "markdown",
      "metadata": {
        "id": "pZ5mvuSukzqD"
      },
      "source": [
        "## `REPLACE INTO`"
      ]
    },
    {
      "cell_type": "markdown",
      "metadata": {
        "id": "Tr1BcBCukzqD"
      },
      "source": [
        "O comando `REPLACE INTO` pode ser usado como uma alternativa ao `INSERT INTO` para lidar com inserções condicionais. No PostgreSQL, podemos simular o comportamento do `REPLACE INTO` usando uma combinação de `INSERT` e `ON CONFLICT`."
      ]
    },
    {
      "cell_type": "code",
      "execution_count": null,
      "metadata": {
        "id": "Y8nTuu7DkzqD"
      },
      "outputs": [],
      "source": [
        "# Exemplo de REPLACE INTO usando INSERT com ON CONFLICT\n",
        "replace_query = \"\"\"\n",
        "INSERT INTO tabela_exemplo (id, nome, idade)\n",
        "VALUES (3, 'José', 30)\n",
        "ON CONFLICT (id) DO UPDATE\n",
        "SET idade = EXCLUDED.idade;\n",
        "\"\"\""
      ]
    },
    {
      "cell_type": "code",
      "execution_count": null,
      "metadata": {
        "id": "9hOVVkSakzqE"
      },
      "outputs": [],
      "source": [
        "# Executar o comando SQL\n",
        "cur.execute(replace_query)"
      ]
    },
    {
      "cell_type": "code",
      "execution_count": null,
      "metadata": {
        "id": "ktErPN8WkzqE"
      },
      "outputs": [],
      "source": [
        "# Commit para efetivar a transação\n",
        "conn.commit()\n",
        "print(\"Substituição realizada com sucesso!\")"
      ]
    },
    {
      "cell_type": "markdown",
      "metadata": {
        "id": "-QqLDDpakzqE"
      },
      "source": [
        "# Prática"
      ]
    },
    {
      "cell_type": "markdown",
      "metadata": {
        "id": "7zPuV5ptkzqE"
      },
      "source": [
        "i.\tCriar uma tabela DB-delegacia para praticar os comandos aprendidos nesta aula.<br>\n",
        "ii.\tInserir registros/dados na tabela para popular com informações relevantes.<br>\n",
        "iii.\tExecutar comandos UPDATE, DELETE e REPLACE para modificar e remover registros conforme necessidade."
      ]
    },
    {
      "cell_type": "code",
      "execution_count": 1,
      "metadata": {
        "id": "3Km0pcbdkzqE"
      },
      "outputs": [],
      "source": [
        "import psycopg2\n",
        "\n",
        "conn = psycopg2.connect(\n",
        "            host=\"localhost\",\n",
        "            database=\"postgres\",\n",
        "            user=\"postgres\",\n",
        "            password=\"abKat2354@\"\n",
        "        )\n",
        "\n",
        "cur = conn.cursor()"
      ]
    },
    {
      "cell_type": "markdown",
      "metadata": {
        "id": "xq2IkOdpkzqJ"
      },
      "source": [
        "cur = conn.cursor()"
      ]
    },
    {
      "cell_type": "code",
      "execution_count": 2,
      "metadata": {
        "id": "ji2QGgrnkzqJ"
      },
      "outputs": [],
      "source": [
        "create_table_query = '''\n",
        "CREATE TABLE DB_Delegacia (\n",
        "    id SERIAL PRIMARY KEY,\n",
        "    endereco VARCHAR(255),\n",
        "    tipo VARCHAR(100)\n",
        ");\n",
        "'''"
      ]
    },
    {
      "cell_type": "code",
      "execution_count": 3,
      "metadata": {
        "id": "Jxgml90AkzqJ"
      },
      "outputs": [
        {
          "name": "stdout",
          "output_type": "stream",
          "text": [
            "Tabela DB_Delegacia criada com sucesso.\n"
          ]
        }
      ],
      "source": [
        "cur.execute(create_table_query)\n",
        "conn.commit()\n",
        "print(\"Tabela DB_Delegacia criada com sucesso.\")\n",
        "cur.close()"
      ]
    },
    {
      "cell_type": "code",
      "execution_count": 4,
      "metadata": {
        "id": "6hDF3BHHkzqJ"
      },
      "outputs": [],
      "source": [
        "cur = conn.cursor()\n",
        "dados_delegacia = [\n",
        "    ('Rua A, 123', 'Antissequestro'),\n",
        "    ('Av. B, 456', 'Homicídios'),\n",
        "    ('Rua C, 789', 'Mulher')\n",
        "]"
      ]
    },
    {
      "cell_type": "code",
      "execution_count": 5,
      "metadata": {
        "id": "rZdZNAnGkzqK"
      },
      "outputs": [],
      "source": [
        "insert_query = '''\n",
        "INSERT INTO DB_Delegacia (endereco, tipo)\n",
        "VALUES (%s, %s);\n",
        "'''"
      ]
    },
    {
      "cell_type": "code",
      "execution_count": 6,
      "metadata": {
        "id": "bzvwqYdvkzqK"
      },
      "outputs": [
        {
          "name": "stdout",
          "output_type": "stream",
          "text": [
            "Dados inseridos na tabela DB_Delegacia com sucesso.\n"
          ]
        }
      ],
      "source": [
        "cur.executemany(insert_query, dados_delegacia)\n",
        "conn.commit()\n",
        "print(\"Dados inseridos na tabela DB_Delegacia com sucesso.\")\n",
        "cur.close()"
      ]
    },
    {
      "cell_type": "code",
      "execution_count": 7,
      "metadata": {},
      "outputs": [],
      "source": [
        "cur = conn.cursor()\n",
        "add_phone_on_table_query = '''\n",
        "ALTER TABLE DB_Delegacia\n",
        "ADD COLUMN telefone VARCHAR(20);\n",
        "'''\n",
        "cur.execute(add_phone_on_table_query)\n",
        "conn.commit()\n",
        "cur.close()"
      ]
    },
    {
      "cell_type": "code",
      "execution_count": 8,
      "metadata": {},
      "outputs": [],
      "source": [
        "cur = conn.cursor()\n",
        "update_phone = '''\n",
        "INSERT INTO DB_Delegacia (id, endereco, tipo, telefone)\n",
        "VALUES (1, 'Rua A, 123', 'Antissequestro', 246)\n",
        "ON CONFLICT (id) DO UPDATE\n",
        "SET tipo = EXCLUDED.tipo;\n",
        "'''\n",
        "\n",
        "cur.execute(update_phone)\n",
        "conn.commit()\n",
        "cur.close()"
      ]
    },
    {
      "cell_type": "code",
      "execution_count": 9,
      "metadata": {},
      "outputs": [],
      "source": [
        "conn.close()"
      ]
    }
  ],
  "metadata": {
    "colab": {
      "provenance": []
    },
    "kernelspec": {
      "display_name": "base",
      "language": "python",
      "name": "python3"
    },
    "language_info": {
      "codemirror_mode": {
        "name": "ipython",
        "version": 3
      },
      "file_extension": ".py",
      "mimetype": "text/x-python",
      "name": "python",
      "nbconvert_exporter": "python",
      "pygments_lexer": "ipython3",
      "version": "3.10.11"
    }
  },
  "nbformat": 4,
  "nbformat_minor": 0
}
